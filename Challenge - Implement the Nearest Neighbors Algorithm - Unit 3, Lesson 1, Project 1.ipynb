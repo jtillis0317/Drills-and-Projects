{
 "cells": [
  {
   "cell_type": "code",
   "execution_count": 29,
   "metadata": {},
   "outputs": [],
   "source": [
    "import numpy as np\n",
    "import pandas as pd\n",
    "import scipy\n",
    "import matplotlib.pyplot as plt\n",
    "%matplotlib inline\n",
    "import math"
   ]
  },
  {
   "cell_type": "code",
   "execution_count": 3,
   "metadata": {},
   "outputs": [],
   "source": [
    "music = pd.DataFrame()\n",
    "\n",
    "music[\"duration\"] = [184, 134, 243, 186, 122, 197, 294, 382, 102, 264, \n",
    "                     205, 110, 307, 110, 397, 153, 190, 192, 210, 403,\n",
    "                     164, 198, 204, 253, 234, 190, 182, 401, 376, 102]\n",
    "music['loudness'] = [18, 34, 43, 36, 22, 9, 29, 22, 10, 24, \n",
    "                     20, 10, 17, 51, 7, 13, 19, 12, 21, 22,\n",
    "                     16, 18, 4, 23, 34, 19, 14, 11, 37, 42]\n",
    "music[\"jazz\"] = [ 1, 0, 0, 0, 1, 1, 0, 1, 1, 0,\n",
    "                  0, 1, 1, 0, 1, 1, 0, 1, 1, 1,\n",
    "                  1, 1, 1, 1, 0, 0, 1, 1, 0, 0]"
   ]
  },
  {
   "cell_type": "markdown",
   "metadata": {},
   "source": [
    "i need the function to find a certain number of the closest points to the x and y values that are inputted into this function.\n",
    "\n",
    "1. select k closest points where the distance is closest to the input point, and distance is calculated by distance formula\n",
    "2. pull the music type of those points selected into a list\n",
    "3. calculate the probability of both categories and determine the higher probability"
   ]
  },
  {
   "cell_type": "code",
   "execution_count": 51,
   "metadata": {},
   "outputs": [],
   "source": [
    "def neighbors(x, y, k):\n",
    "    distance = []\n",
    "    jazz = []\n",
    "    for i in range(30):\n",
    "        distance.append(math.sqrt((x - music.iloc[i][\"duration\"]) **2 + (y - music.iloc[i][\"loudness\"]) **2))\n",
    "        jazz.append(music.iloc[i][\"jazz\"])\n",
    "    neighbors = sorted(np.c_[distance, jazz], key=lambda x: x[0])[:k]\n",
    "    neighbors_list = list(np.concatenate(neighbors, axis=0))\n",
    "    rock = neighbors_list.count(0)\n",
    "    jazz = neighbors_list.count(1)\n",
    "    if jazz > rock:\n",
    "        return \"jazz, \", jazz/k\n",
    "    elif rock > jazz:\n",
    "        return \"rock, \", rock/k\n",
    "    "
   ]
  },
  {
   "cell_type": "code",
   "execution_count": 54,
   "metadata": {},
   "outputs": [
    {
     "data": {
      "text/plain": [
       "('rock, ', 0.75)"
      ]
     },
     "execution_count": 54,
     "metadata": {},
     "output_type": "execute_result"
    }
   ],
   "source": [
    "neighbors(195.2, 32.3, 4)"
   ]
  },
  {
   "cell_type": "code",
   "execution_count": null,
   "metadata": {},
   "outputs": [],
   "source": []
  }
 ],
 "metadata": {
  "kernelspec": {
   "display_name": "Python 3",
   "language": "python",
   "name": "python3"
  },
  "language_info": {
   "codemirror_mode": {
    "name": "ipython",
    "version": 3
   },
   "file_extension": ".py",
   "mimetype": "text/x-python",
   "name": "python",
   "nbconvert_exporter": "python",
   "pygments_lexer": "ipython3",
   "version": "3.6.5"
  }
 },
 "nbformat": 4,
 "nbformat_minor": 2
}
