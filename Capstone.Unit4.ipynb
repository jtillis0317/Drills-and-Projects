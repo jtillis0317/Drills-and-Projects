{
 "cells": [
  {
   "cell_type": "code",
   "execution_count": 124,
   "metadata": {},
   "outputs": [],
   "source": [
    "import numpy as np\n",
    "import pandas as pd\n",
    "import matplotlib.pyplot as plt\n",
    "import matplotlib.ticker as ticker\n",
    "%matplotlib inline"
   ]
  },
  {
   "cell_type": "code",
   "execution_count": 39,
   "metadata": {},
   "outputs": [],
   "source": [
    "df = pd.read_csv(\"Accidental_Drug_Related_Deaths__2012-2017.csv\")"
   ]
  },
  {
   "cell_type": "code",
   "execution_count": 40,
   "metadata": {},
   "outputs": [
    {
     "name": "stdout",
     "output_type": "stream",
     "text": [
      "<bound method NDFrame.head of      CaseNumber        Date     Sex             Race   Age Residence City  \\\n",
      "0       14-9876  06/28/2014     NaN              NaN   NaN            NaN   \n",
      "1      12-16897  11/30/2012    Male            White  45.0            NaN   \n",
      "2      13-11849  08/12/2013    Male            White  30.0      NEW HAVEN   \n",
      "3      14-17578  11/23/2014    Male            White  27.0      NAUGATUCK   \n",
      "4      12-11497  08/14/2012    Male            White  21.0        ENFIELD   \n",
      "5       13-2133  02/04/2013    Male            White  25.0        POMFRET   \n",
      "6      14-14353  09/24/2014    Male            White  67.0      NEW HAVEN   \n",
      "7      12-13673  09/30/2012  Female  Hispanic, White  32.0     MIDDLETOWN   \n",
      "8       15-3929  03/02/2015    Male  Hispanic, White  61.0     BRIDGEPORT   \n",
      "9      13-14184  09/30/2013    Male            White  37.0     EAST HAVEN   \n",
      "10      15-7860  05/09/2015    Male            White  59.0        BRISTOL   \n",
      "11       14-565  01/10/2014    Male            White  22.0        WINDHAM   \n",
      "12      15-8737  05/24/2015    Male            White  38.0      SALISBURY   \n",
      "13     13-15927  11/02/2013    Male            White  40.0     TORRINGTON   \n",
      "14     12-12055  08/27/2012    Male  Hispanic, White  71.0      NEW HAVEN   \n",
      "15      15-6790  04/19/2015  Female            White  54.0     FARMINGTON   \n",
      "16      14-7650  05/14/2014  Female            White  52.0        BRISTOL   \n",
      "17       13-297  01/06/2013    Male            Black  55.0        BRISTOL   \n",
      "18      13-6588  04/27/2013  Female            White  44.0        BRISTOL   \n",
      "19      15-4259  03/08/2015    Male            White  26.0     PLAINVILLE   \n",
      "20      15-7926  05/10/2015    Male            White  18.0        CLINTON   \n",
      "21      12-5279  04/09/2012    Male            White  36.0        BRISTOL   \n",
      "22      15-9425  06/05/2015    Male            White  53.0     WASHINGTON   \n",
      "23      15-9989  06/16/2015    Male            White  61.0        NORWALK   \n",
      "24     13-18646  12/21/2013    Male            White  29.0        NIANTIC   \n",
      "25     13-18762  12/23/2013    Male  Hispanic, White  48.0     BRIDGEPORT   \n",
      "26     13-10985  07/25/2013    Male            White  50.0    NEW BRITAIN   \n",
      "27      13-6885  05/03/2013  Female            White  49.0       HARTFORD   \n",
      "28      12-4338  03/21/2012  Female            White  26.0         HAMDEN   \n",
      "29     15-11397  07/12/2015    Male            White  53.0        DANBURY   \n",
      "...         ...         ...     ...              ...   ...            ...   \n",
      "4053    17-1002  12/23/2017    Male            White  32.0     TORRINGTON   \n",
      "4054    17-1034  12/31/2017    Male            White  37.0    NISSEQUOGUE   \n",
      "4055    17-1021  12/27/2017    Male            Black  26.0      WATERBURY   \n",
      "4056    17-1015  12/26/2017  Female            White  65.0        NORWICH   \n",
      "4057    17-1038  12/31/2017    Male            White  50.0     WEST HAVEN   \n",
      "4058    17-1036  12/31/2017    Male            White  26.0    BRIDGEWATER   \n",
      "4059    17-1025  12/28/2017  Female            White  22.0       STAMFORD   \n",
      "4060    17-1032  12/30/2017    Male            White  30.0       COVENTRY   \n",
      "4061    17-1022  12/27/2017  Female            White  33.0         BERLIN   \n",
      "4062    17-1010  12/25/2017    Male            White  39.0    JEWETT CITY   \n",
      "4063    17-1011  12/25/2017    Male            White  31.0      NAUGATUCK   \n",
      "4064    17-1006  12/24/2017    Male            Black  50.0     BRIDGEPORT   \n",
      "4065    17-1017  12/27/2017    Male            White  61.0   WETHERSFIELD   \n",
      "4066    17-1027  12/29/2017    Male            White  38.0      NEW HAVEN   \n",
      "4067    17-1007  12/24/2017    Male  Hispanic, Black  26.0            NaN   \n",
      "4068    17-1033  12/30/2017  Female            White  68.0        BRISTOL   \n",
      "4069    17-1020  12/27/2017  Female            White  39.0     EAST HAVEN   \n",
      "4070    17-1019  12/27/2017  Female            White  34.0       WESTPORT   \n",
      "4071    17-1005  12/24/2017  Female            White  52.0       DAYVILLE   \n",
      "4072    17-1018  12/27/2017    Male            White  46.0      NEW HAVEN   \n",
      "4073    17-1001  12/23/2017    Male            White  69.0      THOMASTON   \n",
      "4074    17-1016  12/27/2017    Male            White  38.0       CRAGFORD   \n",
      "4075    17-1035  12/31/2017    Male            White  26.0      FAIRFIELD   \n",
      "4076    17-1024  12/28/2017    Male            White  50.0      NAUGATUCK   \n",
      "4077    17-1031  12/30/2017    Male            White  36.0      WATERBURY   \n",
      "4078    17-1003  12/24/2017    Male            White  36.0     MIDDLETOWN   \n",
      "4079    17-1009  12/25/2017    Male            White  48.0         MOOSUP   \n",
      "4080    17-1013  12/26/2017    Male            White  50.0     EAST HAVEN   \n",
      "4081    17-1012  12/26/2017    Male  Hispanic, White  48.0     BRIDGEPORT   \n",
      "4082    17-1030  12/29/2017    Male            White  25.0      STRATFORD   \n",
      "\n",
      "     Residence State Residence County    Death City Death State  \\\n",
      "0                NaN              NaN           NaN         NaN   \n",
      "1                NaN              NaN     NEW HAVEN         NaN   \n",
      "2                NaN              NaN     NEW HAVEN         NaN   \n",
      "3                NaN              NaN   NEW MILFORD         NaN   \n",
      "4                NaN              NaN       ENFIELD         NaN   \n",
      "5                NaN          WINDHAM       POMFRET         NaN   \n",
      "6                NaN              NaN     NEW HAVEN         NaN   \n",
      "7                NaN        MIDDLESEX    MIDDLETOWN         NaN   \n",
      "8                 CT        FAIRFIELD    BRIDGEPORT          CT   \n",
      "9                NaN        NEW HAVEN    MANCHESTER         NaN   \n",
      "10                CT         HARTFORD      HARTFORD          CT   \n",
      "11               NaN              NaN   WILLIMANTIC         NaN   \n",
      "12                CT       LITCHFIELD        SHARON          CT   \n",
      "13               NaN       LITCHFIELD    TORRINGTON         NaN   \n",
      "14               NaN        NEW HAVEN     NEW HAVEN         NaN   \n",
      "15                CT         HARTFORD    FARMINGTON          CT   \n",
      "16               NaN              NaN       BRISTOL         NaN   \n",
      "17               NaN         HARTFORD       BRISTOL         NaN   \n",
      "18               NaN         HARTFORD       BRISTOL         NaN   \n",
      "19                CT         HARTFORD       MILFORD          CT   \n",
      "20                CT        MIDDLESEX     WESTBROOK          CT   \n",
      "21               NaN         HARTFORD       BRISTOL         NaN   \n",
      "22                CT       LITCHFIELD    WASHINGTON          CT   \n",
      "23                CT              NaN       NORWALK          CT   \n",
      "24               NaN       NEW LONDON    NEW LONDON         NaN   \n",
      "25               NaN        FAIRFIELD    BRIDGEPORT         NaN   \n",
      "26               NaN         HARTFORD   NEW BRITAIN         NaN   \n",
      "27               NaN              NaN      HARTFORD         NaN   \n",
      "28               NaN        NEW HAVEN     NEW HAVEN         NaN   \n",
      "29                CT        FAIRFIELD       DANBURY          CT   \n",
      "...              ...              ...           ...         ...   \n",
      "4053              CT       LITCHFIELD    TORRINGTON          CT   \n",
      "4054              NY          SUFFOLK    BRIDGEPORT          CT   \n",
      "4055              CT        NEW HAVEN     WATERBURY          CT   \n",
      "4056              CT       NEW LONDON       NORWICH          CT   \n",
      "4057              CT        NEW HAVEN    WEST HAVEN          CT   \n",
      "4058              CT       LITCHFIELD   BRIDGEWATER          CT   \n",
      "4059              CT        FAIRFIELD      STAMFORD          CT   \n",
      "4060              CT          TOLLAND      COVENTRY          CT   \n",
      "4061              CT         HARTFORD   NEW BRITAIN          CT   \n",
      "4062              CT       NEW LONDON   JEWETT CITY          CT   \n",
      "4063              CT        NEW HAVEN     WATERBURY          CT   \n",
      "4064              CT        FAIRFIELD    BRIDGEPORT          CT   \n",
      "4065              CT         HARTFORD  WETHERSFIELD          CT   \n",
      "4066              CT        NEW HAVEN     NEW HAVEN          CT   \n",
      "4067             NaN              NaN        VERNON          CT   \n",
      "4068              CT         HARTFORD       BRISTOL          CT   \n",
      "4069              CT        NEW HAVEN    EAST HAVEN          CT   \n",
      "4070              CT        FAIRFIELD     NEW HAVEN          CT   \n",
      "4071              CT          WINDHAM      DAYVILLE          CT   \n",
      "4072              CT        NEW HAVEN       MERIDEN          CT   \n",
      "4073              CT       LITCHFIELD     WATERBURY          CT   \n",
      "4074              AL             CLAY     STRATFORD          CT   \n",
      "4075              CT        FAIRFIELD    MIDDLETOWN          CT   \n",
      "4076              CT        NEW HAVEN     WATERBURY          CT   \n",
      "4077              CT        NEW HAVEN     WATERBURY          CT   \n",
      "4078              CT        MIDDLESEX    MIDDLETOWN          CT   \n",
      "4079              CT          WINDHAM        MOOSUP          CT   \n",
      "4080              CT        NEW HAVEN    EAST HAVEN          CT   \n",
      "4081              CT        FAIRFIELD    BRIDGEPORT          CT   \n",
      "4082              CT        FAIRFIELD    BRIDGEPORT          CT   \n",
      "\n",
      "                        ...                     Benzodiazepine Methadone  \\\n",
      "0                       ...                                  Y       NaN   \n",
      "1                       ...                                NaN       NaN   \n",
      "2                       ...                                NaN         Y   \n",
      "3                       ...                                NaN       NaN   \n",
      "4                       ...                                NaN       NaN   \n",
      "5                       ...                                NaN       NaN   \n",
      "6                       ...                                NaN       NaN   \n",
      "7                       ...                                NaN       NaN   \n",
      "8                       ...                                  Y       NaN   \n",
      "9                       ...                                NaN       NaN   \n",
      "10                      ...                                NaN       NaN   \n",
      "11                      ...                                NaN       NaN   \n",
      "12                      ...                                  Y       NaN   \n",
      "13                      ...                                NaN       NaN   \n",
      "14                      ...                                NaN       NaN   \n",
      "15                      ...                                  Y       NaN   \n",
      "16                      ...                                NaN       NaN   \n",
      "17                      ...                                NaN       NaN   \n",
      "18                      ...                                NaN       NaN   \n",
      "19                      ...                                  Y       NaN   \n",
      "20                      ...                                NaN       NaN   \n",
      "21                      ...                                NaN       NaN   \n",
      "22                      ...                                  Y       NaN   \n",
      "23                      ...                                NaN       NaN   \n",
      "24                      ...                                NaN       NaN   \n",
      "25                      ...                                NaN       NaN   \n",
      "26                      ...                                NaN       NaN   \n",
      "27                      ...                                NaN         Y   \n",
      "28                      ...                                NaN         Y   \n",
      "29                      ...                                  Y       NaN   \n",
      "...                     ...                                ...       ...   \n",
      "4053                    ...                                NaN       NaN   \n",
      "4054                    ...                                  Y       NaN   \n",
      "4055                    ...                                NaN       NaN   \n",
      "4056                    ...                                  Y       NaN   \n",
      "4057                    ...                                NaN       NaN   \n",
      "4058                    ...                                NaN       NaN   \n",
      "4059                    ...                                  Y       NaN   \n",
      "4060                    ...                                NaN       NaN   \n",
      "4061                    ...                                NaN         Y   \n",
      "4062                    ...                                NaN       NaN   \n",
      "4063                    ...                                NaN       NaN   \n",
      "4064                    ...                                NaN       NaN   \n",
      "4065                    ...                                NaN       NaN   \n",
      "4066                    ...                                  Y         Y   \n",
      "4067                    ...                                NaN       NaN   \n",
      "4068                    ...                                NaN       NaN   \n",
      "4069                    ...                                NaN       NaN   \n",
      "4070                    ...                                NaN       NaN   \n",
      "4071                    ...                                NaN       NaN   \n",
      "4072                    ...                                NaN       NaN   \n",
      "4073                    ...                                  Y       NaN   \n",
      "4074                    ...                                NaN       NaN   \n",
      "4075                    ...                                NaN       NaN   \n",
      "4076                    ...                                NaN       NaN   \n",
      "4077                    ...                                NaN       NaN   \n",
      "4078                    ...                                NaN         Y   \n",
      "4079                    ...                                  Y       NaN   \n",
      "4080                    ...                                NaN       NaN   \n",
      "4081                    ...                                  Y       NaN   \n",
      "4082                    ...                                  Y         Y   \n",
      "\n",
      "     Amphet Tramad Morphine (not heroin)       Other Any Opioid MannerofDeath  \\\n",
      "0       NaN    NaN                   NaN         NaN        NaN      Accident   \n",
      "1       NaN    NaN                   NaN         NaN        NaN      Accident   \n",
      "2       NaN    NaN                   NaN         NaN        NaN      Accident   \n",
      "3       NaN    NaN                   NaN         NaN        NaN      Accident   \n",
      "4       NaN    NaN                   NaN         NaN        NaN      Accident   \n",
      "5       NaN    NaN                   NaN         NaN        NaN      Accident   \n",
      "6       NaN    NaN                   NaN         NaN        NaN      Accident   \n",
      "7       NaN    NaN                   NaN         NaN        NaN      Accident   \n",
      "8       NaN    NaN                   NaN   MORPH NOS          Y      Accident   \n",
      "9       NaN    NaN                   NaN         NaN        NaN      Accident   \n",
      "10      NaN    NaN                   NaN         NaN          Y      Accident   \n",
      "11      NaN    NaN                   NaN         NaN        NaN      Accident   \n",
      "12      NaN    NaN                   NaN         NaN          Y      Accident   \n",
      "13      NaN    NaN                   NaN         NaN        NaN      Accident   \n",
      "14      NaN    NaN                   NaN     OPIATES        NaN      Accident   \n",
      "15      NaN    NaN                   NaN      BUPREN          Y      Accident   \n",
      "16      NaN    NaN                   NaN         NaN        NaN      Accident   \n",
      "17      NaN    NaN                   NaN         NaN        NaN      Accident   \n",
      "18      NaN    NaN                   NaN         NaN        NaN      Accident   \n",
      "19      NaN    NaN                   NaN         NaN          Y      Accident   \n",
      "20      NaN    NaN                   NaN      DUSTER        NaN      Accident   \n",
      "21      NaN    NaN                   NaN         NaN        NaN      Accident   \n",
      "22      NaN    NaN                   NaN         NaN          Y      Accident   \n",
      "23      NaN    NaN                   NaN         NaN          Y      Accident   \n",
      "24      NaN    NaN                   NaN         NaN        NaN      Accident   \n",
      "25      NaN    NaN                   NaN         NaN        NaN      Accident   \n",
      "26      NaN    NaN                   NaN         NaN        NaN      Accident   \n",
      "27      NaN    NaN                   NaN         NaN        NaN      Accident   \n",
      "28      NaN    NaN                   NaN         NaN        NaN      Accident   \n",
      "29      NaN    NaN                   NaN  HYDROMORPH          Y      Accident   \n",
      "...     ...    ...                   ...         ...        ...           ...   \n",
      "4053    NaN    NaN                   NaN         NaN        NaN      Accident   \n",
      "4054    NaN    NaN                   NaN         NaN        NaN      Accident   \n",
      "4055    NaN    NaN                   NaN         NaN        NaN      Accident   \n",
      "4056    NaN    NaN                   NaN         NaN        NaN      Accident   \n",
      "4057    NaN    NaN                   NaN         NaN        NaN      Accident   \n",
      "4058      Y    NaN                   NaN         NaN        NaN      Accident   \n",
      "4059    NaN    NaN                   NaN         NaN        NaN      Accident   \n",
      "4060    NaN    NaN                   NaN         NaN        NaN      Accident   \n",
      "4061    NaN    NaN                   NaN         NaN        NaN      Accident   \n",
      "4062    NaN    NaN                   NaN         NaN        NaN      Accident   \n",
      "4063    NaN    NaN                   NaN         NaN        NaN      Accident   \n",
      "4064    NaN    NaN                   NaN         NaN        NaN      Accident   \n",
      "4065    NaN    NaN                   NaN         NaN        NaN      Accident   \n",
      "4066    NaN    NaN                   NaN         NaN        NaN      Accident   \n",
      "4067    NaN    NaN                   NaN         NaN        NaN      Accident   \n",
      "4068    NaN      Y                   NaN         NaN        NaN      Accident   \n",
      "4069    NaN    NaN                   NaN         NaN        NaN      Accident   \n",
      "4070    NaN    NaN                   NaN         NaN        NaN      Accident   \n",
      "4071    NaN    NaN                   NaN         NaN        NaN      Accident   \n",
      "4072    NaN    NaN                   NaN         NaN        NaN      Accident   \n",
      "4073    NaN    NaN                   NaN         NaN        NaN      Accident   \n",
      "4074    NaN    NaN                   NaN         NaN        NaN      Accident   \n",
      "4075    NaN    NaN                   NaN    BUPRENOR        NaN      Accident   \n",
      "4076    NaN    NaN                   NaN         NaN        NaN      Accident   \n",
      "4077    NaN    NaN                   NaN         NaN        NaN      Accident   \n",
      "4078    NaN    NaN                   NaN    BUPRENOR        NaN      Accident   \n",
      "4079    NaN    NaN                   NaN         NaN        NaN      Accident   \n",
      "4080    NaN    NaN                   NaN         NaN        NaN      Accident   \n",
      "4081    NaN    NaN                   NaN         NaN        NaN      Accident   \n",
      "4082    NaN    NaN                   NaN         NaN        NaN      Accident   \n",
      "\n",
      "     AmendedMannerofDeath                                   DeathLoc  \n",
      "0                     NaN                CT\\n(41.544654, -72.651713)  \n",
      "1                     NaN     NEW HAVEN, CT\\n(41.308252, -72.924161)  \n",
      "2                     NaN     NEW HAVEN, CT\\n(41.308252, -72.924161)  \n",
      "3                     NaN   NEW MILFORD, CT\\n(41.576633, -73.408713)  \n",
      "4                     NaN       ENFIELD, CT\\n(41.976501, -72.591985)  \n",
      "5                     NaN       POMFRET, CT\\n(41.897524, -71.962064)  \n",
      "6                     NaN     NEW HAVEN, CT\\n(41.308252, -72.924161)  \n",
      "7                     NaN    MIDDLETOWN, CT\\n(41.544654, -72.651713)  \n",
      "8                     NaN    BRIDGEPORT, CT\\n(41.179195, -73.189476)  \n",
      "9                     NaN    MANCHESTER, CT\\n(41.770668, -72.520868)  \n",
      "10                    NaN      HARTFORD, CT\\n(41.765775, -72.673356)  \n",
      "11                    NaN   WILLIMANTIC, CT\\n(41.711724, -72.211975)  \n",
      "12                    NaN         SHARON, CT\\n(41.87943, -73.478873)  \n",
      "13                    NaN    TORRINGTON, CT\\n(41.812186, -73.101552)  \n",
      "14                    NaN     NEW HAVEN, CT\\n(41.308252, -72.924161)  \n",
      "15                    NaN     FARMINGTON, CT\\n(41.72651, -72.824947)  \n",
      "16                    NaN       BRISTOL, CT\\n(41.673037, -72.945791)  \n",
      "17                    NaN       BRISTOL, CT\\n(41.673037, -72.945791)  \n",
      "18                    NaN       BRISTOL, CT\\n(41.673037, -72.945791)  \n",
      "19                    NaN       MILFORD, CT\\n(41.224276, -73.057564)  \n",
      "20                    NaN     WESTBROOK, CT\\n(41.283357, -72.441654)  \n",
      "21                    NaN       BRISTOL, CT\\n(41.673037, -72.945791)  \n",
      "22                    NaN    WASHINGTON, CT\\n(41.631357, -73.310688)  \n",
      "23                    NaN        NORWALK, CT\\n(41.11805, -73.412906)  \n",
      "24                    NaN    NEW LONDON, CT\\n(41.355167, -72.099561)  \n",
      "25                    NaN    BRIDGEPORT, CT\\n(41.179195, -73.189476)  \n",
      "26                    NaN   NEW BRITAIN, CT\\n(41.667528, -72.783437)  \n",
      "27                    NaN      HARTFORD, CT\\n(41.765775, -72.673356)  \n",
      "28                    NaN     NEW HAVEN, CT\\n(41.308252, -72.924161)  \n",
      "29                    NaN       DANBURY, CT\\n(41.393666, -73.451539)  \n",
      "...                   ...                                        ...  \n",
      "4053                  NaN    Torrington, CT\\n(41.812186, -73.101552)  \n",
      "4054                  NaN    Bridgeport, CT\\n(41.179195, -73.189476)  \n",
      "4055                  NaN     Waterbury, CT\\n(41.554261, -73.043069)  \n",
      "4056                  NaN       Norwich, CT\\n(41.524304, -72.075821)  \n",
      "4057                  NaN    West Haven, CT\\n(41.272336, -72.949817)  \n",
      "4058                  NaN   Bridgewater, CT\\n(41.535109, -73.366386)  \n",
      "4059                  NaN      Stamford, CT\\n(41.051924, -73.539475)  \n",
      "4060                  NaN      Coventry, CT\\n(41.774042, -72.309999)  \n",
      "4061                  NaN   New Britain, CT\\n(41.667528, -72.783437)  \n",
      "4062                  NaN    Jewett City, CT\\n(41.606767, -71.98126)  \n",
      "4063                  NaN     Waterbury, CT\\n(41.554261, -73.043069)  \n",
      "4064                  NaN    Bridgeport, CT\\n(41.179195, -73.189476)  \n",
      "4065                  NaN  Wethersfield, CT\\n(41.712487, -72.663607)  \n",
      "4066                  NaN     New Haven, CT\\n(41.308252, -72.924161)  \n",
      "4067                  NaN        Vernon, CT\\n(41.818792, -72.479029)  \n",
      "4068                    Y       Bristol, CT\\n(41.673037, -72.945791)  \n",
      "4069                  NaN    East Haven, CT\\n(41.277971, -72.871954)  \n",
      "4070                  NaN     New Haven, CT\\n(41.308252, -72.924161)  \n",
      "4071                  NaN        Dayville, CT\\n(41.846401, -71.8881)  \n",
      "4072                  NaN         Meriden, CT\\n(41.537589, -72.8011)  \n",
      "4073                  NaN     Waterbury, CT\\n(41.554261, -73.043069)  \n",
      "4074                  NaN     Stratford, CT\\n(41.200888, -73.131323)  \n",
      "4075                  NaN    Middletown, CT\\n(41.544654, -72.651713)  \n",
      "4076                  NaN     Waterbury, CT\\n(41.554261, -73.043069)  \n",
      "4077                  NaN     Waterbury, CT\\n(41.554261, -73.043069)  \n",
      "4078                  NaN    Middletown, CT\\n(41.544654, -72.651713)  \n",
      "4079                  NaN        Moosup, CT\\n(41.712872, -71.881207)  \n",
      "4080                  NaN    East Haven, CT\\n(41.277971, -72.871954)  \n",
      "4081                  NaN    Bridgeport, CT\\n(41.179195, -73.189476)  \n",
      "4082                  NaN    Bridgeport, CT\\n(41.179195, -73.189476)  \n",
      "\n",
      "[4083 rows x 32 columns]>\n"
     ]
    }
   ],
   "source": [
    "print(df.head)"
   ]
  },
  {
   "cell_type": "code",
   "execution_count": 41,
   "metadata": {},
   "outputs": [
    {
     "data": {
      "text/html": [
       "<div>\n",
       "<style scoped>\n",
       "    .dataframe tbody tr th:only-of-type {\n",
       "        vertical-align: middle;\n",
       "    }\n",
       "\n",
       "    .dataframe tbody tr th {\n",
       "        vertical-align: top;\n",
       "    }\n",
       "\n",
       "    .dataframe thead th {\n",
       "        text-align: right;\n",
       "    }\n",
       "</style>\n",
       "<table border=\"1\" class=\"dataframe\">\n",
       "  <thead>\n",
       "    <tr style=\"text-align: right;\">\n",
       "      <th></th>\n",
       "      <th>Age</th>\n",
       "    </tr>\n",
       "  </thead>\n",
       "  <tbody>\n",
       "    <tr>\n",
       "      <th>count</th>\n",
       "      <td>4080.000000</td>\n",
       "    </tr>\n",
       "    <tr>\n",
       "      <th>mean</th>\n",
       "      <td>41.755882</td>\n",
       "    </tr>\n",
       "    <tr>\n",
       "      <th>std</th>\n",
       "      <td>12.319208</td>\n",
       "    </tr>\n",
       "    <tr>\n",
       "      <th>min</th>\n",
       "      <td>14.000000</td>\n",
       "    </tr>\n",
       "    <tr>\n",
       "      <th>25%</th>\n",
       "      <td>31.000000</td>\n",
       "    </tr>\n",
       "    <tr>\n",
       "      <th>50%</th>\n",
       "      <td>42.000000</td>\n",
       "    </tr>\n",
       "    <tr>\n",
       "      <th>75%</th>\n",
       "      <td>52.000000</td>\n",
       "    </tr>\n",
       "    <tr>\n",
       "      <th>max</th>\n",
       "      <td>87.000000</td>\n",
       "    </tr>\n",
       "  </tbody>\n",
       "</table>\n",
       "</div>"
      ],
      "text/plain": [
       "               Age\n",
       "count  4080.000000\n",
       "mean     41.755882\n",
       "std      12.319208\n",
       "min      14.000000\n",
       "25%      31.000000\n",
       "50%      42.000000\n",
       "75%      52.000000\n",
       "max      87.000000"
      ]
     },
     "execution_count": 41,
     "metadata": {},
     "output_type": "execute_result"
    }
   ],
   "source": [
    "df.describe()"
   ]
  },
  {
   "cell_type": "code",
   "execution_count": 42,
   "metadata": {},
   "outputs": [
    {
     "data": {
      "text/plain": [
       "0    29.0\n",
       "dtype: float64"
      ]
     },
     "execution_count": 42,
     "metadata": {},
     "output_type": "execute_result"
    }
   ],
   "source": [
    "df[\"Age\"].mode()"
   ]
  },
  {
   "cell_type": "code",
   "execution_count": 43,
   "metadata": {},
   "outputs": [
    {
     "data": {
      "text/plain": [
       "<matplotlib.axes._subplots.AxesSubplot at 0x1fc03e94940>"
      ]
     },
     "execution_count": 43,
     "metadata": {},
     "output_type": "execute_result"
    },
    {
     "data": {
      "image/png": "[encoded data removed]",
      "text/plain": [
       "<Figure size 432x288 with 1 Axes>"
      ]
     },
     "metadata": {},
     "output_type": "display_data"
    }
   ],
   "source": [
    "x = df[\"Age\"]\n",
    "#plt.tick_params(axis = \"x\", which=\"both\", bottom=False, labelbottom=False)\n",
    "#plt.xticks(np.arange(0, 90, 5))\n",
    "x.value_counts().plot.bar()\n"
   ]
  },
  {
   "cell_type": "raw",
   "metadata": {},
   "source": [
    "df.columns"
   ]
  },
  {
   "cell_type": "code",
   "execution_count": 44,
   "metadata": {},
   "outputs": [
    {
     "data": {
      "text/plain": [
       "White                     3244\n",
       "Hispanic, White            432\n",
       "Black                      329\n",
       "Hispanic, Black             17\n",
       "Unknown                     16\n",
       "Asian, Other                14\n",
       "Asian Indian                 9\n",
       "Other                        7\n",
       "Chinese                      2\n",
       "Hawaiian                     1\n",
       "Native American, Other       1\n",
       "Name: Race, dtype: int64"
      ]
     },
     "execution_count": 44,
     "metadata": {},
     "output_type": "execute_result"
    }
   ],
   "source": [
    "df[\"Race\"].value_counts()"
   ]
  },
  {
   "cell_type": "code",
   "execution_count": 45,
   "metadata": {},
   "outputs": [
    {
     "data": {
      "text/plain": [
       "Male      2993\n",
       "Female    1086\n",
       "Name: Sex, dtype: int64"
      ]
     },
     "execution_count": 45,
     "metadata": {},
     "output_type": "execute_result"
    }
   ],
   "source": [
    "df[\"Sex\"].value_counts()"
   ]
  },
  {
   "cell_type": "code",
   "execution_count": 46,
   "metadata": {},
   "outputs": [
    {
     "data": {
      "text/plain": [
       "Y    2127\n",
       "y      22\n",
       "        5\n",
       "Name: Heroin, dtype: int64"
      ]
     },
     "execution_count": 46,
     "metadata": {},
     "output_type": "execute_result"
    }
   ],
   "source": [
    "df[\"Heroin\"].value_counts()"
   ]
  },
  {
   "cell_type": "code",
   "execution_count": 47,
   "metadata": {},
   "outputs": [
    {
     "data": {
      "text/html": [
       "<div>\n",
       "<style scoped>\n",
       "    .dataframe tbody tr th:only-of-type {\n",
       "        vertical-align: middle;\n",
       "    }\n",
       "\n",
       "    .dataframe tbody tr th {\n",
       "        vertical-align: top;\n",
       "    }\n",
       "\n",
       "    .dataframe thead tr th {\n",
       "        text-align: left;\n",
       "    }\n",
       "\n",
       "    .dataframe thead tr:last-of-type th {\n",
       "        text-align: right;\n",
       "    }\n",
       "</style>\n",
       "<table border=\"1\" class=\"dataframe\">\n",
       "  <thead>\n",
       "    <tr>\n",
       "      <th></th>\n",
       "      <th colspan=\"8\" halign=\"left\">Age</th>\n",
       "    </tr>\n",
       "    <tr>\n",
       "      <th></th>\n",
       "      <th>count</th>\n",
       "      <th>mean</th>\n",
       "      <th>std</th>\n",
       "      <th>min</th>\n",
       "      <th>25%</th>\n",
       "      <th>50%</th>\n",
       "      <th>75%</th>\n",
       "      <th>max</th>\n",
       "    </tr>\n",
       "    <tr>\n",
       "      <th>Sex</th>\n",
       "      <th></th>\n",
       "      <th></th>\n",
       "      <th></th>\n",
       "      <th></th>\n",
       "      <th></th>\n",
       "      <th></th>\n",
       "      <th></th>\n",
       "      <th></th>\n",
       "    </tr>\n",
       "  </thead>\n",
       "  <tbody>\n",
       "    <tr>\n",
       "      <th>Female</th>\n",
       "      <td>1086.0</td>\n",
       "      <td>42.537753</td>\n",
       "      <td>12.535221</td>\n",
       "      <td>14.0</td>\n",
       "      <td>32.0</td>\n",
       "      <td>44.0</td>\n",
       "      <td>52.0</td>\n",
       "      <td>81.0</td>\n",
       "    </tr>\n",
       "    <tr>\n",
       "      <th>Male</th>\n",
       "      <td>2992.0</td>\n",
       "      <td>41.468917</td>\n",
       "      <td>12.231539</td>\n",
       "      <td>16.0</td>\n",
       "      <td>31.0</td>\n",
       "      <td>41.0</td>\n",
       "      <td>51.0</td>\n",
       "      <td>87.0</td>\n",
       "    </tr>\n",
       "  </tbody>\n",
       "</table>\n",
       "</div>"
      ],
      "text/plain": [
       "           Age                                                    \n",
       "         count       mean        std   min   25%   50%   75%   max\n",
       "Sex                                                               \n",
       "Female  1086.0  42.537753  12.535221  14.0  32.0  44.0  52.0  81.0\n",
       "Male    2992.0  41.468917  12.231539  16.0  31.0  41.0  51.0  87.0"
      ]
     },
     "execution_count": 47,
     "metadata": {},
     "output_type": "execute_result"
    }
   ],
   "source": [
    "df.groupby(\"Sex\").describe()"
   ]
  },
  {
   "cell_type": "code",
   "execution_count": 48,
   "metadata": {},
   "outputs": [
    {
     "data": {
      "text/plain": [
       "CaseNumber                object\n",
       "Date                      object\n",
       "Sex                       object\n",
       "Race                      object\n",
       "Age                      float64\n",
       "Residence City            object\n",
       "Residence State           object\n",
       "Residence County          object\n",
       "Death City                object\n",
       "Death State               object\n",
       "Death County              object\n",
       "Location                  object\n",
       "DescriptionofInjury       object\n",
       "InjuryPlace               object\n",
       "ImmediateCauseA           object\n",
       "Heroin                    object\n",
       "Cocaine                   object\n",
       "Fentanyl                  object\n",
       "Oxycodone                 object\n",
       "Oxymorphone               object\n",
       "EtOH                      object\n",
       "Hydrocodone               object\n",
       "Benzodiazepine            object\n",
       "Methadone                 object\n",
       "Amphet                    object\n",
       "Tramad                    object\n",
       "Morphine (not heroin)     object\n",
       "Other                     object\n",
       "Any Opioid                object\n",
       "MannerofDeath             object\n",
       "AmendedMannerofDeath      object\n",
       "DeathLoc                  object\n",
       "dtype: object"
      ]
     },
     "execution_count": 48,
     "metadata": {},
     "output_type": "execute_result"
    }
   ],
   "source": [
    "df.dtypes"
   ]
  },
  {
   "cell_type": "code",
   "execution_count": 157,
   "metadata": {},
   "outputs": [],
   "source": [
    "drugs = df.iloc[:, 15:27]"
   ]
  },
  {
   "cell_type": "code",
   "execution_count": 273,
   "metadata": {},
   "outputs": [
    {
     "data": {
      "text/html": [
       "<div>\n",
       "<style scoped>\n",
       "    .dataframe tbody tr th:only-of-type {\n",
       "        vertical-align: middle;\n",
       "    }\n",
       "\n",
       "    .dataframe tbody tr th {\n",
       "        vertical-align: top;\n",
       "    }\n",
       "\n",
       "    .dataframe thead th {\n",
       "        text-align: right;\n",
       "    }\n",
       "</style>\n",
       "<table border=\"1\" class=\"dataframe\">\n",
       "  <thead>\n",
       "    <tr style=\"text-align: right;\">\n",
       "      <th></th>\n",
       "      <th>Heroin</th>\n",
       "      <th>Cocaine</th>\n",
       "      <th>Fentanyl</th>\n",
       "      <th>Oxycodone</th>\n",
       "      <th>Oxymorphone</th>\n",
       "      <th>EtOH</th>\n",
       "      <th>Hydrocodone</th>\n",
       "      <th>Benzodiazepine</th>\n",
       "      <th>Methadone</th>\n",
       "      <th>Amphet</th>\n",
       "      <th>Tramad</th>\n",
       "      <th>Morphine (not heroin)</th>\n",
       "    </tr>\n",
       "  </thead>\n",
       "  <tbody>\n",
       "    <tr>\n",
       "      <th>0</th>\n",
       "      <td>NaN</td>\n",
       "      <td>NaN</td>\n",
       "      <td>Y</td>\n",
       "      <td>NaN</td>\n",
       "      <td>NaN</td>\n",
       "      <td>NaN</td>\n",
       "      <td>Y</td>\n",
       "      <td>Y</td>\n",
       "      <td>NaN</td>\n",
       "      <td>NaN</td>\n",
       "      <td>NaN</td>\n",
       "      <td>NaN</td>\n",
       "    </tr>\n",
       "    <tr>\n",
       "      <th>1</th>\n",
       "      <td>NaN</td>\n",
       "      <td>NaN</td>\n",
       "      <td>Y</td>\n",
       "      <td>NaN</td>\n",
       "      <td>NaN</td>\n",
       "      <td>NaN</td>\n",
       "      <td>NaN</td>\n",
       "      <td>NaN</td>\n",
       "      <td>NaN</td>\n",
       "      <td>NaN</td>\n",
       "      <td>NaN</td>\n",
       "      <td>NaN</td>\n",
       "    </tr>\n",
       "    <tr>\n",
       "      <th>2</th>\n",
       "      <td>NaN</td>\n",
       "      <td>Y</td>\n",
       "      <td>NaN</td>\n",
       "      <td>NaN</td>\n",
       "      <td>NaN</td>\n",
       "      <td>NaN</td>\n",
       "      <td>NaN</td>\n",
       "      <td>NaN</td>\n",
       "      <td>Y</td>\n",
       "      <td>NaN</td>\n",
       "      <td>NaN</td>\n",
       "      <td>NaN</td>\n",
       "    </tr>\n",
       "    <tr>\n",
       "      <th>3</th>\n",
       "      <td>NaN</td>\n",
       "      <td>NaN</td>\n",
       "      <td>NaN</td>\n",
       "      <td>Y</td>\n",
       "      <td>Y</td>\n",
       "      <td>NaN</td>\n",
       "      <td>NaN</td>\n",
       "      <td>NaN</td>\n",
       "      <td>NaN</td>\n",
       "      <td>NaN</td>\n",
       "      <td>NaN</td>\n",
       "      <td>NaN</td>\n",
       "    </tr>\n",
       "    <tr>\n",
       "      <th>4</th>\n",
       "      <td>Y</td>\n",
       "      <td>NaN</td>\n",
       "      <td>NaN</td>\n",
       "      <td>NaN</td>\n",
       "      <td>NaN</td>\n",
       "      <td>NaN</td>\n",
       "      <td>NaN</td>\n",
       "      <td>NaN</td>\n",
       "      <td>NaN</td>\n",
       "      <td>NaN</td>\n",
       "      <td>NaN</td>\n",
       "      <td>NaN</td>\n",
       "    </tr>\n",
       "  </tbody>\n",
       "</table>\n",
       "</div>"
      ],
      "text/plain": [
       "  Heroin Cocaine Fentanyl Oxycodone Oxymorphone EtOH Hydrocodone  \\\n",
       "0    NaN     NaN        Y       NaN         NaN  NaN           Y   \n",
       "1    NaN     NaN        Y       NaN         NaN  NaN         NaN   \n",
       "2    NaN       Y      NaN       NaN         NaN  NaN         NaN   \n",
       "3    NaN     NaN      NaN         Y           Y  NaN         NaN   \n",
       "4      Y     NaN      NaN       NaN         NaN  NaN         NaN   \n",
       "\n",
       "  Benzodiazepine Methadone Amphet Tramad Morphine (not heroin)  \n",
       "0              Y       NaN    NaN    NaN                   NaN  \n",
       "1            NaN       NaN    NaN    NaN                   NaN  \n",
       "2            NaN         Y    NaN    NaN                   NaN  \n",
       "3            NaN       NaN    NaN    NaN                   NaN  \n",
       "4            NaN       NaN    NaN    NaN                   NaN  "
      ]
     },
     "execution_count": 273,
     "metadata": {},
     "output_type": "execute_result"
    }
   ],
   "source": [
    "drugs.head()"
   ]
  },
  {
   "cell_type": "code",
   "execution_count": 274,
   "metadata": {
    "scrolled": true
   },
   "outputs": [
    {
     "name": "stdout",
     "output_type": "stream",
     "text": [
      "{'Heroin': 2154, 'Cocaine': 1176, 'Fentanyl': 1467, 'Oxycodone': 547, 'Oxymorphone': 97, 'EtOH': 1005, 'Hydrocodone': 106, 'Benzodiazepine': 1078, 'Methadone': 388, 'Amphet': 103, 'Tramad': 90, 'Morphine (not heroin)': 56}\n"
     ]
    }
   ],
   "source": [
    "drug_counts = {}\n",
    "\n",
    "for drug in drugs:\n",
    "    drug_counts[drug] = drugs[drug].value_counts().sum()\n",
    "      \n",
    "print(drug_counts)\n",
    "\n",
    "#Other = drug_counts[:5].sum()\n",
    "#cntry_counts = cntry_counts[:10]\n",
    "#cntry_counts.loc[11] = other\n",
    "#cntry_counts = cntry_counts.rename(index={11: 'Other'})"
   ]
  },
  {
   "cell_type": "code",
   "execution_count": 275,
   "metadata": {},
   "outputs": [
    {
     "name": "stdout",
     "output_type": "stream",
     "text": [
      "452\n",
      "{'Heroin': 2154, 'Cocaine': 1176, 'Fentanyl': 1467, 'Oxycodone': 547, 'Oxymorphone': 97, 'EtOH': 1005, 'Hydrocodone': 106, 'Benzodiazepine': 1078, 'Methadone': 388, 'Amphet': 103, 'Tramad': 90, 'Morphine (not heroin)': 56, 'Other': 452}\n"
     ]
    }
   ],
   "source": [
    "Other_Count = []\n",
    "for value in drug_counts.values():\n",
    "    if value < 110:\n",
    "        Other_Count.append(value)\n",
    "\n",
    "drug_counts[\"Other\"] = sum(Other_Count)\n",
    "\n",
    "print(sum(Other_Count))\n",
    "print(drug_counts)\n"
   ]
  },
  {
   "cell_type": "code",
   "execution_count": 276,
   "metadata": {},
   "outputs": [],
   "source": [
    "del drug_counts[\"Oxymorphone\"]\n",
    "del drug_counts[\"Hydrocodone\"]\n",
    "del drug_counts[\"Amphet\"]\n",
    "del drug_counts[\"Tramad\"]\n",
    "del drug_counts[\"Morphine (not heroin)\"]"
   ]
  },
  {
   "cell_type": "code",
   "execution_count": 277,
   "metadata": {},
   "outputs": [
    {
     "data": {
      "text/html": [
       "<div>\n",
       "<style scoped>\n",
       "    .dataframe tbody tr th:only-of-type {\n",
       "        vertical-align: middle;\n",
       "    }\n",
       "\n",
       "    .dataframe tbody tr th {\n",
       "        vertical-align: top;\n",
       "    }\n",
       "\n",
       "    .dataframe thead th {\n",
       "        text-align: right;\n",
       "    }\n",
       "</style>\n",
       "<table border=\"1\" class=\"dataframe\">\n",
       "  <thead>\n",
       "    <tr style=\"text-align: right;\">\n",
       "      <th></th>\n",
       "      <th>Drugs</th>\n",
       "      <th>Counts</th>\n",
       "    </tr>\n",
       "  </thead>\n",
       "  <tbody>\n",
       "    <tr>\n",
       "      <th>6</th>\n",
       "      <td>Methadone</td>\n",
       "      <td>388</td>\n",
       "    </tr>\n",
       "    <tr>\n",
       "      <th>7</th>\n",
       "      <td>Other</td>\n",
       "      <td>452</td>\n",
       "    </tr>\n",
       "    <tr>\n",
       "      <th>3</th>\n",
       "      <td>Oxycodone</td>\n",
       "      <td>547</td>\n",
       "    </tr>\n",
       "    <tr>\n",
       "      <th>4</th>\n",
       "      <td>EtOH</td>\n",
       "      <td>1005</td>\n",
       "    </tr>\n",
       "    <tr>\n",
       "      <th>5</th>\n",
       "      <td>Benzodiazepine</td>\n",
       "      <td>1078</td>\n",
       "    </tr>\n",
       "    <tr>\n",
       "      <th>1</th>\n",
       "      <td>Cocaine</td>\n",
       "      <td>1176</td>\n",
       "    </tr>\n",
       "    <tr>\n",
       "      <th>2</th>\n",
       "      <td>Fentanyl</td>\n",
       "      <td>1467</td>\n",
       "    </tr>\n",
       "    <tr>\n",
       "      <th>0</th>\n",
       "      <td>Heroin</td>\n",
       "      <td>2154</td>\n",
       "    </tr>\n",
       "  </tbody>\n",
       "</table>\n",
       "</div>"
      ],
      "text/plain": [
       "            Drugs  Counts\n",
       "6       Methadone     388\n",
       "7           Other     452\n",
       "3       Oxycodone     547\n",
       "4            EtOH    1005\n",
       "5  Benzodiazepine    1078\n",
       "1         Cocaine    1176\n",
       "2        Fentanyl    1467\n",
       "0          Heroin    2154"
      ]
     },
     "execution_count": 277,
     "metadata": {},
     "output_type": "execute_result"
    }
   ],
   "source": [
    "dcdf = pd.DataFrame()\n",
    "dcdf[\"Drugs\"] = drug_counts.keys()\n",
    "dcdf[\"Counts\"] = drug_counts.values()\n",
    "\n",
    "sdcdf = dcdf.sort_values(by=[\"Counts\"])\n",
    "\n",
    "sdcdf\n",
    "\n",
    "#dcdf[\"Counts\"].sum()"
   ]
  },
  {
   "cell_type": "code",
   "execution_count": 278,
   "metadata": {},
   "outputs": [],
   "source": [
    "Other = sdcdf[:5].sum()\n",
    "sdcdf = sdcdf[5:]\n",
    "\n",
    "\n",
    "#cntry_counts = cntry_counts[:10]\n",
    "#cntry_counts.loc[11] = other\n",
    "#cntry_counts = cntry_counts.rename(index={11: 'Other'})"
   ]
  },
  {
   "cell_type": "code",
   "execution_count": 279,
   "metadata": {},
   "outputs": [
    {
     "data": {
      "text/html": [
       "<div>\n",
       "<style scoped>\n",
       "    .dataframe tbody tr th:only-of-type {\n",
       "        vertical-align: middle;\n",
       "    }\n",
       "\n",
       "    .dataframe tbody tr th {\n",
       "        vertical-align: top;\n",
       "    }\n",
       "\n",
       "    .dataframe thead th {\n",
       "        text-align: right;\n",
       "    }\n",
       "</style>\n",
       "<table border=\"1\" class=\"dataframe\">\n",
       "  <thead>\n",
       "    <tr style=\"text-align: right;\">\n",
       "      <th></th>\n",
       "      <th>Drugs</th>\n",
       "      <th>Counts</th>\n",
       "      <th>Fractions</th>\n",
       "    </tr>\n",
       "  </thead>\n",
       "  <tbody>\n",
       "    <tr>\n",
       "      <th>6</th>\n",
       "      <td>Methadone</td>\n",
       "      <td>388</td>\n",
       "      <td>0.046934</td>\n",
       "    </tr>\n",
       "    <tr>\n",
       "      <th>7</th>\n",
       "      <td>Other</td>\n",
       "      <td>452</td>\n",
       "      <td>0.054675</td>\n",
       "    </tr>\n",
       "    <tr>\n",
       "      <th>3</th>\n",
       "      <td>Oxycodone</td>\n",
       "      <td>547</td>\n",
       "      <td>0.066167</td>\n",
       "    </tr>\n",
       "    <tr>\n",
       "      <th>4</th>\n",
       "      <td>EtOH</td>\n",
       "      <td>1005</td>\n",
       "      <td>0.121568</td>\n",
       "    </tr>\n",
       "    <tr>\n",
       "      <th>5</th>\n",
       "      <td>Benzodiazepine</td>\n",
       "      <td>1078</td>\n",
       "      <td>0.130398</td>\n",
       "    </tr>\n",
       "    <tr>\n",
       "      <th>1</th>\n",
       "      <td>Cocaine</td>\n",
       "      <td>1176</td>\n",
       "      <td>0.142252</td>\n",
       "    </tr>\n",
       "    <tr>\n",
       "      <th>2</th>\n",
       "      <td>Fentanyl</td>\n",
       "      <td>1467</td>\n",
       "      <td>0.177453</td>\n",
       "    </tr>\n",
       "    <tr>\n",
       "      <th>0</th>\n",
       "      <td>Heroin</td>\n",
       "      <td>2154</td>\n",
       "      <td>0.260554</td>\n",
       "    </tr>\n",
       "  </tbody>\n",
       "</table>\n",
       "</div>"
      ],
      "text/plain": [
       "            Drugs  Counts  Fractions\n",
       "6       Methadone     388   0.046934\n",
       "7           Other     452   0.054675\n",
       "3       Oxycodone     547   0.066167\n",
       "4            EtOH    1005   0.121568\n",
       "5  Benzodiazepine    1078   0.130398\n",
       "1         Cocaine    1176   0.142252\n",
       "2        Fentanyl    1467   0.177453\n",
       "0          Heroin    2154   0.260554"
      ]
     },
     "execution_count": 279,
     "metadata": {},
     "output_type": "execute_result"
    }
   ],
   "source": [
    "#counts\n",
    "fractions = []\n",
    "for count in dcdf[\"Counts\"]:\n",
    "    fractions.append((count / 8267))\n",
    "\n",
    "\n",
    "dcdf[\"Fractions\"] = fractions\n",
    "\n",
    "dcdf[\"Fractions\"]\n",
    "\n",
    "sdcdf = dcdf.sort_values(by=[\"Fractions\"])\n",
    "\n",
    "sdcdf"
   ]
  },
  {
   "cell_type": "code",
   "execution_count": 280,
   "metadata": {},
   "outputs": [
    {
     "data": {
      "image/png": "[encoded data removed]",
      "text/plain": [
       "<Figure size 432x288 with 1 Axes>"
      ]
     },
     "metadata": {},
     "output_type": "display_data"
    }
   ],
   "source": [
    "\n",
    "sizes = sdcdf[\"Fractions\"]\n",
    "\n",
    "fig1, ax1 = plt.subplots()\n",
    "ax1.pie(sizes, autopct=\"%1.1f%%\", shadow=True, radius=1.5, rotatelabels=True, pctdistance = .75)\n",
    "\n",
    "ax1.legend(sdcdf[\"Drugs\"], title = \"Drug Type\", loc=\"center left\", bbox_to_anchor=(1.3, 0, .5, 1))\n",
    "plt.show()\n",
    "\n"
   ]
  },
  {
   "cell_type": "code",
   "execution_count": 54,
   "metadata": {},
   "outputs": [
    {
     "data": {
      "text/plain": [
       "<bound method NDFrame.head of 0       06/28/2014\n",
       "1       11/30/2012\n",
       "2       08/12/2013\n",
       "3       11/23/2014\n",
       "4       08/14/2012\n",
       "5       02/04/2013\n",
       "6       09/24/2014\n",
       "7       09/30/2012\n",
       "8       03/02/2015\n",
       "9       09/30/2013\n",
       "10      05/09/2015\n",
       "11      01/10/2014\n",
       "12      05/24/2015\n",
       "13      11/02/2013\n",
       "14      08/27/2012\n",
       "15      04/19/2015\n",
       "16      05/14/2014\n",
       "17      01/06/2013\n",
       "18      04/27/2013\n",
       "19      03/08/2015\n",
       "20      05/10/2015\n",
       "21      04/09/2012\n",
       "22      06/05/2015\n",
       "23      06/16/2015\n",
       "24      12/21/2013\n",
       "25      12/23/2013\n",
       "26      07/25/2013\n",
       "27      05/03/2013\n",
       "28      03/21/2012\n",
       "29      07/12/2015\n",
       "           ...    \n",
       "4053    12/23/2017\n",
       "4054    12/31/2017\n",
       "4055    12/27/2017\n",
       "4056    12/26/2017\n",
       "4057    12/31/2017\n",
       "4058    12/31/2017\n",
       "4059    12/28/2017\n",
       "4060    12/30/2017\n",
       "4061    12/27/2017\n",
       "4062    12/25/2017\n",
       "4063    12/25/2017\n",
       "4064    12/24/2017\n",
       "4065    12/27/2017\n",
       "4066    12/29/2017\n",
       "4067    12/24/2017\n",
       "4068    12/30/2017\n",
       "4069    12/27/2017\n",
       "4070    12/27/2017\n",
       "4071    12/24/2017\n",
       "4072    12/27/2017\n",
       "4073    12/23/2017\n",
       "4074    12/27/2017\n",
       "4075    12/31/2017\n",
       "4076    12/28/2017\n",
       "4077    12/30/2017\n",
       "4078    12/24/2017\n",
       "4079    12/25/2017\n",
       "4080    12/26/2017\n",
       "4081    12/26/2017\n",
       "4082    12/29/2017\n",
       "Name: Date, Length: 4083, dtype: object>"
      ]
     },
     "execution_count": 54,
     "metadata": {},
     "output_type": "execute_result"
    }
   ],
   "source": [
    "df[\"Date\"].head"
   ]
  },
  {
   "cell_type": "code",
   "execution_count": 324,
   "metadata": {},
   "outputs": [],
   "source": [
    "df[\"Month\"] = pd.to_datetime(df[\"Date\"]).dt.month"
   ]
  },
  {
   "cell_type": "code",
   "execution_count": 318,
   "metadata": {},
   "outputs": [],
   "source": [
    "monthdf = pd.DataFrame(df[\"Month\"].value_counts().sort_values())"
   ]
  },
  {
   "cell_type": "code",
   "execution_count": 332,
   "metadata": {},
   "outputs": [
    {
     "data": {
      "text/plain": [
       "Int64Index([4, 9, 8, 1, 2, 5, 3, 7, 6, 10, 12, 11], dtype='int64')"
      ]
     },
     "execution_count": 332,
     "metadata": {},
     "output_type": "execute_result"
    }
   ],
   "source": [
    "monthdf.index.astype(int)"
   ]
  },
  {
   "cell_type": "code",
   "execution_count": 333,
   "metadata": {},
   "outputs": [
    {
     "data": {
      "text/html": [
       "<div>\n",
       "<style scoped>\n",
       "    .dataframe tbody tr th:only-of-type {\n",
       "        vertical-align: middle;\n",
       "    }\n",
       "\n",
       "    .dataframe tbody tr th {\n",
       "        vertical-align: top;\n",
       "    }\n",
       "\n",
       "    .dataframe thead th {\n",
       "        text-align: right;\n",
       "    }\n",
       "</style>\n",
       "<table border=\"1\" class=\"dataframe\">\n",
       "  <thead>\n",
       "    <tr style=\"text-align: right;\">\n",
       "      <th></th>\n",
       "      <th>Deaths</th>\n",
       "    </tr>\n",
       "  </thead>\n",
       "  <tbody>\n",
       "    <tr>\n",
       "      <th>4.0</th>\n",
       "      <td>314</td>\n",
       "    </tr>\n",
       "    <tr>\n",
       "      <th>9.0</th>\n",
       "      <td>317</td>\n",
       "    </tr>\n",
       "    <tr>\n",
       "      <th>8.0</th>\n",
       "      <td>318</td>\n",
       "    </tr>\n",
       "    <tr>\n",
       "      <th>1.0</th>\n",
       "      <td>319</td>\n",
       "    </tr>\n",
       "    <tr>\n",
       "      <th>2.0</th>\n",
       "      <td>325</td>\n",
       "    </tr>\n",
       "    <tr>\n",
       "      <th>5.0</th>\n",
       "      <td>326</td>\n",
       "    </tr>\n",
       "    <tr>\n",
       "      <th>3.0</th>\n",
       "      <td>329</td>\n",
       "    </tr>\n",
       "    <tr>\n",
       "      <th>7.0</th>\n",
       "      <td>345</td>\n",
       "    </tr>\n",
       "    <tr>\n",
       "      <th>6.0</th>\n",
       "      <td>354</td>\n",
       "    </tr>\n",
       "    <tr>\n",
       "      <th>10.0</th>\n",
       "      <td>369</td>\n",
       "    </tr>\n",
       "    <tr>\n",
       "      <th>12.0</th>\n",
       "      <td>377</td>\n",
       "    </tr>\n",
       "    <tr>\n",
       "      <th>11.0</th>\n",
       "      <td>388</td>\n",
       "    </tr>\n",
       "  </tbody>\n",
       "</table>\n",
       "</div>"
      ],
      "text/plain": [
       "      Deaths\n",
       "4.0      314\n",
       "9.0      317\n",
       "8.0      318\n",
       "1.0      319\n",
       "2.0      325\n",
       "5.0      326\n",
       "3.0      329\n",
       "7.0      345\n",
       "6.0      354\n",
       "10.0     369\n",
       "12.0     377\n",
       "11.0     388"
      ]
     },
     "execution_count": 333,
     "metadata": {},
     "output_type": "execute_result"
    }
   ],
   "source": [
    "monthdf.columns = [\"Deaths\"]\n",
    "\n",
    "#monthdf\n",
    "\n",
    "#monthdf[\"Month\"]\n",
    "\n",
    "#monthdf = monthdf.astype(int)\n",
    "\n",
    "monthdf"
   ]
  },
  {
   "cell_type": "code",
   "execution_count": 335,
   "metadata": {},
   "outputs": [
    {
     "ename": "TypeError",
     "evalue": "('list indices must be integers or slices, not Series', 'occurred at index Deaths')",
     "output_type": "error",
     "traceback": [
      "\u001b[1;31m---------------------------------------------------------------------------\u001b[0m",
      "\u001b[1;31mTypeError\u001b[0m                                 Traceback (most recent call last)",
      "\u001b[1;32m<ipython-input-335-79ab86777b2c>\u001b[0m in \u001b[0;36m<module>\u001b[1;34m()\u001b[0m\n\u001b[0;32m      3\u001b[0m \u001b[0mmonthdf\u001b[0m\u001b[1;33m.\u001b[0m\u001b[0mindex\u001b[0m\u001b[1;33m.\u001b[0m\u001b[0mastype\u001b[0m\u001b[1;33m(\u001b[0m\u001b[0mint\u001b[0m\u001b[1;33m)\u001b[0m\u001b[1;33m\u001b[0m\u001b[0m\n\u001b[0;32m      4\u001b[0m \u001b[1;33m\u001b[0m\u001b[0m\n\u001b[1;32m----> 5\u001b[1;33m \u001b[0mmonthdf\u001b[0m\u001b[1;33m.\u001b[0m\u001b[0mapply\u001b[0m\u001b[1;33m(\u001b[0m\u001b[1;32mlambda\u001b[0m \u001b[0mx\u001b[0m\u001b[1;33m:\u001b[0m \u001b[0mcalendar\u001b[0m\u001b[1;33m.\u001b[0m\u001b[0mmonth_abbr\u001b[0m\u001b[1;33m[\u001b[0m\u001b[0mx\u001b[0m\u001b[1;33m]\u001b[0m\u001b[1;33m)\u001b[0m\u001b[1;33m\u001b[0m\u001b[0m\n\u001b[0m",
      "\u001b[1;32m~\\AppData\\Local\\Continuum\\anaconda3\\lib\\site-packages\\pandas\\core\\frame.py\u001b[0m in \u001b[0;36mapply\u001b[1;34m(self, func, axis, broadcast, raw, reduce, result_type, args, **kwds)\u001b[0m\n\u001b[0;32m   6002\u001b[0m                          \u001b[0margs\u001b[0m\u001b[1;33m=\u001b[0m\u001b[0margs\u001b[0m\u001b[1;33m,\u001b[0m\u001b[1;33m\u001b[0m\u001b[0m\n\u001b[0;32m   6003\u001b[0m                          kwds=kwds)\n\u001b[1;32m-> 6004\u001b[1;33m         \u001b[1;32mreturn\u001b[0m \u001b[0mop\u001b[0m\u001b[1;33m.\u001b[0m\u001b[0mget_result\u001b[0m\u001b[1;33m(\u001b[0m\u001b[1;33m)\u001b[0m\u001b[1;33m\u001b[0m\u001b[0m\n\u001b[0m\u001b[0;32m   6005\u001b[0m \u001b[1;33m\u001b[0m\u001b[0m\n\u001b[0;32m   6006\u001b[0m     \u001b[1;32mdef\u001b[0m \u001b[0mapplymap\u001b[0m\u001b[1;33m(\u001b[0m\u001b[0mself\u001b[0m\u001b[1;33m,\u001b[0m \u001b[0mfunc\u001b[0m\u001b[1;33m)\u001b[0m\u001b[1;33m:\u001b[0m\u001b[1;33m\u001b[0m\u001b[0m\n",
      "\u001b[1;32m~\\AppData\\Local\\Continuum\\anaconda3\\lib\\site-packages\\pandas\\core\\apply.py\u001b[0m in \u001b[0;36mget_result\u001b[1;34m(self)\u001b[0m\n\u001b[0;32m    316\u001b[0m                                       *self.args, **self.kwds)\n\u001b[0;32m    317\u001b[0m \u001b[1;33m\u001b[0m\u001b[0m\n\u001b[1;32m--> 318\u001b[1;33m         \u001b[1;32mreturn\u001b[0m \u001b[0msuper\u001b[0m\u001b[1;33m(\u001b[0m\u001b[0mFrameRowApply\u001b[0m\u001b[1;33m,\u001b[0m \u001b[0mself\u001b[0m\u001b[1;33m)\u001b[0m\u001b[1;33m.\u001b[0m\u001b[0mget_result\u001b[0m\u001b[1;33m(\u001b[0m\u001b[1;33m)\u001b[0m\u001b[1;33m\u001b[0m\u001b[0m\n\u001b[0m\u001b[0;32m    319\u001b[0m \u001b[1;33m\u001b[0m\u001b[0m\n\u001b[0;32m    320\u001b[0m     \u001b[1;32mdef\u001b[0m \u001b[0mapply_broadcast\u001b[0m\u001b[1;33m(\u001b[0m\u001b[0mself\u001b[0m\u001b[1;33m)\u001b[0m\u001b[1;33m:\u001b[0m\u001b[1;33m\u001b[0m\u001b[0m\n",
      "\u001b[1;32m~\\AppData\\Local\\Continuum\\anaconda3\\lib\\site-packages\\pandas\\core\\apply.py\u001b[0m in \u001b[0;36mget_result\u001b[1;34m(self)\u001b[0m\n\u001b[0;32m    140\u001b[0m             \u001b[1;32mreturn\u001b[0m \u001b[0mself\u001b[0m\u001b[1;33m.\u001b[0m\u001b[0mapply_raw\u001b[0m\u001b[1;33m(\u001b[0m\u001b[1;33m)\u001b[0m\u001b[1;33m\u001b[0m\u001b[0m\n\u001b[0;32m    141\u001b[0m \u001b[1;33m\u001b[0m\u001b[0m\n\u001b[1;32m--> 142\u001b[1;33m         \u001b[1;32mreturn\u001b[0m \u001b[0mself\u001b[0m\u001b[1;33m.\u001b[0m\u001b[0mapply_standard\u001b[0m\u001b[1;33m(\u001b[0m\u001b[1;33m)\u001b[0m\u001b[1;33m\u001b[0m\u001b[0m\n\u001b[0m\u001b[0;32m    143\u001b[0m \u001b[1;33m\u001b[0m\u001b[0m\n\u001b[0;32m    144\u001b[0m     \u001b[1;32mdef\u001b[0m \u001b[0mapply_empty_result\u001b[0m\u001b[1;33m(\u001b[0m\u001b[0mself\u001b[0m\u001b[1;33m)\u001b[0m\u001b[1;33m:\u001b[0m\u001b[1;33m\u001b[0m\u001b[0m\n",
      "\u001b[1;32m~\\AppData\\Local\\Continuum\\anaconda3\\lib\\site-packages\\pandas\\core\\apply.py\u001b[0m in \u001b[0;36mapply_standard\u001b[1;34m(self)\u001b[0m\n\u001b[0;32m    246\u001b[0m \u001b[1;33m\u001b[0m\u001b[0m\n\u001b[0;32m    247\u001b[0m         \u001b[1;31m# compute the result using the series generator\u001b[0m\u001b[1;33m\u001b[0m\u001b[1;33m\u001b[0m\u001b[0m\n\u001b[1;32m--> 248\u001b[1;33m         \u001b[0mself\u001b[0m\u001b[1;33m.\u001b[0m\u001b[0mapply_series_generator\u001b[0m\u001b[1;33m(\u001b[0m\u001b[1;33m)\u001b[0m\u001b[1;33m\u001b[0m\u001b[0m\n\u001b[0m\u001b[0;32m    249\u001b[0m \u001b[1;33m\u001b[0m\u001b[0m\n\u001b[0;32m    250\u001b[0m         \u001b[1;31m# wrap results\u001b[0m\u001b[1;33m\u001b[0m\u001b[1;33m\u001b[0m\u001b[0m\n",
      "\u001b[1;32m~\\AppData\\Local\\Continuum\\anaconda3\\lib\\site-packages\\pandas\\core\\apply.py\u001b[0m in \u001b[0;36mapply_series_generator\u001b[1;34m(self)\u001b[0m\n\u001b[0;32m    275\u001b[0m             \u001b[1;32mtry\u001b[0m\u001b[1;33m:\u001b[0m\u001b[1;33m\u001b[0m\u001b[0m\n\u001b[0;32m    276\u001b[0m                 \u001b[1;32mfor\u001b[0m \u001b[0mi\u001b[0m\u001b[1;33m,\u001b[0m \u001b[0mv\u001b[0m \u001b[1;32min\u001b[0m \u001b[0menumerate\u001b[0m\u001b[1;33m(\u001b[0m\u001b[0mseries_gen\u001b[0m\u001b[1;33m)\u001b[0m\u001b[1;33m:\u001b[0m\u001b[1;33m\u001b[0m\u001b[0m\n\u001b[1;32m--> 277\u001b[1;33m                     \u001b[0mresults\u001b[0m\u001b[1;33m[\u001b[0m\u001b[0mi\u001b[0m\u001b[1;33m]\u001b[0m \u001b[1;33m=\u001b[0m \u001b[0mself\u001b[0m\u001b[1;33m.\u001b[0m\u001b[0mf\u001b[0m\u001b[1;33m(\u001b[0m\u001b[0mv\u001b[0m\u001b[1;33m)\u001b[0m\u001b[1;33m\u001b[0m\u001b[0m\n\u001b[0m\u001b[0;32m    278\u001b[0m                     \u001b[0mkeys\u001b[0m\u001b[1;33m.\u001b[0m\u001b[0mappend\u001b[0m\u001b[1;33m(\u001b[0m\u001b[0mv\u001b[0m\u001b[1;33m.\u001b[0m\u001b[0mname\u001b[0m\u001b[1;33m)\u001b[0m\u001b[1;33m\u001b[0m\u001b[0m\n\u001b[0;32m    279\u001b[0m             \u001b[1;32mexcept\u001b[0m \u001b[0mException\u001b[0m \u001b[1;32mas\u001b[0m \u001b[0me\u001b[0m\u001b[1;33m:\u001b[0m\u001b[1;33m\u001b[0m\u001b[0m\n",
      "\u001b[1;32m<ipython-input-335-79ab86777b2c>\u001b[0m in \u001b[0;36m<lambda>\u001b[1;34m(x)\u001b[0m\n\u001b[0;32m      3\u001b[0m \u001b[0mmonthdf\u001b[0m\u001b[1;33m.\u001b[0m\u001b[0mindex\u001b[0m\u001b[1;33m.\u001b[0m\u001b[0mastype\u001b[0m\u001b[1;33m(\u001b[0m\u001b[0mint\u001b[0m\u001b[1;33m)\u001b[0m\u001b[1;33m\u001b[0m\u001b[0m\n\u001b[0;32m      4\u001b[0m \u001b[1;33m\u001b[0m\u001b[0m\n\u001b[1;32m----> 5\u001b[1;33m \u001b[0mmonthdf\u001b[0m\u001b[1;33m.\u001b[0m\u001b[0mapply\u001b[0m\u001b[1;33m(\u001b[0m\u001b[1;32mlambda\u001b[0m \u001b[0mx\u001b[0m\u001b[1;33m:\u001b[0m \u001b[0mcalendar\u001b[0m\u001b[1;33m.\u001b[0m\u001b[0mmonth_abbr\u001b[0m\u001b[1;33m[\u001b[0m\u001b[0mx\u001b[0m\u001b[1;33m]\u001b[0m\u001b[1;33m)\u001b[0m\u001b[1;33m\u001b[0m\u001b[0m\n\u001b[0m",
      "\u001b[1;32m~\\AppData\\Local\\Continuum\\anaconda3\\lib\\calendar.py\u001b[0m in \u001b[0;36m__getitem__\u001b[1;34m(self, i)\u001b[0m\n\u001b[0;32m     57\u001b[0m \u001b[1;33m\u001b[0m\u001b[0m\n\u001b[0;32m     58\u001b[0m     \u001b[1;32mdef\u001b[0m \u001b[0m__getitem__\u001b[0m\u001b[1;33m(\u001b[0m\u001b[0mself\u001b[0m\u001b[1;33m,\u001b[0m \u001b[0mi\u001b[0m\u001b[1;33m)\u001b[0m\u001b[1;33m:\u001b[0m\u001b[1;33m\u001b[0m\u001b[0m\n\u001b[1;32m---> 59\u001b[1;33m         \u001b[0mfuncs\u001b[0m \u001b[1;33m=\u001b[0m \u001b[0mself\u001b[0m\u001b[1;33m.\u001b[0m\u001b[0m_months\u001b[0m\u001b[1;33m[\u001b[0m\u001b[0mi\u001b[0m\u001b[1;33m]\u001b[0m\u001b[1;33m\u001b[0m\u001b[0m\n\u001b[0m\u001b[0;32m     60\u001b[0m         \u001b[1;32mif\u001b[0m \u001b[0misinstance\u001b[0m\u001b[1;33m(\u001b[0m\u001b[0mi\u001b[0m\u001b[1;33m,\u001b[0m \u001b[0mslice\u001b[0m\u001b[1;33m)\u001b[0m\u001b[1;33m:\u001b[0m\u001b[1;33m\u001b[0m\u001b[0m\n\u001b[0;32m     61\u001b[0m             \u001b[1;32mreturn\u001b[0m \u001b[1;33m[\u001b[0m\u001b[0mf\u001b[0m\u001b[1;33m(\u001b[0m\u001b[0mself\u001b[0m\u001b[1;33m.\u001b[0m\u001b[0mformat\u001b[0m\u001b[1;33m)\u001b[0m \u001b[1;32mfor\u001b[0m \u001b[0mf\u001b[0m \u001b[1;32min\u001b[0m \u001b[0mfuncs\u001b[0m\u001b[1;33m]\u001b[0m\u001b[1;33m\u001b[0m\u001b[0m\n",
      "\u001b[1;31mTypeError\u001b[0m: ('list indices must be integers or slices, not Series', 'occurred at index Deaths')"
     ]
    }
   ],
   "source": [
    "import calendar\n",
    "\n",
    "monthdf.index.astype(int)\n",
    "\n",
    "monthdf.apply(lambda x: calendar.month_abbr[x])"
   ]
  },
  {
   "cell_type": "code",
   "execution_count": 119,
   "metadata": {},
   "outputs": [],
   "source": [
    "df_month = df[\"Month\"].value_counts().sort_values()\n"
   ]
  },
  {
   "cell_type": "code",
   "execution_count": 342,
   "metadata": {},
   "outputs": [],
   "source": [
    "df_month.index = df_month.index.astype(int)"
   ]
  },
  {
   "cell_type": "code",
   "execution_count": 366,
   "metadata": {},
   "outputs": [
    {
     "data": {
      "text/plain": [
       "Int64Index([4, 9, 8, 1, 2, 5, 3, 7, 6, 10, 12, 11], dtype='int64')"
      ]
     },
     "execution_count": 366,
     "metadata": {},
     "output_type": "execute_result"
    }
   ],
   "source": [
    "month_names = {1: \"Jan\", 2: \"Feb\", 3: \"Mar\", 4: \"Apr\", 5: \"May\", 6: \"Jun\", \n",
    "               7: \"Jul\", 8: \"Aug\", 9: \"Sep\", 10: \"Oct\", 11: \"Nov\", 12: \"Dec\"}\n",
    "\n",
    "def mapper(month):\n",
    "    return month_names[month]\n",
    "\n",
    "for month in df_month.index:\n",
    "    mapper(month)\n",
    "\n",
    "df_month.index   \n",
    "#df_month"
   ]
  },
  {
   "cell_type": "code",
   "execution_count": 71,
   "metadata": {},
   "outputs": [
    {
     "data": {
      "text/plain": [
       "340.0833333333333"
      ]
     },
     "execution_count": 71,
     "metadata": {},
     "output_type": "execute_result"
    }
   ],
   "source": [
    "df_month.mean()"
   ]
  },
  {
   "cell_type": "code",
   "execution_count": 337,
   "metadata": {},
   "outputs": [
    {
     "data": {
      "text/plain": [
       "count     12.000000\n",
       "mean     340.083333\n",
       "std       25.949105\n",
       "min      314.000000\n",
       "25%      318.750000\n",
       "50%      327.500000\n",
       "75%      357.750000\n",
       "max      388.000000\n",
       "Name: Month, dtype: float64"
      ]
     },
     "execution_count": 337,
     "metadata": {},
     "output_type": "execute_result"
    }
   ],
   "source": [
    "df_month.describe()"
   ]
  },
  {
   "cell_type": "code",
   "execution_count": 336,
   "metadata": {},
   "outputs": [
    {
     "data": {
      "text/plain": [
       "<matplotlib.axes._subplots.AxesSubplot at 0x1fc2d834518>"
      ]
     },
     "execution_count": 336,
     "metadata": {},
     "output_type": "execute_result"
    },
    {
     "data": {
      "image/png": "[encoded data removed]",
      "text/plain": [
       "<Figure size 432x288 with 1 Axes>"
      ]
     },
     "metadata": {},
     "output_type": "display_data"
    }
   ],
   "source": [
    "plt.ylabel(\"Number of Deaths\")\n",
    "plt.xlabel(\"Month of the Year\")\n",
    "my_xticks = [\"November\", \"December\", \"October\", \"June\", \"July\", \"March\", \"May\", \n",
    "             \"February\", \"January\", \"August\", \"September\", \"April\"]\n",
    "plt.xticks(x, my_xticks)\n",
    "plt.title(\"Number of Deaths Per Month\")\n",
    "plt.axhline(340, color=\"blue\")\n",
    "plt.axhline(df_month.mean() + df_month.std(), color = \"black\", linestyle = \"dashed\")\n",
    "plt.axhline(df_month.mean() - df_month.std(), color = \"black\", linestyle = \"dashed\")\n",
    "plt.ylim(280, 400)\n",
    "df[\"Month\"].value_counts().plot.bar()\n"
   ]
  },
  {
   "cell_type": "code",
   "execution_count": 87,
   "metadata": {},
   "outputs": [
    {
     "data": {
      "text/plain": [
       "HARTFORD             428\n",
       "NEW HAVEN            303\n",
       "WATERBURY            283\n",
       "BRIDGEPORT           271\n",
       "NEW BRITAIN          169\n",
       "NORWICH              124\n",
       "MERIDEN              120\n",
       "BRISTOL              117\n",
       "DANBURY              111\n",
       "NEW LONDON           110\n",
       "TORRINGTON            88\n",
       "MIDDLETOWN            82\n",
       "MANCHESTER            79\n",
       "ENFIELD               68\n",
       "STAMFORD              60\n",
       "WEST HAVEN            60\n",
       "MILFORD               59\n",
       "NORWALK               56\n",
       "EAST HARTFORD         54\n",
       "DERBY                 53\n",
       "SOUTHINGTON           49\n",
       "WILLIMANTIC           43\n",
       "STRATFORD             43\n",
       "VERNON                39\n",
       "HAMDEN                38\n",
       "NEW MILFORD           35\n",
       "GROTON                33\n",
       "NAUGATUCK             33\n",
       "WALLINGFORD           31\n",
       "BRANFORD              26\n",
       "                    ... \n",
       "NEW PRESTON            1\n",
       "OLD LYME               1\n",
       "BOLTON                 1\n",
       "MORRIS                 1\n",
       "GALES FERRY            1\n",
       "BARKHAMSTED            1\n",
       "WASHINGTON             1\n",
       "6340                   1\n",
       "KENT                   1\n",
       "BAKERSVILLE            1\n",
       "NORTH GRANBY           1\n",
       "AMSTON                 1\n",
       "WEST STAFFORD          1\n",
       "BRIDGEWATER            1\n",
       "EAST WOODSTOCK         1\n",
       "BOZRAH                 1\n",
       "ONECO                  1\n",
       "STAFFORD SPGS          1\n",
       "CORNWALL BRIDGE        1\n",
       "PROSPECT               1\n",
       "S GLASTONBURY          1\n",
       "SPRAGUE                1\n",
       "W HAVEN                1\n",
       "HANOVER                1\n",
       "NO HAVEN               1\n",
       "QUINEBAUG              1\n",
       "WARREN                 1\n",
       "HIGGANUM               1\n",
       "GROTON LONG POINT      1\n",
       "VERNON-ROCKVILLE       1\n",
       "Name: Death City, Length: 206, dtype: int64"
      ]
     },
     "execution_count": 87,
     "metadata": {},
     "output_type": "execute_result"
    }
   ],
   "source": [
    "df[\"Death City\"].value_counts()"
   ]
  },
  {
   "cell_type": "code",
   "execution_count": 59,
   "metadata": {},
   "outputs": [
    {
     "data": {
      "text/plain": [
       "RangeIndex(start=0, stop=4083, step=1)"
      ]
     },
     "execution_count": 59,
     "metadata": {},
     "output_type": "execute_result"
    }
   ],
   "source": [
    "df.index"
   ]
  },
  {
   "cell_type": "code",
   "execution_count": 60,
   "metadata": {},
   "outputs": [
    {
     "data": {
      "text/plain": [
       "147"
      ]
     },
     "execution_count": 60,
     "metadata": {},
     "output_type": "execute_result"
    }
   ],
   "source": [
    "Hartford_Resident = df[\"Death City\"] == \"NEW HAVEN\"\n",
    "H_Death = df[\"Heroin\"] == \"Y\"\n",
    "len(df[Hartford_Resident & H_Death].index)"
   ]
  },
  {
   "cell_type": "code",
   "execution_count": 61,
   "metadata": {},
   "outputs": [
    {
     "name": "stdout",
     "output_type": "stream",
     "text": [
      "{'Heroin': 241, 'Cocaine': 157, 'Fentanyl': 178, 'Oxycodone': 28, 'Oxymorphone': 4, 'EtOH': 93, 'Hydrocodone': 4, 'Benzodiazepine': 61, 'Methadone': 23, 'Amphet': 8, 'Tramad': 7, 'Morphine (not heroin)': 0}\n"
     ]
    }
   ],
   "source": [
    "Hartford = {}\n",
    "\n",
    "def Hartfordcount(drug):\n",
    "    Hartford_resident = df[\"Death City\"] == \"HARTFORD\"\n",
    "    drug_death = df[drug] == \"Y\"\n",
    "    Hartford[drug] = len(df[Hartford_resident & drug_death])\n",
    "\n",
    "\n",
    "Hartfordcount(\"Heroin\")\n",
    "Hartfordcount(\"Cocaine\")\n",
    "Hartfordcount(\"Fentanyl\")\n",
    "Hartfordcount(\"Oxycodone\")\n",
    "Hartfordcount(\"Oxymorphone\")\n",
    "Hartfordcount(\"EtOH\")\n",
    "Hartfordcount(\"Hydrocodone\")\n",
    "Hartfordcount(\"Benzodiazepine\")\n",
    "Hartfordcount(\"Methadone\")\n",
    "Hartfordcount(\"Amphet\")\n",
    "Hartfordcount(\"Tramad\")\n",
    "Hartfordcount(\"Morphine (not heroin)\")\n",
    "\n",
    "\n",
    "print(Hartford)"
   ]
  },
  {
   "cell_type": "code",
   "execution_count": 62,
   "metadata": {},
   "outputs": [
    {
     "name": "stdout",
     "output_type": "stream",
     "text": [
      "{'Heroin': 147, 'Cocaine': 97, 'Fentanyl': 87, 'Oxycodone': 32, 'Oxymorphone': 2, 'EtOH': 70, 'Hydrocodone': 3, 'Benzodiazepine': 84, 'Methadone': 54, 'Amphet': 8, 'Tramad': 9, 'Morphine (not heroin)': 3}\n"
     ]
    }
   ],
   "source": [
    "New_Haven = {}\n",
    "\n",
    "def NHcount(drug):\n",
    "    NH_resident = df[\"Death City\"] == \"NEW HAVEN\"\n",
    "    drug_death = df[drug] == \"Y\"\n",
    "    New_Haven[drug] = len(df[NH_resident & drug_death])\n",
    "\n",
    "\n",
    "NHcount(\"Heroin\")\n",
    "NHcount(\"Cocaine\")\n",
    "NHcount(\"Fentanyl\")\n",
    "NHcount(\"Oxycodone\")\n",
    "NHcount(\"Oxymorphone\")\n",
    "NHcount(\"EtOH\")\n",
    "NHcount(\"Hydrocodone\")\n",
    "NHcount(\"Benzodiazepine\")\n",
    "NHcount(\"Methadone\")\n",
    "NHcount(\"Amphet\")\n",
    "NHcount(\"Tramad\")\n",
    "NHcount(\"Morphine (not heroin)\")\n",
    "\n",
    "\n",
    "print(New_Haven)"
   ]
  },
  {
   "cell_type": "code",
   "execution_count": 63,
   "metadata": {},
   "outputs": [
    {
     "name": "stdout",
     "output_type": "stream",
     "text": [
      "{'Heroin': 154, 'Cocaine': 103, 'Fentanyl': 86, 'Oxycodone': 27, 'Oxymorphone': 2, 'EtOH': 66, 'Hydrocodone': 3, 'Benzodiazepine': 69, 'Methadone': 38, 'Amphet': 6, 'Tramad': 7, 'Morphine (not heroin)': 2}\n"
     ]
    }
   ],
   "source": [
    "Waterbury = {}\n",
    "\n",
    "def Waterburycount(drug):\n",
    "    Waterbury_resident = df[\"Death City\"] == \"WATERBURY\"\n",
    "    drug_death = df[drug] == \"Y\"\n",
    "    Waterbury[drug] = len(df[Waterbury_resident & drug_death])\n",
    "\n",
    "\n",
    "Waterburycount(\"Heroin\")\n",
    "Waterburycount(\"Cocaine\")\n",
    "Waterburycount(\"Fentanyl\")\n",
    "Waterburycount(\"Oxycodone\")\n",
    "Waterburycount(\"Oxymorphone\")\n",
    "Waterburycount(\"EtOH\")\n",
    "Waterburycount(\"Hydrocodone\")\n",
    "Waterburycount(\"Benzodiazepine\")\n",
    "Waterburycount(\"Methadone\")\n",
    "Waterburycount(\"Amphet\")\n",
    "Waterburycount(\"Tramad\")\n",
    "Waterburycount(\"Morphine (not heroin)\")\n",
    "\n",
    "\n",
    "print(Waterbury)"
   ]
  },
  {
   "cell_type": "code",
   "execution_count": 64,
   "metadata": {},
   "outputs": [
    {
     "name": "stdout",
     "output_type": "stream",
     "text": [
      "{'Heroin': 139, 'Cocaine': 101, 'Fentanyl': 115, 'Oxycodone': 25, 'Oxymorphone': 6, 'EtOH': 81, 'Hydrocodone': 5, 'Benzodiazepine': 70, 'Methadone': 35, 'Amphet': 5, 'Tramad': 2, 'Morphine (not heroin)': 1}\n"
     ]
    }
   ],
   "source": [
    "Bridgeport = {}\n",
    "\n",
    "def Bridgeportcount(drug):\n",
    "    Bridgeport_resident = df[\"Death City\"] == \"BRIDGEPORT\"\n",
    "    drug_death = df[drug] == \"Y\"\n",
    "    Bridgeport[drug] = len(df[Bridgeport_resident & drug_death])\n",
    "\n",
    "\n",
    "Bridgeportcount(\"Heroin\")\n",
    "Bridgeportcount(\"Cocaine\")\n",
    "Bridgeportcount(\"Fentanyl\")\n",
    "Bridgeportcount(\"Oxycodone\")\n",
    "Bridgeportcount(\"Oxymorphone\")\n",
    "Bridgeportcount(\"EtOH\")\n",
    "Bridgeportcount(\"Hydrocodone\")\n",
    "Bridgeportcount(\"Benzodiazepine\")\n",
    "Bridgeportcount(\"Methadone\")\n",
    "Bridgeportcount(\"Amphet\")\n",
    "Bridgeportcount(\"Tramad\")\n",
    "Bridgeportcount(\"Morphine (not heroin)\")\n",
    "\n",
    "\n",
    "print(Bridgeport)"
   ]
  },
  {
   "cell_type": "code",
   "execution_count": 65,
   "metadata": {},
   "outputs": [
    {
     "name": "stdout",
     "output_type": "stream",
     "text": [
      "{'Heroin': 139, 'Cocaine': 101, 'Fentanyl': 115, 'Oxycodone': 25, 'Oxymorphone': 6, 'EtOH': 81, 'Hydrocodone': 5, 'Benzodiazepine': 70, 'Methadone': 35, 'Amphet': 5, 'Tramad': 2, 'Morphine (not heroin)': 1}\n",
      "{'Heroin': 147, 'Cocaine': 97, 'Fentanyl': 87, 'Oxycodone': 32, 'Oxymorphone': 2, 'EtOH': 70, 'Hydrocodone': 3, 'Benzodiazepine': 84, 'Methadone': 54, 'Amphet': 8, 'Tramad': 9, 'Morphine (not heroin)': 3}\n",
      "{'Heroin': 241, 'Cocaine': 157, 'Fentanyl': 178, 'Oxycodone': 28, 'Oxymorphone': 4, 'EtOH': 93, 'Hydrocodone': 4, 'Benzodiazepine': 61, 'Methadone': 23, 'Amphet': 8, 'Tramad': 7, 'Morphine (not heroin)': 0}\n",
      "{'Heroin': 154, 'Cocaine': 103, 'Fentanyl': 86, 'Oxycodone': 27, 'Oxymorphone': 2, 'EtOH': 66, 'Hydrocodone': 3, 'Benzodiazepine': 69, 'Methadone': 38, 'Amphet': 6, 'Tramad': 7, 'Morphine (not heroin)': 2}\n"
     ]
    }
   ],
   "source": [
    "print(Bridgeport)\n",
    "print(New_Haven)\n",
    "print(Hartford)\n",
    "print(Waterbury)"
   ]
  },
  {
   "cell_type": "code",
   "execution_count": 126,
   "metadata": {},
   "outputs": [
    {
     "data": {
      "text/plain": [
       "<matplotlib.legend.Legend at 0x1fc2d9f7ef0>"
      ]
     },
     "execution_count": 126,
     "metadata": {},
     "output_type": "execute_result"
    },
    {
     "data": {
      "image/png": "[encoded data removed]",
      "text/plain": [
       "<Figure size 432x288 with 1 Axes>"
      ]
     },
     "metadata": {},
     "output_type": "display_data"
    }
   ],
   "source": [
    "df3 = pd.DataFrame()\n",
    "df3[\"Cities\"] = [\"Hartford\", \"New Haven\", \"Waterbury\", \"Bridgeport\"]\n",
    "df3[\"Heroin\"] = [Hartford[\"Heroin\"], New_Haven[\"Heroin\"], Waterbury[\"Heroin\"], Bridgeport[\"Heroin\"]]\n",
    "df3[\"Fentanyl\"] = [Hartford[\"Fentanyl\"], New_Haven[\"Fentanyl\"], Waterbury[\"Fentanyl\"], Bridgeport[\"Fentanyl\"]]\n",
    "df3[\"Oxycodone\"] = [Hartford[\"Oxycodone\"], New_Haven[\"Oxycodone\"], Waterbury[\"Oxycodone\"], Bridgeport[\"Oxycodone\"]]\n",
    "df3[\"EtOH\"] = [Hartford[\"EtOH\"], New_Haven[\"EtOH\"], Waterbury[\"EtOH\"], Bridgeport[\"EtOH\"]]\n",
    "df3[\"Benzodiazepine\"] = [Hartford[\"Benzodiazepine\"], New_Haven[\"Benzodiazepine\"], Waterbury[\"Benzodiazepine\"], Bridgeport[\"Benzodiazepine\"]]\n",
    "df3[\"Methadone\"] = [Hartford[\"Methadone\"], New_Haven[\"Methadone\"], Waterbury[\"Methadone\"], Bridgeport[\"Methadone\"]]\n",
    "\n",
    "\n",
    "\n",
    "df3.plot(kind=\"bar\", stacked=True)\n",
    "plt.xlabel(\"Big Four Cities\")\n",
    "plt.ylabel(\"Number of Deaths\")\n",
    "plt.title(\"Causes of Drug-Related Deaths in Big Four Cities\")\n",
    "plt.legend(loc = \"upper right\", bbox_to_anchor=(.9, 0, .5, 1))"
   ]
  },
  {
   "cell_type": "code",
   "execution_count": null,
   "metadata": {},
   "outputs": [],
   "source": []
  }
 ],
 "metadata": {
  "kernelspec": {
   "display_name": "Python 3",
   "language": "python",
   "name": "python3"
  },
  "language_info": {
   "codemirror_mode": {
    "name": "ipython",
    "version": 3
   },
   "file_extension": ".py",
   "mimetype": "text/x-python",
   "name": "python",
   "nbconvert_exporter": "python",
   "pygments_lexer": "ipython3",
   "version": "3.6.5"
  }
 },
 "nbformat": 4,
 "nbformat_minor": 2
}
