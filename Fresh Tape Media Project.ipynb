{
 "cells": [
  {
   "cell_type": "code",
   "execution_count": 162,
   "metadata": {},
   "outputs": [],
   "source": [
    "import pandas as pd\n",
    "import numpy as np\n",
    "import tweepy\n",
    "import twitter\n"
   ]
  },
  {
   "cell_type": "code",
   "execution_count": 163,
   "metadata": {},
   "outputs": [],
   "source": [
    "consumer_key = \"gLUMKRUMrvDmu2m1XEzGq1t4e\"\n",
    "consumer_secret = \"1N6idr96sfW1fIPYJmgcFQlWks4ZsjsvcEDbTx6S1k2qTsnlVI\"\n",
    "access_token = \"1090700974740500480-02NLG7LJYtBL5HkAbNbwAlZaVqjeSl\"\n",
    "access_token_secret = \"qPGV3GAvtSgHlIuPu8tdrqxWyRfG0JWcThg9y6qW6TjCs\""
   ]
  },
  {
   "cell_type": "code",
   "execution_count": 164,
   "metadata": {},
   "outputs": [],
   "source": [
    "from searchtweets import ResultStream, gen_rule_payload, load_credentials"
   ]
  },
  {
   "cell_type": "code",
   "execution_count": 165,
   "metadata": {},
   "outputs": [
    {
     "name": "stderr",
     "output_type": "stream",
     "text": [
      "Grabbing bearer token from OAUTH\n"
     ]
    }
   ],
   "source": [
    "premium_search_args = load_credentials(filename=\"twitter_keys\",\n",
    "                                      env_overwrite=False)"
   ]
  },
  {
   "cell_type": "code",
   "execution_count": 166,
   "metadata": {},
   "outputs": [
    {
     "name": "stdout",
     "output_type": "stream",
     "text": [
      "{\"query\": \"url:'https://twitter.com/TwitterSports/status/1024728784505688064'\", \"maxResults\": 100, \"toDate\": \"201808030000\", \"fromDate\": \"201808020000\"}\n"
     ]
    }
   ],
   "source": [
    "rule = gen_rule_payload(\"url:'https://twitter.com/TwitterSports/status/1024728784505688064'\", from_date=\"2018-08-02\", to_date=\"2018-08-03\", results_per_call=100)\n",
    "print(rule)"
   ]
  },
  {
   "cell_type": "code",
   "execution_count": 171,
   "metadata": {
    "scrolled": true
   },
   "outputs": [
    {
     "name": "stdout",
     "output_type": "stream",
     "text": [
      "{\"query\": \"to:TwitterSports\", \"maxResults\": 100, \"toDate\": \"201808030000\", \"fromDate\": \"201808010000\"}\n"
     ]
    }
   ],
   "source": [
    "rule = gen_rule_payload(\"to:TwitterSports\", from_date=\"2018-08-01\", to_date=\"2018-08-03\", results_per_call=100)\n",
    "print(rule)"
   ]
  },
  {
   "cell_type": "code",
   "execution_count": 168,
   "metadata": {},
   "outputs": [],
   "source": [
    "from searchtweets import collect_results\n"
   ]
  },
  {
   "cell_type": "code",
   "execution_count": 172,
   "metadata": {},
   "outputs": [],
   "source": [
    "tweets = collect_results(rule,\n",
    "                         max_results=100,\n",
    "                         result_stream_args=premium_search_args) # change this if you need to\n"
   ]
  },
  {
   "cell_type": "code",
   "execution_count": 173,
   "metadata": {},
   "outputs": [
    {
     "name": "stdout",
     "output_type": "stream",
     "text": [
      "@TwitterSports @TwitterLive Well said..\n",
      "\n",
      "@TwitterSports @MLS https://t.co/qaRoHebD52\n",
      "\n",
      "@TwitterSports @TwitterLive Wow twitter sports is really wasting their time\n",
      "\n",
      "@TwitterSports @TwitterLive @RicardoCantuC que es esto?\n",
      "\n",
      "@TwitterSports @TwitterLive I watched for like 20 minutes and NOTHING happened!\n",
      "\n",
      "@TwitterSports @TwitterLive Twitter trolls really hate women. They came out like the zombie apocalypse in the comments 🤣🤣\n",
      "\n",
      "One sniff of a tweet empowering women hits their fragility HARD. They swarmed on here\n",
      "\n",
      "#TheFragileLife https://t.co/IYAN7xLPz0\n",
      "\n",
      "@TwitterSports @MLS #SandsMVP\n",
      "\n",
      "@TwitterSports @TwitterLive @EmptySeatsPics Live! Part Deux\n",
      "\n",
      "@TwitterSports @TwitterLive Hey\n",
      "\n",
      "@TwitterSports @TwitterLive I'd watch if they stood for the National Anthem without being told to do so\n",
      "\n",
      "@TwitterSports @TwitterLive .@junior_miller\n",
      "\n",
      "@TwitterSports @TwitterLive The WNBA isn’t real......\n",
      "\n",
      "@TwitterSports @TwitterLive I’m good luv enjoy\n",
      "\n",
      "@TwitterSports @TwitterLive  https://t.co/YMYJglUkXU\n",
      "\n",
      "@TwitterSports @TwitterLive subscribed\n",
      "\n",
      "@TwitterSports @TwitterLive  https://t.co/wztK1mcget\n",
      "\n",
      "@TwitterSports @WNBA @seattlestorm @PhoenixMercury where da game at\n",
      "\n",
      "@TwitterSports @WNBA @seattlestorm @PhoenixMercury Where’s the game?  It has started and there’s no live video...\n",
      "\n",
      "@TwitterSports @WNBA @seattlestorm @PhoenixMercury This isn't Seattle Phoenix???\n",
      "\n",
      "@TwitterSports @WNBA @seattlestorm @PhoenixMercury It won't play!!!! I'm dying.\n",
      "\n",
      "@TwitterSports @TwitterLive I like women’s college basketball but lost interest in the WNBA after a former player said how she was bullied for being Christian and straight.\n",
      "\n",
      "@TwitterSports @TwitterLive Go Angel! #L1C4\n",
      "\n",
      "@TwitterSports @WNBA @seattlestorm @PhoenixMercury What is going on?!\n",
      "\n",
      "@TwitterSports @WNBA @seattlestorm @PhoenixMercury This is immensely disappointing.\n",
      "\n",
      "@TwitterSports @WNBA @seattlestorm @PhoenixMercury Someone asleep at the switch? Need some @seattlestorm hoops!\n",
      "\n",
      "@TwitterSports @TwitterLive https://t.co/Y9IdPolOQS\n",
      "\n",
      "pray.\n",
      "\n",
      "@TwitterSports @WNBA @seattlestorm @PhoenixMercury This is a basketball emergency.\n",
      "\n",
      "@TwitterSports @WNBA @seattlestorm @PhoenixMercury Where is the storm vs Mercury game??\n",
      "\n",
      "@TwitterSports please fix the WNBA feed to switch over to Mercury-Storm! Thank you!\n",
      "\n",
      "@TwitterSports @WNBA @seattlestorm @PhoenixMercury anyone not getting phoenix vs storm atm?\n",
      "\n",
      "@TwitterSports @TwitterLive These replys are more entertaining then the wnba\n",
      "\n",
      "@TwitterSports @WNBA @seattlestorm @PhoenixMercury where is the game?!?! 😫\n",
      "\n",
      "@TwitterSports @WNBA @seattlestorm @PhoenixMercury c'mon! at least give us an update if you are having technical difficulties!\n",
      "\n",
      "@TwitterSports @WNBA @seattlestorm @PhoenixMercury Glad it’s not just us. What’s up @TwitterSports??\n",
      "\n",
      "@TwitterSports wnba seattle live is not up thanks\n",
      "\n",
      "@TwitterSports @WNBA @seattlestorm @PhoenixMercury Where’s the game at??\n",
      "\n",
      "@TwitterSports can you check your live feeds and give us an update pls\n",
      "\n",
      "@TwitterSports @WNBA @seattlestorm @PhoenixMercury Hello?! Anybody there?? Fix this please and thank you\n",
      "\n",
      "@TwitterSports @WNBA @seattlestorm @PhoenixMercury Still waiting on the game.....\n",
      "\n",
      "@TwitterSports @WNBA @seattlestorm @PhoenixMercury Where is the Seattle Storm vs Phoenix Mercury game at????\n",
      "\n",
      "@TwitterSports @TwitterLive Kids learn to play rock\n",
      "\n",
      "@TwitterSports Please fix the WNBA game. I need to see my team play!!!\n",
      "\n",
      "@TwitterSports @WNBA @seattlestorm @PhoenixMercury It doesn't work. Said the game is over (refers to the Washington Atlanta game). This Twitter game viewing is worthless. Makes me wonder why I pay for League Pass since the games aren't live on it very often.\n",
      "\n",
      "@TwitterSports @TwitterLive @alisongrant133 comments on this really makes you feel worthless just for being born with a vagina :)\n",
      "\n",
      "@TwitterSports @WNBA @seattlestorm @PhoenixMercury Um, if you are going to be the only option for watching the @SeattleStorm you should definitely let us SEE the GAME!!!! Help, I need my Storm game.  (Where is @JOEtvSEA when you need it?\n",
      "\n",
      "@TwitterSports @WNBA @seattlestorm @PhoenixMercury Where’s the live stream?! Come on, y’all. #WatchMeWork #iwishicould\n",
      "\n",
      "@TwitterSports @WNBA @seattlestorm @PhoenixMercury I can't believe I waited for the  game and no game. I'm so disappointed with @TwitterSports right now.\n",
      "\n",
      "@TwitterSports @WNBA Why is it so difficult to watch a WNBA game? You need to add a roku channel as another season pass streaming option, do that and I’ll buy the season pass next year.\n",
      "\n",
      "@TwitterSports @WNBA @seattlestorm @PhoenixMercury Ridiculous!  You promote the game then don’t even show it.  I hope at least the replay will be available when the game it over. 😡\n",
      "\n",
      "@TwitterSports @WNBA @seattlestorm @PhoenixMercury Come on where's Mercury game?? Let us know what is going on!\n",
      "\n",
      "@TwitterSports @TwitterLive 1.4 million viewers? No.\n",
      "\n",
      "@TwitterSports @WNBA @seattlestorm @PhoenixMercury no updates or anything?!?\n",
      "\n",
      "@TwitterSports @TwitterLive  https://t.co/HzkFrTX0PF\n",
      "\n",
      "@TwitterSports @WNBA @seattlestorm @PhoenixMercury More @WNBA 🏀 coming at you LIVE on Twitter\n",
      "\n",
      "NOT!\n",
      "\n",
      "Watch @seattlestorm vs @PhoenixMercury now.\n",
      "https://t.co/S6l6u9ejg1 https://t.co/wmSSMEfBdS\n",
      "\n",
      "@TwitterSports @WNBA Feed not working! Can you fix ASAP?\n",
      "\n",
      "@TwitterSports @WNBA @seattlestorm @PhoenixMercury well since we missed the first half, will the entire game be available to watch later?\n",
      "\n",
      "@TwitterSports @WNBA @seattlestorm @PhoenixMercury HALLELUJAH 🙌\n",
      "\n",
      "@TwitterSports @TwitterLive Just fell asleep\n",
      "\n",
      "@TwitterSports @TwitterLive Remember when people cared about women's sports? Yeah, me either.\n",
      "\n",
      "@TwitterSports @TwitterLive  https://t.co/oTesvmnozZ\n",
      "\n",
      "@TwitterSports @TwitterLive Still more exciting than European basketball\n",
      "\n",
      "@TwitterSports @TwitterLive Happy for BBAD is on now. https://t.co/BCX5f7E0zH\n",
      "\n",
      "@TwitterSports @MLS 😘\n",
      "\n",
      "@TwitterSports @Twitter Please verify @Fred08oficial\n",
      "\n",
      "@TwitterSports  https://t.co/UJAnxhv3nR\n",
      "\n",
      "@TwitterSports @TwitterLive Are you shadow banding them.\n",
      "\n",
      "@TwitterSports @TwitterLive IN SPANISH PLEASE! O TRADUCTOR ON LINE!\n",
      "\n",
      "@TwitterSports @TwitterLive Boycott NFL\n",
      "\n",
      "@TwitterSports @TwitterLive Why this dude have horns ?\n",
      "\n",
      "@TwitterSports @TwitterLive Wentz below Newton tells me you have 0 credibility.\n",
      "\n",
      "@TwitterSports THE LEAGUES I RANK FOR MY \"BOWSLAM REVIEW\" WRESTLING BLOG ARE LISTED RIGHT NOW @MMAFANRBB.\n",
      "\n",
      "@TwitterSports Hi! Do you have any quantitative (or qualitative) info about the use of Twitter during the @FIFAWorldCup 2018? I need this data for a academic paper with Twitter data... Thanks!\n",
      "\n",
      "@TwitterSports @FIFAWorldCup @TwitterData Thanks for answering, I have just checked there (and contacted them).\n",
      "\n",
      "@TwitterSports @TwitterLive Why is this showing up in my feed 4 months later??\n",
      "\n",
      "@TwitterSports @MLS I think you missed the best striker of the league... Josef Martinez...big mistake...hope he scores so you will remember him\n",
      "\n",
      "@TwitterSports Can't wait! The squad's ready to go. #MLSAllStar https://t.co/jw2px9QRBQ\n",
      "\n",
      "@TwitterSports @TwitterLive  https://t.co/zfFdZv7zZq\n",
      "\n",
      "@TwitterSports @Twitter @MLS Just for the record this is Juventus team B not even the real team. What an insult to our league\n",
      "\n",
      "@TwitterSports @MLS @juventusfc isn't wearing black and white stripe kits...WTF who decided that? Those fans who weren't going to watch but started channel surfing and saw the black and white and might just watch but see these shitty solid shite, the history, the legacy of black white. Shameful 🤔\n",
      "\n",
      "@TwitterSports\n",
      "\n",
      "@TwitterSports @Twitter @MLS pitch better have my money\n",
      "\n",
      "@TwitterSports @TwitterLive Before &amp; After photo?\n",
      "\n",
      "@TwitterSports @Twitter @MLS smack my pitch up\n",
      "\n",
      "@TwitterSports @Twitter @MLS Nice\n",
      "\n",
      "@TwitterSports @TwitterLive  https://t.co/gZWx3iiw5o\n",
      "\n",
      "@TwitterSports @TwitterLive @pausa03\n",
      "\n",
      "@TwitterSports @TwitterLive Let’s goooo tiger 🐅 https://t.co/79Q2hoUIk1\n",
      "\n",
      "@TwitterSports @TwitterLive Let’s go Tiger!!!\n",
      "\n",
      "@TwitterSports @TwitterLive Feeding us Tiger BS all day.\n",
      "\n",
      "@TwitterSports @TwitterLive What a royal bore - best. use I ever found for a golf ball was playing squash with it\n",
      "\n",
      "@TwitterSports @TwitterLive I hate golf 😒 just bcz this👇🏽 F Moron https://t.co/Wnh3eNYF0g\n",
      "\n",
      "@TwitterSports @TwitterLive Per un pelo la imbucava\n",
      "\n",
      "@TwitterSports @TwitterLive Have you finished coloring the book?\n",
      "\n",
      "@TwitterSports So no live PGA Tour today?  Weak man.\n",
      "\n",
      "@TwitterSports @PGATOUR where did it go?! I was watching it and now it's gone?\n",
      "\n",
      "@TwitterSports @TwitterLive You’re blocked for @Twitter ban on @realDonaldTrump supporters.\n",
      "\n",
      "@TwitterSports @TwitterLive Bizim sümer ezgü değil mi o ?\n",
      "\n",
      "@TwitterSports @PGATOUR What happened to today’s live streaming?\n",
      "\n",
      "@TwitterSports @TwitterLive O\n",
      "\n",
      "@TwitterSports @MLS Takes me back @jarzod @TJay  https://t.co/OL9sMAUutp\n",
      "\n"
     ]
    }
   ],
   "source": [
    "[print(tweet.all_text, end='\\n\\n') for tweet in tweets[0:140]];\n"
   ]
  },
  {
   "cell_type": "code",
   "execution_count": null,
   "metadata": {},
   "outputs": [],
   "source": []
  },
  {
   "cell_type": "code",
   "execution_count": null,
   "metadata": {},
   "outputs": [],
   "source": []
  },
  {
   "cell_type": "code",
   "execution_count": 97,
   "metadata": {},
   "outputs": [],
   "source": [
    "auth = tweepy.OAuthHandler(consumer_key, consumer_secret)\n",
    "auth.set_access_token(access_token, access_token_secret)\n",
    "\n",
    "api = tweepy.API(auth)"
   ]
  },
  {
   "cell_type": "code",
   "execution_count": null,
   "metadata": {},
   "outputs": [],
   "source": []
  },
  {
   "cell_type": "code",
   "execution_count": null,
   "metadata": {},
   "outputs": [],
   "source": []
  },
  {
   "cell_type": "code",
   "execution_count": null,
   "metadata": {},
   "outputs": [],
   "source": []
  },
  {
   "cell_type": "code",
   "execution_count": null,
   "metadata": {},
   "outputs": [],
   "source": []
  },
  {
   "cell_type": "code",
   "execution_count": null,
   "metadata": {},
   "outputs": [],
   "source": []
  },
  {
   "cell_type": "code",
   "execution_count": null,
   "metadata": {},
   "outputs": [],
   "source": []
  },
  {
   "cell_type": "code",
   "execution_count": null,
   "metadata": {},
   "outputs": [],
   "source": []
  },
  {
   "cell_type": "code",
   "execution_count": null,
   "metadata": {},
   "outputs": [],
   "source": []
  },
  {
   "cell_type": "markdown",
   "metadata": {},
   "source": [
    "api = twitter.Api(consumer_key=consumer_key,\n",
    "                 consumer_secret=consumer_secret,\n",
    "                 access_token_key=access_token,\n",
    "                 access_token_secret=access_token_secret)"
   ]
  },
  {
   "cell_type": "code",
   "execution_count": 98,
   "metadata": {},
   "outputs": [],
   "source": [
    "tweet_id = \"1092060103564505088\"\n",
    "max_id = \"1092129195294105600\""
   ]
  },
  {
   "cell_type": "code",
   "execution_count": 25,
   "metadata": {},
   "outputs": [
    {
     "data": {
      "text/plain": [
       "[Status(_api=<tweepy.api.API object at 0x7f81809dea20>, _json={'created_at': 'Wed Feb 13 04:32:55 +0000 2019', 'id': 1095541302123524096, 'id_str': '1095541302123524096', 'text': '@TwitterSports @mrmedina @NBA @HPbasketball you catch this?', 'truncated': False, 'entities': {'hashtags': [], 'symbols': [], 'user_mentions': [{'screen_name': 'TwitterSports', 'name': 'Twitter Sports', 'id': 300392950, 'id_str': '300392950', 'indices': [0, 14]}, {'screen_name': 'mrmedina', 'name': 'alex medina', 'id': 9228382, 'id_str': '9228382', 'indices': [15, 24]}, {'screen_name': 'NBA', 'name': 'NBA', 'id': 19923144, 'id_str': '19923144', 'indices': [25, 29]}, {'screen_name': 'HPbasketball', 'name': 'Hardwood Paroxysm', 'id': 12700662, 'id_str': '12700662', 'indices': [30, 43]}], 'urls': []}, 'metadata': {'iso_language_code': 'en', 'result_type': 'recent'}, 'source': '<a href=\"http://twitter.com/download/android\" rel=\"nofollow\">Twitter for Android</a>', 'in_reply_to_status_id': 1095463902094155777, 'in_reply_to_status_id_str': '1095463902094155777', 'in_reply_to_user_id': 300392950, 'in_reply_to_user_id_str': '300392950', 'in_reply_to_screen_name': 'TwitterSports', 'user': {'id': 166422490, 'id_str': '166422490', 'name': 'Jeff', 'screen_name': 'JeffReedIsMe', 'location': 'Indiana', 'description': 'Storyteller and podcast host for @generalytrivial', 'url': 'https://t.co/J0s9v7ep9d', 'entities': {'url': {'urls': [{'url': 'https://t.co/J0s9v7ep9d', 'expanded_url': 'http://generallytrivial.net', 'display_url': 'generallytrivial.net', 'indices': [0, 23]}]}, 'description': {'urls': []}}, 'protected': False, 'followers_count': 392, 'friends_count': 287, 'listed_count': 14, 'created_at': 'Wed Jul 14 03:16:17 +0000 2010', 'favourites_count': 21341, 'utc_offset': None, 'time_zone': None, 'geo_enabled': True, 'verified': False, 'statuses_count': 18121, 'lang': 'en', 'contributors_enabled': False, 'is_translator': False, 'is_translation_enabled': False, 'profile_background_color': '709397', 'profile_background_image_url': 'http://abs.twimg.com/images/themes/theme6/bg.gif', 'profile_background_image_url_https': 'https://abs.twimg.com/images/themes/theme6/bg.gif', 'profile_background_tile': False, 'profile_image_url': 'http://pbs.twimg.com/profile_images/747898823540826112/xlsLSyC5_normal.jpg', 'profile_image_url_https': 'https://pbs.twimg.com/profile_images/747898823540826112/xlsLSyC5_normal.jpg', 'profile_banner_url': 'https://pbs.twimg.com/profile_banners/166422490/1373083073', 'profile_link_color': 'FF3300', 'profile_sidebar_border_color': '86A4A6', 'profile_sidebar_fill_color': 'A0C5C7', 'profile_text_color': '333333', 'profile_use_background_image': True, 'has_extended_profile': False, 'default_profile': False, 'default_profile_image': False, 'following': False, 'follow_request_sent': False, 'notifications': False, 'translator_type': 'none'}, 'geo': None, 'coordinates': None, 'place': None, 'contributors': None, 'is_quote_status': False, 'retweet_count': 0, 'favorite_count': 0, 'favorited': False, 'retweeted': False, 'lang': 'en'}, created_at=datetime.datetime(2019, 2, 13, 4, 32, 55), id=1095541302123524096, id_str='1095541302123524096', text='@TwitterSports @mrmedina @NBA @HPbasketball you catch this?', truncated=False, entities={'hashtags': [], 'symbols': [], 'user_mentions': [{'screen_name': 'TwitterSports', 'name': 'Twitter Sports', 'id': 300392950, 'id_str': '300392950', 'indices': [0, 14]}, {'screen_name': 'mrmedina', 'name': 'alex medina', 'id': 9228382, 'id_str': '9228382', 'indices': [15, 24]}, {'screen_name': 'NBA', 'name': 'NBA', 'id': 19923144, 'id_str': '19923144', 'indices': [25, 29]}, {'screen_name': 'HPbasketball', 'name': 'Hardwood Paroxysm', 'id': 12700662, 'id_str': '12700662', 'indices': [30, 43]}], 'urls': []}, metadata={'iso_language_code': 'en', 'result_type': 'recent'}, source='Twitter for Android', source_url='http://twitter.com/download/android', in_reply_to_status_id=1095463902094155777, in_reply_to_status_id_str='1095463902094155777', in_reply_to_user_id=300392950, in_reply_to_user_id_str='300392950', in_reply_to_screen_name='TwitterSports', author=User(_api=<tweepy.api.API object at 0x7f81809dea20>, _json={'id': 166422490, 'id_str': '166422490', 'name': 'Jeff', 'screen_name': 'JeffReedIsMe', 'location': 'Indiana', 'description': 'Storyteller and podcast host for @generalytrivial', 'url': 'https://t.co/J0s9v7ep9d', 'entities': {'url': {'urls': [{'url': 'https://t.co/J0s9v7ep9d', 'expanded_url': 'http://generallytrivial.net', 'display_url': 'generallytrivial.net', 'indices': [0, 23]}]}, 'description': {'urls': []}}, 'protected': False, 'followers_count': 392, 'friends_count': 287, 'listed_count': 14, 'created_at': 'Wed Jul 14 03:16:17 +0000 2010', 'favourites_count': 21341, 'utc_offset': None, 'time_zone': None, 'geo_enabled': True, 'verified': False, 'statuses_count': 18121, 'lang': 'en', 'contributors_enabled': False, 'is_translator': False, 'is_translation_enabled': False, 'profile_background_color': '709397', 'profile_background_image_url': 'http://abs.twimg.com/images/themes/theme6/bg.gif', 'profile_background_image_url_https': 'https://abs.twimg.com/images/themes/theme6/bg.gif', 'profile_background_tile': False, 'profile_image_url': 'http://pbs.twimg.com/profile_images/747898823540826112/xlsLSyC5_normal.jpg', 'profile_image_url_https': 'https://pbs.twimg.com/profile_images/747898823540826112/xlsLSyC5_normal.jpg', 'profile_banner_url': 'https://pbs.twimg.com/profile_banners/166422490/1373083073', 'profile_link_color': 'FF3300', 'profile_sidebar_border_color': '86A4A6', 'profile_sidebar_fill_color': 'A0C5C7', 'profile_text_color': '333333', 'profile_use_background_image': True, 'has_extended_profile': False, 'default_profile': False, 'default_profile_image': False, 'following': False, 'follow_request_sent': False, 'notifications': False, 'translator_type': 'none'}, id=166422490, id_str='166422490', name='Jeff', screen_name='JeffReedIsMe', location='Indiana', description='Storyteller and podcast host for @generalytrivial', url='https://t.co/J0s9v7ep9d', entities={'url': {'urls': [{'url': 'https://t.co/J0s9v7ep9d', 'expanded_url': 'http://generallytrivial.net', 'display_url': 'generallytrivial.net', 'indices': [0, 23]}]}, 'description': {'urls': []}}, protected=False, followers_count=392, friends_count=287, listed_count=14, created_at=datetime.datetime(2010, 7, 14, 3, 16, 17), favourites_count=21341, utc_offset=None, time_zone=None, geo_enabled=True, verified=False, statuses_count=18121, lang='en', contributors_enabled=False, is_translator=False, is_translation_enabled=False, profile_background_color='709397', profile_background_image_url='http://abs.twimg.com/images/themes/theme6/bg.gif', profile_background_image_url_https='https://abs.twimg.com/images/themes/theme6/bg.gif', profile_background_tile=False, profile_image_url='http://pbs.twimg.com/profile_images/747898823540826112/xlsLSyC5_normal.jpg', profile_image_url_https='https://pbs.twimg.com/profile_images/747898823540826112/xlsLSyC5_normal.jpg', profile_banner_url='https://pbs.twimg.com/profile_banners/166422490/1373083073', profile_link_color='FF3300', profile_sidebar_border_color='86A4A6', profile_sidebar_fill_color='A0C5C7', profile_text_color='333333', profile_use_background_image=True, has_extended_profile=False, default_profile=False, default_profile_image=False, following=False, follow_request_sent=False, notifications=False, translator_type='none'), user=User(_api=<tweepy.api.API object at 0x7f81809dea20>, _json={'id': 166422490, 'id_str': '166422490', 'name': 'Jeff', 'screen_name': 'JeffReedIsMe', 'location': 'Indiana', 'description': 'Storyteller and podcast host for @generalytrivial', 'url': 'https://t.co/J0s9v7ep9d', 'entities': {'url': {'urls': [{'url': 'https://t.co/J0s9v7ep9d', 'expanded_url': 'http://generallytrivial.net', 'display_url': 'generallytrivial.net', 'indices': [0, 23]}]}, 'description': {'urls': []}}, 'protected': False, 'followers_count': 392, 'friends_count': 287, 'listed_count': 14, 'created_at': 'Wed Jul 14 03:16:17 +0000 2010', 'favourites_count': 21341, 'utc_offset': None, 'time_zone': None, 'geo_enabled': True, 'verified': False, 'statuses_count': 18121, 'lang': 'en', 'contributors_enabled': False, 'is_translator': False, 'is_translation_enabled': False, 'profile_background_color': '709397', 'profile_background_image_url': 'http://abs.twimg.com/images/themes/theme6/bg.gif', 'profile_background_image_url_https': 'https://abs.twimg.com/images/themes/theme6/bg.gif', 'profile_background_tile': False, 'profile_image_url': 'http://pbs.twimg.com/profile_images/747898823540826112/xlsLSyC5_normal.jpg', 'profile_image_url_https': 'https://pbs.twimg.com/profile_images/747898823540826112/xlsLSyC5_normal.jpg', 'profile_banner_url': 'https://pbs.twimg.com/profile_banners/166422490/1373083073', 'profile_link_color': 'FF3300', 'profile_sidebar_border_color': '86A4A6', 'profile_sidebar_fill_color': 'A0C5C7', 'profile_text_color': '333333', 'profile_use_background_image': True, 'has_extended_profile': False, 'default_profile': False, 'default_profile_image': False, 'following': False, 'follow_request_sent': False, 'notifications': False, 'translator_type': 'none'}, id=166422490, id_str='166422490', name='Jeff', screen_name='JeffReedIsMe', location='Indiana', description='Storyteller and podcast host for @generalytrivial', url='https://t.co/J0s9v7ep9d', entities={'url': {'urls': [{'url': 'https://t.co/J0s9v7ep9d', 'expanded_url': 'http://generallytrivial.net', 'display_url': 'generallytrivial.net', 'indices': [0, 23]}]}, 'description': {'urls': []}}, protected=False, followers_count=392, friends_count=287, listed_count=14, created_at=datetime.datetime(2010, 7, 14, 3, 16, 17), favourites_count=21341, utc_offset=None, time_zone=None, geo_enabled=True, verified=False, statuses_count=18121, lang='en', contributors_enabled=False, is_translator=False, is_translation_enabled=False, profile_background_color='709397', profile_background_image_url='http://abs.twimg.com/images/themes/theme6/bg.gif', profile_background_image_url_https='https://abs.twimg.com/images/themes/theme6/bg.gif', profile_background_tile=False, profile_image_url='http://pbs.twimg.com/profile_images/747898823540826112/xlsLSyC5_normal.jpg', profile_image_url_https='https://pbs.twimg.com/profile_images/747898823540826112/xlsLSyC5_normal.jpg', profile_banner_url='https://pbs.twimg.com/profile_banners/166422490/1373083073', profile_link_color='FF3300', profile_sidebar_border_color='86A4A6', profile_sidebar_fill_color='A0C5C7', profile_text_color='333333', profile_use_background_image=True, has_extended_profile=False, default_profile=False, default_profile_image=False, following=False, follow_request_sent=False, notifications=False, translator_type='none'), geo=None, coordinates=None, place=None, contributors=None, is_quote_status=False, retweet_count=0, favorite_count=0, favorited=False, retweeted=False, lang='en'),\n",
       " Status(_api=<tweepy.api.API object at 0x7f81809dea20>, _json={'created_at': 'Tue Feb 12 23:45:47 +0000 2019', 'id': 1095469043774091270, 'id_str': '1095469043774091270', 'text': '@TwitterSports This rainy and cold weather here in Philadelphia has me looking forward to a warm day in June watchi… https://t.co/ANZ29hYSbh', 'truncated': True, 'entities': {'hashtags': [], 'symbols': [], 'user_mentions': [{'screen_name': 'TwitterSports', 'name': 'Twitter Sports', 'id': 300392950, 'id_str': '300392950', 'indices': [0, 14]}], 'urls': [{'url': 'https://t.co/ANZ29hYSbh', 'expanded_url': 'https://twitter.com/i/web/status/1095469043774091270', 'display_url': 'twitter.com/i/web/status/1…', 'indices': [117, 140]}]}, 'metadata': {'iso_language_code': 'en', 'result_type': 'recent'}, 'source': '<a href=\"http://twitter.com\" rel=\"nofollow\">Twitter Web Client</a>', 'in_reply_to_status_id': None, 'in_reply_to_status_id_str': None, 'in_reply_to_user_id': 300392950, 'in_reply_to_user_id_str': '300392950', 'in_reply_to_screen_name': 'TwitterSports', 'user': {'id': 480639687, 'id_str': '480639687', 'name': 'Cartoonist Jim Hunt', 'screen_name': 'jimhunt1961', 'location': 'Philadelphia, PA', 'description': 'https://t.co/yYAwSok1fZ', 'url': 'https://t.co/FflGvFGvpD', 'entities': {'url': {'urls': [{'url': 'https://t.co/FflGvFGvpD', 'expanded_url': 'http://www.acartoonist.com', 'display_url': 'acartoonist.com', 'indices': [0, 23]}]}, 'description': {'urls': [{'url': 'https://t.co/yYAwSok1fZ', 'expanded_url': 'https://www.instagram.com/cartoonist_jim_hunt/', 'display_url': 'instagram.com/cartoonist_jim…', 'indices': [0, 23]}]}}, 'protected': False, 'followers_count': 645, 'friends_count': 14, 'listed_count': 5, 'created_at': 'Wed Feb 01 18:36:17 +0000 2012', 'favourites_count': 859, 'utc_offset': None, 'time_zone': None, 'geo_enabled': False, 'verified': False, 'statuses_count': 1740, 'lang': 'en', 'contributors_enabled': False, 'is_translator': False, 'is_translation_enabled': False, 'profile_background_color': '000000', 'profile_background_image_url': 'http://abs.twimg.com/images/themes/theme1/bg.png', 'profile_background_image_url_https': 'https://abs.twimg.com/images/themes/theme1/bg.png', 'profile_background_tile': False, 'profile_image_url': 'http://pbs.twimg.com/profile_images/1093263594828021760/1NDiD4-U_normal.jpg', 'profile_image_url_https': 'https://pbs.twimg.com/profile_images/1093263594828021760/1NDiD4-U_normal.jpg', 'profile_banner_url': 'https://pbs.twimg.com/profile_banners/480639687/1548950795', 'profile_link_color': '1B95E0', 'profile_sidebar_border_color': '000000', 'profile_sidebar_fill_color': '000000', 'profile_text_color': '000000', 'profile_use_background_image': False, 'has_extended_profile': False, 'default_profile': False, 'default_profile_image': False, 'following': False, 'follow_request_sent': False, 'notifications': False, 'translator_type': 'none'}, 'geo': None, 'coordinates': None, 'place': None, 'contributors': None, 'is_quote_status': False, 'retweet_count': 0, 'favorite_count': 0, 'favorited': False, 'retweeted': False, 'possibly_sensitive': False, 'lang': 'en'}, created_at=datetime.datetime(2019, 2, 12, 23, 45, 47), id=1095469043774091270, id_str='1095469043774091270', text='@TwitterSports This rainy and cold weather here in Philadelphia has me looking forward to a warm day in June watchi… https://t.co/ANZ29hYSbh', truncated=True, entities={'hashtags': [], 'symbols': [], 'user_mentions': [{'screen_name': 'TwitterSports', 'name': 'Twitter Sports', 'id': 300392950, 'id_str': '300392950', 'indices': [0, 14]}], 'urls': [{'url': 'https://t.co/ANZ29hYSbh', 'expanded_url': 'https://twitter.com/i/web/status/1095469043774091270', 'display_url': 'twitter.com/i/web/status/1…', 'indices': [117, 140]}]}, metadata={'iso_language_code': 'en', 'result_type': 'recent'}, source='Twitter Web Client', source_url='http://twitter.com', in_reply_to_status_id=None, in_reply_to_status_id_str=None, in_reply_to_user_id=300392950, in_reply_to_user_id_str='300392950', in_reply_to_screen_name='TwitterSports', author=User(_api=<tweepy.api.API object at 0x7f81809dea20>, _json={'id': 480639687, 'id_str': '480639687', 'name': 'Cartoonist Jim Hunt', 'screen_name': 'jimhunt1961', 'location': 'Philadelphia, PA', 'description': 'https://t.co/yYAwSok1fZ', 'url': 'https://t.co/FflGvFGvpD', 'entities': {'url': {'urls': [{'url': 'https://t.co/FflGvFGvpD', 'expanded_url': 'http://www.acartoonist.com', 'display_url': 'acartoonist.com', 'indices': [0, 23]}]}, 'description': {'urls': [{'url': 'https://t.co/yYAwSok1fZ', 'expanded_url': 'https://www.instagram.com/cartoonist_jim_hunt/', 'display_url': 'instagram.com/cartoonist_jim…', 'indices': [0, 23]}]}}, 'protected': False, 'followers_count': 645, 'friends_count': 14, 'listed_count': 5, 'created_at': 'Wed Feb 01 18:36:17 +0000 2012', 'favourites_count': 859, 'utc_offset': None, 'time_zone': None, 'geo_enabled': False, 'verified': False, 'statuses_count': 1740, 'lang': 'en', 'contributors_enabled': False, 'is_translator': False, 'is_translation_enabled': False, 'profile_background_color': '000000', 'profile_background_image_url': 'http://abs.twimg.com/images/themes/theme1/bg.png', 'profile_background_image_url_https': 'https://abs.twimg.com/images/themes/theme1/bg.png', 'profile_background_tile': False, 'profile_image_url': 'http://pbs.twimg.com/profile_images/1093263594828021760/1NDiD4-U_normal.jpg', 'profile_image_url_https': 'https://pbs.twimg.com/profile_images/1093263594828021760/1NDiD4-U_normal.jpg', 'profile_banner_url': 'https://pbs.twimg.com/profile_banners/480639687/1548950795', 'profile_link_color': '1B95E0', 'profile_sidebar_border_color': '000000', 'profile_sidebar_fill_color': '000000', 'profile_text_color': '000000', 'profile_use_background_image': False, 'has_extended_profile': False, 'default_profile': False, 'default_profile_image': False, 'following': False, 'follow_request_sent': False, 'notifications': False, 'translator_type': 'none'}, id=480639687, id_str='480639687', name='Cartoonist Jim Hunt', screen_name='jimhunt1961', location='Philadelphia, PA', description='https://t.co/yYAwSok1fZ', url='https://t.co/FflGvFGvpD', entities={'url': {'urls': [{'url': 'https://t.co/FflGvFGvpD', 'expanded_url': 'http://www.acartoonist.com', 'display_url': 'acartoonist.com', 'indices': [0, 23]}]}, 'description': {'urls': [{'url': 'https://t.co/yYAwSok1fZ', 'expanded_url': 'https://www.instagram.com/cartoonist_jim_hunt/', 'display_url': 'instagram.com/cartoonist_jim…', 'indices': [0, 23]}]}}, protected=False, followers_count=645, friends_count=14, listed_count=5, created_at=datetime.datetime(2012, 2, 1, 18, 36, 17), favourites_count=859, utc_offset=None, time_zone=None, geo_enabled=False, verified=False, statuses_count=1740, lang='en', contributors_enabled=False, is_translator=False, is_translation_enabled=False, profile_background_color='000000', profile_background_image_url='http://abs.twimg.com/images/themes/theme1/bg.png', profile_background_image_url_https='https://abs.twimg.com/images/themes/theme1/bg.png', profile_background_tile=False, profile_image_url='http://pbs.twimg.com/profile_images/1093263594828021760/1NDiD4-U_normal.jpg', profile_image_url_https='https://pbs.twimg.com/profile_images/1093263594828021760/1NDiD4-U_normal.jpg', profile_banner_url='https://pbs.twimg.com/profile_banners/480639687/1548950795', profile_link_color='1B95E0', profile_sidebar_border_color='000000', profile_sidebar_fill_color='000000', profile_text_color='000000', profile_use_background_image=False, has_extended_profile=False, default_profile=False, default_profile_image=False, following=False, follow_request_sent=False, notifications=False, translator_type='none'), user=User(_api=<tweepy.api.API object at 0x7f81809dea20>, _json={'id': 480639687, 'id_str': '480639687', 'name': 'Cartoonist Jim Hunt', 'screen_name': 'jimhunt1961', 'location': 'Philadelphia, PA', 'description': 'https://t.co/yYAwSok1fZ', 'url': 'https://t.co/FflGvFGvpD', 'entities': {'url': {'urls': [{'url': 'https://t.co/FflGvFGvpD', 'expanded_url': 'http://www.acartoonist.com', 'display_url': 'acartoonist.com', 'indices': [0, 23]}]}, 'description': {'urls': [{'url': 'https://t.co/yYAwSok1fZ', 'expanded_url': 'https://www.instagram.com/cartoonist_jim_hunt/', 'display_url': 'instagram.com/cartoonist_jim…', 'indices': [0, 23]}]}}, 'protected': False, 'followers_count': 645, 'friends_count': 14, 'listed_count': 5, 'created_at': 'Wed Feb 01 18:36:17 +0000 2012', 'favourites_count': 859, 'utc_offset': None, 'time_zone': None, 'geo_enabled': False, 'verified': False, 'statuses_count': 1740, 'lang': 'en', 'contributors_enabled': False, 'is_translator': False, 'is_translation_enabled': False, 'profile_background_color': '000000', 'profile_background_image_url': 'http://abs.twimg.com/images/themes/theme1/bg.png', 'profile_background_image_url_https': 'https://abs.twimg.com/images/themes/theme1/bg.png', 'profile_background_tile': False, 'profile_image_url': 'http://pbs.twimg.com/profile_images/1093263594828021760/1NDiD4-U_normal.jpg', 'profile_image_url_https': 'https://pbs.twimg.com/profile_images/1093263594828021760/1NDiD4-U_normal.jpg', 'profile_banner_url': 'https://pbs.twimg.com/profile_banners/480639687/1548950795', 'profile_link_color': '1B95E0', 'profile_sidebar_border_color': '000000', 'profile_sidebar_fill_color': '000000', 'profile_text_color': '000000', 'profile_use_background_image': False, 'has_extended_profile': False, 'default_profile': False, 'default_profile_image': False, 'following': False, 'follow_request_sent': False, 'notifications': False, 'translator_type': 'none'}, id=480639687, id_str='480639687', name='Cartoonist Jim Hunt', screen_name='jimhunt1961', location='Philadelphia, PA', description='https://t.co/yYAwSok1fZ', url='https://t.co/FflGvFGvpD', entities={'url': {'urls': [{'url': 'https://t.co/FflGvFGvpD', 'expanded_url': 'http://www.acartoonist.com', 'display_url': 'acartoonist.com', 'indices': [0, 23]}]}, 'description': {'urls': [{'url': 'https://t.co/yYAwSok1fZ', 'expanded_url': 'https://www.instagram.com/cartoonist_jim_hunt/', 'display_url': 'instagram.com/cartoonist_jim…', 'indices': [0, 23]}]}}, protected=False, followers_count=645, friends_count=14, listed_count=5, created_at=datetime.datetime(2012, 2, 1, 18, 36, 17), favourites_count=859, utc_offset=None, time_zone=None, geo_enabled=False, verified=False, statuses_count=1740, lang='en', contributors_enabled=False, is_translator=False, is_translation_enabled=False, profile_background_color='000000', profile_background_image_url='http://abs.twimg.com/images/themes/theme1/bg.png', profile_background_image_url_https='https://abs.twimg.com/images/themes/theme1/bg.png', profile_background_tile=False, profile_image_url='http://pbs.twimg.com/profile_images/1093263594828021760/1NDiD4-U_normal.jpg', profile_image_url_https='https://pbs.twimg.com/profile_images/1093263594828021760/1NDiD4-U_normal.jpg', profile_banner_url='https://pbs.twimg.com/profile_banners/480639687/1548950795', profile_link_color='1B95E0', profile_sidebar_border_color='000000', profile_sidebar_fill_color='000000', profile_text_color='000000', profile_use_background_image=False, has_extended_profile=False, default_profile=False, default_profile_image=False, following=False, follow_request_sent=False, notifications=False, translator_type='none'), geo=None, coordinates=None, place=None, contributors=None, is_quote_status=False, retweet_count=0, favorite_count=0, favorited=False, retweeted=False, possibly_sensitive=False, lang='en'),\n",
       " Status(_api=<tweepy.api.API object at 0x7f81809dea20>, _json={'created_at': 'Tue Feb 12 23:33:41 +0000 2019', 'id': 1095465999497916417, 'id_str': '1095465999497916417', 'text': '@TwitterSports @NBA Worldwide? If not, please geolocalize your posts', 'truncated': False, 'entities': {'hashtags': [], 'symbols': [], 'user_mentions': [{'screen_name': 'TwitterSports', 'name': 'Twitter Sports', 'id': 300392950, 'id_str': '300392950', 'indices': [0, 14]}, {'screen_name': 'NBA', 'name': 'NBA', 'id': 19923144, 'id_str': '19923144', 'indices': [15, 19]}], 'urls': []}, 'metadata': {'iso_language_code': 'en', 'result_type': 'recent'}, 'source': '<a href=\"http://twitter.com/download/android\" rel=\"nofollow\">Twitter for Android</a>', 'in_reply_to_status_id': 1095463902094155777, 'in_reply_to_status_id_str': '1095463902094155777', 'in_reply_to_user_id': 300392950, 'in_reply_to_user_id_str': '300392950', 'in_reply_to_screen_name': 'TwitterSports', 'user': {'id': 105297698, 'id_str': '105297698', 'name': 'Santi Silva ⛹️', 'screen_name': 'silvasanti', 'location': 'Ciudad Autónoma de Buenos Aire', 'description': 'Contenidos Digitales en @telefe. Ahora en @lavozargentina #LaVozArgentina.\\nCEO en @locosxbielsa. NBA 🏀 fan. Mi hijo nació un 29 de febrero 🤷🏻\\u200d♂️', 'url': 'https://t.co/Mn4lvo5zqb', 'entities': {'url': {'urls': [{'url': 'https://t.co/Mn4lvo5zqb', 'expanded_url': 'http://www.telefe.com.ar', 'display_url': 'telefe.com.ar', 'indices': [0, 23]}]}, 'description': {'urls': []}}, 'protected': False, 'followers_count': 1763, 'friends_count': 721, 'listed_count': 25, 'created_at': 'Fri Jan 15 23:40:38 +0000 2010', 'favourites_count': 22647, 'utc_offset': None, 'time_zone': None, 'geo_enabled': True, 'verified': False, 'statuses_count': 65574, 'lang': 'en', 'contributors_enabled': False, 'is_translator': False, 'is_translation_enabled': False, 'profile_background_color': '32852B', 'profile_background_image_url': 'http://abs.twimg.com/images/themes/theme1/bg.png', 'profile_background_image_url_https': 'https://abs.twimg.com/images/themes/theme1/bg.png', 'profile_background_tile': True, 'profile_image_url': 'http://pbs.twimg.com/profile_images/1016359648696389638/BrWX7NsZ_normal.jpg', 'profile_image_url_https': 'https://pbs.twimg.com/profile_images/1016359648696389638/BrWX7NsZ_normal.jpg', 'profile_banner_url': 'https://pbs.twimg.com/profile_banners/105297698/1542047532', 'profile_link_color': '106DD1', 'profile_sidebar_border_color': 'FFFFFF', 'profile_sidebar_fill_color': '204025', 'profile_text_color': 'F0F0F0', 'profile_use_background_image': True, 'has_extended_profile': True, 'default_profile': False, 'default_profile_image': False, 'following': False, 'follow_request_sent': False, 'notifications': False, 'translator_type': 'regular'}, 'geo': None, 'coordinates': None, 'place': None, 'contributors': None, 'is_quote_status': False, 'retweet_count': 0, 'favorite_count': 0, 'favorited': False, 'retweeted': False, 'lang': 'en'}, created_at=datetime.datetime(2019, 2, 12, 23, 33, 41), id=1095465999497916417, id_str='1095465999497916417', text='@TwitterSports @NBA Worldwide? If not, please geolocalize your posts', truncated=False, entities={'hashtags': [], 'symbols': [], 'user_mentions': [{'screen_name': 'TwitterSports', 'name': 'Twitter Sports', 'id': 300392950, 'id_str': '300392950', 'indices': [0, 14]}, {'screen_name': 'NBA', 'name': 'NBA', 'id': 19923144, 'id_str': '19923144', 'indices': [15, 19]}], 'urls': []}, metadata={'iso_language_code': 'en', 'result_type': 'recent'}, source='Twitter for Android', source_url='http://twitter.com/download/android', in_reply_to_status_id=1095463902094155777, in_reply_to_status_id_str='1095463902094155777', in_reply_to_user_id=300392950, in_reply_to_user_id_str='300392950', in_reply_to_screen_name='TwitterSports', author=User(_api=<tweepy.api.API object at 0x7f81809dea20>, _json={'id': 105297698, 'id_str': '105297698', 'name': 'Santi Silva ⛹️', 'screen_name': 'silvasanti', 'location': 'Ciudad Autónoma de Buenos Aire', 'description': 'Contenidos Digitales en @telefe. Ahora en @lavozargentina #LaVozArgentina.\\nCEO en @locosxbielsa. NBA 🏀 fan. Mi hijo nació un 29 de febrero 🤷🏻\\u200d♂️', 'url': 'https://t.co/Mn4lvo5zqb', 'entities': {'url': {'urls': [{'url': 'https://t.co/Mn4lvo5zqb', 'expanded_url': 'http://www.telefe.com.ar', 'display_url': 'telefe.com.ar', 'indices': [0, 23]}]}, 'description': {'urls': []}}, 'protected': False, 'followers_count': 1763, 'friends_count': 721, 'listed_count': 25, 'created_at': 'Fri Jan 15 23:40:38 +0000 2010', 'favourites_count': 22647, 'utc_offset': None, 'time_zone': None, 'geo_enabled': True, 'verified': False, 'statuses_count': 65574, 'lang': 'en', 'contributors_enabled': False, 'is_translator': False, 'is_translation_enabled': False, 'profile_background_color': '32852B', 'profile_background_image_url': 'http://abs.twimg.com/images/themes/theme1/bg.png', 'profile_background_image_url_https': 'https://abs.twimg.com/images/themes/theme1/bg.png', 'profile_background_tile': True, 'profile_image_url': 'http://pbs.twimg.com/profile_images/1016359648696389638/BrWX7NsZ_normal.jpg', 'profile_image_url_https': 'https://pbs.twimg.com/profile_images/1016359648696389638/BrWX7NsZ_normal.jpg', 'profile_banner_url': 'https://pbs.twimg.com/profile_banners/105297698/1542047532', 'profile_link_color': '106DD1', 'profile_sidebar_border_color': 'FFFFFF', 'profile_sidebar_fill_color': '204025', 'profile_text_color': 'F0F0F0', 'profile_use_background_image': True, 'has_extended_profile': True, 'default_profile': False, 'default_profile_image': False, 'following': False, 'follow_request_sent': False, 'notifications': False, 'translator_type': 'regular'}, id=105297698, id_str='105297698', name='Santi Silva ⛹️', screen_name='silvasanti', location='Ciudad Autónoma de Buenos Aire', description='Contenidos Digitales en @telefe. Ahora en @lavozargentina #LaVozArgentina.\\nCEO en @locosxbielsa. NBA 🏀 fan. Mi hijo nació un 29 de febrero 🤷🏻\\u200d♂️', url='https://t.co/Mn4lvo5zqb', entities={'url': {'urls': [{'url': 'https://t.co/Mn4lvo5zqb', 'expanded_url': 'http://www.telefe.com.ar', 'display_url': 'telefe.com.ar', 'indices': [0, 23]}]}, 'description': {'urls': []}}, protected=False, followers_count=1763, friends_count=721, listed_count=25, created_at=datetime.datetime(2010, 1, 15, 23, 40, 38), favourites_count=22647, utc_offset=None, time_zone=None, geo_enabled=True, verified=False, statuses_count=65574, lang='en', contributors_enabled=False, is_translator=False, is_translation_enabled=False, profile_background_color='32852B', profile_background_image_url='http://abs.twimg.com/images/themes/theme1/bg.png', profile_background_image_url_https='https://abs.twimg.com/images/themes/theme1/bg.png', profile_background_tile=True, profile_image_url='http://pbs.twimg.com/profile_images/1016359648696389638/BrWX7NsZ_normal.jpg', profile_image_url_https='https://pbs.twimg.com/profile_images/1016359648696389638/BrWX7NsZ_normal.jpg', profile_banner_url='https://pbs.twimg.com/profile_banners/105297698/1542047532', profile_link_color='106DD1', profile_sidebar_border_color='FFFFFF', profile_sidebar_fill_color='204025', profile_text_color='F0F0F0', profile_use_background_image=True, has_extended_profile=True, default_profile=False, default_profile_image=False, following=False, follow_request_sent=False, notifications=False, translator_type='regular'), user=User(_api=<tweepy.api.API object at 0x7f81809dea20>, _json={'id': 105297698, 'id_str': '105297698', 'name': 'Santi Silva ⛹️', 'screen_name': 'silvasanti', 'location': 'Ciudad Autónoma de Buenos Aire', 'description': 'Contenidos Digitales en @telefe. Ahora en @lavozargentina #LaVozArgentina.\\nCEO en @locosxbielsa. NBA 🏀 fan. Mi hijo nació un 29 de febrero 🤷🏻\\u200d♂️', 'url': 'https://t.co/Mn4lvo5zqb', 'entities': {'url': {'urls': [{'url': 'https://t.co/Mn4lvo5zqb', 'expanded_url': 'http://www.telefe.com.ar', 'display_url': 'telefe.com.ar', 'indices': [0, 23]}]}, 'description': {'urls': []}}, 'protected': False, 'followers_count': 1763, 'friends_count': 721, 'listed_count': 25, 'created_at': 'Fri Jan 15 23:40:38 +0000 2010', 'favourites_count': 22647, 'utc_offset': None, 'time_zone': None, 'geo_enabled': True, 'verified': False, 'statuses_count': 65574, 'lang': 'en', 'contributors_enabled': False, 'is_translator': False, 'is_translation_enabled': False, 'profile_background_color': '32852B', 'profile_background_image_url': 'http://abs.twimg.com/images/themes/theme1/bg.png', 'profile_background_image_url_https': 'https://abs.twimg.com/images/themes/theme1/bg.png', 'profile_background_tile': True, 'profile_image_url': 'http://pbs.twimg.com/profile_images/1016359648696389638/BrWX7NsZ_normal.jpg', 'profile_image_url_https': 'https://pbs.twimg.com/profile_images/1016359648696389638/BrWX7NsZ_normal.jpg', 'profile_banner_url': 'https://pbs.twimg.com/profile_banners/105297698/1542047532', 'profile_link_color': '106DD1', 'profile_sidebar_border_color': 'FFFFFF', 'profile_sidebar_fill_color': '204025', 'profile_text_color': 'F0F0F0', 'profile_use_background_image': True, 'has_extended_profile': True, 'default_profile': False, 'default_profile_image': False, 'following': False, 'follow_request_sent': False, 'notifications': False, 'translator_type': 'regular'}, id=105297698, id_str='105297698', name='Santi Silva ⛹️', screen_name='silvasanti', location='Ciudad Autónoma de Buenos Aire', description='Contenidos Digitales en @telefe. Ahora en @lavozargentina #LaVozArgentina.\\nCEO en @locosxbielsa. NBA 🏀 fan. Mi hijo nació un 29 de febrero 🤷🏻\\u200d♂️', url='https://t.co/Mn4lvo5zqb', entities={'url': {'urls': [{'url': 'https://t.co/Mn4lvo5zqb', 'expanded_url': 'http://www.telefe.com.ar', 'display_url': 'telefe.com.ar', 'indices': [0, 23]}]}, 'description': {'urls': []}}, protected=False, followers_count=1763, friends_count=721, listed_count=25, created_at=datetime.datetime(2010, 1, 15, 23, 40, 38), favourites_count=22647, utc_offset=None, time_zone=None, geo_enabled=True, verified=False, statuses_count=65574, lang='en', contributors_enabled=False, is_translator=False, is_translation_enabled=False, profile_background_color='32852B', profile_background_image_url='http://abs.twimg.com/images/themes/theme1/bg.png', profile_background_image_url_https='https://abs.twimg.com/images/themes/theme1/bg.png', profile_background_tile=True, profile_image_url='http://pbs.twimg.com/profile_images/1016359648696389638/BrWX7NsZ_normal.jpg', profile_image_url_https='https://pbs.twimg.com/profile_images/1016359648696389638/BrWX7NsZ_normal.jpg', profile_banner_url='https://pbs.twimg.com/profile_banners/105297698/1542047532', profile_link_color='106DD1', profile_sidebar_border_color='FFFFFF', profile_sidebar_fill_color='204025', profile_text_color='F0F0F0', profile_use_background_image=True, has_extended_profile=True, default_profile=False, default_profile_image=False, following=False, follow_request_sent=False, notifications=False, translator_type='regular'), geo=None, coordinates=None, place=None, contributors=None, is_quote_status=False, retweet_count=0, favorite_count=0, favorited=False, retweeted=False, lang='en'),\n",
       " Status(_api=<tweepy.api.API object at 0x7f81809dea20>, _json={'created_at': 'Tue Feb 12 23:27:54 +0000 2019', 'id': 1095464542572818439, 'id_str': '1095464542572818439', 'text': '@TwitterSports @NBA Is this available to Twitter users outside North America? 🇺🇸🇨🇦 🏀🇬🇧', 'truncated': False, 'entities': {'hashtags': [], 'symbols': [], 'user_mentions': [{'screen_name': 'TwitterSports', 'name': 'Twitter Sports', 'id': 300392950, 'id_str': '300392950', 'indices': [0, 14]}, {'screen_name': 'NBA', 'name': 'NBA', 'id': 19923144, 'id_str': '19923144', 'indices': [15, 19]}], 'urls': []}, 'metadata': {'iso_language_code': 'en', 'result_type': 'recent'}, 'source': '<a href=\"http://twitter.com/download/iphone\" rel=\"nofollow\">Twitter for iPhone</a>', 'in_reply_to_status_id': 1095463902094155777, 'in_reply_to_status_id_str': '1095463902094155777', 'in_reply_to_user_id': 300392950, 'in_reply_to_user_id_str': '300392950', 'in_reply_to_screen_name': 'TwitterSports', 'user': {'id': 888450199407996930, 'id_str': '888450199407996930', 'name': 'Bryn Evans', 'screen_name': 'EvansBrynley', 'location': 'Welling, UK', 'description': 'Sports fanatic. Particularly passionate about cricket and women’s sports. Vocal about gender and LGBT+ equality in sports.', 'url': None, 'entities': {'description': {'urls': []}}, 'protected': False, 'followers_count': 82, 'friends_count': 963, 'listed_count': 1, 'created_at': 'Fri Jul 21 17:26:48 +0000 2017', 'favourites_count': 1381, 'utc_offset': None, 'time_zone': None, 'geo_enabled': True, 'verified': False, 'statuses_count': 457, 'lang': 'en', 'contributors_enabled': False, 'is_translator': False, 'is_translation_enabled': False, 'profile_background_color': 'F5F8FA', 'profile_background_image_url': None, 'profile_background_image_url_https': None, 'profile_background_tile': False, 'profile_image_url': 'http://pbs.twimg.com/profile_images/1095510239225483265/gCSvWPOh_normal.jpg', 'profile_image_url_https': 'https://pbs.twimg.com/profile_images/1095510239225483265/gCSvWPOh_normal.jpg', 'profile_banner_url': 'https://pbs.twimg.com/profile_banners/888450199407996930/1510074385', 'profile_link_color': '1DA1F2', 'profile_sidebar_border_color': 'C0DEED', 'profile_sidebar_fill_color': 'DDEEF6', 'profile_text_color': '333333', 'profile_use_background_image': True, 'has_extended_profile': True, 'default_profile': True, 'default_profile_image': False, 'following': False, 'follow_request_sent': False, 'notifications': False, 'translator_type': 'none'}, 'geo': None, 'coordinates': None, 'place': None, 'contributors': None, 'is_quote_status': False, 'retweet_count': 0, 'favorite_count': 0, 'favorited': False, 'retweeted': False, 'lang': 'en'}, created_at=datetime.datetime(2019, 2, 12, 23, 27, 54), id=1095464542572818439, id_str='1095464542572818439', text='@TwitterSports @NBA Is this available to Twitter users outside North America? 🇺🇸🇨🇦 🏀🇬🇧', truncated=False, entities={'hashtags': [], 'symbols': [], 'user_mentions': [{'screen_name': 'TwitterSports', 'name': 'Twitter Sports', 'id': 300392950, 'id_str': '300392950', 'indices': [0, 14]}, {'screen_name': 'NBA', 'name': 'NBA', 'id': 19923144, 'id_str': '19923144', 'indices': [15, 19]}], 'urls': []}, metadata={'iso_language_code': 'en', 'result_type': 'recent'}, source='Twitter for iPhone', source_url='http://twitter.com/download/iphone', in_reply_to_status_id=1095463902094155777, in_reply_to_status_id_str='1095463902094155777', in_reply_to_user_id=300392950, in_reply_to_user_id_str='300392950', in_reply_to_screen_name='TwitterSports', author=User(_api=<tweepy.api.API object at 0x7f81809dea20>, _json={'id': 888450199407996930, 'id_str': '888450199407996930', 'name': 'Bryn Evans', 'screen_name': 'EvansBrynley', 'location': 'Welling, UK', 'description': 'Sports fanatic. Particularly passionate about cricket and women’s sports. Vocal about gender and LGBT+ equality in sports.', 'url': None, 'entities': {'description': {'urls': []}}, 'protected': False, 'followers_count': 82, 'friends_count': 963, 'listed_count': 1, 'created_at': 'Fri Jul 21 17:26:48 +0000 2017', 'favourites_count': 1381, 'utc_offset': None, 'time_zone': None, 'geo_enabled': True, 'verified': False, 'statuses_count': 457, 'lang': 'en', 'contributors_enabled': False, 'is_translator': False, 'is_translation_enabled': False, 'profile_background_color': 'F5F8FA', 'profile_background_image_url': None, 'profile_background_image_url_https': None, 'profile_background_tile': False, 'profile_image_url': 'http://pbs.twimg.com/profile_images/1095510239225483265/gCSvWPOh_normal.jpg', 'profile_image_url_https': 'https://pbs.twimg.com/profile_images/1095510239225483265/gCSvWPOh_normal.jpg', 'profile_banner_url': 'https://pbs.twimg.com/profile_banners/888450199407996930/1510074385', 'profile_link_color': '1DA1F2', 'profile_sidebar_border_color': 'C0DEED', 'profile_sidebar_fill_color': 'DDEEF6', 'profile_text_color': '333333', 'profile_use_background_image': True, 'has_extended_profile': True, 'default_profile': True, 'default_profile_image': False, 'following': False, 'follow_request_sent': False, 'notifications': False, 'translator_type': 'none'}, id=888450199407996930, id_str='888450199407996930', name='Bryn Evans', screen_name='EvansBrynley', location='Welling, UK', description='Sports fanatic. Particularly passionate about cricket and women’s sports. Vocal about gender and LGBT+ equality in sports.', url=None, entities={'description': {'urls': []}}, protected=False, followers_count=82, friends_count=963, listed_count=1, created_at=datetime.datetime(2017, 7, 21, 17, 26, 48), favourites_count=1381, utc_offset=None, time_zone=None, geo_enabled=True, verified=False, statuses_count=457, lang='en', contributors_enabled=False, is_translator=False, is_translation_enabled=False, profile_background_color='F5F8FA', profile_background_image_url=None, profile_background_image_url_https=None, profile_background_tile=False, profile_image_url='http://pbs.twimg.com/profile_images/1095510239225483265/gCSvWPOh_normal.jpg', profile_image_url_https='https://pbs.twimg.com/profile_images/1095510239225483265/gCSvWPOh_normal.jpg', profile_banner_url='https://pbs.twimg.com/profile_banners/888450199407996930/1510074385', profile_link_color='1DA1F2', profile_sidebar_border_color='C0DEED', profile_sidebar_fill_color='DDEEF6', profile_text_color='333333', profile_use_background_image=True, has_extended_profile=True, default_profile=True, default_profile_image=False, following=False, follow_request_sent=False, notifications=False, translator_type='none'), user=User(_api=<tweepy.api.API object at 0x7f81809dea20>, _json={'id': 888450199407996930, 'id_str': '888450199407996930', 'name': 'Bryn Evans', 'screen_name': 'EvansBrynley', 'location': 'Welling, UK', 'description': 'Sports fanatic. Particularly passionate about cricket and women’s sports. Vocal about gender and LGBT+ equality in sports.', 'url': None, 'entities': {'description': {'urls': []}}, 'protected': False, 'followers_count': 82, 'friends_count': 963, 'listed_count': 1, 'created_at': 'Fri Jul 21 17:26:48 +0000 2017', 'favourites_count': 1381, 'utc_offset': None, 'time_zone': None, 'geo_enabled': True, 'verified': False, 'statuses_count': 457, 'lang': 'en', 'contributors_enabled': False, 'is_translator': False, 'is_translation_enabled': False, 'profile_background_color': 'F5F8FA', 'profile_background_image_url': None, 'profile_background_image_url_https': None, 'profile_background_tile': False, 'profile_image_url': 'http://pbs.twimg.com/profile_images/1095510239225483265/gCSvWPOh_normal.jpg', 'profile_image_url_https': 'https://pbs.twimg.com/profile_images/1095510239225483265/gCSvWPOh_normal.jpg', 'profile_banner_url': 'https://pbs.twimg.com/profile_banners/888450199407996930/1510074385', 'profile_link_color': '1DA1F2', 'profile_sidebar_border_color': 'C0DEED', 'profile_sidebar_fill_color': 'DDEEF6', 'profile_text_color': '333333', 'profile_use_background_image': True, 'has_extended_profile': True, 'default_profile': True, 'default_profile_image': False, 'following': False, 'follow_request_sent': False, 'notifications': False, 'translator_type': 'none'}, id=888450199407996930, id_str='888450199407996930', name='Bryn Evans', screen_name='EvansBrynley', location='Welling, UK', description='Sports fanatic. Particularly passionate about cricket and women’s sports. Vocal about gender and LGBT+ equality in sports.', url=None, entities={'description': {'urls': []}}, protected=False, followers_count=82, friends_count=963, listed_count=1, created_at=datetime.datetime(2017, 7, 21, 17, 26, 48), favourites_count=1381, utc_offset=None, time_zone=None, geo_enabled=True, verified=False, statuses_count=457, lang='en', contributors_enabled=False, is_translator=False, is_translation_enabled=False, profile_background_color='F5F8FA', profile_background_image_url=None, profile_background_image_url_https=None, profile_background_tile=False, profile_image_url='http://pbs.twimg.com/profile_images/1095510239225483265/gCSvWPOh_normal.jpg', profile_image_url_https='https://pbs.twimg.com/profile_images/1095510239225483265/gCSvWPOh_normal.jpg', profile_banner_url='https://pbs.twimg.com/profile_banners/888450199407996930/1510074385', profile_link_color='1DA1F2', profile_sidebar_border_color='C0DEED', profile_sidebar_fill_color='DDEEF6', profile_text_color='333333', profile_use_background_image=True, has_extended_profile=True, default_profile=True, default_profile_image=False, following=False, follow_request_sent=False, notifications=False, translator_type='none'), geo=None, coordinates=None, place=None, contributors=None, is_quote_status=False, retweet_count=0, favorite_count=0, favorited=False, retweeted=False, lang='en'),\n",
       " Status(_api=<tweepy.api.API object at 0x7f81809dea20>, _json={'created_at': 'Tue Feb 12 23:25:53 +0000 2019', 'id': 1095464036257263616, 'id_str': '1095464036257263616', 'text': '@TwitterSports @NBA https://t.co/nl2obs3Rjl', 'truncated': False, 'entities': {'hashtags': [], 'symbols': [], 'user_mentions': [{'screen_name': 'TwitterSports', 'name': 'Twitter Sports', 'id': 300392950, 'id_str': '300392950', 'indices': [0, 14]}, {'screen_name': 'NBA', 'name': 'NBA', 'id': 19923144, 'id_str': '19923144', 'indices': [15, 19]}], 'urls': [{'url': 'https://t.co/nl2obs3Rjl', 'expanded_url': 'https://www.youtube.com/watch?v=7tuutf3wXD8', 'display_url': 'youtube.com/watch?v=7tuutf…', 'indices': [20, 43]}]}, 'metadata': {'iso_language_code': 'und', 'result_type': 'recent'}, 'source': '<a href=\"http://twitter.com\" rel=\"nofollow\">Twitter Web Client</a>', 'in_reply_to_status_id': 1095463902094155777, 'in_reply_to_status_id_str': '1095463902094155777', 'in_reply_to_user_id': 300392950, 'in_reply_to_user_id_str': '300392950', 'in_reply_to_screen_name': 'TwitterSports', 'user': {'id': 945015110241677312, 'id_str': '945015110241677312', 'name': 'kaine charles', 'screen_name': 'KainoC3', 'location': '', 'description': 'NBA youtuber https://t.co/NSTcBIucum', 'url': None, 'entities': {'description': {'urls': [{'url': 'https://t.co/NSTcBIucum', 'expanded_url': 'https://www.youtube.com/KC3YT', 'display_url': 'youtube.com/KC3YT', 'indices': [13, 36]}]}}, 'protected': False, 'followers_count': 48, 'friends_count': 394, 'listed_count': 2, 'created_at': 'Sun Dec 24 19:35:34 +0000 2017', 'favourites_count': 15, 'utc_offset': None, 'time_zone': None, 'geo_enabled': False, 'verified': False, 'statuses_count': 8111, 'lang': 'en', 'contributors_enabled': False, 'is_translator': False, 'is_translation_enabled': False, 'profile_background_color': 'F5F8FA', 'profile_background_image_url': None, 'profile_background_image_url_https': None, 'profile_background_tile': False, 'profile_image_url': 'http://pbs.twimg.com/profile_images/1020866060126318592/LbeApSk3_normal.jpg', 'profile_image_url_https': 'https://pbs.twimg.com/profile_images/1020866060126318592/LbeApSk3_normal.jpg', 'profile_banner_url': 'https://pbs.twimg.com/profile_banners/945015110241677312/1532228439', 'profile_link_color': '1DA1F2', 'profile_sidebar_border_color': 'C0DEED', 'profile_sidebar_fill_color': 'DDEEF6', 'profile_text_color': '333333', 'profile_use_background_image': True, 'has_extended_profile': False, 'default_profile': True, 'default_profile_image': False, 'following': False, 'follow_request_sent': False, 'notifications': False, 'translator_type': 'none'}, 'geo': None, 'coordinates': None, 'place': None, 'contributors': None, 'is_quote_status': False, 'retweet_count': 0, 'favorite_count': 0, 'favorited': False, 'retweeted': False, 'possibly_sensitive': False, 'lang': 'und'}, created_at=datetime.datetime(2019, 2, 12, 23, 25, 53), id=1095464036257263616, id_str='1095464036257263616', text='@TwitterSports @NBA https://t.co/nl2obs3Rjl', truncated=False, entities={'hashtags': [], 'symbols': [], 'user_mentions': [{'screen_name': 'TwitterSports', 'name': 'Twitter Sports', 'id': 300392950, 'id_str': '300392950', 'indices': [0, 14]}, {'screen_name': 'NBA', 'name': 'NBA', 'id': 19923144, 'id_str': '19923144', 'indices': [15, 19]}], 'urls': [{'url': 'https://t.co/nl2obs3Rjl', 'expanded_url': 'https://www.youtube.com/watch?v=7tuutf3wXD8', 'display_url': 'youtube.com/watch?v=7tuutf…', 'indices': [20, 43]}]}, metadata={'iso_language_code': 'und', 'result_type': 'recent'}, source='Twitter Web Client', source_url='http://twitter.com', in_reply_to_status_id=1095463902094155777, in_reply_to_status_id_str='1095463902094155777', in_reply_to_user_id=300392950, in_reply_to_user_id_str='300392950', in_reply_to_screen_name='TwitterSports', author=User(_api=<tweepy.api.API object at 0x7f81809dea20>, _json={'id': 945015110241677312, 'id_str': '945015110241677312', 'name': 'kaine charles', 'screen_name': 'KainoC3', 'location': '', 'description': 'NBA youtuber https://t.co/NSTcBIucum', 'url': None, 'entities': {'description': {'urls': [{'url': 'https://t.co/NSTcBIucum', 'expanded_url': 'https://www.youtube.com/KC3YT', 'display_url': 'youtube.com/KC3YT', 'indices': [13, 36]}]}}, 'protected': False, 'followers_count': 48, 'friends_count': 394, 'listed_count': 2, 'created_at': 'Sun Dec 24 19:35:34 +0000 2017', 'favourites_count': 15, 'utc_offset': None, 'time_zone': None, 'geo_enabled': False, 'verified': False, 'statuses_count': 8111, 'lang': 'en', 'contributors_enabled': False, 'is_translator': False, 'is_translation_enabled': False, 'profile_background_color': 'F5F8FA', 'profile_background_image_url': None, 'profile_background_image_url_https': None, 'profile_background_tile': False, 'profile_image_url': 'http://pbs.twimg.com/profile_images/1020866060126318592/LbeApSk3_normal.jpg', 'profile_image_url_https': 'https://pbs.twimg.com/profile_images/1020866060126318592/LbeApSk3_normal.jpg', 'profile_banner_url': 'https://pbs.twimg.com/profile_banners/945015110241677312/1532228439', 'profile_link_color': '1DA1F2', 'profile_sidebar_border_color': 'C0DEED', 'profile_sidebar_fill_color': 'DDEEF6', 'profile_text_color': '333333', 'profile_use_background_image': True, 'has_extended_profile': False, 'default_profile': True, 'default_profile_image': False, 'following': False, 'follow_request_sent': False, 'notifications': False, 'translator_type': 'none'}, id=945015110241677312, id_str='945015110241677312', name='kaine charles', screen_name='KainoC3', location='', description='NBA youtuber https://t.co/NSTcBIucum', url=None, entities={'description': {'urls': [{'url': 'https://t.co/NSTcBIucum', 'expanded_url': 'https://www.youtube.com/KC3YT', 'display_url': 'youtube.com/KC3YT', 'indices': [13, 36]}]}}, protected=False, followers_count=48, friends_count=394, listed_count=2, created_at=datetime.datetime(2017, 12, 24, 19, 35, 34), favourites_count=15, utc_offset=None, time_zone=None, geo_enabled=False, verified=False, statuses_count=8111, lang='en', contributors_enabled=False, is_translator=False, is_translation_enabled=False, profile_background_color='F5F8FA', profile_background_image_url=None, profile_background_image_url_https=None, profile_background_tile=False, profile_image_url='http://pbs.twimg.com/profile_images/1020866060126318592/LbeApSk3_normal.jpg', profile_image_url_https='https://pbs.twimg.com/profile_images/1020866060126318592/LbeApSk3_normal.jpg', profile_banner_url='https://pbs.twimg.com/profile_banners/945015110241677312/1532228439', profile_link_color='1DA1F2', profile_sidebar_border_color='C0DEED', profile_sidebar_fill_color='DDEEF6', profile_text_color='333333', profile_use_background_image=True, has_extended_profile=False, default_profile=True, default_profile_image=False, following=False, follow_request_sent=False, notifications=False, translator_type='none'), user=User(_api=<tweepy.api.API object at 0x7f81809dea20>, _json={'id': 945015110241677312, 'id_str': '945015110241677312', 'name': 'kaine charles', 'screen_name': 'KainoC3', 'location': '', 'description': 'NBA youtuber https://t.co/NSTcBIucum', 'url': None, 'entities': {'description': {'urls': [{'url': 'https://t.co/NSTcBIucum', 'expanded_url': 'https://www.youtube.com/KC3YT', 'display_url': 'youtube.com/KC3YT', 'indices': [13, 36]}]}}, 'protected': False, 'followers_count': 48, 'friends_count': 394, 'listed_count': 2, 'created_at': 'Sun Dec 24 19:35:34 +0000 2017', 'favourites_count': 15, 'utc_offset': None, 'time_zone': None, 'geo_enabled': False, 'verified': False, 'statuses_count': 8111, 'lang': 'en', 'contributors_enabled': False, 'is_translator': False, 'is_translation_enabled': False, 'profile_background_color': 'F5F8FA', 'profile_background_image_url': None, 'profile_background_image_url_https': None, 'profile_background_tile': False, 'profile_image_url': 'http://pbs.twimg.com/profile_images/1020866060126318592/LbeApSk3_normal.jpg', 'profile_image_url_https': 'https://pbs.twimg.com/profile_images/1020866060126318592/LbeApSk3_normal.jpg', 'profile_banner_url': 'https://pbs.twimg.com/profile_banners/945015110241677312/1532228439', 'profile_link_color': '1DA1F2', 'profile_sidebar_border_color': 'C0DEED', 'profile_sidebar_fill_color': 'DDEEF6', 'profile_text_color': '333333', 'profile_use_background_image': True, 'has_extended_profile': False, 'default_profile': True, 'default_profile_image': False, 'following': False, 'follow_request_sent': False, 'notifications': False, 'translator_type': 'none'}, id=945015110241677312, id_str='945015110241677312', name='kaine charles', screen_name='KainoC3', location='', description='NBA youtuber https://t.co/NSTcBIucum', url=None, entities={'description': {'urls': [{'url': 'https://t.co/NSTcBIucum', 'expanded_url': 'https://www.youtube.com/KC3YT', 'display_url': 'youtube.com/KC3YT', 'indices': [13, 36]}]}}, protected=False, followers_count=48, friends_count=394, listed_count=2, created_at=datetime.datetime(2017, 12, 24, 19, 35, 34), favourites_count=15, utc_offset=None, time_zone=None, geo_enabled=False, verified=False, statuses_count=8111, lang='en', contributors_enabled=False, is_translator=False, is_translation_enabled=False, profile_background_color='F5F8FA', profile_background_image_url=None, profile_background_image_url_https=None, profile_background_tile=False, profile_image_url='http://pbs.twimg.com/profile_images/1020866060126318592/LbeApSk3_normal.jpg', profile_image_url_https='https://pbs.twimg.com/profile_images/1020866060126318592/LbeApSk3_normal.jpg', profile_banner_url='https://pbs.twimg.com/profile_banners/945015110241677312/1532228439', profile_link_color='1DA1F2', profile_sidebar_border_color='C0DEED', profile_sidebar_fill_color='DDEEF6', profile_text_color='333333', profile_use_background_image=True, has_extended_profile=False, default_profile=True, default_profile_image=False, following=False, follow_request_sent=False, notifications=False, translator_type='none'), geo=None, coordinates=None, place=None, contributors=None, is_quote_status=False, retweet_count=0, favorite_count=0, favorited=False, retweeted=False, possibly_sensitive=False, lang='und'),\n",
       " Status(_api=<tweepy.api.API object at 0x7f81809dea20>, _json={'created_at': 'Tue Feb 12 23:21:26 +0000 2019', 'id': 1095462914465689600, 'id_str': '1095462914465689600', 'text': '@TwitterSports @NBA #NBATwitter \\n\\nHope the games are going to be really good', 'truncated': False, 'entities': {'hashtags': [{'text': 'NBATwitter', 'indices': [20, 31]}], 'symbols': [], 'user_mentions': [{'screen_name': 'TwitterSports', 'name': 'Twitter Sports', 'id': 300392950, 'id_str': '300392950', 'indices': [0, 14]}, {'screen_name': 'NBA', 'name': 'NBA', 'id': 19923144, 'id_str': '19923144', 'indices': [15, 19]}], 'urls': []}, 'metadata': {'iso_language_code': 'en', 'result_type': 'recent'}, 'source': '<a href=\"https://mobile.twitter.com\" rel=\"nofollow\">Twitter Web App</a>', 'in_reply_to_status_id': 1095462734617923584, 'in_reply_to_status_id_str': '1095462734617923584', 'in_reply_to_user_id': 300392950, 'in_reply_to_user_id_str': '300392950', 'in_reply_to_screen_name': 'TwitterSports', 'user': {'id': 830943931194081281, 'id_str': '830943931194081281', 'name': 'Dylan Ketchum', 'screen_name': 'ThatOneGuy2103', 'location': 'Utica, MI', 'description': 'I love the Detroit Tigers, huge WWE fan and the rest of the Detroit sports teams and a quoter and a WWE and a @JDfromNY206 fan', 'url': None, 'entities': {'description': {'urls': []}}, 'protected': False, 'followers_count': 76, 'friends_count': 372, 'listed_count': 2, 'created_at': 'Mon Feb 13 00:57:26 +0000 2017', 'favourites_count': 352, 'utc_offset': None, 'time_zone': None, 'geo_enabled': False, 'verified': False, 'statuses_count': 2671, 'lang': 'en', 'contributors_enabled': False, 'is_translator': False, 'is_translation_enabled': False, 'profile_background_color': '000000', 'profile_background_image_url': 'http://abs.twimg.com/images/themes/theme1/bg.png', 'profile_background_image_url_https': 'https://abs.twimg.com/images/themes/theme1/bg.png', 'profile_background_tile': False, 'profile_image_url': 'http://pbs.twimg.com/profile_images/1089856480331919362/Jrpj1aph_normal.jpg', 'profile_image_url_https': 'https://pbs.twimg.com/profile_images/1089856480331919362/Jrpj1aph_normal.jpg', 'profile_banner_url': 'https://pbs.twimg.com/profile_banners/830943931194081281/1548677014', 'profile_link_color': 'F58EA8', 'profile_sidebar_border_color': '000000', 'profile_sidebar_fill_color': '000000', 'profile_text_color': '000000', 'profile_use_background_image': False, 'has_extended_profile': False, 'default_profile': False, 'default_profile_image': False, 'following': False, 'follow_request_sent': False, 'notifications': False, 'translator_type': 'none'}, 'geo': None, 'coordinates': None, 'place': None, 'contributors': None, 'is_quote_status': False, 'retweet_count': 0, 'favorite_count': 0, 'favorited': False, 'retweeted': False, 'lang': 'en'}, created_at=datetime.datetime(2019, 2, 12, 23, 21, 26), id=1095462914465689600, id_str='1095462914465689600', text='@TwitterSports @NBA #NBATwitter \\n\\nHope the games are going to be really good', truncated=False, entities={'hashtags': [{'text': 'NBATwitter', 'indices': [20, 31]}], 'symbols': [], 'user_mentions': [{'screen_name': 'TwitterSports', 'name': 'Twitter Sports', 'id': 300392950, 'id_str': '300392950', 'indices': [0, 14]}, {'screen_name': 'NBA', 'name': 'NBA', 'id': 19923144, 'id_str': '19923144', 'indices': [15, 19]}], 'urls': []}, metadata={'iso_language_code': 'en', 'result_type': 'recent'}, source='Twitter Web App', source_url='https://mobile.twitter.com', in_reply_to_status_id=1095462734617923584, in_reply_to_status_id_str='1095462734617923584', in_reply_to_user_id=300392950, in_reply_to_user_id_str='300392950', in_reply_to_screen_name='TwitterSports', author=User(_api=<tweepy.api.API object at 0x7f81809dea20>, _json={'id': 830943931194081281, 'id_str': '830943931194081281', 'name': 'Dylan Ketchum', 'screen_name': 'ThatOneGuy2103', 'location': 'Utica, MI', 'description': 'I love the Detroit Tigers, huge WWE fan and the rest of the Detroit sports teams and a quoter and a WWE and a @JDfromNY206 fan', 'url': None, 'entities': {'description': {'urls': []}}, 'protected': False, 'followers_count': 76, 'friends_count': 372, 'listed_count': 2, 'created_at': 'Mon Feb 13 00:57:26 +0000 2017', 'favourites_count': 352, 'utc_offset': None, 'time_zone': None, 'geo_enabled': False, 'verified': False, 'statuses_count': 2671, 'lang': 'en', 'contributors_enabled': False, 'is_translator': False, 'is_translation_enabled': False, 'profile_background_color': '000000', 'profile_background_image_url': 'http://abs.twimg.com/images/themes/theme1/bg.png', 'profile_background_image_url_https': 'https://abs.twimg.com/images/themes/theme1/bg.png', 'profile_background_tile': False, 'profile_image_url': 'http://pbs.twimg.com/profile_images/1089856480331919362/Jrpj1aph_normal.jpg', 'profile_image_url_https': 'https://pbs.twimg.com/profile_images/1089856480331919362/Jrpj1aph_normal.jpg', 'profile_banner_url': 'https://pbs.twimg.com/profile_banners/830943931194081281/1548677014', 'profile_link_color': 'F58EA8', 'profile_sidebar_border_color': '000000', 'profile_sidebar_fill_color': '000000', 'profile_text_color': '000000', 'profile_use_background_image': False, 'has_extended_profile': False, 'default_profile': False, 'default_profile_image': False, 'following': False, 'follow_request_sent': False, 'notifications': False, 'translator_type': 'none'}, id=830943931194081281, id_str='830943931194081281', name='Dylan Ketchum', screen_name='ThatOneGuy2103', location='Utica, MI', description='I love the Detroit Tigers, huge WWE fan and the rest of the Detroit sports teams and a quoter and a WWE and a @JDfromNY206 fan', url=None, entities={'description': {'urls': []}}, protected=False, followers_count=76, friends_count=372, listed_count=2, created_at=datetime.datetime(2017, 2, 13, 0, 57, 26), favourites_count=352, utc_offset=None, time_zone=None, geo_enabled=False, verified=False, statuses_count=2671, lang='en', contributors_enabled=False, is_translator=False, is_translation_enabled=False, profile_background_color='000000', profile_background_image_url='http://abs.twimg.com/images/themes/theme1/bg.png', profile_background_image_url_https='https://abs.twimg.com/images/themes/theme1/bg.png', profile_background_tile=False, profile_image_url='http://pbs.twimg.com/profile_images/1089856480331919362/Jrpj1aph_normal.jpg', profile_image_url_https='https://pbs.twimg.com/profile_images/1089856480331919362/Jrpj1aph_normal.jpg', profile_banner_url='https://pbs.twimg.com/profile_banners/830943931194081281/1548677014', profile_link_color='F58EA8', profile_sidebar_border_color='000000', profile_sidebar_fill_color='000000', profile_text_color='000000', profile_use_background_image=False, has_extended_profile=False, default_profile=False, default_profile_image=False, following=False, follow_request_sent=False, notifications=False, translator_type='none'), user=User(_api=<tweepy.api.API object at 0x7f81809dea20>, _json={'id': 830943931194081281, 'id_str': '830943931194081281', 'name': 'Dylan Ketchum', 'screen_name': 'ThatOneGuy2103', 'location': 'Utica, MI', 'description': 'I love the Detroit Tigers, huge WWE fan and the rest of the Detroit sports teams and a quoter and a WWE and a @JDfromNY206 fan', 'url': None, 'entities': {'description': {'urls': []}}, 'protected': False, 'followers_count': 76, 'friends_count': 372, 'listed_count': 2, 'created_at': 'Mon Feb 13 00:57:26 +0000 2017', 'favourites_count': 352, 'utc_offset': None, 'time_zone': None, 'geo_enabled': False, 'verified': False, 'statuses_count': 2671, 'lang': 'en', 'contributors_enabled': False, 'is_translator': False, 'is_translation_enabled': False, 'profile_background_color': '000000', 'profile_background_image_url': 'http://abs.twimg.com/images/themes/theme1/bg.png', 'profile_background_image_url_https': 'https://abs.twimg.com/images/themes/theme1/bg.png', 'profile_background_tile': False, 'profile_image_url': 'http://pbs.twimg.com/profile_images/1089856480331919362/Jrpj1aph_normal.jpg', 'profile_image_url_https': 'https://pbs.twimg.com/profile_images/1089856480331919362/Jrpj1aph_normal.jpg', 'profile_banner_url': 'https://pbs.twimg.com/profile_banners/830943931194081281/1548677014', 'profile_link_color': 'F58EA8', 'profile_sidebar_border_color': '000000', 'profile_sidebar_fill_color': '000000', 'profile_text_color': '000000', 'profile_use_background_image': False, 'has_extended_profile': False, 'default_profile': False, 'default_profile_image': False, 'following': False, 'follow_request_sent': False, 'notifications': False, 'translator_type': 'none'}, id=830943931194081281, id_str='830943931194081281', name='Dylan Ketchum', screen_name='ThatOneGuy2103', location='Utica, MI', description='I love the Detroit Tigers, huge WWE fan and the rest of the Detroit sports teams and a quoter and a WWE and a @JDfromNY206 fan', url=None, entities={'description': {'urls': []}}, protected=False, followers_count=76, friends_count=372, listed_count=2, created_at=datetime.datetime(2017, 2, 13, 0, 57, 26), favourites_count=352, utc_offset=None, time_zone=None, geo_enabled=False, verified=False, statuses_count=2671, lang='en', contributors_enabled=False, is_translator=False, is_translation_enabled=False, profile_background_color='000000', profile_background_image_url='http://abs.twimg.com/images/themes/theme1/bg.png', profile_background_image_url_https='https://abs.twimg.com/images/themes/theme1/bg.png', profile_background_tile=False, profile_image_url='http://pbs.twimg.com/profile_images/1089856480331919362/Jrpj1aph_normal.jpg', profile_image_url_https='https://pbs.twimg.com/profile_images/1089856480331919362/Jrpj1aph_normal.jpg', profile_banner_url='https://pbs.twimg.com/profile_banners/830943931194081281/1548677014', profile_link_color='F58EA8', profile_sidebar_border_color='000000', profile_sidebar_fill_color='000000', profile_text_color='000000', profile_use_background_image=False, has_extended_profile=False, default_profile=False, default_profile_image=False, following=False, follow_request_sent=False, notifications=False, translator_type='none'), geo=None, coordinates=None, place=None, contributors=None, is_quote_status=False, retweet_count=0, favorite_count=0, favorited=False, retweeted=False, lang='en'),\n",
       " Status(_api=<tweepy.api.API object at 0x7f81809dea20>, _json={'created_at': 'Tue Feb 12 15:40:17 +0000 2019', 'id': 1095346863484661760, 'id_str': '1095346863484661760', 'text': '@TwitterSports give that blue tick to @Johnnywalkermma please❤️ https://t.co/FlFD6gwxr7', 'truncated': False, 'entities': {'hashtags': [], 'symbols': [], 'user_mentions': [{'screen_name': 'TwitterSports', 'name': 'Twitter Sports', 'id': 300392950, 'id_str': '300392950', 'indices': [0, 14]}, {'screen_name': 'Johnnywalkermma', 'name': 'Johnny  Walker', 'id': 963233809864056832, 'id_str': '963233809864056832', 'indices': [38, 54]}], 'urls': [{'url': 'https://t.co/FlFD6gwxr7', 'expanded_url': 'https://twitter.com/mma_kings/status/1095284683452096512', 'display_url': 'twitter.com/mma_kings/stat…', 'indices': [64, 87]}]}, 'metadata': {'iso_language_code': 'en', 'result_type': 'recent'}, 'source': '<a href=\"http://twitter.com/download/iphone\" rel=\"nofollow\">Twitter for iPhone</a>', 'in_reply_to_status_id': None, 'in_reply_to_status_id_str': None, 'in_reply_to_user_id': 300392950, 'in_reply_to_user_id_str': '300392950', 'in_reply_to_screen_name': 'TwitterSports', 'user': {'id': 396439532, 'id_str': '396439532', 'name': 'Mars', 'screen_name': 'PriyankMangal', 'location': 'New Delhi, India', 'description': '26- UFC before anything- UFC live tweeter-EPL-Beer-Cricket-Lawyer for a living-Oasis, Floyd & RHCP- Pizza- kajukatli lover- Notorious- Eire', 'url': None, 'entities': {'description': {'urls': []}}, 'protected': False, 'followers_count': 293, 'friends_count': 525, 'listed_count': 4, 'created_at': 'Sun Oct 23 08:29:15 +0000 2011', 'favourites_count': 6362, 'utc_offset': None, 'time_zone': None, 'geo_enabled': False, 'verified': False, 'statuses_count': 2571, 'lang': 'en', 'contributors_enabled': False, 'is_translator': False, 'is_translation_enabled': False, 'profile_background_color': 'CCE354', 'profile_background_image_url': 'http://abs.twimg.com/images/themes/theme1/bg.png', 'profile_background_image_url_https': 'https://abs.twimg.com/images/themes/theme1/bg.png', 'profile_background_tile': False, 'profile_image_url': 'http://pbs.twimg.com/profile_images/887508657885241344/B3Nrrwjf_normal.jpg', 'profile_image_url_https': 'https://pbs.twimg.com/profile_images/887508657885241344/B3Nrrwjf_normal.jpg', 'profile_banner_url': 'https://pbs.twimg.com/profile_banners/396439532/1478919629', 'profile_link_color': '97BF11', 'profile_sidebar_border_color': '00525E', 'profile_sidebar_fill_color': '000000', 'profile_text_color': 'AFDB00', 'profile_use_background_image': True, 'has_extended_profile': True, 'default_profile': False, 'default_profile_image': False, 'following': False, 'follow_request_sent': False, 'notifications': False, 'translator_type': 'none'}, 'geo': None, 'coordinates': None, 'place': None, 'contributors': None, 'is_quote_status': True, 'quoted_status_id': 1095284683452096512, 'quoted_status_id_str': '1095284683452096512', 'quoted_status': {'created_at': 'Tue Feb 12 11:33:12 +0000 2019', 'id': 1095284683452096512, 'id_str': '1095284683452096512', 'text': 'With Ovince St. Preux out, Johnny Walker (@Johnnywalkermma) steps in to fight Misha Cirkunov (@MishaC911) at UFC 23… https://t.co/Ol0oN5xWzC', 'truncated': True, 'entities': {'hashtags': [], 'symbols': [], 'user_mentions': [{'screen_name': 'Johnnywalkermma', 'name': 'Johnny  Walker', 'id': 963233809864056832, 'id_str': '963233809864056832', 'indices': [42, 58]}, {'screen_name': 'MishaC911', 'name': 'Misha', 'id': 300577063, 'id_str': '300577063', 'indices': [94, 104]}], 'urls': [{'url': 'https://t.co/Ol0oN5xWzC', 'expanded_url': 'https://twitter.com/i/web/status/1095284683452096512', 'display_url': 'twitter.com/i/web/status/1…', 'indices': [117, 140]}]}, 'metadata': {'iso_language_code': 'en', 'result_type': 'recent'}, 'source': '<a href=\"http://twitter.com/download/iphone\" rel=\"nofollow\">Twitter for iPhone</a>', 'in_reply_to_status_id': None, 'in_reply_to_status_id_str': None, 'in_reply_to_user_id': None, 'in_reply_to_user_id_str': None, 'in_reply_to_screen_name': None, 'user': {'id': 2777112401, 'id_str': '2777112401', 'name': 'Nolan King', 'screen_name': 'mma_kings', 'location': 'Massachusetts, USA', 'description': 'I found peace in your violence | 23 | @FloCombat + @tapology | 📷 credits tagged | Biomed grad @UofNH |', 'url': 'https://t.co/T8UGjnjrjV', 'entities': {'url': {'urls': [{'url': 'https://t.co/T8UGjnjrjV', 'expanded_url': 'http://FloCombat.com', 'display_url': 'FloCombat.com', 'indices': [0, 23]}]}, 'description': {'urls': []}}, 'protected': False, 'followers_count': 6391, 'friends_count': 854, 'listed_count': 134, 'created_at': 'Fri Sep 19 21:43:42 +0000 2014', 'favourites_count': 23156, 'utc_offset': None, 'time_zone': None, 'geo_enabled': False, 'verified': False, 'statuses_count': 24278, 'lang': 'en', 'contributors_enabled': False, 'is_translator': False, 'is_translation_enabled': False, 'profile_background_color': '000000', 'profile_background_image_url': 'http://abs.twimg.com/images/themes/theme1/bg.png', 'profile_background_image_url_https': 'https://abs.twimg.com/images/themes/theme1/bg.png', 'profile_background_tile': False, 'profile_image_url': 'http://pbs.twimg.com/profile_images/998747912673812482/WPB4Xll1_normal.jpg', 'profile_image_url_https': 'https://pbs.twimg.com/profile_images/998747912673812482/WPB4Xll1_normal.jpg', 'profile_banner_url': 'https://pbs.twimg.com/profile_banners/2777112401/1544647256', 'profile_link_color': '1B95E0', 'profile_sidebar_border_color': '000000', 'profile_sidebar_fill_color': '000000', 'profile_text_color': '000000', 'profile_use_background_image': False, 'has_extended_profile': True, 'default_profile': False, 'default_profile_image': False, 'following': False, 'follow_request_sent': False, 'notifications': False, 'translator_type': 'none'}, 'geo': None, 'coordinates': None, 'place': None, 'contributors': None, 'is_quote_status': False, 'retweet_count': 56, 'favorite_count': 278, 'favorited': False, 'retweeted': False, 'possibly_sensitive': False, 'lang': 'en'}, 'retweet_count': 0, 'favorite_count': 0, 'favorited': False, 'retweeted': False, 'possibly_sensitive': False, 'lang': 'en'}, created_at=datetime.datetime(2019, 2, 12, 15, 40, 17), id=1095346863484661760, id_str='1095346863484661760', text='@TwitterSports give that blue tick to @Johnnywalkermma please❤️ https://t.co/FlFD6gwxr7', truncated=False, entities={'hashtags': [], 'symbols': [], 'user_mentions': [{'screen_name': 'TwitterSports', 'name': 'Twitter Sports', 'id': 300392950, 'id_str': '300392950', 'indices': [0, 14]}, {'screen_name': 'Johnnywalkermma', 'name': 'Johnny  Walker', 'id': 963233809864056832, 'id_str': '963233809864056832', 'indices': [38, 54]}], 'urls': [{'url': 'https://t.co/FlFD6gwxr7', 'expanded_url': 'https://twitter.com/mma_kings/status/1095284683452096512', 'display_url': 'twitter.com/mma_kings/stat…', 'indices': [64, 87]}]}, metadata={'iso_language_code': 'en', 'result_type': 'recent'}, source='Twitter for iPhone', source_url='http://twitter.com/download/iphone', in_reply_to_status_id=None, in_reply_to_status_id_str=None, in_reply_to_user_id=300392950, in_reply_to_user_id_str='300392950', in_reply_to_screen_name='TwitterSports', author=User(_api=<tweepy.api.API object at 0x7f81809dea20>, _json={'id': 396439532, 'id_str': '396439532', 'name': 'Mars', 'screen_name': 'PriyankMangal', 'location': 'New Delhi, India', 'description': '26- UFC before anything- UFC live tweeter-EPL-Beer-Cricket-Lawyer for a living-Oasis, Floyd & RHCP- Pizza- kajukatli lover- Notorious- Eire', 'url': None, 'entities': {'description': {'urls': []}}, 'protected': False, 'followers_count': 293, 'friends_count': 525, 'listed_count': 4, 'created_at': 'Sun Oct 23 08:29:15 +0000 2011', 'favourites_count': 6362, 'utc_offset': None, 'time_zone': None, 'geo_enabled': False, 'verified': False, 'statuses_count': 2571, 'lang': 'en', 'contributors_enabled': False, 'is_translator': False, 'is_translation_enabled': False, 'profile_background_color': 'CCE354', 'profile_background_image_url': 'http://abs.twimg.com/images/themes/theme1/bg.png', 'profile_background_image_url_https': 'https://abs.twimg.com/images/themes/theme1/bg.png', 'profile_background_tile': False, 'profile_image_url': 'http://pbs.twimg.com/profile_images/887508657885241344/B3Nrrwjf_normal.jpg', 'profile_image_url_https': 'https://pbs.twimg.com/profile_images/887508657885241344/B3Nrrwjf_normal.jpg', 'profile_banner_url': 'https://pbs.twimg.com/profile_banners/396439532/1478919629', 'profile_link_color': '97BF11', 'profile_sidebar_border_color': '00525E', 'profile_sidebar_fill_color': '000000', 'profile_text_color': 'AFDB00', 'profile_use_background_image': True, 'has_extended_profile': True, 'default_profile': False, 'default_profile_image': False, 'following': False, 'follow_request_sent': False, 'notifications': False, 'translator_type': 'none'}, id=396439532, id_str='396439532', name='Mars', screen_name='PriyankMangal', location='New Delhi, India', description='26- UFC before anything- UFC live tweeter-EPL-Beer-Cricket-Lawyer for a living-Oasis, Floyd & RHCP- Pizza- kajukatli lover- Notorious- Eire', url=None, entities={'description': {'urls': []}}, protected=False, followers_count=293, friends_count=525, listed_count=4, created_at=datetime.datetime(2011, 10, 23, 8, 29, 15), favourites_count=6362, utc_offset=None, time_zone=None, geo_enabled=False, verified=False, statuses_count=2571, lang='en', contributors_enabled=False, is_translator=False, is_translation_enabled=False, profile_background_color='CCE354', profile_background_image_url='http://abs.twimg.com/images/themes/theme1/bg.png', profile_background_image_url_https='https://abs.twimg.com/images/themes/theme1/bg.png', profile_background_tile=False, profile_image_url='http://pbs.twimg.com/profile_images/887508657885241344/B3Nrrwjf_normal.jpg', profile_image_url_https='https://pbs.twimg.com/profile_images/887508657885241344/B3Nrrwjf_normal.jpg', profile_banner_url='https://pbs.twimg.com/profile_banners/396439532/1478919629', profile_link_color='97BF11', profile_sidebar_border_color='00525E', profile_sidebar_fill_color='000000', profile_text_color='AFDB00', profile_use_background_image=True, has_extended_profile=True, default_profile=False, default_profile_image=False, following=False, follow_request_sent=False, notifications=False, translator_type='none'), user=User(_api=<tweepy.api.API object at 0x7f81809dea20>, _json={'id': 396439532, 'id_str': '396439532', 'name': 'Mars', 'screen_name': 'PriyankMangal', 'location': 'New Delhi, India', 'description': '26- UFC before anything- UFC live tweeter-EPL-Beer-Cricket-Lawyer for a living-Oasis, Floyd & RHCP- Pizza- kajukatli lover- Notorious- Eire', 'url': None, 'entities': {'description': {'urls': []}}, 'protected': False, 'followers_count': 293, 'friends_count': 525, 'listed_count': 4, 'created_at': 'Sun Oct 23 08:29:15 +0000 2011', 'favourites_count': 6362, 'utc_offset': None, 'time_zone': None, 'geo_enabled': False, 'verified': False, 'statuses_count': 2571, 'lang': 'en', 'contributors_enabled': False, 'is_translator': False, 'is_translation_enabled': False, 'profile_background_color': 'CCE354', 'profile_background_image_url': 'http://abs.twimg.com/images/themes/theme1/bg.png', 'profile_background_image_url_https': 'https://abs.twimg.com/images/themes/theme1/bg.png', 'profile_background_tile': False, 'profile_image_url': 'http://pbs.twimg.com/profile_images/887508657885241344/B3Nrrwjf_normal.jpg', 'profile_image_url_https': 'https://pbs.twimg.com/profile_images/887508657885241344/B3Nrrwjf_normal.jpg', 'profile_banner_url': 'https://pbs.twimg.com/profile_banners/396439532/1478919629', 'profile_link_color': '97BF11', 'profile_sidebar_border_color': '00525E', 'profile_sidebar_fill_color': '000000', 'profile_text_color': 'AFDB00', 'profile_use_background_image': True, 'has_extended_profile': True, 'default_profile': False, 'default_profile_image': False, 'following': False, 'follow_request_sent': False, 'notifications': False, 'translator_type': 'none'}, id=396439532, id_str='396439532', name='Mars', screen_name='PriyankMangal', location='New Delhi, India', description='26- UFC before anything- UFC live tweeter-EPL-Beer-Cricket-Lawyer for a living-Oasis, Floyd & RHCP- Pizza- kajukatli lover- Notorious- Eire', url=None, entities={'description': {'urls': []}}, protected=False, followers_count=293, friends_count=525, listed_count=4, created_at=datetime.datetime(2011, 10, 23, 8, 29, 15), favourites_count=6362, utc_offset=None, time_zone=None, geo_enabled=False, verified=False, statuses_count=2571, lang='en', contributors_enabled=False, is_translator=False, is_translation_enabled=False, profile_background_color='CCE354', profile_background_image_url='http://abs.twimg.com/images/themes/theme1/bg.png', profile_background_image_url_https='https://abs.twimg.com/images/themes/theme1/bg.png', profile_background_tile=False, profile_image_url='http://pbs.twimg.com/profile_images/887508657885241344/B3Nrrwjf_normal.jpg', profile_image_url_https='https://pbs.twimg.com/profile_images/887508657885241344/B3Nrrwjf_normal.jpg', profile_banner_url='https://pbs.twimg.com/profile_banners/396439532/1478919629', profile_link_color='97BF11', profile_sidebar_border_color='00525E', profile_sidebar_fill_color='000000', profile_text_color='AFDB00', profile_use_background_image=True, has_extended_profile=True, default_profile=False, default_profile_image=False, following=False, follow_request_sent=False, notifications=False, translator_type='none'), geo=None, coordinates=None, place=None, contributors=None, is_quote_status=True, quoted_status_id=1095284683452096512, quoted_status_id_str='1095284683452096512', quoted_status=Status(_api=<tweepy.api.API object at 0x7f81809dea20>, _json={'created_at': 'Tue Feb 12 11:33:12 +0000 2019', 'id': 1095284683452096512, 'id_str': '1095284683452096512', 'text': 'With Ovince St. Preux out, Johnny Walker (@Johnnywalkermma) steps in to fight Misha Cirkunov (@MishaC911) at UFC 23… https://t.co/Ol0oN5xWzC', 'truncated': True, 'entities': {'hashtags': [], 'symbols': [], 'user_mentions': [{'screen_name': 'Johnnywalkermma', 'name': 'Johnny  Walker', 'id': 963233809864056832, 'id_str': '963233809864056832', 'indices': [42, 58]}, {'screen_name': 'MishaC911', 'name': 'Misha', 'id': 300577063, 'id_str': '300577063', 'indices': [94, 104]}], 'urls': [{'url': 'https://t.co/Ol0oN5xWzC', 'expanded_url': 'https://twitter.com/i/web/status/1095284683452096512', 'display_url': 'twitter.com/i/web/status/1…', 'indices': [117, 140]}]}, 'metadata': {'iso_language_code': 'en', 'result_type': 'recent'}, 'source': '<a href=\"http://twitter.com/download/iphone\" rel=\"nofollow\">Twitter for iPhone</a>', 'in_reply_to_status_id': None, 'in_reply_to_status_id_str': None, 'in_reply_to_user_id': None, 'in_reply_to_user_id_str': None, 'in_reply_to_screen_name': None, 'user': {'id': 2777112401, 'id_str': '2777112401', 'name': 'Nolan King', 'screen_name': 'mma_kings', 'location': 'Massachusetts, USA', 'description': 'I found peace in your violence | 23 | @FloCombat + @tapology | 📷 credits tagged | Biomed grad @UofNH |', 'url': 'https://t.co/T8UGjnjrjV', 'entities': {'url': {'urls': [{'url': 'https://t.co/T8UGjnjrjV', 'expanded_url': 'http://FloCombat.com', 'display_url': 'FloCombat.com', 'indices': [0, 23]}]}, 'description': {'urls': []}}, 'protected': False, 'followers_count': 6391, 'friends_count': 854, 'listed_count': 134, 'created_at': 'Fri Sep 19 21:43:42 +0000 2014', 'favourites_count': 23156, 'utc_offset': None, 'time_zone': None, 'geo_enabled': False, 'verified': False, 'statuses_count': 24278, 'lang': 'en', 'contributors_enabled': False, 'is_translator': False, 'is_translation_enabled': False, 'profile_background_color': '000000', 'profile_background_image_url': 'http://abs.twimg.com/images/themes/theme1/bg.png', 'profile_background_image_url_https': 'https://abs.twimg.com/images/themes/theme1/bg.png', 'profile_background_tile': False, 'profile_image_url': 'http://pbs.twimg.com/profile_images/998747912673812482/WPB4Xll1_normal.jpg', 'profile_image_url_https': 'https://pbs.twimg.com/profile_images/998747912673812482/WPB4Xll1_normal.jpg', 'profile_banner_url': 'https://pbs.twimg.com/profile_banners/2777112401/1544647256', 'profile_link_color': '1B95E0', 'profile_sidebar_border_color': '000000', 'profile_sidebar_fill_color': '000000', 'profile_text_color': '000000', 'profile_use_background_image': False, 'has_extended_profile': True, 'default_profile': False, 'default_profile_image': False, 'following': False, 'follow_request_sent': False, 'notifications': False, 'translator_type': 'none'}, 'geo': None, 'coordinates': None, 'place': None, 'contributors': None, 'is_quote_status': False, 'retweet_count': 56, 'favorite_count': 278, 'favorited': False, 'retweeted': False, 'possibly_sensitive': False, 'lang': 'en'}, created_at=datetime.datetime(2019, 2, 12, 11, 33, 12), id=1095284683452096512, id_str='1095284683452096512', text='With Ovince St. Preux out, Johnny Walker (@Johnnywalkermma) steps in to fight Misha Cirkunov (@MishaC911) at UFC 23… https://t.co/Ol0oN5xWzC', truncated=True, entities={'hashtags': [], 'symbols': [], 'user_mentions': [{'screen_name': 'Johnnywalkermma', 'name': 'Johnny  Walker', 'id': 963233809864056832, 'id_str': '963233809864056832', 'indices': [42, 58]}, {'screen_name': 'MishaC911', 'name': 'Misha', 'id': 300577063, 'id_str': '300577063', 'indices': [94, 104]}], 'urls': [{'url': 'https://t.co/Ol0oN5xWzC', 'expanded_url': 'https://twitter.com/i/web/status/1095284683452096512', 'display_url': 'twitter.com/i/web/status/1…', 'indices': [117, 140]}]}, metadata={'iso_language_code': 'en', 'result_type': 'recent'}, source='Twitter for iPhone', source_url='http://twitter.com/download/iphone', in_reply_to_status_id=None, in_reply_to_status_id_str=None, in_reply_to_user_id=None, in_reply_to_user_id_str=None, in_reply_to_screen_name=None, author=User(_api=<tweepy.api.API object at 0x7f81809dea20>, _json={'id': 2777112401, 'id_str': '2777112401', 'name': 'Nolan King', 'screen_name': 'mma_kings', 'location': 'Massachusetts, USA', 'description': 'I found peace in your violence | 23 | @FloCombat + @tapology | 📷 credits tagged | Biomed grad @UofNH |', 'url': 'https://t.co/T8UGjnjrjV', 'entities': {'url': {'urls': [{'url': 'https://t.co/T8UGjnjrjV', 'expanded_url': 'http://FloCombat.com', 'display_url': 'FloCombat.com', 'indices': [0, 23]}]}, 'description': {'urls': []}}, 'protected': False, 'followers_count': 6391, 'friends_count': 854, 'listed_count': 134, 'created_at': 'Fri Sep 19 21:43:42 +0000 2014', 'favourites_count': 23156, 'utc_offset': None, 'time_zone': None, 'geo_enabled': False, 'verified': False, 'statuses_count': 24278, 'lang': 'en', 'contributors_enabled': False, 'is_translator': False, 'is_translation_enabled': False, 'profile_background_color': '000000', 'profile_background_image_url': 'http://abs.twimg.com/images/themes/theme1/bg.png', 'profile_background_image_url_https': 'https://abs.twimg.com/images/themes/theme1/bg.png', 'profile_background_tile': False, 'profile_image_url': 'http://pbs.twimg.com/profile_images/998747912673812482/WPB4Xll1_normal.jpg', 'profile_image_url_https': 'https://pbs.twimg.com/profile_images/998747912673812482/WPB4Xll1_normal.jpg', 'profile_banner_url': 'https://pbs.twimg.com/profile_banners/2777112401/1544647256', 'profile_link_color': '1B95E0', 'profile_sidebar_border_color': '000000', 'profile_sidebar_fill_color': '000000', 'profile_text_color': '000000', 'profile_use_background_image': False, 'has_extended_profile': True, 'default_profile': False, 'default_profile_image': False, 'following': False, 'follow_request_sent': False, 'notifications': False, 'translator_type': 'none'}, id=2777112401, id_str='2777112401', name='Nolan King', screen_name='mma_kings', location='Massachusetts, USA', description='I found peace in your violence | 23 | @FloCombat + @tapology | 📷 credits tagged | Biomed grad @UofNH |', url='https://t.co/T8UGjnjrjV', entities={'url': {'urls': [{'url': 'https://t.co/T8UGjnjrjV', 'expanded_url': 'http://FloCombat.com', 'display_url': 'FloCombat.com', 'indices': [0, 23]}]}, 'description': {'urls': []}}, protected=False, followers_count=6391, friends_count=854, listed_count=134, created_at=datetime.datetime(2014, 9, 19, 21, 43, 42), favourites_count=23156, utc_offset=None, time_zone=None, geo_enabled=False, verified=False, statuses_count=24278, lang='en', contributors_enabled=False, is_translator=False, is_translation_enabled=False, profile_background_color='000000', profile_background_image_url='http://abs.twimg.com/images/themes/theme1/bg.png', profile_background_image_url_https='https://abs.twimg.com/images/themes/theme1/bg.png', profile_background_tile=False, profile_image_url='http://pbs.twimg.com/profile_images/998747912673812482/WPB4Xll1_normal.jpg', profile_image_url_https='https://pbs.twimg.com/profile_images/998747912673812482/WPB4Xll1_normal.jpg', profile_banner_url='https://pbs.twimg.com/profile_banners/2777112401/1544647256', profile_link_color='1B95E0', profile_sidebar_border_color='000000', profile_sidebar_fill_color='000000', profile_text_color='000000', profile_use_background_image=False, has_extended_profile=True, default_profile=False, default_profile_image=False, following=False, follow_request_sent=False, notifications=False, translator_type='none'), user=User(_api=<tweepy.api.API object at 0x7f81809dea20>, _json={'id': 2777112401, 'id_str': '2777112401', 'name': 'Nolan King', 'screen_name': 'mma_kings', 'location': 'Massachusetts, USA', 'description': 'I found peace in your violence | 23 | @FloCombat + @tapology | 📷 credits tagged | Biomed grad @UofNH |', 'url': 'https://t.co/T8UGjnjrjV', 'entities': {'url': {'urls': [{'url': 'https://t.co/T8UGjnjrjV', 'expanded_url': 'http://FloCombat.com', 'display_url': 'FloCombat.com', 'indices': [0, 23]}]}, 'description': {'urls': []}}, 'protected': False, 'followers_count': 6391, 'friends_count': 854, 'listed_count': 134, 'created_at': 'Fri Sep 19 21:43:42 +0000 2014', 'favourites_count': 23156, 'utc_offset': None, 'time_zone': None, 'geo_enabled': False, 'verified': False, 'statuses_count': 24278, 'lang': 'en', 'contributors_enabled': False, 'is_translator': False, 'is_translation_enabled': False, 'profile_background_color': '000000', 'profile_background_image_url': 'http://abs.twimg.com/images/themes/theme1/bg.png', 'profile_background_image_url_https': 'https://abs.twimg.com/images/themes/theme1/bg.png', 'profile_background_tile': False, 'profile_image_url': 'http://pbs.twimg.com/profile_images/998747912673812482/WPB4Xll1_normal.jpg', 'profile_image_url_https': 'https://pbs.twimg.com/profile_images/998747912673812482/WPB4Xll1_normal.jpg', 'profile_banner_url': 'https://pbs.twimg.com/profile_banners/2777112401/1544647256', 'profile_link_color': '1B95E0', 'profile_sidebar_border_color': '000000', 'profile_sidebar_fill_color': '000000', 'profile_text_color': '000000', 'profile_use_background_image': False, 'has_extended_profile': True, 'default_profile': False, 'default_profile_image': False, 'following': False, 'follow_request_sent': False, 'notifications': False, 'translator_type': 'none'}, id=2777112401, id_str='2777112401', name='Nolan King', screen_name='mma_kings', location='Massachusetts, USA', description='I found peace in your violence | 23 | @FloCombat + @tapology | 📷 credits tagged | Biomed grad @UofNH |', url='https://t.co/T8UGjnjrjV', entities={'url': {'urls': [{'url': 'https://t.co/T8UGjnjrjV', 'expanded_url': 'http://FloCombat.com', 'display_url': 'FloCombat.com', 'indices': [0, 23]}]}, 'description': {'urls': []}}, protected=False, followers_count=6391, friends_count=854, listed_count=134, created_at=datetime.datetime(2014, 9, 19, 21, 43, 42), favourites_count=23156, utc_offset=None, time_zone=None, geo_enabled=False, verified=False, statuses_count=24278, lang='en', contributors_enabled=False, is_translator=False, is_translation_enabled=False, profile_background_color='000000', profile_background_image_url='http://abs.twimg.com/images/themes/theme1/bg.png', profile_background_image_url_https='https://abs.twimg.com/images/themes/theme1/bg.png', profile_background_tile=False, profile_image_url='http://pbs.twimg.com/profile_images/998747912673812482/WPB4Xll1_normal.jpg', profile_image_url_https='https://pbs.twimg.com/profile_images/998747912673812482/WPB4Xll1_normal.jpg', profile_banner_url='https://pbs.twimg.com/profile_banners/2777112401/1544647256', profile_link_color='1B95E0', profile_sidebar_border_color='000000', profile_sidebar_fill_color='000000', profile_text_color='000000', profile_use_background_image=False, has_extended_profile=True, default_profile=False, default_profile_image=False, following=False, follow_request_sent=False, notifications=False, translator_type='none'), geo=None, coordinates=None, place=None, contributors=None, is_quote_status=False, retweet_count=56, favorite_count=278, favorited=False, retweeted=False, possibly_sensitive=False, lang='en'), retweet_count=0, favorite_count=0, favorited=False, retweeted=False, possibly_sensitive=False, lang='en'),\n",
       " Status(_api=<tweepy.api.API object at 0x7f81809dea20>, _json={'created_at': 'Mon Feb 11 08:26:05 +0000 2019', 'id': 1094875206890463232, 'id_str': '1094875206890463232', 'text': '@TwitterSports', 'truncated': False, 'entities': {'hashtags': [], 'symbols': [], 'user_mentions': [{'screen_name': 'TwitterSports', 'name': 'Twitter Sports', 'id': 300392950, 'id_str': '300392950', 'indices': [0, 14]}], 'urls': []}, 'metadata': {'iso_language_code': 'und', 'result_type': 'recent'}, 'source': '<a href=\"https://mobile.twitter.com\" rel=\"nofollow\">Twitter Web App</a>', 'in_reply_to_status_id': None, 'in_reply_to_status_id_str': None, 'in_reply_to_user_id': 300392950, 'in_reply_to_user_id_str': '300392950', 'in_reply_to_screen_name': 'TwitterSports', 'user': {'id': 494991433, 'id_str': '494991433', 'name': 'anil kumar upadhyay', 'screen_name': 'anilkumarupadh1', 'location': 'varanasi', 'description': 'advocate', 'url': 'http://t.co/Up40JRASMM', 'entities': {'url': {'urls': [{'url': 'http://t.co/Up40JRASMM', 'expanded_url': 'http://www.rediffmail.com', 'display_url': 'rediffmail.com', 'indices': [0, 22]}]}, 'description': {'urls': []}}, 'protected': False, 'followers_count': 5, 'friends_count': 27, 'listed_count': 0, 'created_at': 'Fri Feb 17 13:42:18 +0000 2012', 'favourites_count': 4, 'utc_offset': None, 'time_zone': None, 'geo_enabled': True, 'verified': False, 'statuses_count': 25, 'lang': 'hi', 'contributors_enabled': False, 'is_translator': False, 'is_translation_enabled': False, 'profile_background_color': 'C0DEED', 'profile_background_image_url': 'http://abs.twimg.com/images/themes/theme1/bg.png', 'profile_background_image_url_https': 'https://abs.twimg.com/images/themes/theme1/bg.png', 'profile_background_tile': False, 'profile_image_url': 'http://pbs.twimg.com/profile_images/472380106506125312/deyLSEKI_normal.jpeg', 'profile_image_url_https': 'https://pbs.twimg.com/profile_images/472380106506125312/deyLSEKI_normal.jpeg', 'profile_link_color': '1DA1F2', 'profile_sidebar_border_color': 'C0DEED', 'profile_sidebar_fill_color': 'DDEEF6', 'profile_text_color': '333333', 'profile_use_background_image': True, 'has_extended_profile': False, 'default_profile': True, 'default_profile_image': False, 'following': False, 'follow_request_sent': False, 'notifications': False, 'translator_type': 'none'}, 'geo': None, 'coordinates': None, 'place': None, 'contributors': None, 'is_quote_status': False, 'retweet_count': 0, 'favorite_count': 0, 'favorited': False, 'retweeted': False, 'lang': 'und'}, created_at=datetime.datetime(2019, 2, 11, 8, 26, 5), id=1094875206890463232, id_str='1094875206890463232', text='@TwitterSports', truncated=False, entities={'hashtags': [], 'symbols': [], 'user_mentions': [{'screen_name': 'TwitterSports', 'name': 'Twitter Sports', 'id': 300392950, 'id_str': '300392950', 'indices': [0, 14]}], 'urls': []}, metadata={'iso_language_code': 'und', 'result_type': 'recent'}, source='Twitter Web App', source_url='https://mobile.twitter.com', in_reply_to_status_id=None, in_reply_to_status_id_str=None, in_reply_to_user_id=300392950, in_reply_to_user_id_str='300392950', in_reply_to_screen_name='TwitterSports', author=User(_api=<tweepy.api.API object at 0x7f81809dea20>, _json={'id': 494991433, 'id_str': '494991433', 'name': 'anil kumar upadhyay', 'screen_name': 'anilkumarupadh1', 'location': 'varanasi', 'description': 'advocate', 'url': 'http://t.co/Up40JRASMM', 'entities': {'url': {'urls': [{'url': 'http://t.co/Up40JRASMM', 'expanded_url': 'http://www.rediffmail.com', 'display_url': 'rediffmail.com', 'indices': [0, 22]}]}, 'description': {'urls': []}}, 'protected': False, 'followers_count': 5, 'friends_count': 27, 'listed_count': 0, 'created_at': 'Fri Feb 17 13:42:18 +0000 2012', 'favourites_count': 4, 'utc_offset': None, 'time_zone': None, 'geo_enabled': True, 'verified': False, 'statuses_count': 25, 'lang': 'hi', 'contributors_enabled': False, 'is_translator': False, 'is_translation_enabled': False, 'profile_background_color': 'C0DEED', 'profile_background_image_url': 'http://abs.twimg.com/images/themes/theme1/bg.png', 'profile_background_image_url_https': 'https://abs.twimg.com/images/themes/theme1/bg.png', 'profile_background_tile': False, 'profile_image_url': 'http://pbs.twimg.com/profile_images/472380106506125312/deyLSEKI_normal.jpeg', 'profile_image_url_https': 'https://pbs.twimg.com/profile_images/472380106506125312/deyLSEKI_normal.jpeg', 'profile_link_color': '1DA1F2', 'profile_sidebar_border_color': 'C0DEED', 'profile_sidebar_fill_color': 'DDEEF6', 'profile_text_color': '333333', 'profile_use_background_image': True, 'has_extended_profile': False, 'default_profile': True, 'default_profile_image': False, 'following': False, 'follow_request_sent': False, 'notifications': False, 'translator_type': 'none'}, id=494991433, id_str='494991433', name='anil kumar upadhyay', screen_name='anilkumarupadh1', location='varanasi', description='advocate', url='http://t.co/Up40JRASMM', entities={'url': {'urls': [{'url': 'http://t.co/Up40JRASMM', 'expanded_url': 'http://www.rediffmail.com', 'display_url': 'rediffmail.com', 'indices': [0, 22]}]}, 'description': {'urls': []}}, protected=False, followers_count=5, friends_count=27, listed_count=0, created_at=datetime.datetime(2012, 2, 17, 13, 42, 18), favourites_count=4, utc_offset=None, time_zone=None, geo_enabled=True, verified=False, statuses_count=25, lang='hi', contributors_enabled=False, is_translator=False, is_translation_enabled=False, profile_background_color='C0DEED', profile_background_image_url='http://abs.twimg.com/images/themes/theme1/bg.png', profile_background_image_url_https='https://abs.twimg.com/images/themes/theme1/bg.png', profile_background_tile=False, profile_image_url='http://pbs.twimg.com/profile_images/472380106506125312/deyLSEKI_normal.jpeg', profile_image_url_https='https://pbs.twimg.com/profile_images/472380106506125312/deyLSEKI_normal.jpeg', profile_link_color='1DA1F2', profile_sidebar_border_color='C0DEED', profile_sidebar_fill_color='DDEEF6', profile_text_color='333333', profile_use_background_image=True, has_extended_profile=False, default_profile=True, default_profile_image=False, following=False, follow_request_sent=False, notifications=False, translator_type='none'), user=User(_api=<tweepy.api.API object at 0x7f81809dea20>, _json={'id': 494991433, 'id_str': '494991433', 'name': 'anil kumar upadhyay', 'screen_name': 'anilkumarupadh1', 'location': 'varanasi', 'description': 'advocate', 'url': 'http://t.co/Up40JRASMM', 'entities': {'url': {'urls': [{'url': 'http://t.co/Up40JRASMM', 'expanded_url': 'http://www.rediffmail.com', 'display_url': 'rediffmail.com', 'indices': [0, 22]}]}, 'description': {'urls': []}}, 'protected': False, 'followers_count': 5, 'friends_count': 27, 'listed_count': 0, 'created_at': 'Fri Feb 17 13:42:18 +0000 2012', 'favourites_count': 4, 'utc_offset': None, 'time_zone': None, 'geo_enabled': True, 'verified': False, 'statuses_count': 25, 'lang': 'hi', 'contributors_enabled': False, 'is_translator': False, 'is_translation_enabled': False, 'profile_background_color': 'C0DEED', 'profile_background_image_url': 'http://abs.twimg.com/images/themes/theme1/bg.png', 'profile_background_image_url_https': 'https://abs.twimg.com/images/themes/theme1/bg.png', 'profile_background_tile': False, 'profile_image_url': 'http://pbs.twimg.com/profile_images/472380106506125312/deyLSEKI_normal.jpeg', 'profile_image_url_https': 'https://pbs.twimg.com/profile_images/472380106506125312/deyLSEKI_normal.jpeg', 'profile_link_color': '1DA1F2', 'profile_sidebar_border_color': 'C0DEED', 'profile_sidebar_fill_color': 'DDEEF6', 'profile_text_color': '333333', 'profile_use_background_image': True, 'has_extended_profile': False, 'default_profile': True, 'default_profile_image': False, 'following': False, 'follow_request_sent': False, 'notifications': False, 'translator_type': 'none'}, id=494991433, id_str='494991433', name='anil kumar upadhyay', screen_name='anilkumarupadh1', location='varanasi', description='advocate', url='http://t.co/Up40JRASMM', entities={'url': {'urls': [{'url': 'http://t.co/Up40JRASMM', 'expanded_url': 'http://www.rediffmail.com', 'display_url': 'rediffmail.com', 'indices': [0, 22]}]}, 'description': {'urls': []}}, protected=False, followers_count=5, friends_count=27, listed_count=0, created_at=datetime.datetime(2012, 2, 17, 13, 42, 18), favourites_count=4, utc_offset=None, time_zone=None, geo_enabled=True, verified=False, statuses_count=25, lang='hi', contributors_enabled=False, is_translator=False, is_translation_enabled=False, profile_background_color='C0DEED', profile_background_image_url='http://abs.twimg.com/images/themes/theme1/bg.png', profile_background_image_url_https='https://abs.twimg.com/images/themes/theme1/bg.png', profile_background_tile=False, profile_image_url='http://pbs.twimg.com/profile_images/472380106506125312/deyLSEKI_normal.jpeg', profile_image_url_https='https://pbs.twimg.com/profile_images/472380106506125312/deyLSEKI_normal.jpeg', profile_link_color='1DA1F2', profile_sidebar_border_color='C0DEED', profile_sidebar_fill_color='DDEEF6', profile_text_color='333333', profile_use_background_image=True, has_extended_profile=False, default_profile=True, default_profile_image=False, following=False, follow_request_sent=False, notifications=False, translator_type='none'), geo=None, coordinates=None, place=None, contributors=None, is_quote_status=False, retweet_count=0, favorite_count=0, favorited=False, retweeted=False, lang='und'),\n",
       " Status(_api=<tweepy.api.API object at 0x7f81809dea20>, _json={'created_at': 'Mon Feb 11 08:23:37 +0000 2019', 'id': 1094874587031093248, 'id_str': '1094874587031093248', 'text': '@TwitterSports dhnywad modi ji\\nAap ko 2019 ke liye agrim PM ke liye badhai', 'truncated': False, 'entities': {'hashtags': [], 'symbols': [], 'user_mentions': [{'screen_name': 'TwitterSports', 'name': 'Twitter Sports', 'id': 300392950, 'id_str': '300392950', 'indices': [0, 14]}], 'urls': []}, 'metadata': {'iso_language_code': 'hi', 'result_type': 'recent'}, 'source': '<a href=\"https://mobile.twitter.com\" rel=\"nofollow\">Twitter Web App</a>', 'in_reply_to_status_id': None, 'in_reply_to_status_id_str': None, 'in_reply_to_user_id': 300392950, 'in_reply_to_user_id_str': '300392950', 'in_reply_to_screen_name': 'TwitterSports', 'user': {'id': 494991433, 'id_str': '494991433', 'name': 'anil kumar upadhyay', 'screen_name': 'anilkumarupadh1', 'location': 'varanasi', 'description': 'advocate', 'url': 'http://t.co/Up40JRASMM', 'entities': {'url': {'urls': [{'url': 'http://t.co/Up40JRASMM', 'expanded_url': 'http://www.rediffmail.com', 'display_url': 'rediffmail.com', 'indices': [0, 22]}]}, 'description': {'urls': []}}, 'protected': False, 'followers_count': 5, 'friends_count': 27, 'listed_count': 0, 'created_at': 'Fri Feb 17 13:42:18 +0000 2012', 'favourites_count': 4, 'utc_offset': None, 'time_zone': None, 'geo_enabled': True, 'verified': False, 'statuses_count': 25, 'lang': 'hi', 'contributors_enabled': False, 'is_translator': False, 'is_translation_enabled': False, 'profile_background_color': 'C0DEED', 'profile_background_image_url': 'http://abs.twimg.com/images/themes/theme1/bg.png', 'profile_background_image_url_https': 'https://abs.twimg.com/images/themes/theme1/bg.png', 'profile_background_tile': False, 'profile_image_url': 'http://pbs.twimg.com/profile_images/472380106506125312/deyLSEKI_normal.jpeg', 'profile_image_url_https': 'https://pbs.twimg.com/profile_images/472380106506125312/deyLSEKI_normal.jpeg', 'profile_link_color': '1DA1F2', 'profile_sidebar_border_color': 'C0DEED', 'profile_sidebar_fill_color': 'DDEEF6', 'profile_text_color': '333333', 'profile_use_background_image': True, 'has_extended_profile': False, 'default_profile': True, 'default_profile_image': False, 'following': False, 'follow_request_sent': False, 'notifications': False, 'translator_type': 'none'}, 'geo': None, 'coordinates': None, 'place': None, 'contributors': None, 'is_quote_status': False, 'retweet_count': 0, 'favorite_count': 0, 'favorited': False, 'retweeted': False, 'lang': 'hi'}, created_at=datetime.datetime(2019, 2, 11, 8, 23, 37), id=1094874587031093248, id_str='1094874587031093248', text='@TwitterSports dhnywad modi ji\\nAap ko 2019 ke liye agrim PM ke liye badhai', truncated=False, entities={'hashtags': [], 'symbols': [], 'user_mentions': [{'screen_name': 'TwitterSports', 'name': 'Twitter Sports', 'id': 300392950, 'id_str': '300392950', 'indices': [0, 14]}], 'urls': []}, metadata={'iso_language_code': 'hi', 'result_type': 'recent'}, source='Twitter Web App', source_url='https://mobile.twitter.com', in_reply_to_status_id=None, in_reply_to_status_id_str=None, in_reply_to_user_id=300392950, in_reply_to_user_id_str='300392950', in_reply_to_screen_name='TwitterSports', author=User(_api=<tweepy.api.API object at 0x7f81809dea20>, _json={'id': 494991433, 'id_str': '494991433', 'name': 'anil kumar upadhyay', 'screen_name': 'anilkumarupadh1', 'location': 'varanasi', 'description': 'advocate', 'url': 'http://t.co/Up40JRASMM', 'entities': {'url': {'urls': [{'url': 'http://t.co/Up40JRASMM', 'expanded_url': 'http://www.rediffmail.com', 'display_url': 'rediffmail.com', 'indices': [0, 22]}]}, 'description': {'urls': []}}, 'protected': False, 'followers_count': 5, 'friends_count': 27, 'listed_count': 0, 'created_at': 'Fri Feb 17 13:42:18 +0000 2012', 'favourites_count': 4, 'utc_offset': None, 'time_zone': None, 'geo_enabled': True, 'verified': False, 'statuses_count': 25, 'lang': 'hi', 'contributors_enabled': False, 'is_translator': False, 'is_translation_enabled': False, 'profile_background_color': 'C0DEED', 'profile_background_image_url': 'http://abs.twimg.com/images/themes/theme1/bg.png', 'profile_background_image_url_https': 'https://abs.twimg.com/images/themes/theme1/bg.png', 'profile_background_tile': False, 'profile_image_url': 'http://pbs.twimg.com/profile_images/472380106506125312/deyLSEKI_normal.jpeg', 'profile_image_url_https': 'https://pbs.twimg.com/profile_images/472380106506125312/deyLSEKI_normal.jpeg', 'profile_link_color': '1DA1F2', 'profile_sidebar_border_color': 'C0DEED', 'profile_sidebar_fill_color': 'DDEEF6', 'profile_text_color': '333333', 'profile_use_background_image': True, 'has_extended_profile': False, 'default_profile': True, 'default_profile_image': False, 'following': False, 'follow_request_sent': False, 'notifications': False, 'translator_type': 'none'}, id=494991433, id_str='494991433', name='anil kumar upadhyay', screen_name='anilkumarupadh1', location='varanasi', description='advocate', url='http://t.co/Up40JRASMM', entities={'url': {'urls': [{'url': 'http://t.co/Up40JRASMM', 'expanded_url': 'http://www.rediffmail.com', 'display_url': 'rediffmail.com', 'indices': [0, 22]}]}, 'description': {'urls': []}}, protected=False, followers_count=5, friends_count=27, listed_count=0, created_at=datetime.datetime(2012, 2, 17, 13, 42, 18), favourites_count=4, utc_offset=None, time_zone=None, geo_enabled=True, verified=False, statuses_count=25, lang='hi', contributors_enabled=False, is_translator=False, is_translation_enabled=False, profile_background_color='C0DEED', profile_background_image_url='http://abs.twimg.com/images/themes/theme1/bg.png', profile_background_image_url_https='https://abs.twimg.com/images/themes/theme1/bg.png', profile_background_tile=False, profile_image_url='http://pbs.twimg.com/profile_images/472380106506125312/deyLSEKI_normal.jpeg', profile_image_url_https='https://pbs.twimg.com/profile_images/472380106506125312/deyLSEKI_normal.jpeg', profile_link_color='1DA1F2', profile_sidebar_border_color='C0DEED', profile_sidebar_fill_color='DDEEF6', profile_text_color='333333', profile_use_background_image=True, has_extended_profile=False, default_profile=True, default_profile_image=False, following=False, follow_request_sent=False, notifications=False, translator_type='none'), user=User(_api=<tweepy.api.API object at 0x7f81809dea20>, _json={'id': 494991433, 'id_str': '494991433', 'name': 'anil kumar upadhyay', 'screen_name': 'anilkumarupadh1', 'location': 'varanasi', 'description': 'advocate', 'url': 'http://t.co/Up40JRASMM', 'entities': {'url': {'urls': [{'url': 'http://t.co/Up40JRASMM', 'expanded_url': 'http://www.rediffmail.com', 'display_url': 'rediffmail.com', 'indices': [0, 22]}]}, 'description': {'urls': []}}, 'protected': False, 'followers_count': 5, 'friends_count': 27, 'listed_count': 0, 'created_at': 'Fri Feb 17 13:42:18 +0000 2012', 'favourites_count': 4, 'utc_offset': None, 'time_zone': None, 'geo_enabled': True, 'verified': False, 'statuses_count': 25, 'lang': 'hi', 'contributors_enabled': False, 'is_translator': False, 'is_translation_enabled': False, 'profile_background_color': 'C0DEED', 'profile_background_image_url': 'http://abs.twimg.com/images/themes/theme1/bg.png', 'profile_background_image_url_https': 'https://abs.twimg.com/images/themes/theme1/bg.png', 'profile_background_tile': False, 'profile_image_url': 'http://pbs.twimg.com/profile_images/472380106506125312/deyLSEKI_normal.jpeg', 'profile_image_url_https': 'https://pbs.twimg.com/profile_images/472380106506125312/deyLSEKI_normal.jpeg', 'profile_link_color': '1DA1F2', 'profile_sidebar_border_color': 'C0DEED', 'profile_sidebar_fill_color': 'DDEEF6', 'profile_text_color': '333333', 'profile_use_background_image': True, 'has_extended_profile': False, 'default_profile': True, 'default_profile_image': False, 'following': False, 'follow_request_sent': False, 'notifications': False, 'translator_type': 'none'}, id=494991433, id_str='494991433', name='anil kumar upadhyay', screen_name='anilkumarupadh1', location='varanasi', description='advocate', url='http://t.co/Up40JRASMM', entities={'url': {'urls': [{'url': 'http://t.co/Up40JRASMM', 'expanded_url': 'http://www.rediffmail.com', 'display_url': 'rediffmail.com', 'indices': [0, 22]}]}, 'description': {'urls': []}}, protected=False, followers_count=5, friends_count=27, listed_count=0, created_at=datetime.datetime(2012, 2, 17, 13, 42, 18), favourites_count=4, utc_offset=None, time_zone=None, geo_enabled=True, verified=False, statuses_count=25, lang='hi', contributors_enabled=False, is_translator=False, is_translation_enabled=False, profile_background_color='C0DEED', profile_background_image_url='http://abs.twimg.com/images/themes/theme1/bg.png', profile_background_image_url_https='https://abs.twimg.com/images/themes/theme1/bg.png', profile_background_tile=False, profile_image_url='http://pbs.twimg.com/profile_images/472380106506125312/deyLSEKI_normal.jpeg', profile_image_url_https='https://pbs.twimg.com/profile_images/472380106506125312/deyLSEKI_normal.jpeg', profile_link_color='1DA1F2', profile_sidebar_border_color='C0DEED', profile_sidebar_fill_color='DDEEF6', profile_text_color='333333', profile_use_background_image=True, has_extended_profile=False, default_profile=True, default_profile_image=False, following=False, follow_request_sent=False, notifications=False, translator_type='none'), geo=None, coordinates=None, place=None, contributors=None, is_quote_status=False, retweet_count=0, favorite_count=0, favorited=False, retweeted=False, lang='hi'),\n",
       " Status(_api=<tweepy.api.API object at 0x7f81809dea20>, _json={'created_at': 'Sun Feb 10 23:02:25 +0000 2019', 'id': 1094733355814289408, 'id_str': '1094733355814289408', 'text': \"@TwitterSports @TwitterCanada @NHL @91Tavares 😂 Loving all the salty NYI'er fans.\", 'truncated': False, 'entities': {'hashtags': [], 'symbols': [], 'user_mentions': [{'screen_name': 'TwitterSports', 'name': 'Twitter Sports', 'id': 300392950, 'id_str': '300392950', 'indices': [0, 14]}, {'screen_name': 'TwitterCanada', 'name': 'Twitter Canada', 'id': 1347713256, 'id_str': '1347713256', 'indices': [15, 29]}, {'screen_name': 'NHL', 'name': 'NHL', 'id': 50004938, 'id_str': '50004938', 'indices': [30, 34]}, {'screen_name': '91Tavares', 'name': 'John Tavares', 'id': 707354300, 'id_str': '707354300', 'indices': [35, 45]}], 'urls': []}, 'metadata': {'iso_language_code': 'en', 'result_type': 'recent'}, 'source': '<a href=\"http://twitter.com/download/android\" rel=\"nofollow\">Twitter for Android</a>', 'in_reply_to_status_id': 1094294861317095425, 'in_reply_to_status_id_str': '1094294861317095425', 'in_reply_to_user_id': 300392950, 'in_reply_to_user_id_str': '300392950', 'in_reply_to_screen_name': 'TwitterSports', 'user': {'id': 221844400, 'id_str': '221844400', 'name': 'King Kong', 'screen_name': 'King85Kong', 'location': 'Toronto', 'description': 'Morality is not complicated. Simply treat others how you want to be treated.', 'url': None, 'entities': {'description': {'urls': []}}, 'protected': False, 'followers_count': 127, 'friends_count': 391, 'listed_count': 1, 'created_at': 'Wed Dec 01 19:34:31 +0000 2010', 'favourites_count': 36554, 'utc_offset': None, 'time_zone': None, 'geo_enabled': True, 'verified': False, 'statuses_count': 9350, 'lang': 'en', 'contributors_enabled': False, 'is_translator': False, 'is_translation_enabled': False, 'profile_background_color': 'C0DEED', 'profile_background_image_url': 'http://abs.twimg.com/images/themes/theme1/bg.png', 'profile_background_image_url_https': 'https://abs.twimg.com/images/themes/theme1/bg.png', 'profile_background_tile': False, 'profile_image_url': 'http://pbs.twimg.com/profile_images/1071104789893640192/VbBWJsg5_normal.jpg', 'profile_image_url_https': 'https://pbs.twimg.com/profile_images/1071104789893640192/VbBWJsg5_normal.jpg', 'profile_link_color': '1DA1F2', 'profile_sidebar_border_color': 'C0DEED', 'profile_sidebar_fill_color': 'DDEEF6', 'profile_text_color': '333333', 'profile_use_background_image': True, 'has_extended_profile': False, 'default_profile': True, 'default_profile_image': False, 'following': False, 'follow_request_sent': False, 'notifications': False, 'translator_type': 'none'}, 'geo': None, 'coordinates': None, 'place': None, 'contributors': None, 'is_quote_status': False, 'retweet_count': 0, 'favorite_count': 0, 'favorited': False, 'retweeted': False, 'lang': 'en'}, created_at=datetime.datetime(2019, 2, 10, 23, 2, 25), id=1094733355814289408, id_str='1094733355814289408', text=\"@TwitterSports @TwitterCanada @NHL @91Tavares 😂 Loving all the salty NYI'er fans.\", truncated=False, entities={'hashtags': [], 'symbols': [], 'user_mentions': [{'screen_name': 'TwitterSports', 'name': 'Twitter Sports', 'id': 300392950, 'id_str': '300392950', 'indices': [0, 14]}, {'screen_name': 'TwitterCanada', 'name': 'Twitter Canada', 'id': 1347713256, 'id_str': '1347713256', 'indices': [15, 29]}, {'screen_name': 'NHL', 'name': 'NHL', 'id': 50004938, 'id_str': '50004938', 'indices': [30, 34]}, {'screen_name': '91Tavares', 'name': 'John Tavares', 'id': 707354300, 'id_str': '707354300', 'indices': [35, 45]}], 'urls': []}, metadata={'iso_language_code': 'en', 'result_type': 'recent'}, source='Twitter for Android', source_url='http://twitter.com/download/android', in_reply_to_status_id=1094294861317095425, in_reply_to_status_id_str='1094294861317095425', in_reply_to_user_id=300392950, in_reply_to_user_id_str='300392950', in_reply_to_screen_name='TwitterSports', author=User(_api=<tweepy.api.API object at 0x7f81809dea20>, _json={'id': 221844400, 'id_str': '221844400', 'name': 'King Kong', 'screen_name': 'King85Kong', 'location': 'Toronto', 'description': 'Morality is not complicated. Simply treat others how you want to be treated.', 'url': None, 'entities': {'description': {'urls': []}}, 'protected': False, 'followers_count': 127, 'friends_count': 391, 'listed_count': 1, 'created_at': 'Wed Dec 01 19:34:31 +0000 2010', 'favourites_count': 36554, 'utc_offset': None, 'time_zone': None, 'geo_enabled': True, 'verified': False, 'statuses_count': 9350, 'lang': 'en', 'contributors_enabled': False, 'is_translator': False, 'is_translation_enabled': False, 'profile_background_color': 'C0DEED', 'profile_background_image_url': 'http://abs.twimg.com/images/themes/theme1/bg.png', 'profile_background_image_url_https': 'https://abs.twimg.com/images/themes/theme1/bg.png', 'profile_background_tile': False, 'profile_image_url': 'http://pbs.twimg.com/profile_images/1071104789893640192/VbBWJsg5_normal.jpg', 'profile_image_url_https': 'https://pbs.twimg.com/profile_images/1071104789893640192/VbBWJsg5_normal.jpg', 'profile_link_color': '1DA1F2', 'profile_sidebar_border_color': 'C0DEED', 'profile_sidebar_fill_color': 'DDEEF6', 'profile_text_color': '333333', 'profile_use_background_image': True, 'has_extended_profile': False, 'default_profile': True, 'default_profile_image': False, 'following': False, 'follow_request_sent': False, 'notifications': False, 'translator_type': 'none'}, id=221844400, id_str='221844400', name='King Kong', screen_name='King85Kong', location='Toronto', description='Morality is not complicated. Simply treat others how you want to be treated.', url=None, entities={'description': {'urls': []}}, protected=False, followers_count=127, friends_count=391, listed_count=1, created_at=datetime.datetime(2010, 12, 1, 19, 34, 31), favourites_count=36554, utc_offset=None, time_zone=None, geo_enabled=True, verified=False, statuses_count=9350, lang='en', contributors_enabled=False, is_translator=False, is_translation_enabled=False, profile_background_color='C0DEED', profile_background_image_url='http://abs.twimg.com/images/themes/theme1/bg.png', profile_background_image_url_https='https://abs.twimg.com/images/themes/theme1/bg.png', profile_background_tile=False, profile_image_url='http://pbs.twimg.com/profile_images/1071104789893640192/VbBWJsg5_normal.jpg', profile_image_url_https='https://pbs.twimg.com/profile_images/1071104789893640192/VbBWJsg5_normal.jpg', profile_link_color='1DA1F2', profile_sidebar_border_color='C0DEED', profile_sidebar_fill_color='DDEEF6', profile_text_color='333333', profile_use_background_image=True, has_extended_profile=False, default_profile=True, default_profile_image=False, following=False, follow_request_sent=False, notifications=False, translator_type='none'), user=User(_api=<tweepy.api.API object at 0x7f81809dea20>, _json={'id': 221844400, 'id_str': '221844400', 'name': 'King Kong', 'screen_name': 'King85Kong', 'location': 'Toronto', 'description': 'Morality is not complicated. Simply treat others how you want to be treated.', 'url': None, 'entities': {'description': {'urls': []}}, 'protected': False, 'followers_count': 127, 'friends_count': 391, 'listed_count': 1, 'created_at': 'Wed Dec 01 19:34:31 +0000 2010', 'favourites_count': 36554, 'utc_offset': None, 'time_zone': None, 'geo_enabled': True, 'verified': False, 'statuses_count': 9350, 'lang': 'en', 'contributors_enabled': False, 'is_translator': False, 'is_translation_enabled': False, 'profile_background_color': 'C0DEED', 'profile_background_image_url': 'http://abs.twimg.com/images/themes/theme1/bg.png', 'profile_background_image_url_https': 'https://abs.twimg.com/images/themes/theme1/bg.png', 'profile_background_tile': False, 'profile_image_url': 'http://pbs.twimg.com/profile_images/1071104789893640192/VbBWJsg5_normal.jpg', 'profile_image_url_https': 'https://pbs.twimg.com/profile_images/1071104789893640192/VbBWJsg5_normal.jpg', 'profile_link_color': '1DA1F2', 'profile_sidebar_border_color': 'C0DEED', 'profile_sidebar_fill_color': 'DDEEF6', 'profile_text_color': '333333', 'profile_use_background_image': True, 'has_extended_profile': False, 'default_profile': True, 'default_profile_image': False, 'following': False, 'follow_request_sent': False, 'notifications': False, 'translator_type': 'none'}, id=221844400, id_str='221844400', name='King Kong', screen_name='King85Kong', location='Toronto', description='Morality is not complicated. Simply treat others how you want to be treated.', url=None, entities={'description': {'urls': []}}, protected=False, followers_count=127, friends_count=391, listed_count=1, created_at=datetime.datetime(2010, 12, 1, 19, 34, 31), favourites_count=36554, utc_offset=None, time_zone=None, geo_enabled=True, verified=False, statuses_count=9350, lang='en', contributors_enabled=False, is_translator=False, is_translation_enabled=False, profile_background_color='C0DEED', profile_background_image_url='http://abs.twimg.com/images/themes/theme1/bg.png', profile_background_image_url_https='https://abs.twimg.com/images/themes/theme1/bg.png', profile_background_tile=False, profile_image_url='http://pbs.twimg.com/profile_images/1071104789893640192/VbBWJsg5_normal.jpg', profile_image_url_https='https://pbs.twimg.com/profile_images/1071104789893640192/VbBWJsg5_normal.jpg', profile_link_color='1DA1F2', profile_sidebar_border_color='C0DEED', profile_sidebar_fill_color='DDEEF6', profile_text_color='333333', profile_use_background_image=True, has_extended_profile=False, default_profile=True, default_profile_image=False, following=False, follow_request_sent=False, notifications=False, translator_type='none'), geo=None, coordinates=None, place=None, contributors=None, is_quote_status=False, retweet_count=0, favorite_count=0, favorited=False, retweeted=False, lang='en'),\n",
       " Status(_api=<tweepy.api.API object at 0x7f81809dea20>, _json={'created_at': 'Sun Feb 10 21:47:21 +0000 2019', 'id': 1094714461519339521, 'id_str': '1094714461519339521', 'text': '@TwitterSports @NHL @91Tavares https://t.co/irj5IwTa5Y', 'truncated': False, 'entities': {'hashtags': [], 'symbols': [], 'user_mentions': [{'screen_name': 'TwitterSports', 'name': 'Twitter Sports', 'id': 300392950, 'id_str': '300392950', 'indices': [0, 14]}, {'screen_name': 'NHL', 'name': 'NHL', 'id': 50004938, 'id_str': '50004938', 'indices': [15, 19]}, {'screen_name': '91Tavares', 'name': 'John Tavares', 'id': 707354300, 'id_str': '707354300', 'indices': [20, 30]}], 'urls': [], 'media': [{'id': 1094714455705960448, 'id_str': '1094714455705960448', 'indices': [31, 54], 'media_url': 'http://pbs.twimg.com/media/DzE0_1bWwAAEzen.jpg', 'media_url_https': 'https://pbs.twimg.com/media/DzE0_1bWwAAEzen.jpg', 'url': 'https://t.co/irj5IwTa5Y', 'display_url': 'pic.twitter.com/irj5IwTa5Y', 'expanded_url': 'https://twitter.com/puckofff/status/1094714461519339521/photo/1', 'type': 'photo', 'sizes': {'medium': {'w': 1200, 'h': 675, 'resize': 'fit'}, 'thumb': {'w': 150, 'h': 150, 'resize': 'crop'}, 'large': {'w': 1280, 'h': 720, 'resize': 'fit'}, 'small': {'w': 680, 'h': 383, 'resize': 'fit'}}}]}, 'extended_entities': {'media': [{'id': 1094714455705960448, 'id_str': '1094714455705960448', 'indices': [31, 54], 'media_url': 'http://pbs.twimg.com/media/DzE0_1bWwAAEzen.jpg', 'media_url_https': 'https://pbs.twimg.com/media/DzE0_1bWwAAEzen.jpg', 'url': 'https://t.co/irj5IwTa5Y', 'display_url': 'pic.twitter.com/irj5IwTa5Y', 'expanded_url': 'https://twitter.com/puckofff/status/1094714461519339521/photo/1', 'type': 'photo', 'sizes': {'medium': {'w': 1200, 'h': 675, 'resize': 'fit'}, 'thumb': {'w': 150, 'h': 150, 'resize': 'crop'}, 'large': {'w': 1280, 'h': 720, 'resize': 'fit'}, 'small': {'w': 680, 'h': 383, 'resize': 'fit'}}}]}, 'metadata': {'iso_language_code': 'und', 'result_type': 'recent'}, 'source': '<a href=\"http://twitter.com/download/android\" rel=\"nofollow\">Twitter for Android</a>', 'in_reply_to_status_id': 1094294861317095425, 'in_reply_to_status_id_str': '1094294861317095425', 'in_reply_to_user_id': 300392950, 'in_reply_to_user_id_str': '300392950', 'in_reply_to_screen_name': 'TwitterSports', 'user': {'id': 3763616776, 'id_str': '3763616776', 'name': 'DIGGER', 'screen_name': 'puckofff', 'location': '', 'description': 'A BIG FUCK YOU to the Tabaco industry especially Pall Mall Red.', 'url': None, 'entities': {'description': {'urls': []}}, 'protected': False, 'followers_count': 531, 'friends_count': 4962, 'listed_count': 9, 'created_at': 'Thu Sep 24 20:07:17 +0000 2015', 'favourites_count': 50157, 'utc_offset': None, 'time_zone': None, 'geo_enabled': False, 'verified': False, 'statuses_count': 27273, 'lang': 'en', 'contributors_enabled': False, 'is_translator': False, 'is_translation_enabled': False, 'profile_background_color': '000000', 'profile_background_image_url': 'http://abs.twimg.com/images/themes/theme1/bg.png', 'profile_background_image_url_https': 'https://abs.twimg.com/images/themes/theme1/bg.png', 'profile_background_tile': False, 'profile_image_url': 'http://pbs.twimg.com/profile_images/1094932515884810240/yEioZ0Go_normal.jpg', 'profile_image_url_https': 'https://pbs.twimg.com/profile_images/1094932515884810240/yEioZ0Go_normal.jpg', 'profile_banner_url': 'https://pbs.twimg.com/profile_banners/3763616776/1549819673', 'profile_link_color': '1B95E0', 'profile_sidebar_border_color': '000000', 'profile_sidebar_fill_color': '000000', 'profile_text_color': '000000', 'profile_use_background_image': False, 'has_extended_profile': False, 'default_profile': False, 'default_profile_image': False, 'following': False, 'follow_request_sent': False, 'notifications': False, 'translator_type': 'none'}, 'geo': None, 'coordinates': None, 'place': None, 'contributors': None, 'is_quote_status': False, 'retweet_count': 0, 'favorite_count': 0, 'favorited': False, 'retweeted': False, 'possibly_sensitive': False, 'lang': 'und'}, created_at=datetime.datetime(2019, 2, 10, 21, 47, 21), id=1094714461519339521, id_str='1094714461519339521', text='@TwitterSports @NHL @91Tavares https://t.co/irj5IwTa5Y', truncated=False, entities={'hashtags': [], 'symbols': [], 'user_mentions': [{'screen_name': 'TwitterSports', 'name': 'Twitter Sports', 'id': 300392950, 'id_str': '300392950', 'indices': [0, 14]}, {'screen_name': 'NHL', 'name': 'NHL', 'id': 50004938, 'id_str': '50004938', 'indices': [15, 19]}, {'screen_name': '91Tavares', 'name': 'John Tavares', 'id': 707354300, 'id_str': '707354300', 'indices': [20, 30]}], 'urls': [], 'media': [{'id': 1094714455705960448, 'id_str': '1094714455705960448', 'indices': [31, 54], 'media_url': 'http://pbs.twimg.com/media/DzE0_1bWwAAEzen.jpg', 'media_url_https': 'https://pbs.twimg.com/media/DzE0_1bWwAAEzen.jpg', 'url': 'https://t.co/irj5IwTa5Y', 'display_url': 'pic.twitter.com/irj5IwTa5Y', 'expanded_url': 'https://twitter.com/puckofff/status/1094714461519339521/photo/1', 'type': 'photo', 'sizes': {'medium': {'w': 1200, 'h': 675, 'resize': 'fit'}, 'thumb': {'w': 150, 'h': 150, 'resize': 'crop'}, 'large': {'w': 1280, 'h': 720, 'resize': 'fit'}, 'small': {'w': 680, 'h': 383, 'resize': 'fit'}}}]}, extended_entities={'media': [{'id': 1094714455705960448, 'id_str': '1094714455705960448', 'indices': [31, 54], 'media_url': 'http://pbs.twimg.com/media/DzE0_1bWwAAEzen.jpg', 'media_url_https': 'https://pbs.twimg.com/media/DzE0_1bWwAAEzen.jpg', 'url': 'https://t.co/irj5IwTa5Y', 'display_url': 'pic.twitter.com/irj5IwTa5Y', 'expanded_url': 'https://twitter.com/puckofff/status/1094714461519339521/photo/1', 'type': 'photo', 'sizes': {'medium': {'w': 1200, 'h': 675, 'resize': 'fit'}, 'thumb': {'w': 150, 'h': 150, 'resize': 'crop'}, 'large': {'w': 1280, 'h': 720, 'resize': 'fit'}, 'small': {'w': 680, 'h': 383, 'resize': 'fit'}}}]}, metadata={'iso_language_code': 'und', 'result_type': 'recent'}, source='Twitter for Android', source_url='http://twitter.com/download/android', in_reply_to_status_id=1094294861317095425, in_reply_to_status_id_str='1094294861317095425', in_reply_to_user_id=300392950, in_reply_to_user_id_str='300392950', in_reply_to_screen_name='TwitterSports', author=User(_api=<tweepy.api.API object at 0x7f81809dea20>, _json={'id': 3763616776, 'id_str': '3763616776', 'name': 'DIGGER', 'screen_name': 'puckofff', 'location': '', 'description': 'A BIG FUCK YOU to the Tabaco industry especially Pall Mall Red.', 'url': None, 'entities': {'description': {'urls': []}}, 'protected': False, 'followers_count': 531, 'friends_count': 4962, 'listed_count': 9, 'created_at': 'Thu Sep 24 20:07:17 +0000 2015', 'favourites_count': 50157, 'utc_offset': None, 'time_zone': None, 'geo_enabled': False, 'verified': False, 'statuses_count': 27273, 'lang': 'en', 'contributors_enabled': False, 'is_translator': False, 'is_translation_enabled': False, 'profile_background_color': '000000', 'profile_background_image_url': 'http://abs.twimg.com/images/themes/theme1/bg.png', 'profile_background_image_url_https': 'https://abs.twimg.com/images/themes/theme1/bg.png', 'profile_background_tile': False, 'profile_image_url': 'http://pbs.twimg.com/profile_images/1094932515884810240/yEioZ0Go_normal.jpg', 'profile_image_url_https': 'https://pbs.twimg.com/profile_images/1094932515884810240/yEioZ0Go_normal.jpg', 'profile_banner_url': 'https://pbs.twimg.com/profile_banners/3763616776/1549819673', 'profile_link_color': '1B95E0', 'profile_sidebar_border_color': '000000', 'profile_sidebar_fill_color': '000000', 'profile_text_color': '000000', 'profile_use_background_image': False, 'has_extended_profile': False, 'default_profile': False, 'default_profile_image': False, 'following': False, 'follow_request_sent': False, 'notifications': False, 'translator_type': 'none'}, id=3763616776, id_str='3763616776', name='DIGGER', screen_name='puckofff', location='', description='A BIG FUCK YOU to the Tabaco industry especially Pall Mall Red.', url=None, entities={'description': {'urls': []}}, protected=False, followers_count=531, friends_count=4962, listed_count=9, created_at=datetime.datetime(2015, 9, 24, 20, 7, 17), favourites_count=50157, utc_offset=None, time_zone=None, geo_enabled=False, verified=False, statuses_count=27273, lang='en', contributors_enabled=False, is_translator=False, is_translation_enabled=False, profile_background_color='000000', profile_background_image_url='http://abs.twimg.com/images/themes/theme1/bg.png', profile_background_image_url_https='https://abs.twimg.com/images/themes/theme1/bg.png', profile_background_tile=False, profile_image_url='http://pbs.twimg.com/profile_images/1094932515884810240/yEioZ0Go_normal.jpg', profile_image_url_https='https://pbs.twimg.com/profile_images/1094932515884810240/yEioZ0Go_normal.jpg', profile_banner_url='https://pbs.twimg.com/profile_banners/3763616776/1549819673', profile_link_color='1B95E0', profile_sidebar_border_color='000000', profile_sidebar_fill_color='000000', profile_text_color='000000', profile_use_background_image=False, has_extended_profile=False, default_profile=False, default_profile_image=False, following=False, follow_request_sent=False, notifications=False, translator_type='none'), user=User(_api=<tweepy.api.API object at 0x7f81809dea20>, _json={'id': 3763616776, 'id_str': '3763616776', 'name': 'DIGGER', 'screen_name': 'puckofff', 'location': '', 'description': 'A BIG FUCK YOU to the Tabaco industry especially Pall Mall Red.', 'url': None, 'entities': {'description': {'urls': []}}, 'protected': False, 'followers_count': 531, 'friends_count': 4962, 'listed_count': 9, 'created_at': 'Thu Sep 24 20:07:17 +0000 2015', 'favourites_count': 50157, 'utc_offset': None, 'time_zone': None, 'geo_enabled': False, 'verified': False, 'statuses_count': 27273, 'lang': 'en', 'contributors_enabled': False, 'is_translator': False, 'is_translation_enabled': False, 'profile_background_color': '000000', 'profile_background_image_url': 'http://abs.twimg.com/images/themes/theme1/bg.png', 'profile_background_image_url_https': 'https://abs.twimg.com/images/themes/theme1/bg.png', 'profile_background_tile': False, 'profile_image_url': 'http://pbs.twimg.com/profile_images/1094932515884810240/yEioZ0Go_normal.jpg', 'profile_image_url_https': 'https://pbs.twimg.com/profile_images/1094932515884810240/yEioZ0Go_normal.jpg', 'profile_banner_url': 'https://pbs.twimg.com/profile_banners/3763616776/1549819673', 'profile_link_color': '1B95E0', 'profile_sidebar_border_color': '000000', 'profile_sidebar_fill_color': '000000', 'profile_text_color': '000000', 'profile_use_background_image': False, 'has_extended_profile': False, 'default_profile': False, 'default_profile_image': False, 'following': False, 'follow_request_sent': False, 'notifications': False, 'translator_type': 'none'}, id=3763616776, id_str='3763616776', name='DIGGER', screen_name='puckofff', location='', description='A BIG FUCK YOU to the Tabaco industry especially Pall Mall Red.', url=None, entities={'description': {'urls': []}}, protected=False, followers_count=531, friends_count=4962, listed_count=9, created_at=datetime.datetime(2015, 9, 24, 20, 7, 17), favourites_count=50157, utc_offset=None, time_zone=None, geo_enabled=False, verified=False, statuses_count=27273, lang='en', contributors_enabled=False, is_translator=False, is_translation_enabled=False, profile_background_color='000000', profile_background_image_url='http://abs.twimg.com/images/themes/theme1/bg.png', profile_background_image_url_https='https://abs.twimg.com/images/themes/theme1/bg.png', profile_background_tile=False, profile_image_url='http://pbs.twimg.com/profile_images/1094932515884810240/yEioZ0Go_normal.jpg', profile_image_url_https='https://pbs.twimg.com/profile_images/1094932515884810240/yEioZ0Go_normal.jpg', profile_banner_url='https://pbs.twimg.com/profile_banners/3763616776/1549819673', profile_link_color='1B95E0', profile_sidebar_border_color='000000', profile_sidebar_fill_color='000000', profile_text_color='000000', profile_use_background_image=False, has_extended_profile=False, default_profile=False, default_profile_image=False, following=False, follow_request_sent=False, notifications=False, translator_type='none'), geo=None, coordinates=None, place=None, contributors=None, is_quote_status=False, retweet_count=0, favorite_count=0, favorited=False, retweeted=False, possibly_sensitive=False, lang='und'),\n",
       " Status(_api=<tweepy.api.API object at 0x7f81809dea20>, _json={'created_at': 'Sun Feb 10 21:47:05 +0000 2019', 'id': 1094714394641133568, 'id_str': '1094714394641133568', 'text': '@TwitterSports @NHL @91Tavares https://t.co/NXlQNcOrF3', 'truncated': False, 'entities': {'hashtags': [], 'symbols': [], 'user_mentions': [{'screen_name': 'TwitterSports', 'name': 'Twitter Sports', 'id': 300392950, 'id_str': '300392950', 'indices': [0, 14]}, {'screen_name': 'NHL', 'name': 'NHL', 'id': 50004938, 'id_str': '50004938', 'indices': [15, 19]}, {'screen_name': '91Tavares', 'name': 'John Tavares', 'id': 707354300, 'id_str': '707354300', 'indices': [20, 30]}], 'urls': [], 'media': [{'id': 1094714389603774466, 'id_str': '1094714389603774466', 'indices': [31, 54], 'media_url': 'http://pbs.twimg.com/media/DzE07_LXcAI7e5P.jpg', 'media_url_https': 'https://pbs.twimg.com/media/DzE07_LXcAI7e5P.jpg', 'url': 'https://t.co/NXlQNcOrF3', 'display_url': 'pic.twitter.com/NXlQNcOrF3', 'expanded_url': 'https://twitter.com/puckofff/status/1094714394641133568/photo/1', 'type': 'photo', 'sizes': {'thumb': {'w': 150, 'h': 150, 'resize': 'crop'}, 'small': {'w': 293, 'h': 172, 'resize': 'fit'}, 'large': {'w': 293, 'h': 172, 'resize': 'fit'}, 'medium': {'w': 293, 'h': 172, 'resize': 'fit'}}}]}, 'extended_entities': {'media': [{'id': 1094714389603774466, 'id_str': '1094714389603774466', 'indices': [31, 54], 'media_url': 'http://pbs.twimg.com/media/DzE07_LXcAI7e5P.jpg', 'media_url_https': 'https://pbs.twimg.com/media/DzE07_LXcAI7e5P.jpg', 'url': 'https://t.co/NXlQNcOrF3', 'display_url': 'pic.twitter.com/NXlQNcOrF3', 'expanded_url': 'https://twitter.com/puckofff/status/1094714394641133568/photo/1', 'type': 'photo', 'sizes': {'thumb': {'w': 150, 'h': 150, 'resize': 'crop'}, 'small': {'w': 293, 'h': 172, 'resize': 'fit'}, 'large': {'w': 293, 'h': 172, 'resize': 'fit'}, 'medium': {'w': 293, 'h': 172, 'resize': 'fit'}}}]}, 'metadata': {'iso_language_code': 'und', 'result_type': 'recent'}, 'source': '<a href=\"http://twitter.com/download/android\" rel=\"nofollow\">Twitter for Android</a>', 'in_reply_to_status_id': 1094294861317095425, 'in_reply_to_status_id_str': '1094294861317095425', 'in_reply_to_user_id': 300392950, 'in_reply_to_user_id_str': '300392950', 'in_reply_to_screen_name': 'TwitterSports', 'user': {'id': 3763616776, 'id_str': '3763616776', 'name': 'DIGGER', 'screen_name': 'puckofff', 'location': '', 'description': 'A BIG FUCK YOU to the Tabaco industry especially Pall Mall Red.', 'url': None, 'entities': {'description': {'urls': []}}, 'protected': False, 'followers_count': 531, 'friends_count': 4962, 'listed_count': 9, 'created_at': 'Thu Sep 24 20:07:17 +0000 2015', 'favourites_count': 50157, 'utc_offset': None, 'time_zone': None, 'geo_enabled': False, 'verified': False, 'statuses_count': 27273, 'lang': 'en', 'contributors_enabled': False, 'is_translator': False, 'is_translation_enabled': False, 'profile_background_color': '000000', 'profile_background_image_url': 'http://abs.twimg.com/images/themes/theme1/bg.png', 'profile_background_image_url_https': 'https://abs.twimg.com/images/themes/theme1/bg.png', 'profile_background_tile': False, 'profile_image_url': 'http://pbs.twimg.com/profile_images/1094932515884810240/yEioZ0Go_normal.jpg', 'profile_image_url_https': 'https://pbs.twimg.com/profile_images/1094932515884810240/yEioZ0Go_normal.jpg', 'profile_banner_url': 'https://pbs.twimg.com/profile_banners/3763616776/1549819673', 'profile_link_color': '1B95E0', 'profile_sidebar_border_color': '000000', 'profile_sidebar_fill_color': '000000', 'profile_text_color': '000000', 'profile_use_background_image': False, 'has_extended_profile': False, 'default_profile': False, 'default_profile_image': False, 'following': False, 'follow_request_sent': False, 'notifications': False, 'translator_type': 'none'}, 'geo': None, 'coordinates': None, 'place': None, 'contributors': None, 'is_quote_status': False, 'retweet_count': 0, 'favorite_count': 0, 'favorited': False, 'retweeted': False, 'possibly_sensitive': False, 'lang': 'und'}, created_at=datetime.datetime(2019, 2, 10, 21, 47, 5), id=1094714394641133568, id_str='1094714394641133568', text='@TwitterSports @NHL @91Tavares https://t.co/NXlQNcOrF3', truncated=False, entities={'hashtags': [], 'symbols': [], 'user_mentions': [{'screen_name': 'TwitterSports', 'name': 'Twitter Sports', 'id': 300392950, 'id_str': '300392950', 'indices': [0, 14]}, {'screen_name': 'NHL', 'name': 'NHL', 'id': 50004938, 'id_str': '50004938', 'indices': [15, 19]}, {'screen_name': '91Tavares', 'name': 'John Tavares', 'id': 707354300, 'id_str': '707354300', 'indices': [20, 30]}], 'urls': [], 'media': [{'id': 1094714389603774466, 'id_str': '1094714389603774466', 'indices': [31, 54], 'media_url': 'http://pbs.twimg.com/media/DzE07_LXcAI7e5P.jpg', 'media_url_https': 'https://pbs.twimg.com/media/DzE07_LXcAI7e5P.jpg', 'url': 'https://t.co/NXlQNcOrF3', 'display_url': 'pic.twitter.com/NXlQNcOrF3', 'expanded_url': 'https://twitter.com/puckofff/status/1094714394641133568/photo/1', 'type': 'photo', 'sizes': {'thumb': {'w': 150, 'h': 150, 'resize': 'crop'}, 'small': {'w': 293, 'h': 172, 'resize': 'fit'}, 'large': {'w': 293, 'h': 172, 'resize': 'fit'}, 'medium': {'w': 293, 'h': 172, 'resize': 'fit'}}}]}, extended_entities={'media': [{'id': 1094714389603774466, 'id_str': '1094714389603774466', 'indices': [31, 54], 'media_url': 'http://pbs.twimg.com/media/DzE07_LXcAI7e5P.jpg', 'media_url_https': 'https://pbs.twimg.com/media/DzE07_LXcAI7e5P.jpg', 'url': 'https://t.co/NXlQNcOrF3', 'display_url': 'pic.twitter.com/NXlQNcOrF3', 'expanded_url': 'https://twitter.com/puckofff/status/1094714394641133568/photo/1', 'type': 'photo', 'sizes': {'thumb': {'w': 150, 'h': 150, 'resize': 'crop'}, 'small': {'w': 293, 'h': 172, 'resize': 'fit'}, 'large': {'w': 293, 'h': 172, 'resize': 'fit'}, 'medium': {'w': 293, 'h': 172, 'resize': 'fit'}}}]}, metadata={'iso_language_code': 'und', 'result_type': 'recent'}, source='Twitter for Android', source_url='http://twitter.com/download/android', in_reply_to_status_id=1094294861317095425, in_reply_to_status_id_str='1094294861317095425', in_reply_to_user_id=300392950, in_reply_to_user_id_str='300392950', in_reply_to_screen_name='TwitterSports', author=User(_api=<tweepy.api.API object at 0x7f81809dea20>, _json={'id': 3763616776, 'id_str': '3763616776', 'name': 'DIGGER', 'screen_name': 'puckofff', 'location': '', 'description': 'A BIG FUCK YOU to the Tabaco industry especially Pall Mall Red.', 'url': None, 'entities': {'description': {'urls': []}}, 'protected': False, 'followers_count': 531, 'friends_count': 4962, 'listed_count': 9, 'created_at': 'Thu Sep 24 20:07:17 +0000 2015', 'favourites_count': 50157, 'utc_offset': None, 'time_zone': None, 'geo_enabled': False, 'verified': False, 'statuses_count': 27273, 'lang': 'en', 'contributors_enabled': False, 'is_translator': False, 'is_translation_enabled': False, 'profile_background_color': '000000', 'profile_background_image_url': 'http://abs.twimg.com/images/themes/theme1/bg.png', 'profile_background_image_url_https': 'https://abs.twimg.com/images/themes/theme1/bg.png', 'profile_background_tile': False, 'profile_image_url': 'http://pbs.twimg.com/profile_images/1094932515884810240/yEioZ0Go_normal.jpg', 'profile_image_url_https': 'https://pbs.twimg.com/profile_images/1094932515884810240/yEioZ0Go_normal.jpg', 'profile_banner_url': 'https://pbs.twimg.com/profile_banners/3763616776/1549819673', 'profile_link_color': '1B95E0', 'profile_sidebar_border_color': '000000', 'profile_sidebar_fill_color': '000000', 'profile_text_color': '000000', 'profile_use_background_image': False, 'has_extended_profile': False, 'default_profile': False, 'default_profile_image': False, 'following': False, 'follow_request_sent': False, 'notifications': False, 'translator_type': 'none'}, id=3763616776, id_str='3763616776', name='DIGGER', screen_name='puckofff', location='', description='A BIG FUCK YOU to the Tabaco industry especially Pall Mall Red.', url=None, entities={'description': {'urls': []}}, protected=False, followers_count=531, friends_count=4962, listed_count=9, created_at=datetime.datetime(2015, 9, 24, 20, 7, 17), favourites_count=50157, utc_offset=None, time_zone=None, geo_enabled=False, verified=False, statuses_count=27273, lang='en', contributors_enabled=False, is_translator=False, is_translation_enabled=False, profile_background_color='000000', profile_background_image_url='http://abs.twimg.com/images/themes/theme1/bg.png', profile_background_image_url_https='https://abs.twimg.com/images/themes/theme1/bg.png', profile_background_tile=False, profile_image_url='http://pbs.twimg.com/profile_images/1094932515884810240/yEioZ0Go_normal.jpg', profile_image_url_https='https://pbs.twimg.com/profile_images/1094932515884810240/yEioZ0Go_normal.jpg', profile_banner_url='https://pbs.twimg.com/profile_banners/3763616776/1549819673', profile_link_color='1B95E0', profile_sidebar_border_color='000000', profile_sidebar_fill_color='000000', profile_text_color='000000', profile_use_background_image=False, has_extended_profile=False, default_profile=False, default_profile_image=False, following=False, follow_request_sent=False, notifications=False, translator_type='none'), user=User(_api=<tweepy.api.API object at 0x7f81809dea20>, _json={'id': 3763616776, 'id_str': '3763616776', 'name': 'DIGGER', 'screen_name': 'puckofff', 'location': '', 'description': 'A BIG FUCK YOU to the Tabaco industry especially Pall Mall Red.', 'url': None, 'entities': {'description': {'urls': []}}, 'protected': False, 'followers_count': 531, 'friends_count': 4962, 'listed_count': 9, 'created_at': 'Thu Sep 24 20:07:17 +0000 2015', 'favourites_count': 50157, 'utc_offset': None, 'time_zone': None, 'geo_enabled': False, 'verified': False, 'statuses_count': 27273, 'lang': 'en', 'contributors_enabled': False, 'is_translator': False, 'is_translation_enabled': False, 'profile_background_color': '000000', 'profile_background_image_url': 'http://abs.twimg.com/images/themes/theme1/bg.png', 'profile_background_image_url_https': 'https://abs.twimg.com/images/themes/theme1/bg.png', 'profile_background_tile': False, 'profile_image_url': 'http://pbs.twimg.com/profile_images/1094932515884810240/yEioZ0Go_normal.jpg', 'profile_image_url_https': 'https://pbs.twimg.com/profile_images/1094932515884810240/yEioZ0Go_normal.jpg', 'profile_banner_url': 'https://pbs.twimg.com/profile_banners/3763616776/1549819673', 'profile_link_color': '1B95E0', 'profile_sidebar_border_color': '000000', 'profile_sidebar_fill_color': '000000', 'profile_text_color': '000000', 'profile_use_background_image': False, 'has_extended_profile': False, 'default_profile': False, 'default_profile_image': False, 'following': False, 'follow_request_sent': False, 'notifications': False, 'translator_type': 'none'}, id=3763616776, id_str='3763616776', name='DIGGER', screen_name='puckofff', location='', description='A BIG FUCK YOU to the Tabaco industry especially Pall Mall Red.', url=None, entities={'description': {'urls': []}}, protected=False, followers_count=531, friends_count=4962, listed_count=9, created_at=datetime.datetime(2015, 9, 24, 20, 7, 17), favourites_count=50157, utc_offset=None, time_zone=None, geo_enabled=False, verified=False, statuses_count=27273, lang='en', contributors_enabled=False, is_translator=False, is_translation_enabled=False, profile_background_color='000000', profile_background_image_url='http://abs.twimg.com/images/themes/theme1/bg.png', profile_background_image_url_https='https://abs.twimg.com/images/themes/theme1/bg.png', profile_background_tile=False, profile_image_url='http://pbs.twimg.com/profile_images/1094932515884810240/yEioZ0Go_normal.jpg', profile_image_url_https='https://pbs.twimg.com/profile_images/1094932515884810240/yEioZ0Go_normal.jpg', profile_banner_url='https://pbs.twimg.com/profile_banners/3763616776/1549819673', profile_link_color='1B95E0', profile_sidebar_border_color='000000', profile_sidebar_fill_color='000000', profile_text_color='000000', profile_use_background_image=False, has_extended_profile=False, default_profile=False, default_profile_image=False, following=False, follow_request_sent=False, notifications=False, translator_type='none'), geo=None, coordinates=None, place=None, contributors=None, is_quote_status=False, retweet_count=0, favorite_count=0, favorited=False, retweeted=False, possibly_sensitive=False, lang='und')]"
      ]
     },
     "execution_count": 25,
     "metadata": {},
     "output_type": "execute_result"
    }
   ],
   "source": [
    "api.search(q=\"to:TwitterSports\", since_id=tweet_id, show_user=True)"
   ]
  },
  {
   "cell_type": "code",
   "execution_count": 7,
   "metadata": {},
   "outputs": [],
   "source": [
    "df = pd.DataFrame(api.search(q=\"to:TwitterSports\", since_id=tweet_id))"
   ]
  },
  {
   "cell_type": "code",
   "execution_count": 8,
   "metadata": {},
   "outputs": [
    {
     "data": {
      "text/plain": [
       "(12, 1)"
      ]
     },
     "execution_count": 8,
     "metadata": {},
     "output_type": "execute_result"
    }
   ],
   "source": [
    "df.shape"
   ]
  },
  {
   "cell_type": "code",
   "execution_count": 10,
   "metadata": {},
   "outputs": [
    {
     "data": {
      "text/plain": [
       "0    Status(_api=<tweepy.api.API object at 0x7f8180...\n",
       "Name: 0, dtype: object"
      ]
     },
     "execution_count": 10,
     "metadata": {},
     "output_type": "execute_result"
    }
   ],
   "source": [
    "df.iloc[0]"
   ]
  },
  {
   "cell_type": "code",
   "execution_count": 151,
   "metadata": {},
   "outputs": [
    {
     "name": "stdout",
     "output_type": "stream",
     "text": [
      "Tweet : Woke up... wake up... #whodatALWAYS #SAINTSvsEverybody https://t.co/EY5kxjVsce\n",
      "Replies : @camjordan94 Wake up.... karma sucks huh?? lol\n",
      "Replies : @camjordan94 @Rachael_9268 https://t.co/S8XLZWnSkZ\n",
      "Replies : @camjordan94 WHO DAT ?!!! ❤️⚜️⚜️⚜️\n",
      "Replies : @camjordan94 💛🖤 must have!  #WHODAT\n",
      "Replies : @camjordan94 https://t.co/Q4giXBTLMR\n",
      "Replies : @camjordan94 @SaintsNOW https://t.co/V1aYVINHuq\n",
      "Replies : @camjordan94 Loosers never win!!! Thanks Rams !!! Hapoy Birthday to  me!!!! #WHO DAT!!!!\n",
      "Tweet : RT @MarkIngram22: BLACK AND GOLD SUNDAY!! ⚜️🖤 https://t.co/dt3UUaJiD9\n",
      "Replies : @camjordan94 Wake up.... karma sucks huh?? lol\n",
      "Replies : @camjordan94 @Rachael_9268 https://t.co/S8XLZWnSkZ\n",
      "Replies : @camjordan94 WHO DAT ?!!! ❤️⚜️⚜️⚜️\n",
      "Replies : @camjordan94 💛🖤 must have!  #WHODAT\n",
      "Replies : @camjordan94 https://t.co/Q4giXBTLMR\n",
      "Replies : @camjordan94 @SaintsNOW https://t.co/V1aYVINHuq\n",
      "Replies : @camjordan94 Loosers never win!!! Thanks Rams !!! Hapoy Birthday to  me!!!! #WHO DAT!!!!\n",
      "Tweet : The amount of respect and cunexpwdted solidarity I’ve faced throughout this whole week I wa overly appreciated. So… https://t.co/74n4w2iIfg\n",
      "Replies : @camjordan94 Wake up.... karma sucks huh?? lol\n",
      "Replies : @camjordan94 @Rachael_9268 https://t.co/S8XLZWnSkZ\n",
      "Replies : @camjordan94 WHO DAT ?!!! ❤️⚜️⚜️⚜️\n",
      "Replies : @camjordan94 💛🖤 must have!  #WHODAT\n",
      "Replies : @camjordan94 https://t.co/Q4giXBTLMR\n",
      "Replies : @camjordan94 @SaintsNOW https://t.co/V1aYVINHuq\n",
      "Replies : @camjordan94 Loosers never win!!! Thanks Rams !!! Hapoy Birthday to  me!!!! #WHO DAT!!!!\n",
      "Replies : @camjordan94 This is the weakest picture.\n",
      "Replies : @camjordan94 You guys should have been in #NewOrleans turning up with #WhoDatNation!! I understand your obligations… https://t.co/c6E7lwQrrl\n",
      "Replies : @camjordan94 Way to represent Cam!\n",
      "Tweet : Are we puttin locations out... https://t.co/6g8yeWSVgB\n",
      "Replies : @camjordan94 Wake up.... karma sucks huh?? lol\n",
      "Replies : @camjordan94 @Rachael_9268 https://t.co/S8XLZWnSkZ\n",
      "Replies : @camjordan94 WHO DAT ?!!! ❤️⚜️⚜️⚜️\n",
      "Replies : @camjordan94 💛🖤 must have!  #WHODAT\n",
      "Replies : @camjordan94 https://t.co/Q4giXBTLMR\n",
      "Replies : @camjordan94 @SaintsNOW https://t.co/V1aYVINHuq\n",
      "Replies : @camjordan94 Loosers never win!!! Thanks Rams !!! Hapoy Birthday to  me!!!! #WHO DAT!!!!\n",
      "Replies : @camjordan94 This is the weakest picture.\n",
      "Replies : @camjordan94 You guys should have been in #NewOrleans turning up with #WhoDatNation!! I understand your obligations… https://t.co/c6E7lwQrrl\n",
      "Replies : @camjordan94 Way to represent Cam!\n",
      "Tweet : @yahya But... dc vs marvel universe... #jokesgonewild https://t.co/EAFjqWOEkn\n",
      "Replies : @camjordan94 Wake up.... karma sucks huh?? lol\n",
      "Replies : @camjordan94 @Rachael_9268 https://t.co/S8XLZWnSkZ\n",
      "Replies : @camjordan94 WHO DAT ?!!! ❤️⚜️⚜️⚜️\n",
      "Replies : @camjordan94 💛🖤 must have!  #WHODAT\n",
      "Replies : @camjordan94 https://t.co/Q4giXBTLMR\n",
      "Replies : @camjordan94 @SaintsNOW https://t.co/V1aYVINHuq\n",
      "Replies : @camjordan94 Loosers never win!!! Thanks Rams !!! Hapoy Birthday to  me!!!! #WHO DAT!!!!\n",
      "Replies : @camjordan94 This is the weakest picture.\n",
      "Replies : @camjordan94 You guys should have been in #NewOrleans turning up with #WhoDatNation!! I understand your obligations… https://t.co/c6E7lwQrrl\n",
      "Replies : @camjordan94 Way to represent Cam!\n",
      "Tweet : Gold back drop + black n gold jacket +black shirt/gold chain=hopefully forever Black and Gold @Saints https://t.co/baiabVhLj1\n",
      "Replies : @camjordan94 Wake up.... karma sucks huh?? lol\n",
      "Replies : @camjordan94 @Rachael_9268 https://t.co/S8XLZWnSkZ\n",
      "Replies : @camjordan94 WHO DAT ?!!! ❤️⚜️⚜️⚜️\n",
      "Replies : @camjordan94 💛🖤 must have!  #WHODAT\n",
      "Replies : @camjordan94 https://t.co/Q4giXBTLMR\n",
      "Replies : @camjordan94 @SaintsNOW https://t.co/V1aYVINHuq\n",
      "Replies : @camjordan94 Loosers never win!!! Thanks Rams !!! Hapoy Birthday to  me!!!! #WHO DAT!!!!\n",
      "Replies : @camjordan94 This is the weakest picture.\n",
      "Replies : @camjordan94 You guys should have been in #NewOrleans turning up with #WhoDatNation!! I understand your obligations… https://t.co/c6E7lwQrrl\n",
      "Replies : @camjordan94 Way to represent Cam!\n",
      "Replies : @camjordan94 @Saints Yes! Hopefully forever @camjordan94. You ARE the black and gold\n",
      "Replies : @camjordan94 @Saints Love ya’ll Cam❤️\n",
      "Replies : @camjordan94 @Saints #inthegameagainsttheSaints https://t.co/JRCQdag7KA\n",
      "Replies : @camjordan94 @Saints https://t.co/TXHthyhxdB\n",
      "Tweet : RT @NFL: .@camjordan94 is taking over our Instagram Story during pregame on Sunday at #SBLIII! (by @verizon) https://t.co/xWHEcH6mTk\n",
      "Replies : @camjordan94 Wake up.... karma sucks huh?? lol\n",
      "Replies : @camjordan94 @Rachael_9268 https://t.co/S8XLZWnSkZ\n",
      "Replies : @camjordan94 WHO DAT ?!!! ❤️⚜️⚜️⚜️\n",
      "Replies : @camjordan94 💛🖤 must have!  #WHODAT\n",
      "Replies : @camjordan94 https://t.co/Q4giXBTLMR\n",
      "Replies : @camjordan94 @SaintsNOW https://t.co/V1aYVINHuq\n",
      "Replies : @camjordan94 Loosers never win!!! Thanks Rams !!! Hapoy Birthday to  me!!!! #WHO DAT!!!!\n",
      "Replies : @camjordan94 This is the weakest picture.\n",
      "Replies : @camjordan94 You guys should have been in #NewOrleans turning up with #WhoDatNation!! I understand your obligations… https://t.co/c6E7lwQrrl\n",
      "Replies : @camjordan94 Way to represent Cam!\n",
      "Replies : @camjordan94 @Saints Yes! Hopefully forever @camjordan94. You ARE the black and gold\n",
      "Replies : @camjordan94 @Saints Love ya’ll Cam❤️\n",
      "Replies : @camjordan94 @Saints #inthegameagainsttheSaints https://t.co/JRCQdag7KA\n",
      "Replies : @camjordan94 @Saints https://t.co/TXHthyhxdB\n",
      "Tweet : RT @SaintsNOW: Okay @camjordan94 😮 https://t.co/rveGVkoFPy\n",
      "Replies : @camjordan94 Wake up.... karma sucks huh?? lol\n",
      "Replies : @camjordan94 @Rachael_9268 https://t.co/S8XLZWnSkZ\n",
      "Replies : @camjordan94 WHO DAT ?!!! ❤️⚜️⚜️⚜️\n",
      "Replies : @camjordan94 💛🖤 must have!  #WHODAT\n",
      "Replies : @camjordan94 https://t.co/Q4giXBTLMR\n",
      "Replies : @camjordan94 @SaintsNOW https://t.co/V1aYVINHuq\n",
      "Replies : @camjordan94 Loosers never win!!! Thanks Rams !!! Hapoy Birthday to  me!!!! #WHO DAT!!!!\n",
      "Replies : @camjordan94 This is the weakest picture.\n",
      "Replies : @camjordan94 You guys should have been in #NewOrleans turning up with #WhoDatNation!! I understand your obligations… https://t.co/c6E7lwQrrl\n",
      "Replies : @camjordan94 Way to represent Cam!\n",
      "Replies : @camjordan94 @Saints Yes! Hopefully forever @camjordan94. You ARE the black and gold\n",
      "Replies : @camjordan94 @Saints Love ya’ll Cam❤️\n",
      "Replies : @camjordan94 @Saints #inthegameagainsttheSaints https://t.co/JRCQdag7KA\n",
      "Replies : @camjordan94 @Saints https://t.co/TXHthyhxdB\n",
      "Tweet : More like you were lead, pat sajak!!! Killing it... makes me vannah white tho 😶 https://t.co/pXkzKMaXse\n",
      "Replies : @camjordan94 Wake up.... karma sucks huh?? lol\n",
      "Replies : @camjordan94 @Rachael_9268 https://t.co/S8XLZWnSkZ\n",
      "Replies : @camjordan94 WHO DAT ?!!! ❤️⚜️⚜️⚜️\n",
      "Replies : @camjordan94 💛🖤 must have!  #WHODAT\n",
      "Replies : @camjordan94 https://t.co/Q4giXBTLMR\n",
      "Replies : @camjordan94 @SaintsNOW https://t.co/V1aYVINHuq\n",
      "Replies : @camjordan94 Loosers never win!!! Thanks Rams !!! Hapoy Birthday to  me!!!! #WHO DAT!!!!\n",
      "Replies : @camjordan94 This is the weakest picture.\n",
      "Replies : @camjordan94 You guys should have been in #NewOrleans turning up with #WhoDatNation!! I understand your obligations… https://t.co/c6E7lwQrrl\n",
      "Replies : @camjordan94 Way to represent Cam!\n",
      "Replies : @camjordan94 @Saints Yes! Hopefully forever @camjordan94. You ARE the black and gold\n",
      "Replies : @camjordan94 @Saints Love ya’ll Cam❤️\n",
      "Replies : @camjordan94 @Saints #inthegameagainsttheSaints https://t.co/JRCQdag7KA\n",
      "Replies : @camjordan94 @Saints https://t.co/TXHthyhxdB\n",
      "Tweet : RT @SlaterNFL: Seriously so much fun! Thanks everyone involved! @MarkIngram22 @camjordan94 @TeamJuJu @A_kamara6 #NFLHonors https://t.co/tty…\n",
      "Replies : @camjordan94 Wake up.... karma sucks huh?? lol\n",
      "Replies : @camjordan94 @Rachael_9268 https://t.co/S8XLZWnSkZ\n",
      "Replies : @camjordan94 WHO DAT ?!!! ❤️⚜️⚜️⚜️\n",
      "Replies : @camjordan94 💛🖤 must have!  #WHODAT\n",
      "Replies : @camjordan94 https://t.co/Q4giXBTLMR\n",
      "Replies : @camjordan94 @SaintsNOW https://t.co/V1aYVINHuq\n",
      "Replies : @camjordan94 Loosers never win!!! Thanks Rams !!! Hapoy Birthday to  me!!!! #WHO DAT!!!!\n",
      "Replies : @camjordan94 This is the weakest picture.\n",
      "Replies : @camjordan94 You guys should have been in #NewOrleans turning up with #WhoDatNation!! I understand your obligations… https://t.co/c6E7lwQrrl\n",
      "Replies : @camjordan94 Way to represent Cam!\n",
      "Replies : @camjordan94 @Saints Yes! Hopefully forever @camjordan94. You ARE the black and gold\n",
      "Replies : @camjordan94 @Saints Love ya’ll Cam❤️\n",
      "Replies : @camjordan94 @Saints #inthegameagainsttheSaints https://t.co/JRCQdag7KA\n",
      "Replies : @camjordan94 @Saints https://t.co/TXHthyhxdB\n"
     ]
    },
    {
     "name": "stdout",
     "output_type": "stream",
     "text": [
      "Tweet : Couldn’t get on the red carpet @TheNFLHonors too busy cohosting it   @SlaterNFL @nflnetwork https://t.co/vSzkxdnLO7\n",
      "Replies : @camjordan94 Wake up.... karma sucks huh?? lol\n",
      "Replies : @camjordan94 @Rachael_9268 https://t.co/S8XLZWnSkZ\n",
      "Replies : @camjordan94 WHO DAT ?!!! ❤️⚜️⚜️⚜️\n",
      "Replies : @camjordan94 💛🖤 must have!  #WHODAT\n",
      "Replies : @camjordan94 https://t.co/Q4giXBTLMR\n",
      "Replies : @camjordan94 @SaintsNOW https://t.co/V1aYVINHuq\n",
      "Replies : @camjordan94 Loosers never win!!! Thanks Rams !!! Hapoy Birthday to  me!!!! #WHO DAT!!!!\n",
      "Replies : @camjordan94 This is the weakest picture.\n",
      "Replies : @camjordan94 You guys should have been in #NewOrleans turning up with #WhoDatNation!! I understand your obligations… https://t.co/c6E7lwQrrl\n",
      "Replies : @camjordan94 Way to represent Cam!\n",
      "Replies : @camjordan94 @Saints Yes! Hopefully forever @camjordan94. You ARE the black and gold\n",
      "Replies : @camjordan94 @Saints Love ya’ll Cam❤️\n",
      "Replies : @camjordan94 @Saints #inthegameagainsttheSaints https://t.co/JRCQdag7KA\n",
      "Replies : @camjordan94 @Saints https://t.co/TXHthyhxdB\n",
      "Tweet : Had an amazingly swell time cohosting the #NFLHONORS red carpet with janeashleyslater on nflnetwork https://t.co/OGQe3VKWJ6\n",
      "Replies : @camjordan94 Wake up.... karma sucks huh?? lol\n",
      "Replies : @camjordan94 @Rachael_9268 https://t.co/S8XLZWnSkZ\n",
      "Replies : @camjordan94 WHO DAT ?!!! ❤️⚜️⚜️⚜️\n",
      "Replies : @camjordan94 💛🖤 must have!  #WHODAT\n",
      "Replies : @camjordan94 https://t.co/Q4giXBTLMR\n",
      "Replies : @camjordan94 @SaintsNOW https://t.co/V1aYVINHuq\n",
      "Replies : @camjordan94 Loosers never win!!! Thanks Rams !!! Hapoy Birthday to  me!!!! #WHO DAT!!!!\n",
      "Replies : @camjordan94 This is the weakest picture.\n",
      "Replies : @camjordan94 You guys should have been in #NewOrleans turning up with #WhoDatNation!! I understand your obligations… https://t.co/c6E7lwQrrl\n",
      "Replies : @camjordan94 Way to represent Cam!\n",
      "Replies : @camjordan94 @Saints Yes! Hopefully forever @camjordan94. You ARE the black and gold\n",
      "Replies : @camjordan94 @Saints Love ya’ll Cam❤️\n",
      "Replies : @camjordan94 @Saints #inthegameagainsttheSaints https://t.co/JRCQdag7KA\n",
      "Replies : @camjordan94 @Saints https://t.co/TXHthyhxdB\n",
      "Replies : @camjordan94 Go Saints\n",
      "Tweet : RT @NFL: .@SlaterNFL and @camjordan94 are LIVE from the #NFLHonors Red Carpet Show! https://t.co/JHFTgBCAwy\n",
      "Replies : @camjordan94 Wake up.... karma sucks huh?? lol\n",
      "Replies : @camjordan94 @Rachael_9268 https://t.co/S8XLZWnSkZ\n",
      "Replies : @camjordan94 WHO DAT ?!!! ❤️⚜️⚜️⚜️\n",
      "Replies : @camjordan94 💛🖤 must have!  #WHODAT\n",
      "Replies : @camjordan94 https://t.co/Q4giXBTLMR\n",
      "Replies : @camjordan94 @SaintsNOW https://t.co/V1aYVINHuq\n",
      "Replies : @camjordan94 Loosers never win!!! Thanks Rams !!! Hapoy Birthday to  me!!!! #WHO DAT!!!!\n",
      "Replies : @camjordan94 This is the weakest picture.\n",
      "Replies : @camjordan94 You guys should have been in #NewOrleans turning up with #WhoDatNation!! I understand your obligations… https://t.co/c6E7lwQrrl\n",
      "Replies : @camjordan94 Way to represent Cam!\n",
      "Replies : @camjordan94 @Saints Yes! Hopefully forever @camjordan94. You ARE the black and gold\n",
      "Replies : @camjordan94 @Saints Love ya’ll Cam❤️\n",
      "Replies : @camjordan94 @Saints #inthegameagainsttheSaints https://t.co/JRCQdag7KA\n",
      "Replies : @camjordan94 @Saints https://t.co/TXHthyhxdB\n",
      "Replies : @camjordan94 Go Saints\n"
     ]
    }
   ],
   "source": [
    "replies=[] \n",
    "#non_bmp_map = dict.fromkeys(range(0x10000, sys.maxunicode + 1), 0xfffd)  \n",
    "\n",
    "for full_tweets in tweepy.Cursor(api.user_timeline, screen_name='camjordan94',timeout=999999).items(13):\n",
    "    for tweet in tweepy.Cursor(api.search,q='to:camjordan94', since_id=tweet_id, timeout=999999).items(1000):\n",
    "        if hasattr(tweet, 'in_reply_to_status_id_str'):\n",
    "            if (tweet.in_reply_to_status_id_str==full_tweets.id_str):\n",
    "                replies.append(tweet.text)\n",
    "    print(\"Tweet :\",full_tweets.text)\n",
    "    for r in replies:\n",
    "        print(\"Replies :\",r)\n",
    "  #replies.clear()"
   ]
  },
  {
   "cell_type": "code",
   "execution_count": 152,
   "metadata": {},
   "outputs": [
    {
     "data": {
      "text/plain": [
       "15"
      ]
     },
     "execution_count": 152,
     "metadata": {},
     "output_type": "execute_result"
    }
   ],
   "source": [
    "len(replies)"
   ]
  },
  {
   "cell_type": "code",
   "execution_count": 161,
   "metadata": {},
   "outputs": [
    {
     "data": {
      "text/plain": [
       "'@camjordan94 This is the weakest picture.'"
      ]
     },
     "execution_count": 161,
     "metadata": {},
     "output_type": "execute_result"
    }
   ],
   "source": [
    "replies[7]"
   ]
  },
  {
   "cell_type": "code",
   "execution_count": null,
   "metadata": {},
   "outputs": [],
   "source": []
  },
  {
   "cell_type": "code",
   "execution_count": 108,
   "metadata": {},
   "outputs": [
    {
     "data": {
      "text/plain": [
       "tweepy.models.Status"
      ]
     },
     "execution_count": 108,
     "metadata": {},
     "output_type": "execute_result"
    }
   ],
   "source": [
    "type(full_tweets)"
   ]
  },
  {
   "cell_type": "code",
   "execution_count": 111,
   "metadata": {},
   "outputs": [
    {
     "data": {
      "text/plain": [
       "'RT @NFL: .@SlaterNFL and @camjordan94 are LIVE from the #NFLHonors Red Carpet Show! https://t.co/JHFTgBCAwy'"
      ]
     },
     "execution_count": 111,
     "metadata": {},
     "output_type": "execute_result"
    }
   ],
   "source": [
    "full_tweets.text"
   ]
  },
  {
   "cell_type": "code",
   "execution_count": 124,
   "metadata": {},
   "outputs": [],
   "source": [
    "df_replies = pd.DataFrame(replies)"
   ]
  },
  {
   "cell_type": "code",
   "execution_count": 125,
   "metadata": {},
   "outputs": [
    {
     "data": {
      "text/html": [
       "<div>\n",
       "<style scoped>\n",
       "    .dataframe tbody tr th:only-of-type {\n",
       "        vertical-align: middle;\n",
       "    }\n",
       "\n",
       "    .dataframe tbody tr th {\n",
       "        vertical-align: top;\n",
       "    }\n",
       "\n",
       "    .dataframe thead th {\n",
       "        text-align: right;\n",
       "    }\n",
       "</style>\n",
       "<table border=\"1\" class=\"dataframe\">\n",
       "  <thead>\n",
       "    <tr style=\"text-align: right;\">\n",
       "      <th></th>\n",
       "      <th>0</th>\n",
       "    </tr>\n",
       "  </thead>\n",
       "  <tbody>\n",
       "    <tr>\n",
       "      <th>0</th>\n",
       "      <td>@camjordan94 Wake up.... karma sucks huh?? lol</td>\n",
       "    </tr>\n",
       "    <tr>\n",
       "      <th>1</th>\n",
       "      <td>@camjordan94 @Rachael_9268 https://t.co/S8XLZW...</td>\n",
       "    </tr>\n",
       "    <tr>\n",
       "      <th>2</th>\n",
       "      <td>@camjordan94 WHO DAT ?!!! ❤️⚜️⚜️⚜️</td>\n",
       "    </tr>\n",
       "    <tr>\n",
       "      <th>3</th>\n",
       "      <td>@camjordan94 💛🖤 must have!  #WHODAT</td>\n",
       "    </tr>\n",
       "    <tr>\n",
       "      <th>4</th>\n",
       "      <td>@camjordan94 https://t.co/Q4giXBTLMR</td>\n",
       "    </tr>\n",
       "  </tbody>\n",
       "</table>\n",
       "</div>"
      ],
      "text/plain": [
       "                                                   0\n",
       "0     @camjordan94 Wake up.... karma sucks huh?? lol\n",
       "1  @camjordan94 @Rachael_9268 https://t.co/S8XLZW...\n",
       "2                 @camjordan94 WHO DAT ?!!! ❤️⚜️⚜️⚜️\n",
       "3                @camjordan94 💛🖤 must have!  #WHODAT\n",
       "4               @camjordan94 https://t.co/Q4giXBTLMR"
      ]
     },
     "execution_count": 125,
     "metadata": {},
     "output_type": "execute_result"
    }
   ],
   "source": [
    "df_replies.head()"
   ]
  },
  {
   "cell_type": "code",
   "execution_count": 126,
   "metadata": {},
   "outputs": [
    {
     "ename": "TypeError",
     "evalue": "'Status' object does not support indexing",
     "output_type": "error",
     "traceback": [
      "\u001b[0;31m---------------------------------------------------------------------------\u001b[0m",
      "\u001b[0;31mTypeError\u001b[0m                                 Traceback (most recent call last)",
      "\u001b[0;32m<ipython-input-126-678f05bd1fad>\u001b[0m in \u001b[0;36m<module>\u001b[0;34m\u001b[0m\n\u001b[0;32m----> 1\u001b[0;31m \u001b[0mfull_tweets\u001b[0m\u001b[0;34m[\u001b[0m\u001b[0;36m0\u001b[0m\u001b[0;34m]\u001b[0m\u001b[0;34m\u001b[0m\u001b[0;34m\u001b[0m\u001b[0m\n\u001b[0m",
      "\u001b[0;31mTypeError\u001b[0m: 'Status' object does not support indexing"
     ]
    }
   ],
   "source": [
    "full_tweets[0]"
   ]
  },
  {
   "cell_type": "code",
   "execution_count": 128,
   "metadata": {},
   "outputs": [
    {
     "ename": "TypeError",
     "evalue": "object of type 'Status' has no len()",
     "output_type": "error",
     "traceback": [
      "\u001b[0;31m---------------------------------------------------------------------------\u001b[0m",
      "\u001b[0;31mTypeError\u001b[0m                                 Traceback (most recent call last)",
      "\u001b[0;32m<ipython-input-128-75fc75b0c1d4>\u001b[0m in \u001b[0;36m<module>\u001b[0;34m\u001b[0m\n\u001b[0;32m----> 1\u001b[0;31m \u001b[0mlen\u001b[0m\u001b[0;34m(\u001b[0m\u001b[0mfull_tweets\u001b[0m\u001b[0;34m)\u001b[0m\u001b[0;34m\u001b[0m\u001b[0;34m\u001b[0m\u001b[0m\n\u001b[0m",
      "\u001b[0;31mTypeError\u001b[0m: object of type 'Status' has no len()"
     ]
    }
   ],
   "source": [
    "len(full_tweets)"
   ]
  },
  {
   "cell_type": "code",
   "execution_count": 150,
   "metadata": {},
   "outputs": [
    {
     "data": {
      "text/plain": [
       "<tweepy.cursor.Cursor at 0x7fea872c9c50>"
      ]
     },
     "execution_count": 150,
     "metadata": {},
     "output_type": "execute_result"
    }
   ],
   "source": [
    "tweepy.Cursor(api.user_timeline, screen_name='camjordan94',timeout=999999)"
   ]
  },
  {
   "cell_type": "code",
   "execution_count": 174,
   "metadata": {},
   "outputs": [
    {
     "name": "stdout",
     "output_type": "stream",
     "text": [
      "Tweet : Woke up... wake up... #whodatALWAYS #SAINTSvsEverybody https://t.co/EY5kxjVsce\n",
      "Replies : @camjordan94 @Saints Yes! Hopefully forever @camjordan94. You ARE the black and gold\n",
      "Tweet : RT @MarkIngram22: BLACK AND GOLD SUNDAY!! ⚜️🖤 https://t.co/dt3UUaJiD9\n",
      "Replies : @camjordan94 @Saints Yes! Hopefully forever @camjordan94. You ARE the black and gold\n",
      "Replies : @camjordan94 @Saints Yes! Hopefully forever @camjordan94. You ARE the black and gold\n",
      "Tweet : The amount of respect and cunexpwdted solidarity I’ve faced throughout this whole week I wa overly appreciated. So… https://t.co/74n4w2iIfg\n",
      "Replies : @camjordan94 @Saints Yes! Hopefully forever @camjordan94. You ARE the black and gold\n",
      "Replies : @camjordan94 @Saints Yes! Hopefully forever @camjordan94. You ARE the black and gold\n",
      "Replies : @camjordan94 @Saints Yes! Hopefully forever @camjordan94. You ARE the black and gold\n",
      "Tweet : Are we puttin locations out... https://t.co/6g8yeWSVgB\n",
      "Replies : @camjordan94 @Saints Yes! Hopefully forever @camjordan94. You ARE the black and gold\n",
      "Replies : @camjordan94 @Saints Yes! Hopefully forever @camjordan94. You ARE the black and gold\n",
      "Replies : @camjordan94 @Saints Yes! Hopefully forever @camjordan94. You ARE the black and gold\n",
      "Replies : @camjordan94 @Saints Yes! Hopefully forever @camjordan94. You ARE the black and gold\n",
      "Tweet : @yahya But... dc vs marvel universe... #jokesgonewild https://t.co/EAFjqWOEkn\n",
      "Replies : @camjordan94 @Saints Yes! Hopefully forever @camjordan94. You ARE the black and gold\n",
      "Replies : @camjordan94 @Saints Yes! Hopefully forever @camjordan94. You ARE the black and gold\n",
      "Replies : @camjordan94 @Saints Yes! Hopefully forever @camjordan94. You ARE the black and gold\n",
      "Replies : @camjordan94 @Saints Yes! Hopefully forever @camjordan94. You ARE the black and gold\n",
      "Replies : @camjordan94 @Saints Yes! Hopefully forever @camjordan94. You ARE the black and gold\n",
      "Tweet : Gold back drop + black n gold jacket +black shirt/gold chain=hopefully forever Black and Gold @Saints https://t.co/baiabVhLj1\n",
      "Replies : @camjordan94 @Saints Yes! Hopefully forever @camjordan94. You ARE the black and gold\n",
      "Replies : @camjordan94 @Saints Yes! Hopefully forever @camjordan94. You ARE the black and gold\n",
      "Replies : @camjordan94 @Saints Yes! Hopefully forever @camjordan94. You ARE the black and gold\n",
      "Replies : @camjordan94 @Saints Yes! Hopefully forever @camjordan94. You ARE the black and gold\n",
      "Replies : @camjordan94 @Saints Yes! Hopefully forever @camjordan94. You ARE the black and gold\n",
      "Replies : @camjordan94 @Saints Yes! Hopefully forever @camjordan94. You ARE the black and gold\n",
      "Tweet : RT @NFL: .@camjordan94 is taking over our Instagram Story during pregame on Sunday at #SBLIII! (by @verizon) https://t.co/xWHEcH6mTk\n",
      "Replies : @camjordan94 @Saints Yes! Hopefully forever @camjordan94. You ARE the black and gold\n",
      "Replies : @camjordan94 @Saints Yes! Hopefully forever @camjordan94. You ARE the black and gold\n",
      "Replies : @camjordan94 @Saints Yes! Hopefully forever @camjordan94. You ARE the black and gold\n",
      "Replies : @camjordan94 @Saints Yes! Hopefully forever @camjordan94. You ARE the black and gold\n",
      "Replies : @camjordan94 @Saints Yes! Hopefully forever @camjordan94. You ARE the black and gold\n",
      "Replies : @camjordan94 @Saints Yes! Hopefully forever @camjordan94. You ARE the black and gold\n",
      "Replies : @camjordan94 @Saints Yes! Hopefully forever @camjordan94. You ARE the black and gold\n",
      "Tweet : RT @SaintsNOW: Okay @camjordan94 😮 https://t.co/rveGVkoFPy\n",
      "Replies : @camjordan94 @Saints Yes! Hopefully forever @camjordan94. You ARE the black and gold\n",
      "Replies : @camjordan94 @Saints Yes! Hopefully forever @camjordan94. You ARE the black and gold\n",
      "Replies : @camjordan94 @Saints Yes! Hopefully forever @camjordan94. You ARE the black and gold\n",
      "Replies : @camjordan94 @Saints Yes! Hopefully forever @camjordan94. You ARE the black and gold\n",
      "Replies : @camjordan94 @Saints Yes! Hopefully forever @camjordan94. You ARE the black and gold\n",
      "Replies : @camjordan94 @Saints Yes! Hopefully forever @camjordan94. You ARE the black and gold\n",
      "Replies : @camjordan94 @Saints Yes! Hopefully forever @camjordan94. You ARE the black and gold\n",
      "Replies : @camjordan94 @Saints Yes! Hopefully forever @camjordan94. You ARE the black and gold\n",
      "Tweet : More like you were lead, pat sajak!!! Killing it... makes me vannah white tho 😶 https://t.co/pXkzKMaXse\n",
      "Replies : @camjordan94 @Saints Yes! Hopefully forever @camjordan94. You ARE the black and gold\n",
      "Replies : @camjordan94 @Saints Yes! Hopefully forever @camjordan94. You ARE the black and gold\n",
      "Replies : @camjordan94 @Saints Yes! Hopefully forever @camjordan94. You ARE the black and gold\n",
      "Replies : @camjordan94 @Saints Yes! Hopefully forever @camjordan94. You ARE the black and gold\n",
      "Replies : @camjordan94 @Saints Yes! Hopefully forever @camjordan94. You ARE the black and gold\n",
      "Replies : @camjordan94 @Saints Yes! Hopefully forever @camjordan94. You ARE the black and gold\n",
      "Replies : @camjordan94 @Saints Yes! Hopefully forever @camjordan94. You ARE the black and gold\n",
      "Replies : @camjordan94 @Saints Yes! Hopefully forever @camjordan94. You ARE the black and gold\n",
      "Replies : @camjordan94 @Saints Yes! Hopefully forever @camjordan94. You ARE the black and gold\n",
      "Tweet : RT @SlaterNFL: Seriously so much fun! Thanks everyone involved! @MarkIngram22 @camjordan94 @TeamJuJu @A_kamara6 #NFLHonors https://t.co/tty…\n",
      "Replies : @camjordan94 @Saints Yes! Hopefully forever @camjordan94. You ARE the black and gold\n",
      "Replies : @camjordan94 @Saints Yes! Hopefully forever @camjordan94. You ARE the black and gold\n",
      "Replies : @camjordan94 @Saints Yes! Hopefully forever @camjordan94. You ARE the black and gold\n",
      "Replies : @camjordan94 @Saints Yes! Hopefully forever @camjordan94. You ARE the black and gold\n",
      "Replies : @camjordan94 @Saints Yes! Hopefully forever @camjordan94. You ARE the black and gold\n",
      "Replies : @camjordan94 @Saints Yes! Hopefully forever @camjordan94. You ARE the black and gold\n",
      "Replies : @camjordan94 @Saints Yes! Hopefully forever @camjordan94. You ARE the black and gold\n",
      "Replies : @camjordan94 @Saints Yes! Hopefully forever @camjordan94. You ARE the black and gold\n",
      "Replies : @camjordan94 @Saints Yes! Hopefully forever @camjordan94. You ARE the black and gold\n",
      "Replies : @camjordan94 @Saints Yes! Hopefully forever @camjordan94. You ARE the black and gold\n",
      "Tweet : Couldn’t get on the red carpet @TheNFLHonors too busy cohosting it   @SlaterNFL @nflnetwork https://t.co/vSzkxdnLO7\n",
      "Replies : @camjordan94 @Saints Yes! Hopefully forever @camjordan94. You ARE the black and gold\n",
      "Replies : @camjordan94 @Saints Yes! Hopefully forever @camjordan94. You ARE the black and gold\n",
      "Replies : @camjordan94 @Saints Yes! Hopefully forever @camjordan94. You ARE the black and gold\n",
      "Replies : @camjordan94 @Saints Yes! Hopefully forever @camjordan94. You ARE the black and gold\n",
      "Replies : @camjordan94 @Saints Yes! Hopefully forever @camjordan94. You ARE the black and gold\n",
      "Replies : @camjordan94 @Saints Yes! Hopefully forever @camjordan94. You ARE the black and gold\n",
      "Replies : @camjordan94 @Saints Yes! Hopefully forever @camjordan94. You ARE the black and gold\n",
      "Replies : @camjordan94 @Saints Yes! Hopefully forever @camjordan94. You ARE the black and gold\n",
      "Replies : @camjordan94 @Saints Yes! Hopefully forever @camjordan94. You ARE the black and gold\n",
      "Replies : @camjordan94 @Saints Yes! Hopefully forever @camjordan94. You ARE the black and gold\n",
      "Replies : @camjordan94 @Saints Yes! Hopefully forever @camjordan94. You ARE the black and gold\n",
      "Tweet : Had an amazingly swell time cohosting the #NFLHONORS red carpet with janeashleyslater on nflnetwork https://t.co/OGQe3VKWJ6\n",
      "Replies : @camjordan94 @Saints Yes! Hopefully forever @camjordan94. You ARE the black and gold\n",
      "Replies : @camjordan94 @Saints Yes! Hopefully forever @camjordan94. You ARE the black and gold\n",
      "Replies : @camjordan94 @Saints Yes! Hopefully forever @camjordan94. You ARE the black and gold\n",
      "Replies : @camjordan94 @Saints Yes! Hopefully forever @camjordan94. You ARE the black and gold\n",
      "Replies : @camjordan94 @Saints Yes! Hopefully forever @camjordan94. You ARE the black and gold\n",
      "Replies : @camjordan94 @Saints Yes! Hopefully forever @camjordan94. You ARE the black and gold\n",
      "Replies : @camjordan94 @Saints Yes! Hopefully forever @camjordan94. You ARE the black and gold\n",
      "Replies : @camjordan94 @Saints Yes! Hopefully forever @camjordan94. You ARE the black and gold\n",
      "Replies : @camjordan94 @Saints Yes! Hopefully forever @camjordan94. You ARE the black and gold\n",
      "Replies : @camjordan94 @Saints Yes! Hopefully forever @camjordan94. You ARE the black and gold\n",
      "Replies : @camjordan94 @Saints Yes! Hopefully forever @camjordan94. You ARE the black and gold\n",
      "Replies : @camjordan94 @Saints Yes! Hopefully forever @camjordan94. You ARE the black and gold\n"
     ]
    },
    {
     "name": "stdout",
     "output_type": "stream",
     "text": [
      "Tweet : RT @NFL: .@SlaterNFL and @camjordan94 are LIVE from the #NFLHonors Red Carpet Show! https://t.co/JHFTgBCAwy\n",
      "Replies : @camjordan94 @Saints Yes! Hopefully forever @camjordan94. You ARE the black and gold\n",
      "Replies : @camjordan94 @Saints Yes! Hopefully forever @camjordan94. You ARE the black and gold\n",
      "Replies : @camjordan94 @Saints Yes! Hopefully forever @camjordan94. You ARE the black and gold\n",
      "Replies : @camjordan94 @Saints Yes! Hopefully forever @camjordan94. You ARE the black and gold\n",
      "Replies : @camjordan94 @Saints Yes! Hopefully forever @camjordan94. You ARE the black and gold\n",
      "Replies : @camjordan94 @Saints Yes! Hopefully forever @camjordan94. You ARE the black and gold\n",
      "Replies : @camjordan94 @Saints Yes! Hopefully forever @camjordan94. You ARE the black and gold\n",
      "Replies : @camjordan94 @Saints Yes! Hopefully forever @camjordan94. You ARE the black and gold\n",
      "Replies : @camjordan94 @Saints Yes! Hopefully forever @camjordan94. You ARE the black and gold\n",
      "Replies : @camjordan94 @Saints Yes! Hopefully forever @camjordan94. You ARE the black and gold\n",
      "Replies : @camjordan94 @Saints Yes! Hopefully forever @camjordan94. You ARE the black and gold\n",
      "Replies : @camjordan94 @Saints Yes! Hopefully forever @camjordan94. You ARE the black and gold\n",
      "Replies : @camjordan94 @Saints Yes! Hopefully forever @camjordan94. You ARE the black and gold\n"
     ]
    }
   ],
   "source": [
    "df = pd.DataFrame()\n",
    "\n",
    "replies=[] \n",
    "#non_bmp_map = dict.fromkeys(range(0x10000, sys.maxunicode + 1), 0xfffd)  \n",
    "\n",
    "for full_tweets in tweepy.Cursor(api.user_timeline, screen_name='camjordan94',timeout=999999).items(13):\n",
    "    for tweet in tweepy.Cursor(api.search,q='to:camjordan94', since_id=tweet_id, timeout=999999).items(1000):\n",
    "        if hasattr(tweet, 'in_reply_to_status_id_str'):\n",
    "            if (tweet.in_reply_to_status_id_str==full_tweets.id_str):\n",
    "                replies.append(tweet.text)\n",
    "    print(\"Tweet :\",full_tweets.text)\n",
    "    for r in replies:\n",
    "        print(\"Replies :\",r)"
   ]
  },
  {
   "cell_type": "code",
   "execution_count": 144,
   "metadata": {},
   "outputs": [
    {
     "data": {
      "text/plain": [
       "562"
      ]
     },
     "execution_count": 144,
     "metadata": {},
     "output_type": "execute_result"
    }
   ],
   "source": [
    "len(replies)"
   ]
  },
  {
   "cell_type": "code",
   "execution_count": 145,
   "metadata": {},
   "outputs": [],
   "source": [
    "df2 = pd.DataFrame(replies)"
   ]
  },
  {
   "cell_type": "code",
   "execution_count": 148,
   "metadata": {},
   "outputs": [
    {
     "data": {
      "text/html": [
       "<div>\n",
       "<style scoped>\n",
       "    .dataframe tbody tr th:only-of-type {\n",
       "        vertical-align: middle;\n",
       "    }\n",
       "\n",
       "    .dataframe tbody tr th {\n",
       "        vertical-align: top;\n",
       "    }\n",
       "\n",
       "    .dataframe thead th {\n",
       "        text-align: right;\n",
       "    }\n",
       "</style>\n",
       "<table border=\"1\" class=\"dataframe\">\n",
       "  <thead>\n",
       "    <tr style=\"text-align: right;\">\n",
       "      <th></th>\n",
       "      <th>0</th>\n",
       "    </tr>\n",
       "  </thead>\n",
       "  <tbody>\n",
       "    <tr>\n",
       "      <th>542</th>\n",
       "      <td>Tweet :RT @NFL: .@SlaterNFL and @camjordan94 a...</td>\n",
       "    </tr>\n",
       "    <tr>\n",
       "      <th>543</th>\n",
       "      <td>Tweet :RT @NFL: .@SlaterNFL and @camjordan94 a...</td>\n",
       "    </tr>\n",
       "    <tr>\n",
       "      <th>544</th>\n",
       "      <td>Tweet :RT @NFL: .@SlaterNFL and @camjordan94 a...</td>\n",
       "    </tr>\n",
       "    <tr>\n",
       "      <th>545</th>\n",
       "      <td>Tweet :RT @NFL: .@SlaterNFL and @camjordan94 a...</td>\n",
       "    </tr>\n",
       "    <tr>\n",
       "      <th>546</th>\n",
       "      <td>Tweet :RT @NFL: .@SlaterNFL and @camjordan94 a...</td>\n",
       "    </tr>\n",
       "    <tr>\n",
       "      <th>547</th>\n",
       "      <td>Tweet :RT @NFL: .@SlaterNFL and @camjordan94 a...</td>\n",
       "    </tr>\n",
       "    <tr>\n",
       "      <th>548</th>\n",
       "      <td>Tweet :RT @NFL: .@SlaterNFL and @camjordan94 a...</td>\n",
       "    </tr>\n",
       "    <tr>\n",
       "      <th>549</th>\n",
       "      <td>Tweet :RT @NFL: .@SlaterNFL and @camjordan94 a...</td>\n",
       "    </tr>\n",
       "    <tr>\n",
       "      <th>550</th>\n",
       "      <td>Tweet :RT @NFL: .@SlaterNFL and @camjordan94 a...</td>\n",
       "    </tr>\n",
       "    <tr>\n",
       "      <th>551</th>\n",
       "      <td>Tweet :RT @NFL: .@SlaterNFL and @camjordan94 a...</td>\n",
       "    </tr>\n",
       "    <tr>\n",
       "      <th>552</th>\n",
       "      <td>Tweet :RT @NFL: .@SlaterNFL and @camjordan94 a...</td>\n",
       "    </tr>\n",
       "    <tr>\n",
       "      <th>553</th>\n",
       "      <td>Tweet :RT @NFL: .@SlaterNFL and @camjordan94 a...</td>\n",
       "    </tr>\n",
       "    <tr>\n",
       "      <th>554</th>\n",
       "      <td>Tweet :RT @NFL: .@SlaterNFL and @camjordan94 a...</td>\n",
       "    </tr>\n",
       "    <tr>\n",
       "      <th>555</th>\n",
       "      <td>Tweet :RT @NFL: .@SlaterNFL and @camjordan94 a...</td>\n",
       "    </tr>\n",
       "    <tr>\n",
       "      <th>556</th>\n",
       "      <td>Tweet :RT @NFL: .@SlaterNFL and @camjordan94 a...</td>\n",
       "    </tr>\n",
       "    <tr>\n",
       "      <th>557</th>\n",
       "      <td>Tweet :RT @NFL: .@SlaterNFL and @camjordan94 a...</td>\n",
       "    </tr>\n",
       "    <tr>\n",
       "      <th>558</th>\n",
       "      <td>Tweet :RT @NFL: .@SlaterNFL and @camjordan94 a...</td>\n",
       "    </tr>\n",
       "    <tr>\n",
       "      <th>559</th>\n",
       "      <td>Tweet :RT @NFL: .@SlaterNFL and @camjordan94 a...</td>\n",
       "    </tr>\n",
       "    <tr>\n",
       "      <th>560</th>\n",
       "      <td>Tweet :RT @NFL: .@SlaterNFL and @camjordan94 a...</td>\n",
       "    </tr>\n",
       "    <tr>\n",
       "      <th>561</th>\n",
       "      <td>Tweet :RT @NFL: .@SlaterNFL and @camjordan94 a...</td>\n",
       "    </tr>\n",
       "  </tbody>\n",
       "</table>\n",
       "</div>"
      ],
      "text/plain": [
       "                                                     0\n",
       "542  Tweet :RT @NFL: .@SlaterNFL and @camjordan94 a...\n",
       "543  Tweet :RT @NFL: .@SlaterNFL and @camjordan94 a...\n",
       "544  Tweet :RT @NFL: .@SlaterNFL and @camjordan94 a...\n",
       "545  Tweet :RT @NFL: .@SlaterNFL and @camjordan94 a...\n",
       "546  Tweet :RT @NFL: .@SlaterNFL and @camjordan94 a...\n",
       "547  Tweet :RT @NFL: .@SlaterNFL and @camjordan94 a...\n",
       "548  Tweet :RT @NFL: .@SlaterNFL and @camjordan94 a...\n",
       "549  Tweet :RT @NFL: .@SlaterNFL and @camjordan94 a...\n",
       "550  Tweet :RT @NFL: .@SlaterNFL and @camjordan94 a...\n",
       "551  Tweet :RT @NFL: .@SlaterNFL and @camjordan94 a...\n",
       "552  Tweet :RT @NFL: .@SlaterNFL and @camjordan94 a...\n",
       "553  Tweet :RT @NFL: .@SlaterNFL and @camjordan94 a...\n",
       "554  Tweet :RT @NFL: .@SlaterNFL and @camjordan94 a...\n",
       "555  Tweet :RT @NFL: .@SlaterNFL and @camjordan94 a...\n",
       "556  Tweet :RT @NFL: .@SlaterNFL and @camjordan94 a...\n",
       "557  Tweet :RT @NFL: .@SlaterNFL and @camjordan94 a...\n",
       "558  Tweet :RT @NFL: .@SlaterNFL and @camjordan94 a...\n",
       "559  Tweet :RT @NFL: .@SlaterNFL and @camjordan94 a...\n",
       "560  Tweet :RT @NFL: .@SlaterNFL and @camjordan94 a...\n",
       "561  Tweet :RT @NFL: .@SlaterNFL and @camjordan94 a..."
      ]
     },
     "execution_count": 148,
     "metadata": {},
     "output_type": "execute_result"
    }
   ],
   "source": [
    "df2.tail(20)"
   ]
  },
  {
   "cell_type": "code",
   "execution_count": null,
   "metadata": {},
   "outputs": [],
   "source": []
  }
 ],
 "metadata": {
  "kernelspec": {
   "display_name": "Python 3",
   "language": "python",
   "name": "python3"
  },
  "language_info": {
   "codemirror_mode": {
    "name": "ipython",
    "version": 3
   },
   "file_extension": ".py",
   "mimetype": "text/x-python",
   "name": "python",
   "nbconvert_exporter": "python",
   "pygments_lexer": "ipython3",
   "version": "3.7.1"
  }
 },
 "nbformat": 4,
 "nbformat_minor": 2
}
