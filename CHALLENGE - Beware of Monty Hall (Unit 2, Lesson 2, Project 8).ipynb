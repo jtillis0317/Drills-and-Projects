{
 "cells": [
  {
   "cell_type": "markdown",
   "metadata": {},
   "source": [
    "You are on a game show and given the choice of whatever is behind three doors. Behind one door is a fantastic prize (some examples use a car, others use cash) while behind the other two doors is a dud (some examples say a goat, others say it's just empty). You pick a door. Then the host opens one of the other two doors to reveal a dud. But here's the wrinkle: the host now gives you the opportunity to switch your door. What should you do?\n",
    "\n",
    "Answer: \n",
    "\n",
    "Initially, when you pick a door, there is a 1 in 3 (33%) chance that you picked the car. Now that a dud door has been revealed, the odds have changed. \n",
    "\n",
    "Before the host opens the dud door, there are two doors he can possibly open. \n",
    "\n",
    "Scenario 1: If you've picked the dud initially, then the host will open the other dud door available, meaning that the other door that is unopened IS the car.  In that case, switching your choice gives you a 100% chance of winning a car. \n",
    "\n",
    "Scenario 2: If you've picked the car initially and both the doors available to the host are duds, then he can open either one. In that case, you still have two unknown doors and there's a 50% chance of winning a car if you switch or stay. \n",
    "\n",
    "Given these two scenarios, the combined probability that switching will get you a car is (not positive about this) about 75%, so you should switch.\n",
    "\n",
    "After reading on Wikipedia, I understand that initially there is a 33% chance that the car is behind each door. If you choose door 1, there is a 66% chance that the car is behind either door 2 or door 3. Therefore, when the host opens one of those two doors, all of that 66% chance shifts into the door that the host did not open."
   ]
  },
  {
   "cell_type": "code",
   "execution_count": null,
   "metadata": {},
   "outputs": [],
   "source": [
    "win = 1 / 3\n",
    "lose = 2 / 3\n",
    "\n"
   ]
  }
 ],
 "metadata": {
  "kernelspec": {
   "display_name": "Python 3",
   "language": "python",
   "name": "python3"
  },
  "language_info": {
   "codemirror_mode": {
    "name": "ipython",
    "version": 3
   },
   "file_extension": ".py",
   "mimetype": "text/x-python",
   "name": "python",
   "nbconvert_exporter": "python",
   "pygments_lexer": "ipython3",
   "version": "3.6.5"
  }
 },
 "nbformat": 4,
 "nbformat_minor": 2
}
