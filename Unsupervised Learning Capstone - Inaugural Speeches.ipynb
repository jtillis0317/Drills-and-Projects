{
 "cells": [
  {
   "cell_type": "markdown",
   "metadata": {},
   "source": [
    "Get it done:\n",
    "+ create a series of clusters and pick the one that best represents the data\n",
    "    + need to dig deeper to see which one is most accurate...either by grouping presidents consistently or being able to find the sentences\n",
    "    +  choose one clustering method (probably kmeans)\n",
    "+ use the features to build models to classify texts by author\n",
    "+ on holdout group (remember to try with lsa), does clustering perform as you'd expect? is model performance consistent?\n",
    "+ how do clustering and modeling compare for classifying texts? what are the advantages of each? why would you want to use one over the other?"
   ]
  },
  {
   "cell_type": "code",
   "execution_count": 2,
   "metadata": {},
   "outputs": [],
   "source": [
    "import numpy as np\n",
    "import pandas as pd\n",
    "import seaborn as sns\n",
    "import matplotlib.pyplot as plt\n",
    "%matplotlib inline\n",
    "import scipy\n",
    "import sklearn\n",
    "import spacy\n",
    "import re\n",
    "from nltk.corpus import gutenberg, stopwords\n",
    "from collections import Counter"
   ]
  },
  {
   "cell_type": "markdown",
   "metadata": {},
   "source": [
    "<h1><center>Load Data And Use Vectorizer to Generate Features</center></h1>"
   ]
  },
  {
   "cell_type": "code",
   "execution_count": 3,
   "metadata": {},
   "outputs": [],
   "source": [
    "from nltk.corpus import inaugural"
   ]
  },
  {
   "cell_type": "code",
   "execution_count": 4,
   "metadata": {},
   "outputs": [
    {
     "data": {
      "text/plain": [
       "['1789-Washington.txt',\n",
       " '1793-Washington.txt',\n",
       " '1797-Adams.txt',\n",
       " '1801-Jefferson.txt',\n",
       " '1805-Jefferson.txt',\n",
       " '1809-Madison.txt',\n",
       " '1813-Madison.txt',\n",
       " '1817-Monroe.txt',\n",
       " '1821-Monroe.txt',\n",
       " '1825-Adams.txt',\n",
       " '1829-Jackson.txt',\n",
       " '1833-Jackson.txt',\n",
       " '1837-VanBuren.txt',\n",
       " '1841-Harrison.txt',\n",
       " '1845-Polk.txt',\n",
       " '1849-Taylor.txt',\n",
       " '1853-Pierce.txt',\n",
       " '1857-Buchanan.txt',\n",
       " '1861-Lincoln.txt',\n",
       " '1865-Lincoln.txt',\n",
       " '1869-Grant.txt',\n",
       " '1873-Grant.txt',\n",
       " '1877-Hayes.txt',\n",
       " '1881-Garfield.txt',\n",
       " '1885-Cleveland.txt',\n",
       " '1889-Harrison.txt',\n",
       " '1893-Cleveland.txt',\n",
       " '1897-McKinley.txt',\n",
       " '1901-McKinley.txt',\n",
       " '1905-Roosevelt.txt',\n",
       " '1909-Taft.txt',\n",
       " '1913-Wilson.txt',\n",
       " '1917-Wilson.txt',\n",
       " '1921-Harding.txt',\n",
       " '1925-Coolidge.txt',\n",
       " '1929-Hoover.txt',\n",
       " '1933-Roosevelt.txt',\n",
       " '1937-Roosevelt.txt',\n",
       " '1941-Roosevelt.txt',\n",
       " '1945-Roosevelt.txt',\n",
       " '1949-Truman.txt',\n",
       " '1953-Eisenhower.txt',\n",
       " '1957-Eisenhower.txt',\n",
       " '1961-Kennedy.txt',\n",
       " '1965-Johnson.txt',\n",
       " '1969-Nixon.txt',\n",
       " '1973-Nixon.txt',\n",
       " '1977-Carter.txt',\n",
       " '1981-Reagan.txt',\n",
       " '1985-Reagan.txt',\n",
       " '1989-Bush.txt',\n",
       " '1993-Clinton.txt',\n",
       " '1997-Clinton.txt',\n",
       " '2001-Bush.txt',\n",
       " '2005-Bush.txt',\n",
       " '2009-Obama.txt']"
      ]
     },
     "execution_count": 4,
     "metadata": {},
     "output_type": "execute_result"
    }
   ],
   "source": [
    "inaugural.fileids()"
   ]
  },
  {
   "cell_type": "code",
   "execution_count": 5,
   "metadata": {},
   "outputs": [],
   "source": [
    "Obama = inaugural.sents(\"2009-Obama.txt\")\n",
    "Clinton = inaugural.sents(\"1993-Clinton.txt\")\n",
    "Clinton1 = inaugural.sents(\"1997-Clinton.txt\")\n",
    "Reagan = inaugural.sents(\"1981-Reagan.txt\")\n",
    "Nixon = inaugural.sents(\"1969-Nixon.txt\")\n",
    "Eisenhower = inaugural.sents(\"1957-Eisenhower.txt\")\n",
    "Eisenhower1 = inaugural.sents(\"1953-Eisenhower.txt\")\n",
    "McKinley = inaugural.sents(\"1897-McKinley.txt\")\n",
    "McKinley1 = inaugural.sents(\"1901-McKinley.txt\")\n",
    "Wilson = inaugural.sents(\"1917-Wilson.txt\")\n",
    "Wilson1 = inaugural.sents(\"1913-Wilson.txt\")\n",
    "Roosevelt = inaugural.sents(\"1933-Roosevelt.txt\")\n",
    "Roosevelt1 = inaugural.sents(\"1937-Roosevelt.txt\")\n",
    "Cleveland = inaugural.sents(\"1893-Cleveland.txt\")\n",
    "Cleveland1 = inaugural.sents(\"1885-Cleveland.txt\")\n",
    "Garfield = inaugural.sents(\"1881-Garfield.txt\")"
   ]
  },
  {
   "cell_type": "code",
   "execution_count": 6,
   "metadata": {},
   "outputs": [
    {
     "data": {
      "text/plain": [
       "['I',\n",
       " 'stand',\n",
       " 'here',\n",
       " 'today',\n",
       " 'humbled',\n",
       " 'by',\n",
       " 'the',\n",
       " 'task',\n",
       " 'before',\n",
       " 'us',\n",
       " ',',\n",
       " 'grateful',\n",
       " 'for',\n",
       " 'the',\n",
       " 'trust',\n",
       " 'you',\n",
       " 'have',\n",
       " 'bestowed',\n",
       " ',',\n",
       " 'mindful',\n",
       " 'of',\n",
       " 'the',\n",
       " 'sacrifices',\n",
       " 'borne',\n",
       " 'by',\n",
       " 'our',\n",
       " 'ancestors',\n",
       " '.']"
      ]
     },
     "execution_count": 6,
     "metadata": {},
     "output_type": "execute_result"
    }
   ],
   "source": [
    "Obama[1]"
   ]
  },
  {
   "cell_type": "code",
   "execution_count": 7,
   "metadata": {},
   "outputs": [
    {
     "data": {
      "text/plain": [
       "['And', 'God', 'bless', 'the', 'United', 'States', 'of', 'America', '.']"
      ]
     },
     "execution_count": 7,
     "metadata": {},
     "output_type": "execute_result"
    }
   ],
   "source": [
    "Obama[-1]"
   ]
  },
  {
   "cell_type": "code",
   "execution_count": 8,
   "metadata": {},
   "outputs": [
    {
     "data": {
      "text/plain": [
       "['This',\n",
       " 'ceremony',\n",
       " 'is',\n",
       " 'held',\n",
       " 'in',\n",
       " 'the',\n",
       " 'depth',\n",
       " 'of',\n",
       " 'winter',\n",
       " ',',\n",
       " 'but',\n",
       " 'by',\n",
       " 'the',\n",
       " 'words',\n",
       " 'we',\n",
       " 'speak',\n",
       " 'and',\n",
       " 'the',\n",
       " 'faces',\n",
       " 'we',\n",
       " 'show',\n",
       " 'the',\n",
       " 'world',\n",
       " ',',\n",
       " 'we',\n",
       " 'force',\n",
       " 'the',\n",
       " 'spring',\n",
       " '.']"
      ]
     },
     "execution_count": 8,
     "metadata": {},
     "output_type": "execute_result"
    }
   ],
   "source": [
    "Clinton[1]"
   ]
  },
  {
   "cell_type": "code",
   "execution_count": 9,
   "metadata": {},
   "outputs": [
    {
     "name": "stdout",
     "output_type": "stream",
     "text": [
      "Number of Obama sentences 112\n",
      "Number of sentences after Clinton: 305\n",
      "Number of sentences after Reagan: 432\n",
      "Number of sentences after Nixon: 538\n",
      "Number of sentences after Eisenhower: 753\n",
      "Number of sentences after Garfield: 865\n",
      "Number of sentences after McKinley: 1095\n",
      "Number of sentences after Wilson: 1223\n",
      "Number of sentences after Roosevelt: 1404\n",
      "Number of sentences after Cleveland: 1506\n"
     ]
    }
   ],
   "source": [
    "inaugural_sents = []\n",
    "\n",
    "for sentence in Obama:\n",
    "    inaugural_sents.append(\" \".join(sentence))\n",
    "\n",
    "print(\"Number of Obama sentences\", len(inaugural_sents))\n",
    "    \n",
    "for sentence in Clinton:\n",
    "    inaugural_sents.append(\" \".join(sentence))\n",
    "    \n",
    "for sentence in Clinton1:\n",
    "    inaugural_sents.append(\" \".join(sentence))\n",
    "    \n",
    "print(\"Number of sentences after Clinton:\", len(inaugural_sents))\n",
    "\n",
    "for sentence in Reagan:\n",
    "    inaugural_sents.append(\" \".join(sentence))\n",
    "    \n",
    "print(\"Number of sentences after Reagan:\", len(inaugural_sents))\n",
    "\n",
    "for sentence in Nixon:\n",
    "    inaugural_sents.append(\" \".join(sentence))\n",
    "    \n",
    "print(\"Number of sentences after Nixon:\", len(inaugural_sents))\n",
    "\n",
    "for sentence in Eisenhower:\n",
    "    inaugural_sents.append(\" \".join(sentence))\n",
    "    \n",
    "for sentence in Eisenhower1:\n",
    "    inaugural_sents.append(\" \".join(sentence))\n",
    "    \n",
    "print(\"Number of sentences after Eisenhower:\", len(inaugural_sents))\n",
    "\n",
    "for sentence in Garfield:\n",
    "    inaugural_sents.append(\" \".join(sentence))\n",
    "    \n",
    "print(\"Number of sentences after Garfield:\", len(inaugural_sents))\n",
    "\n",
    "for sentence in McKinley:\n",
    "    inaugural_sents.append(\" \".join(sentence))\n",
    "    \n",
    "for sentence in McKinley1:\n",
    "    inaugural_sents.append(\" \".join(sentence))\n",
    "    \n",
    "print(\"Number of sentences after McKinley:\", len(inaugural_sents))\n",
    "\n",
    "for sentence in Wilson:\n",
    "    inaugural_sents.append(\" \".join(sentence))\n",
    "    \n",
    "for sentence in Wilson1:\n",
    "    inaugural_sents.append(\" \".join(sentence))\n",
    "    \n",
    "print(\"Number of sentences after Wilson:\", len(inaugural_sents))\n",
    "\n",
    "for sentence in Roosevelt:\n",
    "    inaugural_sents.append(\" \".join(sentence))\n",
    "    \n",
    "for sentence in Roosevelt1:\n",
    "    inaugural_sents.append(\" \".join(sentence))\n",
    "    \n",
    "print(\"Number of sentences after Roosevelt:\", len(inaugural_sents))\n",
    "\n",
    "for sentence in Cleveland:\n",
    "    inaugural_sents.append(\" \".join(sentence))\n",
    "    \n",
    "for sentence in Cleveland1:\n",
    "    inaugural_sents.append(\" \".join(sentence))\n",
    "    \n",
    "print(\"Number of sentences after Cleveland:\", len(inaugural_sents))"
   ]
  },
  {
   "cell_type": "code",
   "execution_count": 10,
   "metadata": {},
   "outputs": [
    {
     "data": {
      "text/plain": [
       "'This ceremony is held in the depth of winter , but by the words we speak and the faces we show the world , we force the spring .'"
      ]
     },
     "execution_count": 10,
     "metadata": {},
     "output_type": "execute_result"
    }
   ],
   "source": [
    "inaugural_sents[113]"
   ]
  },
  {
   "cell_type": "code",
   "execution_count": 11,
   "metadata": {},
   "outputs": [
    {
     "name": "stdout",
     "output_type": "stream",
     "text": [
      "Number of features: 2053\n"
     ]
    }
   ],
   "source": [
    "from sklearn.feature_extraction.text import TfidfVectorizer\n",
    "from sklearn.model_selection import train_test_split\n",
    "\n",
    "vectorizer = TfidfVectorizer(max_df=0.5, # drop words that occur in more than half the paragraphs\n",
    "                             min_df=2, # only use words that appear at least twice\n",
    "                             stop_words='english', \n",
    "                             lowercase=True, #convert everything to lower case (since Alice in Wonderland has the HABIT of CAPITALIZING WORDS for EMPHASIS)\n",
    "                             use_idf=True,#we definitely want to use inverse document frequencies in our weighting\n",
    "                             norm=u'l2', #Applies a correction factor so that longer paragraphs and shorter paragraphs get treated equally\n",
    "                             smooth_idf=True #Adds 1 to all document frequencies, as if an extra document existed that used every word once.  Prevents divide-by-zero errors\n",
    "                            )\n",
    "\n",
    "\n",
    "#Applying the vectorizer\n",
    "vect_inaugural_sents=vectorizer.fit_transform(inaugural_sents)\n",
    "print(\"Number of features: %d\" % vect_inaugural_sents.get_shape()[1])"
   ]
  },
  {
   "cell_type": "code",
   "execution_count": 12,
   "metadata": {},
   "outputs": [],
   "source": [
    "vect_inaugural_sents_csr = vect_inaugural_sents.tocsr()\n",
    "\n",
    "n = vect_inaugural_sents_csr.shape[0]\n",
    "\n",
    "tfidf_bypara = [{} for _ in range(0,n)]\n",
    "\n",
    "terms = vectorizer.get_feature_names()\n",
    "\n",
    "for i, j in zip(*vect_inaugural_sents_csr.nonzero()):\n",
    "    tfidf_bypara[i][terms[j]] = vect_inaugural_sents_csr[i, j]"
   ]
  },
  {
   "cell_type": "code",
   "execution_count": 13,
   "metadata": {},
   "outputs": [
    {
     "data": {
      "text/html": [
       "<div>\n",
       "<style scoped>\n",
       "    .dataframe tbody tr th:only-of-type {\n",
       "        vertical-align: middle;\n",
       "    }\n",
       "\n",
       "    .dataframe tbody tr th {\n",
       "        vertical-align: top;\n",
       "    }\n",
       "\n",
       "    .dataframe thead th {\n",
       "        text-align: right;\n",
       "    }\n",
       "</style>\n",
       "<table border=\"1\" class=\"dataframe\">\n",
       "  <thead>\n",
       "    <tr style=\"text-align: right;\">\n",
       "      <th></th>\n",
       "      <th>000</th>\n",
       "      <th>1787</th>\n",
       "      <th>1890</th>\n",
       "      <th>1897</th>\n",
       "      <th>19th</th>\n",
       "      <th>20th</th>\n",
       "      <th>21st</th>\n",
       "      <th>abandon</th>\n",
       "      <th>abandoned</th>\n",
       "      <th>abandonment</th>\n",
       "      <th>...</th>\n",
       "      <th>written</th>\n",
       "      <th>wrong</th>\n",
       "      <th>wronged</th>\n",
       "      <th>year</th>\n",
       "      <th>years</th>\n",
       "      <th>yes</th>\n",
       "      <th>yield</th>\n",
       "      <th>young</th>\n",
       "      <th>youth</th>\n",
       "      <th>zeal</th>\n",
       "    </tr>\n",
       "  </thead>\n",
       "  <tbody>\n",
       "    <tr>\n",
       "      <th>0</th>\n",
       "      <td>NaN</td>\n",
       "      <td>NaN</td>\n",
       "      <td>NaN</td>\n",
       "      <td>NaN</td>\n",
       "      <td>NaN</td>\n",
       "      <td>NaN</td>\n",
       "      <td>NaN</td>\n",
       "      <td>NaN</td>\n",
       "      <td>NaN</td>\n",
       "      <td>NaN</td>\n",
       "      <td>...</td>\n",
       "      <td>NaN</td>\n",
       "      <td>NaN</td>\n",
       "      <td>NaN</td>\n",
       "      <td>NaN</td>\n",
       "      <td>NaN</td>\n",
       "      <td>NaN</td>\n",
       "      <td>NaN</td>\n",
       "      <td>NaN</td>\n",
       "      <td>NaN</td>\n",
       "      <td>NaN</td>\n",
       "    </tr>\n",
       "    <tr>\n",
       "      <th>1</th>\n",
       "      <td>NaN</td>\n",
       "      <td>NaN</td>\n",
       "      <td>NaN</td>\n",
       "      <td>NaN</td>\n",
       "      <td>NaN</td>\n",
       "      <td>NaN</td>\n",
       "      <td>NaN</td>\n",
       "      <td>NaN</td>\n",
       "      <td>NaN</td>\n",
       "      <td>NaN</td>\n",
       "      <td>...</td>\n",
       "      <td>NaN</td>\n",
       "      <td>NaN</td>\n",
       "      <td>NaN</td>\n",
       "      <td>NaN</td>\n",
       "      <td>NaN</td>\n",
       "      <td>NaN</td>\n",
       "      <td>NaN</td>\n",
       "      <td>NaN</td>\n",
       "      <td>NaN</td>\n",
       "      <td>NaN</td>\n",
       "    </tr>\n",
       "    <tr>\n",
       "      <th>2</th>\n",
       "      <td>NaN</td>\n",
       "      <td>NaN</td>\n",
       "      <td>NaN</td>\n",
       "      <td>NaN</td>\n",
       "      <td>NaN</td>\n",
       "      <td>NaN</td>\n",
       "      <td>NaN</td>\n",
       "      <td>NaN</td>\n",
       "      <td>NaN</td>\n",
       "      <td>NaN</td>\n",
       "      <td>...</td>\n",
       "      <td>NaN</td>\n",
       "      <td>NaN</td>\n",
       "      <td>NaN</td>\n",
       "      <td>NaN</td>\n",
       "      <td>NaN</td>\n",
       "      <td>NaN</td>\n",
       "      <td>NaN</td>\n",
       "      <td>NaN</td>\n",
       "      <td>NaN</td>\n",
       "      <td>NaN</td>\n",
       "    </tr>\n",
       "    <tr>\n",
       "      <th>3</th>\n",
       "      <td>NaN</td>\n",
       "      <td>NaN</td>\n",
       "      <td>NaN</td>\n",
       "      <td>NaN</td>\n",
       "      <td>NaN</td>\n",
       "      <td>NaN</td>\n",
       "      <td>NaN</td>\n",
       "      <td>NaN</td>\n",
       "      <td>NaN</td>\n",
       "      <td>NaN</td>\n",
       "      <td>...</td>\n",
       "      <td>NaN</td>\n",
       "      <td>NaN</td>\n",
       "      <td>NaN</td>\n",
       "      <td>NaN</td>\n",
       "      <td>NaN</td>\n",
       "      <td>NaN</td>\n",
       "      <td>NaN</td>\n",
       "      <td>NaN</td>\n",
       "      <td>NaN</td>\n",
       "      <td>NaN</td>\n",
       "    </tr>\n",
       "    <tr>\n",
       "      <th>4</th>\n",
       "      <td>NaN</td>\n",
       "      <td>NaN</td>\n",
       "      <td>NaN</td>\n",
       "      <td>NaN</td>\n",
       "      <td>NaN</td>\n",
       "      <td>NaN</td>\n",
       "      <td>NaN</td>\n",
       "      <td>NaN</td>\n",
       "      <td>NaN</td>\n",
       "      <td>NaN</td>\n",
       "      <td>...</td>\n",
       "      <td>NaN</td>\n",
       "      <td>NaN</td>\n",
       "      <td>NaN</td>\n",
       "      <td>NaN</td>\n",
       "      <td>NaN</td>\n",
       "      <td>NaN</td>\n",
       "      <td>NaN</td>\n",
       "      <td>NaN</td>\n",
       "      <td>NaN</td>\n",
       "      <td>NaN</td>\n",
       "    </tr>\n",
       "  </tbody>\n",
       "</table>\n",
       "<p>5 rows × 2053 columns</p>\n",
       "</div>"
      ],
      "text/plain": [
       "   000  1787  1890  1897  19th  20th  21st  abandon  abandoned  abandonment  \\\n",
       "0  NaN   NaN   NaN   NaN   NaN   NaN   NaN      NaN        NaN          NaN   \n",
       "1  NaN   NaN   NaN   NaN   NaN   NaN   NaN      NaN        NaN          NaN   \n",
       "2  NaN   NaN   NaN   NaN   NaN   NaN   NaN      NaN        NaN          NaN   \n",
       "3  NaN   NaN   NaN   NaN   NaN   NaN   NaN      NaN        NaN          NaN   \n",
       "4  NaN   NaN   NaN   NaN   NaN   NaN   NaN      NaN        NaN          NaN   \n",
       "\n",
       "   ...   written  wrong  wronged  year  years  yes  yield  young  youth  zeal  \n",
       "0  ...       NaN    NaN      NaN   NaN    NaN  NaN    NaN    NaN    NaN   NaN  \n",
       "1  ...       NaN    NaN      NaN   NaN    NaN  NaN    NaN    NaN    NaN   NaN  \n",
       "2  ...       NaN    NaN      NaN   NaN    NaN  NaN    NaN    NaN    NaN   NaN  \n",
       "3  ...       NaN    NaN      NaN   NaN    NaN  NaN    NaN    NaN    NaN   NaN  \n",
       "4  ...       NaN    NaN      NaN   NaN    NaN  NaN    NaN    NaN    NaN   NaN  \n",
       "\n",
       "[5 rows x 2053 columns]"
      ]
     },
     "execution_count": 13,
     "metadata": {},
     "output_type": "execute_result"
    }
   ],
   "source": [
    "word_vectors = pd.DataFrame(tfidf_bypara)\n",
    "\n",
    "word_vectors.head()"
   ]
  },
  {
   "cell_type": "code",
   "execution_count": 14,
   "metadata": {},
   "outputs": [
    {
     "data": {
      "text/plain": [
       "000                1.279445\n",
       "1787               0.831377\n",
       "1890               0.561347\n",
       "1897               0.772842\n",
       "19th               0.828161\n",
       "20th               0.905539\n",
       "21st               1.412740\n",
       "abandon            0.751256\n",
       "abandoned          1.646255\n",
       "abandonment        0.513629\n",
       "abiding            1.649074\n",
       "ability            2.511144\n",
       "able               0.703075\n",
       "abroad             1.430666\n",
       "absence            0.776563\n",
       "abundance          0.876721\n",
       "accept             2.472588\n",
       "accepted           0.831240\n",
       "accomplished       1.972054\n",
       "accomplishment     0.913701\n",
       "account            1.417318\n",
       "achieve            2.575203\n",
       "achievement        2.488357\n",
       "achievements       1.431531\n",
       "acquiescence       0.595798\n",
       "act                5.625846\n",
       "action             7.335914\n",
       "actions            0.692628\n",
       "active             0.711026\n",
       "activities         0.922531\n",
       "                    ...    \n",
       "winds              1.433305\n",
       "winter             1.057247\n",
       "wisdom             3.486752\n",
       "wise               1.167973\n",
       "wisely             2.416474\n",
       "wish               1.634752\n",
       "wished             1.221375\n",
       "witness            0.895124\n",
       "witnessed          0.582136\n",
       "witnesses          0.606957\n",
       "women              3.743605\n",
       "wonder             0.794644\n",
       "words              4.141869\n",
       "work              14.148088\n",
       "workers            1.256983\n",
       "world             27.013757\n",
       "worldly            0.956967\n",
       "worth              0.787359\n",
       "worthy             1.079094\n",
       "write              0.761854\n",
       "written            0.927871\n",
       "wrong              3.493790\n",
       "wronged            0.835487\n",
       "year               2.532541\n",
       "years             10.499015\n",
       "yes                3.457902\n",
       "yield              0.771118\n",
       "young              2.602648\n",
       "youth              1.359496\n",
       "zeal               1.205150\n",
       "Length: 2053, dtype: float64"
      ]
     },
     "execution_count": 14,
     "metadata": {},
     "output_type": "execute_result"
    }
   ],
   "source": [
    "word_vectors.sum(axis=0)"
   ]
  },
  {
   "cell_type": "code",
   "execution_count": 15,
   "metadata": {},
   "outputs": [],
   "source": [
    "word_vectors = word_vectors.fillna(0)"
   ]
  },
  {
   "cell_type": "code",
   "execution_count": 16,
   "metadata": {},
   "outputs": [
    {
     "data": {
      "text/plain": [
       "(1506, 2053)"
      ]
     },
     "execution_count": 16,
     "metadata": {},
     "output_type": "execute_result"
    }
   ],
   "source": [
    "word_vectors.shape"
   ]
  },
  {
   "cell_type": "code",
   "execution_count": 17,
   "metadata": {},
   "outputs": [
    {
     "data": {
      "text/html": [
       "<div>\n",
       "<style scoped>\n",
       "    .dataframe tbody tr th:only-of-type {\n",
       "        vertical-align: middle;\n",
       "    }\n",
       "\n",
       "    .dataframe tbody tr th {\n",
       "        vertical-align: top;\n",
       "    }\n",
       "\n",
       "    .dataframe thead th {\n",
       "        text-align: right;\n",
       "    }\n",
       "</style>\n",
       "<table border=\"1\" class=\"dataframe\">\n",
       "  <thead>\n",
       "    <tr style=\"text-align: right;\">\n",
       "      <th></th>\n",
       "      <th>000</th>\n",
       "      <th>1787</th>\n",
       "      <th>1890</th>\n",
       "      <th>1897</th>\n",
       "      <th>19th</th>\n",
       "      <th>20th</th>\n",
       "      <th>21st</th>\n",
       "      <th>abandon</th>\n",
       "      <th>abandoned</th>\n",
       "      <th>abandonment</th>\n",
       "      <th>...</th>\n",
       "      <th>written</th>\n",
       "      <th>wrong</th>\n",
       "      <th>wronged</th>\n",
       "      <th>year</th>\n",
       "      <th>years</th>\n",
       "      <th>yes</th>\n",
       "      <th>yield</th>\n",
       "      <th>young</th>\n",
       "      <th>youth</th>\n",
       "      <th>zeal</th>\n",
       "    </tr>\n",
       "  </thead>\n",
       "  <tbody>\n",
       "    <tr>\n",
       "      <th>0</th>\n",
       "      <td>0.0</td>\n",
       "      <td>0.0</td>\n",
       "      <td>0.0</td>\n",
       "      <td>0.0</td>\n",
       "      <td>0.0</td>\n",
       "      <td>0.0</td>\n",
       "      <td>0.0</td>\n",
       "      <td>0.0</td>\n",
       "      <td>0.0</td>\n",
       "      <td>0.0</td>\n",
       "      <td>...</td>\n",
       "      <td>0.0</td>\n",
       "      <td>0.0</td>\n",
       "      <td>0.0</td>\n",
       "      <td>0.0</td>\n",
       "      <td>0.0</td>\n",
       "      <td>0.0</td>\n",
       "      <td>0.0</td>\n",
       "      <td>0.0</td>\n",
       "      <td>0.0</td>\n",
       "      <td>0.0</td>\n",
       "    </tr>\n",
       "    <tr>\n",
       "      <th>1</th>\n",
       "      <td>0.0</td>\n",
       "      <td>0.0</td>\n",
       "      <td>0.0</td>\n",
       "      <td>0.0</td>\n",
       "      <td>0.0</td>\n",
       "      <td>0.0</td>\n",
       "      <td>0.0</td>\n",
       "      <td>0.0</td>\n",
       "      <td>0.0</td>\n",
       "      <td>0.0</td>\n",
       "      <td>...</td>\n",
       "      <td>0.0</td>\n",
       "      <td>0.0</td>\n",
       "      <td>0.0</td>\n",
       "      <td>0.0</td>\n",
       "      <td>0.0</td>\n",
       "      <td>0.0</td>\n",
       "      <td>0.0</td>\n",
       "      <td>0.0</td>\n",
       "      <td>0.0</td>\n",
       "      <td>0.0</td>\n",
       "    </tr>\n",
       "    <tr>\n",
       "      <th>2</th>\n",
       "      <td>0.0</td>\n",
       "      <td>0.0</td>\n",
       "      <td>0.0</td>\n",
       "      <td>0.0</td>\n",
       "      <td>0.0</td>\n",
       "      <td>0.0</td>\n",
       "      <td>0.0</td>\n",
       "      <td>0.0</td>\n",
       "      <td>0.0</td>\n",
       "      <td>0.0</td>\n",
       "      <td>...</td>\n",
       "      <td>0.0</td>\n",
       "      <td>0.0</td>\n",
       "      <td>0.0</td>\n",
       "      <td>0.0</td>\n",
       "      <td>0.0</td>\n",
       "      <td>0.0</td>\n",
       "      <td>0.0</td>\n",
       "      <td>0.0</td>\n",
       "      <td>0.0</td>\n",
       "      <td>0.0</td>\n",
       "    </tr>\n",
       "    <tr>\n",
       "      <th>3</th>\n",
       "      <td>0.0</td>\n",
       "      <td>0.0</td>\n",
       "      <td>0.0</td>\n",
       "      <td>0.0</td>\n",
       "      <td>0.0</td>\n",
       "      <td>0.0</td>\n",
       "      <td>0.0</td>\n",
       "      <td>0.0</td>\n",
       "      <td>0.0</td>\n",
       "      <td>0.0</td>\n",
       "      <td>...</td>\n",
       "      <td>0.0</td>\n",
       "      <td>0.0</td>\n",
       "      <td>0.0</td>\n",
       "      <td>0.0</td>\n",
       "      <td>0.0</td>\n",
       "      <td>0.0</td>\n",
       "      <td>0.0</td>\n",
       "      <td>0.0</td>\n",
       "      <td>0.0</td>\n",
       "      <td>0.0</td>\n",
       "    </tr>\n",
       "    <tr>\n",
       "      <th>4</th>\n",
       "      <td>0.0</td>\n",
       "      <td>0.0</td>\n",
       "      <td>0.0</td>\n",
       "      <td>0.0</td>\n",
       "      <td>0.0</td>\n",
       "      <td>0.0</td>\n",
       "      <td>0.0</td>\n",
       "      <td>0.0</td>\n",
       "      <td>0.0</td>\n",
       "      <td>0.0</td>\n",
       "      <td>...</td>\n",
       "      <td>0.0</td>\n",
       "      <td>0.0</td>\n",
       "      <td>0.0</td>\n",
       "      <td>0.0</td>\n",
       "      <td>0.0</td>\n",
       "      <td>0.0</td>\n",
       "      <td>0.0</td>\n",
       "      <td>0.0</td>\n",
       "      <td>0.0</td>\n",
       "      <td>0.0</td>\n",
       "    </tr>\n",
       "  </tbody>\n",
       "</table>\n",
       "<p>5 rows × 2053 columns</p>\n",
       "</div>"
      ],
      "text/plain": [
       "   000  1787  1890  1897  19th  20th  21st  abandon  abandoned  abandonment  \\\n",
       "0  0.0   0.0   0.0   0.0   0.0   0.0   0.0      0.0        0.0          0.0   \n",
       "1  0.0   0.0   0.0   0.0   0.0   0.0   0.0      0.0        0.0          0.0   \n",
       "2  0.0   0.0   0.0   0.0   0.0   0.0   0.0      0.0        0.0          0.0   \n",
       "3  0.0   0.0   0.0   0.0   0.0   0.0   0.0      0.0        0.0          0.0   \n",
       "4  0.0   0.0   0.0   0.0   0.0   0.0   0.0      0.0        0.0          0.0   \n",
       "\n",
       "   ...   written  wrong  wronged  year  years  yes  yield  young  youth  zeal  \n",
       "0  ...       0.0    0.0      0.0   0.0    0.0  0.0    0.0    0.0    0.0   0.0  \n",
       "1  ...       0.0    0.0      0.0   0.0    0.0  0.0    0.0    0.0    0.0   0.0  \n",
       "2  ...       0.0    0.0      0.0   0.0    0.0  0.0    0.0    0.0    0.0   0.0  \n",
       "3  ...       0.0    0.0      0.0   0.0    0.0  0.0    0.0    0.0    0.0   0.0  \n",
       "4  ...       0.0    0.0      0.0   0.0    0.0  0.0    0.0    0.0    0.0   0.0  \n",
       "\n",
       "[5 rows x 2053 columns]"
      ]
     },
     "execution_count": 17,
     "metadata": {},
     "output_type": "execute_result"
    }
   ],
   "source": [
    "word_vectors.head()"
   ]
  },
  {
   "cell_type": "code",
   "execution_count": 18,
   "metadata": {},
   "outputs": [],
   "source": [
    "word_vectors[\"speech_sentence\"] = inaugural_sents"
   ]
  },
  {
   "cell_type": "code",
   "execution_count": 19,
   "metadata": {},
   "outputs": [
    {
     "data": {
      "text/html": [
       "<div>\n",
       "<style scoped>\n",
       "    .dataframe tbody tr th:only-of-type {\n",
       "        vertical-align: middle;\n",
       "    }\n",
       "\n",
       "    .dataframe tbody tr th {\n",
       "        vertical-align: top;\n",
       "    }\n",
       "\n",
       "    .dataframe thead th {\n",
       "        text-align: right;\n",
       "    }\n",
       "</style>\n",
       "<table border=\"1\" class=\"dataframe\">\n",
       "  <thead>\n",
       "    <tr style=\"text-align: right;\">\n",
       "      <th></th>\n",
       "      <th>000</th>\n",
       "      <th>1787</th>\n",
       "      <th>1890</th>\n",
       "      <th>1897</th>\n",
       "      <th>19th</th>\n",
       "      <th>20th</th>\n",
       "      <th>21st</th>\n",
       "      <th>abandon</th>\n",
       "      <th>abandoned</th>\n",
       "      <th>abandonment</th>\n",
       "      <th>...</th>\n",
       "      <th>wrong</th>\n",
       "      <th>wronged</th>\n",
       "      <th>year</th>\n",
       "      <th>years</th>\n",
       "      <th>yes</th>\n",
       "      <th>yield</th>\n",
       "      <th>young</th>\n",
       "      <th>youth</th>\n",
       "      <th>zeal</th>\n",
       "      <th>speech_sentence</th>\n",
       "    </tr>\n",
       "  </thead>\n",
       "  <tbody>\n",
       "    <tr>\n",
       "      <th>0</th>\n",
       "      <td>0.0</td>\n",
       "      <td>0.0</td>\n",
       "      <td>0.0</td>\n",
       "      <td>0.0</td>\n",
       "      <td>0.0</td>\n",
       "      <td>0.0</td>\n",
       "      <td>0.0</td>\n",
       "      <td>0.0</td>\n",
       "      <td>0.0</td>\n",
       "      <td>0.0</td>\n",
       "      <td>...</td>\n",
       "      <td>0.0</td>\n",
       "      <td>0.0</td>\n",
       "      <td>0.0</td>\n",
       "      <td>0.0</td>\n",
       "      <td>0.0</td>\n",
       "      <td>0.0</td>\n",
       "      <td>0.0</td>\n",
       "      <td>0.0</td>\n",
       "      <td>0.0</td>\n",
       "      <td>My fellow citizens :</td>\n",
       "    </tr>\n",
       "    <tr>\n",
       "      <th>1</th>\n",
       "      <td>0.0</td>\n",
       "      <td>0.0</td>\n",
       "      <td>0.0</td>\n",
       "      <td>0.0</td>\n",
       "      <td>0.0</td>\n",
       "      <td>0.0</td>\n",
       "      <td>0.0</td>\n",
       "      <td>0.0</td>\n",
       "      <td>0.0</td>\n",
       "      <td>0.0</td>\n",
       "      <td>...</td>\n",
       "      <td>0.0</td>\n",
       "      <td>0.0</td>\n",
       "      <td>0.0</td>\n",
       "      <td>0.0</td>\n",
       "      <td>0.0</td>\n",
       "      <td>0.0</td>\n",
       "      <td>0.0</td>\n",
       "      <td>0.0</td>\n",
       "      <td>0.0</td>\n",
       "      <td>I stand here today humbled by the task before ...</td>\n",
       "    </tr>\n",
       "    <tr>\n",
       "      <th>2</th>\n",
       "      <td>0.0</td>\n",
       "      <td>0.0</td>\n",
       "      <td>0.0</td>\n",
       "      <td>0.0</td>\n",
       "      <td>0.0</td>\n",
       "      <td>0.0</td>\n",
       "      <td>0.0</td>\n",
       "      <td>0.0</td>\n",
       "      <td>0.0</td>\n",
       "      <td>0.0</td>\n",
       "      <td>...</td>\n",
       "      <td>0.0</td>\n",
       "      <td>0.0</td>\n",
       "      <td>0.0</td>\n",
       "      <td>0.0</td>\n",
       "      <td>0.0</td>\n",
       "      <td>0.0</td>\n",
       "      <td>0.0</td>\n",
       "      <td>0.0</td>\n",
       "      <td>0.0</td>\n",
       "      <td>I thank President Bush for his service to our ...</td>\n",
       "    </tr>\n",
       "    <tr>\n",
       "      <th>3</th>\n",
       "      <td>0.0</td>\n",
       "      <td>0.0</td>\n",
       "      <td>0.0</td>\n",
       "      <td>0.0</td>\n",
       "      <td>0.0</td>\n",
       "      <td>0.0</td>\n",
       "      <td>0.0</td>\n",
       "      <td>0.0</td>\n",
       "      <td>0.0</td>\n",
       "      <td>0.0</td>\n",
       "      <td>...</td>\n",
       "      <td>0.0</td>\n",
       "      <td>0.0</td>\n",
       "      <td>0.0</td>\n",
       "      <td>0.0</td>\n",
       "      <td>0.0</td>\n",
       "      <td>0.0</td>\n",
       "      <td>0.0</td>\n",
       "      <td>0.0</td>\n",
       "      <td>0.0</td>\n",
       "      <td>Forty - four Americans have now taken the pres...</td>\n",
       "    </tr>\n",
       "    <tr>\n",
       "      <th>4</th>\n",
       "      <td>0.0</td>\n",
       "      <td>0.0</td>\n",
       "      <td>0.0</td>\n",
       "      <td>0.0</td>\n",
       "      <td>0.0</td>\n",
       "      <td>0.0</td>\n",
       "      <td>0.0</td>\n",
       "      <td>0.0</td>\n",
       "      <td>0.0</td>\n",
       "      <td>0.0</td>\n",
       "      <td>...</td>\n",
       "      <td>0.0</td>\n",
       "      <td>0.0</td>\n",
       "      <td>0.0</td>\n",
       "      <td>0.0</td>\n",
       "      <td>0.0</td>\n",
       "      <td>0.0</td>\n",
       "      <td>0.0</td>\n",
       "      <td>0.0</td>\n",
       "      <td>0.0</td>\n",
       "      <td>The words have been spoken during rising tides...</td>\n",
       "    </tr>\n",
       "  </tbody>\n",
       "</table>\n",
       "<p>5 rows × 2054 columns</p>\n",
       "</div>"
      ],
      "text/plain": [
       "   000  1787  1890  1897  19th  20th  21st  abandon  abandoned  abandonment  \\\n",
       "0  0.0   0.0   0.0   0.0   0.0   0.0   0.0      0.0        0.0          0.0   \n",
       "1  0.0   0.0   0.0   0.0   0.0   0.0   0.0      0.0        0.0          0.0   \n",
       "2  0.0   0.0   0.0   0.0   0.0   0.0   0.0      0.0        0.0          0.0   \n",
       "3  0.0   0.0   0.0   0.0   0.0   0.0   0.0      0.0        0.0          0.0   \n",
       "4  0.0   0.0   0.0   0.0   0.0   0.0   0.0      0.0        0.0          0.0   \n",
       "\n",
       "                         ...                          wrong  wronged  year  \\\n",
       "0                        ...                            0.0      0.0   0.0   \n",
       "1                        ...                            0.0      0.0   0.0   \n",
       "2                        ...                            0.0      0.0   0.0   \n",
       "3                        ...                            0.0      0.0   0.0   \n",
       "4                        ...                            0.0      0.0   0.0   \n",
       "\n",
       "   years  yes  yield  young  youth  zeal  \\\n",
       "0    0.0  0.0    0.0    0.0    0.0   0.0   \n",
       "1    0.0  0.0    0.0    0.0    0.0   0.0   \n",
       "2    0.0  0.0    0.0    0.0    0.0   0.0   \n",
       "3    0.0  0.0    0.0    0.0    0.0   0.0   \n",
       "4    0.0  0.0    0.0    0.0    0.0   0.0   \n",
       "\n",
       "                                     speech_sentence  \n",
       "0                               My fellow citizens :  \n",
       "1  I stand here today humbled by the task before ...  \n",
       "2  I thank President Bush for his service to our ...  \n",
       "3  Forty - four Americans have now taken the pres...  \n",
       "4  The words have been spoken during rising tides...  \n",
       "\n",
       "[5 rows x 2054 columns]"
      ]
     },
     "execution_count": 19,
     "metadata": {},
     "output_type": "execute_result"
    }
   ],
   "source": [
    "word_vectors.head()"
   ]
  },
  {
   "cell_type": "code",
   "execution_count": 20,
   "metadata": {},
   "outputs": [
    {
     "name": "stdout",
     "output_type": "stream",
     "text": [
      "1506\n"
     ]
    }
   ],
   "source": [
    "speech_source = []\n",
    "for i in range(0,len(Obama)):\n",
    "    speech_source.append(\"Obama\")\n",
    "for i in range(0,len(Clinton)+len(Clinton1)):\n",
    "    speech_source.append(\"Clinton\")\n",
    "for i in range(0,len(Reagan)):\n",
    "    speech_source.append(\"Reagan\")\n",
    "for i in range(0,len(Nixon)):\n",
    "    speech_source.append(\"Nixon\")\n",
    "for i in range(0,len(Garfield)):\n",
    "    speech_source.append(\"Garfield\")\n",
    "for i in range(0,len(McKinley)+len(McKinley1)):\n",
    "    speech_source.append(\"McKinley\")\n",
    "for i in range(0,len(Eisenhower)+len(Eisenhower1)):\n",
    "    speech_source.append(\"Eisenhower\")\n",
    "for i in range(0,len(Wilson)+len(Wilson1)):\n",
    "    speech_source.append(\"Wilson\")   \n",
    "for i in range(0,len(Roosevelt)+len(Roosevelt1)):\n",
    "    speech_source.append(\"Roosevelt\")    \n",
    "for i in range(0,len(Cleveland)+len(Cleveland1)):\n",
    "    speech_source.append(\"Cleveland\")\n",
    "    \n",
    "print(len(speech_source))"
   ]
  },
  {
   "cell_type": "code",
   "execution_count": 21,
   "metadata": {},
   "outputs": [],
   "source": [
    "word_vectors[\"speech_source\"] = speech_source"
   ]
  },
  {
   "cell_type": "code",
   "execution_count": 22,
   "metadata": {},
   "outputs": [
    {
     "data": {
      "text/plain": [
       "(1506, 2055)"
      ]
     },
     "execution_count": 22,
     "metadata": {},
     "output_type": "execute_result"
    }
   ],
   "source": [
    "word_vectors.shape"
   ]
  },
  {
   "cell_type": "code",
   "execution_count": 23,
   "metadata": {},
   "outputs": [
    {
     "name": "stdout",
     "output_type": "stream",
     "text": [
      "(1506, 2053)\n",
      "(1506,)\n"
     ]
    }
   ],
   "source": [
    "Y = word_vectors[\"speech_source\"]\n",
    "X = np.array(word_vectors.loc[:, ~word_vectors.columns.isin([\"speech_sentence\", \"speech_source\"])])\n",
    "print(X.shape)\n",
    "print(Y.shape)"
   ]
  },
  {
   "cell_type": "code",
   "execution_count": 24,
   "metadata": {},
   "outputs": [],
   "source": [
    "X_train, X_test, y_train, y_test = train_test_split(X, Y, test_size=0.25, random_state=0)"
   ]
  },
  {
   "cell_type": "markdown",
   "metadata": {},
   "source": [
    "<h1><center>Create a Series of Clusters</center></h1>"
   ]
  },
  {
   "cell_type": "markdown",
   "metadata": {},
   "source": [
    "### k-Means"
   ]
  },
  {
   "cell_type": "code",
   "execution_count": 25,
   "metadata": {},
   "outputs": [],
   "source": [
    "from sklearn.cluster import KMeans\n",
    "from sklearn import metrics\n",
    "from sklearn.metrics import pairwise_distances"
   ]
  },
  {
   "cell_type": "code",
   "execution_count": 26,
   "metadata": {},
   "outputs": [],
   "source": [
    "kmeans = KMeans(n_clusters=10)\n",
    "kmeans = kmeans.fit(X_train)\n",
    "kmlabels = kmeans.predict(X_train)"
   ]
  },
  {
   "cell_type": "code",
   "execution_count": 27,
   "metadata": {},
   "outputs": [
    {
     "data": {
      "text/plain": [
       "Counter({6: 272,\n",
       "         7: 337,\n",
       "         3: 81,\n",
       "         2: 101,\n",
       "         9: 50,\n",
       "         4: 40,\n",
       "         0: 86,\n",
       "         1: 54,\n",
       "         5: 61,\n",
       "         8: 47})"
      ]
     },
     "execution_count": 27,
     "metadata": {},
     "output_type": "execute_result"
    }
   ],
   "source": [
    "from collections import Counter\n",
    "\n",
    "Counter(kmlabels)"
   ]
  },
  {
   "cell_type": "code",
   "execution_count": 28,
   "metadata": {},
   "outputs": [
    {
     "data": {
      "text/plain": [
       "0.47298494242692646"
      ]
     },
     "execution_count": 28,
     "metadata": {},
     "output_type": "execute_result"
    }
   ],
   "source": [
    "534/1129"
   ]
  },
  {
   "cell_type": "markdown",
   "metadata": {},
   "source": [
    "### Meanshift"
   ]
  },
  {
   "cell_type": "code",
   "execution_count": 29,
   "metadata": {
    "scrolled": true
   },
   "outputs": [
    {
     "name": "stdout",
     "output_type": "stream",
     "text": [
      "0.1\n",
      "1\n",
      "0.2\n",
      "1\n",
      "0.3\n",
      "1\n",
      "0.4\n",
      "1\n",
      "0.5\n",
      "1\n",
      "0.6\n",
      "1\n",
      "0.65\n",
      "1\n",
      "0.75\n",
      "1\n",
      "0.9\n",
      "1\n"
     ]
    }
   ],
   "source": [
    "from sklearn.cluster import MeanShift, estimate_bandwidth\n",
    "\n",
    "quantiles = [.1, .2, .3, .4, .5, .6, .65, .75, .9]\n",
    "\n",
    "for q in quantiles:\n",
    "    bandwidth = estimate_bandwidth(X_train, quantile=q, n_samples=100)\n",
    "    ms = MeanShift(bandwidth=bandwidth, bin_seeding=True)\n",
    "    ms = ms.fit(X_train)\n",
    "    mslabels = ms.labels_\n",
    "    print(q)\n",
    "    print(len(ms.cluster_centers_))"
   ]
  },
  {
   "cell_type": "code",
   "execution_count": 30,
   "metadata": {},
   "outputs": [],
   "source": [
    "ms = MeanShift()\n",
    "ms = ms.fit(X_train)\n",
    "mslabels = ms.labels_"
   ]
  },
  {
   "cell_type": "code",
   "execution_count": 31,
   "metadata": {},
   "outputs": [
    {
     "data": {
      "text/plain": [
       "Counter({0: 1129})"
      ]
     },
     "execution_count": 31,
     "metadata": {},
     "output_type": "execute_result"
    }
   ],
   "source": [
    "Counter(mslabels)"
   ]
  },
  {
   "cell_type": "markdown",
   "metadata": {},
   "source": [
    "### Spectral Clustering"
   ]
  },
  {
   "cell_type": "code",
   "execution_count": 32,
   "metadata": {},
   "outputs": [],
   "source": [
    "from sklearn.cluster import SpectralClustering\n",
    "\n",
    "sc = SpectralClustering(n_clusters=10)\n",
    "sc = sc.fit(X_train)\n",
    "sclabels = sc.labels_"
   ]
  },
  {
   "cell_type": "code",
   "execution_count": 33,
   "metadata": {},
   "outputs": [
    {
     "data": {
      "text/plain": [
       "Counter({8: 708, 3: 38, 6: 39, 1: 97, 5: 66, 0: 105, 9: 18, 2: 46, 7: 9, 4: 3})"
      ]
     },
     "execution_count": 33,
     "metadata": {},
     "output_type": "execute_result"
    }
   ],
   "source": [
    "Counter(sclabels)"
   ]
  },
  {
   "cell_type": "markdown",
   "metadata": {},
   "source": [
    "### Digging into the different clustering methods"
   ]
  },
  {
   "cell_type": "code",
   "execution_count": 34,
   "metadata": {},
   "outputs": [
    {
     "data": {
      "text/plain": [
       "1129"
      ]
     },
     "execution_count": 34,
     "metadata": {},
     "output_type": "execute_result"
    }
   ],
   "source": [
    "len(sclabels)"
   ]
  },
  {
   "cell_type": "code",
   "execution_count": 35,
   "metadata": {},
   "outputs": [
    {
     "data": {
      "text/plain": [
       "1129"
      ]
     },
     "execution_count": 35,
     "metadata": {},
     "output_type": "execute_result"
    }
   ],
   "source": [
    "len(y_train)"
   ]
  },
  {
   "cell_type": "code",
   "execution_count": 36,
   "metadata": {},
   "outputs": [],
   "source": [
    "cluster_labels_df = pd.DataFrame()\n",
    "\n",
    "cluster_labels_df[\"speech_source\"] = y_train\n",
    "cluster_labels_df[\"km_clusters\"] = kmlabels\n",
    "cluster_labels_df[\"ms_clusters\"] = mslabels\n",
    "cluster_labels_df[\"sc_clusters\"] = sclabels"
   ]
  },
  {
   "cell_type": "code",
   "execution_count": 37,
   "metadata": {},
   "outputs": [
    {
     "data": {
      "text/plain": [
       "[(7, 28),\n",
       " (6, 15),\n",
       " (0, 9),\n",
       " (8, 8),\n",
       " (9, 7),\n",
       " (3, 4),\n",
       " (5, 3),\n",
       " (2, 2),\n",
       " (1, 1),\n",
       " (4, 1)]"
      ]
     },
     "execution_count": 37,
     "metadata": {},
     "output_type": "execute_result"
    }
   ],
   "source": [
    "Counter(cluster_labels_df[cluster_labels_df[\"speech_source\"] == \"Obama\"][\"km_clusters\"]).most_common()"
   ]
  },
  {
   "cell_type": "code",
   "execution_count": 38,
   "metadata": {},
   "outputs": [
    {
     "data": {
      "text/plain": [
       "[(6, 27), (7, 21), (2, 19), (4, 4), (0, 4), (3, 2), (1, 2), (5, 1)]"
      ]
     },
     "execution_count": 38,
     "metadata": {},
     "output_type": "execute_result"
    }
   ],
   "source": [
    "Counter(cluster_labels_df[cluster_labels_df[\"speech_source\"] == \"Cleveland\"][\"km_clusters\"]).most_common()"
   ]
  },
  {
   "cell_type": "code",
   "execution_count": 39,
   "metadata": {},
   "outputs": [
    {
     "data": {
      "text/plain": [
       "[(6, 21),\n",
       " (7, 18),\n",
       " (3, 15),\n",
       " (5, 8),\n",
       " (0, 6),\n",
       " (1, 4),\n",
       " (9, 4),\n",
       " (2, 3),\n",
       " (4, 1),\n",
       " (8, 1)]"
      ]
     },
     "execution_count": 39,
     "metadata": {},
     "output_type": "execute_result"
    }
   ],
   "source": [
    "Counter(cluster_labels_df[cluster_labels_df[\"speech_source\"] == \"Garfield\"][\"km_clusters\"]).most_common()"
   ]
  },
  {
   "cell_type": "code",
   "execution_count": 40,
   "metadata": {},
   "outputs": [
    {
     "data": {
      "text/plain": [
       "[('Clinton', 20),\n",
       " ('Obama', 8),\n",
       " ('Roosevelt', 5),\n",
       " ('Wilson', 5),\n",
       " ('Eisenhower', 3),\n",
       " ('McKinley', 2),\n",
       " ('Reagan', 2),\n",
       " ('Nixon', 1),\n",
       " ('Garfield', 1)]"
      ]
     },
     "execution_count": 40,
     "metadata": {},
     "output_type": "execute_result"
    }
   ],
   "source": [
    "(Counter(cluster_labels_df[cluster_labels_df[\"km_clusters\"] == 8][\"speech_source\"])).most_common()"
   ]
  },
  {
   "cell_type": "code",
   "execution_count": 41,
   "metadata": {},
   "outputs": [
    {
     "data": {
      "text/plain": [
       "[('McKinley', 43),\n",
       " ('Eisenhower', 38),\n",
       " ('Reagan', 31),\n",
       " ('Roosevelt', 27),\n",
       " ('Clinton', 27),\n",
       " ('Cleveland', 27),\n",
       " ('Wilson', 22),\n",
       " ('Nixon', 21),\n",
       " ('Garfield', 21),\n",
       " ('Obama', 15)]"
      ]
     },
     "execution_count": 41,
     "metadata": {},
     "output_type": "execute_result"
    }
   ],
   "source": [
    "(Counter(cluster_labels_df[cluster_labels_df[\"km_clusters\"] == 6][\"speech_source\"])).most_common()"
   ]
  },
  {
   "cell_type": "code",
   "execution_count": 42,
   "metadata": {},
   "outputs": [
    {
     "data": {
      "text/plain": [
       "[('Wilson', 13),\n",
       " ('Eisenhower', 12),\n",
       " ('McKinley', 8),\n",
       " ('Garfield', 8),\n",
       " ('Roosevelt', 6),\n",
       " ('Clinton', 5),\n",
       " ('Obama', 3),\n",
       " ('Nixon', 3),\n",
       " ('Reagan', 2),\n",
       " ('Cleveland', 1)]"
      ]
     },
     "execution_count": 42,
     "metadata": {},
     "output_type": "execute_result"
    }
   ],
   "source": [
    "(Counter(cluster_labels_df[cluster_labels_df[\"km_clusters\"] == 5][\"speech_source\"])).most_common()"
   ]
  },
  {
   "cell_type": "code",
   "execution_count": 43,
   "metadata": {},
   "outputs": [
    {
     "data": {
      "text/plain": [
       "[('McKinley', 16),\n",
       " ('Roosevelt', 15),\n",
       " ('Reagan', 10),\n",
       " ('Clinton', 10),\n",
       " ('Obama', 9),\n",
       " ('Garfield', 6),\n",
       " ('Eisenhower', 6),\n",
       " ('Wilson', 6),\n",
       " ('Cleveland', 4),\n",
       " ('Nixon', 4)]"
      ]
     },
     "execution_count": 43,
     "metadata": {},
     "output_type": "execute_result"
    }
   ],
   "source": [
    "(Counter(cluster_labels_df[cluster_labels_df[\"km_clusters\"] == 0][\"speech_source\"])).most_common()"
   ]
  },
  {
   "cell_type": "code",
   "execution_count": 44,
   "metadata": {},
   "outputs": [
    {
     "data": {
      "text/plain": [
       "[('McKinley', 1), ('Obama', 1), ('Garfield', 1)]"
      ]
     },
     "execution_count": 44,
     "metadata": {},
     "output_type": "execute_result"
    }
   ],
   "source": [
    "(Counter(cluster_labels_df[cluster_labels_df[\"sc_clusters\"] == 4][\"speech_source\"])).most_common()"
   ]
  },
  {
   "cell_type": "code",
   "execution_count": 45,
   "metadata": {},
   "outputs": [
    {
     "data": {
      "text/plain": [
       "[('Clinton', 7),\n",
       " ('Roosevelt', 3),\n",
       " ('Reagan', 2),\n",
       " ('McKinley', 2),\n",
       " ('Obama', 2),\n",
       " ('Garfield', 1),\n",
       " ('Wilson', 1)]"
      ]
     },
     "execution_count": 45,
     "metadata": {},
     "output_type": "execute_result"
    }
   ],
   "source": [
    "(Counter(cluster_labels_df[cluster_labels_df[\"sc_clusters\"] == 9][\"speech_source\"])).most_common()"
   ]
  },
  {
   "cell_type": "code",
   "execution_count": 46,
   "metadata": {},
   "outputs": [
    {
     "data": {
      "text/plain": [
       "[('Reagan', 6), ('Nixon', 2), ('Garfield', 1)]"
      ]
     },
     "execution_count": 46,
     "metadata": {},
     "output_type": "execute_result"
    }
   ],
   "source": [
    "(Counter(cluster_labels_df[cluster_labels_df[\"sc_clusters\"] == 7][\"speech_source\"])).most_common()"
   ]
  },
  {
   "cell_type": "markdown",
   "metadata": {},
   "source": [
    "### Running k-means and spectral clustering with 2 and 3 clusters \n",
    "#### Hypothesis: Might cluster by time period or political party\n",
    "\n",
    "**In Chronological Order:**\n",
    "1. Obama\n",
    "2. Clinton\n",
    "3. Reagan\n",
    "4. Nixon\n",
    "5. Eisenhower\n",
    "6. Roosevelt\n",
    "7. Wilson\n",
    "8. McKinley\n",
    "9. Cleveland\n",
    "10. Garfield\n",
    "\n",
    "**Political Party Affiliation:**\n",
    "\n",
    "Republican\n",
    "+ Garfield\n",
    "+ McKinley\n",
    "+ Eisenhower\n",
    "+ Nixon\n",
    "+ Reagan\n",
    "\n",
    "Democrat\n",
    "+ Cleveland\n",
    "+ Roosevelt\n",
    "+ Wilson\n",
    "+ Obama\n",
    "+ Clinton"
   ]
  },
  {
   "cell_type": "code",
   "execution_count": 47,
   "metadata": {},
   "outputs": [],
   "source": [
    "kmeans3 = KMeans(n_clusters=3)\n",
    "kmeans3 = kmeans3.fit(X_train)\n",
    "km3labels = kmeans3.predict(X_train)"
   ]
  },
  {
   "cell_type": "code",
   "execution_count": 48,
   "metadata": {},
   "outputs": [
    {
     "data": {
      "text/plain": [
       "Counter({0: 860, 2: 79, 1: 190})"
      ]
     },
     "execution_count": 48,
     "metadata": {},
     "output_type": "execute_result"
    }
   ],
   "source": [
    "Counter(km3labels)"
   ]
  },
  {
   "cell_type": "code",
   "execution_count": 49,
   "metadata": {},
   "outputs": [],
   "source": [
    "kmeans2 = KMeans(n_clusters=2)\n",
    "kmeans2 = kmeans2.fit(X_train)\n",
    "km2labels = kmeans2.predict(X_train)"
   ]
  },
  {
   "cell_type": "code",
   "execution_count": 50,
   "metadata": {},
   "outputs": [
    {
     "data": {
      "text/plain": [
       "Counter({0: 896, 1: 233})"
      ]
     },
     "execution_count": 50,
     "metadata": {},
     "output_type": "execute_result"
    }
   ],
   "source": [
    "Counter(km2labels)"
   ]
  },
  {
   "cell_type": "code",
   "execution_count": 51,
   "metadata": {},
   "outputs": [
    {
     "data": {
      "text/plain": [
       "1129"
      ]
     },
     "execution_count": 51,
     "metadata": {},
     "output_type": "execute_result"
    }
   ],
   "source": [
    "len(km2labels)"
   ]
  },
  {
   "cell_type": "code",
   "execution_count": 52,
   "metadata": {},
   "outputs": [
    {
     "data": {
      "text/plain": [
       "Counter({0: 933, 1: 186, 2: 10})"
      ]
     },
     "execution_count": 52,
     "metadata": {},
     "output_type": "execute_result"
    }
   ],
   "source": [
    "sc3 = SpectralClustering(n_clusters=3)\n",
    "sc3 = sc3.fit(X_train)\n",
    "sc3labels = sc3.labels_\n",
    "\n",
    "Counter(sc3labels)"
   ]
  },
  {
   "cell_type": "code",
   "execution_count": 53,
   "metadata": {},
   "outputs": [
    {
     "data": {
      "text/plain": [
       "Counter({1: 1117, 0: 12})"
      ]
     },
     "execution_count": 53,
     "metadata": {},
     "output_type": "execute_result"
    }
   ],
   "source": [
    "sc2 = SpectralClustering(n_clusters=2)\n",
    "sc2 = sc2.fit(X_train)\n",
    "sc2labels = sc2.labels_\n",
    "\n",
    "Counter(sc2labels)"
   ]
  },
  {
   "cell_type": "code",
   "execution_count": 54,
   "metadata": {},
   "outputs": [],
   "source": [
    "cluster_labels_df[\"km2_clusters\"] = km2labels\n",
    "cluster_labels_df[\"km3_clusters\"] = km3labels\n"
   ]
  },
  {
   "cell_type": "code",
   "execution_count": 55,
   "metadata": {},
   "outputs": [
    {
     "data": {
      "text/html": [
       "<div>\n",
       "<style scoped>\n",
       "    .dataframe tbody tr th:only-of-type {\n",
       "        vertical-align: middle;\n",
       "    }\n",
       "\n",
       "    .dataframe tbody tr th {\n",
       "        vertical-align: top;\n",
       "    }\n",
       "\n",
       "    .dataframe thead th {\n",
       "        text-align: right;\n",
       "    }\n",
       "</style>\n",
       "<table border=\"1\" class=\"dataframe\">\n",
       "  <thead>\n",
       "    <tr style=\"text-align: right;\">\n",
       "      <th></th>\n",
       "      <th>speech_source</th>\n",
       "      <th>km_clusters</th>\n",
       "      <th>ms_clusters</th>\n",
       "      <th>sc_clusters</th>\n",
       "      <th>km2_clusters</th>\n",
       "      <th>km3_clusters</th>\n",
       "    </tr>\n",
       "  </thead>\n",
       "  <tbody>\n",
       "    <tr>\n",
       "      <th>1397</th>\n",
       "      <td>Roosevelt</td>\n",
       "      <td>6</td>\n",
       "      <td>0</td>\n",
       "      <td>8</td>\n",
       "      <td>0</td>\n",
       "      <td>0</td>\n",
       "    </tr>\n",
       "    <tr>\n",
       "      <th>711</th>\n",
       "      <td>McKinley</td>\n",
       "      <td>7</td>\n",
       "      <td>0</td>\n",
       "      <td>8</td>\n",
       "      <td>0</td>\n",
       "      <td>0</td>\n",
       "    </tr>\n",
       "    <tr>\n",
       "      <th>247</th>\n",
       "      <td>Clinton</td>\n",
       "      <td>6</td>\n",
       "      <td>0</td>\n",
       "      <td>8</td>\n",
       "      <td>0</td>\n",
       "      <td>0</td>\n",
       "    </tr>\n",
       "    <tr>\n",
       "      <th>667</th>\n",
       "      <td>McKinley</td>\n",
       "      <td>6</td>\n",
       "      <td>0</td>\n",
       "      <td>8</td>\n",
       "      <td>0</td>\n",
       "      <td>0</td>\n",
       "    </tr>\n",
       "    <tr>\n",
       "      <th>1199</th>\n",
       "      <td>Wilson</td>\n",
       "      <td>6</td>\n",
       "      <td>0</td>\n",
       "      <td>8</td>\n",
       "      <td>0</td>\n",
       "      <td>0</td>\n",
       "    </tr>\n",
       "  </tbody>\n",
       "</table>\n",
       "</div>"
      ],
      "text/plain": [
       "     speech_source  km_clusters  ms_clusters  sc_clusters  km2_clusters  \\\n",
       "1397     Roosevelt            6            0            8             0   \n",
       "711       McKinley            7            0            8             0   \n",
       "247        Clinton            6            0            8             0   \n",
       "667       McKinley            6            0            8             0   \n",
       "1199        Wilson            6            0            8             0   \n",
       "\n",
       "      km3_clusters  \n",
       "1397             0  \n",
       "711              0  \n",
       "247              0  \n",
       "667              0  \n",
       "1199             0  "
      ]
     },
     "execution_count": 55,
     "metadata": {},
     "output_type": "execute_result"
    }
   ],
   "source": [
    "cluster_labels_df.head()"
   ]
  },
  {
   "cell_type": "markdown",
   "metadata": {},
   "source": [
    "### Digging into the different clustering methods (after running with 2 and 3 clusters)"
   ]
  },
  {
   "cell_type": "code",
   "execution_count": 56,
   "metadata": {},
   "outputs": [
    {
     "data": {
      "text/plain": [
       "[('Eisenhower', 53),\n",
       " ('Cleveland', 41),\n",
       " ('McKinley', 40),\n",
       " ('Roosevelt', 23),\n",
       " ('Clinton', 22),\n",
       " ('Reagan', 16),\n",
       " ('Nixon', 12),\n",
       " ('Wilson', 12),\n",
       " ('Garfield', 8),\n",
       " ('Obama', 6)]"
      ]
     },
     "execution_count": 56,
     "metadata": {},
     "output_type": "execute_result"
    }
   ],
   "source": [
    "(Counter(cluster_labels_df[cluster_labels_df[\"km2_clusters\"] == 1][\"speech_source\"])).most_common()"
   ]
  },
  {
   "cell_type": "code",
   "execution_count": 57,
   "metadata": {},
   "outputs": [
    {
     "data": {
      "text/plain": [
       "[('McKinley', 131),\n",
       " ('Clinton', 127),\n",
       " ('Roosevelt', 114),\n",
       " ('Eisenhower', 112),\n",
       " ('Reagan', 84),\n",
       " ('Wilson', 80),\n",
       " ('Garfield', 73),\n",
       " ('Obama', 72),\n",
       " ('Nixon', 64),\n",
       " ('Cleveland', 39)]"
      ]
     },
     "execution_count": 57,
     "metadata": {},
     "output_type": "execute_result"
    }
   ],
   "source": [
    "(Counter(cluster_labels_df[cluster_labels_df[\"km2_clusters\"] == 0][\"speech_source\"])).most_common()"
   ]
  },
  {
   "cell_type": "code",
   "execution_count": 58,
   "metadata": {},
   "outputs": [
    {
     "data": {
      "text/plain": [
       "[('Eisenhower', 47),\n",
       " ('McKinley', 36),\n",
       " ('Cleveland', 34),\n",
       " ('Roosevelt', 19),\n",
       " ('Reagan', 15),\n",
       " ('Clinton', 14),\n",
       " ('Wilson', 10),\n",
       " ('Nixon', 7),\n",
       " ('Garfield', 4),\n",
       " ('Obama', 4)]"
      ]
     },
     "execution_count": 58,
     "metadata": {},
     "output_type": "execute_result"
    }
   ],
   "source": [
    "(Counter(cluster_labels_df[cluster_labels_df[\"km3_clusters\"] == 1][\"speech_source\"])).most_common()\n",
    "\n",
    "#Clinton is chronological outlier here"
   ]
  },
  {
   "cell_type": "markdown",
   "metadata": {},
   "source": [
    "<h1><center>Feature Engineering</center></h1>"
   ]
  },
  {
   "cell_type": "code",
   "execution_count": 94,
   "metadata": {},
   "outputs": [
    {
     "name": "stdout",
     "output_type": "stream",
     "text": [
      "Percent variance captured by all components 67.00289888876132\n"
     ]
    }
   ],
   "source": [
    "from sklearn.decomposition import TruncatedSVD\n",
    "from sklearn.pipeline import make_pipeline\n",
    "from sklearn.preprocessing import Normalizer\n",
    "\n",
    "svd = TruncatedSVD(350)\n",
    "lsa = make_pipeline(svd, Normalizer(copy=False))\n",
    "\n",
    "X_train_lsa = lsa.fit_transform(X_train)\n",
    "\n",
    "variance_explained = svd.explained_variance_ratio_\n",
    "total_variance = variance_explained.sum()\n",
    "\n",
    "print(\"Percent variance captured by all components\", total_variance*100)"
   ]
  },
  {
   "cell_type": "code",
   "execution_count": 95,
   "metadata": {},
   "outputs": [
    {
     "data": {
      "text/plain": [
       "numpy.ndarray"
      ]
     },
     "execution_count": 95,
     "metadata": {},
     "output_type": "execute_result"
    }
   ],
   "source": [
    "type(X_train_lsa)"
   ]
  },
  {
   "cell_type": "code",
   "execution_count": 61,
   "metadata": {},
   "outputs": [],
   "source": [
    "sentences_by_component = pd.DataFrame(X_train_lsa, index=X_train)\n"
   ]
  },
  {
   "cell_type": "code",
   "execution_count": 62,
   "metadata": {},
   "outputs": [
    {
     "data": {
      "text/plain": [
       "numpy.ndarray"
      ]
     },
     "execution_count": 62,
     "metadata": {},
     "output_type": "execute_result"
    }
   ],
   "source": [
    "type(X_train)"
   ]
  },
  {
   "cell_type": "code",
   "execution_count": 63,
   "metadata": {},
   "outputs": [
    {
     "name": "stdout",
     "output_type": "stream",
     "text": [
      "(1129, 2053)\n",
      "(1129, 500)\n"
     ]
    }
   ],
   "source": [
    "print(X_train.shape)\n",
    "print(X_train_lsa.shape)"
   ]
  },
  {
   "cell_type": "markdown",
   "metadata": {},
   "source": [
    "<h1><center>Build Models to Classify Texts By Author</center></h1>"
   ]
  },
  {
   "cell_type": "markdown",
   "metadata": {},
   "source": [
    "### Multi-layer Perceptron"
   ]
  },
  {
   "cell_type": "code",
   "execution_count": 64,
   "metadata": {},
   "outputs": [],
   "source": [
    "from sklearn.neural_network import MLPClassifier\n",
    "\n",
    "mlp = MLPClassifier(hidden_layer_sizes=(1000,))\n"
   ]
  },
  {
   "cell_type": "code",
   "execution_count": 65,
   "metadata": {},
   "outputs": [],
   "source": [
    "mlp = mlp.fit(X_train, y_train)"
   ]
  },
  {
   "cell_type": "code",
   "execution_count": 66,
   "metadata": {},
   "outputs": [
    {
     "name": "stdout",
     "output_type": "stream",
     "text": [
      "MLP Training score:  0.9875996457041629\n"
     ]
    }
   ],
   "source": [
    "print(\"MLP Training score: \", mlp.score(X_train, y_train))"
   ]
  },
  {
   "cell_type": "code",
   "execution_count": 67,
   "metadata": {},
   "outputs": [
    {
     "data": {
      "text/html": [
       "<div>\n",
       "<style scoped>\n",
       "    .dataframe tbody tr th:only-of-type {\n",
       "        vertical-align: middle;\n",
       "    }\n",
       "\n",
       "    .dataframe tbody tr th {\n",
       "        vertical-align: top;\n",
       "    }\n",
       "\n",
       "    .dataframe thead th {\n",
       "        text-align: right;\n",
       "    }\n",
       "</style>\n",
       "<table border=\"1\" class=\"dataframe\">\n",
       "  <thead>\n",
       "    <tr style=\"text-align: right;\">\n",
       "      <th>col_0</th>\n",
       "      <th>Cleveland</th>\n",
       "      <th>Clinton</th>\n",
       "      <th>Eisenhower</th>\n",
       "      <th>Garfield</th>\n",
       "      <th>McKinley</th>\n",
       "      <th>Nixon</th>\n",
       "      <th>Obama</th>\n",
       "      <th>Reagan</th>\n",
       "      <th>Roosevelt</th>\n",
       "      <th>Wilson</th>\n",
       "    </tr>\n",
       "    <tr>\n",
       "      <th>speech_source</th>\n",
       "      <th></th>\n",
       "      <th></th>\n",
       "      <th></th>\n",
       "      <th></th>\n",
       "      <th></th>\n",
       "      <th></th>\n",
       "      <th></th>\n",
       "      <th></th>\n",
       "      <th></th>\n",
       "      <th></th>\n",
       "    </tr>\n",
       "  </thead>\n",
       "  <tbody>\n",
       "    <tr>\n",
       "      <th>Cleveland</th>\n",
       "      <td>5</td>\n",
       "      <td>1</td>\n",
       "      <td>8</td>\n",
       "      <td>0</td>\n",
       "      <td>7</td>\n",
       "      <td>0</td>\n",
       "      <td>0</td>\n",
       "      <td>0</td>\n",
       "      <td>1</td>\n",
       "      <td>0</td>\n",
       "    </tr>\n",
       "    <tr>\n",
       "      <th>Clinton</th>\n",
       "      <td>0</td>\n",
       "      <td>14</td>\n",
       "      <td>1</td>\n",
       "      <td>2</td>\n",
       "      <td>4</td>\n",
       "      <td>0</td>\n",
       "      <td>10</td>\n",
       "      <td>7</td>\n",
       "      <td>2</td>\n",
       "      <td>4</td>\n",
       "    </tr>\n",
       "    <tr>\n",
       "      <th>Eisenhower</th>\n",
       "      <td>8</td>\n",
       "      <td>3</td>\n",
       "      <td>23</td>\n",
       "      <td>1</td>\n",
       "      <td>8</td>\n",
       "      <td>0</td>\n",
       "      <td>4</td>\n",
       "      <td>0</td>\n",
       "      <td>2</td>\n",
       "      <td>1</td>\n",
       "    </tr>\n",
       "    <tr>\n",
       "      <th>Garfield</th>\n",
       "      <td>5</td>\n",
       "      <td>2</td>\n",
       "      <td>5</td>\n",
       "      <td>7</td>\n",
       "      <td>3</td>\n",
       "      <td>2</td>\n",
       "      <td>3</td>\n",
       "      <td>0</td>\n",
       "      <td>1</td>\n",
       "      <td>3</td>\n",
       "    </tr>\n",
       "    <tr>\n",
       "      <th>McKinley</th>\n",
       "      <td>6</td>\n",
       "      <td>3</td>\n",
       "      <td>13</td>\n",
       "      <td>4</td>\n",
       "      <td>20</td>\n",
       "      <td>4</td>\n",
       "      <td>3</td>\n",
       "      <td>3</td>\n",
       "      <td>2</td>\n",
       "      <td>1</td>\n",
       "    </tr>\n",
       "    <tr>\n",
       "      <th>Nixon</th>\n",
       "      <td>0</td>\n",
       "      <td>6</td>\n",
       "      <td>1</td>\n",
       "      <td>2</td>\n",
       "      <td>3</td>\n",
       "      <td>7</td>\n",
       "      <td>2</td>\n",
       "      <td>2</td>\n",
       "      <td>6</td>\n",
       "      <td>1</td>\n",
       "    </tr>\n",
       "    <tr>\n",
       "      <th>Obama</th>\n",
       "      <td>2</td>\n",
       "      <td>10</td>\n",
       "      <td>0</td>\n",
       "      <td>1</td>\n",
       "      <td>6</td>\n",
       "      <td>2</td>\n",
       "      <td>5</td>\n",
       "      <td>2</td>\n",
       "      <td>3</td>\n",
       "      <td>3</td>\n",
       "    </tr>\n",
       "    <tr>\n",
       "      <th>Reagan</th>\n",
       "      <td>1</td>\n",
       "      <td>7</td>\n",
       "      <td>4</td>\n",
       "      <td>1</td>\n",
       "      <td>2</td>\n",
       "      <td>3</td>\n",
       "      <td>3</td>\n",
       "      <td>3</td>\n",
       "      <td>3</td>\n",
       "      <td>0</td>\n",
       "    </tr>\n",
       "    <tr>\n",
       "      <th>Roosevelt</th>\n",
       "      <td>2</td>\n",
       "      <td>2</td>\n",
       "      <td>6</td>\n",
       "      <td>2</td>\n",
       "      <td>5</td>\n",
       "      <td>1</td>\n",
       "      <td>8</td>\n",
       "      <td>1</td>\n",
       "      <td>15</td>\n",
       "      <td>2</td>\n",
       "    </tr>\n",
       "    <tr>\n",
       "      <th>Wilson</th>\n",
       "      <td>1</td>\n",
       "      <td>1</td>\n",
       "      <td>7</td>\n",
       "      <td>2</td>\n",
       "      <td>6</td>\n",
       "      <td>0</td>\n",
       "      <td>5</td>\n",
       "      <td>0</td>\n",
       "      <td>4</td>\n",
       "      <td>10</td>\n",
       "    </tr>\n",
       "  </tbody>\n",
       "</table>\n",
       "</div>"
      ],
      "text/plain": [
       "col_0          Cleveland  Clinton  Eisenhower  Garfield  McKinley  Nixon  \\\n",
       "speech_source                                                              \n",
       "Cleveland              5        1           8         0         7      0   \n",
       "Clinton                0       14           1         2         4      0   \n",
       "Eisenhower             8        3          23         1         8      0   \n",
       "Garfield               5        2           5         7         3      2   \n",
       "McKinley               6        3          13         4        20      4   \n",
       "Nixon                  0        6           1         2         3      7   \n",
       "Obama                  2       10           0         1         6      2   \n",
       "Reagan                 1        7           4         1         2      3   \n",
       "Roosevelt              2        2           6         2         5      1   \n",
       "Wilson                 1        1           7         2         6      0   \n",
       "\n",
       "col_0          Obama  Reagan  Roosevelt  Wilson  \n",
       "speech_source                                    \n",
       "Cleveland          0       0          1       0  \n",
       "Clinton           10       7          2       4  \n",
       "Eisenhower         4       0          2       1  \n",
       "Garfield           3       0          1       3  \n",
       "McKinley           3       3          2       1  \n",
       "Nixon              2       2          6       1  \n",
       "Obama              5       2          3       3  \n",
       "Reagan             3       3          3       0  \n",
       "Roosevelt          8       1         15       2  \n",
       "Wilson             5       0          4      10  "
      ]
     },
     "execution_count": 67,
     "metadata": {},
     "output_type": "execute_result"
    }
   ],
   "source": [
    "mlp_pred = mlp.predict(X_test)\n",
    "\n",
    "pd.crosstab(y_test, mlp_pred)"
   ]
  },
  {
   "cell_type": "code",
   "execution_count": 68,
   "metadata": {},
   "outputs": [
    {
     "name": "stdout",
     "output_type": "stream",
     "text": [
      "MLP Test Score:  0.2891246684350133\n"
     ]
    }
   ],
   "source": [
    "print(\"MLP Test Score: \", mlp.score(X_test, y_test))"
   ]
  },
  {
   "cell_type": "markdown",
   "metadata": {},
   "source": [
    "### k-Nearest Neighbors Classifier\n"
   ]
  },
  {
   "cell_type": "code",
   "execution_count": 69,
   "metadata": {},
   "outputs": [
    {
     "name": "stdout",
     "output_type": "stream",
     "text": [
      "KNN Training Score:  0.9875996457041629\n"
     ]
    }
   ],
   "source": [
    "from sklearn.neighbors import KNeighborsClassifier\n",
    "\n",
    "neighbors = KNeighborsClassifier(weights=\"distance\")\n",
    "neighbors.fit(X_train, y_train)\n",
    "y_pred_train = neighbors.predict(X_train)\n",
    "print(\"KNN Training Score: \", (y_pred_train == y_train).sum() / y_train.shape[0])"
   ]
  },
  {
   "cell_type": "code",
   "execution_count": 70,
   "metadata": {},
   "outputs": [
    {
     "data": {
      "text/html": [
       "<div>\n",
       "<style scoped>\n",
       "    .dataframe tbody tr th:only-of-type {\n",
       "        vertical-align: middle;\n",
       "    }\n",
       "\n",
       "    .dataframe tbody tr th {\n",
       "        vertical-align: top;\n",
       "    }\n",
       "\n",
       "    .dataframe thead th {\n",
       "        text-align: right;\n",
       "    }\n",
       "</style>\n",
       "<table border=\"1\" class=\"dataframe\">\n",
       "  <thead>\n",
       "    <tr style=\"text-align: right;\">\n",
       "      <th>col_0</th>\n",
       "      <th>Cleveland</th>\n",
       "      <th>Clinton</th>\n",
       "      <th>Eisenhower</th>\n",
       "      <th>Garfield</th>\n",
       "      <th>McKinley</th>\n",
       "      <th>Nixon</th>\n",
       "      <th>Obama</th>\n",
       "      <th>Reagan</th>\n",
       "      <th>Roosevelt</th>\n",
       "      <th>Wilson</th>\n",
       "    </tr>\n",
       "    <tr>\n",
       "      <th>speech_source</th>\n",
       "      <th></th>\n",
       "      <th></th>\n",
       "      <th></th>\n",
       "      <th></th>\n",
       "      <th></th>\n",
       "      <th></th>\n",
       "      <th></th>\n",
       "      <th></th>\n",
       "      <th></th>\n",
       "      <th></th>\n",
       "    </tr>\n",
       "  </thead>\n",
       "  <tbody>\n",
       "    <tr>\n",
       "      <th>Cleveland</th>\n",
       "      <td>5</td>\n",
       "      <td>1</td>\n",
       "      <td>8</td>\n",
       "      <td>0</td>\n",
       "      <td>7</td>\n",
       "      <td>0</td>\n",
       "      <td>0</td>\n",
       "      <td>0</td>\n",
       "      <td>1</td>\n",
       "      <td>0</td>\n",
       "    </tr>\n",
       "    <tr>\n",
       "      <th>Clinton</th>\n",
       "      <td>0</td>\n",
       "      <td>14</td>\n",
       "      <td>1</td>\n",
       "      <td>2</td>\n",
       "      <td>4</td>\n",
       "      <td>0</td>\n",
       "      <td>10</td>\n",
       "      <td>7</td>\n",
       "      <td>2</td>\n",
       "      <td>4</td>\n",
       "    </tr>\n",
       "    <tr>\n",
       "      <th>Eisenhower</th>\n",
       "      <td>8</td>\n",
       "      <td>3</td>\n",
       "      <td>23</td>\n",
       "      <td>1</td>\n",
       "      <td>8</td>\n",
       "      <td>0</td>\n",
       "      <td>4</td>\n",
       "      <td>0</td>\n",
       "      <td>2</td>\n",
       "      <td>1</td>\n",
       "    </tr>\n",
       "    <tr>\n",
       "      <th>Garfield</th>\n",
       "      <td>5</td>\n",
       "      <td>2</td>\n",
       "      <td>5</td>\n",
       "      <td>7</td>\n",
       "      <td>3</td>\n",
       "      <td>2</td>\n",
       "      <td>3</td>\n",
       "      <td>0</td>\n",
       "      <td>1</td>\n",
       "      <td>3</td>\n",
       "    </tr>\n",
       "    <tr>\n",
       "      <th>McKinley</th>\n",
       "      <td>6</td>\n",
       "      <td>3</td>\n",
       "      <td>13</td>\n",
       "      <td>4</td>\n",
       "      <td>20</td>\n",
       "      <td>4</td>\n",
       "      <td>3</td>\n",
       "      <td>3</td>\n",
       "      <td>2</td>\n",
       "      <td>1</td>\n",
       "    </tr>\n",
       "    <tr>\n",
       "      <th>Nixon</th>\n",
       "      <td>0</td>\n",
       "      <td>6</td>\n",
       "      <td>1</td>\n",
       "      <td>2</td>\n",
       "      <td>3</td>\n",
       "      <td>7</td>\n",
       "      <td>2</td>\n",
       "      <td>2</td>\n",
       "      <td>6</td>\n",
       "      <td>1</td>\n",
       "    </tr>\n",
       "    <tr>\n",
       "      <th>Obama</th>\n",
       "      <td>2</td>\n",
       "      <td>10</td>\n",
       "      <td>0</td>\n",
       "      <td>1</td>\n",
       "      <td>6</td>\n",
       "      <td>2</td>\n",
       "      <td>5</td>\n",
       "      <td>2</td>\n",
       "      <td>3</td>\n",
       "      <td>3</td>\n",
       "    </tr>\n",
       "    <tr>\n",
       "      <th>Reagan</th>\n",
       "      <td>1</td>\n",
       "      <td>7</td>\n",
       "      <td>4</td>\n",
       "      <td>1</td>\n",
       "      <td>2</td>\n",
       "      <td>3</td>\n",
       "      <td>3</td>\n",
       "      <td>3</td>\n",
       "      <td>3</td>\n",
       "      <td>0</td>\n",
       "    </tr>\n",
       "    <tr>\n",
       "      <th>Roosevelt</th>\n",
       "      <td>2</td>\n",
       "      <td>2</td>\n",
       "      <td>6</td>\n",
       "      <td>2</td>\n",
       "      <td>5</td>\n",
       "      <td>1</td>\n",
       "      <td>8</td>\n",
       "      <td>1</td>\n",
       "      <td>15</td>\n",
       "      <td>2</td>\n",
       "    </tr>\n",
       "    <tr>\n",
       "      <th>Wilson</th>\n",
       "      <td>1</td>\n",
       "      <td>1</td>\n",
       "      <td>7</td>\n",
       "      <td>2</td>\n",
       "      <td>6</td>\n",
       "      <td>0</td>\n",
       "      <td>5</td>\n",
       "      <td>0</td>\n",
       "      <td>4</td>\n",
       "      <td>10</td>\n",
       "    </tr>\n",
       "  </tbody>\n",
       "</table>\n",
       "</div>"
      ],
      "text/plain": [
       "col_0          Cleveland  Clinton  Eisenhower  Garfield  McKinley  Nixon  \\\n",
       "speech_source                                                              \n",
       "Cleveland              5        1           8         0         7      0   \n",
       "Clinton                0       14           1         2         4      0   \n",
       "Eisenhower             8        3          23         1         8      0   \n",
       "Garfield               5        2           5         7         3      2   \n",
       "McKinley               6        3          13         4        20      4   \n",
       "Nixon                  0        6           1         2         3      7   \n",
       "Obama                  2       10           0         1         6      2   \n",
       "Reagan                 1        7           4         1         2      3   \n",
       "Roosevelt              2        2           6         2         5      1   \n",
       "Wilson                 1        1           7         2         6      0   \n",
       "\n",
       "col_0          Obama  Reagan  Roosevelt  Wilson  \n",
       "speech_source                                    \n",
       "Cleveland          0       0          1       0  \n",
       "Clinton           10       7          2       4  \n",
       "Eisenhower         4       0          2       1  \n",
       "Garfield           3       0          1       3  \n",
       "McKinley           3       3          2       1  \n",
       "Nixon              2       2          6       1  \n",
       "Obama              5       2          3       3  \n",
       "Reagan             3       3          3       0  \n",
       "Roosevelt          8       1         15       2  \n",
       "Wilson             5       0          4      10  "
      ]
     },
     "execution_count": 70,
     "metadata": {},
     "output_type": "execute_result"
    }
   ],
   "source": [
    "knn_pred = mlp.predict(X_test)\n",
    "\n",
    "pd.crosstab(y_test, knn_pred)"
   ]
  },
  {
   "cell_type": "code",
   "execution_count": 71,
   "metadata": {},
   "outputs": [
    {
     "name": "stdout",
     "output_type": "stream",
     "text": [
      "KNN Test Score:  0.10079575596816977\n"
     ]
    }
   ],
   "source": [
    "print(\"KNN Test Score: \", neighbors.score(X_test, y_test))"
   ]
  },
  {
   "cell_type": "markdown",
   "metadata": {},
   "source": [
    "### Logistic Regression"
   ]
  },
  {
   "cell_type": "code",
   "execution_count": 72,
   "metadata": {},
   "outputs": [
    {
     "name": "stdout",
     "output_type": "stream",
     "text": [
      "Logistic Regression Training Score:  0.9193976970770593\n"
     ]
    }
   ],
   "source": [
    "from sklearn.linear_model import LogisticRegression\n",
    "\n",
    "logist = LogisticRegression(fit_intercept=False, C=1)\n",
    "logist.fit(X_train, y_train)\n",
    "\n",
    "print(\"Logistic Regression Training Score: \", logist.score(X_train, y_train))"
   ]
  },
  {
   "cell_type": "code",
   "execution_count": 73,
   "metadata": {},
   "outputs": [
    {
     "data": {
      "text/html": [
       "<div>\n",
       "<style scoped>\n",
       "    .dataframe tbody tr th:only-of-type {\n",
       "        vertical-align: middle;\n",
       "    }\n",
       "\n",
       "    .dataframe tbody tr th {\n",
       "        vertical-align: top;\n",
       "    }\n",
       "\n",
       "    .dataframe thead th {\n",
       "        text-align: right;\n",
       "    }\n",
       "</style>\n",
       "<table border=\"1\" class=\"dataframe\">\n",
       "  <thead>\n",
       "    <tr style=\"text-align: right;\">\n",
       "      <th>col_0</th>\n",
       "      <th>Cleveland</th>\n",
       "      <th>Clinton</th>\n",
       "      <th>Eisenhower</th>\n",
       "      <th>Garfield</th>\n",
       "      <th>McKinley</th>\n",
       "      <th>Nixon</th>\n",
       "      <th>Obama</th>\n",
       "      <th>Reagan</th>\n",
       "      <th>Roosevelt</th>\n",
       "      <th>Wilson</th>\n",
       "    </tr>\n",
       "    <tr>\n",
       "      <th>speech_source</th>\n",
       "      <th></th>\n",
       "      <th></th>\n",
       "      <th></th>\n",
       "      <th></th>\n",
       "      <th></th>\n",
       "      <th></th>\n",
       "      <th></th>\n",
       "      <th></th>\n",
       "      <th></th>\n",
       "      <th></th>\n",
       "    </tr>\n",
       "  </thead>\n",
       "  <tbody>\n",
       "    <tr>\n",
       "      <th>Cleveland</th>\n",
       "      <td>6</td>\n",
       "      <td>2</td>\n",
       "      <td>6</td>\n",
       "      <td>0</td>\n",
       "      <td>8</td>\n",
       "      <td>0</td>\n",
       "      <td>0</td>\n",
       "      <td>0</td>\n",
       "      <td>0</td>\n",
       "      <td>0</td>\n",
       "    </tr>\n",
       "    <tr>\n",
       "      <th>Clinton</th>\n",
       "      <td>1</td>\n",
       "      <td>25</td>\n",
       "      <td>0</td>\n",
       "      <td>1</td>\n",
       "      <td>6</td>\n",
       "      <td>2</td>\n",
       "      <td>2</td>\n",
       "      <td>2</td>\n",
       "      <td>1</td>\n",
       "      <td>4</td>\n",
       "    </tr>\n",
       "    <tr>\n",
       "      <th>Eisenhower</th>\n",
       "      <td>3</td>\n",
       "      <td>3</td>\n",
       "      <td>27</td>\n",
       "      <td>1</td>\n",
       "      <td>8</td>\n",
       "      <td>0</td>\n",
       "      <td>0</td>\n",
       "      <td>0</td>\n",
       "      <td>5</td>\n",
       "      <td>3</td>\n",
       "    </tr>\n",
       "    <tr>\n",
       "      <th>Garfield</th>\n",
       "      <td>2</td>\n",
       "      <td>4</td>\n",
       "      <td>3</td>\n",
       "      <td>4</td>\n",
       "      <td>7</td>\n",
       "      <td>3</td>\n",
       "      <td>2</td>\n",
       "      <td>2</td>\n",
       "      <td>2</td>\n",
       "      <td>2</td>\n",
       "    </tr>\n",
       "    <tr>\n",
       "      <th>McKinley</th>\n",
       "      <td>3</td>\n",
       "      <td>6</td>\n",
       "      <td>13</td>\n",
       "      <td>2</td>\n",
       "      <td>27</td>\n",
       "      <td>1</td>\n",
       "      <td>2</td>\n",
       "      <td>3</td>\n",
       "      <td>2</td>\n",
       "      <td>0</td>\n",
       "    </tr>\n",
       "    <tr>\n",
       "      <th>Nixon</th>\n",
       "      <td>0</td>\n",
       "      <td>11</td>\n",
       "      <td>2</td>\n",
       "      <td>1</td>\n",
       "      <td>3</td>\n",
       "      <td>5</td>\n",
       "      <td>0</td>\n",
       "      <td>2</td>\n",
       "      <td>6</td>\n",
       "      <td>0</td>\n",
       "    </tr>\n",
       "    <tr>\n",
       "      <th>Obama</th>\n",
       "      <td>3</td>\n",
       "      <td>14</td>\n",
       "      <td>0</td>\n",
       "      <td>0</td>\n",
       "      <td>6</td>\n",
       "      <td>4</td>\n",
       "      <td>2</td>\n",
       "      <td>0</td>\n",
       "      <td>3</td>\n",
       "      <td>2</td>\n",
       "    </tr>\n",
       "    <tr>\n",
       "      <th>Reagan</th>\n",
       "      <td>2</td>\n",
       "      <td>7</td>\n",
       "      <td>4</td>\n",
       "      <td>2</td>\n",
       "      <td>2</td>\n",
       "      <td>3</td>\n",
       "      <td>0</td>\n",
       "      <td>3</td>\n",
       "      <td>4</td>\n",
       "      <td>0</td>\n",
       "    </tr>\n",
       "    <tr>\n",
       "      <th>Roosevelt</th>\n",
       "      <td>0</td>\n",
       "      <td>2</td>\n",
       "      <td>7</td>\n",
       "      <td>2</td>\n",
       "      <td>6</td>\n",
       "      <td>0</td>\n",
       "      <td>7</td>\n",
       "      <td>2</td>\n",
       "      <td>16</td>\n",
       "      <td>2</td>\n",
       "    </tr>\n",
       "    <tr>\n",
       "      <th>Wilson</th>\n",
       "      <td>1</td>\n",
       "      <td>5</td>\n",
       "      <td>6</td>\n",
       "      <td>2</td>\n",
       "      <td>6</td>\n",
       "      <td>0</td>\n",
       "      <td>0</td>\n",
       "      <td>0</td>\n",
       "      <td>3</td>\n",
       "      <td>13</td>\n",
       "    </tr>\n",
       "  </tbody>\n",
       "</table>\n",
       "</div>"
      ],
      "text/plain": [
       "col_0          Cleveland  Clinton  Eisenhower  Garfield  McKinley  Nixon  \\\n",
       "speech_source                                                              \n",
       "Cleveland              6        2           6         0         8      0   \n",
       "Clinton                1       25           0         1         6      2   \n",
       "Eisenhower             3        3          27         1         8      0   \n",
       "Garfield               2        4           3         4         7      3   \n",
       "McKinley               3        6          13         2        27      1   \n",
       "Nixon                  0       11           2         1         3      5   \n",
       "Obama                  3       14           0         0         6      4   \n",
       "Reagan                 2        7           4         2         2      3   \n",
       "Roosevelt              0        2           7         2         6      0   \n",
       "Wilson                 1        5           6         2         6      0   \n",
       "\n",
       "col_0          Obama  Reagan  Roosevelt  Wilson  \n",
       "speech_source                                    \n",
       "Cleveland          0       0          0       0  \n",
       "Clinton            2       2          1       4  \n",
       "Eisenhower         0       0          5       3  \n",
       "Garfield           2       2          2       2  \n",
       "McKinley           2       3          2       0  \n",
       "Nixon              0       2          6       0  \n",
       "Obama              2       0          3       2  \n",
       "Reagan             0       3          4       0  \n",
       "Roosevelt          7       2         16       2  \n",
       "Wilson             0       0          3      13  "
      ]
     },
     "execution_count": 73,
     "metadata": {},
     "output_type": "execute_result"
    }
   ],
   "source": [
    "logist_pred = logist.predict(X_test)\n",
    "\n",
    "pd.crosstab(y_test, logist_pred)"
   ]
  },
  {
   "cell_type": "code",
   "execution_count": 74,
   "metadata": {},
   "outputs": [
    {
     "name": "stdout",
     "output_type": "stream",
     "text": [
      "Logistic Regression Test Score:  0.3395225464190981\n"
     ]
    }
   ],
   "source": [
    "print(\"Logistic Regression Test Score: \", logist.score(X_test, y_test))"
   ]
  },
  {
   "cell_type": "markdown",
   "metadata": {},
   "source": [
    "### Lasso Regression"
   ]
  },
  {
   "cell_type": "code",
   "execution_count": 75,
   "metadata": {},
   "outputs": [
    {
     "name": "stdout",
     "output_type": "stream",
     "text": [
      "0.02 0.9840566873339238\n",
      "0.05 0.9840566873339238\n",
      "0.1 0.9822852081488043\n",
      "0.15 0.9769707705934455\n",
      "0.25 0.9503985828166519\n",
      "0.35 0.8565101860053145\n",
      "0.5 0.6882196634189548\n",
      "0.55 0.6403897254207263\n",
      "0.65 0.566873339238264\n",
      "0.75 0.4995571302037201\n",
      "0.95 0.41895482728077943\n",
      "1 0.4003542958370239\n",
      "1.1 0.37643932683790965\n"
     ]
    }
   ],
   "source": [
    "lambdas = [.02, .05, .10, .15, .25, .35, .5, .55, .65, .75, .95, 1, 1.1]\n",
    "\n",
    "\n",
    "for lam in lambdas:\n",
    "    lass = LogisticRegression(C=1/lam, fit_intercept=False, penalty=\"l1\")\n",
    "    lass.fit(X_train, y_train)\n",
    "    print(lam, lass.score(X_train, y_train))"
   ]
  },
  {
   "cell_type": "code",
   "execution_count": 76,
   "metadata": {},
   "outputs": [
    {
     "name": "stdout",
     "output_type": "stream",
     "text": [
      "Lasso Regression Training Score:  0.9840566873339238\n"
     ]
    }
   ],
   "source": [
    "lass = LogisticRegression(fit_intercept=False, penalty=\"l1\", C=1/.05)\n",
    "lass.fit(X_train, y_train)\n",
    "\n",
    "print(\"Lasso Regression Training Score: \", lass.score(X_train, y_train))"
   ]
  },
  {
   "cell_type": "code",
   "execution_count": 77,
   "metadata": {},
   "outputs": [
    {
     "data": {
      "text/html": [
       "<div>\n",
       "<style scoped>\n",
       "    .dataframe tbody tr th:only-of-type {\n",
       "        vertical-align: middle;\n",
       "    }\n",
       "\n",
       "    .dataframe tbody tr th {\n",
       "        vertical-align: top;\n",
       "    }\n",
       "\n",
       "    .dataframe thead th {\n",
       "        text-align: right;\n",
       "    }\n",
       "</style>\n",
       "<table border=\"1\" class=\"dataframe\">\n",
       "  <thead>\n",
       "    <tr style=\"text-align: right;\">\n",
       "      <th>col_0</th>\n",
       "      <th>Cleveland</th>\n",
       "      <th>Clinton</th>\n",
       "      <th>Eisenhower</th>\n",
       "      <th>Garfield</th>\n",
       "      <th>McKinley</th>\n",
       "      <th>Nixon</th>\n",
       "      <th>Obama</th>\n",
       "      <th>Reagan</th>\n",
       "      <th>Roosevelt</th>\n",
       "      <th>Wilson</th>\n",
       "    </tr>\n",
       "    <tr>\n",
       "      <th>speech_source</th>\n",
       "      <th></th>\n",
       "      <th></th>\n",
       "      <th></th>\n",
       "      <th></th>\n",
       "      <th></th>\n",
       "      <th></th>\n",
       "      <th></th>\n",
       "      <th></th>\n",
       "      <th></th>\n",
       "      <th></th>\n",
       "    </tr>\n",
       "  </thead>\n",
       "  <tbody>\n",
       "    <tr>\n",
       "      <th>Cleveland</th>\n",
       "      <td>5</td>\n",
       "      <td>2</td>\n",
       "      <td>4</td>\n",
       "      <td>1</td>\n",
       "      <td>5</td>\n",
       "      <td>1</td>\n",
       "      <td>1</td>\n",
       "      <td>0</td>\n",
       "      <td>2</td>\n",
       "      <td>1</td>\n",
       "    </tr>\n",
       "    <tr>\n",
       "      <th>Clinton</th>\n",
       "      <td>1</td>\n",
       "      <td>13</td>\n",
       "      <td>0</td>\n",
       "      <td>2</td>\n",
       "      <td>5</td>\n",
       "      <td>3</td>\n",
       "      <td>9</td>\n",
       "      <td>6</td>\n",
       "      <td>1</td>\n",
       "      <td>4</td>\n",
       "    </tr>\n",
       "    <tr>\n",
       "      <th>Eisenhower</th>\n",
       "      <td>8</td>\n",
       "      <td>2</td>\n",
       "      <td>19</td>\n",
       "      <td>1</td>\n",
       "      <td>10</td>\n",
       "      <td>1</td>\n",
       "      <td>0</td>\n",
       "      <td>1</td>\n",
       "      <td>6</td>\n",
       "      <td>2</td>\n",
       "    </tr>\n",
       "    <tr>\n",
       "      <th>Garfield</th>\n",
       "      <td>1</td>\n",
       "      <td>6</td>\n",
       "      <td>2</td>\n",
       "      <td>2</td>\n",
       "      <td>6</td>\n",
       "      <td>5</td>\n",
       "      <td>3</td>\n",
       "      <td>3</td>\n",
       "      <td>1</td>\n",
       "      <td>2</td>\n",
       "    </tr>\n",
       "    <tr>\n",
       "      <th>McKinley</th>\n",
       "      <td>7</td>\n",
       "      <td>4</td>\n",
       "      <td>11</td>\n",
       "      <td>2</td>\n",
       "      <td>20</td>\n",
       "      <td>7</td>\n",
       "      <td>3</td>\n",
       "      <td>2</td>\n",
       "      <td>2</td>\n",
       "      <td>1</td>\n",
       "    </tr>\n",
       "    <tr>\n",
       "      <th>Nixon</th>\n",
       "      <td>2</td>\n",
       "      <td>7</td>\n",
       "      <td>2</td>\n",
       "      <td>2</td>\n",
       "      <td>3</td>\n",
       "      <td>8</td>\n",
       "      <td>1</td>\n",
       "      <td>0</td>\n",
       "      <td>3</td>\n",
       "      <td>2</td>\n",
       "    </tr>\n",
       "    <tr>\n",
       "      <th>Obama</th>\n",
       "      <td>4</td>\n",
       "      <td>8</td>\n",
       "      <td>0</td>\n",
       "      <td>3</td>\n",
       "      <td>3</td>\n",
       "      <td>5</td>\n",
       "      <td>3</td>\n",
       "      <td>2</td>\n",
       "      <td>4</td>\n",
       "      <td>2</td>\n",
       "    </tr>\n",
       "    <tr>\n",
       "      <th>Reagan</th>\n",
       "      <td>1</td>\n",
       "      <td>6</td>\n",
       "      <td>3</td>\n",
       "      <td>2</td>\n",
       "      <td>3</td>\n",
       "      <td>4</td>\n",
       "      <td>1</td>\n",
       "      <td>6</td>\n",
       "      <td>1</td>\n",
       "      <td>0</td>\n",
       "    </tr>\n",
       "    <tr>\n",
       "      <th>Roosevelt</th>\n",
       "      <td>0</td>\n",
       "      <td>1</td>\n",
       "      <td>3</td>\n",
       "      <td>3</td>\n",
       "      <td>7</td>\n",
       "      <td>1</td>\n",
       "      <td>3</td>\n",
       "      <td>5</td>\n",
       "      <td>15</td>\n",
       "      <td>6</td>\n",
       "    </tr>\n",
       "    <tr>\n",
       "      <th>Wilson</th>\n",
       "      <td>3</td>\n",
       "      <td>3</td>\n",
       "      <td>3</td>\n",
       "      <td>2</td>\n",
       "      <td>3</td>\n",
       "      <td>2</td>\n",
       "      <td>1</td>\n",
       "      <td>0</td>\n",
       "      <td>5</td>\n",
       "      <td>14</td>\n",
       "    </tr>\n",
       "  </tbody>\n",
       "</table>\n",
       "</div>"
      ],
      "text/plain": [
       "col_0          Cleveland  Clinton  Eisenhower  Garfield  McKinley  Nixon  \\\n",
       "speech_source                                                              \n",
       "Cleveland              5        2           4         1         5      1   \n",
       "Clinton                1       13           0         2         5      3   \n",
       "Eisenhower             8        2          19         1        10      1   \n",
       "Garfield               1        6           2         2         6      5   \n",
       "McKinley               7        4          11         2        20      7   \n",
       "Nixon                  2        7           2         2         3      8   \n",
       "Obama                  4        8           0         3         3      5   \n",
       "Reagan                 1        6           3         2         3      4   \n",
       "Roosevelt              0        1           3         3         7      1   \n",
       "Wilson                 3        3           3         2         3      2   \n",
       "\n",
       "col_0          Obama  Reagan  Roosevelt  Wilson  \n",
       "speech_source                                    \n",
       "Cleveland          1       0          2       1  \n",
       "Clinton            9       6          1       4  \n",
       "Eisenhower         0       1          6       2  \n",
       "Garfield           3       3          1       2  \n",
       "McKinley           3       2          2       1  \n",
       "Nixon              1       0          3       2  \n",
       "Obama              3       2          4       2  \n",
       "Reagan             1       6          1       0  \n",
       "Roosevelt          3       5         15       6  \n",
       "Wilson             1       0          5      14  "
      ]
     },
     "execution_count": 77,
     "metadata": {},
     "output_type": "execute_result"
    }
   ],
   "source": [
    "lass_pred = lass.predict(X_test)\n",
    "\n",
    "pd.crosstab(y_test, lass_pred)"
   ]
  },
  {
   "cell_type": "code",
   "execution_count": 91,
   "metadata": {},
   "outputs": [
    {
     "name": "stdout",
     "output_type": "stream",
     "text": [
      "Lasso Regression Test Score:  0.27586206896551724\n"
     ]
    }
   ],
   "source": [
    "print(\"Lasso Regression Test Score: \", lass.score(X_test, y_test))"
   ]
  },
  {
   "cell_type": "markdown",
   "metadata": {},
   "source": [
    "### Random Forest"
   ]
  },
  {
   "cell_type": "code",
   "execution_count": 81,
   "metadata": {},
   "outputs": [
    {
     "name": "stdout",
     "output_type": "stream",
     "text": [
      "Random Forest Training Score:  0.9813994685562445\n"
     ]
    }
   ],
   "source": [
    "from sklearn import ensemble\n",
    "from sklearn.model_selection import cross_val_score\n",
    "\n",
    "rfc = ensemble.RandomForestClassifier()\n",
    "\n",
    "rfc.fit(X_train, y_train)\n",
    "print(\"Random Forest Training Score: \", rfc.score(X_train, y_train))"
   ]
  },
  {
   "cell_type": "code",
   "execution_count": 82,
   "metadata": {},
   "outputs": [
    {
     "data": {
      "text/html": [
       "<div>\n",
       "<style scoped>\n",
       "    .dataframe tbody tr th:only-of-type {\n",
       "        vertical-align: middle;\n",
       "    }\n",
       "\n",
       "    .dataframe tbody tr th {\n",
       "        vertical-align: top;\n",
       "    }\n",
       "\n",
       "    .dataframe thead th {\n",
       "        text-align: right;\n",
       "    }\n",
       "</style>\n",
       "<table border=\"1\" class=\"dataframe\">\n",
       "  <thead>\n",
       "    <tr style=\"text-align: right;\">\n",
       "      <th>col_0</th>\n",
       "      <th>Cleveland</th>\n",
       "      <th>Clinton</th>\n",
       "      <th>Eisenhower</th>\n",
       "      <th>Garfield</th>\n",
       "      <th>McKinley</th>\n",
       "      <th>Nixon</th>\n",
       "      <th>Obama</th>\n",
       "      <th>Reagan</th>\n",
       "      <th>Roosevelt</th>\n",
       "      <th>Wilson</th>\n",
       "    </tr>\n",
       "    <tr>\n",
       "      <th>speech_source</th>\n",
       "      <th></th>\n",
       "      <th></th>\n",
       "      <th></th>\n",
       "      <th></th>\n",
       "      <th></th>\n",
       "      <th></th>\n",
       "      <th></th>\n",
       "      <th></th>\n",
       "      <th></th>\n",
       "      <th></th>\n",
       "    </tr>\n",
       "  </thead>\n",
       "  <tbody>\n",
       "    <tr>\n",
       "      <th>Cleveland</th>\n",
       "      <td>4</td>\n",
       "      <td>2</td>\n",
       "      <td>8</td>\n",
       "      <td>0</td>\n",
       "      <td>4</td>\n",
       "      <td>0</td>\n",
       "      <td>0</td>\n",
       "      <td>0</td>\n",
       "      <td>3</td>\n",
       "      <td>1</td>\n",
       "    </tr>\n",
       "    <tr>\n",
       "      <th>Clinton</th>\n",
       "      <td>2</td>\n",
       "      <td>16</td>\n",
       "      <td>1</td>\n",
       "      <td>1</td>\n",
       "      <td>7</td>\n",
       "      <td>3</td>\n",
       "      <td>4</td>\n",
       "      <td>5</td>\n",
       "      <td>2</td>\n",
       "      <td>3</td>\n",
       "    </tr>\n",
       "    <tr>\n",
       "      <th>Eisenhower</th>\n",
       "      <td>3</td>\n",
       "      <td>2</td>\n",
       "      <td>23</td>\n",
       "      <td>1</td>\n",
       "      <td>13</td>\n",
       "      <td>0</td>\n",
       "      <td>0</td>\n",
       "      <td>1</td>\n",
       "      <td>5</td>\n",
       "      <td>2</td>\n",
       "    </tr>\n",
       "    <tr>\n",
       "      <th>Garfield</th>\n",
       "      <td>3</td>\n",
       "      <td>8</td>\n",
       "      <td>7</td>\n",
       "      <td>4</td>\n",
       "      <td>4</td>\n",
       "      <td>0</td>\n",
       "      <td>0</td>\n",
       "      <td>2</td>\n",
       "      <td>2</td>\n",
       "      <td>1</td>\n",
       "    </tr>\n",
       "    <tr>\n",
       "      <th>McKinley</th>\n",
       "      <td>3</td>\n",
       "      <td>6</td>\n",
       "      <td>17</td>\n",
       "      <td>5</td>\n",
       "      <td>12</td>\n",
       "      <td>3</td>\n",
       "      <td>3</td>\n",
       "      <td>4</td>\n",
       "      <td>3</td>\n",
       "      <td>3</td>\n",
       "    </tr>\n",
       "    <tr>\n",
       "      <th>Nixon</th>\n",
       "      <td>0</td>\n",
       "      <td>10</td>\n",
       "      <td>1</td>\n",
       "      <td>1</td>\n",
       "      <td>2</td>\n",
       "      <td>3</td>\n",
       "      <td>4</td>\n",
       "      <td>0</td>\n",
       "      <td>5</td>\n",
       "      <td>4</td>\n",
       "    </tr>\n",
       "    <tr>\n",
       "      <th>Obama</th>\n",
       "      <td>1</td>\n",
       "      <td>11</td>\n",
       "      <td>8</td>\n",
       "      <td>1</td>\n",
       "      <td>2</td>\n",
       "      <td>3</td>\n",
       "      <td>3</td>\n",
       "      <td>1</td>\n",
       "      <td>2</td>\n",
       "      <td>2</td>\n",
       "    </tr>\n",
       "    <tr>\n",
       "      <th>Reagan</th>\n",
       "      <td>3</td>\n",
       "      <td>7</td>\n",
       "      <td>6</td>\n",
       "      <td>2</td>\n",
       "      <td>2</td>\n",
       "      <td>2</td>\n",
       "      <td>0</td>\n",
       "      <td>3</td>\n",
       "      <td>2</td>\n",
       "      <td>0</td>\n",
       "    </tr>\n",
       "    <tr>\n",
       "      <th>Roosevelt</th>\n",
       "      <td>1</td>\n",
       "      <td>6</td>\n",
       "      <td>7</td>\n",
       "      <td>3</td>\n",
       "      <td>5</td>\n",
       "      <td>0</td>\n",
       "      <td>5</td>\n",
       "      <td>3</td>\n",
       "      <td>11</td>\n",
       "      <td>3</td>\n",
       "    </tr>\n",
       "    <tr>\n",
       "      <th>Wilson</th>\n",
       "      <td>2</td>\n",
       "      <td>9</td>\n",
       "      <td>9</td>\n",
       "      <td>1</td>\n",
       "      <td>3</td>\n",
       "      <td>1</td>\n",
       "      <td>1</td>\n",
       "      <td>2</td>\n",
       "      <td>2</td>\n",
       "      <td>6</td>\n",
       "    </tr>\n",
       "  </tbody>\n",
       "</table>\n",
       "</div>"
      ],
      "text/plain": [
       "col_0          Cleveland  Clinton  Eisenhower  Garfield  McKinley  Nixon  \\\n",
       "speech_source                                                              \n",
       "Cleveland              4        2           8         0         4      0   \n",
       "Clinton                2       16           1         1         7      3   \n",
       "Eisenhower             3        2          23         1        13      0   \n",
       "Garfield               3        8           7         4         4      0   \n",
       "McKinley               3        6          17         5        12      3   \n",
       "Nixon                  0       10           1         1         2      3   \n",
       "Obama                  1       11           8         1         2      3   \n",
       "Reagan                 3        7           6         2         2      2   \n",
       "Roosevelt              1        6           7         3         5      0   \n",
       "Wilson                 2        9           9         1         3      1   \n",
       "\n",
       "col_0          Obama  Reagan  Roosevelt  Wilson  \n",
       "speech_source                                    \n",
       "Cleveland          0       0          3       1  \n",
       "Clinton            4       5          2       3  \n",
       "Eisenhower         0       1          5       2  \n",
       "Garfield           0       2          2       1  \n",
       "McKinley           3       4          3       3  \n",
       "Nixon              4       0          5       4  \n",
       "Obama              3       1          2       2  \n",
       "Reagan             0       3          2       0  \n",
       "Roosevelt          5       3         11       3  \n",
       "Wilson             1       2          2       6  "
      ]
     },
     "execution_count": 82,
     "metadata": {},
     "output_type": "execute_result"
    }
   ],
   "source": [
    "rfc_pred = rfc.predict(X_test)\n",
    "\n",
    "pd.crosstab(y_test, rfc_pred)"
   ]
  },
  {
   "cell_type": "code",
   "execution_count": 83,
   "metadata": {},
   "outputs": [
    {
     "name": "stdout",
     "output_type": "stream",
     "text": [
      "Random Forest Test Score:  0.22546419098143236\n"
     ]
    }
   ],
   "source": [
    "print(\"Random Forest Test Score: \", rfc.score(X_test, y_test))"
   ]
  },
  {
   "cell_type": "markdown",
   "metadata": {},
   "source": [
    "### Improving Accuracy of Logistic/Ridge Regression Model"
   ]
  },
  {
   "cell_type": "code",
   "execution_count": 96,
   "metadata": {},
   "outputs": [],
   "source": [
    "svd = TruncatedSVD(350)\n",
    "lsa = make_pipeline(svd, Normalizer(copy=False))\n",
    "\n",
    "X_test_lsa = lsa.fit_transform(X_test)"
   ]
  },
  {
   "cell_type": "code",
   "execution_count": 97,
   "metadata": {},
   "outputs": [
    {
     "data": {
      "text/plain": [
       "(377, 350)"
      ]
     },
     "execution_count": 97,
     "metadata": {},
     "output_type": "execute_result"
    }
   ],
   "source": [
    "X_test_lsa.shape"
   ]
  },
  {
   "cell_type": "code",
   "execution_count": 100,
   "metadata": {},
   "outputs": [
    {
     "name": "stdout",
     "output_type": "stream",
     "text": [
      "LSA Logistic Regression Training Score:  0.7590788308237378\n"
     ]
    }
   ],
   "source": [
    "logist_lsa = LogisticRegression(fit_intercept=False, C=1)\n",
    "logist_lsa.fit(X_train_lsa, y_train)\n",
    "\n",
    "print(\"LSA Logistic Regression Training Score: \", logist_lsa.score(X_train_lsa, y_train))"
   ]
  },
  {
   "cell_type": "code",
   "execution_count": 101,
   "metadata": {},
   "outputs": [
    {
     "data": {
      "text/html": [
       "<div>\n",
       "<style scoped>\n",
       "    .dataframe tbody tr th:only-of-type {\n",
       "        vertical-align: middle;\n",
       "    }\n",
       "\n",
       "    .dataframe tbody tr th {\n",
       "        vertical-align: top;\n",
       "    }\n",
       "\n",
       "    .dataframe thead th {\n",
       "        text-align: right;\n",
       "    }\n",
       "</style>\n",
       "<table border=\"1\" class=\"dataframe\">\n",
       "  <thead>\n",
       "    <tr style=\"text-align: right;\">\n",
       "      <th>col_0</th>\n",
       "      <th>Cleveland</th>\n",
       "      <th>Clinton</th>\n",
       "      <th>Eisenhower</th>\n",
       "      <th>Garfield</th>\n",
       "      <th>McKinley</th>\n",
       "      <th>Nixon</th>\n",
       "      <th>Obama</th>\n",
       "      <th>Reagan</th>\n",
       "      <th>Roosevelt</th>\n",
       "      <th>Wilson</th>\n",
       "    </tr>\n",
       "    <tr>\n",
       "      <th>speech_source</th>\n",
       "      <th></th>\n",
       "      <th></th>\n",
       "      <th></th>\n",
       "      <th></th>\n",
       "      <th></th>\n",
       "      <th></th>\n",
       "      <th></th>\n",
       "      <th></th>\n",
       "      <th></th>\n",
       "      <th></th>\n",
       "    </tr>\n",
       "  </thead>\n",
       "  <tbody>\n",
       "    <tr>\n",
       "      <th>Cleveland</th>\n",
       "      <td>1</td>\n",
       "      <td>4</td>\n",
       "      <td>7</td>\n",
       "      <td>0</td>\n",
       "      <td>5</td>\n",
       "      <td>0</td>\n",
       "      <td>0</td>\n",
       "      <td>1</td>\n",
       "      <td>3</td>\n",
       "      <td>1</td>\n",
       "    </tr>\n",
       "    <tr>\n",
       "      <th>Clinton</th>\n",
       "      <td>8</td>\n",
       "      <td>11</td>\n",
       "      <td>7</td>\n",
       "      <td>1</td>\n",
       "      <td>10</td>\n",
       "      <td>0</td>\n",
       "      <td>0</td>\n",
       "      <td>0</td>\n",
       "      <td>5</td>\n",
       "      <td>2</td>\n",
       "    </tr>\n",
       "    <tr>\n",
       "      <th>Eisenhower</th>\n",
       "      <td>3</td>\n",
       "      <td>8</td>\n",
       "      <td>9</td>\n",
       "      <td>3</td>\n",
       "      <td>10</td>\n",
       "      <td>1</td>\n",
       "      <td>3</td>\n",
       "      <td>3</td>\n",
       "      <td>5</td>\n",
       "      <td>5</td>\n",
       "    </tr>\n",
       "    <tr>\n",
       "      <th>Garfield</th>\n",
       "      <td>1</td>\n",
       "      <td>6</td>\n",
       "      <td>6</td>\n",
       "      <td>1</td>\n",
       "      <td>7</td>\n",
       "      <td>3</td>\n",
       "      <td>0</td>\n",
       "      <td>3</td>\n",
       "      <td>2</td>\n",
       "      <td>2</td>\n",
       "    </tr>\n",
       "    <tr>\n",
       "      <th>McKinley</th>\n",
       "      <td>2</td>\n",
       "      <td>14</td>\n",
       "      <td>9</td>\n",
       "      <td>2</td>\n",
       "      <td>18</td>\n",
       "      <td>4</td>\n",
       "      <td>0</td>\n",
       "      <td>5</td>\n",
       "      <td>3</td>\n",
       "      <td>2</td>\n",
       "    </tr>\n",
       "    <tr>\n",
       "      <th>Nixon</th>\n",
       "      <td>1</td>\n",
       "      <td>6</td>\n",
       "      <td>7</td>\n",
       "      <td>2</td>\n",
       "      <td>3</td>\n",
       "      <td>0</td>\n",
       "      <td>1</td>\n",
       "      <td>0</td>\n",
       "      <td>9</td>\n",
       "      <td>1</td>\n",
       "    </tr>\n",
       "    <tr>\n",
       "      <th>Obama</th>\n",
       "      <td>2</td>\n",
       "      <td>8</td>\n",
       "      <td>5</td>\n",
       "      <td>0</td>\n",
       "      <td>4</td>\n",
       "      <td>2</td>\n",
       "      <td>2</td>\n",
       "      <td>3</td>\n",
       "      <td>7</td>\n",
       "      <td>1</td>\n",
       "    </tr>\n",
       "    <tr>\n",
       "      <th>Reagan</th>\n",
       "      <td>0</td>\n",
       "      <td>4</td>\n",
       "      <td>6</td>\n",
       "      <td>3</td>\n",
       "      <td>5</td>\n",
       "      <td>0</td>\n",
       "      <td>0</td>\n",
       "      <td>1</td>\n",
       "      <td>7</td>\n",
       "      <td>1</td>\n",
       "    </tr>\n",
       "    <tr>\n",
       "      <th>Roosevelt</th>\n",
       "      <td>2</td>\n",
       "      <td>19</td>\n",
       "      <td>1</td>\n",
       "      <td>2</td>\n",
       "      <td>5</td>\n",
       "      <td>3</td>\n",
       "      <td>2</td>\n",
       "      <td>2</td>\n",
       "      <td>4</td>\n",
       "      <td>4</td>\n",
       "    </tr>\n",
       "    <tr>\n",
       "      <th>Wilson</th>\n",
       "      <td>2</td>\n",
       "      <td>12</td>\n",
       "      <td>4</td>\n",
       "      <td>1</td>\n",
       "      <td>6</td>\n",
       "      <td>0</td>\n",
       "      <td>2</td>\n",
       "      <td>2</td>\n",
       "      <td>3</td>\n",
       "      <td>4</td>\n",
       "    </tr>\n",
       "  </tbody>\n",
       "</table>\n",
       "</div>"
      ],
      "text/plain": [
       "col_0          Cleveland  Clinton  Eisenhower  Garfield  McKinley  Nixon  \\\n",
       "speech_source                                                              \n",
       "Cleveland              1        4           7         0         5      0   \n",
       "Clinton                8       11           7         1        10      0   \n",
       "Eisenhower             3        8           9         3        10      1   \n",
       "Garfield               1        6           6         1         7      3   \n",
       "McKinley               2       14           9         2        18      4   \n",
       "Nixon                  1        6           7         2         3      0   \n",
       "Obama                  2        8           5         0         4      2   \n",
       "Reagan                 0        4           6         3         5      0   \n",
       "Roosevelt              2       19           1         2         5      3   \n",
       "Wilson                 2       12           4         1         6      0   \n",
       "\n",
       "col_0          Obama  Reagan  Roosevelt  Wilson  \n",
       "speech_source                                    \n",
       "Cleveland          0       1          3       1  \n",
       "Clinton            0       0          5       2  \n",
       "Eisenhower         3       3          5       5  \n",
       "Garfield           0       3          2       2  \n",
       "McKinley           0       5          3       2  \n",
       "Nixon              1       0          9       1  \n",
       "Obama              2       3          7       1  \n",
       "Reagan             0       1          7       1  \n",
       "Roosevelt          2       2          4       4  \n",
       "Wilson             2       2          3       4  "
      ]
     },
     "execution_count": 101,
     "metadata": {},
     "output_type": "execute_result"
    }
   ],
   "source": [
    "logist_lsa_pred = logist_lsa.predict(X_test_lsa)\n",
    "\n",
    "pd.crosstab(y_test, logist_lsa_pred)"
   ]
  },
  {
   "cell_type": "code",
   "execution_count": 104,
   "metadata": {},
   "outputs": [
    {
     "name": "stdout",
     "output_type": "stream",
     "text": [
      "LSA Logistic Regression Test Score:  0.13527851458885942\n"
     ]
    }
   ],
   "source": [
    "print(\"LSA Logistic Regression Test Score: \", logist_lsa.score(X_test_lsa, y_test))"
   ]
  },
  {
   "cell_type": "code",
   "execution_count": 116,
   "metadata": {},
   "outputs": [
    {
     "name": "stdout",
     "output_type": "stream",
     "text": [
      "0.25 \n",
      "Logistic Regression Training Score:  0.9636846767050488\n",
      "Logistic Regression Test Score:  0.3421750663129973\n",
      "0.5 \n",
      "Logistic Regression Training Score:  0.9450841452612931\n",
      "Logistic Regression Test Score:  0.3421750663129973\n",
      "0.6 \n",
      "Logistic Regression Training Score:  0.9344552701505757\n",
      "Logistic Regression Test Score:  0.3421750663129973\n",
      "0.7 \n",
      "Logistic Regression Training Score:  0.9309123117803366\n",
      "Logistic Regression Test Score:  0.3448275862068966\n",
      "0.75 \n",
      "Logistic Regression Training Score:  0.9282550930026572\n",
      "Logistic Regression Test Score:  0.3448275862068966\n",
      "0.8 \n",
      "Logistic Regression Training Score:  0.9255978742249779\n",
      "Logistic Regression Test Score:  0.3448275862068966\n",
      "1 \n",
      "Logistic Regression Training Score:  0.9193976970770593\n",
      "Logistic Regression Test Score:  0.3395225464190981\n",
      "1.25 \n",
      "Logistic Regression Training Score:  0.912311780336581\n",
      "Logistic Regression Test Score:  0.3421750663129973\n",
      "0.15 \n",
      "Logistic Regression Training Score:  0.9698848538529672\n",
      "Logistic Regression Test Score:  0.33687002652519893\n"
     ]
    }
   ],
   "source": [
    "regularization = [.25, .5, .6, .7, .75, .8, 1, 1.25, .15]\n",
    "\n",
    "for r in regularization:\n",
    "    logist = LogisticRegression(fit_intercept=False, C=1/r)\n",
    "    logist = logist.fit(X_train, y_train)\n",
    "    print(r, \"\\nLogistic Regression Training Score: \", logist.score(X_train, y_train))\n",
    "    print(\"Logistic Regression Test Score: \", logist.score(X_test, y_test))\n",
    "    "
   ]
  },
  {
   "cell_type": "code",
   "execution_count": 120,
   "metadata": {},
   "outputs": [
    {
     "name": "stdout",
     "output_type": "stream",
     "text": [
      "1e-06 \n",
      "Logistic Regression Training Score:  0.9282550930026572\n",
      "Logistic Regression Test Score:  0.3448275862068966\n",
      "1e-05 \n",
      "Logistic Regression Training Score:  0.9282550930026572\n",
      "Logistic Regression Test Score:  0.3448275862068966\n",
      "0.0001 \n",
      "Logistic Regression Training Score:  0.9282550930026572\n",
      "Logistic Regression Test Score:  0.3448275862068966\n",
      "0.0005 \n",
      "Logistic Regression Training Score:  0.9282550930026572\n",
      "Logistic Regression Test Score:  0.3448275862068966\n",
      "0.001 \n",
      "Logistic Regression Training Score:  0.9282550930026572\n",
      "Logistic Regression Test Score:  0.3448275862068966\n",
      "0.01 \n",
      "Logistic Regression Training Score:  0.9282550930026572\n",
      "Logistic Regression Test Score:  0.3448275862068966\n",
      "0.5 \n",
      "Logistic Regression Training Score:  0.9247121346324181\n",
      "Logistic Regression Test Score:  0.34748010610079577\n",
      "0.75 \n",
      "Logistic Regression Training Score:  0.9247121346324181\n",
      "Logistic Regression Test Score:  0.34748010610079577\n",
      "1 \n",
      "Logistic Regression Training Score:  0.9158547387068202\n",
      "Logistic Regression Test Score:  0.3395225464190981\n"
     ]
    }
   ],
   "source": [
    "tolerance = [.000001, .00001, .0001, .0005, .001, .01, .5, .75, 1]\n",
    "\n",
    "for t in tolerance:\n",
    "    logist = LogisticRegression(fit_intercept=False, C=1/.75, tol=t)\n",
    "    logist = logist.fit(X_train, y_train)\n",
    "    print(t, \"\\nLogistic Regression Training Score: \", logist.score(X_train, y_train))\n",
    "    print(\"Logistic Regression Test Score: \", logist.score(X_test, y_test))"
   ]
  },
  {
   "cell_type": "code",
   "execution_count": 121,
   "metadata": {},
   "outputs": [
    {
     "name": "stdout",
     "output_type": "stream",
     "text": [
      "Logistic Regression Training Score:  0.9247121346324181\n"
     ]
    }
   ],
   "source": [
    "logist = LogisticRegression(fit_intercept=False, C=1/.75, tol=.5)\n",
    "logist.fit(X_train, y_train)\n",
    "\n",
    "print(\"Logistic Regression Training Score: \", logist.score(X_train, y_train))"
   ]
  },
  {
   "cell_type": "code",
   "execution_count": 122,
   "metadata": {},
   "outputs": [
    {
     "data": {
      "text/html": [
       "<div>\n",
       "<style scoped>\n",
       "    .dataframe tbody tr th:only-of-type {\n",
       "        vertical-align: middle;\n",
       "    }\n",
       "\n",
       "    .dataframe tbody tr th {\n",
       "        vertical-align: top;\n",
       "    }\n",
       "\n",
       "    .dataframe thead th {\n",
       "        text-align: right;\n",
       "    }\n",
       "</style>\n",
       "<table border=\"1\" class=\"dataframe\">\n",
       "  <thead>\n",
       "    <tr style=\"text-align: right;\">\n",
       "      <th>col_0</th>\n",
       "      <th>Cleveland</th>\n",
       "      <th>Clinton</th>\n",
       "      <th>Eisenhower</th>\n",
       "      <th>Garfield</th>\n",
       "      <th>McKinley</th>\n",
       "      <th>Nixon</th>\n",
       "      <th>Obama</th>\n",
       "      <th>Reagan</th>\n",
       "      <th>Roosevelt</th>\n",
       "      <th>Wilson</th>\n",
       "    </tr>\n",
       "    <tr>\n",
       "      <th>speech_source</th>\n",
       "      <th></th>\n",
       "      <th></th>\n",
       "      <th></th>\n",
       "      <th></th>\n",
       "      <th></th>\n",
       "      <th></th>\n",
       "      <th></th>\n",
       "      <th></th>\n",
       "      <th></th>\n",
       "      <th></th>\n",
       "    </tr>\n",
       "  </thead>\n",
       "  <tbody>\n",
       "    <tr>\n",
       "      <th>Cleveland</th>\n",
       "      <td>7</td>\n",
       "      <td>2</td>\n",
       "      <td>5</td>\n",
       "      <td>0</td>\n",
       "      <td>8</td>\n",
       "      <td>0</td>\n",
       "      <td>0</td>\n",
       "      <td>0</td>\n",
       "      <td>0</td>\n",
       "      <td>0</td>\n",
       "    </tr>\n",
       "    <tr>\n",
       "      <th>Clinton</th>\n",
       "      <td>1</td>\n",
       "      <td>24</td>\n",
       "      <td>0</td>\n",
       "      <td>1</td>\n",
       "      <td>4</td>\n",
       "      <td>3</td>\n",
       "      <td>3</td>\n",
       "      <td>3</td>\n",
       "      <td>1</td>\n",
       "      <td>4</td>\n",
       "    </tr>\n",
       "    <tr>\n",
       "      <th>Eisenhower</th>\n",
       "      <td>5</td>\n",
       "      <td>3</td>\n",
       "      <td>25</td>\n",
       "      <td>1</td>\n",
       "      <td>8</td>\n",
       "      <td>0</td>\n",
       "      <td>0</td>\n",
       "      <td>0</td>\n",
       "      <td>5</td>\n",
       "      <td>3</td>\n",
       "    </tr>\n",
       "    <tr>\n",
       "      <th>Garfield</th>\n",
       "      <td>3</td>\n",
       "      <td>3</td>\n",
       "      <td>3</td>\n",
       "      <td>5</td>\n",
       "      <td>6</td>\n",
       "      <td>3</td>\n",
       "      <td>2</td>\n",
       "      <td>2</td>\n",
       "      <td>2</td>\n",
       "      <td>2</td>\n",
       "    </tr>\n",
       "    <tr>\n",
       "      <th>McKinley</th>\n",
       "      <td>3</td>\n",
       "      <td>6</td>\n",
       "      <td>13</td>\n",
       "      <td>2</td>\n",
       "      <td>27</td>\n",
       "      <td>1</td>\n",
       "      <td>2</td>\n",
       "      <td>3</td>\n",
       "      <td>2</td>\n",
       "      <td>0</td>\n",
       "    </tr>\n",
       "    <tr>\n",
       "      <th>Nixon</th>\n",
       "      <td>0</td>\n",
       "      <td>10</td>\n",
       "      <td>2</td>\n",
       "      <td>1</td>\n",
       "      <td>3</td>\n",
       "      <td>6</td>\n",
       "      <td>0</td>\n",
       "      <td>2</td>\n",
       "      <td>6</td>\n",
       "      <td>0</td>\n",
       "    </tr>\n",
       "    <tr>\n",
       "      <th>Obama</th>\n",
       "      <td>3</td>\n",
       "      <td>12</td>\n",
       "      <td>0</td>\n",
       "      <td>0</td>\n",
       "      <td>6</td>\n",
       "      <td>4</td>\n",
       "      <td>2</td>\n",
       "      <td>0</td>\n",
       "      <td>3</td>\n",
       "      <td>4</td>\n",
       "    </tr>\n",
       "    <tr>\n",
       "      <th>Reagan</th>\n",
       "      <td>2</td>\n",
       "      <td>7</td>\n",
       "      <td>4</td>\n",
       "      <td>2</td>\n",
       "      <td>2</td>\n",
       "      <td>3</td>\n",
       "      <td>0</td>\n",
       "      <td>3</td>\n",
       "      <td>4</td>\n",
       "      <td>0</td>\n",
       "    </tr>\n",
       "    <tr>\n",
       "      <th>Roosevelt</th>\n",
       "      <td>0</td>\n",
       "      <td>2</td>\n",
       "      <td>6</td>\n",
       "      <td>3</td>\n",
       "      <td>5</td>\n",
       "      <td>0</td>\n",
       "      <td>7</td>\n",
       "      <td>2</td>\n",
       "      <td>17</td>\n",
       "      <td>2</td>\n",
       "    </tr>\n",
       "    <tr>\n",
       "      <th>Wilson</th>\n",
       "      <td>1</td>\n",
       "      <td>5</td>\n",
       "      <td>5</td>\n",
       "      <td>2</td>\n",
       "      <td>5</td>\n",
       "      <td>0</td>\n",
       "      <td>0</td>\n",
       "      <td>0</td>\n",
       "      <td>3</td>\n",
       "      <td>15</td>\n",
       "    </tr>\n",
       "  </tbody>\n",
       "</table>\n",
       "</div>"
      ],
      "text/plain": [
       "col_0          Cleveland  Clinton  Eisenhower  Garfield  McKinley  Nixon  \\\n",
       "speech_source                                                              \n",
       "Cleveland              7        2           5         0         8      0   \n",
       "Clinton                1       24           0         1         4      3   \n",
       "Eisenhower             5        3          25         1         8      0   \n",
       "Garfield               3        3           3         5         6      3   \n",
       "McKinley               3        6          13         2        27      1   \n",
       "Nixon                  0       10           2         1         3      6   \n",
       "Obama                  3       12           0         0         6      4   \n",
       "Reagan                 2        7           4         2         2      3   \n",
       "Roosevelt              0        2           6         3         5      0   \n",
       "Wilson                 1        5           5         2         5      0   \n",
       "\n",
       "col_0          Obama  Reagan  Roosevelt  Wilson  \n",
       "speech_source                                    \n",
       "Cleveland          0       0          0       0  \n",
       "Clinton            3       3          1       4  \n",
       "Eisenhower         0       0          5       3  \n",
       "Garfield           2       2          2       2  \n",
       "McKinley           2       3          2       0  \n",
       "Nixon              0       2          6       0  \n",
       "Obama              2       0          3       4  \n",
       "Reagan             0       3          4       0  \n",
       "Roosevelt          7       2         17       2  \n",
       "Wilson             0       0          3      15  "
      ]
     },
     "execution_count": 122,
     "metadata": {},
     "output_type": "execute_result"
    }
   ],
   "source": [
    "logist_pred = logist.predict(X_test)\n",
    "\n",
    "pd.crosstab(y_test, logist_pred)"
   ]
  },
  {
   "cell_type": "code",
   "execution_count": 123,
   "metadata": {},
   "outputs": [
    {
     "name": "stdout",
     "output_type": "stream",
     "text": [
      "Logistic Regression Test Score:  0.34748010610079577\n"
     ]
    }
   ],
   "source": [
    "print(\"Logistic Regression Test Score: \", logist.score(X_test, y_test))"
   ]
  },
  {
   "cell_type": "code",
   "execution_count": null,
   "metadata": {},
   "outputs": [],
   "source": []
  }
 ],
 "metadata": {
  "kernelspec": {
   "display_name": "Python 3",
   "language": "python",
   "name": "python3"
  },
  "language_info": {
   "codemirror_mode": {
    "name": "ipython",
    "version": 3
   },
   "file_extension": ".py",
   "mimetype": "text/x-python",
   "name": "python",
   "nbconvert_exporter": "python",
   "pygments_lexer": "ipython3",
   "version": "3.6.5"
  }
 },
 "nbformat": 4,
 "nbformat_minor": 2
}
