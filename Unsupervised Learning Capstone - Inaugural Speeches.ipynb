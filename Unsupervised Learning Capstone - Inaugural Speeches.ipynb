{
 "cells": [
  {
   "cell_type": "markdown",
   "metadata": {},
   "source": [
    "Get it done:\n",
    "+ create a series of clusters and pick the one that best represents the data\n",
    "+ perform (unsupervised) feature generation and selection\n",
    "+ use the features to build models to classify texts by author\n",
    "+ on holdout group, does clustering perform as you'd expect? is model performance consistent?\n",
    "+ how do clustering and modeling compare for classifying texts? what are the advantages of each? why would you want to use one over the other?"
   ]
  },
  {
   "cell_type": "code",
   "execution_count": 34,
   "metadata": {},
   "outputs": [],
   "source": [
    "import numpy as np\n",
    "import pandas as pd\n",
    "import seaborn as sns\n",
    "import matplotlib.pyplot as plt\n",
    "%matplotlib inline\n",
    "import scipy\n",
    "import sklearn\n",
    "import spacy\n",
    "import re\n",
    "from nltk.corpus import gutenberg, stopwords\n",
    "from collections import Counter"
   ]
  },
  {
   "cell_type": "markdown",
   "metadata": {},
   "source": [
    "<h1><center>Load Data And Use Vectorizer to Generate Features</center></h1>"
   ]
  },
  {
   "cell_type": "code",
   "execution_count": 35,
   "metadata": {},
   "outputs": [],
   "source": [
    "from nltk.corpus import inaugural"
   ]
  },
  {
   "cell_type": "code",
   "execution_count": 36,
   "metadata": {},
   "outputs": [
    {
     "data": {
      "text/plain": [
       "['1789-Washington.txt',\n",
       " '1793-Washington.txt',\n",
       " '1797-Adams.txt',\n",
       " '1801-Jefferson.txt',\n",
       " '1805-Jefferson.txt',\n",
       " '1809-Madison.txt',\n",
       " '1813-Madison.txt',\n",
       " '1817-Monroe.txt',\n",
       " '1821-Monroe.txt',\n",
       " '1825-Adams.txt',\n",
       " '1829-Jackson.txt',\n",
       " '1833-Jackson.txt',\n",
       " '1837-VanBuren.txt',\n",
       " '1841-Harrison.txt',\n",
       " '1845-Polk.txt',\n",
       " '1849-Taylor.txt',\n",
       " '1853-Pierce.txt',\n",
       " '1857-Buchanan.txt',\n",
       " '1861-Lincoln.txt',\n",
       " '1865-Lincoln.txt',\n",
       " '1869-Grant.txt',\n",
       " '1873-Grant.txt',\n",
       " '1877-Hayes.txt',\n",
       " '1881-Garfield.txt',\n",
       " '1885-Cleveland.txt',\n",
       " '1889-Harrison.txt',\n",
       " '1893-Cleveland.txt',\n",
       " '1897-McKinley.txt',\n",
       " '1901-McKinley.txt',\n",
       " '1905-Roosevelt.txt',\n",
       " '1909-Taft.txt',\n",
       " '1913-Wilson.txt',\n",
       " '1917-Wilson.txt',\n",
       " '1921-Harding.txt',\n",
       " '1925-Coolidge.txt',\n",
       " '1929-Hoover.txt',\n",
       " '1933-Roosevelt.txt',\n",
       " '1937-Roosevelt.txt',\n",
       " '1941-Roosevelt.txt',\n",
       " '1945-Roosevelt.txt',\n",
       " '1949-Truman.txt',\n",
       " '1953-Eisenhower.txt',\n",
       " '1957-Eisenhower.txt',\n",
       " '1961-Kennedy.txt',\n",
       " '1965-Johnson.txt',\n",
       " '1969-Nixon.txt',\n",
       " '1973-Nixon.txt',\n",
       " '1977-Carter.txt',\n",
       " '1981-Reagan.txt',\n",
       " '1985-Reagan.txt',\n",
       " '1989-Bush.txt',\n",
       " '1993-Clinton.txt',\n",
       " '1997-Clinton.txt',\n",
       " '2001-Bush.txt',\n",
       " '2005-Bush.txt',\n",
       " '2009-Obama.txt']"
      ]
     },
     "execution_count": 36,
     "metadata": {},
     "output_type": "execute_result"
    }
   ],
   "source": [
    "inaugural.fileids()"
   ]
  },
  {
   "cell_type": "code",
   "execution_count": 41,
   "metadata": {},
   "outputs": [],
   "source": [
    "Obama = inaugural.sents(\"2009-Obama.txt\")\n",
    "Clinton = inaugural.sents(\"1993-Clinton.txt\")\n",
    "Clinton1 = inaugural.sents(\"1997-Clinton.txt\")\n",
    "Reagan = inaugural.sents(\"1981-Reagan.txt\")\n",
    "Nixon = inaugural.sents(\"1969-Nixon.txt\")\n",
    "Eisenhower = inaugural.sents(\"1957-Eisenhower.txt\")\n",
    "Eisenhower1 = inaugural.sents(\"1953-Eisenhower.txt\")\n",
    "McKinley = inaugural.sents(\"1897-McKinley.txt\")\n",
    "McKinley1 = inaugural.sents(\"1901-McKinley.txt\")\n",
    "Wilson = inaugural.sents(\"1917-Wilson.txt\")\n",
    "Wilson1 = inaugural.sents(\"1913-Wilson.txt\")\n",
    "Roosevelt = inaugural.sents(\"1933-Roosevelt.txt\")\n",
    "Roosevelt1 = inaugural.sents(\"1937-Roosevelt.txt\")\n",
    "Cleveland = inaugural.sents(\"1893-Cleveland.txt\")\n",
    "Cleveland1 = inaugural.sents(\"1885-Cleveland.txt\")\n",
    "Garfield = inaugural.sents(\"1881-Garfield.txt\")"
   ]
  },
  {
   "cell_type": "code",
   "execution_count": 42,
   "metadata": {},
   "outputs": [
    {
     "data": {
      "text/plain": [
       "['I',\n",
       " 'stand',\n",
       " 'here',\n",
       " 'today',\n",
       " 'humbled',\n",
       " 'by',\n",
       " 'the',\n",
       " 'task',\n",
       " 'before',\n",
       " 'us',\n",
       " ',',\n",
       " 'grateful',\n",
       " 'for',\n",
       " 'the',\n",
       " 'trust',\n",
       " 'you',\n",
       " 'have',\n",
       " 'bestowed',\n",
       " ',',\n",
       " 'mindful',\n",
       " 'of',\n",
       " 'the',\n",
       " 'sacrifices',\n",
       " 'borne',\n",
       " 'by',\n",
       " 'our',\n",
       " 'ancestors',\n",
       " '.']"
      ]
     },
     "execution_count": 42,
     "metadata": {},
     "output_type": "execute_result"
    }
   ],
   "source": [
    "Obama[1]"
   ]
  },
  {
   "cell_type": "code",
   "execution_count": 48,
   "metadata": {},
   "outputs": [
    {
     "data": {
      "text/plain": [
       "['And', 'God', 'bless', 'the', 'United', 'States', 'of', 'America', '.']"
      ]
     },
     "execution_count": 48,
     "metadata": {},
     "output_type": "execute_result"
    }
   ],
   "source": [
    "Obama[-1]"
   ]
  },
  {
   "cell_type": "code",
   "execution_count": 43,
   "metadata": {},
   "outputs": [
    {
     "data": {
      "text/plain": [
       "['This',\n",
       " 'ceremony',\n",
       " 'is',\n",
       " 'held',\n",
       " 'in',\n",
       " 'the',\n",
       " 'depth',\n",
       " 'of',\n",
       " 'winter',\n",
       " ',',\n",
       " 'but',\n",
       " 'by',\n",
       " 'the',\n",
       " 'words',\n",
       " 'we',\n",
       " 'speak',\n",
       " 'and',\n",
       " 'the',\n",
       " 'faces',\n",
       " 'we',\n",
       " 'show',\n",
       " 'the',\n",
       " 'world',\n",
       " ',',\n",
       " 'we',\n",
       " 'force',\n",
       " 'the',\n",
       " 'spring',\n",
       " '.']"
      ]
     },
     "execution_count": 43,
     "metadata": {},
     "output_type": "execute_result"
    }
   ],
   "source": [
    "Clinton[1]"
   ]
  },
  {
   "cell_type": "code",
   "execution_count": 91,
   "metadata": {},
   "outputs": [
    {
     "name": "stdout",
     "output_type": "stream",
     "text": [
      "Number of Obama sentences 112\n",
      "Number of sentences after Clinton: 305\n",
      "Number of sentences after Reagan: 432\n",
      "Number of sentences after Nixon: 538\n",
      "Number of sentences after Eisenhower: 753\n",
      "Number of sentences after Garfield: 865\n",
      "Number of sentences after McKinley: 1095\n",
      "Number of sentences after Wilson: 1223\n",
      "Number of sentences after Roosevelt: 1404\n",
      "Number of sentences after Cleveland: 1506\n"
     ]
    }
   ],
   "source": [
    "inaugural_sents = []\n",
    "\n",
    "for sentence in Obama:\n",
    "    inaugural_sents.append(\" \".join(sentence))\n",
    "\n",
    "print(\"Number of Obama sentences\", len(inaugural_sents))\n",
    "    \n",
    "for sentence in Clinton:\n",
    "    inaugural_sents.append(\" \".join(sentence))\n",
    "    \n",
    "for sentence in Clinton1:\n",
    "    inaugural_sents.append(\" \".join(sentence))\n",
    "    \n",
    "print(\"Number of sentences after Clinton:\", len(inaugural_sents))\n",
    "\n",
    "for sentence in Reagan:\n",
    "    inaugural_sents.append(\" \".join(sentence))\n",
    "    \n",
    "print(\"Number of sentences after Reagan:\", len(inaugural_sents))\n",
    "\n",
    "for sentence in Nixon:\n",
    "    inaugural_sents.append(\" \".join(sentence))\n",
    "    \n",
    "print(\"Number of sentences after Nixon:\", len(inaugural_sents))\n",
    "\n",
    "for sentence in Eisenhower:\n",
    "    inaugural_sents.append(\" \".join(sentence))\n",
    "    \n",
    "for sentence in Eisenhower1:\n",
    "    inaugural_sents.append(\" \".join(sentence))\n",
    "    \n",
    "print(\"Number of sentences after Eisenhower:\", len(inaugural_sents))\n",
    "\n",
    "for sentence in Garfield:\n",
    "    inaugural_sents.append(\" \".join(sentence))\n",
    "    \n",
    "print(\"Number of sentences after Garfield:\", len(inaugural_sents))\n",
    "\n",
    "for sentence in McKinley:\n",
    "    inaugural_sents.append(\" \".join(sentence))\n",
    "    \n",
    "for sentence in McKinley1:\n",
    "    inaugural_sents.append(\" \".join(sentence))\n",
    "    \n",
    "print(\"Number of sentences after McKinley:\", len(inaugural_sents))\n",
    "\n",
    "for sentence in Wilson:\n",
    "    inaugural_sents.append(\" \".join(sentence))\n",
    "    \n",
    "for sentence in Wilson1:\n",
    "    inaugural_sents.append(\" \".join(sentence))\n",
    "    \n",
    "print(\"Number of sentences after Wilson:\", len(inaugural_sents))\n",
    "\n",
    "for sentence in Roosevelt:\n",
    "    inaugural_sents.append(\" \".join(sentence))\n",
    "    \n",
    "for sentence in Roosevelt1:\n",
    "    inaugural_sents.append(\" \".join(sentence))\n",
    "    \n",
    "print(\"Number of sentences after Roosevelt:\", len(inaugural_sents))\n",
    "\n",
    "for sentence in Cleveland:\n",
    "    inaugural_sents.append(\" \".join(sentence))\n",
    "    \n",
    "for sentence in Cleveland1:\n",
    "    inaugural_sents.append(\" \".join(sentence))\n",
    "    \n",
    "print(\"Number of sentences after Cleveland:\", len(inaugural_sents))"
   ]
  },
  {
   "cell_type": "code",
   "execution_count": 95,
   "metadata": {},
   "outputs": [
    {
     "data": {
      "text/plain": [
       "'This ceremony is held in the depth of winter , but by the words we speak and the faces we show the world , we force the spring .'"
      ]
     },
     "execution_count": 95,
     "metadata": {},
     "output_type": "execute_result"
    }
   ],
   "source": [
    "inaugural_sents[113]"
   ]
  },
  {
   "cell_type": "code",
   "execution_count": 102,
   "metadata": {},
   "outputs": [
    {
     "name": "stdout",
     "output_type": "stream",
     "text": [
      "Number of features: 2053\n"
     ]
    }
   ],
   "source": [
    "from sklearn.feature_extraction.text import TfidfVectorizer\n",
    "from sklearn.model_selection import train_test_split\n",
    "\n",
    "vectorizer = TfidfVectorizer(max_df=0.5, # drop words that occur in more than half the paragraphs\n",
    "                             min_df=2, # only use words that appear at least twice\n",
    "                             stop_words='english', \n",
    "                             lowercase=True, #convert everything to lower case (since Alice in Wonderland has the HABIT of CAPITALIZING WORDS for EMPHASIS)\n",
    "                             use_idf=True,#we definitely want to use inverse document frequencies in our weighting\n",
    "                             norm=u'l2', #Applies a correction factor so that longer paragraphs and shorter paragraphs get treated equally\n",
    "                             smooth_idf=True #Adds 1 to all document frequencies, as if an extra document existed that used every word once.  Prevents divide-by-zero errors\n",
    "                            )\n",
    "\n",
    "\n",
    "#Applying the vectorizer\n",
    "vect_inaugural_sents=vectorizer.fit_transform(inaugural_sents)\n",
    "print(\"Number of features: %d\" % vect_inaugural_sents.get_shape()[1])"
   ]
  },
  {
   "cell_type": "code",
   "execution_count": 103,
   "metadata": {},
   "outputs": [],
   "source": [
    "vect_inaugural_sents_csr = vect_inaugural_sents.tocsr()\n",
    "\n",
    "n = vect_inaugural_sents_csr.shape[0]\n",
    "\n",
    "tfidf_bypara = [{} for _ in range(0,n)]\n",
    "\n",
    "terms = vectorizer.get_feature_names()\n",
    "\n",
    "for i, j in zip(*vect_inaugural_sents_csr.nonzero()):\n",
    "    tfidf_bypara[i][terms[j]] = vect_inaugural_sents_csr[i, j]"
   ]
  },
  {
   "cell_type": "code",
   "execution_count": 104,
   "metadata": {},
   "outputs": [
    {
     "data": {
      "text/html": [
       "<div>\n",
       "<style scoped>\n",
       "    .dataframe tbody tr th:only-of-type {\n",
       "        vertical-align: middle;\n",
       "    }\n",
       "\n",
       "    .dataframe tbody tr th {\n",
       "        vertical-align: top;\n",
       "    }\n",
       "\n",
       "    .dataframe thead th {\n",
       "        text-align: right;\n",
       "    }\n",
       "</style>\n",
       "<table border=\"1\" class=\"dataframe\">\n",
       "  <thead>\n",
       "    <tr style=\"text-align: right;\">\n",
       "      <th></th>\n",
       "      <th>000</th>\n",
       "      <th>1787</th>\n",
       "      <th>1890</th>\n",
       "      <th>1897</th>\n",
       "      <th>19th</th>\n",
       "      <th>20th</th>\n",
       "      <th>21st</th>\n",
       "      <th>abandon</th>\n",
       "      <th>abandoned</th>\n",
       "      <th>abandonment</th>\n",
       "      <th>...</th>\n",
       "      <th>written</th>\n",
       "      <th>wrong</th>\n",
       "      <th>wronged</th>\n",
       "      <th>year</th>\n",
       "      <th>years</th>\n",
       "      <th>yes</th>\n",
       "      <th>yield</th>\n",
       "      <th>young</th>\n",
       "      <th>youth</th>\n",
       "      <th>zeal</th>\n",
       "    </tr>\n",
       "  </thead>\n",
       "  <tbody>\n",
       "    <tr>\n",
       "      <th>0</th>\n",
       "      <td>NaN</td>\n",
       "      <td>NaN</td>\n",
       "      <td>NaN</td>\n",
       "      <td>NaN</td>\n",
       "      <td>NaN</td>\n",
       "      <td>NaN</td>\n",
       "      <td>NaN</td>\n",
       "      <td>NaN</td>\n",
       "      <td>NaN</td>\n",
       "      <td>NaN</td>\n",
       "      <td>...</td>\n",
       "      <td>NaN</td>\n",
       "      <td>NaN</td>\n",
       "      <td>NaN</td>\n",
       "      <td>NaN</td>\n",
       "      <td>NaN</td>\n",
       "      <td>NaN</td>\n",
       "      <td>NaN</td>\n",
       "      <td>NaN</td>\n",
       "      <td>NaN</td>\n",
       "      <td>NaN</td>\n",
       "    </tr>\n",
       "    <tr>\n",
       "      <th>1</th>\n",
       "      <td>NaN</td>\n",
       "      <td>NaN</td>\n",
       "      <td>NaN</td>\n",
       "      <td>NaN</td>\n",
       "      <td>NaN</td>\n",
       "      <td>NaN</td>\n",
       "      <td>NaN</td>\n",
       "      <td>NaN</td>\n",
       "      <td>NaN</td>\n",
       "      <td>NaN</td>\n",
       "      <td>...</td>\n",
       "      <td>NaN</td>\n",
       "      <td>NaN</td>\n",
       "      <td>NaN</td>\n",
       "      <td>NaN</td>\n",
       "      <td>NaN</td>\n",
       "      <td>NaN</td>\n",
       "      <td>NaN</td>\n",
       "      <td>NaN</td>\n",
       "      <td>NaN</td>\n",
       "      <td>NaN</td>\n",
       "    </tr>\n",
       "    <tr>\n",
       "      <th>2</th>\n",
       "      <td>NaN</td>\n",
       "      <td>NaN</td>\n",
       "      <td>NaN</td>\n",
       "      <td>NaN</td>\n",
       "      <td>NaN</td>\n",
       "      <td>NaN</td>\n",
       "      <td>NaN</td>\n",
       "      <td>NaN</td>\n",
       "      <td>NaN</td>\n",
       "      <td>NaN</td>\n",
       "      <td>...</td>\n",
       "      <td>NaN</td>\n",
       "      <td>NaN</td>\n",
       "      <td>NaN</td>\n",
       "      <td>NaN</td>\n",
       "      <td>NaN</td>\n",
       "      <td>NaN</td>\n",
       "      <td>NaN</td>\n",
       "      <td>NaN</td>\n",
       "      <td>NaN</td>\n",
       "      <td>NaN</td>\n",
       "    </tr>\n",
       "    <tr>\n",
       "      <th>3</th>\n",
       "      <td>NaN</td>\n",
       "      <td>NaN</td>\n",
       "      <td>NaN</td>\n",
       "      <td>NaN</td>\n",
       "      <td>NaN</td>\n",
       "      <td>NaN</td>\n",
       "      <td>NaN</td>\n",
       "      <td>NaN</td>\n",
       "      <td>NaN</td>\n",
       "      <td>NaN</td>\n",
       "      <td>...</td>\n",
       "      <td>NaN</td>\n",
       "      <td>NaN</td>\n",
       "      <td>NaN</td>\n",
       "      <td>NaN</td>\n",
       "      <td>NaN</td>\n",
       "      <td>NaN</td>\n",
       "      <td>NaN</td>\n",
       "      <td>NaN</td>\n",
       "      <td>NaN</td>\n",
       "      <td>NaN</td>\n",
       "    </tr>\n",
       "    <tr>\n",
       "      <th>4</th>\n",
       "      <td>NaN</td>\n",
       "      <td>NaN</td>\n",
       "      <td>NaN</td>\n",
       "      <td>NaN</td>\n",
       "      <td>NaN</td>\n",
       "      <td>NaN</td>\n",
       "      <td>NaN</td>\n",
       "      <td>NaN</td>\n",
       "      <td>NaN</td>\n",
       "      <td>NaN</td>\n",
       "      <td>...</td>\n",
       "      <td>NaN</td>\n",
       "      <td>NaN</td>\n",
       "      <td>NaN</td>\n",
       "      <td>NaN</td>\n",
       "      <td>NaN</td>\n",
       "      <td>NaN</td>\n",
       "      <td>NaN</td>\n",
       "      <td>NaN</td>\n",
       "      <td>NaN</td>\n",
       "      <td>NaN</td>\n",
       "    </tr>\n",
       "  </tbody>\n",
       "</table>\n",
       "<p>5 rows × 2053 columns</p>\n",
       "</div>"
      ],
      "text/plain": [
       "   000  1787  1890  1897  19th  20th  21st  abandon  abandoned  abandonment  \\\n",
       "0  NaN   NaN   NaN   NaN   NaN   NaN   NaN      NaN        NaN          NaN   \n",
       "1  NaN   NaN   NaN   NaN   NaN   NaN   NaN      NaN        NaN          NaN   \n",
       "2  NaN   NaN   NaN   NaN   NaN   NaN   NaN      NaN        NaN          NaN   \n",
       "3  NaN   NaN   NaN   NaN   NaN   NaN   NaN      NaN        NaN          NaN   \n",
       "4  NaN   NaN   NaN   NaN   NaN   NaN   NaN      NaN        NaN          NaN   \n",
       "\n",
       "   ...   written  wrong  wronged  year  years  yes  yield  young  youth  zeal  \n",
       "0  ...       NaN    NaN      NaN   NaN    NaN  NaN    NaN    NaN    NaN   NaN  \n",
       "1  ...       NaN    NaN      NaN   NaN    NaN  NaN    NaN    NaN    NaN   NaN  \n",
       "2  ...       NaN    NaN      NaN   NaN    NaN  NaN    NaN    NaN    NaN   NaN  \n",
       "3  ...       NaN    NaN      NaN   NaN    NaN  NaN    NaN    NaN    NaN   NaN  \n",
       "4  ...       NaN    NaN      NaN   NaN    NaN  NaN    NaN    NaN    NaN   NaN  \n",
       "\n",
       "[5 rows x 2053 columns]"
      ]
     },
     "execution_count": 104,
     "metadata": {},
     "output_type": "execute_result"
    }
   ],
   "source": [
    "word_vectors = pd.DataFrame(tfidf_bypara)\n",
    "\n",
    "word_vectors.head()"
   ]
  },
  {
   "cell_type": "code",
   "execution_count": 105,
   "metadata": {},
   "outputs": [
    {
     "data": {
      "text/plain": [
       "000                1.279445\n",
       "1787               0.831377\n",
       "1890               0.561347\n",
       "1897               0.772842\n",
       "19th               0.828161\n",
       "20th               0.905539\n",
       "21st               1.412740\n",
       "abandon            0.751256\n",
       "abandoned          1.646255\n",
       "abandonment        0.513629\n",
       "abiding            1.649074\n",
       "ability            2.511144\n",
       "able               0.703075\n",
       "abroad             1.430666\n",
       "absence            0.776563\n",
       "abundance          0.876721\n",
       "accept             2.472588\n",
       "accepted           0.831240\n",
       "accomplished       1.972054\n",
       "accomplishment     0.913701\n",
       "account            1.417318\n",
       "achieve            2.575203\n",
       "achievement        2.488357\n",
       "achievements       1.431531\n",
       "acquiescence       0.595798\n",
       "act                5.625846\n",
       "action             7.335914\n",
       "actions            0.692628\n",
       "active             0.711026\n",
       "activities         0.922531\n",
       "                    ...    \n",
       "winds              1.433305\n",
       "winter             1.057247\n",
       "wisdom             3.486752\n",
       "wise               1.167973\n",
       "wisely             2.416474\n",
       "wish               1.634752\n",
       "wished             1.221375\n",
       "witness            0.895124\n",
       "witnessed          0.582136\n",
       "witnesses          0.606957\n",
       "women              3.743605\n",
       "wonder             0.794644\n",
       "words              4.141869\n",
       "work              14.148088\n",
       "workers            1.256983\n",
       "world             27.013757\n",
       "worldly            0.956967\n",
       "worth              0.787359\n",
       "worthy             1.079094\n",
       "write              0.761854\n",
       "written            0.927871\n",
       "wrong              3.493790\n",
       "wronged            0.835487\n",
       "year               2.532541\n",
       "years             10.499015\n",
       "yes                3.457902\n",
       "yield              0.771118\n",
       "young              2.602648\n",
       "youth              1.359496\n",
       "zeal               1.205150\n",
       "Length: 2053, dtype: float64"
      ]
     },
     "execution_count": 105,
     "metadata": {},
     "output_type": "execute_result"
    }
   ],
   "source": [
    "word_vectors.sum(axis=0)"
   ]
  },
  {
   "cell_type": "code",
   "execution_count": 106,
   "metadata": {},
   "outputs": [],
   "source": [
    "word_vectors = word_vectors.fillna(0)"
   ]
  },
  {
   "cell_type": "code",
   "execution_count": null,
   "metadata": {},
   "outputs": [],
   "source": []
  },
  {
   "cell_type": "code",
   "execution_count": null,
   "metadata": {},
   "outputs": [],
   "source": []
  },
  {
   "cell_type": "code",
   "execution_count": 88,
   "metadata": {},
   "outputs": [],
   "source": [
    "from sklearn.preprocessing import normalize\n",
    "\n",
    "word_vectors = normalize(word_vectors)"
   ]
  },
  {
   "cell_type": "code",
   "execution_count": 107,
   "metadata": {},
   "outputs": [
    {
     "data": {
      "text/plain": [
       "(1506, 2053)"
      ]
     },
     "execution_count": 107,
     "metadata": {},
     "output_type": "execute_result"
    }
   ],
   "source": [
    "word_vectors.shape"
   ]
  },
  {
   "cell_type": "code",
   "execution_count": 108,
   "metadata": {},
   "outputs": [
    {
     "data": {
      "text/html": [
       "<div>\n",
       "<style scoped>\n",
       "    .dataframe tbody tr th:only-of-type {\n",
       "        vertical-align: middle;\n",
       "    }\n",
       "\n",
       "    .dataframe tbody tr th {\n",
       "        vertical-align: top;\n",
       "    }\n",
       "\n",
       "    .dataframe thead th {\n",
       "        text-align: right;\n",
       "    }\n",
       "</style>\n",
       "<table border=\"1\" class=\"dataframe\">\n",
       "  <thead>\n",
       "    <tr style=\"text-align: right;\">\n",
       "      <th></th>\n",
       "      <th>000</th>\n",
       "      <th>1787</th>\n",
       "      <th>1890</th>\n",
       "      <th>1897</th>\n",
       "      <th>19th</th>\n",
       "      <th>20th</th>\n",
       "      <th>21st</th>\n",
       "      <th>abandon</th>\n",
       "      <th>abandoned</th>\n",
       "      <th>abandonment</th>\n",
       "      <th>...</th>\n",
       "      <th>written</th>\n",
       "      <th>wrong</th>\n",
       "      <th>wronged</th>\n",
       "      <th>year</th>\n",
       "      <th>years</th>\n",
       "      <th>yes</th>\n",
       "      <th>yield</th>\n",
       "      <th>young</th>\n",
       "      <th>youth</th>\n",
       "      <th>zeal</th>\n",
       "    </tr>\n",
       "  </thead>\n",
       "  <tbody>\n",
       "    <tr>\n",
       "      <th>0</th>\n",
       "      <td>0.0</td>\n",
       "      <td>0.0</td>\n",
       "      <td>0.0</td>\n",
       "      <td>0.0</td>\n",
       "      <td>0.0</td>\n",
       "      <td>0.0</td>\n",
       "      <td>0.0</td>\n",
       "      <td>0.0</td>\n",
       "      <td>0.0</td>\n",
       "      <td>0.0</td>\n",
       "      <td>...</td>\n",
       "      <td>0.0</td>\n",
       "      <td>0.0</td>\n",
       "      <td>0.0</td>\n",
       "      <td>0.0</td>\n",
       "      <td>0.0</td>\n",
       "      <td>0.0</td>\n",
       "      <td>0.0</td>\n",
       "      <td>0.0</td>\n",
       "      <td>0.0</td>\n",
       "      <td>0.0</td>\n",
       "    </tr>\n",
       "    <tr>\n",
       "      <th>1</th>\n",
       "      <td>0.0</td>\n",
       "      <td>0.0</td>\n",
       "      <td>0.0</td>\n",
       "      <td>0.0</td>\n",
       "      <td>0.0</td>\n",
       "      <td>0.0</td>\n",
       "      <td>0.0</td>\n",
       "      <td>0.0</td>\n",
       "      <td>0.0</td>\n",
       "      <td>0.0</td>\n",
       "      <td>...</td>\n",
       "      <td>0.0</td>\n",
       "      <td>0.0</td>\n",
       "      <td>0.0</td>\n",
       "      <td>0.0</td>\n",
       "      <td>0.0</td>\n",
       "      <td>0.0</td>\n",
       "      <td>0.0</td>\n",
       "      <td>0.0</td>\n",
       "      <td>0.0</td>\n",
       "      <td>0.0</td>\n",
       "    </tr>\n",
       "    <tr>\n",
       "      <th>2</th>\n",
       "      <td>0.0</td>\n",
       "      <td>0.0</td>\n",
       "      <td>0.0</td>\n",
       "      <td>0.0</td>\n",
       "      <td>0.0</td>\n",
       "      <td>0.0</td>\n",
       "      <td>0.0</td>\n",
       "      <td>0.0</td>\n",
       "      <td>0.0</td>\n",
       "      <td>0.0</td>\n",
       "      <td>...</td>\n",
       "      <td>0.0</td>\n",
       "      <td>0.0</td>\n",
       "      <td>0.0</td>\n",
       "      <td>0.0</td>\n",
       "      <td>0.0</td>\n",
       "      <td>0.0</td>\n",
       "      <td>0.0</td>\n",
       "      <td>0.0</td>\n",
       "      <td>0.0</td>\n",
       "      <td>0.0</td>\n",
       "    </tr>\n",
       "    <tr>\n",
       "      <th>3</th>\n",
       "      <td>0.0</td>\n",
       "      <td>0.0</td>\n",
       "      <td>0.0</td>\n",
       "      <td>0.0</td>\n",
       "      <td>0.0</td>\n",
       "      <td>0.0</td>\n",
       "      <td>0.0</td>\n",
       "      <td>0.0</td>\n",
       "      <td>0.0</td>\n",
       "      <td>0.0</td>\n",
       "      <td>...</td>\n",
       "      <td>0.0</td>\n",
       "      <td>0.0</td>\n",
       "      <td>0.0</td>\n",
       "      <td>0.0</td>\n",
       "      <td>0.0</td>\n",
       "      <td>0.0</td>\n",
       "      <td>0.0</td>\n",
       "      <td>0.0</td>\n",
       "      <td>0.0</td>\n",
       "      <td>0.0</td>\n",
       "    </tr>\n",
       "    <tr>\n",
       "      <th>4</th>\n",
       "      <td>0.0</td>\n",
       "      <td>0.0</td>\n",
       "      <td>0.0</td>\n",
       "      <td>0.0</td>\n",
       "      <td>0.0</td>\n",
       "      <td>0.0</td>\n",
       "      <td>0.0</td>\n",
       "      <td>0.0</td>\n",
       "      <td>0.0</td>\n",
       "      <td>0.0</td>\n",
       "      <td>...</td>\n",
       "      <td>0.0</td>\n",
       "      <td>0.0</td>\n",
       "      <td>0.0</td>\n",
       "      <td>0.0</td>\n",
       "      <td>0.0</td>\n",
       "      <td>0.0</td>\n",
       "      <td>0.0</td>\n",
       "      <td>0.0</td>\n",
       "      <td>0.0</td>\n",
       "      <td>0.0</td>\n",
       "    </tr>\n",
       "  </tbody>\n",
       "</table>\n",
       "<p>5 rows × 2053 columns</p>\n",
       "</div>"
      ],
      "text/plain": [
       "   000  1787  1890  1897  19th  20th  21st  abandon  abandoned  abandonment  \\\n",
       "0  0.0   0.0   0.0   0.0   0.0   0.0   0.0      0.0        0.0          0.0   \n",
       "1  0.0   0.0   0.0   0.0   0.0   0.0   0.0      0.0        0.0          0.0   \n",
       "2  0.0   0.0   0.0   0.0   0.0   0.0   0.0      0.0        0.0          0.0   \n",
       "3  0.0   0.0   0.0   0.0   0.0   0.0   0.0      0.0        0.0          0.0   \n",
       "4  0.0   0.0   0.0   0.0   0.0   0.0   0.0      0.0        0.0          0.0   \n",
       "\n",
       "   ...   written  wrong  wronged  year  years  yes  yield  young  youth  zeal  \n",
       "0  ...       0.0    0.0      0.0   0.0    0.0  0.0    0.0    0.0    0.0   0.0  \n",
       "1  ...       0.0    0.0      0.0   0.0    0.0  0.0    0.0    0.0    0.0   0.0  \n",
       "2  ...       0.0    0.0      0.0   0.0    0.0  0.0    0.0    0.0    0.0   0.0  \n",
       "3  ...       0.0    0.0      0.0   0.0    0.0  0.0    0.0    0.0    0.0   0.0  \n",
       "4  ...       0.0    0.0      0.0   0.0    0.0  0.0    0.0    0.0    0.0   0.0  \n",
       "\n",
       "[5 rows x 2053 columns]"
      ]
     },
     "execution_count": 108,
     "metadata": {},
     "output_type": "execute_result"
    }
   ],
   "source": [
    "word_vectors.head()"
   ]
  },
  {
   "cell_type": "code",
   "execution_count": 110,
   "metadata": {},
   "outputs": [],
   "source": [
    "word_vectors[\"speech_sentence\"] = inaugural_sents"
   ]
  },
  {
   "cell_type": "code",
   "execution_count": 111,
   "metadata": {},
   "outputs": [
    {
     "data": {
      "text/html": [
       "<div>\n",
       "<style scoped>\n",
       "    .dataframe tbody tr th:only-of-type {\n",
       "        vertical-align: middle;\n",
       "    }\n",
       "\n",
       "    .dataframe tbody tr th {\n",
       "        vertical-align: top;\n",
       "    }\n",
       "\n",
       "    .dataframe thead th {\n",
       "        text-align: right;\n",
       "    }\n",
       "</style>\n",
       "<table border=\"1\" class=\"dataframe\">\n",
       "  <thead>\n",
       "    <tr style=\"text-align: right;\">\n",
       "      <th></th>\n",
       "      <th>000</th>\n",
       "      <th>1787</th>\n",
       "      <th>1890</th>\n",
       "      <th>1897</th>\n",
       "      <th>19th</th>\n",
       "      <th>20th</th>\n",
       "      <th>21st</th>\n",
       "      <th>abandon</th>\n",
       "      <th>abandoned</th>\n",
       "      <th>abandonment</th>\n",
       "      <th>...</th>\n",
       "      <th>wrong</th>\n",
       "      <th>wronged</th>\n",
       "      <th>year</th>\n",
       "      <th>years</th>\n",
       "      <th>yes</th>\n",
       "      <th>yield</th>\n",
       "      <th>young</th>\n",
       "      <th>youth</th>\n",
       "      <th>zeal</th>\n",
       "      <th>speech_sentence</th>\n",
       "    </tr>\n",
       "  </thead>\n",
       "  <tbody>\n",
       "    <tr>\n",
       "      <th>0</th>\n",
       "      <td>0.0</td>\n",
       "      <td>0.0</td>\n",
       "      <td>0.0</td>\n",
       "      <td>0.0</td>\n",
       "      <td>0.0</td>\n",
       "      <td>0.0</td>\n",
       "      <td>0.0</td>\n",
       "      <td>0.0</td>\n",
       "      <td>0.0</td>\n",
       "      <td>0.0</td>\n",
       "      <td>...</td>\n",
       "      <td>0.0</td>\n",
       "      <td>0.0</td>\n",
       "      <td>0.0</td>\n",
       "      <td>0.0</td>\n",
       "      <td>0.0</td>\n",
       "      <td>0.0</td>\n",
       "      <td>0.0</td>\n",
       "      <td>0.0</td>\n",
       "      <td>0.0</td>\n",
       "      <td>My fellow citizens :</td>\n",
       "    </tr>\n",
       "    <tr>\n",
       "      <th>1</th>\n",
       "      <td>0.0</td>\n",
       "      <td>0.0</td>\n",
       "      <td>0.0</td>\n",
       "      <td>0.0</td>\n",
       "      <td>0.0</td>\n",
       "      <td>0.0</td>\n",
       "      <td>0.0</td>\n",
       "      <td>0.0</td>\n",
       "      <td>0.0</td>\n",
       "      <td>0.0</td>\n",
       "      <td>...</td>\n",
       "      <td>0.0</td>\n",
       "      <td>0.0</td>\n",
       "      <td>0.0</td>\n",
       "      <td>0.0</td>\n",
       "      <td>0.0</td>\n",
       "      <td>0.0</td>\n",
       "      <td>0.0</td>\n",
       "      <td>0.0</td>\n",
       "      <td>0.0</td>\n",
       "      <td>I stand here today humbled by the task before ...</td>\n",
       "    </tr>\n",
       "    <tr>\n",
       "      <th>2</th>\n",
       "      <td>0.0</td>\n",
       "      <td>0.0</td>\n",
       "      <td>0.0</td>\n",
       "      <td>0.0</td>\n",
       "      <td>0.0</td>\n",
       "      <td>0.0</td>\n",
       "      <td>0.0</td>\n",
       "      <td>0.0</td>\n",
       "      <td>0.0</td>\n",
       "      <td>0.0</td>\n",
       "      <td>...</td>\n",
       "      <td>0.0</td>\n",
       "      <td>0.0</td>\n",
       "      <td>0.0</td>\n",
       "      <td>0.0</td>\n",
       "      <td>0.0</td>\n",
       "      <td>0.0</td>\n",
       "      <td>0.0</td>\n",
       "      <td>0.0</td>\n",
       "      <td>0.0</td>\n",
       "      <td>I thank President Bush for his service to our ...</td>\n",
       "    </tr>\n",
       "    <tr>\n",
       "      <th>3</th>\n",
       "      <td>0.0</td>\n",
       "      <td>0.0</td>\n",
       "      <td>0.0</td>\n",
       "      <td>0.0</td>\n",
       "      <td>0.0</td>\n",
       "      <td>0.0</td>\n",
       "      <td>0.0</td>\n",
       "      <td>0.0</td>\n",
       "      <td>0.0</td>\n",
       "      <td>0.0</td>\n",
       "      <td>...</td>\n",
       "      <td>0.0</td>\n",
       "      <td>0.0</td>\n",
       "      <td>0.0</td>\n",
       "      <td>0.0</td>\n",
       "      <td>0.0</td>\n",
       "      <td>0.0</td>\n",
       "      <td>0.0</td>\n",
       "      <td>0.0</td>\n",
       "      <td>0.0</td>\n",
       "      <td>Forty - four Americans have now taken the pres...</td>\n",
       "    </tr>\n",
       "    <tr>\n",
       "      <th>4</th>\n",
       "      <td>0.0</td>\n",
       "      <td>0.0</td>\n",
       "      <td>0.0</td>\n",
       "      <td>0.0</td>\n",
       "      <td>0.0</td>\n",
       "      <td>0.0</td>\n",
       "      <td>0.0</td>\n",
       "      <td>0.0</td>\n",
       "      <td>0.0</td>\n",
       "      <td>0.0</td>\n",
       "      <td>...</td>\n",
       "      <td>0.0</td>\n",
       "      <td>0.0</td>\n",
       "      <td>0.0</td>\n",
       "      <td>0.0</td>\n",
       "      <td>0.0</td>\n",
       "      <td>0.0</td>\n",
       "      <td>0.0</td>\n",
       "      <td>0.0</td>\n",
       "      <td>0.0</td>\n",
       "      <td>The words have been spoken during rising tides...</td>\n",
       "    </tr>\n",
       "  </tbody>\n",
       "</table>\n",
       "<p>5 rows × 2054 columns</p>\n",
       "</div>"
      ],
      "text/plain": [
       "   000  1787  1890  1897  19th  20th  21st  abandon  abandoned  abandonment  \\\n",
       "0  0.0   0.0   0.0   0.0   0.0   0.0   0.0      0.0        0.0          0.0   \n",
       "1  0.0   0.0   0.0   0.0   0.0   0.0   0.0      0.0        0.0          0.0   \n",
       "2  0.0   0.0   0.0   0.0   0.0   0.0   0.0      0.0        0.0          0.0   \n",
       "3  0.0   0.0   0.0   0.0   0.0   0.0   0.0      0.0        0.0          0.0   \n",
       "4  0.0   0.0   0.0   0.0   0.0   0.0   0.0      0.0        0.0          0.0   \n",
       "\n",
       "                         ...                          wrong  wronged  year  \\\n",
       "0                        ...                            0.0      0.0   0.0   \n",
       "1                        ...                            0.0      0.0   0.0   \n",
       "2                        ...                            0.0      0.0   0.0   \n",
       "3                        ...                            0.0      0.0   0.0   \n",
       "4                        ...                            0.0      0.0   0.0   \n",
       "\n",
       "   years  yes  yield  young  youth  zeal  \\\n",
       "0    0.0  0.0    0.0    0.0    0.0   0.0   \n",
       "1    0.0  0.0    0.0    0.0    0.0   0.0   \n",
       "2    0.0  0.0    0.0    0.0    0.0   0.0   \n",
       "3    0.0  0.0    0.0    0.0    0.0   0.0   \n",
       "4    0.0  0.0    0.0    0.0    0.0   0.0   \n",
       "\n",
       "                                     speech_sentence  \n",
       "0                               My fellow citizens :  \n",
       "1  I stand here today humbled by the task before ...  \n",
       "2  I thank President Bush for his service to our ...  \n",
       "3  Forty - four Americans have now taken the pres...  \n",
       "4  The words have been spoken during rising tides...  \n",
       "\n",
       "[5 rows x 2054 columns]"
      ]
     },
     "execution_count": 111,
     "metadata": {},
     "output_type": "execute_result"
    }
   ],
   "source": [
    "word_vectors.head()"
   ]
  },
  {
   "cell_type": "code",
   "execution_count": 112,
   "metadata": {},
   "outputs": [
    {
     "name": "stdout",
     "output_type": "stream",
     "text": [
      "1506\n"
     ]
    }
   ],
   "source": [
    "speech_source = []\n",
    "for i in range(0,len(Obama)):\n",
    "    speech_source.append(\"Obama\")\n",
    "for i in range(0,len(Clinton)+len(Clinton1)):\n",
    "    speech_source.append(\"Clinton\")\n",
    "for i in range(0,len(Reagan)):\n",
    "    speech_source.append(\"Reagan\")\n",
    "for i in range(0,len(Nixon)):\n",
    "    speech_source.append(\"Nixon\")\n",
    "for i in range(0,len(Garfield)):\n",
    "    speech_source.append(\"Garfield\")\n",
    "for i in range(0,len(McKinley)+len(McKinley1)):\n",
    "    speech_source.append(\"McKinley\")\n",
    "for i in range(0,len(Eisenhower)+len(Eisenhower1)):\n",
    "    speech_source.append(\"Eisenhower\")\n",
    "for i in range(0,len(Wilson)+len(Wilson1)):\n",
    "    speech_source.append(\"Wilson\")   \n",
    "for i in range(0,len(Roosevelt)+len(Roosevelt1)):\n",
    "    speech_source.append(\"Roosevelt\")    \n",
    "for i in range(0,len(Cleveland)+len(Cleveland1)):\n",
    "    speech_source.append(\"Cleveland\")\n",
    "    \n",
    "print(len(speech_source))"
   ]
  },
  {
   "cell_type": "code",
   "execution_count": 113,
   "metadata": {},
   "outputs": [],
   "source": [
    "word_vectors[\"speech_source\"] = speech_source"
   ]
  },
  {
   "cell_type": "code",
   "execution_count": 114,
   "metadata": {},
   "outputs": [
    {
     "data": {
      "text/plain": [
       "(1506, 2055)"
      ]
     },
     "execution_count": 114,
     "metadata": {},
     "output_type": "execute_result"
    }
   ],
   "source": [
    "word_vectors.shape"
   ]
  },
  {
   "cell_type": "code",
   "execution_count": 115,
   "metadata": {},
   "outputs": [
    {
     "name": "stdout",
     "output_type": "stream",
     "text": [
      "(1506, 2053)\n",
      "(1506,)\n"
     ]
    }
   ],
   "source": [
    "Y = word_vectors[\"speech_source\"]\n",
    "X = np.array(word_vectors.loc[:, ~word_vectors.columns.isin([\"speech_sentence\", \"speech_source\"])])\n",
    "print(X.shape)\n",
    "print(Y.shape)"
   ]
  },
  {
   "cell_type": "code",
   "execution_count": 116,
   "metadata": {},
   "outputs": [],
   "source": [
    "X_train, X_test, y_train, y_test = train_test_split(X, Y, test_size=0.25, random_state=0)"
   ]
  },
  {
   "cell_type": "markdown",
   "metadata": {},
   "source": [
    "<h1><center>Create a Series of Clusters</center></h1>"
   ]
  },
  {
   "cell_type": "markdown",
   "metadata": {},
   "source": [
    "### k-Means"
   ]
  },
  {
   "cell_type": "code",
   "execution_count": 145,
   "metadata": {},
   "outputs": [],
   "source": [
    "from sklearn.cluster import KMeans\n",
    "from sklearn import metrics\n",
    "from sklearn.metrics import pairwise_distances"
   ]
  },
  {
   "cell_type": "code",
   "execution_count": 146,
   "metadata": {},
   "outputs": [],
   "source": [
    "kmeans = KMeans(n_clusters=10)\n",
    "kmeans = kmeans.fit(X_train)\n",
    "kmlabels = kmeans.predict(X_train)"
   ]
  },
  {
   "cell_type": "code",
   "execution_count": 157,
   "metadata": {},
   "outputs": [
    {
     "data": {
      "text/plain": [
       "Counter({0: 579,\n",
       "         9: 84,\n",
       "         5: 61,\n",
       "         4: 125,\n",
       "         7: 76,\n",
       "         3: 83,\n",
       "         6: 21,\n",
       "         1: 31,\n",
       "         2: 32,\n",
       "         8: 37})"
      ]
     },
     "execution_count": 157,
     "metadata": {},
     "output_type": "execute_result"
    }
   ],
   "source": [
    "from collections import Counter\n",
    "\n",
    "Counter(kmlabels)"
   ]
  },
  {
   "cell_type": "code",
   "execution_count": 152,
   "metadata": {},
   "outputs": [
    {
     "data": {
      "text/plain": [
       "0.47298494242692646"
      ]
     },
     "execution_count": 152,
     "metadata": {},
     "output_type": "execute_result"
    }
   ],
   "source": [
    "534/1129"
   ]
  },
  {
   "cell_type": "markdown",
   "metadata": {},
   "source": [
    "### Meanshift"
   ]
  },
  {
   "cell_type": "code",
   "execution_count": 134,
   "metadata": {
    "scrolled": true
   },
   "outputs": [
    {
     "name": "stdout",
     "output_type": "stream",
     "text": [
      "0.1\n",
      "1\n",
      "0.2\n",
      "1\n",
      "0.3\n",
      "1\n",
      "0.4\n",
      "1\n",
      "0.5\n",
      "1\n",
      "0.6\n",
      "1\n",
      "0.65\n",
      "1\n",
      "0.75\n",
      "1\n",
      "0.9\n",
      "1\n"
     ]
    }
   ],
   "source": [
    "from sklearn.cluster import MeanShift, estimate_bandwidth\n",
    "\n",
    "quantiles = [.1, .2, .3, .4, .5, .6, .65, .75, .9]\n",
    "\n",
    "for q in quantiles:\n",
    "    bandwidth = estimate_bandwidth(X_train, quantile=q, n_samples=100)\n",
    "    ms = MeanShift(bandwidth=bandwidth, bin_seeding=True)\n",
    "    ms = ms.fit(X_train)\n",
    "    mslabels = ms.labels_\n",
    "    print(q)\n",
    "    print(len(ms.cluster_centers_))"
   ]
  },
  {
   "cell_type": "code",
   "execution_count": 135,
   "metadata": {},
   "outputs": [],
   "source": [
    "ms = MeanShift()\n",
    "ms = ms.fit(X_train)\n",
    "mslabels = ms.labels_"
   ]
  },
  {
   "cell_type": "code",
   "execution_count": 136,
   "metadata": {},
   "outputs": [
    {
     "data": {
      "text/plain": [
       "Counter({0: 1129})"
      ]
     },
     "execution_count": 136,
     "metadata": {},
     "output_type": "execute_result"
    }
   ],
   "source": [
    "Counter(mslabels)"
   ]
  },
  {
   "cell_type": "markdown",
   "metadata": {},
   "source": [
    "### Spectral Clustering"
   ]
  },
  {
   "cell_type": "code",
   "execution_count": 137,
   "metadata": {},
   "outputs": [],
   "source": [
    "from sklearn.cluster import SpectralClustering\n",
    "\n",
    "sc = SpectralClustering(n_clusters=10)\n",
    "sc = sc.fit(X_train)\n",
    "sclabels = sc.labels_"
   ]
  },
  {
   "cell_type": "code",
   "execution_count": 138,
   "metadata": {},
   "outputs": [
    {
     "data": {
      "text/plain": [
       "Counter({0: 707, 6: 39, 8: 38, 9: 66, 4: 109, 5: 94, 1: 18, 7: 46, 3: 9, 2: 3})"
      ]
     },
     "execution_count": 138,
     "metadata": {},
     "output_type": "execute_result"
    }
   ],
   "source": [
    "Counter(sclabels)"
   ]
  },
  {
   "cell_type": "markdown",
   "metadata": {},
   "source": [
    "### Digging into the different clustering methods"
   ]
  },
  {
   "cell_type": "code",
   "execution_count": 143,
   "metadata": {},
   "outputs": [
    {
     "data": {
      "text/plain": [
       "1129"
      ]
     },
     "execution_count": 143,
     "metadata": {},
     "output_type": "execute_result"
    }
   ],
   "source": [
    "len(sclabels)"
   ]
  },
  {
   "cell_type": "code",
   "execution_count": 144,
   "metadata": {},
   "outputs": [
    {
     "data": {
      "text/plain": [
       "1129"
      ]
     },
     "execution_count": 144,
     "metadata": {},
     "output_type": "execute_result"
    }
   ],
   "source": [
    "len(y_train)"
   ]
  },
  {
   "cell_type": "code",
   "execution_count": 147,
   "metadata": {},
   "outputs": [],
   "source": [
    "cluster_labels_df = pd.DataFrame()\n",
    "\n",
    "cluster_labels_df[\"speech_source\"] = y_train\n",
    "cluster_labels_df[\"km_clusters\"] = kmlabels\n",
    "cluster_labels_df[\"ms_clusters\"] = mslabels\n",
    "cluster_labels_df[\"sc_clusters\"] = sclabels"
   ]
  },
  {
   "cell_type": "code",
   "execution_count": 151,
   "metadata": {},
   "outputs": [
    {
     "data": {
      "text/plain": [
       "Counter({0: 48, 2: 3, 4: 4, 8: 5, 1: 3, 9: 8, 6: 1, 7: 3, 5: 3})"
      ]
     },
     "execution_count": 151,
     "metadata": {},
     "output_type": "execute_result"
    }
   ],
   "source": [
    "Counter(cluster_labels_df[cluster_labels_df[\"speech_source\"] == \"Obama\"][\"km_clusters\"])"
   ]
  },
  {
   "cell_type": "code",
   "execution_count": 153,
   "metadata": {},
   "outputs": [
    {
     "data": {
      "text/plain": [
       "Counter({0: 25, 3: 18, 4: 4, 7: 12, 5: 12, 8: 2, 1: 3, 2: 2, 9: 2})"
      ]
     },
     "execution_count": 153,
     "metadata": {},
     "output_type": "execute_result"
    }
   ],
   "source": [
    "Counter(cluster_labels_df[cluster_labels_df[\"speech_source\"] == \"Cleveland\"][\"km_clusters\"])"
   ]
  },
  {
   "cell_type": "code",
   "execution_count": 154,
   "metadata": {},
   "outputs": [
    {
     "data": {
      "text/plain": [
       "Counter({4: 12, 0: 44, 7: 5, 2: 2, 9: 6, 6: 4, 5: 3, 1: 2, 3: 1, 8: 2})"
      ]
     },
     "execution_count": 154,
     "metadata": {},
     "output_type": "execute_result"
    }
   ],
   "source": [
    "Counter(cluster_labels_df[cluster_labels_df[\"speech_source\"] == \"Garfield\"][\"km_clusters\"])"
   ]
  },
  {
   "cell_type": "code",
   "execution_count": 155,
   "metadata": {},
   "outputs": [
    {
     "data": {
      "text/plain": [
       "Counter({'Reagan': 3,\n",
       "         'Obama': 5,\n",
       "         'Cleveland': 2,\n",
       "         'McKinley': 14,\n",
       "         'Eisenhower': 3,\n",
       "         'Clinton': 2,\n",
       "         'Roosevelt': 2,\n",
       "         'Nixon': 2,\n",
       "         'Garfield': 2,\n",
       "         'Wilson': 2})"
      ]
     },
     "execution_count": 155,
     "metadata": {},
     "output_type": "execute_result"
    }
   ],
   "source": [
    "(Counter(cluster_labels_df[cluster_labels_df[\"km_clusters\"] == 8][\"speech_source\"]))"
   ]
  },
  {
   "cell_type": "code",
   "execution_count": 156,
   "metadata": {},
   "outputs": [
    {
     "data": {
      "text/plain": [
       "Counter({'McKinley': 3,\n",
       "         'Garfield': 4,\n",
       "         'Wilson': 4,\n",
       "         'Obama': 1,\n",
       "         'Roosevelt': 2,\n",
       "         'Clinton': 6,\n",
       "         'Nixon': 1})"
      ]
     },
     "execution_count": 156,
     "metadata": {},
     "output_type": "execute_result"
    }
   ],
   "source": [
    "(Counter(cluster_labels_df[cluster_labels_df[\"km_clusters\"] == 6][\"speech_source\"]))"
   ]
  },
  {
   "cell_type": "code",
   "execution_count": 158,
   "metadata": {},
   "outputs": [
    {
     "data": {
      "text/plain": [
       "Counter({'Wilson': 3,\n",
       "         'Nixon': 4,\n",
       "         'Eisenhower': 11,\n",
       "         'Cleveland': 12,\n",
       "         'Garfield': 3,\n",
       "         'Reagan': 3,\n",
       "         'Roosevelt': 4,\n",
       "         'McKinley': 7,\n",
       "         'Clinton': 11,\n",
       "         'Obama': 3})"
      ]
     },
     "execution_count": 158,
     "metadata": {},
     "output_type": "execute_result"
    }
   ],
   "source": [
    "(Counter(cluster_labels_df[cluster_labels_df[\"km_clusters\"] == 5][\"speech_source\"]))"
   ]
  },
  {
   "cell_type": "code",
   "execution_count": 159,
   "metadata": {},
   "outputs": [
    {
     "data": {
      "text/plain": [
       "Counter({'Roosevelt': 76,\n",
       "         'McKinley': 84,\n",
       "         'Clinton': 66,\n",
       "         'Wilson': 55,\n",
       "         'Eisenhower': 79,\n",
       "         'Reagan': 55,\n",
       "         'Obama': 48,\n",
       "         'Nixon': 47,\n",
       "         'Garfield': 44,\n",
       "         'Cleveland': 25})"
      ]
     },
     "execution_count": 159,
     "metadata": {},
     "output_type": "execute_result"
    }
   ],
   "source": [
    "(Counter(cluster_labels_df[cluster_labels_df[\"km_clusters\"] == 0][\"speech_source\"]))"
   ]
  },
  {
   "cell_type": "code",
   "execution_count": 161,
   "metadata": {},
   "outputs": [
    {
     "data": {
      "text/plain": [
       "Counter({'Nixon': 5,\n",
       "         'Eisenhower': 31,\n",
       "         'Roosevelt': 11,\n",
       "         'Cleveland': 13,\n",
       "         'McKinley': 25,\n",
       "         'Reagan': 8,\n",
       "         'Wilson': 10,\n",
       "         'Clinton': 3,\n",
       "         'Garfield': 3})"
      ]
     },
     "execution_count": 161,
     "metadata": {},
     "output_type": "execute_result"
    }
   ],
   "source": [
    "(Counter(cluster_labels_df[cluster_labels_df[\"sc_clusters\"] == 4][\"speech_source\"]))"
   ]
  },
  {
   "cell_type": "markdown",
   "metadata": {},
   "source": [
    "### Running k-means and spectral clustering with 2 and 3 clusters \n",
    "#### Hypothesis: Might cluster by time period or political party\n",
    "\n",
    "**In Chronological Order:**\n",
    "1. Obama\n",
    "2. Clinton\n",
    "3. Reagan\n",
    "4. Nixon\n",
    "5. Eisenhower\n",
    "6. Roosevelt\n",
    "7. Wilson\n",
    "8. McKinley\n",
    "9. Cleveland\n",
    "10. Garfield\n",
    "\n",
    "**Political Party Affiliation:**\n",
    "\n",
    "Republican\n",
    "+ Garfield\n",
    "+ McKinley\n",
    "+ Eisenhower\n",
    "+ Nixon\n",
    "+ Reagan\n",
    "\n",
    "Democrat\n",
    "+ Cleveland\n",
    "+ Roosevelt\n",
    "+ Wilson\n",
    "+ Obama\n",
    "+ Clinton"
   ]
  },
  {
   "cell_type": "code",
   "execution_count": 162,
   "metadata": {},
   "outputs": [],
   "source": [
    "kmeans3 = KMeans(n_clusters=3)\n",
    "kmeans3 = kmeans3.fit(X_train)\n",
    "km3labels = kmeans3.predict(X_train)"
   ]
  },
  {
   "cell_type": "code",
   "execution_count": 163,
   "metadata": {},
   "outputs": [
    {
     "data": {
      "text/plain": [
       "Counter({0: 862, 1: 130, 2: 137})"
      ]
     },
     "execution_count": 163,
     "metadata": {},
     "output_type": "execute_result"
    }
   ],
   "source": [
    "Counter(km3labels)"
   ]
  },
  {
   "cell_type": "code",
   "execution_count": 164,
   "metadata": {},
   "outputs": [],
   "source": [
    "kmeans2 = KMeans(n_clusters=2)\n",
    "kmeans2 = kmeans2.fit(X_train)\n",
    "km2labels = kmeans2.predict(X_train)"
   ]
  },
  {
   "cell_type": "code",
   "execution_count": 165,
   "metadata": {},
   "outputs": [
    {
     "data": {
      "text/plain": [
       "Counter({0: 986, 1: 143})"
      ]
     },
     "execution_count": 165,
     "metadata": {},
     "output_type": "execute_result"
    }
   ],
   "source": [
    "Counter(km2labels)"
   ]
  },
  {
   "cell_type": "code",
   "execution_count": 166,
   "metadata": {},
   "outputs": [
    {
     "data": {
      "text/plain": [
       "1129"
      ]
     },
     "execution_count": 166,
     "metadata": {},
     "output_type": "execute_result"
    }
   ],
   "source": [
    "len(km2labels)"
   ]
  },
  {
   "cell_type": "code",
   "execution_count": 168,
   "metadata": {},
   "outputs": [
    {
     "data": {
      "text/plain": [
       "Counter({0: 933, 2: 186, 1: 10})"
      ]
     },
     "execution_count": 168,
     "metadata": {},
     "output_type": "execute_result"
    }
   ],
   "source": [
    "sc3 = SpectralClustering(n_clusters=3)\n",
    "sc3 = sc3.fit(X_train)\n",
    "sc3labels = sc3.labels_\n",
    "\n",
    "Counter(sc3labels)"
   ]
  },
  {
   "cell_type": "code",
   "execution_count": 170,
   "metadata": {},
   "outputs": [
    {
     "data": {
      "text/plain": [
       "Counter({0: 1117, 1: 12})"
      ]
     },
     "execution_count": 170,
     "metadata": {},
     "output_type": "execute_result"
    }
   ],
   "source": [
    "sc2 = SpectralClustering(n_clusters=2)\n",
    "sc2 = sc2.fit(X_train)\n",
    "sc2labels = sc2.labels_\n",
    "\n",
    "Counter(sc2labels)"
   ]
  },
  {
   "cell_type": "code",
   "execution_count": 171,
   "metadata": {},
   "outputs": [],
   "source": [
    "cluster_labels_df[\"km2_clusters\"] = km2labels\n",
    "cluster_labels_df[\"km3_clusters\"] = km3labels\n"
   ]
  },
  {
   "cell_type": "code",
   "execution_count": 172,
   "metadata": {},
   "outputs": [
    {
     "data": {
      "text/html": [
       "<div>\n",
       "<style scoped>\n",
       "    .dataframe tbody tr th:only-of-type {\n",
       "        vertical-align: middle;\n",
       "    }\n",
       "\n",
       "    .dataframe tbody tr th {\n",
       "        vertical-align: top;\n",
       "    }\n",
       "\n",
       "    .dataframe thead th {\n",
       "        text-align: right;\n",
       "    }\n",
       "</style>\n",
       "<table border=\"1\" class=\"dataframe\">\n",
       "  <thead>\n",
       "    <tr style=\"text-align: right;\">\n",
       "      <th></th>\n",
       "      <th>speech_source</th>\n",
       "      <th>km_clusters</th>\n",
       "      <th>ms_clusters</th>\n",
       "      <th>sc_clusters</th>\n",
       "      <th>km2_clusters</th>\n",
       "      <th>km3_clusters</th>\n",
       "    </tr>\n",
       "  </thead>\n",
       "  <tbody>\n",
       "    <tr>\n",
       "      <th>1397</th>\n",
       "      <td>Roosevelt</td>\n",
       "      <td>0</td>\n",
       "      <td>0</td>\n",
       "      <td>0</td>\n",
       "      <td>0</td>\n",
       "      <td>0</td>\n",
       "    </tr>\n",
       "    <tr>\n",
       "      <th>711</th>\n",
       "      <td>McKinley</td>\n",
       "      <td>0</td>\n",
       "      <td>0</td>\n",
       "      <td>0</td>\n",
       "      <td>0</td>\n",
       "      <td>0</td>\n",
       "    </tr>\n",
       "    <tr>\n",
       "      <th>247</th>\n",
       "      <td>Clinton</td>\n",
       "      <td>0</td>\n",
       "      <td>0</td>\n",
       "      <td>0</td>\n",
       "      <td>0</td>\n",
       "      <td>0</td>\n",
       "    </tr>\n",
       "    <tr>\n",
       "      <th>667</th>\n",
       "      <td>McKinley</td>\n",
       "      <td>0</td>\n",
       "      <td>0</td>\n",
       "      <td>0</td>\n",
       "      <td>0</td>\n",
       "      <td>0</td>\n",
       "    </tr>\n",
       "    <tr>\n",
       "      <th>1199</th>\n",
       "      <td>Wilson</td>\n",
       "      <td>0</td>\n",
       "      <td>0</td>\n",
       "      <td>0</td>\n",
       "      <td>0</td>\n",
       "      <td>0</td>\n",
       "    </tr>\n",
       "  </tbody>\n",
       "</table>\n",
       "</div>"
      ],
      "text/plain": [
       "     speech_source  km_clusters  ms_clusters  sc_clusters  km2_clusters  \\\n",
       "1397     Roosevelt            0            0            0             0   \n",
       "711       McKinley            0            0            0             0   \n",
       "247        Clinton            0            0            0             0   \n",
       "667       McKinley            0            0            0             0   \n",
       "1199        Wilson            0            0            0             0   \n",
       "\n",
       "      km3_clusters  \n",
       "1397             0  \n",
       "711              0  \n",
       "247              0  \n",
       "667              0  \n",
       "1199             0  "
      ]
     },
     "execution_count": 172,
     "metadata": {},
     "output_type": "execute_result"
    }
   ],
   "source": [
    "cluster_labels_df.head()"
   ]
  },
  {
   "cell_type": "markdown",
   "metadata": {},
   "source": [
    "### Digging into the different clustering methods (after running with 2 and 3 clusters)"
   ]
  },
  {
   "cell_type": "code",
   "execution_count": 173,
   "metadata": {},
   "outputs": [
    {
     "data": {
      "text/plain": [
       "Counter({'Wilson': 7,\n",
       "         'Eisenhower': 23,\n",
       "         'Cleveland': 30,\n",
       "         'Nixon': 9,\n",
       "         'McKinley': 24,\n",
       "         'Clinton': 18,\n",
       "         'Garfield': 7,\n",
       "         'Roosevelt': 14,\n",
       "         'Obama': 5,\n",
       "         'Reagan': 6})"
      ]
     },
     "execution_count": 173,
     "metadata": {},
     "output_type": "execute_result"
    }
   ],
   "source": [
    "(Counter(cluster_labels_df[cluster_labels_df[\"km2_clusters\"] == 1][\"speech_source\"]))"
   ]
  },
  {
   "cell_type": "code",
   "execution_count": null,
   "metadata": {},
   "outputs": [],
   "source": []
  }
 ],
 "metadata": {
  "kernelspec": {
   "display_name": "Python 3",
   "language": "python",
   "name": "python3"
  },
  "language_info": {
   "codemirror_mode": {
    "name": "ipython",
    "version": 3
   },
   "file_extension": ".py",
   "mimetype": "text/x-python",
   "name": "python",
   "nbconvert_exporter": "python",
   "pygments_lexer": "ipython3",
   "version": "3.6.5"
  }
 },
 "nbformat": 4,
 "nbformat_minor": 2
}
