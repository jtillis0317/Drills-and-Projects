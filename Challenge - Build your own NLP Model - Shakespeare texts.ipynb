{
 "cells": [
  {
   "cell_type": "code",
   "execution_count": 1,
   "metadata": {},
   "outputs": [],
   "source": [
    "import numpy as np\n",
    "import pandas as pd\n",
    "import seaborn as sns\n",
    "import matplotlib.pyplot as plt\n",
    "%matplotlib inline\n",
    "import scipy\n",
    "import sklearn\n",
    "import spacy\n",
    "import re\n",
    "from nltk.corpus import gutenberg, stopwords\n",
    "from collections import Counter"
   ]
  },
  {
   "cell_type": "markdown",
   "metadata": {},
   "source": [
    "### Challenge \n",
    "\n",
    "**Directions:** For this challenge, you will need to choose a corpus of data from nltk or another source that includes categories you can predict and create an analysis pipeline that includes the following steps:\n",
    "\n",
    "1. Data cleaning / processing / language parsing\n",
    "2. Create features using two different NLP methods: For example, BoW vs tf-idf.\n",
    "3. Use the features to fit supervised learning models for each feature set to predict the category outcomes.\n",
    "4. Assess your models using cross-validation and determine whether one model performed better.\n",
    "5. Pick one of the models and try to increase accuracy by at least 5 percentage points."
   ]
  },
  {
   "cell_type": "markdown",
   "metadata": {},
   "source": [
    "<h1><center>Data Cleaning/Processing</center></h1>"
   ]
  },
  {
   "cell_type": "code",
   "execution_count": 2,
   "metadata": {},
   "outputs": [
    {
     "name": "stdout",
     "output_type": "stream",
     "text": [
      "['austen-emma.txt', 'austen-persuasion.txt', 'austen-sense.txt', 'bible-kjv.txt', 'blake-poems.txt', 'bryant-stories.txt', 'burgess-busterbrown.txt', 'carroll-alice.txt', 'chesterton-ball.txt', 'chesterton-brown.txt', 'chesterton-thursday.txt', 'edgeworth-parents.txt', 'melville-moby_dick.txt', 'milton-paradise.txt', 'shakespeare-caesar.txt', 'shakespeare-hamlet.txt', 'shakespeare-macbeth.txt', 'whitman-leaves.txt']\n"
     ]
    }
   ],
   "source": [
    "print(gutenberg.fileids())"
   ]
  },
  {
   "cell_type": "code",
   "execution_count": 205,
   "metadata": {},
   "outputs": [],
   "source": [
    "hamlet = gutenberg.raw(\"shakespeare-hamlet.txt\")\n",
    "macbeth = gutenberg.raw(\"shakespeare-macbeth.txt\")"
   ]
  },
  {
   "cell_type": "code",
   "execution_count": 206,
   "metadata": {},
   "outputs": [
    {
     "data": {
      "text/plain": [
       "'[The Tragedie of Hamlet by William Shakespeare 1599]\\n\\n\\nActus Primus. Scoena Prima.\\n\\nEnter Barnardo a'"
      ]
     },
     "execution_count": 206,
     "metadata": {},
     "output_type": "execute_result"
    }
   ],
   "source": [
    "hamlet[:100]"
   ]
  },
  {
   "cell_type": "code",
   "execution_count": 207,
   "metadata": {},
   "outputs": [],
   "source": [
    "def text_cleaner(text):\n",
    "    text = re.sub(r\"--\", \" \", text)\n",
    "    text = re.sub(\"[\\[].*?[\\]]\", \"\", text)\n",
    "    text = \" \".join(text.split())\n",
    "    return text"
   ]
  },
  {
   "cell_type": "code",
   "execution_count": 208,
   "metadata": {},
   "outputs": [],
   "source": [
    "hamlet = text_cleaner(hamlet)"
   ]
  },
  {
   "cell_type": "code",
   "execution_count": 209,
   "metadata": {},
   "outputs": [
    {
     "data": {
      "text/plain": [
       "\"Actus Primus. Scoena Prima. Enter Barnardo and Francisco two Centinels. Barnardo. Who's there? Fran.\""
      ]
     },
     "execution_count": 209,
     "metadata": {},
     "output_type": "execute_result"
    }
   ],
   "source": [
    "hamlet[:100]"
   ]
  },
  {
   "cell_type": "code",
   "execution_count": 210,
   "metadata": {},
   "outputs": [],
   "source": [
    "macbeth = text_cleaner(macbeth)"
   ]
  },
  {
   "cell_type": "code",
   "execution_count": 211,
   "metadata": {},
   "outputs": [],
   "source": [
    "nlp = spacy.load(\"en\")\n",
    "\n",
    "hamlet_doc = nlp(hamlet)\n",
    "macbeth_doc = nlp(macbeth)"
   ]
  },
  {
   "cell_type": "code",
   "execution_count": 212,
   "metadata": {},
   "outputs": [],
   "source": [
    "hamlet_sents = [[sent, \"Hamlet\"] for sent in hamlet_doc.sents]\n",
    "macbeth_sents = [[sent, \"Macbeth\"] for sent in macbeth_doc.sents]\n",
    "\n",
    "hamlet_sents_df = pd.DataFrame(hamlet_sents)\n",
    "macbeth_sents_df = pd.DataFrame(macbeth_sents)\n",
    "\n",
    "sentences = pd.DataFrame(hamlet_sents + macbeth_sents)"
   ]
  },
  {
   "cell_type": "code",
   "execution_count": 213,
   "metadata": {},
   "outputs": [
    {
     "data": {
      "text/html": [
       "<div>\n",
       "<style scoped>\n",
       "    .dataframe tbody tr th:only-of-type {\n",
       "        vertical-align: middle;\n",
       "    }\n",
       "\n",
       "    .dataframe tbody tr th {\n",
       "        vertical-align: top;\n",
       "    }\n",
       "\n",
       "    .dataframe thead th {\n",
       "        text-align: right;\n",
       "    }\n",
       "</style>\n",
       "<table border=\"1\" class=\"dataframe\">\n",
       "  <thead>\n",
       "    <tr style=\"text-align: right;\">\n",
       "      <th></th>\n",
       "      <th>0</th>\n",
       "      <th>1</th>\n",
       "    </tr>\n",
       "  </thead>\n",
       "  <tbody>\n",
       "    <tr>\n",
       "      <th>4941</th>\n",
       "      <td>(So, thankes, to, all, at, once, ,, and, to, e...</td>\n",
       "      <td>Macbeth</td>\n",
       "    </tr>\n",
       "    <tr>\n",
       "      <th>4942</th>\n",
       "      <td>(Flourish, .)</td>\n",
       "      <td>Macbeth</td>\n",
       "    </tr>\n",
       "    <tr>\n",
       "      <th>4943</th>\n",
       "      <td>(Exeunt, Omnes, .)</td>\n",
       "      <td>Macbeth</td>\n",
       "    </tr>\n",
       "    <tr>\n",
       "      <th>4944</th>\n",
       "      <td>(FINIS, .)</td>\n",
       "      <td>Macbeth</td>\n",
       "    </tr>\n",
       "    <tr>\n",
       "      <th>4945</th>\n",
       "      <td>(THE, TRAGEDIE, OF, MACBETH, .)</td>\n",
       "      <td>Macbeth</td>\n",
       "    </tr>\n",
       "  </tbody>\n",
       "</table>\n",
       "</div>"
      ],
      "text/plain": [
       "                                                      0        1\n",
       "4941  (So, thankes, to, all, at, once, ,, and, to, e...  Macbeth\n",
       "4942                                      (Flourish, .)  Macbeth\n",
       "4943                                 (Exeunt, Omnes, .)  Macbeth\n",
       "4944                                         (FINIS, .)  Macbeth\n",
       "4945                    (THE, TRAGEDIE, OF, MACBETH, .)  Macbeth"
      ]
     },
     "execution_count": 213,
     "metadata": {},
     "output_type": "execute_result"
    }
   ],
   "source": [
    "sentences.tail()"
   ]
  },
  {
   "cell_type": "code",
   "execution_count": 214,
   "metadata": {},
   "outputs": [
    {
     "data": {
      "text/plain": [
       "Text(0,0.5,'Number of Sentences')"
      ]
     },
     "execution_count": 214,
     "metadata": {},
     "output_type": "execute_result"
    },
    {
     "data": {
      "image/png": "[encoded data removed]",
      "text/plain": [
       "<Figure size 720x720 with 1 Axes>"
      ]
     },
     "metadata": {},
     "output_type": "display_data"
    }
   ],
   "source": [
    "import seaborn as sns\n",
    "\n",
    "sns.set(style=\"whitegrid\")\n",
    "ax = sns.barplot(x=sentences[1].unique(), y=sentences[1].value_counts(), data=sentences)\n",
    "\n",
    "sns.set(rc={'figure.figsize':(10,10)})\n",
    "ax.set_title(\"Number of Sentences in Each Play\", size=20)\n",
    "ax.set_ylabel(\"Number of Sentences\", size=15)"
   ]
  },
  {
   "cell_type": "markdown",
   "metadata": {},
   "source": [
    "<h1><center>Create Features Using Bag of Words</center></h1>"
   ]
  },
  {
   "cell_type": "code",
   "execution_count": null,
   "metadata": {},
   "outputs": [],
   "source": [
    "allwords = \n",
    "for token in text:\n",
    "    if (token.is_punct == False) & (token.is_stop == False):\n",
    "        token.lemma_\n",
    "\n",
    "[token.lemma_\n",
    "                for token in text\n",
    "                if not (token.is_punct\n",
    "                or token.is_stop)]"
   ]
  },
  {
   "cell_type": "code",
   "execution_count": 331,
   "metadata": {},
   "outputs": [],
   "source": [
    "def bag_of_words(text):\n",
    "    \n",
    "    # Filter out punctuation and stop words.\n",
    "    allwords = [token.lemma_\n",
    "                for token in text\n",
    "                if not (token.is_punct\n",
    "                or token.is_stop)]\n",
    "    \n",
    "    # Return the most common words.\n",
    "    return [item[0] for item in Counter(allwords).most_common(2000)]\n",
    "   "
   ]
  },
  {
   "cell_type": "code",
   "execution_count": 332,
   "metadata": {},
   "outputs": [
    {
     "data": {
      "text/plain": [
       "True"
      ]
     },
     "execution_count": 332,
     "metadata": {},
     "output_type": "execute_result"
    }
   ],
   "source": [
    "hamlet_doc[8].is_stop"
   ]
  },
  {
   "cell_type": "code",
   "execution_count": 333,
   "metadata": {},
   "outputs": [],
   "source": [
    "hamletwords = bag_of_words(hamlet_doc)"
   ]
  },
  {
   "cell_type": "code",
   "execution_count": 217,
   "metadata": {},
   "outputs": [],
   "source": [
    "macbethwords = bag_of_words(macbeth_doc)"
   ]
  },
  {
   "cell_type": "code",
   "execution_count": 218,
   "metadata": {},
   "outputs": [],
   "source": [
    "common_words = set(hamletwords + macbethwords)"
   ]
  },
  {
   "cell_type": "code",
   "execution_count": 219,
   "metadata": {},
   "outputs": [],
   "source": [
    "abridged_sentences = sentences.sample(1000)"
   ]
  },
  {
   "cell_type": "code",
   "execution_count": 220,
   "metadata": {},
   "outputs": [
    {
     "data": {
      "text/plain": [
       "(1000, 2)"
      ]
     },
     "execution_count": 220,
     "metadata": {},
     "output_type": "execute_result"
    }
   ],
   "source": [
    "abridged_sentences.shape"
   ]
  },
  {
   "cell_type": "code",
   "execution_count": 221,
   "metadata": {},
   "outputs": [
    {
     "data": {
      "text/plain": [
       "Hamlet     607\n",
       "Macbeth    393\n",
       "Name: 1, dtype: int64"
      ]
     },
     "execution_count": 221,
     "metadata": {},
     "output_type": "execute_result"
    }
   ],
   "source": [
    "abridged_sentences[1].value_counts()"
   ]
  },
  {
   "cell_type": "code",
   "execution_count": 222,
   "metadata": {},
   "outputs": [],
   "source": [
    "def bow_features(sentences, common_words):\n",
    "    \n",
    "    # Scaffold the data frame and initialize counts to zero.\n",
    "    df = pd.DataFrame(columns=common_words)\n",
    "    df['text_sentence'] = sentences[0]\n",
    "    df['text_source'] = sentences[1]\n",
    "    df.loc[:, common_words] = 0\n",
    "    \n",
    "    # Process each row, counting the occurrence of words in each sentence.\n",
    "    for i, sentence in enumerate(df['text_sentence']):\n",
    "        \n",
    "        # Convert the sentence to lemmas, then filter out punctuation,\n",
    "        # stop words, and uncommon words.\n",
    "        words = [token.lemma_\n",
    "                 for token in sentence\n",
    "                 if (\n",
    "                     not token.is_punct\n",
    "                     and not token.is_stop\n",
    "                     and token.lemma_ in common_words\n",
    "                 )]\n",
    "        \n",
    "        # Populate the row with word counts.\n",
    "        for word in words:\n",
    "            df.loc[i, word] += 1\n",
    "        \n",
    "        # This counter is just to make sure the kernel didn't hang.\n",
    "        if i % 500 == 0:\n",
    "            print(\"Processing row {}\".format(i))\n",
    "            \n",
    "    return df"
   ]
  },
  {
   "cell_type": "code",
   "execution_count": 223,
   "metadata": {},
   "outputs": [
    {
     "data": {
      "text/html": [
       "<div>\n",
       "<style scoped>\n",
       "    .dataframe tbody tr th:only-of-type {\n",
       "        vertical-align: middle;\n",
       "    }\n",
       "\n",
       "    .dataframe tbody tr th {\n",
       "        vertical-align: top;\n",
       "    }\n",
       "\n",
       "    .dataframe thead th {\n",
       "        text-align: right;\n",
       "    }\n",
       "</style>\n",
       "<table border=\"1\" class=\"dataframe\">\n",
       "  <thead>\n",
       "    <tr style=\"text-align: right;\">\n",
       "      <th></th>\n",
       "      <th>0</th>\n",
       "      <th>1</th>\n",
       "    </tr>\n",
       "  </thead>\n",
       "  <tbody>\n",
       "    <tr>\n",
       "      <th>980</th>\n",
       "      <td>(Wee'l, wait, vpon, you, Ham, .)</td>\n",
       "      <td>Hamlet</td>\n",
       "    </tr>\n",
       "    <tr>\n",
       "      <th>726</th>\n",
       "      <td>(Farewell, :)</td>\n",
       "      <td>Hamlet</td>\n",
       "    </tr>\n",
       "    <tr>\n",
       "      <th>3116</th>\n",
       "      <td>(He, shall, liue, a, man, forbid, :)</td>\n",
       "      <td>Macbeth</td>\n",
       "    </tr>\n",
       "    <tr>\n",
       "      <th>1799</th>\n",
       "      <td>(But, in, our, circumstance, and, course, of, ...</td>\n",
       "      <td>Hamlet</td>\n",
       "    </tr>\n",
       "    <tr>\n",
       "      <th>2907</th>\n",
       "      <td>(Good, Madam, King, .)</td>\n",
       "      <td>Hamlet</td>\n",
       "    </tr>\n",
       "  </tbody>\n",
       "</table>\n",
       "</div>"
      ],
      "text/plain": [
       "                                                      0        1\n",
       "980                    (Wee'l, wait, vpon, you, Ham, .)   Hamlet\n",
       "726                                       (Farewell, :)   Hamlet\n",
       "3116               (He, shall, liue, a, man, forbid, :)  Macbeth\n",
       "1799  (But, in, our, circumstance, and, course, of, ...   Hamlet\n",
       "2907                             (Good, Madam, King, .)   Hamlet"
      ]
     },
     "execution_count": 223,
     "metadata": {},
     "output_type": "execute_result"
    }
   ],
   "source": [
    "abridged_sentences.head()"
   ]
  },
  {
   "cell_type": "code",
   "execution_count": 224,
   "metadata": {},
   "outputs": [],
   "source": [
    "abridged_sentences = abridged_sentences.reset_index(drop=True)"
   ]
  },
  {
   "cell_type": "code",
   "execution_count": 225,
   "metadata": {},
   "outputs": [
    {
     "data": {
      "text/html": [
       "<div>\n",
       "<style scoped>\n",
       "    .dataframe tbody tr th:only-of-type {\n",
       "        vertical-align: middle;\n",
       "    }\n",
       "\n",
       "    .dataframe tbody tr th {\n",
       "        vertical-align: top;\n",
       "    }\n",
       "\n",
       "    .dataframe thead th {\n",
       "        text-align: right;\n",
       "    }\n",
       "</style>\n",
       "<table border=\"1\" class=\"dataframe\">\n",
       "  <thead>\n",
       "    <tr style=\"text-align: right;\">\n",
       "      <th></th>\n",
       "      <th>0</th>\n",
       "      <th>1</th>\n",
       "    </tr>\n",
       "  </thead>\n",
       "  <tbody>\n",
       "    <tr>\n",
       "      <th>0</th>\n",
       "      <td>(Wee'l, wait, vpon, you, Ham, .)</td>\n",
       "      <td>Hamlet</td>\n",
       "    </tr>\n",
       "    <tr>\n",
       "      <th>1</th>\n",
       "      <td>(Farewell, :)</td>\n",
       "      <td>Hamlet</td>\n",
       "    </tr>\n",
       "    <tr>\n",
       "      <th>2</th>\n",
       "      <td>(He, shall, liue, a, man, forbid, :)</td>\n",
       "      <td>Macbeth</td>\n",
       "    </tr>\n",
       "    <tr>\n",
       "      <th>3</th>\n",
       "      <td>(But, in, our, circumstance, and, course, of, ...</td>\n",
       "      <td>Hamlet</td>\n",
       "    </tr>\n",
       "    <tr>\n",
       "      <th>4</th>\n",
       "      <td>(Good, Madam, King, .)</td>\n",
       "      <td>Hamlet</td>\n",
       "    </tr>\n",
       "  </tbody>\n",
       "</table>\n",
       "</div>"
      ],
      "text/plain": [
       "                                                   0        1\n",
       "0                   (Wee'l, wait, vpon, you, Ham, .)   Hamlet\n",
       "1                                      (Farewell, :)   Hamlet\n",
       "2               (He, shall, liue, a, man, forbid, :)  Macbeth\n",
       "3  (But, in, our, circumstance, and, course, of, ...   Hamlet\n",
       "4                             (Good, Madam, King, .)   Hamlet"
      ]
     },
     "execution_count": 225,
     "metadata": {},
     "output_type": "execute_result"
    }
   ],
   "source": [
    "abridged_sentences.head()"
   ]
  },
  {
   "cell_type": "code",
   "execution_count": 335,
   "metadata": {},
   "outputs": [
    {
     "name": "stdout",
     "output_type": "stream",
     "text": [
      "Processing row 0\n",
      "Processing row 500\n"
     ]
    }
   ],
   "source": [
    "word_counts = bow_features(abridged_sentences, common_words)"
   ]
  },
  {
   "cell_type": "code",
   "execution_count": 336,
   "metadata": {},
   "outputs": [
    {
     "data": {
      "text/html": [
       "<div>\n",
       "<style scoped>\n",
       "    .dataframe tbody tr th:only-of-type {\n",
       "        vertical-align: middle;\n",
       "    }\n",
       "\n",
       "    .dataframe tbody tr th {\n",
       "        vertical-align: top;\n",
       "    }\n",
       "\n",
       "    .dataframe thead th {\n",
       "        text-align: right;\n",
       "    }\n",
       "</style>\n",
       "<table border=\"1\" class=\"dataframe\">\n",
       "  <thead>\n",
       "    <tr style=\"text-align: right;\">\n",
       "      <th></th>\n",
       "      <th>howle</th>\n",
       "      <th>wassell</th>\n",
       "      <th>method</th>\n",
       "      <th>auspicious</th>\n",
       "      <th>adde</th>\n",
       "      <th>stop</th>\n",
       "      <th>vowe</th>\n",
       "      <th>tribute</th>\n",
       "      <th>bestil'd</th>\n",
       "      <th>banners</th>\n",
       "      <th>...</th>\n",
       "      <th>fitnesse</th>\n",
       "      <th>madnesse</th>\n",
       "      <th>malc</th>\n",
       "      <th>lesse</th>\n",
       "      <th>players</th>\n",
       "      <th>property</th>\n",
       "      <th>woe</th>\n",
       "      <th>lookes</th>\n",
       "      <th>text_sentence</th>\n",
       "      <th>text_source</th>\n",
       "    </tr>\n",
       "  </thead>\n",
       "  <tbody>\n",
       "    <tr>\n",
       "      <th>0</th>\n",
       "      <td>0</td>\n",
       "      <td>0</td>\n",
       "      <td>0</td>\n",
       "      <td>0</td>\n",
       "      <td>0</td>\n",
       "      <td>0</td>\n",
       "      <td>0</td>\n",
       "      <td>0</td>\n",
       "      <td>0</td>\n",
       "      <td>0</td>\n",
       "      <td>...</td>\n",
       "      <td>0</td>\n",
       "      <td>0</td>\n",
       "      <td>0</td>\n",
       "      <td>0</td>\n",
       "      <td>0</td>\n",
       "      <td>0</td>\n",
       "      <td>0</td>\n",
       "      <td>0</td>\n",
       "      <td>(Wee'l, wait, vpon, you, Ham, .)</td>\n",
       "      <td>Hamlet</td>\n",
       "    </tr>\n",
       "    <tr>\n",
       "      <th>1</th>\n",
       "      <td>0</td>\n",
       "      <td>0</td>\n",
       "      <td>0</td>\n",
       "      <td>0</td>\n",
       "      <td>0</td>\n",
       "      <td>0</td>\n",
       "      <td>0</td>\n",
       "      <td>0</td>\n",
       "      <td>0</td>\n",
       "      <td>0</td>\n",
       "      <td>...</td>\n",
       "      <td>0</td>\n",
       "      <td>0</td>\n",
       "      <td>0</td>\n",
       "      <td>0</td>\n",
       "      <td>0</td>\n",
       "      <td>0</td>\n",
       "      <td>0</td>\n",
       "      <td>0</td>\n",
       "      <td>(Farewell, :)</td>\n",
       "      <td>Hamlet</td>\n",
       "    </tr>\n",
       "    <tr>\n",
       "      <th>2</th>\n",
       "      <td>0</td>\n",
       "      <td>0</td>\n",
       "      <td>0</td>\n",
       "      <td>0</td>\n",
       "      <td>0</td>\n",
       "      <td>0</td>\n",
       "      <td>0</td>\n",
       "      <td>0</td>\n",
       "      <td>0</td>\n",
       "      <td>0</td>\n",
       "      <td>...</td>\n",
       "      <td>0</td>\n",
       "      <td>0</td>\n",
       "      <td>0</td>\n",
       "      <td>0</td>\n",
       "      <td>0</td>\n",
       "      <td>0</td>\n",
       "      <td>0</td>\n",
       "      <td>0</td>\n",
       "      <td>(He, shall, liue, a, man, forbid, :)</td>\n",
       "      <td>Macbeth</td>\n",
       "    </tr>\n",
       "    <tr>\n",
       "      <th>3</th>\n",
       "      <td>0</td>\n",
       "      <td>0</td>\n",
       "      <td>0</td>\n",
       "      <td>0</td>\n",
       "      <td>0</td>\n",
       "      <td>0</td>\n",
       "      <td>0</td>\n",
       "      <td>0</td>\n",
       "      <td>0</td>\n",
       "      <td>0</td>\n",
       "      <td>...</td>\n",
       "      <td>0</td>\n",
       "      <td>0</td>\n",
       "      <td>0</td>\n",
       "      <td>0</td>\n",
       "      <td>0</td>\n",
       "      <td>0</td>\n",
       "      <td>0</td>\n",
       "      <td>0</td>\n",
       "      <td>(But, in, our, circumstance, and, course, of, ...</td>\n",
       "      <td>Hamlet</td>\n",
       "    </tr>\n",
       "    <tr>\n",
       "      <th>4</th>\n",
       "      <td>0</td>\n",
       "      <td>0</td>\n",
       "      <td>0</td>\n",
       "      <td>0</td>\n",
       "      <td>0</td>\n",
       "      <td>0</td>\n",
       "      <td>0</td>\n",
       "      <td>0</td>\n",
       "      <td>0</td>\n",
       "      <td>0</td>\n",
       "      <td>...</td>\n",
       "      <td>0</td>\n",
       "      <td>0</td>\n",
       "      <td>0</td>\n",
       "      <td>0</td>\n",
       "      <td>0</td>\n",
       "      <td>0</td>\n",
       "      <td>0</td>\n",
       "      <td>0</td>\n",
       "      <td>(Good, Madam, King, .)</td>\n",
       "      <td>Hamlet</td>\n",
       "    </tr>\n",
       "  </tbody>\n",
       "</table>\n",
       "<p>5 rows × 3110 columns</p>\n",
       "</div>"
      ],
      "text/plain": [
       "  howle wassell method auspicious adde stop vowe tribute bestil'd banners  \\\n",
       "0     0       0      0          0    0    0    0       0        0       0   \n",
       "1     0       0      0          0    0    0    0       0        0       0   \n",
       "2     0       0      0          0    0    0    0       0        0       0   \n",
       "3     0       0      0          0    0    0    0       0        0       0   \n",
       "4     0       0      0          0    0    0    0       0        0       0   \n",
       "\n",
       "      ...     fitnesse madnesse malc lesse players property woe lookes  \\\n",
       "0     ...            0        0    0     0       0        0   0      0   \n",
       "1     ...            0        0    0     0       0        0   0      0   \n",
       "2     ...            0        0    0     0       0        0   0      0   \n",
       "3     ...            0        0    0     0       0        0   0      0   \n",
       "4     ...            0        0    0     0       0        0   0      0   \n",
       "\n",
       "                                       text_sentence text_source  \n",
       "0                   (Wee'l, wait, vpon, you, Ham, .)      Hamlet  \n",
       "1                                      (Farewell, :)      Hamlet  \n",
       "2               (He, shall, liue, a, man, forbid, :)     Macbeth  \n",
       "3  (But, in, our, circumstance, and, course, of, ...      Hamlet  \n",
       "4                             (Good, Madam, King, .)      Hamlet  \n",
       "\n",
       "[5 rows x 3110 columns]"
      ]
     },
     "execution_count": 336,
     "metadata": {},
     "output_type": "execute_result"
    }
   ],
   "source": [
    "word_counts.head()"
   ]
  },
  {
   "cell_type": "code",
   "execution_count": 337,
   "metadata": {},
   "outputs": [
    {
     "data": {
      "text/plain": [
       "Hamlet     607\n",
       "Macbeth    393\n",
       "Name: text_source, dtype: int64"
      ]
     },
     "execution_count": 337,
     "metadata": {},
     "output_type": "execute_result"
    }
   ],
   "source": [
    "word_counts[\"text_source\"].value_counts()\n"
   ]
  },
  {
   "cell_type": "code",
   "execution_count": 339,
   "metadata": {},
   "outputs": [],
   "source": [
    "z = {\"Hamlet\": 1, \"Macbeth\": 2}\n",
    "\n",
    "word_counts[\"text_source\"] = word_counts[\"text_source\"].map(z)"
   ]
  },
  {
   "cell_type": "code",
   "execution_count": 340,
   "metadata": {},
   "outputs": [
    {
     "data": {
      "text/plain": [
       "1    607\n",
       "2    393\n",
       "Name: text_source, dtype: int64"
      ]
     },
     "execution_count": 340,
     "metadata": {},
     "output_type": "execute_result"
    }
   ],
   "source": [
    "word_counts[\"text_source\"].value_counts()\n"
   ]
  },
  {
   "cell_type": "code",
   "execution_count": 341,
   "metadata": {},
   "outputs": [
    {
     "data": {
      "text/html": [
       "<div>\n",
       "<style scoped>\n",
       "    .dataframe tbody tr th:only-of-type {\n",
       "        vertical-align: middle;\n",
       "    }\n",
       "\n",
       "    .dataframe tbody tr th {\n",
       "        vertical-align: top;\n",
       "    }\n",
       "\n",
       "    .dataframe thead th {\n",
       "        text-align: right;\n",
       "    }\n",
       "</style>\n",
       "<table border=\"1\" class=\"dataframe\">\n",
       "  <thead>\n",
       "    <tr style=\"text-align: right;\">\n",
       "      <th></th>\n",
       "      <th>howle</th>\n",
       "      <th>wassell</th>\n",
       "      <th>method</th>\n",
       "      <th>auspicious</th>\n",
       "      <th>adde</th>\n",
       "      <th>stop</th>\n",
       "      <th>vowe</th>\n",
       "      <th>tribute</th>\n",
       "      <th>bestil'd</th>\n",
       "      <th>banners</th>\n",
       "      <th>...</th>\n",
       "      <th>fitnesse</th>\n",
       "      <th>madnesse</th>\n",
       "      <th>malc</th>\n",
       "      <th>lesse</th>\n",
       "      <th>players</th>\n",
       "      <th>property</th>\n",
       "      <th>woe</th>\n",
       "      <th>lookes</th>\n",
       "      <th>text_sentence</th>\n",
       "      <th>text_source</th>\n",
       "    </tr>\n",
       "  </thead>\n",
       "  <tbody>\n",
       "    <tr>\n",
       "      <th>0</th>\n",
       "      <td>0</td>\n",
       "      <td>0</td>\n",
       "      <td>0</td>\n",
       "      <td>0</td>\n",
       "      <td>0</td>\n",
       "      <td>0</td>\n",
       "      <td>0</td>\n",
       "      <td>0</td>\n",
       "      <td>0</td>\n",
       "      <td>0</td>\n",
       "      <td>...</td>\n",
       "      <td>0</td>\n",
       "      <td>0</td>\n",
       "      <td>0</td>\n",
       "      <td>0</td>\n",
       "      <td>0</td>\n",
       "      <td>0</td>\n",
       "      <td>0</td>\n",
       "      <td>0</td>\n",
       "      <td>(Wee'l, wait, vpon, you, Ham, .)</td>\n",
       "      <td>1</td>\n",
       "    </tr>\n",
       "    <tr>\n",
       "      <th>1</th>\n",
       "      <td>0</td>\n",
       "      <td>0</td>\n",
       "      <td>0</td>\n",
       "      <td>0</td>\n",
       "      <td>0</td>\n",
       "      <td>0</td>\n",
       "      <td>0</td>\n",
       "      <td>0</td>\n",
       "      <td>0</td>\n",
       "      <td>0</td>\n",
       "      <td>...</td>\n",
       "      <td>0</td>\n",
       "      <td>0</td>\n",
       "      <td>0</td>\n",
       "      <td>0</td>\n",
       "      <td>0</td>\n",
       "      <td>0</td>\n",
       "      <td>0</td>\n",
       "      <td>0</td>\n",
       "      <td>(Farewell, :)</td>\n",
       "      <td>1</td>\n",
       "    </tr>\n",
       "    <tr>\n",
       "      <th>2</th>\n",
       "      <td>0</td>\n",
       "      <td>0</td>\n",
       "      <td>0</td>\n",
       "      <td>0</td>\n",
       "      <td>0</td>\n",
       "      <td>0</td>\n",
       "      <td>0</td>\n",
       "      <td>0</td>\n",
       "      <td>0</td>\n",
       "      <td>0</td>\n",
       "      <td>...</td>\n",
       "      <td>0</td>\n",
       "      <td>0</td>\n",
       "      <td>0</td>\n",
       "      <td>0</td>\n",
       "      <td>0</td>\n",
       "      <td>0</td>\n",
       "      <td>0</td>\n",
       "      <td>0</td>\n",
       "      <td>(He, shall, liue, a, man, forbid, :)</td>\n",
       "      <td>2</td>\n",
       "    </tr>\n",
       "    <tr>\n",
       "      <th>3</th>\n",
       "      <td>0</td>\n",
       "      <td>0</td>\n",
       "      <td>0</td>\n",
       "      <td>0</td>\n",
       "      <td>0</td>\n",
       "      <td>0</td>\n",
       "      <td>0</td>\n",
       "      <td>0</td>\n",
       "      <td>0</td>\n",
       "      <td>0</td>\n",
       "      <td>...</td>\n",
       "      <td>0</td>\n",
       "      <td>0</td>\n",
       "      <td>0</td>\n",
       "      <td>0</td>\n",
       "      <td>0</td>\n",
       "      <td>0</td>\n",
       "      <td>0</td>\n",
       "      <td>0</td>\n",
       "      <td>(But, in, our, circumstance, and, course, of, ...</td>\n",
       "      <td>1</td>\n",
       "    </tr>\n",
       "    <tr>\n",
       "      <th>4</th>\n",
       "      <td>0</td>\n",
       "      <td>0</td>\n",
       "      <td>0</td>\n",
       "      <td>0</td>\n",
       "      <td>0</td>\n",
       "      <td>0</td>\n",
       "      <td>0</td>\n",
       "      <td>0</td>\n",
       "      <td>0</td>\n",
       "      <td>0</td>\n",
       "      <td>...</td>\n",
       "      <td>0</td>\n",
       "      <td>0</td>\n",
       "      <td>0</td>\n",
       "      <td>0</td>\n",
       "      <td>0</td>\n",
       "      <td>0</td>\n",
       "      <td>0</td>\n",
       "      <td>0</td>\n",
       "      <td>(Good, Madam, King, .)</td>\n",
       "      <td>1</td>\n",
       "    </tr>\n",
       "  </tbody>\n",
       "</table>\n",
       "<p>5 rows × 3110 columns</p>\n",
       "</div>"
      ],
      "text/plain": [
       "  howle wassell method auspicious adde stop vowe tribute bestil'd banners  \\\n",
       "0     0       0      0          0    0    0    0       0        0       0   \n",
       "1     0       0      0          0    0    0    0       0        0       0   \n",
       "2     0       0      0          0    0    0    0       0        0       0   \n",
       "3     0       0      0          0    0    0    0       0        0       0   \n",
       "4     0       0      0          0    0    0    0       0        0       0   \n",
       "\n",
       "      ...     fitnesse madnesse malc lesse players property woe lookes  \\\n",
       "0     ...            0        0    0     0       0        0   0      0   \n",
       "1     ...            0        0    0     0       0        0   0      0   \n",
       "2     ...            0        0    0     0       0        0   0      0   \n",
       "3     ...            0        0    0     0       0        0   0      0   \n",
       "4     ...            0        0    0     0       0        0   0      0   \n",
       "\n",
       "                                       text_sentence text_source  \n",
       "0                   (Wee'l, wait, vpon, you, Ham, .)           1  \n",
       "1                                      (Farewell, :)           1  \n",
       "2               (He, shall, liue, a, man, forbid, :)           2  \n",
       "3  (But, in, our, circumstance, and, course, of, ...           1  \n",
       "4                             (Good, Madam, King, .)           1  \n",
       "\n",
       "[5 rows x 3110 columns]"
      ]
     },
     "execution_count": 341,
     "metadata": {},
     "output_type": "execute_result"
    }
   ],
   "source": [
    "word_counts.head()"
   ]
  },
  {
   "cell_type": "code",
   "execution_count": 232,
   "metadata": {},
   "outputs": [],
   "source": [
    "words = []\n",
    "total = []\n",
    "\n",
    "for word in word_counts.loc[:, ~word_counts.columns.isin([\"text_sentence\", \"text_source\"])].columns:\n",
    "    words.append(word)\n",
    "    total.append(sum(word_counts[word]))\n",
    "    "
   ]
  },
  {
   "cell_type": "code",
   "execution_count": 233,
   "metadata": {},
   "outputs": [
    {
     "data": {
      "text/html": [
       "<div>\n",
       "<style scoped>\n",
       "    .dataframe tbody tr th:only-of-type {\n",
       "        vertical-align: middle;\n",
       "    }\n",
       "\n",
       "    .dataframe tbody tr th {\n",
       "        vertical-align: top;\n",
       "    }\n",
       "\n",
       "    .dataframe thead th {\n",
       "        text-align: right;\n",
       "    }\n",
       "</style>\n",
       "<table border=\"1\" class=\"dataframe\">\n",
       "  <thead>\n",
       "    <tr style=\"text-align: right;\">\n",
       "      <th></th>\n",
       "      <th>word</th>\n",
       "      <th>total</th>\n",
       "    </tr>\n",
       "  </thead>\n",
       "  <tbody>\n",
       "    <tr>\n",
       "      <th>0</th>\n",
       "      <td>howle</td>\n",
       "      <td>0</td>\n",
       "    </tr>\n",
       "    <tr>\n",
       "      <th>1</th>\n",
       "      <td>wassell</td>\n",
       "      <td>0</td>\n",
       "    </tr>\n",
       "    <tr>\n",
       "      <th>2</th>\n",
       "      <td>method</td>\n",
       "      <td>0</td>\n",
       "    </tr>\n",
       "    <tr>\n",
       "      <th>3</th>\n",
       "      <td>auspicious</td>\n",
       "      <td>1</td>\n",
       "    </tr>\n",
       "    <tr>\n",
       "      <th>4</th>\n",
       "      <td>adde</td>\n",
       "      <td>1</td>\n",
       "    </tr>\n",
       "  </tbody>\n",
       "</table>\n",
       "</div>"
      ],
      "text/plain": [
       "         word  total\n",
       "0       howle      0\n",
       "1     wassell      0\n",
       "2      method      0\n",
       "3  auspicious      1\n",
       "4        adde      1"
      ]
     },
     "execution_count": 233,
     "metadata": {},
     "output_type": "execute_result"
    }
   ],
   "source": [
    "total_word_counts = pd.DataFrame()\n",
    "total_word_counts[\"word\"] = words\n",
    "total_word_counts[\"total\"] = total\n",
    "total_word_counts.head()"
   ]
  },
  {
   "cell_type": "code",
   "execution_count": 234,
   "metadata": {},
   "outputs": [],
   "source": [
    "total_word_counts = total_word_counts[total_word_counts[\"total\"] != 0]"
   ]
  },
  {
   "cell_type": "code",
   "execution_count": 235,
   "metadata": {},
   "outputs": [],
   "source": [
    "total_word_counts = total_word_counts.sort_values(\"total\", ascending=False)"
   ]
  },
  {
   "cell_type": "code",
   "execution_count": 236,
   "metadata": {},
   "outputs": [
    {
     "data": {
      "text/plain": [
       "Text(0.5,0,'Word')"
      ]
     },
     "execution_count": 236,
     "metadata": {},
     "output_type": "execute_result"
    },
    {
     "data": {
      "image/png": "[encoded data removed]",
      "text/plain": [
       "<Figure size 720x720 with 1 Axes>"
      ]
     },
     "metadata": {},
     "output_type": "display_data"
    }
   ],
   "source": [
    "sns.set(style=\"whitegrid\")\n",
    "ax = sns.barplot(x=total_word_counts[\"word\"][:50], y=total_word_counts[\"total\"][:50], data=total_word_counts)\n",
    "ax.set_xticklabels(total_word_counts[\"word\"][:50], rotation=90)\n",
    "ax.set_title(\"Fifty Most Frequent Words\", size=20)\n",
    "ax.set_ylabel(\"Count\", size=15)\n",
    "ax.set_xlabel(\"Word\", size=15)\n",
    "\n"
   ]
  },
  {
   "cell_type": "code",
   "execution_count": 237,
   "metadata": {},
   "outputs": [
    {
     "data": {
      "text/plain": [
       "Text(0.5,0,'Word')"
      ]
     },
     "execution_count": 237,
     "metadata": {},
     "output_type": "execute_result"
    },
    {
     "data": {
      "image/png": "[encoded data removed]",
      "text/plain": [
       "<Figure size 720x720 with 1 Axes>"
      ]
     },
     "metadata": {},
     "output_type": "display_data"
    }
   ],
   "source": [
    "sns.set(style=\"whitegrid\")\n",
    "ax = sns.barplot(x=total_word_counts[\"word\"][1:50], y=total_word_counts[\"total\"][1:50], data=total_word_counts)\n",
    "ax.set_xticklabels(total_word_counts[\"word\"][1:50], rotation=90)\n",
    "ax.set_title(\"Fifty Most Frequent Words (No Pronouns)\", size=20)\n",
    "ax.set_ylabel(\"Count\", size=15)\n",
    "ax.set_xlabel(\"Word\", size=15)\n",
    "\n"
   ]
  },
  {
   "cell_type": "markdown",
   "metadata": {},
   "source": [
    "<h1><center>Create Features Using TF-IDF</center></h1>"
   ]
  },
  {
   "cell_type": "code",
   "execution_count": 350,
   "metadata": {},
   "outputs": [],
   "source": [
    "hamlet = gutenberg.sents(\"shakespeare-hamlet.txt\")"
   ]
  },
  {
   "cell_type": "code",
   "execution_count": 351,
   "metadata": {},
   "outputs": [],
   "source": [
    "macbeth = gutenberg.sents(\"shakespeare-macbeth.txt\")"
   ]
  },
  {
   "cell_type": "code",
   "execution_count": 352,
   "metadata": {},
   "outputs": [
    {
     "data": {
      "text/plain": [
       "'Nay answer me : Stand & vnfold your selfe'"
      ]
     },
     "execution_count": 352,
     "metadata": {},
     "output_type": "execute_result"
    }
   ],
   "source": [
    "\" \".join(hamlet[7])"
   ]
  },
  {
   "cell_type": "code",
   "execution_count": 353,
   "metadata": {},
   "outputs": [
    {
     "name": "stdout",
     "output_type": "stream",
     "text": [
      "Number of Hamlet sentences 3106\n",
      "Total number of sentences: 5013\n"
     ]
    }
   ],
   "source": [
    "shakespeare_sents = []\n",
    "\n",
    "for sentence in hamlet:\n",
    "    shakespeare_sents.append(\" \".join(sentence))\n",
    "\n",
    "print(\"Number of Hamlet sentences\", len(shakespeare_sents))\n",
    "    \n",
    "for sentence in macbeth:\n",
    "    shakespeare_sents.append(\" \".join(sentence))\n",
    "print(\"Total number of sentences:\", len(shakespeare_sents))\n",
    "    "
   ]
  },
  {
   "cell_type": "code",
   "execution_count": 354,
   "metadata": {
    "scrolled": true
   },
   "outputs": [
    {
     "data": {
      "text/plain": [
       "'Nay answer me : Stand & vnfold your selfe'"
      ]
     },
     "execution_count": 354,
     "metadata": {},
     "output_type": "execute_result"
    }
   ],
   "source": [
    "shakespeare_sents[7]"
   ]
  },
  {
   "cell_type": "code",
   "execution_count": 355,
   "metadata": {},
   "outputs": [
    {
     "data": {
      "text/plain": [
       "5013"
      ]
     },
     "execution_count": 355,
     "metadata": {},
     "output_type": "execute_result"
    }
   ],
   "source": [
    "len(shakespeare_sents)"
   ]
  },
  {
   "cell_type": "code",
   "execution_count": 356,
   "metadata": {},
   "outputs": [
    {
     "data": {
      "text/plain": [
       "\"Behold where stands Th ' Vsurpers cursed head : the time is free : I see thee compast with thy Kingdomes Pearle , That speake my salutation in their minds : Whose voyces I desire alowd with mine .\""
      ]
     },
     "execution_count": 356,
     "metadata": {},
     "output_type": "execute_result"
    }
   ],
   "source": [
    "shakespeare_sents[5000]"
   ]
  },
  {
   "cell_type": "code",
   "execution_count": 357,
   "metadata": {},
   "outputs": [
    {
     "name": "stdout",
     "output_type": "stream",
     "text": [
      "Number of features: 2499\n"
     ]
    }
   ],
   "source": [
    "from sklearn.feature_extraction.text import TfidfVectorizer\n",
    "from sklearn.model_selection import train_test_split\n",
    "\n",
    "vectorizer = TfidfVectorizer(max_df=0.5, # drop words that occur in more than half the paragraphs\n",
    "                             min_df=2, # only use words that appear at least twice\n",
    "                             stop_words='english', \n",
    "                             lowercase=True, #convert everything to lower case (since Alice in Wonderland has the HABIT of CAPITALIZING WORDS for EMPHASIS)\n",
    "                             use_idf=True,#we definitely want to use inverse document frequencies in our weighting\n",
    "                             norm=u'l2', #Applies a correction factor so that longer paragraphs and shorter paragraphs get treated equally\n",
    "                             smooth_idf=True #Adds 1 to all document frequencies, as if an extra document existed that used every word once.  Prevents divide-by-zero errors\n",
    "                            )\n",
    "\n",
    "\n",
    "#Applying the vectorizer\n",
    "vect_shakespeare_sents=vectorizer.fit_transform(shakespeare_sents)\n",
    "print(\"Number of features: %d\" % vect_shakespeare_sents.get_shape()[1])"
   ]
  },
  {
   "cell_type": "code",
   "execution_count": 358,
   "metadata": {},
   "outputs": [],
   "source": [
    "vect_shakespeare_sents_csr = vect_shakespeare_sents.tocsr()\n",
    "\n",
    "n = vect_shakespeare_sents_csr.shape[0]\n",
    "\n",
    "tfidf_bypara = [{} for _ in range(0,n)]\n",
    "\n",
    "terms = vectorizer.get_feature_names()\n",
    "\n",
    "for i, j in zip(*vect_shakespeare_sents_csr.nonzero()):\n",
    "    tfidf_bypara[i][terms[j]] = vect_shakespeare_sents_csr[i, j]"
   ]
  },
  {
   "cell_type": "code",
   "execution_count": 359,
   "metadata": {},
   "outputs": [
    {
     "data": {
      "text/html": [
       "<div>\n",
       "<style scoped>\n",
       "    .dataframe tbody tr th:only-of-type {\n",
       "        vertical-align: middle;\n",
       "    }\n",
       "\n",
       "    .dataframe tbody tr th {\n",
       "        vertical-align: top;\n",
       "    }\n",
       "\n",
       "    .dataframe thead th {\n",
       "        text-align: right;\n",
       "    }\n",
       "</style>\n",
       "<table border=\"1\" class=\"dataframe\">\n",
       "  <thead>\n",
       "    <tr style=\"text-align: right;\">\n",
       "      <th></th>\n",
       "      <th>abhorred</th>\n",
       "      <th>abide</th>\n",
       "      <th>aboord</th>\n",
       "      <th>aboue</th>\n",
       "      <th>abroad</th>\n",
       "      <th>absence</th>\n",
       "      <th>absent</th>\n",
       "      <th>absolute</th>\n",
       "      <th>absurd</th>\n",
       "      <th>abuse</th>\n",
       "      <th>...</th>\n",
       "      <th>yea</th>\n",
       "      <th>yeare</th>\n",
       "      <th>yeares</th>\n",
       "      <th>yeeld</th>\n",
       "      <th>yes</th>\n",
       "      <th>yesterday</th>\n",
       "      <th>yesty</th>\n",
       "      <th>yong</th>\n",
       "      <th>young</th>\n",
       "      <th>youth</th>\n",
       "    </tr>\n",
       "  </thead>\n",
       "  <tbody>\n",
       "    <tr>\n",
       "      <th>0</th>\n",
       "      <td>NaN</td>\n",
       "      <td>NaN</td>\n",
       "      <td>NaN</td>\n",
       "      <td>NaN</td>\n",
       "      <td>NaN</td>\n",
       "      <td>NaN</td>\n",
       "      <td>NaN</td>\n",
       "      <td>NaN</td>\n",
       "      <td>NaN</td>\n",
       "      <td>NaN</td>\n",
       "      <td>...</td>\n",
       "      <td>NaN</td>\n",
       "      <td>NaN</td>\n",
       "      <td>NaN</td>\n",
       "      <td>NaN</td>\n",
       "      <td>NaN</td>\n",
       "      <td>NaN</td>\n",
       "      <td>NaN</td>\n",
       "      <td>NaN</td>\n",
       "      <td>NaN</td>\n",
       "      <td>NaN</td>\n",
       "    </tr>\n",
       "    <tr>\n",
       "      <th>1</th>\n",
       "      <td>NaN</td>\n",
       "      <td>NaN</td>\n",
       "      <td>NaN</td>\n",
       "      <td>NaN</td>\n",
       "      <td>NaN</td>\n",
       "      <td>NaN</td>\n",
       "      <td>NaN</td>\n",
       "      <td>NaN</td>\n",
       "      <td>NaN</td>\n",
       "      <td>NaN</td>\n",
       "      <td>...</td>\n",
       "      <td>NaN</td>\n",
       "      <td>NaN</td>\n",
       "      <td>NaN</td>\n",
       "      <td>NaN</td>\n",
       "      <td>NaN</td>\n",
       "      <td>NaN</td>\n",
       "      <td>NaN</td>\n",
       "      <td>NaN</td>\n",
       "      <td>NaN</td>\n",
       "      <td>NaN</td>\n",
       "    </tr>\n",
       "    <tr>\n",
       "      <th>2</th>\n",
       "      <td>NaN</td>\n",
       "      <td>NaN</td>\n",
       "      <td>NaN</td>\n",
       "      <td>NaN</td>\n",
       "      <td>NaN</td>\n",
       "      <td>NaN</td>\n",
       "      <td>NaN</td>\n",
       "      <td>NaN</td>\n",
       "      <td>NaN</td>\n",
       "      <td>NaN</td>\n",
       "      <td>...</td>\n",
       "      <td>NaN</td>\n",
       "      <td>NaN</td>\n",
       "      <td>NaN</td>\n",
       "      <td>NaN</td>\n",
       "      <td>NaN</td>\n",
       "      <td>NaN</td>\n",
       "      <td>NaN</td>\n",
       "      <td>NaN</td>\n",
       "      <td>NaN</td>\n",
       "      <td>NaN</td>\n",
       "    </tr>\n",
       "    <tr>\n",
       "      <th>3</th>\n",
       "      <td>NaN</td>\n",
       "      <td>NaN</td>\n",
       "      <td>NaN</td>\n",
       "      <td>NaN</td>\n",
       "      <td>NaN</td>\n",
       "      <td>NaN</td>\n",
       "      <td>NaN</td>\n",
       "      <td>NaN</td>\n",
       "      <td>NaN</td>\n",
       "      <td>NaN</td>\n",
       "      <td>...</td>\n",
       "      <td>NaN</td>\n",
       "      <td>NaN</td>\n",
       "      <td>NaN</td>\n",
       "      <td>NaN</td>\n",
       "      <td>NaN</td>\n",
       "      <td>NaN</td>\n",
       "      <td>NaN</td>\n",
       "      <td>NaN</td>\n",
       "      <td>NaN</td>\n",
       "      <td>NaN</td>\n",
       "    </tr>\n",
       "    <tr>\n",
       "      <th>4</th>\n",
       "      <td>NaN</td>\n",
       "      <td>NaN</td>\n",
       "      <td>NaN</td>\n",
       "      <td>NaN</td>\n",
       "      <td>NaN</td>\n",
       "      <td>NaN</td>\n",
       "      <td>NaN</td>\n",
       "      <td>NaN</td>\n",
       "      <td>NaN</td>\n",
       "      <td>NaN</td>\n",
       "      <td>...</td>\n",
       "      <td>NaN</td>\n",
       "      <td>NaN</td>\n",
       "      <td>NaN</td>\n",
       "      <td>NaN</td>\n",
       "      <td>NaN</td>\n",
       "      <td>NaN</td>\n",
       "      <td>NaN</td>\n",
       "      <td>NaN</td>\n",
       "      <td>NaN</td>\n",
       "      <td>NaN</td>\n",
       "    </tr>\n",
       "  </tbody>\n",
       "</table>\n",
       "<p>5 rows × 2499 columns</p>\n",
       "</div>"
      ],
      "text/plain": [
       "   abhorred  abide  aboord  aboue  abroad  absence  absent  absolute  absurd  \\\n",
       "0       NaN    NaN     NaN    NaN     NaN      NaN     NaN       NaN     NaN   \n",
       "1       NaN    NaN     NaN    NaN     NaN      NaN     NaN       NaN     NaN   \n",
       "2       NaN    NaN     NaN    NaN     NaN      NaN     NaN       NaN     NaN   \n",
       "3       NaN    NaN     NaN    NaN     NaN      NaN     NaN       NaN     NaN   \n",
       "4       NaN    NaN     NaN    NaN     NaN      NaN     NaN       NaN     NaN   \n",
       "\n",
       "   abuse  ...    yea  yeare  yeares  yeeld  yes  yesterday  yesty  yong  \\\n",
       "0    NaN  ...    NaN    NaN     NaN    NaN  NaN        NaN    NaN   NaN   \n",
       "1    NaN  ...    NaN    NaN     NaN    NaN  NaN        NaN    NaN   NaN   \n",
       "2    NaN  ...    NaN    NaN     NaN    NaN  NaN        NaN    NaN   NaN   \n",
       "3    NaN  ...    NaN    NaN     NaN    NaN  NaN        NaN    NaN   NaN   \n",
       "4    NaN  ...    NaN    NaN     NaN    NaN  NaN        NaN    NaN   NaN   \n",
       "\n",
       "   young  youth  \n",
       "0    NaN    NaN  \n",
       "1    NaN    NaN  \n",
       "2    NaN    NaN  \n",
       "3    NaN    NaN  \n",
       "4    NaN    NaN  \n",
       "\n",
       "[5 rows x 2499 columns]"
      ]
     },
     "execution_count": 359,
     "metadata": {},
     "output_type": "execute_result"
    }
   ],
   "source": [
    "word_vectors = pd.DataFrame(tfidf_bypara)\n",
    "\n",
    "word_vectors.head()"
   ]
  },
  {
   "cell_type": "code",
   "execution_count": 360,
   "metadata": {},
   "outputs": [
    {
     "data": {
      "text/plain": [
       "abhorred     0.649512\n",
       "abide        0.922626\n",
       "aboord       0.974387\n",
       "aboue        1.853359\n",
       "abroad       0.731992\n",
       "absence      0.676425\n",
       "absent       0.622105\n",
       "absolute     1.910921\n",
       "absurd       0.684609\n",
       "abuse        1.614108\n",
       "accent       0.673365\n",
       "accesse      0.688294\n",
       "accident     0.771728\n",
       "according    1.719835\n",
       "account      0.904845\n",
       "accounted    1.005471\n",
       "accursed     0.835938\n",
       "acquaint     0.561654\n",
       "act          3.875125\n",
       "acte         1.184040\n",
       "acted        0.637906\n",
       "acting       0.752550\n",
       "action       3.800933\n",
       "actions      0.932438\n",
       "actor        2.037251\n",
       "actors       1.179478\n",
       "acts         1.117344\n",
       "actus        5.648472\n",
       "adde         0.888333\n",
       "addition     1.062399\n",
       "               ...   \n",
       "worme        0.633394\n",
       "wormes       2.127291\n",
       "worne        0.494719\n",
       "worse        2.985260\n",
       "worst        2.158042\n",
       "worth        1.979645\n",
       "worthy       7.228454\n",
       "wouldest     0.678439\n",
       "wound        0.936319\n",
       "wounded      0.843458\n",
       "wounds       1.061700\n",
       "wracke       0.932823\n",
       "wrath        0.667189\n",
       "wretch       0.952503\n",
       "wretched     2.115401\n",
       "writ         2.368036\n",
       "write        0.542246\n",
       "wrong        2.638826\n",
       "wrought      2.078584\n",
       "ye           6.721522\n",
       "yea          1.127026\n",
       "yeare        2.385386\n",
       "yeares       0.670163\n",
       "yeeld        1.625157\n",
       "yes          2.596432\n",
       "yesterday    1.037514\n",
       "yesty        0.450710\n",
       "yong         4.566311\n",
       "young        4.621097\n",
       "youth        4.224773\n",
       "Length: 2499, dtype: float64"
      ]
     },
     "execution_count": 360,
     "metadata": {},
     "output_type": "execute_result"
    }
   ],
   "source": [
    "word_vectors.sum(axis=0)"
   ]
  },
  {
   "cell_type": "code",
   "execution_count": 361,
   "metadata": {},
   "outputs": [
    {
     "data": {
      "text/plain": [
       "['[ The Tragedie of Hamlet by William Shakespeare 1599 ]',\n",
       " 'Actus Primus .',\n",
       " 'Scoena Prima .',\n",
       " 'Enter Barnardo and Francisco two Centinels .']"
      ]
     },
     "execution_count": 361,
     "metadata": {},
     "output_type": "execute_result"
    }
   ],
   "source": [
    "shakespeare_sents[0:4]"
   ]
  },
  {
   "cell_type": "code",
   "execution_count": 362,
   "metadata": {},
   "outputs": [
    {
     "data": {
      "text/html": [
       "<div>\n",
       "<style scoped>\n",
       "    .dataframe tbody tr th:only-of-type {\n",
       "        vertical-align: middle;\n",
       "    }\n",
       "\n",
       "    .dataframe tbody tr th {\n",
       "        vertical-align: top;\n",
       "    }\n",
       "\n",
       "    .dataframe thead th {\n",
       "        text-align: right;\n",
       "    }\n",
       "</style>\n",
       "<table border=\"1\" class=\"dataframe\">\n",
       "  <thead>\n",
       "    <tr style=\"text-align: right;\">\n",
       "      <th></th>\n",
       "      <th>abhorred</th>\n",
       "      <th>abide</th>\n",
       "      <th>aboord</th>\n",
       "      <th>aboue</th>\n",
       "      <th>abroad</th>\n",
       "      <th>absence</th>\n",
       "      <th>absent</th>\n",
       "      <th>absolute</th>\n",
       "      <th>absurd</th>\n",
       "      <th>abuse</th>\n",
       "      <th>...</th>\n",
       "      <th>yeare</th>\n",
       "      <th>yeares</th>\n",
       "      <th>yeeld</th>\n",
       "      <th>yes</th>\n",
       "      <th>yesterday</th>\n",
       "      <th>yesty</th>\n",
       "      <th>yong</th>\n",
       "      <th>young</th>\n",
       "      <th>youth</th>\n",
       "      <th>text_sentence</th>\n",
       "    </tr>\n",
       "  </thead>\n",
       "  <tbody>\n",
       "    <tr>\n",
       "      <th>0</th>\n",
       "      <td>NaN</td>\n",
       "      <td>NaN</td>\n",
       "      <td>NaN</td>\n",
       "      <td>NaN</td>\n",
       "      <td>NaN</td>\n",
       "      <td>NaN</td>\n",
       "      <td>NaN</td>\n",
       "      <td>NaN</td>\n",
       "      <td>NaN</td>\n",
       "      <td>NaN</td>\n",
       "      <td>...</td>\n",
       "      <td>NaN</td>\n",
       "      <td>NaN</td>\n",
       "      <td>NaN</td>\n",
       "      <td>NaN</td>\n",
       "      <td>NaN</td>\n",
       "      <td>NaN</td>\n",
       "      <td>NaN</td>\n",
       "      <td>NaN</td>\n",
       "      <td>NaN</td>\n",
       "      <td>[ The Tragedie of Hamlet by William Shakespear...</td>\n",
       "    </tr>\n",
       "    <tr>\n",
       "      <th>1</th>\n",
       "      <td>NaN</td>\n",
       "      <td>NaN</td>\n",
       "      <td>NaN</td>\n",
       "      <td>NaN</td>\n",
       "      <td>NaN</td>\n",
       "      <td>NaN</td>\n",
       "      <td>NaN</td>\n",
       "      <td>NaN</td>\n",
       "      <td>NaN</td>\n",
       "      <td>NaN</td>\n",
       "      <td>...</td>\n",
       "      <td>NaN</td>\n",
       "      <td>NaN</td>\n",
       "      <td>NaN</td>\n",
       "      <td>NaN</td>\n",
       "      <td>NaN</td>\n",
       "      <td>NaN</td>\n",
       "      <td>NaN</td>\n",
       "      <td>NaN</td>\n",
       "      <td>NaN</td>\n",
       "      <td>Actus Primus .</td>\n",
       "    </tr>\n",
       "    <tr>\n",
       "      <th>2</th>\n",
       "      <td>NaN</td>\n",
       "      <td>NaN</td>\n",
       "      <td>NaN</td>\n",
       "      <td>NaN</td>\n",
       "      <td>NaN</td>\n",
       "      <td>NaN</td>\n",
       "      <td>NaN</td>\n",
       "      <td>NaN</td>\n",
       "      <td>NaN</td>\n",
       "      <td>NaN</td>\n",
       "      <td>...</td>\n",
       "      <td>NaN</td>\n",
       "      <td>NaN</td>\n",
       "      <td>NaN</td>\n",
       "      <td>NaN</td>\n",
       "      <td>NaN</td>\n",
       "      <td>NaN</td>\n",
       "      <td>NaN</td>\n",
       "      <td>NaN</td>\n",
       "      <td>NaN</td>\n",
       "      <td>Scoena Prima .</td>\n",
       "    </tr>\n",
       "    <tr>\n",
       "      <th>3</th>\n",
       "      <td>NaN</td>\n",
       "      <td>NaN</td>\n",
       "      <td>NaN</td>\n",
       "      <td>NaN</td>\n",
       "      <td>NaN</td>\n",
       "      <td>NaN</td>\n",
       "      <td>NaN</td>\n",
       "      <td>NaN</td>\n",
       "      <td>NaN</td>\n",
       "      <td>NaN</td>\n",
       "      <td>...</td>\n",
       "      <td>NaN</td>\n",
       "      <td>NaN</td>\n",
       "      <td>NaN</td>\n",
       "      <td>NaN</td>\n",
       "      <td>NaN</td>\n",
       "      <td>NaN</td>\n",
       "      <td>NaN</td>\n",
       "      <td>NaN</td>\n",
       "      <td>NaN</td>\n",
       "      <td>Enter Barnardo and Francisco two Centinels .</td>\n",
       "    </tr>\n",
       "    <tr>\n",
       "      <th>4</th>\n",
       "      <td>NaN</td>\n",
       "      <td>NaN</td>\n",
       "      <td>NaN</td>\n",
       "      <td>NaN</td>\n",
       "      <td>NaN</td>\n",
       "      <td>NaN</td>\n",
       "      <td>NaN</td>\n",
       "      <td>NaN</td>\n",
       "      <td>NaN</td>\n",
       "      <td>NaN</td>\n",
       "      <td>...</td>\n",
       "      <td>NaN</td>\n",
       "      <td>NaN</td>\n",
       "      <td>NaN</td>\n",
       "      <td>NaN</td>\n",
       "      <td>NaN</td>\n",
       "      <td>NaN</td>\n",
       "      <td>NaN</td>\n",
       "      <td>NaN</td>\n",
       "      <td>NaN</td>\n",
       "      <td>Barnardo .</td>\n",
       "    </tr>\n",
       "  </tbody>\n",
       "</table>\n",
       "<p>5 rows × 2500 columns</p>\n",
       "</div>"
      ],
      "text/plain": [
       "   abhorred  abide  aboord  aboue  abroad  absence  absent  absolute  absurd  \\\n",
       "0       NaN    NaN     NaN    NaN     NaN      NaN     NaN       NaN     NaN   \n",
       "1       NaN    NaN     NaN    NaN     NaN      NaN     NaN       NaN     NaN   \n",
       "2       NaN    NaN     NaN    NaN     NaN      NaN     NaN       NaN     NaN   \n",
       "3       NaN    NaN     NaN    NaN     NaN      NaN     NaN       NaN     NaN   \n",
       "4       NaN    NaN     NaN    NaN     NaN      NaN     NaN       NaN     NaN   \n",
       "\n",
       "   abuse                        ...                          yeare  yeares  \\\n",
       "0    NaN                        ...                            NaN     NaN   \n",
       "1    NaN                        ...                            NaN     NaN   \n",
       "2    NaN                        ...                            NaN     NaN   \n",
       "3    NaN                        ...                            NaN     NaN   \n",
       "4    NaN                        ...                            NaN     NaN   \n",
       "\n",
       "   yeeld  yes  yesterday  yesty  yong  young  youth  \\\n",
       "0    NaN  NaN        NaN    NaN   NaN    NaN    NaN   \n",
       "1    NaN  NaN        NaN    NaN   NaN    NaN    NaN   \n",
       "2    NaN  NaN        NaN    NaN   NaN    NaN    NaN   \n",
       "3    NaN  NaN        NaN    NaN   NaN    NaN    NaN   \n",
       "4    NaN  NaN        NaN    NaN   NaN    NaN    NaN   \n",
       "\n",
       "                                       text_sentence  \n",
       "0  [ The Tragedie of Hamlet by William Shakespear...  \n",
       "1                                     Actus Primus .  \n",
       "2                                     Scoena Prima .  \n",
       "3       Enter Barnardo and Francisco two Centinels .  \n",
       "4                                         Barnardo .  \n",
       "\n",
       "[5 rows x 2500 columns]"
      ]
     },
     "execution_count": 362,
     "metadata": {},
     "output_type": "execute_result"
    }
   ],
   "source": [
    "word_vectors[\"text_sentence\"] = shakespeare_sents\n",
    "\n",
    "word_vectors.head()"
   ]
  },
  {
   "cell_type": "code",
   "execution_count": 363,
   "metadata": {},
   "outputs": [
    {
     "data": {
      "text/plain": [
       "(5013, 2500)"
      ]
     },
     "execution_count": 363,
     "metadata": {},
     "output_type": "execute_result"
    }
   ],
   "source": [
    "word_vectors.shape"
   ]
  },
  {
   "cell_type": "code",
   "execution_count": 364,
   "metadata": {},
   "outputs": [
    {
     "name": "stdout",
     "output_type": "stream",
     "text": [
      "5013\n"
     ]
    }
   ],
   "source": [
    "text_source = []\n",
    "for i in range(0,3106):\n",
    "    text_source.append(\"Hamlet\")\n",
    "for i in range(0,1907):\n",
    "    text_source.append(\"Macbeth\")\n",
    "    \n",
    "print(len(text_source))"
   ]
  },
  {
   "cell_type": "code",
   "execution_count": 365,
   "metadata": {},
   "outputs": [],
   "source": [
    "word_vectors[\"text_source\"] = text_source"
   ]
  },
  {
   "cell_type": "code",
   "execution_count": 366,
   "metadata": {},
   "outputs": [
    {
     "data": {
      "text/html": [
       "<div>\n",
       "<style scoped>\n",
       "    .dataframe tbody tr th:only-of-type {\n",
       "        vertical-align: middle;\n",
       "    }\n",
       "\n",
       "    .dataframe tbody tr th {\n",
       "        vertical-align: top;\n",
       "    }\n",
       "\n",
       "    .dataframe thead th {\n",
       "        text-align: right;\n",
       "    }\n",
       "</style>\n",
       "<table border=\"1\" class=\"dataframe\">\n",
       "  <thead>\n",
       "    <tr style=\"text-align: right;\">\n",
       "      <th></th>\n",
       "      <th>abhorred</th>\n",
       "      <th>abide</th>\n",
       "      <th>aboord</th>\n",
       "      <th>aboue</th>\n",
       "      <th>abroad</th>\n",
       "      <th>absence</th>\n",
       "      <th>absent</th>\n",
       "      <th>absolute</th>\n",
       "      <th>absurd</th>\n",
       "      <th>abuse</th>\n",
       "      <th>...</th>\n",
       "      <th>yeares</th>\n",
       "      <th>yeeld</th>\n",
       "      <th>yes</th>\n",
       "      <th>yesterday</th>\n",
       "      <th>yesty</th>\n",
       "      <th>yong</th>\n",
       "      <th>young</th>\n",
       "      <th>youth</th>\n",
       "      <th>text_sentence</th>\n",
       "      <th>text_source</th>\n",
       "    </tr>\n",
       "  </thead>\n",
       "  <tbody>\n",
       "    <tr>\n",
       "      <th>0</th>\n",
       "      <td>NaN</td>\n",
       "      <td>NaN</td>\n",
       "      <td>NaN</td>\n",
       "      <td>NaN</td>\n",
       "      <td>NaN</td>\n",
       "      <td>NaN</td>\n",
       "      <td>NaN</td>\n",
       "      <td>NaN</td>\n",
       "      <td>NaN</td>\n",
       "      <td>NaN</td>\n",
       "      <td>...</td>\n",
       "      <td>NaN</td>\n",
       "      <td>NaN</td>\n",
       "      <td>NaN</td>\n",
       "      <td>NaN</td>\n",
       "      <td>NaN</td>\n",
       "      <td>NaN</td>\n",
       "      <td>NaN</td>\n",
       "      <td>NaN</td>\n",
       "      <td>[ The Tragedie of Hamlet by William Shakespear...</td>\n",
       "      <td>Hamlet</td>\n",
       "    </tr>\n",
       "    <tr>\n",
       "      <th>1</th>\n",
       "      <td>NaN</td>\n",
       "      <td>NaN</td>\n",
       "      <td>NaN</td>\n",
       "      <td>NaN</td>\n",
       "      <td>NaN</td>\n",
       "      <td>NaN</td>\n",
       "      <td>NaN</td>\n",
       "      <td>NaN</td>\n",
       "      <td>NaN</td>\n",
       "      <td>NaN</td>\n",
       "      <td>...</td>\n",
       "      <td>NaN</td>\n",
       "      <td>NaN</td>\n",
       "      <td>NaN</td>\n",
       "      <td>NaN</td>\n",
       "      <td>NaN</td>\n",
       "      <td>NaN</td>\n",
       "      <td>NaN</td>\n",
       "      <td>NaN</td>\n",
       "      <td>Actus Primus .</td>\n",
       "      <td>Hamlet</td>\n",
       "    </tr>\n",
       "    <tr>\n",
       "      <th>2</th>\n",
       "      <td>NaN</td>\n",
       "      <td>NaN</td>\n",
       "      <td>NaN</td>\n",
       "      <td>NaN</td>\n",
       "      <td>NaN</td>\n",
       "      <td>NaN</td>\n",
       "      <td>NaN</td>\n",
       "      <td>NaN</td>\n",
       "      <td>NaN</td>\n",
       "      <td>NaN</td>\n",
       "      <td>...</td>\n",
       "      <td>NaN</td>\n",
       "      <td>NaN</td>\n",
       "      <td>NaN</td>\n",
       "      <td>NaN</td>\n",
       "      <td>NaN</td>\n",
       "      <td>NaN</td>\n",
       "      <td>NaN</td>\n",
       "      <td>NaN</td>\n",
       "      <td>Scoena Prima .</td>\n",
       "      <td>Hamlet</td>\n",
       "    </tr>\n",
       "    <tr>\n",
       "      <th>3</th>\n",
       "      <td>NaN</td>\n",
       "      <td>NaN</td>\n",
       "      <td>NaN</td>\n",
       "      <td>NaN</td>\n",
       "      <td>NaN</td>\n",
       "      <td>NaN</td>\n",
       "      <td>NaN</td>\n",
       "      <td>NaN</td>\n",
       "      <td>NaN</td>\n",
       "      <td>NaN</td>\n",
       "      <td>...</td>\n",
       "      <td>NaN</td>\n",
       "      <td>NaN</td>\n",
       "      <td>NaN</td>\n",
       "      <td>NaN</td>\n",
       "      <td>NaN</td>\n",
       "      <td>NaN</td>\n",
       "      <td>NaN</td>\n",
       "      <td>NaN</td>\n",
       "      <td>Enter Barnardo and Francisco two Centinels .</td>\n",
       "      <td>Hamlet</td>\n",
       "    </tr>\n",
       "    <tr>\n",
       "      <th>4</th>\n",
       "      <td>NaN</td>\n",
       "      <td>NaN</td>\n",
       "      <td>NaN</td>\n",
       "      <td>NaN</td>\n",
       "      <td>NaN</td>\n",
       "      <td>NaN</td>\n",
       "      <td>NaN</td>\n",
       "      <td>NaN</td>\n",
       "      <td>NaN</td>\n",
       "      <td>NaN</td>\n",
       "      <td>...</td>\n",
       "      <td>NaN</td>\n",
       "      <td>NaN</td>\n",
       "      <td>NaN</td>\n",
       "      <td>NaN</td>\n",
       "      <td>NaN</td>\n",
       "      <td>NaN</td>\n",
       "      <td>NaN</td>\n",
       "      <td>NaN</td>\n",
       "      <td>Barnardo .</td>\n",
       "      <td>Hamlet</td>\n",
       "    </tr>\n",
       "  </tbody>\n",
       "</table>\n",
       "<p>5 rows × 2501 columns</p>\n",
       "</div>"
      ],
      "text/plain": [
       "   abhorred  abide  aboord  aboue  abroad  absence  absent  absolute  absurd  \\\n",
       "0       NaN    NaN     NaN    NaN     NaN      NaN     NaN       NaN     NaN   \n",
       "1       NaN    NaN     NaN    NaN     NaN      NaN     NaN       NaN     NaN   \n",
       "2       NaN    NaN     NaN    NaN     NaN      NaN     NaN       NaN     NaN   \n",
       "3       NaN    NaN     NaN    NaN     NaN      NaN     NaN       NaN     NaN   \n",
       "4       NaN    NaN     NaN    NaN     NaN      NaN     NaN       NaN     NaN   \n",
       "\n",
       "   abuse     ...       yeares  yeeld  yes  yesterday  yesty  yong  young  \\\n",
       "0    NaN     ...          NaN    NaN  NaN        NaN    NaN   NaN    NaN   \n",
       "1    NaN     ...          NaN    NaN  NaN        NaN    NaN   NaN    NaN   \n",
       "2    NaN     ...          NaN    NaN  NaN        NaN    NaN   NaN    NaN   \n",
       "3    NaN     ...          NaN    NaN  NaN        NaN    NaN   NaN    NaN   \n",
       "4    NaN     ...          NaN    NaN  NaN        NaN    NaN   NaN    NaN   \n",
       "\n",
       "   youth                                      text_sentence  text_source  \n",
       "0    NaN  [ The Tragedie of Hamlet by William Shakespear...       Hamlet  \n",
       "1    NaN                                     Actus Primus .       Hamlet  \n",
       "2    NaN                                     Scoena Prima .       Hamlet  \n",
       "3    NaN       Enter Barnardo and Francisco two Centinels .       Hamlet  \n",
       "4    NaN                                         Barnardo .       Hamlet  \n",
       "\n",
       "[5 rows x 2501 columns]"
      ]
     },
     "execution_count": 366,
     "metadata": {},
     "output_type": "execute_result"
    }
   ],
   "source": [
    "word_vectors.head()"
   ]
  },
  {
   "cell_type": "markdown",
   "metadata": {},
   "source": [
    "<h1><center>Fit Supervised Learning Models: Bag of Words Features</center></h1>"
   ]
  },
  {
   "cell_type": "code",
   "execution_count": 342,
   "metadata": {},
   "outputs": [],
   "source": [
    "from sklearn import ensemble\n",
    "from sklearn.model_selection import train_test_split\n",
    "\n",
    "rfc = ensemble.RandomForestClassifier(n_estimators=10, max_depth=6)\n",
    "Y = word_counts[\"text_source\"]\n",
    "X = np.array(word_counts.loc[:, ~word_counts.columns.isin([\"text_sentence\", \"text_source\"])])\n",
    "\n"
   ]
  },
  {
   "cell_type": "code",
   "execution_count": 343,
   "metadata": {},
   "outputs": [
    {
     "data": {
      "text/plain": [
       "(1000,)"
      ]
     },
     "execution_count": 343,
     "metadata": {},
     "output_type": "execute_result"
    }
   ],
   "source": [
    "Y.shape"
   ]
  },
  {
   "cell_type": "code",
   "execution_count": 344,
   "metadata": {},
   "outputs": [
    {
     "data": {
      "text/plain": [
       "(1000, 3108)"
      ]
     },
     "execution_count": 344,
     "metadata": {},
     "output_type": "execute_result"
    }
   ],
   "source": [
    "X.shape"
   ]
  },
  {
   "cell_type": "code",
   "execution_count": 345,
   "metadata": {},
   "outputs": [],
   "source": [
    "X_train, X_test, y_train, y_test = train_test_split(X, Y, test_size=0.4, random_state=0)"
   ]
  },
  {
   "cell_type": "code",
   "execution_count": 346,
   "metadata": {},
   "outputs": [
    {
     "name": "stdout",
     "output_type": "stream",
     "text": [
      "Training set score: 0.66\n",
      "\n",
      "Test set score: 0.6275\n"
     ]
    }
   ],
   "source": [
    "rfc = rfc.fit(X_train, y_train)\n",
    "\n",
    "print(\"Training set score:\", rfc.score(X_train, y_train))\n",
    "print(\"\\nTest set score:\", rfc.score(X_test, y_test))"
   ]
  },
  {
   "cell_type": "code",
   "execution_count": 347,
   "metadata": {},
   "outputs": [
    {
     "data": {
      "text/html": [
       "<div>\n",
       "<style scoped>\n",
       "    .dataframe tbody tr th:only-of-type {\n",
       "        vertical-align: middle;\n",
       "    }\n",
       "\n",
       "    .dataframe tbody tr th {\n",
       "        vertical-align: top;\n",
       "    }\n",
       "\n",
       "    .dataframe thead th {\n",
       "        text-align: right;\n",
       "    }\n",
       "</style>\n",
       "<table border=\"1\" class=\"dataframe\">\n",
       "  <thead>\n",
       "    <tr style=\"text-align: right;\">\n",
       "      <th>col_0</th>\n",
       "      <th>1</th>\n",
       "      <th>2</th>\n",
       "    </tr>\n",
       "    <tr>\n",
       "      <th>text_source</th>\n",
       "      <th></th>\n",
       "      <th></th>\n",
       "    </tr>\n",
       "  </thead>\n",
       "  <tbody>\n",
       "    <tr>\n",
       "      <th>1</th>\n",
       "      <td>242</td>\n",
       "      <td>1</td>\n",
       "    </tr>\n",
       "    <tr>\n",
       "      <th>2</th>\n",
       "      <td>148</td>\n",
       "      <td>9</td>\n",
       "    </tr>\n",
       "  </tbody>\n",
       "</table>\n",
       "</div>"
      ],
      "text/plain": [
       "col_0          1  2\n",
       "text_source        \n",
       "1            242  1\n",
       "2            148  9"
      ]
     },
     "execution_count": 347,
     "metadata": {},
     "output_type": "execute_result"
    }
   ],
   "source": [
    "rfc_predicted = rfc.predict(X_test)\n",
    "pd.crosstab(y_test, rfc_predicted)"
   ]
  },
  {
   "cell_type": "code",
   "execution_count": 348,
   "metadata": {},
   "outputs": [
    {
     "name": "stdout",
     "output_type": "stream",
     "text": [
      "Training set score: 0.6083333333333333\n",
      "\n",
      "Test set score: 0.6075\n"
     ]
    }
   ],
   "source": [
    "from sklearn.linear_model import LogisticRegression\n",
    "\n",
    "lr = LogisticRegression(C=.008)\n",
    "lr = lr.fit(X_train, y_train)\n",
    "print(\"Training set score:\", lr.score(X_train, y_train))\n",
    "print(\"\\nTest set score:\", lr.score(X_test, y_test))"
   ]
  },
  {
   "cell_type": "code",
   "execution_count": 349,
   "metadata": {},
   "outputs": [
    {
     "data": {
      "text/html": [
       "<div>\n",
       "<style scoped>\n",
       "    .dataframe tbody tr th:only-of-type {\n",
       "        vertical-align: middle;\n",
       "    }\n",
       "\n",
       "    .dataframe tbody tr th {\n",
       "        vertical-align: top;\n",
       "    }\n",
       "\n",
       "    .dataframe thead th {\n",
       "        text-align: right;\n",
       "    }\n",
       "</style>\n",
       "<table border=\"1\" class=\"dataframe\">\n",
       "  <thead>\n",
       "    <tr style=\"text-align: right;\">\n",
       "      <th>col_0</th>\n",
       "      <th>1</th>\n",
       "    </tr>\n",
       "    <tr>\n",
       "      <th>text_source</th>\n",
       "      <th></th>\n",
       "    </tr>\n",
       "  </thead>\n",
       "  <tbody>\n",
       "    <tr>\n",
       "      <th>1</th>\n",
       "      <td>243</td>\n",
       "    </tr>\n",
       "    <tr>\n",
       "      <th>2</th>\n",
       "      <td>157</td>\n",
       "    </tr>\n",
       "  </tbody>\n",
       "</table>\n",
       "</div>"
      ],
      "text/plain": [
       "col_0          1\n",
       "text_source     \n",
       "1            243\n",
       "2            157"
      ]
     },
     "execution_count": 349,
     "metadata": {},
     "output_type": "execute_result"
    }
   ],
   "source": [
    "lr_predicted = lr.predict(X_test)\n",
    "pd.crosstab(y_test, lr_predicted)"
   ]
  },
  {
   "cell_type": "markdown",
   "metadata": {},
   "source": [
    "<h1><center>Fit Supervised Learning Models: TF-IDF Features</center></h1>"
   ]
  },
  {
   "cell_type": "code",
   "execution_count": 367,
   "metadata": {},
   "outputs": [],
   "source": [
    "to_num = {\"Hamlet\": 1, \"Macbeth\": 2}\n",
    "\n",
    "word_vectors[\"text_source\"] = word_vectors[\"text_source\"].map(to_num)"
   ]
  },
  {
   "cell_type": "code",
   "execution_count": 368,
   "metadata": {},
   "outputs": [],
   "source": [
    "word_vectors = word_vectors.fillna(0)"
   ]
  },
  {
   "cell_type": "code",
   "execution_count": 369,
   "metadata": {},
   "outputs": [],
   "source": [
    "\n",
    "rfc = ensemble.RandomForestClassifier(n_estimators=10, max_depth=6)\n",
    "Y = word_vectors[\"text_source\"]\n",
    "X = np.array(word_vectors.loc[:, ~word_vectors.columns.isin([\"text_sentence\", \"text_source\"])])\n",
    "\n"
   ]
  },
  {
   "cell_type": "code",
   "execution_count": 370,
   "metadata": {},
   "outputs": [
    {
     "data": {
      "text/plain": [
       "(5013,)"
      ]
     },
     "execution_count": 370,
     "metadata": {},
     "output_type": "execute_result"
    }
   ],
   "source": [
    "Y.shape"
   ]
  },
  {
   "cell_type": "code",
   "execution_count": 371,
   "metadata": {},
   "outputs": [
    {
     "data": {
      "text/plain": [
       "(5013, 2499)"
      ]
     },
     "execution_count": 371,
     "metadata": {},
     "output_type": "execute_result"
    }
   ],
   "source": [
    "X.shape"
   ]
  },
  {
   "cell_type": "code",
   "execution_count": 372,
   "metadata": {},
   "outputs": [],
   "source": [
    "X_train, X_test, y_train, y_test = train_test_split(X, Y, test_size=0.4, random_state=0)"
   ]
  },
  {
   "cell_type": "code",
   "execution_count": 373,
   "metadata": {},
   "outputs": [
    {
     "name": "stdout",
     "output_type": "stream",
     "text": [
      "Training set score: 0.6262055204522781\n",
      "\n",
      "Test set score: 0.6216350947158524\n"
     ]
    }
   ],
   "source": [
    "rfc_vect = rfc.fit(X_train, y_train)\n",
    "\n",
    "print(\"Training set score:\", rfc_vect.score(X_train, y_train))\n",
    "print(\"\\nTest set score:\", rfc_vect.score(X_test, y_test))"
   ]
  },
  {
   "cell_type": "code",
   "execution_count": 374,
   "metadata": {},
   "outputs": [
    {
     "data": {
      "text/html": [
       "<div>\n",
       "<style scoped>\n",
       "    .dataframe tbody tr th:only-of-type {\n",
       "        vertical-align: middle;\n",
       "    }\n",
       "\n",
       "    .dataframe tbody tr th {\n",
       "        vertical-align: top;\n",
       "    }\n",
       "\n",
       "    .dataframe thead th {\n",
       "        text-align: right;\n",
       "    }\n",
       "</style>\n",
       "<table border=\"1\" class=\"dataframe\">\n",
       "  <thead>\n",
       "    <tr style=\"text-align: right;\">\n",
       "      <th>col_0</th>\n",
       "      <th>1</th>\n",
       "      <th>2</th>\n",
       "    </tr>\n",
       "    <tr>\n",
       "      <th>text_source</th>\n",
       "      <th></th>\n",
       "      <th></th>\n",
       "    </tr>\n",
       "  </thead>\n",
       "  <tbody>\n",
       "    <tr>\n",
       "      <th>1</th>\n",
       "      <td>1240</td>\n",
       "      <td>1</td>\n",
       "    </tr>\n",
       "    <tr>\n",
       "      <th>2</th>\n",
       "      <td>758</td>\n",
       "      <td>7</td>\n",
       "    </tr>\n",
       "  </tbody>\n",
       "</table>\n",
       "</div>"
      ],
      "text/plain": [
       "col_0           1  2\n",
       "text_source         \n",
       "1            1240  1\n",
       "2             758  7"
      ]
     },
     "execution_count": 374,
     "metadata": {},
     "output_type": "execute_result"
    }
   ],
   "source": [
    "rfc__vect_predicted = rfc_vect.predict(X_test)\n",
    "pd.crosstab(y_test, rfc__vect_predicted)"
   ]
  },
  {
   "cell_type": "code",
   "execution_count": 375,
   "metadata": {},
   "outputs": [
    {
     "name": "stdout",
     "output_type": "stream",
     "text": [
      "Training set score: 0.6202194878616561\n",
      "\n",
      "Test set score: 0.6186440677966102\n"
     ]
    }
   ],
   "source": [
    "from sklearn.linear_model import LogisticRegression\n",
    "\n",
    "lr_vect = LogisticRegression(C=.008)\n",
    "lr_vect = lr.fit(X_train, y_train)\n",
    "print(\"Training set score:\", lr_vect.score(X_train, y_train))\n",
    "print(\"\\nTest set score:\", lr_vect.score(X_test, y_test))"
   ]
  },
  {
   "cell_type": "code",
   "execution_count": 376,
   "metadata": {},
   "outputs": [
    {
     "data": {
      "text/html": [
       "<div>\n",
       "<style scoped>\n",
       "    .dataframe tbody tr th:only-of-type {\n",
       "        vertical-align: middle;\n",
       "    }\n",
       "\n",
       "    .dataframe tbody tr th {\n",
       "        vertical-align: top;\n",
       "    }\n",
       "\n",
       "    .dataframe thead th {\n",
       "        text-align: right;\n",
       "    }\n",
       "</style>\n",
       "<table border=\"1\" class=\"dataframe\">\n",
       "  <thead>\n",
       "    <tr style=\"text-align: right;\">\n",
       "      <th>col_0</th>\n",
       "      <th>1</th>\n",
       "    </tr>\n",
       "    <tr>\n",
       "      <th>text_source</th>\n",
       "      <th></th>\n",
       "    </tr>\n",
       "  </thead>\n",
       "  <tbody>\n",
       "    <tr>\n",
       "      <th>1</th>\n",
       "      <td>1241</td>\n",
       "    </tr>\n",
       "    <tr>\n",
       "      <th>2</th>\n",
       "      <td>765</td>\n",
       "    </tr>\n",
       "  </tbody>\n",
       "</table>\n",
       "</div>"
      ],
      "text/plain": [
       "col_0           1\n",
       "text_source      \n",
       "1            1241\n",
       "2             765"
      ]
     },
     "execution_count": 376,
     "metadata": {},
     "output_type": "execute_result"
    }
   ],
   "source": [
    "lr_vect_predicted = lr_vect.predict(X_test)\n",
    "pd.crosstab(y_test, lr_vect_predicted)"
   ]
  },
  {
   "cell_type": "markdown",
   "metadata": {},
   "source": [
    "<h1><center>Increasing Accuracy of Logistic Regression on Bag of Words Features</center></h1>"
   ]
  },
  {
   "cell_type": "markdown",
   "metadata": {},
   "source": [
    "### Initial Results of Logistic Regression on Bag of Words Features"
   ]
  },
  {
   "cell_type": "code",
   "execution_count": 377,
   "metadata": {},
   "outputs": [],
   "source": [
    "Y = word_counts[\"text_source\"]\n",
    "X = np.array(word_counts.loc[:, ~word_counts.columns.isin([\"text_sentence\", \"text_source\"])])\n",
    "\n",
    "X_train, X_test, y_train, y_test = train_test_split(X, Y, test_size=0.4, random_state=0)\n"
   ]
  },
  {
   "cell_type": "code",
   "execution_count": 378,
   "metadata": {},
   "outputs": [
    {
     "name": "stdout",
     "output_type": "stream",
     "text": [
      "Training set score: 0.6083333333333333\n",
      "\n",
      "Test set score: 0.6075\n"
     ]
    }
   ],
   "source": [
    "from sklearn.linear_model import LogisticRegression\n",
    "\n",
    "lr = LogisticRegression(C=.008)\n",
    "lr = lr.fit(X_train, y_train)\n",
    "print(\"Training set score:\", lr.score(X_train, y_train))\n",
    "print(\"\\nTest set score:\", lr.score(X_test, y_test))"
   ]
  },
  {
   "cell_type": "code",
   "execution_count": 379,
   "metadata": {},
   "outputs": [
    {
     "data": {
      "text/html": [
       "<div>\n",
       "<style scoped>\n",
       "    .dataframe tbody tr th:only-of-type {\n",
       "        vertical-align: middle;\n",
       "    }\n",
       "\n",
       "    .dataframe tbody tr th {\n",
       "        vertical-align: top;\n",
       "    }\n",
       "\n",
       "    .dataframe thead th {\n",
       "        text-align: right;\n",
       "    }\n",
       "</style>\n",
       "<table border=\"1\" class=\"dataframe\">\n",
       "  <thead>\n",
       "    <tr style=\"text-align: right;\">\n",
       "      <th>col_0</th>\n",
       "      <th>1</th>\n",
       "    </tr>\n",
       "    <tr>\n",
       "      <th>text_source</th>\n",
       "      <th></th>\n",
       "    </tr>\n",
       "  </thead>\n",
       "  <tbody>\n",
       "    <tr>\n",
       "      <th>1</th>\n",
       "      <td>243</td>\n",
       "    </tr>\n",
       "    <tr>\n",
       "      <th>2</th>\n",
       "      <td>157</td>\n",
       "    </tr>\n",
       "  </tbody>\n",
       "</table>\n",
       "</div>"
      ],
      "text/plain": [
       "col_0          1\n",
       "text_source     \n",
       "1            243\n",
       "2            157"
      ]
     },
     "execution_count": 379,
     "metadata": {},
     "output_type": "execute_result"
    }
   ],
   "source": [
    "lr_predicted = lr.predict(X_test)\n",
    "pd.crosstab(y_test, lr_predicted)"
   ]
  },
  {
   "cell_type": "markdown",
   "metadata": {},
   "source": [
    "### Feature Engineering and Parameter Manipulation to Improve Accuracy of Results by 5%"
   ]
  },
  {
   "cell_type": "code",
   "execution_count": 380,
   "metadata": {},
   "outputs": [
    {
     "name": "stdout",
     "output_type": "stream",
     "text": [
      "The percentage of total variance in the dataset explained by each component from Sklearn PCA.\n",
      " [0.06946613 0.02389342 0.01687622 0.01445904 0.01320773 0.01189713\n",
      " 0.01171695 0.01148989 0.01090509 0.01031031 0.00968597 0.00947184\n",
      " 0.0090627  0.00880747 0.00843222 0.00796566 0.00782644 0.00747349\n",
      " 0.0072121  0.00696977 0.00659349 0.00646023 0.00639095 0.00623423\n",
      " 0.00615862 0.0060243  0.00587095 0.00571576 0.00564133 0.00553128\n",
      " 0.00545246 0.00534103 0.00526022 0.00519055 0.00517109 0.00504395\n",
      " 0.00499574 0.00486338 0.00478075 0.00469265 0.00464926 0.00455617\n",
      " 0.00451022 0.00446432 0.00443114 0.0043166  0.00427954 0.00421309\n",
      " 0.00419068 0.00413199 0.00408637 0.00406643 0.00402586 0.00397393\n",
      " 0.00391272 0.00381453 0.00377202 0.00370102 0.0036504  0.00363601\n",
      " 0.0035801  0.00352701 0.00349494 0.00343424 0.0034196  0.00336951\n",
      " 0.00334445 0.00331084 0.00329714 0.00327472 0.00321878 0.00318836\n",
      " 0.00314834 0.0031216  0.0031099  0.00307842 0.00303909 0.00301576\n",
      " 0.00301081 0.00298351 0.0029492  0.00293243 0.00286704 0.00286006\n",
      " 0.00279574 0.00278275 0.00276123 0.00275818 0.00270897 0.00269445\n",
      " 0.00264871 0.00263637 0.00260514 0.00256863 0.00254865 0.00254244\n",
      " 0.00251105 0.00247539 0.00246647 0.00244998 0.0024453  0.00243432\n",
      " 0.00239358 0.00237936 0.00237017 0.00234772 0.00232932 0.0022995\n",
      " 0.00229181 0.00226557 0.00226503 0.00224411 0.00222025 0.002203\n",
      " 0.00218627 0.00216884 0.00216478 0.00213836 0.00211328 0.00211164\n",
      " 0.00209842 0.00207765 0.00204928 0.00204088 0.00202713 0.0020142\n",
      " 0.00198295 0.00197315 0.0019644  0.00195834 0.00195286 0.00194305\n",
      " 0.00193822 0.00191378 0.00190183 0.00187894 0.00187338 0.00185854\n",
      " 0.00184952 0.0018427  0.001824   0.00180588 0.00179209 0.001785\n",
      " 0.00177072 0.00176545 0.00175053 0.0017472  0.00173645 0.00171976\n",
      " 0.00171375 0.00170326 0.00169209 0.00168633 0.0016579  0.00164632\n",
      " 0.00163539 0.00162143 0.0016131  0.00160976 0.00160162 0.00159359\n",
      " 0.00157785 0.00157456 0.00156826 0.00154452 0.00154041 0.00152728\n",
      " 0.00152043 0.0015167  0.00150126 0.00149662 0.00148386 0.00148105\n",
      " 0.00147291 0.0014648  0.00145307 0.00144864 0.00144063 0.00142869\n",
      " 0.0014241  0.00142262 0.00140503 0.00139266 0.00138591 0.00137321\n",
      " 0.00136779 0.00136297 0.00135498 0.00134586 0.00134166 0.00133683\n",
      " 0.00132673 0.00132012 0.00130944 0.00130328 0.00129708 0.00129075\n",
      " 0.00127274 0.00126937 0.00125423 0.00125271 0.00124493 0.00124415\n",
      " 0.00123426 0.00122248 0.00121797 0.00120708 0.00120352 0.00119082\n",
      " 0.00118408 0.00117964 0.00117527 0.00116402 0.0011578  0.00115411\n",
      " 0.00115263 0.00114332 0.00113925 0.0011288  0.00112142 0.00111751\n",
      " 0.00111355 0.00110847 0.0010922  0.0010901  0.00108329 0.00107927\n",
      " 0.00107248 0.00106308 0.00105985 0.00105429 0.0010516  0.00105023\n",
      " 0.00104135 0.00103722 0.00102813 0.00102095 0.00101627 0.00101143\n",
      " 0.00100448 0.00099571 0.00099011 0.00098057 0.00097877 0.00096933\n",
      " 0.00096776 0.00096161 0.00095657 0.00095416 0.00094795 0.00093886\n",
      " 0.00093853 0.00093047 0.0009214  0.00091681 0.00091287 0.00090951\n",
      " 0.00090828 0.00090492 0.00089295 0.00088784 0.00088394 0.00088092\n",
      " 0.00087872 0.00087371 0.00087248 0.0008687  0.00086039 0.00085736\n",
      " 0.00085282 0.00084973 0.00084867 0.00083814 0.00083727 0.0008309\n",
      " 0.00082969 0.00082358 0.00082073 0.00081561 0.00081252 0.00080905\n",
      " 0.00080166 0.00079541 0.00079329 0.00078983 0.00078612 0.00077919\n",
      " 0.000776   0.00077371 0.0007661  0.00075998 0.00075627 0.00075194\n",
      " 0.00075067 0.000749   0.00074495 0.00074383 0.00074005 0.00073475\n",
      " 0.00072728 0.00072073 0.00071932 0.00071601 0.00071382 0.00070922\n",
      " 0.00070343 0.00070084 0.00069765 0.00069657 0.00069309 0.0006905\n",
      " 0.00068886 0.0006868  0.00068339 0.00068119 0.00067685 0.00067271\n",
      " 0.00067028 0.00066389 0.00066027 0.00065943 0.00065413 0.00064583\n",
      " 0.00064537 0.0006444  0.00064213 0.00063869 0.00063759 0.00063428\n",
      " 0.00063286 0.00062866 0.00062546 0.00062228 0.00061977 0.00061701\n",
      " 0.00061346 0.00061229 0.00060788 0.00060635 0.00059955 0.00059455\n",
      " 0.00059304 0.00058929 0.0005875  0.00058598 0.00058339 0.00058019\n",
      " 0.00057492 0.00056976 0.00056902 0.00056791 0.00056491 0.00056209\n",
      " 0.00055838 0.00055703 0.00055663 0.00055221 0.00055077 0.00054811\n",
      " 0.00054329 0.0005409  0.00053735 0.00053607 0.00053399 0.00053269\n",
      " 0.00053153 0.00053016 0.00052784 0.00052448 0.0005238  0.00051958\n",
      " 0.0005182  0.00051449 0.00051204 0.00050941 0.00050868 0.00050576\n",
      " 0.00050534 0.000503   0.00049979 0.00049869 0.00049773 0.00049229\n",
      " 0.00048822 0.00048647 0.00048573 0.0004845  0.00048217 0.00047956\n",
      " 0.00047775 0.00047595 0.00047524 0.00047172 0.00046953 0.00046819\n",
      " 0.00046653 0.00046523 0.00046304 0.00046186 0.00045812 0.00045709\n",
      " 0.00045525 0.00045181 0.00044987 0.00044668 0.00044507 0.00044439\n",
      " 0.00044044 0.00043765 0.00043679 0.0004338  0.00043266 0.00043016\n",
      " 0.0004281  0.00042572 0.00042322 0.00042083 0.00041843 0.00041526\n",
      " 0.0004144  0.00041134 0.00040922 0.00040736 0.00040535 0.00040172\n",
      " 0.00040027 0.00039661 0.00039532 0.00039332 0.00039184 0.00039145\n",
      " 0.00038785 0.00038624 0.00038445 0.000383   0.00038043 0.00037866\n",
      " 0.00037617 0.00037256 0.00037185 0.0003707  0.00036898 0.00036696\n",
      " 0.00036464 0.00036251 0.00035964 0.00035776 0.00035551 0.00035435\n",
      " 0.00035399 0.00035067 0.00034974 0.00034899 0.00034737 0.00034669\n",
      " 0.00034536 0.00034472 0.0003439  0.00034222 0.00033925 0.00033768\n",
      " 0.00033676 0.00033475 0.00033091 0.00033042 0.00032867 0.00032846\n",
      " 0.00032803 0.0003251  0.00032326 0.00032088 0.00031834 0.00031479\n",
      " 0.00031325 0.00031102 0.00031051 0.00030761 0.00030669 0.00030311]\n"
     ]
    }
   ],
   "source": [
    "from sklearn.decomposition import PCA \n",
    "\n",
    "Y = word_counts[\"text_source\"]\n",
    "X = word_counts.loc[:, ~word_counts.columns.isin([\"text_sentence\", \"text_source\"])]\n",
    "\n",
    "sklearn_pca = PCA(n_components=480)\n",
    "Y_sklearn = sklearn_pca.fit_transform(X)\n",
    "\n",
    "print(\n",
    "    'The percentage of total variance in the dataset explained by each',\n",
    "    'component from Sklearn PCA.\\n',\n",
    "    sklearn_pca.explained_variance_ratio_)"
   ]
  },
  {
   "cell_type": "code",
   "execution_count": 381,
   "metadata": {},
   "outputs": [
    {
     "data": {
      "text/plain": [
       "array([0.06946613, 0.09335955, 0.11023577, 0.12469481, 0.13790254,\n",
       "       0.14979967, 0.16151662, 0.17300651, 0.1839116 , 0.19422191,\n",
       "       0.20390789, 0.21337973, 0.22244244, 0.2312499 , 0.23968212,\n",
       "       0.24764778, 0.25547422, 0.26294771, 0.27015981, 0.27712958,\n",
       "       0.28372307, 0.2901833 , 0.29657425, 0.30280848, 0.3089671 ,\n",
       "       0.31499139, 0.32086234, 0.3265781 , 0.33221944, 0.33775071,\n",
       "       0.34320318, 0.34854421, 0.35380443, 0.35899498, 0.36416607,\n",
       "       0.36921002, 0.37420576, 0.37906914, 0.3838499 , 0.38854255,\n",
       "       0.39319181, 0.39774798, 0.4022582 , 0.40672252, 0.41115366,\n",
       "       0.41547026, 0.4197498 , 0.42396289, 0.42815357, 0.43228556,\n",
       "       0.43637193, 0.44043836, 0.44446421, 0.44843814, 0.45235086,\n",
       "       0.45616539, 0.45993741, 0.46363843, 0.46728883, 0.47092484,\n",
       "       0.47450494, 0.47803195, 0.48152688, 0.48496113, 0.48838073,\n",
       "       0.49175024, 0.49509469, 0.49840553, 0.50170267, 0.50497739,\n",
       "       0.50819617, 0.51138453, 0.51453286, 0.51765446, 0.52076436,\n",
       "       0.52384279, 0.52688188, 0.52989764, 0.53290845, 0.53589196,\n",
       "       0.53884117, 0.5417736 , 0.54464064, 0.5475007 , 0.55029644,\n",
       "       0.55307919, 0.55584042, 0.5585986 , 0.56130756, 0.56400201,\n",
       "       0.56665072, 0.56928709, 0.57189223, 0.57446087, 0.57700952,\n",
       "       0.57955196, 0.58206301, 0.5845384 , 0.58700487, 0.58945485,\n",
       "       0.59190015, 0.59433447, 0.59672805, 0.59910741, 0.60147758,\n",
       "       0.6038253 , 0.60615462, 0.60845411, 0.61074592, 0.61301149,\n",
       "       0.61527652, 0.61752063, 0.61974088, 0.62194387, 0.62413015,\n",
       "       0.62629898, 0.62846376, 0.63060213, 0.63271541, 0.63482705,\n",
       "       0.63692547, 0.63900312, 0.6410524 , 0.64309329, 0.64512041,\n",
       "       0.64713461, 0.64911756, 0.65109071, 0.65305511, 0.65501345,\n",
       "       0.65696631, 0.65890936, 0.66084758, 0.66276137, 0.6646632 ,\n",
       "       0.66654214, 0.66841552, 0.67027406, 0.67212358, 0.67396629,\n",
       "       0.67579029, 0.67759617, 0.67938825, 0.68117326, 0.68294397,\n",
       "       0.68470942, 0.68645995, 0.68820715, 0.6899436 , 0.69166336,\n",
       "       0.69337712, 0.69508038, 0.69677247, 0.6984588 , 0.7001167 ,\n",
       "       0.70176302, 0.70339841, 0.70501984, 0.70663293, 0.7082427 ,\n",
       "       0.70984431, 0.7114379 , 0.71301575, 0.71459031, 0.71615857,\n",
       "       0.71770309, 0.71924349, 0.72077078, 0.72229121, 0.72380791,\n",
       "       0.72530917, 0.72680579, 0.72828965, 0.7297707 , 0.73124362,\n",
       "       0.73270842, 0.7341615 , 0.73561014, 0.73705076, 0.73847945,\n",
       "       0.73990356, 0.74132618, 0.74273121, 0.74412388, 0.74550979,\n",
       "       0.746883  , 0.74825079, 0.74961376, 0.75096874, 0.7523146 ,\n",
       "       0.75365626, 0.75499309, 0.75631982, 0.75763994, 0.75894937,\n",
       "       0.76025266, 0.76154973, 0.76284049, 0.76411323, 0.7653826 ,\n",
       "       0.76663683, 0.76788954, 0.76913446, 0.77037862, 0.77161288,\n",
       "       0.77283536, 0.77405332, 0.7752604 , 0.77646392, 0.77765474,\n",
       "       0.77883882, 0.78001846, 0.78119373, 0.78235774, 0.78351555,\n",
       "       0.78466966, 0.78582229, 0.78696561, 0.78810487, 0.78923367,\n",
       "       0.79035509, 0.7914726 , 0.79258615, 0.79369462, 0.79478682,\n",
       "       0.79587692, 0.79696021, 0.79803948, 0.79911196, 0.80017504,\n",
       "       0.80123489, 0.80228919, 0.80334078, 0.80439101, 0.80543236,\n",
       "       0.80646958, 0.80749771, 0.80851867, 0.80953493, 0.81054636,\n",
       "       0.81155084, 0.81254655, 0.81353666, 0.81451723, 0.815496  ,\n",
       "       0.81646533, 0.81743309, 0.81839471, 0.81935128, 0.82030544,\n",
       "       0.82125339, 0.82219225, 0.82313078, 0.82406125, 0.82498266,\n",
       "       0.82589947, 0.82681233, 0.82772184, 0.82863012, 0.82953504,\n",
       "       0.83042799, 0.83131584, 0.83219977, 0.83308069, 0.83395941,\n",
       "       0.83483311, 0.83570559, 0.8365743 , 0.83743469, 0.83829204,\n",
       "       0.83914486, 0.83999459, 0.84084326, 0.8416814 , 0.84251867,\n",
       "       0.84334957, 0.84417926, 0.84500284, 0.84582357, 0.84663919,\n",
       "       0.8474517 , 0.84826075, 0.84906241, 0.84985781, 0.8506511 ,\n",
       "       0.85144093, 0.85222705, 0.85300624, 0.85378224, 0.85455596,\n",
       "       0.85532205, 0.85608203, 0.85683831, 0.85759024, 0.85834091,\n",
       "       0.8590899 , 0.85983486, 0.86057868, 0.86131874, 0.86205348,\n",
       "       0.86278076, 0.8635015 , 0.86422082, 0.86493683, 0.86565065,\n",
       "       0.86635987, 0.8670633 , 0.86776413, 0.86846178, 0.86915835,\n",
       "       0.86985144, 0.87054194, 0.8712308 , 0.8719176 , 0.87260098,\n",
       "       0.87328217, 0.87395902, 0.87463173, 0.87530202, 0.8759659 ,\n",
       "       0.87662618, 0.87728561, 0.87793973, 0.87858557, 0.87923093,\n",
       "       0.87987534, 0.88051746, 0.88115615, 0.88179373, 0.88242801,\n",
       "       0.88306088, 0.88368954, 0.884315  , 0.88493729, 0.88555706,\n",
       "       0.88617407, 0.88678753, 0.88739982, 0.88800771, 0.88861406,\n",
       "       0.88921361, 0.88980816, 0.89040121, 0.89099049, 0.891578  ,\n",
       "       0.89216398, 0.89274737, 0.89332756, 0.89390248, 0.89447224,\n",
       "       0.89504126, 0.89560918, 0.89617408, 0.89673618, 0.89729456,\n",
       "       0.89785158, 0.89840822, 0.89896042, 0.8995112 , 0.90005931,\n",
       "       0.90060259, 0.90114349, 0.90168084, 0.90221691, 0.9027509 ,\n",
       "       0.90328359, 0.90381512, 0.90434528, 0.90487313, 0.9053976 ,\n",
       "       0.9059214 , 0.90644097, 0.90695918, 0.90747367, 0.9079857 ,\n",
       "       0.90849511, 0.90900379, 0.90950956, 0.9100149 , 0.9105179 ,\n",
       "       0.91101769, 0.91151638, 0.91201411, 0.9125064 , 0.91299462,\n",
       "       0.91348109, 0.91396682, 0.91445132, 0.91493349, 0.91541305,\n",
       "       0.91589081, 0.91636675, 0.91684199, 0.91731371, 0.91778324,\n",
       "       0.91825143, 0.91871796, 0.91918319, 0.91964623, 0.92010809,\n",
       "       0.9205662 , 0.92102329, 0.92147854, 0.92193035, 0.92238022,\n",
       "       0.9228269 , 0.92327197, 0.92371636, 0.9241568 , 0.92459445,\n",
       "       0.92503124, 0.92546504, 0.9258977 , 0.92632785, 0.92675595,\n",
       "       0.92718167, 0.9276049 , 0.92802572, 0.92844415, 0.92885941,\n",
       "       0.92927381, 0.92968515, 0.93009437, 0.93050172, 0.93090707,\n",
       "       0.93130879, 0.93170907, 0.93210568, 0.93250099, 0.93289432,\n",
       "       0.93328615, 0.9336776 , 0.93406544, 0.93445168, 0.93483613,\n",
       "       0.93521913, 0.93559956, 0.93597822, 0.93635438, 0.93672695,\n",
       "       0.9370988 , 0.9374695 , 0.93783848, 0.93820544, 0.93857008,\n",
       "       0.9389326 , 0.93929223, 0.93965   , 0.94000551, 0.94035985,\n",
       "       0.94071384, 0.94106451, 0.94141425, 0.94176324, 0.94211061,\n",
       "       0.9424573 , 0.94280267, 0.94314739, 0.94349128, 0.9438335 ,\n",
       "       0.94417275, 0.94451043, 0.94484719, 0.94518194, 0.94551285,\n",
       "       0.94584328, 0.94617195, 0.94650041, 0.94682843, 0.94715354,\n",
       "       0.94747679, 0.94779767, 0.94811601, 0.94843081, 0.94874406,\n",
       "       0.94905508, 0.94936559, 0.9496732 , 0.94997989, 0.950283  ])"
      ]
     },
     "execution_count": 381,
     "metadata": {},
     "output_type": "execute_result"
    }
   ],
   "source": [
    "sklearn_pca.explained_variance_ratio_.cumsum()"
   ]
  },
  {
   "cell_type": "code",
   "execution_count": 382,
   "metadata": {},
   "outputs": [],
   "source": [
    "X_with480_components = sklearn_pca.fit_transform(X)"
   ]
  },
  {
   "cell_type": "code",
   "execution_count": 383,
   "metadata": {},
   "outputs": [
    {
     "data": {
      "text/plain": [
       "(1000, 480)"
      ]
     },
     "execution_count": 383,
     "metadata": {},
     "output_type": "execute_result"
    }
   ],
   "source": [
    "X_with480_components.shape"
   ]
  },
  {
   "cell_type": "code",
   "execution_count": 384,
   "metadata": {},
   "outputs": [
    {
     "name": "stdout",
     "output_type": "stream",
     "text": [
      "Training set score: 0.925\n",
      "\n",
      "Test set score: 0.77\n"
     ]
    }
   ],
   "source": [
    "Y = word_counts[\"text_source\"]\n",
    "X = np.array(X_with480_components)\n",
    "\n",
    "X_train, X_test, y_train, y_test = train_test_split(X, Y, test_size=0.4, random_state=0)\n",
    "\n",
    "lr = LogisticRegression()\n",
    "lr = lr.fit(X_train, y_train)\n",
    "print(\"Training set score:\", lr.score(X_train, y_train))\n",
    "print(\"\\nTest set score:\", lr.score(X_test, y_test))"
   ]
  },
  {
   "cell_type": "code",
   "execution_count": 385,
   "metadata": {},
   "outputs": [
    {
     "data": {
      "text/html": [
       "<div>\n",
       "<style scoped>\n",
       "    .dataframe tbody tr th:only-of-type {\n",
       "        vertical-align: middle;\n",
       "    }\n",
       "\n",
       "    .dataframe tbody tr th {\n",
       "        vertical-align: top;\n",
       "    }\n",
       "\n",
       "    .dataframe thead th {\n",
       "        text-align: right;\n",
       "    }\n",
       "</style>\n",
       "<table border=\"1\" class=\"dataframe\">\n",
       "  <thead>\n",
       "    <tr style=\"text-align: right;\">\n",
       "      <th>col_0</th>\n",
       "      <th>1</th>\n",
       "      <th>2</th>\n",
       "    </tr>\n",
       "    <tr>\n",
       "      <th>text_source</th>\n",
       "      <th></th>\n",
       "      <th></th>\n",
       "    </tr>\n",
       "  </thead>\n",
       "  <tbody>\n",
       "    <tr>\n",
       "      <th>1</th>\n",
       "      <td>213</td>\n",
       "      <td>30</td>\n",
       "    </tr>\n",
       "    <tr>\n",
       "      <th>2</th>\n",
       "      <td>62</td>\n",
       "      <td>95</td>\n",
       "    </tr>\n",
       "  </tbody>\n",
       "</table>\n",
       "</div>"
      ],
      "text/plain": [
       "col_0          1   2\n",
       "text_source         \n",
       "1            213  30\n",
       "2             62  95"
      ]
     },
     "execution_count": 385,
     "metadata": {},
     "output_type": "execute_result"
    }
   ],
   "source": [
    "lr_predicted = lr.predict(X_test)\n",
    "pd.crosstab(y_test, lr_predicted)"
   ]
  },
  {
   "cell_type": "code",
   "execution_count": 386,
   "metadata": {},
   "outputs": [],
   "source": [
    "word_counts_revised = word_counts"
   ]
  },
  {
   "cell_type": "code",
   "execution_count": 387,
   "metadata": {},
   "outputs": [
    {
     "data": {
      "text/html": [
       "<div>\n",
       "<style scoped>\n",
       "    .dataframe tbody tr th:only-of-type {\n",
       "        vertical-align: middle;\n",
       "    }\n",
       "\n",
       "    .dataframe tbody tr th {\n",
       "        vertical-align: top;\n",
       "    }\n",
       "\n",
       "    .dataframe thead th {\n",
       "        text-align: right;\n",
       "    }\n",
       "</style>\n",
       "<table border=\"1\" class=\"dataframe\">\n",
       "  <thead>\n",
       "    <tr style=\"text-align: right;\">\n",
       "      <th></th>\n",
       "      <th>howle</th>\n",
       "      <th>wassell</th>\n",
       "      <th>method</th>\n",
       "      <th>auspicious</th>\n",
       "      <th>adde</th>\n",
       "      <th>stop</th>\n",
       "      <th>vowe</th>\n",
       "      <th>tribute</th>\n",
       "      <th>bestil'd</th>\n",
       "      <th>banners</th>\n",
       "      <th>...</th>\n",
       "      <th>fitnesse</th>\n",
       "      <th>madnesse</th>\n",
       "      <th>malc</th>\n",
       "      <th>lesse</th>\n",
       "      <th>players</th>\n",
       "      <th>property</th>\n",
       "      <th>woe</th>\n",
       "      <th>lookes</th>\n",
       "      <th>text_sentence</th>\n",
       "      <th>text_source</th>\n",
       "    </tr>\n",
       "  </thead>\n",
       "  <tbody>\n",
       "    <tr>\n",
       "      <th>0</th>\n",
       "      <td>0</td>\n",
       "      <td>0</td>\n",
       "      <td>0</td>\n",
       "      <td>0</td>\n",
       "      <td>0</td>\n",
       "      <td>0</td>\n",
       "      <td>0</td>\n",
       "      <td>0</td>\n",
       "      <td>0</td>\n",
       "      <td>0</td>\n",
       "      <td>...</td>\n",
       "      <td>0</td>\n",
       "      <td>0</td>\n",
       "      <td>0</td>\n",
       "      <td>0</td>\n",
       "      <td>0</td>\n",
       "      <td>0</td>\n",
       "      <td>0</td>\n",
       "      <td>0</td>\n",
       "      <td>(Wee'l, wait, vpon, you, Ham, .)</td>\n",
       "      <td>1</td>\n",
       "    </tr>\n",
       "    <tr>\n",
       "      <th>1</th>\n",
       "      <td>0</td>\n",
       "      <td>0</td>\n",
       "      <td>0</td>\n",
       "      <td>0</td>\n",
       "      <td>0</td>\n",
       "      <td>0</td>\n",
       "      <td>0</td>\n",
       "      <td>0</td>\n",
       "      <td>0</td>\n",
       "      <td>0</td>\n",
       "      <td>...</td>\n",
       "      <td>0</td>\n",
       "      <td>0</td>\n",
       "      <td>0</td>\n",
       "      <td>0</td>\n",
       "      <td>0</td>\n",
       "      <td>0</td>\n",
       "      <td>0</td>\n",
       "      <td>0</td>\n",
       "      <td>(Farewell, :)</td>\n",
       "      <td>1</td>\n",
       "    </tr>\n",
       "    <tr>\n",
       "      <th>2</th>\n",
       "      <td>0</td>\n",
       "      <td>0</td>\n",
       "      <td>0</td>\n",
       "      <td>0</td>\n",
       "      <td>0</td>\n",
       "      <td>0</td>\n",
       "      <td>0</td>\n",
       "      <td>0</td>\n",
       "      <td>0</td>\n",
       "      <td>0</td>\n",
       "      <td>...</td>\n",
       "      <td>0</td>\n",
       "      <td>0</td>\n",
       "      <td>0</td>\n",
       "      <td>0</td>\n",
       "      <td>0</td>\n",
       "      <td>0</td>\n",
       "      <td>0</td>\n",
       "      <td>0</td>\n",
       "      <td>(He, shall, liue, a, man, forbid, :)</td>\n",
       "      <td>2</td>\n",
       "    </tr>\n",
       "    <tr>\n",
       "      <th>3</th>\n",
       "      <td>0</td>\n",
       "      <td>0</td>\n",
       "      <td>0</td>\n",
       "      <td>0</td>\n",
       "      <td>0</td>\n",
       "      <td>0</td>\n",
       "      <td>0</td>\n",
       "      <td>0</td>\n",
       "      <td>0</td>\n",
       "      <td>0</td>\n",
       "      <td>...</td>\n",
       "      <td>0</td>\n",
       "      <td>0</td>\n",
       "      <td>0</td>\n",
       "      <td>0</td>\n",
       "      <td>0</td>\n",
       "      <td>0</td>\n",
       "      <td>0</td>\n",
       "      <td>0</td>\n",
       "      <td>(But, in, our, circumstance, and, course, of, ...</td>\n",
       "      <td>1</td>\n",
       "    </tr>\n",
       "    <tr>\n",
       "      <th>4</th>\n",
       "      <td>0</td>\n",
       "      <td>0</td>\n",
       "      <td>0</td>\n",
       "      <td>0</td>\n",
       "      <td>0</td>\n",
       "      <td>0</td>\n",
       "      <td>0</td>\n",
       "      <td>0</td>\n",
       "      <td>0</td>\n",
       "      <td>0</td>\n",
       "      <td>...</td>\n",
       "      <td>0</td>\n",
       "      <td>0</td>\n",
       "      <td>0</td>\n",
       "      <td>0</td>\n",
       "      <td>0</td>\n",
       "      <td>0</td>\n",
       "      <td>0</td>\n",
       "      <td>0</td>\n",
       "      <td>(Good, Madam, King, .)</td>\n",
       "      <td>1</td>\n",
       "    </tr>\n",
       "  </tbody>\n",
       "</table>\n",
       "<p>5 rows × 3110 columns</p>\n",
       "</div>"
      ],
      "text/plain": [
       "  howle wassell method auspicious adde stop vowe tribute bestil'd banners  \\\n",
       "0     0       0      0          0    0    0    0       0        0       0   \n",
       "1     0       0      0          0    0    0    0       0        0       0   \n",
       "2     0       0      0          0    0    0    0       0        0       0   \n",
       "3     0       0      0          0    0    0    0       0        0       0   \n",
       "4     0       0      0          0    0    0    0       0        0       0   \n",
       "\n",
       "      ...     fitnesse madnesse malc lesse players property woe lookes  \\\n",
       "0     ...            0        0    0     0       0        0   0      0   \n",
       "1     ...            0        0    0     0       0        0   0      0   \n",
       "2     ...            0        0    0     0       0        0   0      0   \n",
       "3     ...            0        0    0     0       0        0   0      0   \n",
       "4     ...            0        0    0     0       0        0   0      0   \n",
       "\n",
       "                                       text_sentence text_source  \n",
       "0                   (Wee'l, wait, vpon, you, Ham, .)           1  \n",
       "1                                      (Farewell, :)           1  \n",
       "2               (He, shall, liue, a, man, forbid, :)           2  \n",
       "3  (But, in, our, circumstance, and, course, of, ...           1  \n",
       "4                             (Good, Madam, King, .)           1  \n",
       "\n",
       "[5 rows x 3110 columns]"
      ]
     },
     "execution_count": 387,
     "metadata": {},
     "output_type": "execute_result"
    }
   ],
   "source": [
    "word_counts_revised.head()"
   ]
  },
  {
   "cell_type": "code",
   "execution_count": 388,
   "metadata": {},
   "outputs": [],
   "source": [
    "list_stop = []\n",
    "nlp = spacy.load(\"en\")\n",
    "for word in word_counts_revised.columns:\n",
    "    loaded_word = nlp(word)\n",
    "    if loaded_word[0].is_stop == True:\n",
    "        list_stop.append(word)"
   ]
  },
  {
   "cell_type": "code",
   "execution_count": 389,
   "metadata": {},
   "outputs": [
    {
     "data": {
      "text/plain": [
       "118"
      ]
     },
     "execution_count": 389,
     "metadata": {},
     "output_type": "execute_result"
    }
   ],
   "source": [
    "len(list_stop)"
   ]
  },
  {
   "cell_type": "code",
   "execution_count": 390,
   "metadata": {},
   "outputs": [],
   "source": [
    "word_counts_revised = word_counts_revised.drop(list_stop, axis=1)"
   ]
  },
  {
   "cell_type": "code",
   "execution_count": 391,
   "metadata": {},
   "outputs": [
    {
     "data": {
      "text/html": [
       "<div>\n",
       "<style scoped>\n",
       "    .dataframe tbody tr th:only-of-type {\n",
       "        vertical-align: middle;\n",
       "    }\n",
       "\n",
       "    .dataframe tbody tr th {\n",
       "        vertical-align: top;\n",
       "    }\n",
       "\n",
       "    .dataframe thead th {\n",
       "        text-align: right;\n",
       "    }\n",
       "</style>\n",
       "<table border=\"1\" class=\"dataframe\">\n",
       "  <thead>\n",
       "    <tr style=\"text-align: right;\">\n",
       "      <th></th>\n",
       "      <th>howle</th>\n",
       "      <th>wassell</th>\n",
       "      <th>method</th>\n",
       "      <th>auspicious</th>\n",
       "      <th>adde</th>\n",
       "      <th>stop</th>\n",
       "      <th>vowe</th>\n",
       "      <th>tribute</th>\n",
       "      <th>bestil'd</th>\n",
       "      <th>banners</th>\n",
       "      <th>...</th>\n",
       "      <th>fitnesse</th>\n",
       "      <th>madnesse</th>\n",
       "      <th>malc</th>\n",
       "      <th>lesse</th>\n",
       "      <th>players</th>\n",
       "      <th>property</th>\n",
       "      <th>woe</th>\n",
       "      <th>lookes</th>\n",
       "      <th>text_sentence</th>\n",
       "      <th>text_source</th>\n",
       "    </tr>\n",
       "  </thead>\n",
       "  <tbody>\n",
       "    <tr>\n",
       "      <th>0</th>\n",
       "      <td>0</td>\n",
       "      <td>0</td>\n",
       "      <td>0</td>\n",
       "      <td>0</td>\n",
       "      <td>0</td>\n",
       "      <td>0</td>\n",
       "      <td>0</td>\n",
       "      <td>0</td>\n",
       "      <td>0</td>\n",
       "      <td>0</td>\n",
       "      <td>...</td>\n",
       "      <td>0</td>\n",
       "      <td>0</td>\n",
       "      <td>0</td>\n",
       "      <td>0</td>\n",
       "      <td>0</td>\n",
       "      <td>0</td>\n",
       "      <td>0</td>\n",
       "      <td>0</td>\n",
       "      <td>(Wee'l, wait, vpon, you, Ham, .)</td>\n",
       "      <td>1</td>\n",
       "    </tr>\n",
       "    <tr>\n",
       "      <th>1</th>\n",
       "      <td>0</td>\n",
       "      <td>0</td>\n",
       "      <td>0</td>\n",
       "      <td>0</td>\n",
       "      <td>0</td>\n",
       "      <td>0</td>\n",
       "      <td>0</td>\n",
       "      <td>0</td>\n",
       "      <td>0</td>\n",
       "      <td>0</td>\n",
       "      <td>...</td>\n",
       "      <td>0</td>\n",
       "      <td>0</td>\n",
       "      <td>0</td>\n",
       "      <td>0</td>\n",
       "      <td>0</td>\n",
       "      <td>0</td>\n",
       "      <td>0</td>\n",
       "      <td>0</td>\n",
       "      <td>(Farewell, :)</td>\n",
       "      <td>1</td>\n",
       "    </tr>\n",
       "    <tr>\n",
       "      <th>2</th>\n",
       "      <td>0</td>\n",
       "      <td>0</td>\n",
       "      <td>0</td>\n",
       "      <td>0</td>\n",
       "      <td>0</td>\n",
       "      <td>0</td>\n",
       "      <td>0</td>\n",
       "      <td>0</td>\n",
       "      <td>0</td>\n",
       "      <td>0</td>\n",
       "      <td>...</td>\n",
       "      <td>0</td>\n",
       "      <td>0</td>\n",
       "      <td>0</td>\n",
       "      <td>0</td>\n",
       "      <td>0</td>\n",
       "      <td>0</td>\n",
       "      <td>0</td>\n",
       "      <td>0</td>\n",
       "      <td>(He, shall, liue, a, man, forbid, :)</td>\n",
       "      <td>2</td>\n",
       "    </tr>\n",
       "    <tr>\n",
       "      <th>3</th>\n",
       "      <td>0</td>\n",
       "      <td>0</td>\n",
       "      <td>0</td>\n",
       "      <td>0</td>\n",
       "      <td>0</td>\n",
       "      <td>0</td>\n",
       "      <td>0</td>\n",
       "      <td>0</td>\n",
       "      <td>0</td>\n",
       "      <td>0</td>\n",
       "      <td>...</td>\n",
       "      <td>0</td>\n",
       "      <td>0</td>\n",
       "      <td>0</td>\n",
       "      <td>0</td>\n",
       "      <td>0</td>\n",
       "      <td>0</td>\n",
       "      <td>0</td>\n",
       "      <td>0</td>\n",
       "      <td>(But, in, our, circumstance, and, course, of, ...</td>\n",
       "      <td>1</td>\n",
       "    </tr>\n",
       "    <tr>\n",
       "      <th>4</th>\n",
       "      <td>0</td>\n",
       "      <td>0</td>\n",
       "      <td>0</td>\n",
       "      <td>0</td>\n",
       "      <td>0</td>\n",
       "      <td>0</td>\n",
       "      <td>0</td>\n",
       "      <td>0</td>\n",
       "      <td>0</td>\n",
       "      <td>0</td>\n",
       "      <td>...</td>\n",
       "      <td>0</td>\n",
       "      <td>0</td>\n",
       "      <td>0</td>\n",
       "      <td>0</td>\n",
       "      <td>0</td>\n",
       "      <td>0</td>\n",
       "      <td>0</td>\n",
       "      <td>0</td>\n",
       "      <td>(Good, Madam, King, .)</td>\n",
       "      <td>1</td>\n",
       "    </tr>\n",
       "  </tbody>\n",
       "</table>\n",
       "<p>5 rows × 2992 columns</p>\n",
       "</div>"
      ],
      "text/plain": [
       "  howle wassell method auspicious adde stop vowe tribute bestil'd banners  \\\n",
       "0     0       0      0          0    0    0    0       0        0       0   \n",
       "1     0       0      0          0    0    0    0       0        0       0   \n",
       "2     0       0      0          0    0    0    0       0        0       0   \n",
       "3     0       0      0          0    0    0    0       0        0       0   \n",
       "4     0       0      0          0    0    0    0       0        0       0   \n",
       "\n",
       "      ...     fitnesse madnesse malc lesse players property woe lookes  \\\n",
       "0     ...            0        0    0     0       0        0   0      0   \n",
       "1     ...            0        0    0     0       0        0   0      0   \n",
       "2     ...            0        0    0     0       0        0   0      0   \n",
       "3     ...            0        0    0     0       0        0   0      0   \n",
       "4     ...            0        0    0     0       0        0   0      0   \n",
       "\n",
       "                                       text_sentence text_source  \n",
       "0                   (Wee'l, wait, vpon, you, Ham, .)           1  \n",
       "1                                      (Farewell, :)           1  \n",
       "2               (He, shall, liue, a, man, forbid, :)           2  \n",
       "3  (But, in, our, circumstance, and, course, of, ...           1  \n",
       "4                             (Good, Madam, King, .)           1  \n",
       "\n",
       "[5 rows x 2992 columns]"
      ]
     },
     "execution_count": 391,
     "metadata": {},
     "output_type": "execute_result"
    }
   ],
   "source": [
    "word_counts_revised.head()"
   ]
  },
  {
   "cell_type": "code",
   "execution_count": 392,
   "metadata": {},
   "outputs": [],
   "source": [
    "words = []\n",
    "total = []\n",
    "\n",
    "for word in word_counts_revised.loc[:, ~word_counts_revised.columns.isin([\"text_sentence\", \"text_source\"])].columns:\n",
    "    words.append(word)\n",
    "    total.append(sum(word_counts[word]))\n",
    "    "
   ]
  },
  {
   "cell_type": "code",
   "execution_count": 393,
   "metadata": {},
   "outputs": [
    {
     "data": {
      "text/plain": [
       "2990"
      ]
     },
     "execution_count": 393,
     "metadata": {},
     "output_type": "execute_result"
    }
   ],
   "source": [
    "len(words)"
   ]
  },
  {
   "cell_type": "code",
   "execution_count": 394,
   "metadata": {},
   "outputs": [
    {
     "data": {
      "text/html": [
       "<div>\n",
       "<style scoped>\n",
       "    .dataframe tbody tr th:only-of-type {\n",
       "        vertical-align: middle;\n",
       "    }\n",
       "\n",
       "    .dataframe tbody tr th {\n",
       "        vertical-align: top;\n",
       "    }\n",
       "\n",
       "    .dataframe thead th {\n",
       "        text-align: right;\n",
       "    }\n",
       "</style>\n",
       "<table border=\"1\" class=\"dataframe\">\n",
       "  <thead>\n",
       "    <tr style=\"text-align: right;\">\n",
       "      <th></th>\n",
       "      <th>word</th>\n",
       "      <th>total</th>\n",
       "    </tr>\n",
       "  </thead>\n",
       "  <tbody>\n",
       "    <tr>\n",
       "      <th>0</th>\n",
       "      <td>howle</td>\n",
       "      <td>0</td>\n",
       "    </tr>\n",
       "    <tr>\n",
       "      <th>1</th>\n",
       "      <td>wassell</td>\n",
       "      <td>0</td>\n",
       "    </tr>\n",
       "    <tr>\n",
       "      <th>2</th>\n",
       "      <td>method</td>\n",
       "      <td>0</td>\n",
       "    </tr>\n",
       "    <tr>\n",
       "      <th>3</th>\n",
       "      <td>auspicious</td>\n",
       "      <td>1</td>\n",
       "    </tr>\n",
       "    <tr>\n",
       "      <th>4</th>\n",
       "      <td>adde</td>\n",
       "      <td>1</td>\n",
       "    </tr>\n",
       "  </tbody>\n",
       "</table>\n",
       "</div>"
      ],
      "text/plain": [
       "         word  total\n",
       "0       howle      0\n",
       "1     wassell      0\n",
       "2      method      0\n",
       "3  auspicious      1\n",
       "4        adde      1"
      ]
     },
     "execution_count": 394,
     "metadata": {},
     "output_type": "execute_result"
    }
   ],
   "source": [
    "total_word_counts_revised = pd.DataFrame()\n",
    "total_word_counts_revised[\"word\"] = words\n",
    "total_word_counts_revised[\"total\"] = total\n",
    "total_word_counts_revised.head()"
   ]
  },
  {
   "cell_type": "code",
   "execution_count": 395,
   "metadata": {},
   "outputs": [],
   "source": [
    "total_word_counts_revised = total_word_counts_revised[total_word_counts_revised[\"total\"] != 0]"
   ]
  },
  {
   "cell_type": "code",
   "execution_count": 396,
   "metadata": {},
   "outputs": [],
   "source": [
    "total_word_counts_revised = total_word_counts_revised.sort_values(\"total\", ascending=False)"
   ]
  },
  {
   "cell_type": "code",
   "execution_count": 397,
   "metadata": {},
   "outputs": [
    {
     "data": {
      "text/html": [
       "<div>\n",
       "<style scoped>\n",
       "    .dataframe tbody tr th:only-of-type {\n",
       "        vertical-align: middle;\n",
       "    }\n",
       "\n",
       "    .dataframe tbody tr th {\n",
       "        vertical-align: top;\n",
       "    }\n",
       "\n",
       "    .dataframe thead th {\n",
       "        text-align: right;\n",
       "    }\n",
       "</style>\n",
       "<table border=\"1\" class=\"dataframe\">\n",
       "  <thead>\n",
       "    <tr style=\"text-align: right;\">\n",
       "      <th></th>\n",
       "      <th>word</th>\n",
       "      <th>total</th>\n",
       "    </tr>\n",
       "  </thead>\n",
       "  <tbody>\n",
       "    <tr>\n",
       "      <th>590</th>\n",
       "      <td>-PRON-</td>\n",
       "      <td>327</td>\n",
       "    </tr>\n",
       "    <tr>\n",
       "      <th>2032</th>\n",
       "      <td>ham</td>\n",
       "      <td>66</td>\n",
       "    </tr>\n",
       "    <tr>\n",
       "      <th>1481</th>\n",
       "      <td>haue</td>\n",
       "      <td>63</td>\n",
       "    </tr>\n",
       "    <tr>\n",
       "      <th>1861</th>\n",
       "      <td>lord</td>\n",
       "      <td>54</td>\n",
       "    </tr>\n",
       "    <tr>\n",
       "      <th>1142</th>\n",
       "      <td>king</td>\n",
       "      <td>46</td>\n",
       "    </tr>\n",
       "  </tbody>\n",
       "</table>\n",
       "</div>"
      ],
      "text/plain": [
       "        word  total\n",
       "590   -PRON-    327\n",
       "2032     ham     66\n",
       "1481    haue     63\n",
       "1861    lord     54\n",
       "1142    king     46"
      ]
     },
     "execution_count": 397,
     "metadata": {},
     "output_type": "execute_result"
    }
   ],
   "source": [
    "total_word_counts_revised.head()"
   ]
  },
  {
   "cell_type": "code",
   "execution_count": 398,
   "metadata": {},
   "outputs": [
    {
     "data": {
      "text/plain": [
       "Text(0.5,0,'Word')"
      ]
     },
     "execution_count": 398,
     "metadata": {},
     "output_type": "execute_result"
    },
    {
     "data": {
      "image/png": "[encoded data removed]",
      "text/plain": [
       "<Figure size 720x720 with 1 Axes>"
      ]
     },
     "metadata": {},
     "output_type": "display_data"
    }
   ],
   "source": [
    "sns.set(style=\"whitegrid\")\n",
    "ax = sns.barplot(x=total_word_counts_revised[\"word\"][:50], y=total_word_counts_revised[\"total\"][:50], data=total_word_counts_revised)\n",
    "ax.set_xticklabels(total_word_counts_revised[\"word\"][:50], rotation=90)\n",
    "ax.set_title(\"Fifty Most Frequent Words - No Stop Words\", size=20)\n",
    "ax.set_ylabel(\"Count\", size=15)\n",
    "ax.set_xlabel(\"Word\", size=15)\n",
    "\n"
   ]
  },
  {
   "cell_type": "code",
   "execution_count": 399,
   "metadata": {},
   "outputs": [
    {
     "data": {
      "text/plain": [
       "Text(0.5,0,'Word')"
      ]
     },
     "execution_count": 399,
     "metadata": {},
     "output_type": "execute_result"
    },
    {
     "data": {
      "image/png": "[encoded data removed]",
      "text/plain": [
       "<Figure size 720x720 with 1 Axes>"
      ]
     },
     "metadata": {},
     "output_type": "display_data"
    }
   ],
   "source": [
    "sns.set(style=\"whitegrid\")\n",
    "ax = sns.barplot(x=total_word_counts_revised[\"word\"][1:50], y=total_word_counts_revised[\"total\"][1:50], data=total_word_counts_revised)\n",
    "ax.set_xticklabels(total_word_counts_revised[\"word\"][1:50], rotation=90)\n",
    "ax.set_title(\"Fifty Most Frequent Words - No Stop Words (No Pronouns)\", size=20)\n",
    "ax.set_ylabel(\"Count\", size=15)\n",
    "ax.set_xlabel(\"Word\", size=15)\n",
    "\n"
   ]
  },
  {
   "cell_type": "code",
   "execution_count": 400,
   "metadata": {},
   "outputs": [],
   "source": [
    "Y = word_counts_revised[\"text_source\"]\n",
    "X = np.array(word_counts_revised.loc[:, ~word_counts_revised.columns.isin([\"text_sentence\", \"text_source\"])])\n",
    "\n",
    "X_train, X_test, y_train, y_test = train_test_split(X, Y, test_size=0.4, random_state=0)\n"
   ]
  },
  {
   "cell_type": "code",
   "execution_count": 401,
   "metadata": {},
   "outputs": [
    {
     "name": "stdout",
     "output_type": "stream",
     "text": [
      "Training set score: 0.6083333333333333\n",
      "\n",
      "Test set score: 0.6075\n"
     ]
    }
   ],
   "source": [
    "from sklearn.linear_model import LogisticRegression\n",
    "\n",
    "lr = LogisticRegression(C=.008)\n",
    "lr = lr.fit(X_train, y_train)\n",
    "print(\"Training set score:\", lr.score(X_train, y_train))\n",
    "print(\"\\nTest set score:\", lr.score(X_test, y_test))"
   ]
  },
  {
   "cell_type": "code",
   "execution_count": 402,
   "metadata": {},
   "outputs": [
    {
     "data": {
      "text/html": [
       "<div>\n",
       "<style scoped>\n",
       "    .dataframe tbody tr th:only-of-type {\n",
       "        vertical-align: middle;\n",
       "    }\n",
       "\n",
       "    .dataframe tbody tr th {\n",
       "        vertical-align: top;\n",
       "    }\n",
       "\n",
       "    .dataframe thead th {\n",
       "        text-align: right;\n",
       "    }\n",
       "</style>\n",
       "<table border=\"1\" class=\"dataframe\">\n",
       "  <thead>\n",
       "    <tr style=\"text-align: right;\">\n",
       "      <th>col_0</th>\n",
       "      <th>1</th>\n",
       "    </tr>\n",
       "    <tr>\n",
       "      <th>text_source</th>\n",
       "      <th></th>\n",
       "    </tr>\n",
       "  </thead>\n",
       "  <tbody>\n",
       "    <tr>\n",
       "      <th>1</th>\n",
       "      <td>243</td>\n",
       "    </tr>\n",
       "    <tr>\n",
       "      <th>2</th>\n",
       "      <td>157</td>\n",
       "    </tr>\n",
       "  </tbody>\n",
       "</table>\n",
       "</div>"
      ],
      "text/plain": [
       "col_0          1\n",
       "text_source     \n",
       "1            243\n",
       "2            157"
      ]
     },
     "execution_count": 402,
     "metadata": {},
     "output_type": "execute_result"
    }
   ],
   "source": [
    "lr_predicted = lr.predict(X_test)\n",
    "pd.crosstab(y_test, lr_predicted)"
   ]
  },
  {
   "cell_type": "code",
   "execution_count": null,
   "metadata": {},
   "outputs": [],
   "source": []
  }
 ],
 "metadata": {
  "kernelspec": {
   "display_name": "Python 3",
   "language": "python",
   "name": "python3"
  },
  "language_info": {
   "codemirror_mode": {
    "name": "ipython",
    "version": 3
   },
   "file_extension": ".py",
   "mimetype": "text/x-python",
   "name": "python",
   "nbconvert_exporter": "python",
   "pygments_lexer": "ipython3",
   "version": "3.6.5"
  }
 },
 "nbformat": 4,
 "nbformat_minor": 2
}
