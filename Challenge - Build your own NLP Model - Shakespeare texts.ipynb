{
 "cells": [
  {
   "cell_type": "code",
   "execution_count": 1,
   "metadata": {},
   "outputs": [],
   "source": [
    "import numpy as np\n",
    "import pandas as pd\n",
    "import seaborn as sns\n",
    "import matplotlib.pyplot as plt\n",
    "%matplotlib inline\n",
    "import scipy\n",
    "import sklearn\n",
    "import spacy\n",
    "import re\n",
    "from nltk.corpus import gutenberg, stopwords\n",
    "from collections import Counter"
   ]
  },
  {
   "cell_type": "markdown",
   "metadata": {},
   "source": [
    "### Challenge \n",
    "\n",
    "**Directions:** For this challenge, you will need to choose a corpus of data from nltk or another source that includes categories you can predict and create an analysis pipeline that includes the following steps:\n",
    "\n",
    "1. Data cleaning / processing / language parsing\n",
    "2. Create features using two different NLP methods: For example, BoW vs tf-idf.\n",
    "3. Use the features to fit supervised learning models for each feature set to predict the category outcomes.\n",
    "4. Assess your models using cross-validation and determine whether one model performed better.\n",
    "5. Pick one of the models and try to increase accuracy by at least 5 percentage points."
   ]
  },
  {
   "cell_type": "markdown",
   "metadata": {},
   "source": [
    "<h1><center>Data Cleaning/Processing</center></h1>"
   ]
  },
  {
   "cell_type": "code",
   "execution_count": 2,
   "metadata": {},
   "outputs": [
    {
     "name": "stdout",
     "output_type": "stream",
     "text": [
      "['austen-emma.txt', 'austen-persuasion.txt', 'austen-sense.txt', 'bible-kjv.txt', 'blake-poems.txt', 'bryant-stories.txt', 'burgess-busterbrown.txt', 'carroll-alice.txt', 'chesterton-ball.txt', 'chesterton-brown.txt', 'chesterton-thursday.txt', 'edgeworth-parents.txt', 'melville-moby_dick.txt', 'milton-paradise.txt', 'shakespeare-caesar.txt', 'shakespeare-hamlet.txt', 'shakespeare-macbeth.txt', 'whitman-leaves.txt']\n"
     ]
    }
   ],
   "source": [
    "print(gutenberg.fileids())"
   ]
  },
  {
   "cell_type": "code",
   "execution_count": 3,
   "metadata": {},
   "outputs": [],
   "source": [
    "hamlet = gutenberg.raw(\"shakespeare-hamlet.txt\")\n",
    "macbeth = gutenberg.raw(\"shakespeare-macbeth.txt\")"
   ]
  },
  {
   "cell_type": "code",
   "execution_count": 4,
   "metadata": {},
   "outputs": [
    {
     "data": {
      "text/plain": [
       "'[The Tragedie of Hamlet by William Shakespeare 1599]\\n\\n\\nActus Primus. Scoena Prima.\\n\\nEnter Barnardo a'"
      ]
     },
     "execution_count": 4,
     "metadata": {},
     "output_type": "execute_result"
    }
   ],
   "source": [
    "hamlet[:100]"
   ]
  },
  {
   "cell_type": "code",
   "execution_count": 5,
   "metadata": {},
   "outputs": [],
   "source": [
    "def text_cleaner(text):\n",
    "    text = re.sub(r\"--\", \" \", text)\n",
    "    text = re.sub(\"[\\[].*?[\\]]\", \"\", text)\n",
    "    text = \" \".join(text.split())\n",
    "    return text"
   ]
  },
  {
   "cell_type": "code",
   "execution_count": 6,
   "metadata": {},
   "outputs": [],
   "source": [
    "hamlet = text_cleaner(hamlet)"
   ]
  },
  {
   "cell_type": "code",
   "execution_count": 7,
   "metadata": {},
   "outputs": [
    {
     "data": {
      "text/plain": [
       "\"Actus Primus. Scoena Prima. Enter Barnardo and Francisco two Centinels. Barnardo. Who's there? Fran.\""
      ]
     },
     "execution_count": 7,
     "metadata": {},
     "output_type": "execute_result"
    }
   ],
   "source": [
    "hamlet[:100]"
   ]
  },
  {
   "cell_type": "code",
   "execution_count": 8,
   "metadata": {},
   "outputs": [],
   "source": [
    "macbeth = text_cleaner(macbeth)"
   ]
  },
  {
   "cell_type": "code",
   "execution_count": 9,
   "metadata": {},
   "outputs": [],
   "source": [
    "nlp = spacy.load(\"en\")\n",
    "\n",
    "hamlet_doc = nlp(hamlet)\n",
    "macbeth_doc = nlp(macbeth)"
   ]
  },
  {
   "cell_type": "code",
   "execution_count": 10,
   "metadata": {},
   "outputs": [],
   "source": [
    "hamlet_sents = [[sent, \"Hamlet\"] for sent in hamlet_doc.sents]\n",
    "macbeth_sents = [[sent, \"Macbeth\"] for sent in macbeth_doc.sents]\n",
    "\n",
    "hamlet_sents_df = pd.DataFrame(hamlet_sents)\n",
    "macbeth_sents_df = pd.DataFrame(macbeth_sents)\n",
    "\n",
    "sentences = pd.DataFrame(hamlet_sents + macbeth_sents)"
   ]
  },
  {
   "cell_type": "code",
   "execution_count": 11,
   "metadata": {},
   "outputs": [
    {
     "data": {
      "text/html": [
       "<div>\n",
       "<style scoped>\n",
       "    .dataframe tbody tr th:only-of-type {\n",
       "        vertical-align: middle;\n",
       "    }\n",
       "\n",
       "    .dataframe tbody tr th {\n",
       "        vertical-align: top;\n",
       "    }\n",
       "\n",
       "    .dataframe thead th {\n",
       "        text-align: right;\n",
       "    }\n",
       "</style>\n",
       "<table border=\"1\" class=\"dataframe\">\n",
       "  <thead>\n",
       "    <tr style=\"text-align: right;\">\n",
       "      <th></th>\n",
       "      <th>0</th>\n",
       "      <th>1</th>\n",
       "    </tr>\n",
       "  </thead>\n",
       "  <tbody>\n",
       "    <tr>\n",
       "      <th>4941</th>\n",
       "      <td>(So, thankes, to, all, at, once, ,, and, to, e...</td>\n",
       "      <td>Macbeth</td>\n",
       "    </tr>\n",
       "    <tr>\n",
       "      <th>4942</th>\n",
       "      <td>(Flourish, .)</td>\n",
       "      <td>Macbeth</td>\n",
       "    </tr>\n",
       "    <tr>\n",
       "      <th>4943</th>\n",
       "      <td>(Exeunt, Omnes, .)</td>\n",
       "      <td>Macbeth</td>\n",
       "    </tr>\n",
       "    <tr>\n",
       "      <th>4944</th>\n",
       "      <td>(FINIS, .)</td>\n",
       "      <td>Macbeth</td>\n",
       "    </tr>\n",
       "    <tr>\n",
       "      <th>4945</th>\n",
       "      <td>(THE, TRAGEDIE, OF, MACBETH, .)</td>\n",
       "      <td>Macbeth</td>\n",
       "    </tr>\n",
       "  </tbody>\n",
       "</table>\n",
       "</div>"
      ],
      "text/plain": [
       "                                                      0        1\n",
       "4941  (So, thankes, to, all, at, once, ,, and, to, e...  Macbeth\n",
       "4942                                      (Flourish, .)  Macbeth\n",
       "4943                                 (Exeunt, Omnes, .)  Macbeth\n",
       "4944                                         (FINIS, .)  Macbeth\n",
       "4945                    (THE, TRAGEDIE, OF, MACBETH, .)  Macbeth"
      ]
     },
     "execution_count": 11,
     "metadata": {},
     "output_type": "execute_result"
    }
   ],
   "source": [
    "sentences.tail()"
   ]
  },
  {
   "cell_type": "code",
   "execution_count": 12,
   "metadata": {},
   "outputs": [
    {
     "data": {
      "text/plain": [
       "Text(0,0.5,'Number of Sentences')"
      ]
     },
     "execution_count": 12,
     "metadata": {},
     "output_type": "execute_result"
    },
    {
     "data": {
      "image/png": "[encoded data removed]",
      "text/plain": [
       "<Figure size 432x288 with 1 Axes>"
      ]
     },
     "metadata": {},
     "output_type": "display_data"
    }
   ],
   "source": [
    "import seaborn as sns\n",
    "\n",
    "sns.set(style=\"whitegrid\")\n",
    "ax = sns.barplot(x=sentences[1].unique(), y=sentences[1].value_counts(), data=sentences)\n",
    "\n",
    "sns.set(rc={'figure.figsize':(10,10)})\n",
    "ax.set_title(\"Number of Sentences in Each Play\", size=20)\n",
    "ax.set_ylabel(\"Number of Sentences\", size=15)"
   ]
  },
  {
   "cell_type": "markdown",
   "metadata": {},
   "source": [
    "<h1><center>Create Features Using Bag of Words</center></h1>"
   ]
  },
  {
   "cell_type": "code",
   "execution_count": 70,
   "metadata": {},
   "outputs": [],
   "source": [
    "def bag_of_words(text):\n",
    "    \n",
    "    # Filter out punctuation and stop words.\n",
    "    allwords = [token.lemma_\n",
    "                for token in text\n",
    "                if not token.is_punct\n",
    "                and not token.is_stop]\n",
    "    \n",
    "    # Return the most common words.\n",
    "    return [item[0] for item in Counter(allwords).most_common(2000)]\n",
    "   "
   ]
  },
  {
   "cell_type": "code",
   "execution_count": 71,
   "metadata": {},
   "outputs": [],
   "source": [
    "hamletwords = bag_of_words(hamlet_doc)"
   ]
  },
  {
   "cell_type": "code",
   "execution_count": 72,
   "metadata": {},
   "outputs": [],
   "source": [
    "macbethwords = bag_of_words(macbeth_doc)"
   ]
  },
  {
   "cell_type": "code",
   "execution_count": 73,
   "metadata": {},
   "outputs": [],
   "source": [
    "common_words = set(hamletwords + macbethwords)"
   ]
  },
  {
   "cell_type": "code",
   "execution_count": 74,
   "metadata": {},
   "outputs": [],
   "source": [
    "abridged_sentences = sentences.sample(600)"
   ]
  },
  {
   "cell_type": "code",
   "execution_count": 75,
   "metadata": {},
   "outputs": [
    {
     "data": {
      "text/plain": [
       "(600, 2)"
      ]
     },
     "execution_count": 75,
     "metadata": {},
     "output_type": "execute_result"
    }
   ],
   "source": [
    "abridged_sentences.shape"
   ]
  },
  {
   "cell_type": "code",
   "execution_count": 76,
   "metadata": {},
   "outputs": [
    {
     "data": {
      "text/plain": [
       "Hamlet     388\n",
       "Macbeth    212\n",
       "Name: 1, dtype: int64"
      ]
     },
     "execution_count": 76,
     "metadata": {},
     "output_type": "execute_result"
    }
   ],
   "source": [
    "abridged_sentences[1].value_counts()"
   ]
  },
  {
   "cell_type": "code",
   "execution_count": 77,
   "metadata": {},
   "outputs": [],
   "source": [
    "def bow_features(sentences, common_words):\n",
    "    \n",
    "    # Scaffold the data frame and initialize counts to zero.\n",
    "    df = pd.DataFrame(columns=common_words)\n",
    "    df['text_sentence'] = sentences[0]\n",
    "    df['text_source'] = sentences[1]\n",
    "    df.loc[:, common_words] = 0\n",
    "    \n",
    "    # Process each row, counting the occurrence of words in each sentence.\n",
    "    for i, sentence in enumerate(df['text_sentence']):\n",
    "        \n",
    "        # Convert the sentence to lemmas, then filter out punctuation,\n",
    "        # stop words, and uncommon words.\n",
    "        words = [token.lemma_\n",
    "                 for token in sentence\n",
    "                 if (\n",
    "                     not token.is_punct\n",
    "                     and not token.is_stop\n",
    "                     and token.lemma_ in common_words\n",
    "                 )]\n",
    "        \n",
    "        # Populate the row with word counts.\n",
    "        for word in words:\n",
    "            df.loc[i, word] += 1\n",
    "        \n",
    "        # This counter is just to make sure the kernel didn't hang.\n",
    "        if i % 500 == 0:\n",
    "            print(\"Processing row {}\".format(i))\n",
    "            \n",
    "    return df"
   ]
  },
  {
   "cell_type": "code",
   "execution_count": 78,
   "metadata": {},
   "outputs": [
    {
     "data": {
      "text/html": [
       "<div>\n",
       "<style scoped>\n",
       "    .dataframe tbody tr th:only-of-type {\n",
       "        vertical-align: middle;\n",
       "    }\n",
       "\n",
       "    .dataframe tbody tr th {\n",
       "        vertical-align: top;\n",
       "    }\n",
       "\n",
       "    .dataframe thead th {\n",
       "        text-align: right;\n",
       "    }\n",
       "</style>\n",
       "<table border=\"1\" class=\"dataframe\">\n",
       "  <thead>\n",
       "    <tr style=\"text-align: right;\">\n",
       "      <th></th>\n",
       "      <th>0</th>\n",
       "      <th>1</th>\n",
       "    </tr>\n",
       "  </thead>\n",
       "  <tbody>\n",
       "    <tr>\n",
       "      <th>3423</th>\n",
       "      <td>(Actus, Secundus, .)</td>\n",
       "      <td>Macbeth</td>\n",
       "    </tr>\n",
       "    <tr>\n",
       "      <th>688</th>\n",
       "      <td>(no, ,, as, you, may, season, it, in, the, cha...</td>\n",
       "      <td>Hamlet</td>\n",
       "    </tr>\n",
       "    <tr>\n",
       "      <th>2322</th>\n",
       "      <td>(Finding, our, selues, too, slow, of, Saile, ,...</td>\n",
       "      <td>Hamlet</td>\n",
       "    </tr>\n",
       "    <tr>\n",
       "      <th>3616</th>\n",
       "      <td>(but, I, requited, him, for, his, Lye, ,, and)</td>\n",
       "      <td>Macbeth</td>\n",
       "    </tr>\n",
       "    <tr>\n",
       "      <th>1239</th>\n",
       "      <td>(Rosin, .)</td>\n",
       "      <td>Hamlet</td>\n",
       "    </tr>\n",
       "  </tbody>\n",
       "</table>\n",
       "</div>"
      ],
      "text/plain": [
       "                                                      0        1\n",
       "3423                               (Actus, Secundus, .)  Macbeth\n",
       "688   (no, ,, as, you, may, season, it, in, the, cha...   Hamlet\n",
       "2322  (Finding, our, selues, too, slow, of, Saile, ,...   Hamlet\n",
       "3616     (but, I, requited, him, for, his, Lye, ,, and)  Macbeth\n",
       "1239                                         (Rosin, .)   Hamlet"
      ]
     },
     "execution_count": 78,
     "metadata": {},
     "output_type": "execute_result"
    }
   ],
   "source": [
    "abridged_sentences.head()"
   ]
  },
  {
   "cell_type": "code",
   "execution_count": 79,
   "metadata": {},
   "outputs": [],
   "source": [
    "abridged_sentences = abridged_sentences.reset_index(drop=True)"
   ]
  },
  {
   "cell_type": "code",
   "execution_count": 80,
   "metadata": {},
   "outputs": [
    {
     "data": {
      "text/html": [
       "<div>\n",
       "<style scoped>\n",
       "    .dataframe tbody tr th:only-of-type {\n",
       "        vertical-align: middle;\n",
       "    }\n",
       "\n",
       "    .dataframe tbody tr th {\n",
       "        vertical-align: top;\n",
       "    }\n",
       "\n",
       "    .dataframe thead th {\n",
       "        text-align: right;\n",
       "    }\n",
       "</style>\n",
       "<table border=\"1\" class=\"dataframe\">\n",
       "  <thead>\n",
       "    <tr style=\"text-align: right;\">\n",
       "      <th></th>\n",
       "      <th>0</th>\n",
       "      <th>1</th>\n",
       "    </tr>\n",
       "  </thead>\n",
       "  <tbody>\n",
       "    <tr>\n",
       "      <th>0</th>\n",
       "      <td>(Actus, Secundus, .)</td>\n",
       "      <td>Macbeth</td>\n",
       "    </tr>\n",
       "    <tr>\n",
       "      <th>1</th>\n",
       "      <td>(no, ,, as, you, may, season, it, in, the, cha...</td>\n",
       "      <td>Hamlet</td>\n",
       "    </tr>\n",
       "    <tr>\n",
       "      <th>2</th>\n",
       "      <td>(Finding, our, selues, too, slow, of, Saile, ,...</td>\n",
       "      <td>Hamlet</td>\n",
       "    </tr>\n",
       "    <tr>\n",
       "      <th>3</th>\n",
       "      <td>(but, I, requited, him, for, his, Lye, ,, and)</td>\n",
       "      <td>Macbeth</td>\n",
       "    </tr>\n",
       "    <tr>\n",
       "      <th>4</th>\n",
       "      <td>(Rosin, .)</td>\n",
       "      <td>Hamlet</td>\n",
       "    </tr>\n",
       "  </tbody>\n",
       "</table>\n",
       "</div>"
      ],
      "text/plain": [
       "                                                   0        1\n",
       "0                               (Actus, Secundus, .)  Macbeth\n",
       "1  (no, ,, as, you, may, season, it, in, the, cha...   Hamlet\n",
       "2  (Finding, our, selues, too, slow, of, Saile, ,...   Hamlet\n",
       "3     (but, I, requited, him, for, his, Lye, ,, and)  Macbeth\n",
       "4                                         (Rosin, .)   Hamlet"
      ]
     },
     "execution_count": 80,
     "metadata": {},
     "output_type": "execute_result"
    }
   ],
   "source": [
    "abridged_sentences.head()"
   ]
  },
  {
   "cell_type": "code",
   "execution_count": 81,
   "metadata": {},
   "outputs": [
    {
     "name": "stdout",
     "output_type": "stream",
     "text": [
      "Processing row 0\n",
      "Processing row 500\n"
     ]
    }
   ],
   "source": [
    "word_counts = bow_features(abridged_sentences, common_words)"
   ]
  },
  {
   "cell_type": "code",
   "execution_count": 82,
   "metadata": {},
   "outputs": [
    {
     "data": {
      "text/html": [
       "<div>\n",
       "<style scoped>\n",
       "    .dataframe tbody tr th:only-of-type {\n",
       "        vertical-align: middle;\n",
       "    }\n",
       "\n",
       "    .dataframe tbody tr th {\n",
       "        vertical-align: top;\n",
       "    }\n",
       "\n",
       "    .dataframe thead th {\n",
       "        text-align: right;\n",
       "    }\n",
       "</style>\n",
       "<table border=\"1\" class=\"dataframe\">\n",
       "  <thead>\n",
       "    <tr style=\"text-align: right;\">\n",
       "      <th></th>\n",
       "      <th>howle</th>\n",
       "      <th>wassell</th>\n",
       "      <th>method</th>\n",
       "      <th>auspicious</th>\n",
       "      <th>adde</th>\n",
       "      <th>stop</th>\n",
       "      <th>vowe</th>\n",
       "      <th>tribute</th>\n",
       "      <th>bestil'd</th>\n",
       "      <th>banners</th>\n",
       "      <th>...</th>\n",
       "      <th>fitnesse</th>\n",
       "      <th>madnesse</th>\n",
       "      <th>malc</th>\n",
       "      <th>lesse</th>\n",
       "      <th>players</th>\n",
       "      <th>property</th>\n",
       "      <th>woe</th>\n",
       "      <th>lookes</th>\n",
       "      <th>text_sentence</th>\n",
       "      <th>text_source</th>\n",
       "    </tr>\n",
       "  </thead>\n",
       "  <tbody>\n",
       "    <tr>\n",
       "      <th>0</th>\n",
       "      <td>0</td>\n",
       "      <td>0</td>\n",
       "      <td>0</td>\n",
       "      <td>0</td>\n",
       "      <td>0</td>\n",
       "      <td>0</td>\n",
       "      <td>0</td>\n",
       "      <td>0</td>\n",
       "      <td>0</td>\n",
       "      <td>0</td>\n",
       "      <td>...</td>\n",
       "      <td>0</td>\n",
       "      <td>0</td>\n",
       "      <td>0</td>\n",
       "      <td>0</td>\n",
       "      <td>0</td>\n",
       "      <td>0</td>\n",
       "      <td>0</td>\n",
       "      <td>0</td>\n",
       "      <td>(Actus, Secundus, .)</td>\n",
       "      <td>Macbeth</td>\n",
       "    </tr>\n",
       "    <tr>\n",
       "      <th>1</th>\n",
       "      <td>0</td>\n",
       "      <td>0</td>\n",
       "      <td>0</td>\n",
       "      <td>0</td>\n",
       "      <td>0</td>\n",
       "      <td>0</td>\n",
       "      <td>0</td>\n",
       "      <td>0</td>\n",
       "      <td>0</td>\n",
       "      <td>0</td>\n",
       "      <td>...</td>\n",
       "      <td>0</td>\n",
       "      <td>0</td>\n",
       "      <td>0</td>\n",
       "      <td>0</td>\n",
       "      <td>0</td>\n",
       "      <td>0</td>\n",
       "      <td>0</td>\n",
       "      <td>0</td>\n",
       "      <td>(no, ,, as, you, may, season, it, in, the, cha...</td>\n",
       "      <td>Hamlet</td>\n",
       "    </tr>\n",
       "    <tr>\n",
       "      <th>2</th>\n",
       "      <td>0</td>\n",
       "      <td>0</td>\n",
       "      <td>0</td>\n",
       "      <td>0</td>\n",
       "      <td>0</td>\n",
       "      <td>0</td>\n",
       "      <td>0</td>\n",
       "      <td>0</td>\n",
       "      <td>0</td>\n",
       "      <td>0</td>\n",
       "      <td>...</td>\n",
       "      <td>0</td>\n",
       "      <td>0</td>\n",
       "      <td>0</td>\n",
       "      <td>0</td>\n",
       "      <td>0</td>\n",
       "      <td>0</td>\n",
       "      <td>0</td>\n",
       "      <td>0</td>\n",
       "      <td>(Finding, our, selues, too, slow, of, Saile, ,...</td>\n",
       "      <td>Hamlet</td>\n",
       "    </tr>\n",
       "    <tr>\n",
       "      <th>3</th>\n",
       "      <td>0</td>\n",
       "      <td>0</td>\n",
       "      <td>0</td>\n",
       "      <td>0</td>\n",
       "      <td>0</td>\n",
       "      <td>0</td>\n",
       "      <td>0</td>\n",
       "      <td>0</td>\n",
       "      <td>0</td>\n",
       "      <td>0</td>\n",
       "      <td>...</td>\n",
       "      <td>0</td>\n",
       "      <td>0</td>\n",
       "      <td>0</td>\n",
       "      <td>0</td>\n",
       "      <td>0</td>\n",
       "      <td>0</td>\n",
       "      <td>0</td>\n",
       "      <td>0</td>\n",
       "      <td>(but, I, requited, him, for, his, Lye, ,, and)</td>\n",
       "      <td>Macbeth</td>\n",
       "    </tr>\n",
       "    <tr>\n",
       "      <th>4</th>\n",
       "      <td>0</td>\n",
       "      <td>0</td>\n",
       "      <td>0</td>\n",
       "      <td>0</td>\n",
       "      <td>0</td>\n",
       "      <td>0</td>\n",
       "      <td>0</td>\n",
       "      <td>0</td>\n",
       "      <td>0</td>\n",
       "      <td>0</td>\n",
       "      <td>...</td>\n",
       "      <td>0</td>\n",
       "      <td>0</td>\n",
       "      <td>0</td>\n",
       "      <td>0</td>\n",
       "      <td>0</td>\n",
       "      <td>0</td>\n",
       "      <td>0</td>\n",
       "      <td>0</td>\n",
       "      <td>(Rosin, .)</td>\n",
       "      <td>Hamlet</td>\n",
       "    </tr>\n",
       "  </tbody>\n",
       "</table>\n",
       "<p>5 rows × 3110 columns</p>\n",
       "</div>"
      ],
      "text/plain": [
       "  howle wassell method auspicious adde stop vowe tribute bestil'd banners  \\\n",
       "0     0       0      0          0    0    0    0       0        0       0   \n",
       "1     0       0      0          0    0    0    0       0        0       0   \n",
       "2     0       0      0          0    0    0    0       0        0       0   \n",
       "3     0       0      0          0    0    0    0       0        0       0   \n",
       "4     0       0      0          0    0    0    0       0        0       0   \n",
       "\n",
       "      ...     fitnesse madnesse malc lesse players property woe lookes  \\\n",
       "0     ...            0        0    0     0       0        0   0      0   \n",
       "1     ...            0        0    0     0       0        0   0      0   \n",
       "2     ...            0        0    0     0       0        0   0      0   \n",
       "3     ...            0        0    0     0       0        0   0      0   \n",
       "4     ...            0        0    0     0       0        0   0      0   \n",
       "\n",
       "                                       text_sentence text_source  \n",
       "0                               (Actus, Secundus, .)     Macbeth  \n",
       "1  (no, ,, as, you, may, season, it, in, the, cha...      Hamlet  \n",
       "2  (Finding, our, selues, too, slow, of, Saile, ,...      Hamlet  \n",
       "3     (but, I, requited, him, for, his, Lye, ,, and)     Macbeth  \n",
       "4                                         (Rosin, .)      Hamlet  \n",
       "\n",
       "[5 rows x 3110 columns]"
      ]
     },
     "execution_count": 82,
     "metadata": {},
     "output_type": "execute_result"
    }
   ],
   "source": [
    "word_counts.head()"
   ]
  },
  {
   "cell_type": "code",
   "execution_count": 83,
   "metadata": {},
   "outputs": [
    {
     "data": {
      "text/plain": [
       "Hamlet     388\n",
       "Macbeth    212\n",
       "Name: text_source, dtype: int64"
      ]
     },
     "execution_count": 83,
     "metadata": {},
     "output_type": "execute_result"
    }
   ],
   "source": [
    "word_counts[\"text_source\"].value_counts()\n"
   ]
  },
  {
   "cell_type": "code",
   "execution_count": 84,
   "metadata": {},
   "outputs": [],
   "source": [
    "z = {\"Hamlet\": 1, \"Macbeth\": 0}\n",
    "\n",
    "word_counts[\"text_source\"] = word_counts[\"text_source\"].map(z)"
   ]
  },
  {
   "cell_type": "code",
   "execution_count": 85,
   "metadata": {},
   "outputs": [
    {
     "data": {
      "text/plain": [
       "1    388\n",
       "0    212\n",
       "Name: text_source, dtype: int64"
      ]
     },
     "execution_count": 85,
     "metadata": {},
     "output_type": "execute_result"
    }
   ],
   "source": [
    "word_counts[\"text_source\"].value_counts()\n"
   ]
  },
  {
   "cell_type": "code",
   "execution_count": 86,
   "metadata": {},
   "outputs": [
    {
     "data": {
      "text/html": [
       "<div>\n",
       "<style scoped>\n",
       "    .dataframe tbody tr th:only-of-type {\n",
       "        vertical-align: middle;\n",
       "    }\n",
       "\n",
       "    .dataframe tbody tr th {\n",
       "        vertical-align: top;\n",
       "    }\n",
       "\n",
       "    .dataframe thead th {\n",
       "        text-align: right;\n",
       "    }\n",
       "</style>\n",
       "<table border=\"1\" class=\"dataframe\">\n",
       "  <thead>\n",
       "    <tr style=\"text-align: right;\">\n",
       "      <th></th>\n",
       "      <th>howle</th>\n",
       "      <th>wassell</th>\n",
       "      <th>method</th>\n",
       "      <th>auspicious</th>\n",
       "      <th>adde</th>\n",
       "      <th>stop</th>\n",
       "      <th>vowe</th>\n",
       "      <th>tribute</th>\n",
       "      <th>bestil'd</th>\n",
       "      <th>banners</th>\n",
       "      <th>...</th>\n",
       "      <th>fitnesse</th>\n",
       "      <th>madnesse</th>\n",
       "      <th>malc</th>\n",
       "      <th>lesse</th>\n",
       "      <th>players</th>\n",
       "      <th>property</th>\n",
       "      <th>woe</th>\n",
       "      <th>lookes</th>\n",
       "      <th>text_sentence</th>\n",
       "      <th>text_source</th>\n",
       "    </tr>\n",
       "  </thead>\n",
       "  <tbody>\n",
       "    <tr>\n",
       "      <th>0</th>\n",
       "      <td>0</td>\n",
       "      <td>0</td>\n",
       "      <td>0</td>\n",
       "      <td>0</td>\n",
       "      <td>0</td>\n",
       "      <td>0</td>\n",
       "      <td>0</td>\n",
       "      <td>0</td>\n",
       "      <td>0</td>\n",
       "      <td>0</td>\n",
       "      <td>...</td>\n",
       "      <td>0</td>\n",
       "      <td>0</td>\n",
       "      <td>0</td>\n",
       "      <td>0</td>\n",
       "      <td>0</td>\n",
       "      <td>0</td>\n",
       "      <td>0</td>\n",
       "      <td>0</td>\n",
       "      <td>(Actus, Secundus, .)</td>\n",
       "      <td>0</td>\n",
       "    </tr>\n",
       "    <tr>\n",
       "      <th>1</th>\n",
       "      <td>0</td>\n",
       "      <td>0</td>\n",
       "      <td>0</td>\n",
       "      <td>0</td>\n",
       "      <td>0</td>\n",
       "      <td>0</td>\n",
       "      <td>0</td>\n",
       "      <td>0</td>\n",
       "      <td>0</td>\n",
       "      <td>0</td>\n",
       "      <td>...</td>\n",
       "      <td>0</td>\n",
       "      <td>0</td>\n",
       "      <td>0</td>\n",
       "      <td>0</td>\n",
       "      <td>0</td>\n",
       "      <td>0</td>\n",
       "      <td>0</td>\n",
       "      <td>0</td>\n",
       "      <td>(no, ,, as, you, may, season, it, in, the, cha...</td>\n",
       "      <td>1</td>\n",
       "    </tr>\n",
       "    <tr>\n",
       "      <th>2</th>\n",
       "      <td>0</td>\n",
       "      <td>0</td>\n",
       "      <td>0</td>\n",
       "      <td>0</td>\n",
       "      <td>0</td>\n",
       "      <td>0</td>\n",
       "      <td>0</td>\n",
       "      <td>0</td>\n",
       "      <td>0</td>\n",
       "      <td>0</td>\n",
       "      <td>...</td>\n",
       "      <td>0</td>\n",
       "      <td>0</td>\n",
       "      <td>0</td>\n",
       "      <td>0</td>\n",
       "      <td>0</td>\n",
       "      <td>0</td>\n",
       "      <td>0</td>\n",
       "      <td>0</td>\n",
       "      <td>(Finding, our, selues, too, slow, of, Saile, ,...</td>\n",
       "      <td>1</td>\n",
       "    </tr>\n",
       "    <tr>\n",
       "      <th>3</th>\n",
       "      <td>0</td>\n",
       "      <td>0</td>\n",
       "      <td>0</td>\n",
       "      <td>0</td>\n",
       "      <td>0</td>\n",
       "      <td>0</td>\n",
       "      <td>0</td>\n",
       "      <td>0</td>\n",
       "      <td>0</td>\n",
       "      <td>0</td>\n",
       "      <td>...</td>\n",
       "      <td>0</td>\n",
       "      <td>0</td>\n",
       "      <td>0</td>\n",
       "      <td>0</td>\n",
       "      <td>0</td>\n",
       "      <td>0</td>\n",
       "      <td>0</td>\n",
       "      <td>0</td>\n",
       "      <td>(but, I, requited, him, for, his, Lye, ,, and)</td>\n",
       "      <td>0</td>\n",
       "    </tr>\n",
       "    <tr>\n",
       "      <th>4</th>\n",
       "      <td>0</td>\n",
       "      <td>0</td>\n",
       "      <td>0</td>\n",
       "      <td>0</td>\n",
       "      <td>0</td>\n",
       "      <td>0</td>\n",
       "      <td>0</td>\n",
       "      <td>0</td>\n",
       "      <td>0</td>\n",
       "      <td>0</td>\n",
       "      <td>...</td>\n",
       "      <td>0</td>\n",
       "      <td>0</td>\n",
       "      <td>0</td>\n",
       "      <td>0</td>\n",
       "      <td>0</td>\n",
       "      <td>0</td>\n",
       "      <td>0</td>\n",
       "      <td>0</td>\n",
       "      <td>(Rosin, .)</td>\n",
       "      <td>1</td>\n",
       "    </tr>\n",
       "  </tbody>\n",
       "</table>\n",
       "<p>5 rows × 3110 columns</p>\n",
       "</div>"
      ],
      "text/plain": [
       "  howle wassell method auspicious adde stop vowe tribute bestil'd banners  \\\n",
       "0     0       0      0          0    0    0    0       0        0       0   \n",
       "1     0       0      0          0    0    0    0       0        0       0   \n",
       "2     0       0      0          0    0    0    0       0        0       0   \n",
       "3     0       0      0          0    0    0    0       0        0       0   \n",
       "4     0       0      0          0    0    0    0       0        0       0   \n",
       "\n",
       "      ...     fitnesse madnesse malc lesse players property woe lookes  \\\n",
       "0     ...            0        0    0     0       0        0   0      0   \n",
       "1     ...            0        0    0     0       0        0   0      0   \n",
       "2     ...            0        0    0     0       0        0   0      0   \n",
       "3     ...            0        0    0     0       0        0   0      0   \n",
       "4     ...            0        0    0     0       0        0   0      0   \n",
       "\n",
       "                                       text_sentence text_source  \n",
       "0                               (Actus, Secundus, .)           0  \n",
       "1  (no, ,, as, you, may, season, it, in, the, cha...           1  \n",
       "2  (Finding, our, selues, too, slow, of, Saile, ,...           1  \n",
       "3     (but, I, requited, him, for, his, Lye, ,, and)           0  \n",
       "4                                         (Rosin, .)           1  \n",
       "\n",
       "[5 rows x 3110 columns]"
      ]
     },
     "execution_count": 86,
     "metadata": {},
     "output_type": "execute_result"
    }
   ],
   "source": [
    "word_counts.head()"
   ]
  },
  {
   "cell_type": "code",
   "execution_count": 87,
   "metadata": {},
   "outputs": [],
   "source": [
    "words = []\n",
    "total = []\n",
    "\n",
    "for word in word_counts.loc[:, ~word_counts.columns.isin([\"text_sentence\", \"text_source\"])].columns:\n",
    "    words.append(word)\n",
    "    total.append(sum(word_counts[word]))\n",
    "    "
   ]
  },
  {
   "cell_type": "code",
   "execution_count": 88,
   "metadata": {},
   "outputs": [
    {
     "data": {
      "text/html": [
       "<div>\n",
       "<style scoped>\n",
       "    .dataframe tbody tr th:only-of-type {\n",
       "        vertical-align: middle;\n",
       "    }\n",
       "\n",
       "    .dataframe tbody tr th {\n",
       "        vertical-align: top;\n",
       "    }\n",
       "\n",
       "    .dataframe thead th {\n",
       "        text-align: right;\n",
       "    }\n",
       "</style>\n",
       "<table border=\"1\" class=\"dataframe\">\n",
       "  <thead>\n",
       "    <tr style=\"text-align: right;\">\n",
       "      <th></th>\n",
       "      <th>word</th>\n",
       "      <th>total</th>\n",
       "    </tr>\n",
       "  </thead>\n",
       "  <tbody>\n",
       "    <tr>\n",
       "      <th>0</th>\n",
       "      <td>howle</td>\n",
       "      <td>1</td>\n",
       "    </tr>\n",
       "    <tr>\n",
       "      <th>1</th>\n",
       "      <td>wassell</td>\n",
       "      <td>0</td>\n",
       "    </tr>\n",
       "    <tr>\n",
       "      <th>2</th>\n",
       "      <td>method</td>\n",
       "      <td>1</td>\n",
       "    </tr>\n",
       "    <tr>\n",
       "      <th>3</th>\n",
       "      <td>auspicious</td>\n",
       "      <td>0</td>\n",
       "    </tr>\n",
       "    <tr>\n",
       "      <th>4</th>\n",
       "      <td>adde</td>\n",
       "      <td>0</td>\n",
       "    </tr>\n",
       "  </tbody>\n",
       "</table>\n",
       "</div>"
      ],
      "text/plain": [
       "         word  total\n",
       "0       howle      1\n",
       "1     wassell      0\n",
       "2      method      1\n",
       "3  auspicious      0\n",
       "4        adde      0"
      ]
     },
     "execution_count": 88,
     "metadata": {},
     "output_type": "execute_result"
    }
   ],
   "source": [
    "total_word_counts = pd.DataFrame()\n",
    "total_word_counts[\"word\"] = words\n",
    "total_word_counts[\"total\"] = total\n",
    "total_word_counts.head()"
   ]
  },
  {
   "cell_type": "code",
   "execution_count": 89,
   "metadata": {},
   "outputs": [],
   "source": [
    "total_word_counts = total_word_counts[total_word_counts[\"total\"] != 0]"
   ]
  },
  {
   "cell_type": "code",
   "execution_count": 90,
   "metadata": {},
   "outputs": [],
   "source": [
    "total_word_counts = total_word_counts.sort_values(\"total\", ascending=False)"
   ]
  },
  {
   "cell_type": "code",
   "execution_count": 92,
   "metadata": {},
   "outputs": [
    {
     "data": {
      "text/plain": [
       "Text(0.5,0,'Word')"
      ]
     },
     "execution_count": 92,
     "metadata": {},
     "output_type": "execute_result"
    },
    {
     "data": {
      "image/png": "[encoded data removed]",
      "text/plain": [
       "<Figure size 720x720 with 1 Axes>"
      ]
     },
     "metadata": {},
     "output_type": "display_data"
    }
   ],
   "source": [
    "sns.set(style=\"whitegrid\")\n",
    "ax = sns.barplot(x=total_word_counts[\"word\"][:50], y=total_word_counts[\"total\"][:50], data=total_word_counts)\n",
    "ax.set_xticklabels(total_word_counts[\"word\"][:50], rotation=90)\n",
    "ax.set_title(\"Fifty Most Frequent Words\", size=20)\n",
    "ax.set_ylabel(\"Count\", size=15)\n",
    "ax.set_xlabel(\"Word\", size=15)\n",
    "\n"
   ]
  },
  {
   "cell_type": "code",
   "execution_count": 93,
   "metadata": {},
   "outputs": [
    {
     "data": {
      "text/plain": [
       "Text(0.5,0,'Word')"
      ]
     },
     "execution_count": 93,
     "metadata": {},
     "output_type": "execute_result"
    },
    {
     "data": {
      "image/png": "[encoded data removed]",
      "text/plain": [
       "<Figure size 720x720 with 1 Axes>"
      ]
     },
     "metadata": {},
     "output_type": "display_data"
    }
   ],
   "source": [
    "sns.set(style=\"whitegrid\")\n",
    "ax = sns.barplot(x=total_word_counts[\"word\"][1:50], y=total_word_counts[\"total\"][1:50], data=total_word_counts)\n",
    "ax.set_xticklabels(total_word_counts[\"word\"][1:50], rotation=90)\n",
    "ax.set_title(\"Fifty Most Frequent Words (No Pronouns)\", size=20)\n",
    "ax.set_ylabel(\"Count\", size=15)\n",
    "ax.set_xlabel(\"Word\", size=15)\n",
    "\n"
   ]
  },
  {
   "cell_type": "markdown",
   "metadata": {},
   "source": [
    "<h1><center>Create Features Using TF-IDF</center></h1>"
   ]
  },
  {
   "cell_type": "code",
   "execution_count": 127,
   "metadata": {},
   "outputs": [],
   "source": [
    "hamlet = gutenberg.sents(\"shakespeare-hamlet.txt\")"
   ]
  },
  {
   "cell_type": "code",
   "execution_count": 128,
   "metadata": {},
   "outputs": [],
   "source": [
    "macbeth = gutenberg.sents(\"shakespeare-macbeth.txt\")"
   ]
  },
  {
   "cell_type": "code",
   "execution_count": 129,
   "metadata": {},
   "outputs": [
    {
     "data": {
      "text/plain": [
       "'Nay answer me : Stand & vnfold your selfe'"
      ]
     },
     "execution_count": 129,
     "metadata": {},
     "output_type": "execute_result"
    }
   ],
   "source": [
    "\" \".join(hamlet[7])"
   ]
  },
  {
   "cell_type": "code",
   "execution_count": 130,
   "metadata": {},
   "outputs": [
    {
     "name": "stdout",
     "output_type": "stream",
     "text": [
      "Number of Hamlet sentences 3106\n",
      "Total number of sentences: 5013\n"
     ]
    }
   ],
   "source": [
    "shakespeare_sents = []\n",
    "\n",
    "for sentence in hamlet:\n",
    "    shakespeare_sents.append(\" \".join(sentence))\n",
    "\n",
    "print(\"Number of Hamlet sentences\", len(shakespeare_sents))\n",
    "    \n",
    "for sentence in macbeth:\n",
    "    shakespeare_sents.append(\" \".join(sentence))\n",
    "print(\"Total number of sentences:\", len(shakespeare_sents))\n",
    "    "
   ]
  },
  {
   "cell_type": "code",
   "execution_count": 131,
   "metadata": {
    "scrolled": true
   },
   "outputs": [
    {
     "data": {
      "text/plain": [
       "'Nay answer me : Stand & vnfold your selfe'"
      ]
     },
     "execution_count": 131,
     "metadata": {},
     "output_type": "execute_result"
    }
   ],
   "source": [
    "shakespeare_sents[7]"
   ]
  },
  {
   "cell_type": "code",
   "execution_count": 132,
   "metadata": {},
   "outputs": [
    {
     "data": {
      "text/plain": [
       "5013"
      ]
     },
     "execution_count": 132,
     "metadata": {},
     "output_type": "execute_result"
    }
   ],
   "source": [
    "len(shakespeare_sents)"
   ]
  },
  {
   "cell_type": "code",
   "execution_count": 133,
   "metadata": {},
   "outputs": [
    {
     "data": {
      "text/plain": [
       "\"Behold where stands Th ' Vsurpers cursed head : the time is free : I see thee compast with thy Kingdomes Pearle , That speake my salutation in their minds : Whose voyces I desire alowd with mine .\""
      ]
     },
     "execution_count": 133,
     "metadata": {},
     "output_type": "execute_result"
    }
   ],
   "source": [
    "shakespeare_sents[5000]"
   ]
  },
  {
   "cell_type": "code",
   "execution_count": 134,
   "metadata": {},
   "outputs": [
    {
     "name": "stdout",
     "output_type": "stream",
     "text": [
      "Number of features: 2499\n"
     ]
    }
   ],
   "source": [
    "from sklearn.feature_extraction.text import TfidfVectorizer\n",
    "from sklearn.model_selection import train_test_split\n",
    "\n",
    "vectorizer = TfidfVectorizer(max_df=0.5, # drop words that occur in more than half the paragraphs\n",
    "                             min_df=2, # only use words that appear at least twice\n",
    "                             stop_words='english', \n",
    "                             lowercase=True, #convert everything to lower case (since Alice in Wonderland has the HABIT of CAPITALIZING WORDS for EMPHASIS)\n",
    "                             use_idf=True,#we definitely want to use inverse document frequencies in our weighting\n",
    "                             norm=u'l2', #Applies a correction factor so that longer paragraphs and shorter paragraphs get treated equally\n",
    "                             smooth_idf=True #Adds 1 to all document frequencies, as if an extra document existed that used every word once.  Prevents divide-by-zero errors\n",
    "                            )\n",
    "\n",
    "\n",
    "#Applying the vectorizer\n",
    "vect_shakespeare_sents=vectorizer.fit_transform(shakespeare_sents)\n",
    "print(\"Number of features: %d\" % vect_shakespeare_sents.get_shape()[1])"
   ]
  },
  {
   "cell_type": "code",
   "execution_count": 135,
   "metadata": {},
   "outputs": [],
   "source": [
    "vect_shakespeare_sents_csr = vect_shakespeare_sents.tocsr()\n",
    "\n",
    "n = vect_shakespeare_sents_csr.shape[0]\n",
    "\n",
    "tfidf_bypara = [{} for _ in range(0,n)]\n",
    "\n",
    "terms = vectorizer.get_feature_names()\n",
    "\n",
    "for i, j in zip(*vect_shakespeare_sents_csr.nonzero()):\n",
    "    tfidf_bypara[i][terms[j]] = vect_shakespeare_sents_csr[i, j]"
   ]
  },
  {
   "cell_type": "code",
   "execution_count": 136,
   "metadata": {},
   "outputs": [
    {
     "data": {
      "text/html": [
       "<div>\n",
       "<style scoped>\n",
       "    .dataframe tbody tr th:only-of-type {\n",
       "        vertical-align: middle;\n",
       "    }\n",
       "\n",
       "    .dataframe tbody tr th {\n",
       "        vertical-align: top;\n",
       "    }\n",
       "\n",
       "    .dataframe thead th {\n",
       "        text-align: right;\n",
       "    }\n",
       "</style>\n",
       "<table border=\"1\" class=\"dataframe\">\n",
       "  <thead>\n",
       "    <tr style=\"text-align: right;\">\n",
       "      <th></th>\n",
       "      <th>abhorred</th>\n",
       "      <th>abide</th>\n",
       "      <th>aboord</th>\n",
       "      <th>aboue</th>\n",
       "      <th>abroad</th>\n",
       "      <th>absence</th>\n",
       "      <th>absent</th>\n",
       "      <th>absolute</th>\n",
       "      <th>absurd</th>\n",
       "      <th>abuse</th>\n",
       "      <th>...</th>\n",
       "      <th>yea</th>\n",
       "      <th>yeare</th>\n",
       "      <th>yeares</th>\n",
       "      <th>yeeld</th>\n",
       "      <th>yes</th>\n",
       "      <th>yesterday</th>\n",
       "      <th>yesty</th>\n",
       "      <th>yong</th>\n",
       "      <th>young</th>\n",
       "      <th>youth</th>\n",
       "    </tr>\n",
       "  </thead>\n",
       "  <tbody>\n",
       "    <tr>\n",
       "      <th>0</th>\n",
       "      <td>NaN</td>\n",
       "      <td>NaN</td>\n",
       "      <td>NaN</td>\n",
       "      <td>NaN</td>\n",
       "      <td>NaN</td>\n",
       "      <td>NaN</td>\n",
       "      <td>NaN</td>\n",
       "      <td>NaN</td>\n",
       "      <td>NaN</td>\n",
       "      <td>NaN</td>\n",
       "      <td>...</td>\n",
       "      <td>NaN</td>\n",
       "      <td>NaN</td>\n",
       "      <td>NaN</td>\n",
       "      <td>NaN</td>\n",
       "      <td>NaN</td>\n",
       "      <td>NaN</td>\n",
       "      <td>NaN</td>\n",
       "      <td>NaN</td>\n",
       "      <td>NaN</td>\n",
       "      <td>NaN</td>\n",
       "    </tr>\n",
       "    <tr>\n",
       "      <th>1</th>\n",
       "      <td>NaN</td>\n",
       "      <td>NaN</td>\n",
       "      <td>NaN</td>\n",
       "      <td>NaN</td>\n",
       "      <td>NaN</td>\n",
       "      <td>NaN</td>\n",
       "      <td>NaN</td>\n",
       "      <td>NaN</td>\n",
       "      <td>NaN</td>\n",
       "      <td>NaN</td>\n",
       "      <td>...</td>\n",
       "      <td>NaN</td>\n",
       "      <td>NaN</td>\n",
       "      <td>NaN</td>\n",
       "      <td>NaN</td>\n",
       "      <td>NaN</td>\n",
       "      <td>NaN</td>\n",
       "      <td>NaN</td>\n",
       "      <td>NaN</td>\n",
       "      <td>NaN</td>\n",
       "      <td>NaN</td>\n",
       "    </tr>\n",
       "    <tr>\n",
       "      <th>2</th>\n",
       "      <td>NaN</td>\n",
       "      <td>NaN</td>\n",
       "      <td>NaN</td>\n",
       "      <td>NaN</td>\n",
       "      <td>NaN</td>\n",
       "      <td>NaN</td>\n",
       "      <td>NaN</td>\n",
       "      <td>NaN</td>\n",
       "      <td>NaN</td>\n",
       "      <td>NaN</td>\n",
       "      <td>...</td>\n",
       "      <td>NaN</td>\n",
       "      <td>NaN</td>\n",
       "      <td>NaN</td>\n",
       "      <td>NaN</td>\n",
       "      <td>NaN</td>\n",
       "      <td>NaN</td>\n",
       "      <td>NaN</td>\n",
       "      <td>NaN</td>\n",
       "      <td>NaN</td>\n",
       "      <td>NaN</td>\n",
       "    </tr>\n",
       "    <tr>\n",
       "      <th>3</th>\n",
       "      <td>NaN</td>\n",
       "      <td>NaN</td>\n",
       "      <td>NaN</td>\n",
       "      <td>NaN</td>\n",
       "      <td>NaN</td>\n",
       "      <td>NaN</td>\n",
       "      <td>NaN</td>\n",
       "      <td>NaN</td>\n",
       "      <td>NaN</td>\n",
       "      <td>NaN</td>\n",
       "      <td>...</td>\n",
       "      <td>NaN</td>\n",
       "      <td>NaN</td>\n",
       "      <td>NaN</td>\n",
       "      <td>NaN</td>\n",
       "      <td>NaN</td>\n",
       "      <td>NaN</td>\n",
       "      <td>NaN</td>\n",
       "      <td>NaN</td>\n",
       "      <td>NaN</td>\n",
       "      <td>NaN</td>\n",
       "    </tr>\n",
       "    <tr>\n",
       "      <th>4</th>\n",
       "      <td>NaN</td>\n",
       "      <td>NaN</td>\n",
       "      <td>NaN</td>\n",
       "      <td>NaN</td>\n",
       "      <td>NaN</td>\n",
       "      <td>NaN</td>\n",
       "      <td>NaN</td>\n",
       "      <td>NaN</td>\n",
       "      <td>NaN</td>\n",
       "      <td>NaN</td>\n",
       "      <td>...</td>\n",
       "      <td>NaN</td>\n",
       "      <td>NaN</td>\n",
       "      <td>NaN</td>\n",
       "      <td>NaN</td>\n",
       "      <td>NaN</td>\n",
       "      <td>NaN</td>\n",
       "      <td>NaN</td>\n",
       "      <td>NaN</td>\n",
       "      <td>NaN</td>\n",
       "      <td>NaN</td>\n",
       "    </tr>\n",
       "  </tbody>\n",
       "</table>\n",
       "<p>5 rows × 2499 columns</p>\n",
       "</div>"
      ],
      "text/plain": [
       "   abhorred  abide  aboord  aboue  abroad  absence  absent  absolute  absurd  \\\n",
       "0       NaN    NaN     NaN    NaN     NaN      NaN     NaN       NaN     NaN   \n",
       "1       NaN    NaN     NaN    NaN     NaN      NaN     NaN       NaN     NaN   \n",
       "2       NaN    NaN     NaN    NaN     NaN      NaN     NaN       NaN     NaN   \n",
       "3       NaN    NaN     NaN    NaN     NaN      NaN     NaN       NaN     NaN   \n",
       "4       NaN    NaN     NaN    NaN     NaN      NaN     NaN       NaN     NaN   \n",
       "\n",
       "   abuse  ...    yea  yeare  yeares  yeeld  yes  yesterday  yesty  yong  \\\n",
       "0    NaN  ...    NaN    NaN     NaN    NaN  NaN        NaN    NaN   NaN   \n",
       "1    NaN  ...    NaN    NaN     NaN    NaN  NaN        NaN    NaN   NaN   \n",
       "2    NaN  ...    NaN    NaN     NaN    NaN  NaN        NaN    NaN   NaN   \n",
       "3    NaN  ...    NaN    NaN     NaN    NaN  NaN        NaN    NaN   NaN   \n",
       "4    NaN  ...    NaN    NaN     NaN    NaN  NaN        NaN    NaN   NaN   \n",
       "\n",
       "   young  youth  \n",
       "0    NaN    NaN  \n",
       "1    NaN    NaN  \n",
       "2    NaN    NaN  \n",
       "3    NaN    NaN  \n",
       "4    NaN    NaN  \n",
       "\n",
       "[5 rows x 2499 columns]"
      ]
     },
     "execution_count": 136,
     "metadata": {},
     "output_type": "execute_result"
    }
   ],
   "source": [
    "word_vectors = pd.DataFrame(tfidf_bypara)\n",
    "\n",
    "word_vectors.head()"
   ]
  },
  {
   "cell_type": "code",
   "execution_count": 137,
   "metadata": {},
   "outputs": [
    {
     "data": {
      "text/plain": [
       "['[ The Tragedie of Hamlet by William Shakespeare 1599 ]',\n",
       " 'Actus Primus .',\n",
       " 'Scoena Prima .',\n",
       " 'Enter Barnardo and Francisco two Centinels .']"
      ]
     },
     "execution_count": 137,
     "metadata": {},
     "output_type": "execute_result"
    }
   ],
   "source": [
    "shakespeare_sents[0:4]"
   ]
  },
  {
   "cell_type": "code",
   "execution_count": 138,
   "metadata": {},
   "outputs": [
    {
     "data": {
      "text/html": [
       "<div>\n",
       "<style scoped>\n",
       "    .dataframe tbody tr th:only-of-type {\n",
       "        vertical-align: middle;\n",
       "    }\n",
       "\n",
       "    .dataframe tbody tr th {\n",
       "        vertical-align: top;\n",
       "    }\n",
       "\n",
       "    .dataframe thead th {\n",
       "        text-align: right;\n",
       "    }\n",
       "</style>\n",
       "<table border=\"1\" class=\"dataframe\">\n",
       "  <thead>\n",
       "    <tr style=\"text-align: right;\">\n",
       "      <th></th>\n",
       "      <th>abhorred</th>\n",
       "      <th>abide</th>\n",
       "      <th>aboord</th>\n",
       "      <th>aboue</th>\n",
       "      <th>abroad</th>\n",
       "      <th>absence</th>\n",
       "      <th>absent</th>\n",
       "      <th>absolute</th>\n",
       "      <th>absurd</th>\n",
       "      <th>abuse</th>\n",
       "      <th>...</th>\n",
       "      <th>yeare</th>\n",
       "      <th>yeares</th>\n",
       "      <th>yeeld</th>\n",
       "      <th>yes</th>\n",
       "      <th>yesterday</th>\n",
       "      <th>yesty</th>\n",
       "      <th>yong</th>\n",
       "      <th>young</th>\n",
       "      <th>youth</th>\n",
       "      <th>text_sentence</th>\n",
       "    </tr>\n",
       "  </thead>\n",
       "  <tbody>\n",
       "    <tr>\n",
       "      <th>0</th>\n",
       "      <td>NaN</td>\n",
       "      <td>NaN</td>\n",
       "      <td>NaN</td>\n",
       "      <td>NaN</td>\n",
       "      <td>NaN</td>\n",
       "      <td>NaN</td>\n",
       "      <td>NaN</td>\n",
       "      <td>NaN</td>\n",
       "      <td>NaN</td>\n",
       "      <td>NaN</td>\n",
       "      <td>...</td>\n",
       "      <td>NaN</td>\n",
       "      <td>NaN</td>\n",
       "      <td>NaN</td>\n",
       "      <td>NaN</td>\n",
       "      <td>NaN</td>\n",
       "      <td>NaN</td>\n",
       "      <td>NaN</td>\n",
       "      <td>NaN</td>\n",
       "      <td>NaN</td>\n",
       "      <td>[ The Tragedie of Hamlet by William Shakespear...</td>\n",
       "    </tr>\n",
       "    <tr>\n",
       "      <th>1</th>\n",
       "      <td>NaN</td>\n",
       "      <td>NaN</td>\n",
       "      <td>NaN</td>\n",
       "      <td>NaN</td>\n",
       "      <td>NaN</td>\n",
       "      <td>NaN</td>\n",
       "      <td>NaN</td>\n",
       "      <td>NaN</td>\n",
       "      <td>NaN</td>\n",
       "      <td>NaN</td>\n",
       "      <td>...</td>\n",
       "      <td>NaN</td>\n",
       "      <td>NaN</td>\n",
       "      <td>NaN</td>\n",
       "      <td>NaN</td>\n",
       "      <td>NaN</td>\n",
       "      <td>NaN</td>\n",
       "      <td>NaN</td>\n",
       "      <td>NaN</td>\n",
       "      <td>NaN</td>\n",
       "      <td>Actus Primus .</td>\n",
       "    </tr>\n",
       "    <tr>\n",
       "      <th>2</th>\n",
       "      <td>NaN</td>\n",
       "      <td>NaN</td>\n",
       "      <td>NaN</td>\n",
       "      <td>NaN</td>\n",
       "      <td>NaN</td>\n",
       "      <td>NaN</td>\n",
       "      <td>NaN</td>\n",
       "      <td>NaN</td>\n",
       "      <td>NaN</td>\n",
       "      <td>NaN</td>\n",
       "      <td>...</td>\n",
       "      <td>NaN</td>\n",
       "      <td>NaN</td>\n",
       "      <td>NaN</td>\n",
       "      <td>NaN</td>\n",
       "      <td>NaN</td>\n",
       "      <td>NaN</td>\n",
       "      <td>NaN</td>\n",
       "      <td>NaN</td>\n",
       "      <td>NaN</td>\n",
       "      <td>Scoena Prima .</td>\n",
       "    </tr>\n",
       "    <tr>\n",
       "      <th>3</th>\n",
       "      <td>NaN</td>\n",
       "      <td>NaN</td>\n",
       "      <td>NaN</td>\n",
       "      <td>NaN</td>\n",
       "      <td>NaN</td>\n",
       "      <td>NaN</td>\n",
       "      <td>NaN</td>\n",
       "      <td>NaN</td>\n",
       "      <td>NaN</td>\n",
       "      <td>NaN</td>\n",
       "      <td>...</td>\n",
       "      <td>NaN</td>\n",
       "      <td>NaN</td>\n",
       "      <td>NaN</td>\n",
       "      <td>NaN</td>\n",
       "      <td>NaN</td>\n",
       "      <td>NaN</td>\n",
       "      <td>NaN</td>\n",
       "      <td>NaN</td>\n",
       "      <td>NaN</td>\n",
       "      <td>Enter Barnardo and Francisco two Centinels .</td>\n",
       "    </tr>\n",
       "    <tr>\n",
       "      <th>4</th>\n",
       "      <td>NaN</td>\n",
       "      <td>NaN</td>\n",
       "      <td>NaN</td>\n",
       "      <td>NaN</td>\n",
       "      <td>NaN</td>\n",
       "      <td>NaN</td>\n",
       "      <td>NaN</td>\n",
       "      <td>NaN</td>\n",
       "      <td>NaN</td>\n",
       "      <td>NaN</td>\n",
       "      <td>...</td>\n",
       "      <td>NaN</td>\n",
       "      <td>NaN</td>\n",
       "      <td>NaN</td>\n",
       "      <td>NaN</td>\n",
       "      <td>NaN</td>\n",
       "      <td>NaN</td>\n",
       "      <td>NaN</td>\n",
       "      <td>NaN</td>\n",
       "      <td>NaN</td>\n",
       "      <td>Barnardo .</td>\n",
       "    </tr>\n",
       "  </tbody>\n",
       "</table>\n",
       "<p>5 rows × 2500 columns</p>\n",
       "</div>"
      ],
      "text/plain": [
       "   abhorred  abide  aboord  aboue  abroad  absence  absent  absolute  absurd  \\\n",
       "0       NaN    NaN     NaN    NaN     NaN      NaN     NaN       NaN     NaN   \n",
       "1       NaN    NaN     NaN    NaN     NaN      NaN     NaN       NaN     NaN   \n",
       "2       NaN    NaN     NaN    NaN     NaN      NaN     NaN       NaN     NaN   \n",
       "3       NaN    NaN     NaN    NaN     NaN      NaN     NaN       NaN     NaN   \n",
       "4       NaN    NaN     NaN    NaN     NaN      NaN     NaN       NaN     NaN   \n",
       "\n",
       "   abuse                        ...                          yeare  yeares  \\\n",
       "0    NaN                        ...                            NaN     NaN   \n",
       "1    NaN                        ...                            NaN     NaN   \n",
       "2    NaN                        ...                            NaN     NaN   \n",
       "3    NaN                        ...                            NaN     NaN   \n",
       "4    NaN                        ...                            NaN     NaN   \n",
       "\n",
       "   yeeld  yes  yesterday  yesty  yong  young  youth  \\\n",
       "0    NaN  NaN        NaN    NaN   NaN    NaN    NaN   \n",
       "1    NaN  NaN        NaN    NaN   NaN    NaN    NaN   \n",
       "2    NaN  NaN        NaN    NaN   NaN    NaN    NaN   \n",
       "3    NaN  NaN        NaN    NaN   NaN    NaN    NaN   \n",
       "4    NaN  NaN        NaN    NaN   NaN    NaN    NaN   \n",
       "\n",
       "                                       text_sentence  \n",
       "0  [ The Tragedie of Hamlet by William Shakespear...  \n",
       "1                                     Actus Primus .  \n",
       "2                                     Scoena Prima .  \n",
       "3       Enter Barnardo and Francisco two Centinels .  \n",
       "4                                         Barnardo .  \n",
       "\n",
       "[5 rows x 2500 columns]"
      ]
     },
     "execution_count": 138,
     "metadata": {},
     "output_type": "execute_result"
    }
   ],
   "source": [
    "word_vectors[\"text_sentence\"] = shakespeare_sents\n",
    "\n",
    "word_vectors.head()"
   ]
  },
  {
   "cell_type": "code",
   "execution_count": 139,
   "metadata": {},
   "outputs": [
    {
     "data": {
      "text/plain": [
       "(5013, 2500)"
      ]
     },
     "execution_count": 139,
     "metadata": {},
     "output_type": "execute_result"
    }
   ],
   "source": [
    "word_vectors.shape"
   ]
  },
  {
   "cell_type": "code",
   "execution_count": 140,
   "metadata": {},
   "outputs": [
    {
     "name": "stdout",
     "output_type": "stream",
     "text": [
      "5013\n"
     ]
    }
   ],
   "source": [
    "text_source = []\n",
    "for i in range(0,3106):\n",
    "    text_source.append(\"Hamlet\")\n",
    "for i in range(0,1907):\n",
    "    text_source.append(\"Macbeth\")\n",
    "    \n",
    "print(len(text_source))"
   ]
  },
  {
   "cell_type": "code",
   "execution_count": 141,
   "metadata": {},
   "outputs": [],
   "source": [
    "word_vectors[\"text_source\"] = text_source"
   ]
  },
  {
   "cell_type": "code",
   "execution_count": 142,
   "metadata": {},
   "outputs": [
    {
     "data": {
      "text/html": [
       "<div>\n",
       "<style scoped>\n",
       "    .dataframe tbody tr th:only-of-type {\n",
       "        vertical-align: middle;\n",
       "    }\n",
       "\n",
       "    .dataframe tbody tr th {\n",
       "        vertical-align: top;\n",
       "    }\n",
       "\n",
       "    .dataframe thead th {\n",
       "        text-align: right;\n",
       "    }\n",
       "</style>\n",
       "<table border=\"1\" class=\"dataframe\">\n",
       "  <thead>\n",
       "    <tr style=\"text-align: right;\">\n",
       "      <th></th>\n",
       "      <th>abhorred</th>\n",
       "      <th>abide</th>\n",
       "      <th>aboord</th>\n",
       "      <th>aboue</th>\n",
       "      <th>abroad</th>\n",
       "      <th>absence</th>\n",
       "      <th>absent</th>\n",
       "      <th>absolute</th>\n",
       "      <th>absurd</th>\n",
       "      <th>abuse</th>\n",
       "      <th>...</th>\n",
       "      <th>yeares</th>\n",
       "      <th>yeeld</th>\n",
       "      <th>yes</th>\n",
       "      <th>yesterday</th>\n",
       "      <th>yesty</th>\n",
       "      <th>yong</th>\n",
       "      <th>young</th>\n",
       "      <th>youth</th>\n",
       "      <th>text_sentence</th>\n",
       "      <th>text_source</th>\n",
       "    </tr>\n",
       "  </thead>\n",
       "  <tbody>\n",
       "    <tr>\n",
       "      <th>0</th>\n",
       "      <td>NaN</td>\n",
       "      <td>NaN</td>\n",
       "      <td>NaN</td>\n",
       "      <td>NaN</td>\n",
       "      <td>NaN</td>\n",
       "      <td>NaN</td>\n",
       "      <td>NaN</td>\n",
       "      <td>NaN</td>\n",
       "      <td>NaN</td>\n",
       "      <td>NaN</td>\n",
       "      <td>...</td>\n",
       "      <td>NaN</td>\n",
       "      <td>NaN</td>\n",
       "      <td>NaN</td>\n",
       "      <td>NaN</td>\n",
       "      <td>NaN</td>\n",
       "      <td>NaN</td>\n",
       "      <td>NaN</td>\n",
       "      <td>NaN</td>\n",
       "      <td>[ The Tragedie of Hamlet by William Shakespear...</td>\n",
       "      <td>Hamlet</td>\n",
       "    </tr>\n",
       "    <tr>\n",
       "      <th>1</th>\n",
       "      <td>NaN</td>\n",
       "      <td>NaN</td>\n",
       "      <td>NaN</td>\n",
       "      <td>NaN</td>\n",
       "      <td>NaN</td>\n",
       "      <td>NaN</td>\n",
       "      <td>NaN</td>\n",
       "      <td>NaN</td>\n",
       "      <td>NaN</td>\n",
       "      <td>NaN</td>\n",
       "      <td>...</td>\n",
       "      <td>NaN</td>\n",
       "      <td>NaN</td>\n",
       "      <td>NaN</td>\n",
       "      <td>NaN</td>\n",
       "      <td>NaN</td>\n",
       "      <td>NaN</td>\n",
       "      <td>NaN</td>\n",
       "      <td>NaN</td>\n",
       "      <td>Actus Primus .</td>\n",
       "      <td>Hamlet</td>\n",
       "    </tr>\n",
       "    <tr>\n",
       "      <th>2</th>\n",
       "      <td>NaN</td>\n",
       "      <td>NaN</td>\n",
       "      <td>NaN</td>\n",
       "      <td>NaN</td>\n",
       "      <td>NaN</td>\n",
       "      <td>NaN</td>\n",
       "      <td>NaN</td>\n",
       "      <td>NaN</td>\n",
       "      <td>NaN</td>\n",
       "      <td>NaN</td>\n",
       "      <td>...</td>\n",
       "      <td>NaN</td>\n",
       "      <td>NaN</td>\n",
       "      <td>NaN</td>\n",
       "      <td>NaN</td>\n",
       "      <td>NaN</td>\n",
       "      <td>NaN</td>\n",
       "      <td>NaN</td>\n",
       "      <td>NaN</td>\n",
       "      <td>Scoena Prima .</td>\n",
       "      <td>Hamlet</td>\n",
       "    </tr>\n",
       "    <tr>\n",
       "      <th>3</th>\n",
       "      <td>NaN</td>\n",
       "      <td>NaN</td>\n",
       "      <td>NaN</td>\n",
       "      <td>NaN</td>\n",
       "      <td>NaN</td>\n",
       "      <td>NaN</td>\n",
       "      <td>NaN</td>\n",
       "      <td>NaN</td>\n",
       "      <td>NaN</td>\n",
       "      <td>NaN</td>\n",
       "      <td>...</td>\n",
       "      <td>NaN</td>\n",
       "      <td>NaN</td>\n",
       "      <td>NaN</td>\n",
       "      <td>NaN</td>\n",
       "      <td>NaN</td>\n",
       "      <td>NaN</td>\n",
       "      <td>NaN</td>\n",
       "      <td>NaN</td>\n",
       "      <td>Enter Barnardo and Francisco two Centinels .</td>\n",
       "      <td>Hamlet</td>\n",
       "    </tr>\n",
       "    <tr>\n",
       "      <th>4</th>\n",
       "      <td>NaN</td>\n",
       "      <td>NaN</td>\n",
       "      <td>NaN</td>\n",
       "      <td>NaN</td>\n",
       "      <td>NaN</td>\n",
       "      <td>NaN</td>\n",
       "      <td>NaN</td>\n",
       "      <td>NaN</td>\n",
       "      <td>NaN</td>\n",
       "      <td>NaN</td>\n",
       "      <td>...</td>\n",
       "      <td>NaN</td>\n",
       "      <td>NaN</td>\n",
       "      <td>NaN</td>\n",
       "      <td>NaN</td>\n",
       "      <td>NaN</td>\n",
       "      <td>NaN</td>\n",
       "      <td>NaN</td>\n",
       "      <td>NaN</td>\n",
       "      <td>Barnardo .</td>\n",
       "      <td>Hamlet</td>\n",
       "    </tr>\n",
       "  </tbody>\n",
       "</table>\n",
       "<p>5 rows × 2501 columns</p>\n",
       "</div>"
      ],
      "text/plain": [
       "   abhorred  abide  aboord  aboue  abroad  absence  absent  absolute  absurd  \\\n",
       "0       NaN    NaN     NaN    NaN     NaN      NaN     NaN       NaN     NaN   \n",
       "1       NaN    NaN     NaN    NaN     NaN      NaN     NaN       NaN     NaN   \n",
       "2       NaN    NaN     NaN    NaN     NaN      NaN     NaN       NaN     NaN   \n",
       "3       NaN    NaN     NaN    NaN     NaN      NaN     NaN       NaN     NaN   \n",
       "4       NaN    NaN     NaN    NaN     NaN      NaN     NaN       NaN     NaN   \n",
       "\n",
       "   abuse     ...       yeares  yeeld  yes  yesterday  yesty  yong  young  \\\n",
       "0    NaN     ...          NaN    NaN  NaN        NaN    NaN   NaN    NaN   \n",
       "1    NaN     ...          NaN    NaN  NaN        NaN    NaN   NaN    NaN   \n",
       "2    NaN     ...          NaN    NaN  NaN        NaN    NaN   NaN    NaN   \n",
       "3    NaN     ...          NaN    NaN  NaN        NaN    NaN   NaN    NaN   \n",
       "4    NaN     ...          NaN    NaN  NaN        NaN    NaN   NaN    NaN   \n",
       "\n",
       "   youth                                      text_sentence  text_source  \n",
       "0    NaN  [ The Tragedie of Hamlet by William Shakespear...       Hamlet  \n",
       "1    NaN                                     Actus Primus .       Hamlet  \n",
       "2    NaN                                     Scoena Prima .       Hamlet  \n",
       "3    NaN       Enter Barnardo and Francisco two Centinels .       Hamlet  \n",
       "4    NaN                                         Barnardo .       Hamlet  \n",
       "\n",
       "[5 rows x 2501 columns]"
      ]
     },
     "execution_count": 142,
     "metadata": {},
     "output_type": "execute_result"
    }
   ],
   "source": [
    "word_vectors.head()"
   ]
  },
  {
   "cell_type": "markdown",
   "metadata": {},
   "source": [
    "<h1><center>Fit Supervised Learning Models: Bag of Words Features</center></h1>"
   ]
  },
  {
   "cell_type": "code",
   "execution_count": 143,
   "metadata": {},
   "outputs": [
    {
     "name": "stderr",
     "output_type": "stream",
     "text": [
      "C:\\Users\\jesst\\AppData\\Local\\Continuum\\anaconda3\\lib\\site-packages\\sklearn\\ensemble\\weight_boosting.py:29: DeprecationWarning: numpy.core.umath_tests is an internal NumPy module and should not be imported. It will be removed in a future NumPy release.\n",
      "  from numpy.core.umath_tests import inner1d\n"
     ]
    }
   ],
   "source": [
    "from sklearn import ensemble\n",
    "from sklearn.model_selection import train_test_split\n",
    "\n",
    "rfc = ensemble.RandomForestClassifier(n_estimators=10, max_depth=6)\n",
    "Y = word_counts[\"text_source\"]\n",
    "X = np.array(word_counts.loc[:, ~word_counts.columns.isin([\"text_sentence\", \"text source\"])])\n",
    "\n"
   ]
  },
  {
   "cell_type": "code",
   "execution_count": 144,
   "metadata": {},
   "outputs": [
    {
     "data": {
      "text/plain": [
       "(600,)"
      ]
     },
     "execution_count": 144,
     "metadata": {},
     "output_type": "execute_result"
    }
   ],
   "source": [
    "Y.shape"
   ]
  },
  {
   "cell_type": "code",
   "execution_count": 145,
   "metadata": {},
   "outputs": [
    {
     "data": {
      "text/plain": [
       "(600, 3109)"
      ]
     },
     "execution_count": 145,
     "metadata": {},
     "output_type": "execute_result"
    }
   ],
   "source": [
    "X.shape"
   ]
  },
  {
   "cell_type": "code",
   "execution_count": 146,
   "metadata": {},
   "outputs": [],
   "source": [
    "X_train, X_test, y_train, y_test = train_test_split(X, Y, test_size=0.4, random_state=0)"
   ]
  },
  {
   "cell_type": "code",
   "execution_count": 147,
   "metadata": {},
   "outputs": [
    {
     "name": "stdout",
     "output_type": "stream",
     "text": [
      "Training set score: 0.6583333333333333\n",
      "\n",
      "Test set score: 0.6625\n"
     ]
    }
   ],
   "source": [
    "rfc = rfc.fit(X_train, y_train)\n",
    "\n",
    "print(\"Training set score:\", rfc.score(X_train, y_train))\n",
    "print(\"\\nTest set score:\", rfc.score(X_test, y_test))"
   ]
  },
  {
   "cell_type": "code",
   "execution_count": 148,
   "metadata": {},
   "outputs": [
    {
     "data": {
      "text/html": [
       "<div>\n",
       "<style scoped>\n",
       "    .dataframe tbody tr th:only-of-type {\n",
       "        vertical-align: middle;\n",
       "    }\n",
       "\n",
       "    .dataframe tbody tr th {\n",
       "        vertical-align: top;\n",
       "    }\n",
       "\n",
       "    .dataframe thead th {\n",
       "        text-align: right;\n",
       "    }\n",
       "</style>\n",
       "<table border=\"1\" class=\"dataframe\">\n",
       "  <thead>\n",
       "    <tr style=\"text-align: right;\">\n",
       "      <th>col_0</th>\n",
       "      <th>1</th>\n",
       "    </tr>\n",
       "    <tr>\n",
       "      <th>text_source</th>\n",
       "      <th></th>\n",
       "    </tr>\n",
       "  </thead>\n",
       "  <tbody>\n",
       "    <tr>\n",
       "      <th>0</th>\n",
       "      <td>81</td>\n",
       "    </tr>\n",
       "    <tr>\n",
       "      <th>1</th>\n",
       "      <td>159</td>\n",
       "    </tr>\n",
       "  </tbody>\n",
       "</table>\n",
       "</div>"
      ],
      "text/plain": [
       "col_0          1\n",
       "text_source     \n",
       "0             81\n",
       "1            159"
      ]
     },
     "execution_count": 148,
     "metadata": {},
     "output_type": "execute_result"
    }
   ],
   "source": [
    "rfc_predicted = rfc.predict(X_test)\n",
    "pd.crosstab(y_test, rfc_predicted)"
   ]
  },
  {
   "cell_type": "code",
   "execution_count": 149,
   "metadata": {},
   "outputs": [
    {
     "name": "stdout",
     "output_type": "stream",
     "text": [
      "Training set score: 0.65\n",
      "\n",
      "Test set score: 0.6625\n"
     ]
    }
   ],
   "source": [
    "from sklearn.linear_model import LogisticRegression\n",
    "\n",
    "lr = LogisticRegression(C=.008)\n",
    "lr = lr.fit(X_train, y_train)\n",
    "print(\"Training set score:\", lr.score(X_train, y_train))\n",
    "print(\"\\nTest set score:\", lr.score(X_test, y_test))"
   ]
  },
  {
   "cell_type": "code",
   "execution_count": 150,
   "metadata": {},
   "outputs": [
    {
     "data": {
      "text/html": [
       "<div>\n",
       "<style scoped>\n",
       "    .dataframe tbody tr th:only-of-type {\n",
       "        vertical-align: middle;\n",
       "    }\n",
       "\n",
       "    .dataframe tbody tr th {\n",
       "        vertical-align: top;\n",
       "    }\n",
       "\n",
       "    .dataframe thead th {\n",
       "        text-align: right;\n",
       "    }\n",
       "</style>\n",
       "<table border=\"1\" class=\"dataframe\">\n",
       "  <thead>\n",
       "    <tr style=\"text-align: right;\">\n",
       "      <th>col_0</th>\n",
       "      <th>1</th>\n",
       "    </tr>\n",
       "    <tr>\n",
       "      <th>text_source</th>\n",
       "      <th></th>\n",
       "    </tr>\n",
       "  </thead>\n",
       "  <tbody>\n",
       "    <tr>\n",
       "      <th>0</th>\n",
       "      <td>81</td>\n",
       "    </tr>\n",
       "    <tr>\n",
       "      <th>1</th>\n",
       "      <td>159</td>\n",
       "    </tr>\n",
       "  </tbody>\n",
       "</table>\n",
       "</div>"
      ],
      "text/plain": [
       "col_0          1\n",
       "text_source     \n",
       "0             81\n",
       "1            159"
      ]
     },
     "execution_count": 150,
     "metadata": {},
     "output_type": "execute_result"
    }
   ],
   "source": [
    "lr_predicted = lr.predict(X_test)\n",
    "pd.crosstab(y_test, lr_predicted)"
   ]
  },
  {
   "cell_type": "markdown",
   "metadata": {},
   "source": [
    "<h1><center>Fit Supervised Learning Models: TF-IDF Features</center></h1>"
   ]
  },
  {
   "cell_type": "code",
   "execution_count": 151,
   "metadata": {},
   "outputs": [],
   "source": [
    "to_num = {\"Hamlet\": 1, \"Macbeth\": 0}\n",
    "\n",
    "word_vectors[\"text_source\"] = word_vectors[\"text_source\"].map(to_num)"
   ]
  },
  {
   "cell_type": "code",
   "execution_count": 152,
   "metadata": {},
   "outputs": [],
   "source": [
    "word_vectors = word_vectors.fillna(0)"
   ]
  },
  {
   "cell_type": "code",
   "execution_count": 153,
   "metadata": {},
   "outputs": [],
   "source": [
    "\n",
    "rfc = ensemble.RandomForestClassifier(n_estimators=10, max_depth=6)\n",
    "Y = word_vectors[\"text_source\"]\n",
    "X = np.array(word_vectors.loc[:, ~word_vectors.columns.isin([\"text_sentence\", \"text_source\"])])\n",
    "\n"
   ]
  },
  {
   "cell_type": "code",
   "execution_count": 154,
   "metadata": {},
   "outputs": [
    {
     "data": {
      "text/plain": [
       "(5013,)"
      ]
     },
     "execution_count": 154,
     "metadata": {},
     "output_type": "execute_result"
    }
   ],
   "source": [
    "Y.shape"
   ]
  },
  {
   "cell_type": "code",
   "execution_count": 155,
   "metadata": {},
   "outputs": [
    {
     "data": {
      "text/plain": [
       "(5013, 2499)"
      ]
     },
     "execution_count": 155,
     "metadata": {},
     "output_type": "execute_result"
    }
   ],
   "source": [
    "X.shape"
   ]
  },
  {
   "cell_type": "code",
   "execution_count": 156,
   "metadata": {},
   "outputs": [],
   "source": [
    "X_train, X_test, y_train, y_test = train_test_split(X, Y, test_size=0.4, random_state=0)"
   ]
  },
  {
   "cell_type": "code",
   "execution_count": 157,
   "metadata": {},
   "outputs": [
    {
     "name": "stdout",
     "output_type": "stream",
     "text": [
      "Training set score: 0.6288659793814433\n",
      "\n",
      "Test set score: 0.6266201395812563\n"
     ]
    }
   ],
   "source": [
    "rfc_vect = rfc.fit(X_train, y_train)\n",
    "\n",
    "print(\"Training set score:\", rfc_vect.score(X_train, y_train))\n",
    "print(\"\\nTest set score:\", rfc_vect.score(X_test, y_test))"
   ]
  },
  {
   "cell_type": "code",
   "execution_count": 158,
   "metadata": {},
   "outputs": [
    {
     "data": {
      "text/html": [
       "<div>\n",
       "<style scoped>\n",
       "    .dataframe tbody tr th:only-of-type {\n",
       "        vertical-align: middle;\n",
       "    }\n",
       "\n",
       "    .dataframe tbody tr th {\n",
       "        vertical-align: top;\n",
       "    }\n",
       "\n",
       "    .dataframe thead th {\n",
       "        text-align: right;\n",
       "    }\n",
       "</style>\n",
       "<table border=\"1\" class=\"dataframe\">\n",
       "  <thead>\n",
       "    <tr style=\"text-align: right;\">\n",
       "      <th>col_0</th>\n",
       "      <th>0</th>\n",
       "      <th>1</th>\n",
       "    </tr>\n",
       "    <tr>\n",
       "      <th>text_source</th>\n",
       "      <th></th>\n",
       "      <th></th>\n",
       "    </tr>\n",
       "  </thead>\n",
       "  <tbody>\n",
       "    <tr>\n",
       "      <th>0</th>\n",
       "      <td>16</td>\n",
       "      <td>749</td>\n",
       "    </tr>\n",
       "    <tr>\n",
       "      <th>1</th>\n",
       "      <td>0</td>\n",
       "      <td>1241</td>\n",
       "    </tr>\n",
       "  </tbody>\n",
       "</table>\n",
       "</div>"
      ],
      "text/plain": [
       "col_0         0     1\n",
       "text_source          \n",
       "0            16   749\n",
       "1             0  1241"
      ]
     },
     "execution_count": 158,
     "metadata": {},
     "output_type": "execute_result"
    }
   ],
   "source": [
    "rfc__vect_predicted = rfc_vect.predict(X_test)\n",
    "pd.crosstab(y_test, rfc__vect_predicted)"
   ]
  },
  {
   "cell_type": "code",
   "execution_count": 159,
   "metadata": {},
   "outputs": [
    {
     "name": "stdout",
     "output_type": "stream",
     "text": [
      "Training set score: 0.6202194878616561\n",
      "\n",
      "Test set score: 0.6186440677966102\n"
     ]
    }
   ],
   "source": [
    "from sklearn.linear_model import LogisticRegression\n",
    "\n",
    "lr_vect = LogisticRegression(C=.008)\n",
    "lr_vect = lr.fit(X_train, y_train)\n",
    "print(\"Training set score:\", lr_vect.score(X_train, y_train))\n",
    "print(\"\\nTest set score:\", lr_vect.score(X_test, y_test))"
   ]
  },
  {
   "cell_type": "code",
   "execution_count": 160,
   "metadata": {},
   "outputs": [
    {
     "data": {
      "text/html": [
       "<div>\n",
       "<style scoped>\n",
       "    .dataframe tbody tr th:only-of-type {\n",
       "        vertical-align: middle;\n",
       "    }\n",
       "\n",
       "    .dataframe tbody tr th {\n",
       "        vertical-align: top;\n",
       "    }\n",
       "\n",
       "    .dataframe thead th {\n",
       "        text-align: right;\n",
       "    }\n",
       "</style>\n",
       "<table border=\"1\" class=\"dataframe\">\n",
       "  <thead>\n",
       "    <tr style=\"text-align: right;\">\n",
       "      <th>col_0</th>\n",
       "      <th>1</th>\n",
       "    </tr>\n",
       "    <tr>\n",
       "      <th>text_source</th>\n",
       "      <th></th>\n",
       "    </tr>\n",
       "  </thead>\n",
       "  <tbody>\n",
       "    <tr>\n",
       "      <th>0</th>\n",
       "      <td>765</td>\n",
       "    </tr>\n",
       "    <tr>\n",
       "      <th>1</th>\n",
       "      <td>1241</td>\n",
       "    </tr>\n",
       "  </tbody>\n",
       "</table>\n",
       "</div>"
      ],
      "text/plain": [
       "col_0           1\n",
       "text_source      \n",
       "0             765\n",
       "1            1241"
      ]
     },
     "execution_count": 160,
     "metadata": {},
     "output_type": "execute_result"
    }
   ],
   "source": [
    "lr_vect_predicted = lr_vect.predict(X_test)\n",
    "pd.crosstab(y_test, lr_vect_predicted)"
   ]
  },
  {
   "cell_type": "markdown",
   "metadata": {},
   "source": [
    "<h1><center>Increasing Accuracy of Logistic Regression on Bag of Words Features</center></h1>"
   ]
  },
  {
   "cell_type": "markdown",
   "metadata": {},
   "source": [
    "### Initial Results of Logistic Regression on Bag of Words Features"
   ]
  },
  {
   "cell_type": "code",
   "execution_count": 161,
   "metadata": {},
   "outputs": [],
   "source": [
    "Y = word_counts[\"text_source\"]\n",
    "X = np.array(word_counts.loc[:, ~word_counts.columns.isin([\"text_sentence\", \"text_source\"])])\n",
    "\n",
    "X_train, X_test, y_train, y_test = train_test_split(X, Y, test_size=0.4, random_state=0)\n"
   ]
  },
  {
   "cell_type": "code",
   "execution_count": 162,
   "metadata": {},
   "outputs": [
    {
     "name": "stdout",
     "output_type": "stream",
     "text": [
      "Training set score: 0.6361111111111111\n",
      "\n",
      "Test set score: 0.6625\n"
     ]
    }
   ],
   "source": [
    "from sklearn.linear_model import LogisticRegression\n",
    "\n",
    "lr = LogisticRegression(C=.008)\n",
    "lr = lr.fit(X_train, y_train)\n",
    "print(\"Training set score:\", lr.score(X_train, y_train))\n",
    "print(\"\\nTest set score:\", lr.score(X_test, y_test))"
   ]
  },
  {
   "cell_type": "code",
   "execution_count": 163,
   "metadata": {},
   "outputs": [
    {
     "data": {
      "text/html": [
       "<div>\n",
       "<style scoped>\n",
       "    .dataframe tbody tr th:only-of-type {\n",
       "        vertical-align: middle;\n",
       "    }\n",
       "\n",
       "    .dataframe tbody tr th {\n",
       "        vertical-align: top;\n",
       "    }\n",
       "\n",
       "    .dataframe thead th {\n",
       "        text-align: right;\n",
       "    }\n",
       "</style>\n",
       "<table border=\"1\" class=\"dataframe\">\n",
       "  <thead>\n",
       "    <tr style=\"text-align: right;\">\n",
       "      <th>col_0</th>\n",
       "      <th>1</th>\n",
       "    </tr>\n",
       "    <tr>\n",
       "      <th>text_source</th>\n",
       "      <th></th>\n",
       "    </tr>\n",
       "  </thead>\n",
       "  <tbody>\n",
       "    <tr>\n",
       "      <th>0</th>\n",
       "      <td>81</td>\n",
       "    </tr>\n",
       "    <tr>\n",
       "      <th>1</th>\n",
       "      <td>159</td>\n",
       "    </tr>\n",
       "  </tbody>\n",
       "</table>\n",
       "</div>"
      ],
      "text/plain": [
       "col_0          1\n",
       "text_source     \n",
       "0             81\n",
       "1            159"
      ]
     },
     "execution_count": 163,
     "metadata": {},
     "output_type": "execute_result"
    }
   ],
   "source": [
    "lr_predicted = lr.predict(X_test)\n",
    "pd.crosstab(y_test, lr_predicted)"
   ]
  },
  {
   "cell_type": "markdown",
   "metadata": {},
   "source": [
    "### Feature Engineering and Parameter Manipulation to Improve Accuracy of Results by 5%"
   ]
  },
  {
   "cell_type": "code",
   "execution_count": 164,
   "metadata": {},
   "outputs": [
    {
     "name": "stdout",
     "output_type": "stream",
     "text": [
      "The percentage of total variance in the dataset explained by each component from Sklearn PCA.\n",
      " [5.44124385e-02 2.30880844e-02 1.90107948e-02 1.69248777e-02\n",
      " 1.63646465e-02 1.41858974e-02 1.37037574e-02 1.30390193e-02\n",
      " 1.28704584e-02 1.25360499e-02 1.18044101e-02 1.14457379e-02\n",
      " 1.05086949e-02 1.01087483e-02 9.67356103e-03 9.32533814e-03\n",
      " 8.91363095e-03 8.84043328e-03 8.67907112e-03 8.48176997e-03\n",
      " 8.32547878e-03 8.06320531e-03 7.89336137e-03 7.67277860e-03\n",
      " 7.51450104e-03 7.29706919e-03 7.20237535e-03 7.13556726e-03\n",
      " 6.88412072e-03 6.75437807e-03 6.70836179e-03 6.62228984e-03\n",
      " 6.33158214e-03 6.23022370e-03 6.21482186e-03 6.10908065e-03\n",
      " 6.03519281e-03 5.98281610e-03 5.88053767e-03 5.82885903e-03\n",
      " 5.71817932e-03 5.59791962e-03 5.53637767e-03 5.46440338e-03\n",
      " 5.29754611e-03 5.20781075e-03 5.12424391e-03 5.05625351e-03\n",
      " 4.96153980e-03 4.85439139e-03 4.83507212e-03 4.80114244e-03\n",
      " 4.73090685e-03 4.66903122e-03 4.61491322e-03 4.55841362e-03\n",
      " 4.44026679e-03 4.40821906e-03 4.38983455e-03 4.21842090e-03\n",
      " 4.15712427e-03 4.11818529e-03 4.10270441e-03 3.98029611e-03\n",
      " 3.94446013e-03 3.92953492e-03 3.91912899e-03 3.85313217e-03\n",
      " 3.80406740e-03 3.76485081e-03 3.72855477e-03 3.68497831e-03\n",
      " 3.65795028e-03 3.60440839e-03 3.57690926e-03 3.54521254e-03\n",
      " 3.48136327e-03 3.44635054e-03 3.43876139e-03 3.40944193e-03\n",
      " 3.32691014e-03 3.30054329e-03 3.29524785e-03 3.23249050e-03\n",
      " 3.18153970e-03 3.16654572e-03 3.14565690e-03 3.09889672e-03\n",
      " 3.07211485e-03 3.00628800e-03 2.97078048e-03 2.94329641e-03\n",
      " 2.90206943e-03 2.88115221e-03 2.82802731e-03 2.82730550e-03\n",
      " 2.76534434e-03 2.74131600e-03 2.73797585e-03 2.70995008e-03\n",
      " 2.68756563e-03 2.66520197e-03 2.64812757e-03 2.62148372e-03\n",
      " 2.62028930e-03 2.57478402e-03 2.53128481e-03 2.51906715e-03\n",
      " 2.49060165e-03 2.47318903e-03 2.44251577e-03 2.42064152e-03\n",
      " 2.41103923e-03 2.37256064e-03 2.35993444e-03 2.33664370e-03\n",
      " 2.31708467e-03 2.30543444e-03 2.28559379e-03 2.26040183e-03\n",
      " 2.23605275e-03 2.21339413e-03 2.19690913e-03 2.18861394e-03\n",
      " 2.17016326e-03 2.15728847e-03 2.14264437e-03 2.13845242e-03\n",
      " 2.11436902e-03 2.10476280e-03 2.06066656e-03 2.04015446e-03\n",
      " 2.02693186e-03 2.01011158e-03 2.00630464e-03 1.99482493e-03\n",
      " 1.97913245e-03 1.96379140e-03 1.95050065e-03 1.93937199e-03\n",
      " 1.89907083e-03 1.88414186e-03 1.87379992e-03 1.86575669e-03\n",
      " 1.85883302e-03 1.84089206e-03 1.81408890e-03 1.81186246e-03\n",
      " 1.80146293e-03 1.79345418e-03 1.78305667e-03 1.75362867e-03\n",
      " 1.73738023e-03 1.71565900e-03 1.69490932e-03 1.68782171e-03\n",
      " 1.68032097e-03 1.67221565e-03 1.65969056e-03 1.64268897e-03\n",
      " 1.63783076e-03 1.61005219e-03 1.60165539e-03 1.60075631e-03\n",
      " 1.58836670e-03 1.57657635e-03 1.55444157e-03 1.54712393e-03\n",
      " 1.53891828e-03 1.52694377e-03 1.52097313e-03 1.51391893e-03\n",
      " 1.50485580e-03 1.47578434e-03 1.46565691e-03 1.45948648e-03\n",
      " 1.43581637e-03 1.43207746e-03 1.42726859e-03 1.40377412e-03\n",
      " 1.39703184e-03 1.38934676e-03 1.38388862e-03 1.37472446e-03\n",
      " 1.36347030e-03 1.35467641e-03 1.35103039e-03 1.33164405e-03\n",
      " 1.32615777e-03 1.32064427e-03 1.30478198e-03 1.30086476e-03\n",
      " 1.28958663e-03 1.26934344e-03 1.26611479e-03 1.25579518e-03\n",
      " 1.25011562e-03 1.24012989e-03 1.22758964e-03 1.22584431e-03\n",
      " 1.22218204e-03 1.21001595e-03 1.19705135e-03 1.18928038e-03\n",
      " 1.18402337e-03 1.17259293e-03 1.16322899e-03 1.16149345e-03\n",
      " 1.14684345e-03 1.13878825e-03 1.13601654e-03 1.12529592e-03\n",
      " 1.11732541e-03 1.10796898e-03 1.10195549e-03 1.09728478e-03\n",
      " 1.09276343e-03 1.09000967e-03 1.08215434e-03 1.07746264e-03\n",
      " 1.06715072e-03 1.06415093e-03 1.05128783e-03 1.04061472e-03\n",
      " 1.03509098e-03 1.02668229e-03 1.02274594e-03 1.01077185e-03\n",
      " 1.00273494e-03 9.96227180e-04 9.91203185e-04 9.82424011e-04\n",
      " 9.79815981e-04 9.73156869e-04 9.62292533e-04 9.54673856e-04\n",
      " 9.51238641e-04 9.48204007e-04 9.39448093e-04 9.32551073e-04\n",
      " 9.23477690e-04 9.19299007e-04 9.14291254e-04 9.05491745e-04\n",
      " 9.02378149e-04 8.89493554e-04 8.85806309e-04 8.75549764e-04\n",
      " 8.71979689e-04 8.67264886e-04 8.64457300e-04 8.58735688e-04\n",
      " 8.58283733e-04 8.52994660e-04 8.44158472e-04 8.37659230e-04\n",
      " 8.32576199e-04 8.27016127e-04 8.25738958e-04 8.15959280e-04\n",
      " 8.12592372e-04 8.00501279e-04 7.93608969e-04 7.89912648e-04\n",
      " 7.87404299e-04 7.82687402e-04 7.71982333e-04 7.63625439e-04\n",
      " 7.61636125e-04 7.55704925e-04 7.48900029e-04 7.42797060e-04\n",
      " 7.35678658e-04 7.32604098e-04 7.28590069e-04 7.19088851e-04\n",
      " 7.13869610e-04 7.11803944e-04 7.06325678e-04 7.02933615e-04\n",
      " 6.98057030e-04 6.97190365e-04 6.93234456e-04 6.85593367e-04\n",
      " 6.80768042e-04 6.79762140e-04 6.73129687e-04 6.69159785e-04\n",
      " 6.66031751e-04 6.53020492e-04 6.49316306e-04 6.47109522e-04\n",
      " 6.39736815e-04 6.34073975e-04 6.32823479e-04 6.29806527e-04\n",
      " 6.26240028e-04 6.24025340e-04 6.18536761e-04 6.13639634e-04\n",
      " 6.09570131e-04 6.03798422e-04 6.02768511e-04 6.00135931e-04\n",
      " 6.00135931e-04 6.00135931e-04 6.00135931e-04 6.00135931e-04\n",
      " 5.98241635e-04 5.95646072e-04 5.95016815e-04 5.92620244e-04\n",
      " 5.88092351e-04 5.84090109e-04 5.79915326e-04 5.75886369e-04\n",
      " 5.72634585e-04 5.70335129e-04 5.67648964e-04 5.62552036e-04\n",
      " 5.59809577e-04 5.54798951e-04 5.54107893e-04 5.51077669e-04\n",
      " 5.48156347e-04 5.45971578e-04 5.42269287e-04 5.39335977e-04\n",
      " 5.36371301e-04 5.32732732e-04 5.30080492e-04 5.22830948e-04\n",
      " 5.17591180e-04 5.13888544e-04 5.10768722e-04 5.03459335e-04\n",
      " 5.01743520e-04 4.95212980e-04 4.93427622e-04 4.88751591e-04\n",
      " 4.81671880e-04 4.78820501e-04 4.77699791e-04 4.74916824e-04\n",
      " 4.71400558e-04 4.67831128e-04 4.62128491e-04 4.61489086e-04\n",
      " 4.58870962e-04 4.57532535e-04 4.50579923e-04 4.48850830e-04\n",
      " 4.43470483e-04 4.38942822e-04 4.36348677e-04 4.35199850e-04\n",
      " 4.29429365e-04 4.25893413e-04 4.20963728e-04 4.15842265e-04\n",
      " 4.13064335e-04 4.10028761e-04 4.04997525e-04 4.01995077e-04\n",
      " 4.01310178e-04 3.92476689e-04 3.90506309e-04 3.85906748e-04\n",
      " 3.81581708e-04 3.79998938e-04 3.78532884e-04 3.77770611e-04\n",
      " 3.65140814e-04 3.64265053e-04 3.61528164e-04 3.57959615e-04\n",
      " 3.56964259e-04 3.50414224e-04 3.47439240e-04 3.44176487e-04\n",
      " 3.43599368e-04 3.40222618e-04 3.37080188e-04 3.33908601e-04\n",
      " 3.30768258e-04 3.24209830e-04 3.17163157e-04 3.16113687e-04\n",
      " 3.10545290e-04 3.09896868e-04 3.08819323e-04 3.03149118e-04\n",
      " 3.02207263e-04 3.00403769e-04 3.00067965e-04 3.00067965e-04\n",
      " 3.00067965e-04 3.00067965e-04 3.00067965e-04 3.00067965e-04\n",
      " 3.00067965e-04 3.00067965e-04 3.00067965e-04 3.00067965e-04\n",
      " 3.00067965e-04 3.00067965e-04 3.00067965e-04 3.00067965e-04\n",
      " 3.00067965e-04 3.00067965e-04 3.00067965e-04 3.00067965e-04\n",
      " 2.97773631e-04 2.95363477e-04 2.91472981e-04 2.90145186e-04\n",
      " 2.89129336e-04 2.84777388e-04 2.82616309e-04 2.79406340e-04\n",
      " 2.78354739e-04 2.75481243e-04 2.74323212e-04 2.69823741e-04\n",
      " 2.68241533e-04 2.67196451e-04 2.62676357e-04 2.57868156e-04\n",
      " 2.55509371e-04 2.52346484e-04 2.51836908e-04 2.46485638e-04\n",
      " 2.45729472e-04 2.42446333e-04 2.40836385e-04 2.38064326e-04\n",
      " 2.35168151e-04 2.31531307e-04 2.29428363e-04 2.26259235e-04\n",
      " 2.24524262e-04 2.21302742e-04 2.18123330e-04 2.15509981e-04\n",
      " 2.07056518e-04 2.05033338e-04 2.04036225e-04 1.96332031e-04\n",
      " 1.95587857e-04 1.90370376e-04 1.82287671e-04 1.80883167e-04\n",
      " 1.78852895e-04 1.75689398e-04 1.69575033e-04 1.65131652e-04\n",
      " 1.63503467e-04 1.58307909e-04 1.55861723e-04 1.52527307e-04\n",
      " 1.50696834e-04 1.46492360e-04 1.44290207e-04 1.40922922e-04\n",
      " 1.37859133e-04 1.35076624e-04 1.31460458e-04 1.28048970e-04\n",
      " 1.25317581e-04 1.22964534e-04 1.18159301e-04 1.16286197e-04\n",
      " 1.15211294e-04 1.12256570e-04 1.06841918e-04 1.04687006e-04\n",
      " 1.01561426e-04 1.00141768e-04 9.90859892e-05 9.42322675e-05]\n"
     ]
    }
   ],
   "source": [
    "from sklearn.decomposition import PCA \n",
    "\n",
    "Y = word_counts[\"text_source\"]\n",
    "X = word_counts.loc[:, ~word_counts.columns.isin([\"text_sentence\", \"text_source\"])]\n",
    "\n",
    "sklearn_pca = PCA(n_components=480)\n",
    "Y_sklearn = sklearn_pca.fit_transform(X)\n",
    "\n",
    "print(\n",
    "    'The percentage of total variance in the dataset explained by each',\n",
    "    'component from Sklearn PCA.\\n',\n",
    "    sklearn_pca.explained_variance_ratio_)"
   ]
  },
  {
   "cell_type": "code",
   "execution_count": 165,
   "metadata": {},
   "outputs": [
    {
     "data": {
      "text/plain": [
       "array([0.05441244, 0.07750052, 0.09651132, 0.1134362 , 0.12980084,\n",
       "       0.14398674, 0.1576905 , 0.17072952, 0.18359997, 0.19613602,\n",
       "       0.20794043, 0.21938617, 0.22989487, 0.24000362, 0.24967718,\n",
       "       0.25900251, 0.26791615, 0.27675658, 0.28543565, 0.29391742,\n",
       "       0.3022429 , 0.3103061 , 0.31819947, 0.32587224, 0.33338675,\n",
       "       0.34068381, 0.34788619, 0.35502176, 0.36190588, 0.36866026,\n",
       "       0.37536862, 0.38199091, 0.38832249, 0.39455271, 0.40076753,\n",
       "       0.40687662, 0.41291181, 0.41889462, 0.42477516, 0.43060402,\n",
       "       0.4363222 , 0.44192012, 0.4474565 , 0.4529209 , 0.45821845,\n",
       "       0.46342626, 0.4685505 , 0.47360676, 0.4785683 , 0.48342269,\n",
       "       0.48825776, 0.4930589 , 0.49778981, 0.50245884, 0.50707375,\n",
       "       0.51163217, 0.51607243, 0.52048065, 0.52487049, 0.52908891,\n",
       "       0.53324603, 0.53736422, 0.54146692, 0.54544722, 0.54939168,\n",
       "       0.55332121, 0.55724034, 0.56109347, 0.56489754, 0.56866239,\n",
       "       0.57239095, 0.57607593, 0.57973388, 0.58333828, 0.58691519,\n",
       "       0.59046041, 0.59394177, 0.59738812, 0.60082688, 0.60423632,\n",
       "       0.60756323, 0.61086378, 0.61415902, 0.61739151, 0.62057305,\n",
       "       0.6237396 , 0.62688526, 0.62998415, 0.63305627, 0.63606256,\n",
       "       0.63903334, 0.64197663, 0.6448787 , 0.64775985, 0.65058788,\n",
       "       0.65341519, 0.65618053, 0.65892185, 0.66165982, 0.66436977,\n",
       "       0.66705734, 0.66972254, 0.67237067, 0.67499215, 0.67761244,\n",
       "       0.68018723, 0.68271851, 0.68523758, 0.68772818, 0.69020137,\n",
       "       0.69264388, 0.69506453, 0.69747557, 0.69984813, 0.70220806,\n",
       "       0.7045447 , 0.70686179, 0.70916722, 0.71145282, 0.71371322,\n",
       "       0.71594927, 0.71816267, 0.72035957, 0.72254819, 0.72471835,\n",
       "       0.72687564, 0.72901828, 0.73115674, 0.73327111, 0.73537587,\n",
       "       0.73743654, 0.73947669, 0.74150362, 0.74351373, 0.74552004,\n",
       "       0.74751486, 0.749494  , 0.75145779, 0.75340829, 0.75534766,\n",
       "       0.75724673, 0.75913087, 0.76100467, 0.76287043, 0.76472926,\n",
       "       0.76657015, 0.76838424, 0.77019611, 0.77199757, 0.77379102,\n",
       "       0.77557408, 0.77732771, 0.77906509, 0.78078075, 0.78247566,\n",
       "       0.78416348, 0.7858438 , 0.78751601, 0.78917571, 0.79081839,\n",
       "       0.79245622, 0.79406628, 0.79566793, 0.79726869, 0.79885706,\n",
       "       0.80043363, 0.80198807, 0.8035352 , 0.80507412, 0.80660106,\n",
       "       0.80812203, 0.80963595, 0.81114081, 0.81261659, 0.81408225,\n",
       "       0.81554173, 0.81697755, 0.81840963, 0.8198369 , 0.82124067,\n",
       "       0.8226377 , 0.82402705, 0.82541094, 0.82678566, 0.82814913,\n",
       "       0.82950381, 0.83085484, 0.83218648, 0.83351264, 0.83483329,\n",
       "       0.83613807, 0.83743893, 0.83872852, 0.83999786, 0.84126398,\n",
       "       0.84251977, 0.84376989, 0.84501002, 0.84623761, 0.84746345,\n",
       "       0.84868563, 0.84989565, 0.8510927 , 0.85228198, 0.85346601,\n",
       "       0.8546386 , 0.85580183, 0.85696332, 0.85811016, 0.85924895,\n",
       "       0.86038497, 0.86151027, 0.86262759, 0.86373556, 0.86483752,\n",
       "       0.8659348 , 0.86702756, 0.86811757, 0.86919973, 0.87027719,\n",
       "       0.87134434, 0.87240849, 0.87345978, 0.87450039, 0.87553549,\n",
       "       0.87656217, 0.87758491, 0.87859569, 0.87959842, 0.88059465,\n",
       "       0.88158585, 0.88256827, 0.88354809, 0.88452125, 0.88548354,\n",
       "       0.88643821, 0.88738945, 0.88833766, 0.8892771 , 0.89020966,\n",
       "       0.89113313, 0.89205243, 0.89296672, 0.89387222, 0.89477459,\n",
       "       0.89566409, 0.89654989, 0.89742544, 0.89829742, 0.89916469,\n",
       "       0.90002914, 0.90088788, 0.90174616, 0.90259916, 0.90344332,\n",
       "       0.90428098, 0.90511355, 0.90594057, 0.90676631, 0.90758227,\n",
       "       0.90839486, 0.90919536, 0.90998897, 0.91077888, 0.91156629,\n",
       "       0.91234897, 0.91312096, 0.91388458, 0.91464622, 0.91540192,\n",
       "       0.91615082, 0.91689362, 0.9176293 , 0.9183619 , 0.91909049,\n",
       "       0.91980958, 0.92052345, 0.92123526, 0.92194158, 0.92264451,\n",
       "       0.92334257, 0.92403976, 0.924733  , 0.92541859, 0.92609936,\n",
       "       0.92677912, 0.92745225, 0.92812141, 0.92878744, 0.92944046,\n",
       "       0.93008978, 0.93073689, 0.93137662, 0.9320107 , 0.93264352,\n",
       "       0.93327333, 0.93389957, 0.93452359, 0.93514213, 0.93575577,\n",
       "       0.93636534, 0.93696914, 0.93757191, 0.93817204, 0.93877218,\n",
       "       0.93937232, 0.93997245, 0.94057259, 0.94117083, 0.94176647,\n",
       "       0.94236149, 0.94295411, 0.9435422 , 0.94412629, 0.94470621,\n",
       "       0.9452821 , 0.94585473, 0.94642507, 0.94699271, 0.94755527,\n",
       "       0.94811508, 0.94866988, 0.94922398, 0.94977506, 0.95032322,\n",
       "       0.95086919, 0.95141146, 0.95195079, 0.95248717, 0.9530199 ,\n",
       "       0.95354998, 0.95407281, 0.9545904 , 0.95510429, 0.95561506,\n",
       "       0.95611852, 0.95662026, 0.95711547, 0.9576089 , 0.95809765,\n",
       "       0.95857932, 0.95905815, 0.95953584, 0.96001076, 0.96048216,\n",
       "       0.96094999, 0.96141212, 0.96187361, 0.96233248, 0.96279001,\n",
       "       0.96324059, 0.96368945, 0.96413292, 0.96457186, 0.96500821,\n",
       "       0.96544341, 0.96587284, 0.96629873, 0.96671969, 0.96713554,\n",
       "       0.9675486 , 0.96795863, 0.96836363, 0.96876562, 0.96916693,\n",
       "       0.96955941, 0.96994991, 0.97033582, 0.9707174 , 0.9710974 ,\n",
       "       0.97147594, 0.97185371, 0.97221885, 0.97258311, 0.97294464,\n",
       "       0.9733026 , 0.97365956, 0.97400998, 0.97435742, 0.97470159,\n",
       "       0.97504519, 0.97538542, 0.9757225 , 0.9760564 , 0.97638717,\n",
       "       0.97671138, 0.97702855, 0.97734466, 0.9776552 , 0.9779651 ,\n",
       "       0.97827392, 0.97857707, 0.97887928, 0.97917968, 0.97947975,\n",
       "       0.97977982, 0.98007988, 0.98037995, 0.98068002, 0.98098009,\n",
       "       0.98128016, 0.98158022, 0.98188029, 0.98218036, 0.98248043,\n",
       "       0.9827805 , 0.98308056, 0.98338063, 0.9836807 , 0.98398077,\n",
       "       0.98428084, 0.9845809 , 0.98487868, 0.98517404, 0.98546551,\n",
       "       0.98575566, 0.98604479, 0.98632957, 0.98661218, 0.98689159,\n",
       "       0.98716994, 0.98744542, 0.98771975, 0.98798957, 0.98825781,\n",
       "       0.98852501, 0.98878769, 0.98904555, 0.98930106, 0.98955341,\n",
       "       0.98980525, 0.99005173, 0.99029746, 0.99053991, 0.99078074,\n",
       "       0.99101881, 0.99125398, 0.99148551, 0.99171494, 0.9919412 ,\n",
       "       0.99216572, 0.99238702, 0.99260515, 0.99282066, 0.99302771,\n",
       "       0.99323275, 0.99343678, 0.99363311, 0.9938287 , 0.99401907,\n",
       "       0.99420136, 0.99438224, 0.9945611 , 0.99473679, 0.99490636,\n",
       "       0.99507149, 0.995235  , 0.9953933 , 0.99554917, 0.99570169,\n",
       "       0.99585239, 0.99599888, 0.99614317, 0.9962841 , 0.99642195,\n",
       "       0.99655703, 0.99668849, 0.99681654, 0.99694186, 0.99706482,\n",
       "       0.99718298, 0.99729927, 0.99741448, 0.99752674, 0.99763358,\n",
       "       0.99773827, 0.99783983, 0.99793997, 0.99803905, 0.99813329])"
      ]
     },
     "execution_count": 165,
     "metadata": {},
     "output_type": "execute_result"
    }
   ],
   "source": [
    "sklearn_pca.explained_variance_ratio_.cumsum()"
   ]
  },
  {
   "cell_type": "code",
   "execution_count": 166,
   "metadata": {},
   "outputs": [],
   "source": [
    "X_with480_components = sklearn_pca.fit_transform(X)"
   ]
  },
  {
   "cell_type": "code",
   "execution_count": 167,
   "metadata": {},
   "outputs": [
    {
     "data": {
      "text/plain": [
       "(600, 480)"
      ]
     },
     "execution_count": 167,
     "metadata": {},
     "output_type": "execute_result"
    }
   ],
   "source": [
    "X_with480_components.shape"
   ]
  },
  {
   "cell_type": "code",
   "execution_count": 168,
   "metadata": {},
   "outputs": [
    {
     "name": "stdout",
     "output_type": "stream",
     "text": [
      "Training set score: 0.6361111111111111\n",
      "\n",
      "Test set score: 0.6625\n"
     ]
    }
   ],
   "source": [
    "Y = word_counts[\"text_source\"]\n",
    "X = np.array(X_with480_components)\n",
    "\n",
    "X_train, X_test, y_train, y_test = train_test_split(X, Y, test_size=0.4, random_state=0)\n",
    "\n",
    "lr = LogisticRegression(C=.008)\n",
    "lr = lr.fit(X_train, y_train)\n",
    "print(\"Training set score:\", lr.score(X_train, y_train))\n",
    "print(\"\\nTest set score:\", lr.score(X_test, y_test))"
   ]
  },
  {
   "cell_type": "code",
   "execution_count": 169,
   "metadata": {},
   "outputs": [
    {
     "data": {
      "text/plain": [
       "array([1, 1, 1, 1, 1, 1, 1, 1, 1, 1, 1, 1, 1, 1, 1, 1, 1, 1, 1, 1, 1, 1,\n",
       "       1, 1, 1, 1, 1, 1, 1, 1, 1, 1, 1, 1, 1, 1, 1, 1, 1, 1, 1, 1, 1, 1,\n",
       "       1, 1, 1, 1, 1, 1, 1, 1, 1, 1, 1, 1, 1, 1, 1, 1, 1, 1, 1, 1, 1, 1,\n",
       "       1, 1, 1, 1, 1, 1, 1, 1, 1, 1, 1, 1, 1, 1, 1, 1, 1, 1, 1, 1, 1, 1,\n",
       "       1, 1, 1, 1, 1, 1, 1, 1, 1, 1, 1, 1, 1, 1, 1, 1, 1, 1, 1, 1, 1, 1,\n",
       "       1, 1, 1, 1, 1, 1, 1, 1, 1, 1, 1, 1, 1, 1, 1, 1, 1, 1, 1, 1, 1, 1,\n",
       "       1, 1, 1, 1, 1, 1, 1, 1, 1, 1, 1, 1, 1, 1, 1, 1, 1, 1, 1, 1, 1, 1,\n",
       "       1, 1, 1, 1, 1, 1, 1, 1, 1, 1, 1, 1, 1, 1, 1, 1, 1, 1, 1, 1, 1, 1,\n",
       "       1, 1, 1, 1, 1, 1, 1, 1, 1, 1, 1, 1, 1, 1, 1, 1, 1, 1, 1, 1, 1, 1,\n",
       "       1, 1, 1, 1, 1, 1, 1, 1, 1, 1, 1, 1, 1, 1, 1, 1, 1, 1, 1, 1, 1, 1,\n",
       "       1, 1, 1, 1, 1, 1, 1, 1, 1, 1, 1, 1, 1, 1, 1, 1, 1, 1, 1, 1],\n",
       "      dtype=int64)"
      ]
     },
     "execution_count": 169,
     "metadata": {},
     "output_type": "execute_result"
    }
   ],
   "source": [
    "lr_predicted"
   ]
  },
  {
   "cell_type": "code",
   "execution_count": 170,
   "metadata": {},
   "outputs": [
    {
     "data": {
      "text/html": [
       "<div>\n",
       "<style scoped>\n",
       "    .dataframe tbody tr th:only-of-type {\n",
       "        vertical-align: middle;\n",
       "    }\n",
       "\n",
       "    .dataframe tbody tr th {\n",
       "        vertical-align: top;\n",
       "    }\n",
       "\n",
       "    .dataframe thead th {\n",
       "        text-align: right;\n",
       "    }\n",
       "</style>\n",
       "<table border=\"1\" class=\"dataframe\">\n",
       "  <thead>\n",
       "    <tr style=\"text-align: right;\">\n",
       "      <th>col_0</th>\n",
       "      <th>1</th>\n",
       "    </tr>\n",
       "    <tr>\n",
       "      <th>text_source</th>\n",
       "      <th></th>\n",
       "    </tr>\n",
       "  </thead>\n",
       "  <tbody>\n",
       "    <tr>\n",
       "      <th>0</th>\n",
       "      <td>81</td>\n",
       "    </tr>\n",
       "    <tr>\n",
       "      <th>1</th>\n",
       "      <td>159</td>\n",
       "    </tr>\n",
       "  </tbody>\n",
       "</table>\n",
       "</div>"
      ],
      "text/plain": [
       "col_0          1\n",
       "text_source     \n",
       "0             81\n",
       "1            159"
      ]
     },
     "execution_count": 170,
     "metadata": {},
     "output_type": "execute_result"
    }
   ],
   "source": [
    "lr_predicted = lr.predict(X_test)\n",
    "pd.crosstab(y_test, lr_predicted)"
   ]
  },
  {
   "cell_type": "code",
   "execution_count": 171,
   "metadata": {},
   "outputs": [],
   "source": [
    "word_counts_revised = word_counts"
   ]
  },
  {
   "cell_type": "code",
   "execution_count": 172,
   "metadata": {},
   "outputs": [
    {
     "data": {
      "text/html": [
       "<div>\n",
       "<style scoped>\n",
       "    .dataframe tbody tr th:only-of-type {\n",
       "        vertical-align: middle;\n",
       "    }\n",
       "\n",
       "    .dataframe tbody tr th {\n",
       "        vertical-align: top;\n",
       "    }\n",
       "\n",
       "    .dataframe thead th {\n",
       "        text-align: right;\n",
       "    }\n",
       "</style>\n",
       "<table border=\"1\" class=\"dataframe\">\n",
       "  <thead>\n",
       "    <tr style=\"text-align: right;\">\n",
       "      <th></th>\n",
       "      <th>howle</th>\n",
       "      <th>wassell</th>\n",
       "      <th>method</th>\n",
       "      <th>auspicious</th>\n",
       "      <th>adde</th>\n",
       "      <th>stop</th>\n",
       "      <th>vowe</th>\n",
       "      <th>tribute</th>\n",
       "      <th>bestil'd</th>\n",
       "      <th>banners</th>\n",
       "      <th>...</th>\n",
       "      <th>fitnesse</th>\n",
       "      <th>madnesse</th>\n",
       "      <th>malc</th>\n",
       "      <th>lesse</th>\n",
       "      <th>players</th>\n",
       "      <th>property</th>\n",
       "      <th>woe</th>\n",
       "      <th>lookes</th>\n",
       "      <th>text_sentence</th>\n",
       "      <th>text_source</th>\n",
       "    </tr>\n",
       "  </thead>\n",
       "  <tbody>\n",
       "    <tr>\n",
       "      <th>0</th>\n",
       "      <td>0</td>\n",
       "      <td>0</td>\n",
       "      <td>0</td>\n",
       "      <td>0</td>\n",
       "      <td>0</td>\n",
       "      <td>0</td>\n",
       "      <td>0</td>\n",
       "      <td>0</td>\n",
       "      <td>0</td>\n",
       "      <td>0</td>\n",
       "      <td>...</td>\n",
       "      <td>0</td>\n",
       "      <td>0</td>\n",
       "      <td>0</td>\n",
       "      <td>0</td>\n",
       "      <td>0</td>\n",
       "      <td>0</td>\n",
       "      <td>0</td>\n",
       "      <td>0</td>\n",
       "      <td>(Actus, Secundus, .)</td>\n",
       "      <td>0</td>\n",
       "    </tr>\n",
       "    <tr>\n",
       "      <th>1</th>\n",
       "      <td>0</td>\n",
       "      <td>0</td>\n",
       "      <td>0</td>\n",
       "      <td>0</td>\n",
       "      <td>0</td>\n",
       "      <td>0</td>\n",
       "      <td>0</td>\n",
       "      <td>0</td>\n",
       "      <td>0</td>\n",
       "      <td>0</td>\n",
       "      <td>...</td>\n",
       "      <td>0</td>\n",
       "      <td>0</td>\n",
       "      <td>0</td>\n",
       "      <td>0</td>\n",
       "      <td>0</td>\n",
       "      <td>0</td>\n",
       "      <td>0</td>\n",
       "      <td>0</td>\n",
       "      <td>(no, ,, as, you, may, season, it, in, the, cha...</td>\n",
       "      <td>1</td>\n",
       "    </tr>\n",
       "    <tr>\n",
       "      <th>2</th>\n",
       "      <td>0</td>\n",
       "      <td>0</td>\n",
       "      <td>0</td>\n",
       "      <td>0</td>\n",
       "      <td>0</td>\n",
       "      <td>0</td>\n",
       "      <td>0</td>\n",
       "      <td>0</td>\n",
       "      <td>0</td>\n",
       "      <td>0</td>\n",
       "      <td>...</td>\n",
       "      <td>0</td>\n",
       "      <td>0</td>\n",
       "      <td>0</td>\n",
       "      <td>0</td>\n",
       "      <td>0</td>\n",
       "      <td>0</td>\n",
       "      <td>0</td>\n",
       "      <td>0</td>\n",
       "      <td>(Finding, our, selues, too, slow, of, Saile, ,...</td>\n",
       "      <td>1</td>\n",
       "    </tr>\n",
       "    <tr>\n",
       "      <th>3</th>\n",
       "      <td>0</td>\n",
       "      <td>0</td>\n",
       "      <td>0</td>\n",
       "      <td>0</td>\n",
       "      <td>0</td>\n",
       "      <td>0</td>\n",
       "      <td>0</td>\n",
       "      <td>0</td>\n",
       "      <td>0</td>\n",
       "      <td>0</td>\n",
       "      <td>...</td>\n",
       "      <td>0</td>\n",
       "      <td>0</td>\n",
       "      <td>0</td>\n",
       "      <td>0</td>\n",
       "      <td>0</td>\n",
       "      <td>0</td>\n",
       "      <td>0</td>\n",
       "      <td>0</td>\n",
       "      <td>(but, I, requited, him, for, his, Lye, ,, and)</td>\n",
       "      <td>0</td>\n",
       "    </tr>\n",
       "    <tr>\n",
       "      <th>4</th>\n",
       "      <td>0</td>\n",
       "      <td>0</td>\n",
       "      <td>0</td>\n",
       "      <td>0</td>\n",
       "      <td>0</td>\n",
       "      <td>0</td>\n",
       "      <td>0</td>\n",
       "      <td>0</td>\n",
       "      <td>0</td>\n",
       "      <td>0</td>\n",
       "      <td>...</td>\n",
       "      <td>0</td>\n",
       "      <td>0</td>\n",
       "      <td>0</td>\n",
       "      <td>0</td>\n",
       "      <td>0</td>\n",
       "      <td>0</td>\n",
       "      <td>0</td>\n",
       "      <td>0</td>\n",
       "      <td>(Rosin, .)</td>\n",
       "      <td>1</td>\n",
       "    </tr>\n",
       "  </tbody>\n",
       "</table>\n",
       "<p>5 rows × 3110 columns</p>\n",
       "</div>"
      ],
      "text/plain": [
       "  howle wassell method auspicious adde stop vowe tribute bestil'd banners  \\\n",
       "0     0       0      0          0    0    0    0       0        0       0   \n",
       "1     0       0      0          0    0    0    0       0        0       0   \n",
       "2     0       0      0          0    0    0    0       0        0       0   \n",
       "3     0       0      0          0    0    0    0       0        0       0   \n",
       "4     0       0      0          0    0    0    0       0        0       0   \n",
       "\n",
       "      ...     fitnesse madnesse malc lesse players property woe lookes  \\\n",
       "0     ...            0        0    0     0       0        0   0      0   \n",
       "1     ...            0        0    0     0       0        0   0      0   \n",
       "2     ...            0        0    0     0       0        0   0      0   \n",
       "3     ...            0        0    0     0       0        0   0      0   \n",
       "4     ...            0        0    0     0       0        0   0      0   \n",
       "\n",
       "                                       text_sentence text_source  \n",
       "0                               (Actus, Secundus, .)           0  \n",
       "1  (no, ,, as, you, may, season, it, in, the, cha...           1  \n",
       "2  (Finding, our, selues, too, slow, of, Saile, ,...           1  \n",
       "3     (but, I, requited, him, for, his, Lye, ,, and)           0  \n",
       "4                                         (Rosin, .)           1  \n",
       "\n",
       "[5 rows x 3110 columns]"
      ]
     },
     "execution_count": 172,
     "metadata": {},
     "output_type": "execute_result"
    }
   ],
   "source": [
    "word_counts_revised.head()"
   ]
  },
  {
   "cell_type": "code",
   "execution_count": 174,
   "metadata": {},
   "outputs": [],
   "source": [
    "list_stop = []\n",
    "nlp = spacy.load(\"en\")\n",
    "for word in word_counts_revised.columns:\n",
    "    loaded_word = nlp(word)\n",
    "    if loaded_word[0].is_stop == True:\n",
    "        list_stop.append(word)"
   ]
  },
  {
   "cell_type": "code",
   "execution_count": 175,
   "metadata": {},
   "outputs": [
    {
     "data": {
      "text/plain": [
       "118"
      ]
     },
     "execution_count": 175,
     "metadata": {},
     "output_type": "execute_result"
    }
   ],
   "source": [
    "len(list_stop)"
   ]
  },
  {
   "cell_type": "code",
   "execution_count": 176,
   "metadata": {},
   "outputs": [],
   "source": [
    "word_counts_revised = word_counts_revised.drop(list_stop, axis=1)"
   ]
  },
  {
   "cell_type": "code",
   "execution_count": 177,
   "metadata": {},
   "outputs": [
    {
     "data": {
      "text/html": [
       "<div>\n",
       "<style scoped>\n",
       "    .dataframe tbody tr th:only-of-type {\n",
       "        vertical-align: middle;\n",
       "    }\n",
       "\n",
       "    .dataframe tbody tr th {\n",
       "        vertical-align: top;\n",
       "    }\n",
       "\n",
       "    .dataframe thead th {\n",
       "        text-align: right;\n",
       "    }\n",
       "</style>\n",
       "<table border=\"1\" class=\"dataframe\">\n",
       "  <thead>\n",
       "    <tr style=\"text-align: right;\">\n",
       "      <th></th>\n",
       "      <th>howle</th>\n",
       "      <th>wassell</th>\n",
       "      <th>method</th>\n",
       "      <th>auspicious</th>\n",
       "      <th>adde</th>\n",
       "      <th>stop</th>\n",
       "      <th>vowe</th>\n",
       "      <th>tribute</th>\n",
       "      <th>bestil'd</th>\n",
       "      <th>banners</th>\n",
       "      <th>...</th>\n",
       "      <th>fitnesse</th>\n",
       "      <th>madnesse</th>\n",
       "      <th>malc</th>\n",
       "      <th>lesse</th>\n",
       "      <th>players</th>\n",
       "      <th>property</th>\n",
       "      <th>woe</th>\n",
       "      <th>lookes</th>\n",
       "      <th>text_sentence</th>\n",
       "      <th>text_source</th>\n",
       "    </tr>\n",
       "  </thead>\n",
       "  <tbody>\n",
       "    <tr>\n",
       "      <th>0</th>\n",
       "      <td>0</td>\n",
       "      <td>0</td>\n",
       "      <td>0</td>\n",
       "      <td>0</td>\n",
       "      <td>0</td>\n",
       "      <td>0</td>\n",
       "      <td>0</td>\n",
       "      <td>0</td>\n",
       "      <td>0</td>\n",
       "      <td>0</td>\n",
       "      <td>...</td>\n",
       "      <td>0</td>\n",
       "      <td>0</td>\n",
       "      <td>0</td>\n",
       "      <td>0</td>\n",
       "      <td>0</td>\n",
       "      <td>0</td>\n",
       "      <td>0</td>\n",
       "      <td>0</td>\n",
       "      <td>(Actus, Secundus, .)</td>\n",
       "      <td>0</td>\n",
       "    </tr>\n",
       "    <tr>\n",
       "      <th>1</th>\n",
       "      <td>0</td>\n",
       "      <td>0</td>\n",
       "      <td>0</td>\n",
       "      <td>0</td>\n",
       "      <td>0</td>\n",
       "      <td>0</td>\n",
       "      <td>0</td>\n",
       "      <td>0</td>\n",
       "      <td>0</td>\n",
       "      <td>0</td>\n",
       "      <td>...</td>\n",
       "      <td>0</td>\n",
       "      <td>0</td>\n",
       "      <td>0</td>\n",
       "      <td>0</td>\n",
       "      <td>0</td>\n",
       "      <td>0</td>\n",
       "      <td>0</td>\n",
       "      <td>0</td>\n",
       "      <td>(no, ,, as, you, may, season, it, in, the, cha...</td>\n",
       "      <td>1</td>\n",
       "    </tr>\n",
       "    <tr>\n",
       "      <th>2</th>\n",
       "      <td>0</td>\n",
       "      <td>0</td>\n",
       "      <td>0</td>\n",
       "      <td>0</td>\n",
       "      <td>0</td>\n",
       "      <td>0</td>\n",
       "      <td>0</td>\n",
       "      <td>0</td>\n",
       "      <td>0</td>\n",
       "      <td>0</td>\n",
       "      <td>...</td>\n",
       "      <td>0</td>\n",
       "      <td>0</td>\n",
       "      <td>0</td>\n",
       "      <td>0</td>\n",
       "      <td>0</td>\n",
       "      <td>0</td>\n",
       "      <td>0</td>\n",
       "      <td>0</td>\n",
       "      <td>(Finding, our, selues, too, slow, of, Saile, ,...</td>\n",
       "      <td>1</td>\n",
       "    </tr>\n",
       "    <tr>\n",
       "      <th>3</th>\n",
       "      <td>0</td>\n",
       "      <td>0</td>\n",
       "      <td>0</td>\n",
       "      <td>0</td>\n",
       "      <td>0</td>\n",
       "      <td>0</td>\n",
       "      <td>0</td>\n",
       "      <td>0</td>\n",
       "      <td>0</td>\n",
       "      <td>0</td>\n",
       "      <td>...</td>\n",
       "      <td>0</td>\n",
       "      <td>0</td>\n",
       "      <td>0</td>\n",
       "      <td>0</td>\n",
       "      <td>0</td>\n",
       "      <td>0</td>\n",
       "      <td>0</td>\n",
       "      <td>0</td>\n",
       "      <td>(but, I, requited, him, for, his, Lye, ,, and)</td>\n",
       "      <td>0</td>\n",
       "    </tr>\n",
       "    <tr>\n",
       "      <th>4</th>\n",
       "      <td>0</td>\n",
       "      <td>0</td>\n",
       "      <td>0</td>\n",
       "      <td>0</td>\n",
       "      <td>0</td>\n",
       "      <td>0</td>\n",
       "      <td>0</td>\n",
       "      <td>0</td>\n",
       "      <td>0</td>\n",
       "      <td>0</td>\n",
       "      <td>...</td>\n",
       "      <td>0</td>\n",
       "      <td>0</td>\n",
       "      <td>0</td>\n",
       "      <td>0</td>\n",
       "      <td>0</td>\n",
       "      <td>0</td>\n",
       "      <td>0</td>\n",
       "      <td>0</td>\n",
       "      <td>(Rosin, .)</td>\n",
       "      <td>1</td>\n",
       "    </tr>\n",
       "  </tbody>\n",
       "</table>\n",
       "<p>5 rows × 2992 columns</p>\n",
       "</div>"
      ],
      "text/plain": [
       "  howle wassell method auspicious adde stop vowe tribute bestil'd banners  \\\n",
       "0     0       0      0          0    0    0    0       0        0       0   \n",
       "1     0       0      0          0    0    0    0       0        0       0   \n",
       "2     0       0      0          0    0    0    0       0        0       0   \n",
       "3     0       0      0          0    0    0    0       0        0       0   \n",
       "4     0       0      0          0    0    0    0       0        0       0   \n",
       "\n",
       "      ...     fitnesse madnesse malc lesse players property woe lookes  \\\n",
       "0     ...            0        0    0     0       0        0   0      0   \n",
       "1     ...            0        0    0     0       0        0   0      0   \n",
       "2     ...            0        0    0     0       0        0   0      0   \n",
       "3     ...            0        0    0     0       0        0   0      0   \n",
       "4     ...            0        0    0     0       0        0   0      0   \n",
       "\n",
       "                                       text_sentence text_source  \n",
       "0                               (Actus, Secundus, .)           0  \n",
       "1  (no, ,, as, you, may, season, it, in, the, cha...           1  \n",
       "2  (Finding, our, selues, too, slow, of, Saile, ,...           1  \n",
       "3     (but, I, requited, him, for, his, Lye, ,, and)           0  \n",
       "4                                         (Rosin, .)           1  \n",
       "\n",
       "[5 rows x 2992 columns]"
      ]
     },
     "execution_count": 177,
     "metadata": {},
     "output_type": "execute_result"
    }
   ],
   "source": [
    "word_counts_revised.head()"
   ]
  },
  {
   "cell_type": "code",
   "execution_count": 178,
   "metadata": {},
   "outputs": [],
   "source": [
    "words = []\n",
    "total = []\n",
    "\n",
    "for word in word_counts_revised.loc[:, ~word_counts_revised.columns.isin([\"text_sentence\", \"text_source\"])].columns:\n",
    "    words.append(word)\n",
    "    total.append(sum(word_counts[word]))\n",
    "    "
   ]
  },
  {
   "cell_type": "code",
   "execution_count": 179,
   "metadata": {},
   "outputs": [
    {
     "data": {
      "text/plain": [
       "2990"
      ]
     },
     "execution_count": 179,
     "metadata": {},
     "output_type": "execute_result"
    }
   ],
   "source": [
    "len(words)"
   ]
  },
  {
   "cell_type": "code",
   "execution_count": 180,
   "metadata": {},
   "outputs": [
    {
     "data": {
      "text/html": [
       "<div>\n",
       "<style scoped>\n",
       "    .dataframe tbody tr th:only-of-type {\n",
       "        vertical-align: middle;\n",
       "    }\n",
       "\n",
       "    .dataframe tbody tr th {\n",
       "        vertical-align: top;\n",
       "    }\n",
       "\n",
       "    .dataframe thead th {\n",
       "        text-align: right;\n",
       "    }\n",
       "</style>\n",
       "<table border=\"1\" class=\"dataframe\">\n",
       "  <thead>\n",
       "    <tr style=\"text-align: right;\">\n",
       "      <th></th>\n",
       "      <th>word</th>\n",
       "      <th>total</th>\n",
       "    </tr>\n",
       "  </thead>\n",
       "  <tbody>\n",
       "    <tr>\n",
       "      <th>0</th>\n",
       "      <td>howle</td>\n",
       "      <td>1</td>\n",
       "    </tr>\n",
       "    <tr>\n",
       "      <th>1</th>\n",
       "      <td>wassell</td>\n",
       "      <td>0</td>\n",
       "    </tr>\n",
       "    <tr>\n",
       "      <th>2</th>\n",
       "      <td>method</td>\n",
       "      <td>1</td>\n",
       "    </tr>\n",
       "    <tr>\n",
       "      <th>3</th>\n",
       "      <td>auspicious</td>\n",
       "      <td>0</td>\n",
       "    </tr>\n",
       "    <tr>\n",
       "      <th>4</th>\n",
       "      <td>adde</td>\n",
       "      <td>0</td>\n",
       "    </tr>\n",
       "  </tbody>\n",
       "</table>\n",
       "</div>"
      ],
      "text/plain": [
       "         word  total\n",
       "0       howle      1\n",
       "1     wassell      0\n",
       "2      method      1\n",
       "3  auspicious      0\n",
       "4        adde      0"
      ]
     },
     "execution_count": 180,
     "metadata": {},
     "output_type": "execute_result"
    }
   ],
   "source": [
    "total_word_counts_revised = pd.DataFrame()\n",
    "total_word_counts_revised[\"word\"] = words\n",
    "total_word_counts_revised[\"total\"] = total\n",
    "total_word_counts_revised.head()"
   ]
  },
  {
   "cell_type": "code",
   "execution_count": 181,
   "metadata": {},
   "outputs": [],
   "source": [
    "total_word_counts_revised = total_word_counts_revised[total_word_counts_revised[\"total\"] != 0]"
   ]
  },
  {
   "cell_type": "code",
   "execution_count": 182,
   "metadata": {},
   "outputs": [],
   "source": [
    "total_word_counts_revised = total_word_counts_revised.sort_values(\"total\", ascending=False)"
   ]
  },
  {
   "cell_type": "code",
   "execution_count": 183,
   "metadata": {},
   "outputs": [
    {
     "data": {
      "text/html": [
       "<div>\n",
       "<style scoped>\n",
       "    .dataframe tbody tr th:only-of-type {\n",
       "        vertical-align: middle;\n",
       "    }\n",
       "\n",
       "    .dataframe tbody tr th {\n",
       "        vertical-align: top;\n",
       "    }\n",
       "\n",
       "    .dataframe thead th {\n",
       "        text-align: right;\n",
       "    }\n",
       "</style>\n",
       "<table border=\"1\" class=\"dataframe\">\n",
       "  <thead>\n",
       "    <tr style=\"text-align: right;\">\n",
       "      <th></th>\n",
       "      <th>word</th>\n",
       "      <th>total</th>\n",
       "    </tr>\n",
       "  </thead>\n",
       "  <tbody>\n",
       "    <tr>\n",
       "      <th>590</th>\n",
       "      <td>-PRON-</td>\n",
       "      <td>168</td>\n",
       "    </tr>\n",
       "    <tr>\n",
       "      <th>2032</th>\n",
       "      <td>ham</td>\n",
       "      <td>51</td>\n",
       "    </tr>\n",
       "    <tr>\n",
       "      <th>1861</th>\n",
       "      <td>lord</td>\n",
       "      <td>37</td>\n",
       "    </tr>\n",
       "    <tr>\n",
       "      <th>1481</th>\n",
       "      <td>haue</td>\n",
       "      <td>36</td>\n",
       "    </tr>\n",
       "    <tr>\n",
       "      <th>1142</th>\n",
       "      <td>king</td>\n",
       "      <td>31</td>\n",
       "    </tr>\n",
       "  </tbody>\n",
       "</table>\n",
       "</div>"
      ],
      "text/plain": [
       "        word  total\n",
       "590   -PRON-    168\n",
       "2032     ham     51\n",
       "1861    lord     37\n",
       "1481    haue     36\n",
       "1142    king     31"
      ]
     },
     "execution_count": 183,
     "metadata": {},
     "output_type": "execute_result"
    }
   ],
   "source": [
    "total_word_counts_revised.head()"
   ]
  },
  {
   "cell_type": "code",
   "execution_count": 184,
   "metadata": {},
   "outputs": [
    {
     "data": {
      "text/plain": [
       "Text(0.5,0,'Word')"
      ]
     },
     "execution_count": 184,
     "metadata": {},
     "output_type": "execute_result"
    },
    {
     "data": {
      "image/png": "[encoded data removed]",
      "text/plain": [
       "<Figure size 720x720 with 1 Axes>"
      ]
     },
     "metadata": {},
     "output_type": "display_data"
    }
   ],
   "source": [
    "sns.set(style=\"whitegrid\")\n",
    "ax = sns.barplot(x=total_word_counts_revised[\"word\"][:50], y=total_word_counts_revised[\"total\"][:50], data=total_word_counts_revised)\n",
    "ax.set_xticklabels(total_word_counts_revised[\"word\"][:50], rotation=90)\n",
    "ax.set_title(\"Fifty Most Frequent Words - No Stop Words\", size=20)\n",
    "ax.set_ylabel(\"Count\", size=15)\n",
    "ax.set_xlabel(\"Word\", size=15)\n",
    "\n"
   ]
  },
  {
   "cell_type": "code",
   "execution_count": 185,
   "metadata": {},
   "outputs": [
    {
     "data": {
      "text/plain": [
       "Text(0.5,0,'Word')"
      ]
     },
     "execution_count": 185,
     "metadata": {},
     "output_type": "execute_result"
    },
    {
     "data": {
      "image/png": "[encoded data removed]",
      "text/plain": [
       "<Figure size 720x720 with 1 Axes>"
      ]
     },
     "metadata": {},
     "output_type": "display_data"
    }
   ],
   "source": [
    "sns.set(style=\"whitegrid\")\n",
    "ax = sns.barplot(x=total_word_counts_revised[\"word\"][1:50], y=total_word_counts_revised[\"total\"][1:50], data=total_word_counts_revised)\n",
    "ax.set_xticklabels(total_word_counts_revised[\"word\"][1:50], rotation=90)\n",
    "ax.set_title(\"Fifty Most Frequent Words - No Stop Words (No Pronouns)\", size=20)\n",
    "ax.set_ylabel(\"Count\", size=15)\n",
    "ax.set_xlabel(\"Word\", size=15)\n",
    "\n"
   ]
  },
  {
   "cell_type": "code",
   "execution_count": 186,
   "metadata": {},
   "outputs": [],
   "source": [
    "Y = word_counts_revised[\"text_source\"]\n",
    "X = np.array(word_counts_revised.loc[:, ~word_counts_revised.columns.isin([\"text_sentence\", \"text_source\"])])\n",
    "\n",
    "X_train, X_test, y_train, y_test = train_test_split(X, Y, test_size=0.4, random_state=0)\n"
   ]
  },
  {
   "cell_type": "code",
   "execution_count": 187,
   "metadata": {},
   "outputs": [
    {
     "name": "stdout",
     "output_type": "stream",
     "text": [
      "Training set score: 0.6361111111111111\n",
      "\n",
      "Test set score: 0.6625\n"
     ]
    }
   ],
   "source": [
    "from sklearn.linear_model import LogisticRegression\n",
    "\n",
    "lr = LogisticRegression(C=.008)\n",
    "lr = lr.fit(X_train, y_train)\n",
    "print(\"Training set score:\", lr.score(X_train, y_train))\n",
    "print(\"\\nTest set score:\", lr.score(X_test, y_test))"
   ]
  },
  {
   "cell_type": "code",
   "execution_count": 188,
   "metadata": {},
   "outputs": [
    {
     "data": {
      "text/html": [
       "<div>\n",
       "<style scoped>\n",
       "    .dataframe tbody tr th:only-of-type {\n",
       "        vertical-align: middle;\n",
       "    }\n",
       "\n",
       "    .dataframe tbody tr th {\n",
       "        vertical-align: top;\n",
       "    }\n",
       "\n",
       "    .dataframe thead th {\n",
       "        text-align: right;\n",
       "    }\n",
       "</style>\n",
       "<table border=\"1\" class=\"dataframe\">\n",
       "  <thead>\n",
       "    <tr style=\"text-align: right;\">\n",
       "      <th>col_0</th>\n",
       "      <th>1</th>\n",
       "    </tr>\n",
       "    <tr>\n",
       "      <th>text_source</th>\n",
       "      <th></th>\n",
       "    </tr>\n",
       "  </thead>\n",
       "  <tbody>\n",
       "    <tr>\n",
       "      <th>0</th>\n",
       "      <td>81</td>\n",
       "    </tr>\n",
       "    <tr>\n",
       "      <th>1</th>\n",
       "      <td>159</td>\n",
       "    </tr>\n",
       "  </tbody>\n",
       "</table>\n",
       "</div>"
      ],
      "text/plain": [
       "col_0          1\n",
       "text_source     \n",
       "0             81\n",
       "1            159"
      ]
     },
     "execution_count": 188,
     "metadata": {},
     "output_type": "execute_result"
    }
   ],
   "source": [
    "lr_predicted = lr.predict(X_test)\n",
    "pd.crosstab(y_test, lr_predicted)"
   ]
  },
  {
   "cell_type": "code",
   "execution_count": null,
   "metadata": {},
   "outputs": [],
   "source": []
  }
 ],
 "metadata": {
  "kernelspec": {
   "display_name": "Python 3",
   "language": "python",
   "name": "python3"
  },
  "language_info": {
   "codemirror_mode": {
    "name": "ipython",
    "version": 3
   },
   "file_extension": ".py",
   "mimetype": "text/x-python",
   "name": "python",
   "nbconvert_exporter": "python",
   "pygments_lexer": "ipython3",
   "version": "3.6.5"
  }
 },
 "nbformat": 4,
 "nbformat_minor": 2
}
