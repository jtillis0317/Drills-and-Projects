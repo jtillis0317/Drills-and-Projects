{
 "cells": [
  {
   "cell_type": "markdown",
   "metadata": {},
   "source": [
    "#Connecticut Department of Mental Health and Addiction Services: An Analytic Report and Research Proposal\n",
    "\n",
    "##Introduction\n",
    "This report provides information about the reported accidental drug-related deaths that took place in Connecticut between 2012 and 2017. \n",
    "\n",
    "After organizing and analyzing the data, I asked and answered three questions - the answers to which can help to determine the future scope of work for the Connecticut Department of Mental Health and Addiction Services (DMHAS). "
   ]
  },
  {
   "attachments": {},
   "cell_type": "markdown",
   "metadata": {},
   "source": [
    "##Background and Purpose\n",
    "\n",
    "The data for this report was taken from the Health and Human Services section of Connecticut Open Data on August 14, 2018. The dataset included the demographic (sex, race, state of residence) information of the over 4,000 people who died from an accidental drug-related death in Connecticut over the course of six years. In addition to this demographic information, the dataset included twelve different types of drugs and whether or not each drug contributed to an individual's death. \n",
    "\n",
    "The purpose of this report is to pull out trends that can ultimately help the Connecticut DMHAS make decisions about the timing and types of services that they provide to Connecticut residents in order to reduce the number of people who lose their lives to drugs. \n",
    "\n",
    "A few quick facts about the people included in this dataset:\n",
    "+ Race:\n",
    "    - White people made up 80.3% of those who died from accidental drug-related deaths.\n",
    "    - Hispanic people made up 10.7% of the dataset, and 8.1% of the people represented in the dataset are Black.\n",
    "+ Age:\n",
    "    - The average age was 42 - the youngest person died at 14 years of age and the oldest person died at 87.\n",
    "    - The age at which the most deaths occurred was 29."
   ]
  },
  {
   "cell_type": "code",
   "execution_count": 4,
   "metadata": {},
   "outputs": [
    {
     "data": {
      "image/png": "[encoded data removed]",
      "text/plain": [
       "<IPython.core.display.Image object>"
      ]
     },
     "execution_count": 4,
     "metadata": {},
     "output_type": "execute_result"
    }
   ],
   "source": [
    "from IPython.display import Image\n",
    "Image(filename='age scatter.png') "
   ]
  },
  {
   "cell_type": "markdown",
   "metadata": {},
   "source": [
    "##Analysis\n",
    "\n",
    "The topic of accidental drug-related deaths raises many questions. I chose to focus on three of them in this report:\n",
    "1. Which drug contributed to the highest percentage of deaths?\n",
    "2. Is there a correlation between the city of death and the type of drug involved in the death?\n",
    "3. How does the number of drug-related deaths change with the time of year? \n",
    "\n",
    "\n",
    "###Drug That Contributed to the Highest Percentage of Deaths\n",
    "\n",
    "In this dataset, twelve different drugs are mentioned by name: amphetamine, benzodiazepine, cocaine, ethanol (EtOH), fentanyl, heroin, hydrocodone, methadone, morphine, oxycodone, oxymorphone, and tramadol. \n",
    "\n",
    "####Findings\n",
    "\n",
    "As represented in the pie chart below, morphine contributed to over a quarter of the accidental drug-related deaths during this time. \n",
    "\n",
    "<insert pie chart here>\n",
    "    \n",
    "The top six most lethal drugs according to this dataset are heroin (26.1%), fentanyl (17.9%), cocaine (14.4%), benzodiazepine (13.1%), ethanol (12.0%), and oxycodone (6.6%). Over half of the accidental drug-related deaths between 2012-2017 were caused by either heroin, fentanyl, and cocaine.\n",
    "\n",
    "####Recommendations\n",
    "Given this information, the Connecticut DMHAS can direct resources toward the prevention and treatment of those three leading drugs.\n",
    "\n",
    "###Type of Drug Involved By City\n",
    "\n",
    "Given the conclusions from the first question, I dug further into the breakdown of drug type by geographic region.\n",
    "\n",
    "####Findings\n",
    "\n",
    "When looking at the number of deaths by city, there is great deal of variance in the datapoints. The average number of deaths per city was 19. Instead of focusing on every city in the dataset, I concentrated on the four cities with the highest number of reported deaths: Hartford, New Haven, Waterbury, and Bridgeport. I labeled these cities the \"Big Four Cities.\"\n",
    "\n",
    "<insert stacked bar chart here>\n",
    "    \n",
    "As seen in the bar for Hartford, nearly one-third of the drug-related deaths were caused by heroin - this is a higher percentage than in the other three cities represented. Another anomaly that can be seen in the above figure is that fentanyl makes up an uncharacteristic number of the deaths in Bridgeport as compared to fentanyl-caused deaths in the other three cities. \n",
    "\n",
    "####Recommendations\n",
    "Since Connecticut DMHAS provides services according to five different geographic regions, it is important to recognize where the Big Four Cities fall with regard to region. As it's currently set up, each region has exactly *one* of the Big Four Cities in its vicinity with the exception of Region 3 (which has none). Because the Big Four Cities are spread out across the regions, this setup allows for sufficient allocation of resources. Since Region 3 does not house any of the Big Four Cities, DMHAS could consider reducing resources there and increase the resources in the other four regions.\n",
    "\n",
    "###Correlation Between Time of Year and Number of Deaths\n",
    "\n",
    "Since mental health issues can sometimes rise and fall depending on the season or the weather, I looked into which times of the year had the highest number of deaths and which had the lowest. \n",
    "\n",
    "####Findings\n",
    "\n",
    "After analyzing the data and looking at each person's month of death, Connecticut saw the most accidental drug-related deaths toward the end of the calendar year. \n",
    "\n",
    "<insert bar graph here>\n",
    "\n",
    "The average number of deaths per month (as represented by the solid blue line in the above graph) was 340. \n",
    "\n",
    "November had the most recorded deaths with 388. This number is nearly two standard deviations above the mean. If one looks at the top quartile of months (October, November, and December), the average number of deaths per month was 378, which is 38 deaths higher than the average of the entire dataset. \n",
    "\n",
    "In the bottom quartile of months (April, August, and September), the average number of deaths per month was 316.\n",
    "\n",
    "####Recommendations\n",
    "\n",
    "Given that Connecticut DMHAS's funds and resources are finite, the organization can provide more staffing and resources for prevention and treatment during the heavier months while possibly reducing the use of resources during the lighter months. \n",
    "\n",
    "\n",
    "\n",
    "\n",
    "\n"
   ]
  },
  {
   "cell_type": "markdown",
   "metadata": {},
   "source": [
    "##Conclusion and Future Research\n",
    "\n",
    "The analysis of the data revealed three things: \n",
    "+ the most lethal drugs\n",
    "+ how the most lethal drugs break down by city\n",
    "+ times of the year that prove most deadly\n",
    "\n",
    "Further research could be done into whether or not - based on the racial demographic data of Connecticut - there is an overrepresentation of certain races in the dataset. On a more qualitative note, every death in this dataset is categorized as \"accidental.\" That said, it would be interesting to look back at how this data was gathered to determine what makes a drug-related death \"accidental\" versus \"intentional\" (suicide). "
   ]
  },
  {
   "cell_type": "code",
   "execution_count": null,
   "metadata": {},
   "outputs": [],
   "source": []
  }
 ],
 "metadata": {
  "kernelspec": {
   "display_name": "Python 3",
   "language": "python",
   "name": "python3"
  },
  "language_info": {
   "codemirror_mode": {
    "name": "ipython",
    "version": 3
   },
   "file_extension": ".py",
   "mimetype": "text/x-python",
   "name": "python",
   "nbconvert_exporter": "python",
   "pygments_lexer": "ipython3",
   "version": "3.6.5"
  }
 },
 "nbformat": 4,
 "nbformat_minor": 2
}
