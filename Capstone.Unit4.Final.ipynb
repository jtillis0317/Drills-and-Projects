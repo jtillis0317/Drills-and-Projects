{
 "cells": [
  {
   "cell_type": "markdown",
   "metadata": {},
   "source": [
    "# Connecticut Department of Mental Health and Addiction Services: An Analytic Report and Research Proposal\n",
    "\n",
    "## Introduction\n",
    "This report provides information about the reported accidental drug-related deaths that took place in Connecticut between 2012 and 2017. \n",
    "\n",
    "After organizing and analyzing the data, I asked and answered three questions - the answers to which can help to determine the future scope of work for the Connecticut Department of Mental Health and Addiction Services (DMHAS). "
   ]
  },
  {
   "cell_type": "code",
   "execution_count": 248,
   "metadata": {},
   "outputs": [],
   "source": [
    "import numpy as np\n",
    "import pandas as pd\n",
    "import matplotlib.pyplot as plt\n",
    "import matplotlib.ticker as ticker\n",
    "%matplotlib inline"
   ]
  },
  {
   "cell_type": "code",
   "execution_count": 249,
   "metadata": {},
   "outputs": [],
   "source": [
    "df = pd.read_csv(\"Accidental_Drug_Related_Deaths__2012-2017.csv\")"
   ]
  },
  {
   "cell_type": "code",
   "execution_count": 250,
   "metadata": {},
   "outputs": [
    {
     "data": {
      "text/html": [
       "<div>\n",
       "<style scoped>\n",
       "    .dataframe tbody tr th:only-of-type {\n",
       "        vertical-align: middle;\n",
       "    }\n",
       "\n",
       "    .dataframe tbody tr th {\n",
       "        vertical-align: top;\n",
       "    }\n",
       "\n",
       "    .dataframe thead th {\n",
       "        text-align: right;\n",
       "    }\n",
       "</style>\n",
       "<table border=\"1\" class=\"dataframe\">\n",
       "  <thead>\n",
       "    <tr style=\"text-align: right;\">\n",
       "      <th></th>\n",
       "      <th>CaseNumber</th>\n",
       "      <th>Date</th>\n",
       "      <th>Sex</th>\n",
       "      <th>Race</th>\n",
       "      <th>Age</th>\n",
       "      <th>Residence City</th>\n",
       "      <th>Residence State</th>\n",
       "      <th>Residence County</th>\n",
       "      <th>Death City</th>\n",
       "      <th>Death State</th>\n",
       "      <th>...</th>\n",
       "      <th>Benzodiazepine</th>\n",
       "      <th>Methadone</th>\n",
       "      <th>Amphet</th>\n",
       "      <th>Tramad</th>\n",
       "      <th>Morphine (not heroin)</th>\n",
       "      <th>Other</th>\n",
       "      <th>Any Opioid</th>\n",
       "      <th>MannerofDeath</th>\n",
       "      <th>AmendedMannerofDeath</th>\n",
       "      <th>DeathLoc</th>\n",
       "    </tr>\n",
       "  </thead>\n",
       "  <tbody>\n",
       "    <tr>\n",
       "      <th>0</th>\n",
       "      <td>14-9876</td>\n",
       "      <td>06/28/2014</td>\n",
       "      <td>NaN</td>\n",
       "      <td>NaN</td>\n",
       "      <td>NaN</td>\n",
       "      <td>NaN</td>\n",
       "      <td>NaN</td>\n",
       "      <td>NaN</td>\n",
       "      <td>NaN</td>\n",
       "      <td>NaN</td>\n",
       "      <td>...</td>\n",
       "      <td>Y</td>\n",
       "      <td>NaN</td>\n",
       "      <td>NaN</td>\n",
       "      <td>NaN</td>\n",
       "      <td>NaN</td>\n",
       "      <td>NaN</td>\n",
       "      <td>NaN</td>\n",
       "      <td>Accident</td>\n",
       "      <td>NaN</td>\n",
       "      <td>CT\\n(41.544654, -72.651713)</td>\n",
       "    </tr>\n",
       "    <tr>\n",
       "      <th>1</th>\n",
       "      <td>12-16897</td>\n",
       "      <td>11/30/2012</td>\n",
       "      <td>Male</td>\n",
       "      <td>White</td>\n",
       "      <td>45.0</td>\n",
       "      <td>NaN</td>\n",
       "      <td>NaN</td>\n",
       "      <td>NaN</td>\n",
       "      <td>NEW HAVEN</td>\n",
       "      <td>NaN</td>\n",
       "      <td>...</td>\n",
       "      <td>NaN</td>\n",
       "      <td>NaN</td>\n",
       "      <td>NaN</td>\n",
       "      <td>NaN</td>\n",
       "      <td>NaN</td>\n",
       "      <td>NaN</td>\n",
       "      <td>NaN</td>\n",
       "      <td>Accident</td>\n",
       "      <td>NaN</td>\n",
       "      <td>NEW HAVEN, CT\\n(41.308252, -72.924161)</td>\n",
       "    </tr>\n",
       "    <tr>\n",
       "      <th>2</th>\n",
       "      <td>13-11849</td>\n",
       "      <td>08/12/2013</td>\n",
       "      <td>Male</td>\n",
       "      <td>White</td>\n",
       "      <td>30.0</td>\n",
       "      <td>NEW HAVEN</td>\n",
       "      <td>NaN</td>\n",
       "      <td>NaN</td>\n",
       "      <td>NEW HAVEN</td>\n",
       "      <td>NaN</td>\n",
       "      <td>...</td>\n",
       "      <td>NaN</td>\n",
       "      <td>Y</td>\n",
       "      <td>NaN</td>\n",
       "      <td>NaN</td>\n",
       "      <td>NaN</td>\n",
       "      <td>NaN</td>\n",
       "      <td>NaN</td>\n",
       "      <td>Accident</td>\n",
       "      <td>NaN</td>\n",
       "      <td>NEW HAVEN, CT\\n(41.308252, -72.924161)</td>\n",
       "    </tr>\n",
       "    <tr>\n",
       "      <th>3</th>\n",
       "      <td>14-17578</td>\n",
       "      <td>11/23/2014</td>\n",
       "      <td>Male</td>\n",
       "      <td>White</td>\n",
       "      <td>27.0</td>\n",
       "      <td>NAUGATUCK</td>\n",
       "      <td>NaN</td>\n",
       "      <td>NaN</td>\n",
       "      <td>NEW MILFORD</td>\n",
       "      <td>NaN</td>\n",
       "      <td>...</td>\n",
       "      <td>NaN</td>\n",
       "      <td>NaN</td>\n",
       "      <td>NaN</td>\n",
       "      <td>NaN</td>\n",
       "      <td>NaN</td>\n",
       "      <td>NaN</td>\n",
       "      <td>NaN</td>\n",
       "      <td>Accident</td>\n",
       "      <td>NaN</td>\n",
       "      <td>NEW MILFORD, CT\\n(41.576633, -73.408713)</td>\n",
       "    </tr>\n",
       "    <tr>\n",
       "      <th>4</th>\n",
       "      <td>12-11497</td>\n",
       "      <td>08/14/2012</td>\n",
       "      <td>Male</td>\n",
       "      <td>White</td>\n",
       "      <td>21.0</td>\n",
       "      <td>ENFIELD</td>\n",
       "      <td>NaN</td>\n",
       "      <td>NaN</td>\n",
       "      <td>ENFIELD</td>\n",
       "      <td>NaN</td>\n",
       "      <td>...</td>\n",
       "      <td>NaN</td>\n",
       "      <td>NaN</td>\n",
       "      <td>NaN</td>\n",
       "      <td>NaN</td>\n",
       "      <td>NaN</td>\n",
       "      <td>NaN</td>\n",
       "      <td>NaN</td>\n",
       "      <td>Accident</td>\n",
       "      <td>NaN</td>\n",
       "      <td>ENFIELD, CT\\n(41.976501, -72.591985)</td>\n",
       "    </tr>\n",
       "  </tbody>\n",
       "</table>\n",
       "<p>5 rows × 32 columns</p>\n",
       "</div>"
      ],
      "text/plain": [
       "  CaseNumber        Date   Sex   Race   Age Residence City Residence State  \\\n",
       "0    14-9876  06/28/2014   NaN    NaN   NaN            NaN             NaN   \n",
       "1   12-16897  11/30/2012  Male  White  45.0            NaN             NaN   \n",
       "2   13-11849  08/12/2013  Male  White  30.0      NEW HAVEN             NaN   \n",
       "3   14-17578  11/23/2014  Male  White  27.0      NAUGATUCK             NaN   \n",
       "4   12-11497  08/14/2012  Male  White  21.0        ENFIELD             NaN   \n",
       "\n",
       "  Residence County   Death City Death State  \\\n",
       "0              NaN          NaN         NaN   \n",
       "1              NaN    NEW HAVEN         NaN   \n",
       "2              NaN    NEW HAVEN         NaN   \n",
       "3              NaN  NEW MILFORD         NaN   \n",
       "4              NaN      ENFIELD         NaN   \n",
       "\n",
       "                     ...                    Benzodiazepine Methadone Amphet  \\\n",
       "0                    ...                                 Y       NaN    NaN   \n",
       "1                    ...                               NaN       NaN    NaN   \n",
       "2                    ...                               NaN         Y    NaN   \n",
       "3                    ...                               NaN       NaN    NaN   \n",
       "4                    ...                               NaN       NaN    NaN   \n",
       "\n",
       "  Tramad Morphine (not heroin) Other Any Opioid MannerofDeath  \\\n",
       "0    NaN                   NaN   NaN        NaN      Accident   \n",
       "1    NaN                   NaN   NaN        NaN      Accident   \n",
       "2    NaN                   NaN   NaN        NaN      Accident   \n",
       "3    NaN                   NaN   NaN        NaN      Accident   \n",
       "4    NaN                   NaN   NaN        NaN      Accident   \n",
       "\n",
       "  AmendedMannerofDeath                                  DeathLoc  \n",
       "0                  NaN               CT\\n(41.544654, -72.651713)  \n",
       "1                  NaN    NEW HAVEN, CT\\n(41.308252, -72.924161)  \n",
       "2                  NaN    NEW HAVEN, CT\\n(41.308252, -72.924161)  \n",
       "3                  NaN  NEW MILFORD, CT\\n(41.576633, -73.408713)  \n",
       "4                  NaN      ENFIELD, CT\\n(41.976501, -72.591985)  \n",
       "\n",
       "[5 rows x 32 columns]"
      ]
     },
     "execution_count": 250,
     "metadata": {},
     "output_type": "execute_result"
    }
   ],
   "source": [
    "df.head(n=5)"
   ]
  },
  {
   "cell_type": "code",
   "execution_count": 251,
   "metadata": {},
   "outputs": [
    {
     "data": {
      "text/html": [
       "<div>\n",
       "<style scoped>\n",
       "    .dataframe tbody tr th:only-of-type {\n",
       "        vertical-align: middle;\n",
       "    }\n",
       "\n",
       "    .dataframe tbody tr th {\n",
       "        vertical-align: top;\n",
       "    }\n",
       "\n",
       "    .dataframe thead th {\n",
       "        text-align: right;\n",
       "    }\n",
       "</style>\n",
       "<table border=\"1\" class=\"dataframe\">\n",
       "  <thead>\n",
       "    <tr style=\"text-align: right;\">\n",
       "      <th></th>\n",
       "      <th>Age</th>\n",
       "    </tr>\n",
       "  </thead>\n",
       "  <tbody>\n",
       "    <tr>\n",
       "      <th>count</th>\n",
       "      <td>4080.000000</td>\n",
       "    </tr>\n",
       "    <tr>\n",
       "      <th>mean</th>\n",
       "      <td>41.755882</td>\n",
       "    </tr>\n",
       "    <tr>\n",
       "      <th>std</th>\n",
       "      <td>12.319208</td>\n",
       "    </tr>\n",
       "    <tr>\n",
       "      <th>min</th>\n",
       "      <td>14.000000</td>\n",
       "    </tr>\n",
       "    <tr>\n",
       "      <th>25%</th>\n",
       "      <td>31.000000</td>\n",
       "    </tr>\n",
       "    <tr>\n",
       "      <th>50%</th>\n",
       "      <td>42.000000</td>\n",
       "    </tr>\n",
       "    <tr>\n",
       "      <th>75%</th>\n",
       "      <td>52.000000</td>\n",
       "    </tr>\n",
       "    <tr>\n",
       "      <th>max</th>\n",
       "      <td>87.000000</td>\n",
       "    </tr>\n",
       "  </tbody>\n",
       "</table>\n",
       "</div>"
      ],
      "text/plain": [
       "               Age\n",
       "count  4080.000000\n",
       "mean     41.755882\n",
       "std      12.319208\n",
       "min      14.000000\n",
       "25%      31.000000\n",
       "50%      42.000000\n",
       "75%      52.000000\n",
       "max      87.000000"
      ]
     },
     "execution_count": 251,
     "metadata": {},
     "output_type": "execute_result"
    }
   ],
   "source": [
    "df.describe()  #only the \"Age\" column is described here because it's the only column with numerical data"
   ]
  },
  {
   "cell_type": "code",
   "execution_count": 252,
   "metadata": {},
   "outputs": [
    {
     "data": {
      "text/plain": [
       "0    29.0\n",
       "dtype: float64"
      ]
     },
     "execution_count": 252,
     "metadata": {},
     "output_type": "execute_result"
    }
   ],
   "source": [
    "df[\"Age\"].mode()"
   ]
  },
  {
   "cell_type": "code",
   "execution_count": 253,
   "metadata": {},
   "outputs": [],
   "source": [
    "agedf = df[\"Age\"].value_counts().reset_index()  #creating a count of the number of deaths that occurred at each age"
   ]
  },
  {
   "cell_type": "code",
   "execution_count": 254,
   "metadata": {},
   "outputs": [
    {
     "data": {
      "text/html": [
       "<div>\n",
       "<style scoped>\n",
       "    .dataframe tbody tr th:only-of-type {\n",
       "        vertical-align: middle;\n",
       "    }\n",
       "\n",
       "    .dataframe tbody tr th {\n",
       "        vertical-align: top;\n",
       "    }\n",
       "\n",
       "    .dataframe thead th {\n",
       "        text-align: right;\n",
       "    }\n",
       "</style>\n",
       "<table border=\"1\" class=\"dataframe\">\n",
       "  <thead>\n",
       "    <tr style=\"text-align: right;\">\n",
       "      <th></th>\n",
       "      <th>index</th>\n",
       "      <th>Age</th>\n",
       "    </tr>\n",
       "  </thead>\n",
       "  <tbody>\n",
       "    <tr>\n",
       "      <th>0</th>\n",
       "      <td>29.0</td>\n",
       "      <td>121</td>\n",
       "    </tr>\n",
       "    <tr>\n",
       "      <th>1</th>\n",
       "      <td>44.0</td>\n",
       "      <td>119</td>\n",
       "    </tr>\n",
       "    <tr>\n",
       "      <th>2</th>\n",
       "      <td>33.0</td>\n",
       "      <td>119</td>\n",
       "    </tr>\n",
       "    <tr>\n",
       "      <th>3</th>\n",
       "      <td>50.0</td>\n",
       "      <td>119</td>\n",
       "    </tr>\n",
       "    <tr>\n",
       "      <th>4</th>\n",
       "      <td>49.0</td>\n",
       "      <td>119</td>\n",
       "    </tr>\n",
       "  </tbody>\n",
       "</table>\n",
       "</div>"
      ],
      "text/plain": [
       "   index  Age\n",
       "0   29.0  121\n",
       "1   44.0  119\n",
       "2   33.0  119\n",
       "3   50.0  119\n",
       "4   49.0  119"
      ]
     },
     "execution_count": 254,
     "metadata": {},
     "output_type": "execute_result"
    }
   ],
   "source": [
    "agedf.head()"
   ]
  },
  {
   "cell_type": "markdown",
   "metadata": {},
   "source": [
    "## Background and Purpose\n",
    "\n",
    "The data for this report was taken from the Health and Human Services section of Connecticut Open Data on August 14, 2018. The dataset included the demographic (sex, race, state of residence) information of the over 4,000 people who died from an accidental drug-related death in Connecticut over the course of six years. In addition to this demographic information, the dataset included twelve different types of drugs and whether or not each drug contributed to an individual's death. \n",
    "\n",
    "The purpose of this report is to pull out trends that can ultimately help the Connecticut DMHAS make decisions about the timing and types of services that they provide to Connecticut residents in order to reduce the number of people who lose their lives to drugs. \n",
    "\n",
    "A few quick facts about the people included in this dataset:\n",
    "+ Sex:\n",
    "    - Males made up 74% of the dataset\n",
    "+ Race:\n",
    "    - White people made up 80.3% of those who died from accidental drug-related deaths.\n",
    "    - Hispanic people made up 10.7% of the dataset, and 8.1% of the people represented in the dataset are Black.\n",
    "+ Age:\n",
    "    - The average age was 42 - the youngest person died at 14 years of age and the oldest person died at 87.\n",
    "    - The age at which the most deaths occurred was 29."
   ]
  },
  {
   "cell_type": "code",
   "execution_count": 255,
   "metadata": {
    "scrolled": true
   },
   "outputs": [
    {
     "data": {
      "text/plain": [
       "<Figure size 720x360 with 0 Axes>"
      ]
     },
     "execution_count": 255,
     "metadata": {},
     "output_type": "execute_result"
    },
    {
     "data": {
      "image/png": "[encoded data removed]",
      "text/plain": [
       "<Figure size 432x288 with 1 Axes>"
      ]
     },
     "metadata": {},
     "output_type": "display_data"
    },
    {
     "data": {
      "text/plain": [
       "<Figure size 720x360 with 0 Axes>"
      ]
     },
     "metadata": {},
     "output_type": "display_data"
    }
   ],
   "source": [
    "#plotting a scatter plot of the number of deaths that happen at each age\n",
    "\n",
    "plt.scatter(x=agedf['index'], y=agedf['Age'])\n",
    "plt.ylabel(\"Number of Deaths\")\n",
    "plt.title(\"Distribution of Age of Death\", fontsize=13)\n",
    "plt.axvline(df[\"Age\"].mean(), color=\"green\", linewidth=2) #drawing a vertical line at the mean of the data\n",
    "plt.axvline(df[\"Age\"].mean() + df[\"Age\"].std(), color=\"green\", linestyle=\"dashed\", linewidth=2) #drawing a vertical line at one standard deviation\n",
    "plt.axvline(df[\"Age\"].mean() + df[\"Age\"].std(), color=\"green\", linestyle=\"dashed\", linewidth=2)\n",
    "plt.axvline(df[\"Age\"].mean() - df[\"Age\"].std(), color=\"green\", linestyle=\"dashed\", linewidth=2)\n",
    "plt.grid()\n",
    "plt.figure(figsize = (10,5))"
   ]
  },
  {
   "cell_type": "code",
   "execution_count": 297,
   "metadata": {},
   "outputs": [
    {
     "data": {
      "text/plain": [
       "White                     3244\n",
       "Hispanic, White            432\n",
       "Black                      329\n",
       "Hispanic, Black             17\n",
       "Unknown                     16\n",
       "Asian, Other                14\n",
       "Asian Indian                 9\n",
       "Other                        7\n",
       "Chinese                      2\n",
       "Native American, Other       1\n",
       "Hawaiian                     1\n",
       "Name: Race, dtype: int64"
      ]
     },
     "execution_count": 297,
     "metadata": {},
     "output_type": "execute_result"
    }
   ],
   "source": [
    "df[\"Race\"].value_counts()"
   ]
  },
  {
   "cell_type": "code",
   "execution_count": 298,
   "metadata": {
    "scrolled": true
   },
   "outputs": [
    {
     "data": {
      "text/plain": [
       "Male      2993\n",
       "Female    1086\n",
       "Name: Sex, dtype: int64"
      ]
     },
     "execution_count": 298,
     "metadata": {},
     "output_type": "execute_result"
    }
   ],
   "source": [
    "df[\"Sex\"].value_counts()"
   ]
  },
  {
   "cell_type": "markdown",
   "metadata": {},
   "source": [
    "##Analysis\n",
    "\n",
    "The topic of accidental drug-related deaths raises many questions. I chose to focus on three of them in this report:\n",
    "1. Which drug contributed to the highest percentage of deaths?\n",
    "2. Is there a correlation between the city of death and the type of drug involved in the death?\n",
    "3. How does the number of drug-related deaths change with the time of year? "
   ]
  },
  {
   "cell_type": "code",
   "execution_count": 299,
   "metadata": {},
   "outputs": [
    {
     "data": {
      "text/plain": [
       "Y    2127\n",
       "y      22\n",
       "        5\n",
       "Name: Heroin, dtype: int64"
      ]
     },
     "execution_count": 299,
     "metadata": {},
     "output_type": "execute_result"
    }
   ],
   "source": [
    "df[\"Heroin\"].value_counts()  #if someone's death was heroin-related, it's marked with a \"Y\" under the \"Heroin\" column"
   ]
  },
  {
   "cell_type": "code",
   "execution_count": 300,
   "metadata": {},
   "outputs": [
    {
     "data": {
      "text/html": [
       "<div>\n",
       "<style scoped>\n",
       "    .dataframe tbody tr th:only-of-type {\n",
       "        vertical-align: middle;\n",
       "    }\n",
       "\n",
       "    .dataframe tbody tr th {\n",
       "        vertical-align: top;\n",
       "    }\n",
       "\n",
       "    .dataframe thead tr th {\n",
       "        text-align: left;\n",
       "    }\n",
       "\n",
       "    .dataframe thead tr:last-of-type th {\n",
       "        text-align: right;\n",
       "    }\n",
       "</style>\n",
       "<table border=\"1\" class=\"dataframe\">\n",
       "  <thead>\n",
       "    <tr>\n",
       "      <th></th>\n",
       "      <th colspan=\"8\" halign=\"left\">Age</th>\n",
       "      <th colspan=\"8\" halign=\"left\">Month</th>\n",
       "    </tr>\n",
       "    <tr>\n",
       "      <th></th>\n",
       "      <th>count</th>\n",
       "      <th>mean</th>\n",
       "      <th>std</th>\n",
       "      <th>min</th>\n",
       "      <th>25%</th>\n",
       "      <th>50%</th>\n",
       "      <th>75%</th>\n",
       "      <th>max</th>\n",
       "      <th>count</th>\n",
       "      <th>mean</th>\n",
       "      <th>std</th>\n",
       "      <th>min</th>\n",
       "      <th>25%</th>\n",
       "      <th>50%</th>\n",
       "      <th>75%</th>\n",
       "      <th>max</th>\n",
       "    </tr>\n",
       "    <tr>\n",
       "      <th>Sex</th>\n",
       "      <th></th>\n",
       "      <th></th>\n",
       "      <th></th>\n",
       "      <th></th>\n",
       "      <th></th>\n",
       "      <th></th>\n",
       "      <th></th>\n",
       "      <th></th>\n",
       "      <th></th>\n",
       "      <th></th>\n",
       "      <th></th>\n",
       "      <th></th>\n",
       "      <th></th>\n",
       "      <th></th>\n",
       "      <th></th>\n",
       "      <th></th>\n",
       "    </tr>\n",
       "  </thead>\n",
       "  <tbody>\n",
       "    <tr>\n",
       "      <th>Female</th>\n",
       "      <td>1086.0</td>\n",
       "      <td>42.537753</td>\n",
       "      <td>12.535221</td>\n",
       "      <td>14.0</td>\n",
       "      <td>32.0</td>\n",
       "      <td>44.0</td>\n",
       "      <td>52.0</td>\n",
       "      <td>81.0</td>\n",
       "      <td>1086.0</td>\n",
       "      <td>6.711786</td>\n",
       "      <td>3.499413</td>\n",
       "      <td>1.0</td>\n",
       "      <td>4.0</td>\n",
       "      <td>7.0</td>\n",
       "      <td>10.0</td>\n",
       "      <td>12.0</td>\n",
       "    </tr>\n",
       "    <tr>\n",
       "      <th>Male</th>\n",
       "      <td>2992.0</td>\n",
       "      <td>41.468917</td>\n",
       "      <td>12.231539</td>\n",
       "      <td>16.0</td>\n",
       "      <td>31.0</td>\n",
       "      <td>41.0</td>\n",
       "      <td>51.0</td>\n",
       "      <td>87.0</td>\n",
       "      <td>2992.0</td>\n",
       "      <td>6.666444</td>\n",
       "      <td>3.477064</td>\n",
       "      <td>1.0</td>\n",
       "      <td>4.0</td>\n",
       "      <td>7.0</td>\n",
       "      <td>10.0</td>\n",
       "      <td>12.0</td>\n",
       "    </tr>\n",
       "  </tbody>\n",
       "</table>\n",
       "</div>"
      ],
      "text/plain": [
       "           Age                                                       Month  \\\n",
       "         count       mean        std   min   25%   50%   75%   max   count   \n",
       "Sex                                                                          \n",
       "Female  1086.0  42.537753  12.535221  14.0  32.0  44.0  52.0  81.0  1086.0   \n",
       "Male    2992.0  41.468917  12.231539  16.0  31.0  41.0  51.0  87.0  2992.0   \n",
       "\n",
       "                                                       \n",
       "            mean       std  min  25%  50%   75%   max  \n",
       "Sex                                                    \n",
       "Female  6.711786  3.499413  1.0  4.0  7.0  10.0  12.0  \n",
       "Male    6.666444  3.477064  1.0  4.0  7.0  10.0  12.0  "
      ]
     },
     "execution_count": 300,
     "metadata": {},
     "output_type": "execute_result"
    }
   ],
   "source": [
    "df.groupby(\"Sex\").describe()"
   ]
  },
  {
   "cell_type": "code",
   "execution_count": 301,
   "metadata": {},
   "outputs": [
    {
     "data": {
      "text/plain": [
       "Index(['Heroin', 'Cocaine', 'Fentanyl', 'Oxycodone', 'Oxymorphone', 'EtOH',\n",
       "       'Hydrocodone', 'Benzodiazepine', 'Methadone', 'Amphet', 'Tramad',\n",
       "       'Morphine (not heroin)'],\n",
       "      dtype='object')"
      ]
     },
     "execution_count": 301,
     "metadata": {},
     "output_type": "execute_result"
    }
   ],
   "source": [
    "df.columns[15:27] #these select columns are the 12 drugs explicitly named in the dataset"
   ]
  },
  {
   "cell_type": "code",
   "execution_count": 302,
   "metadata": {},
   "outputs": [],
   "source": [
    "drugs = df.iloc[:, 15:27]"
   ]
  },
  {
   "cell_type": "code",
   "execution_count": 303,
   "metadata": {},
   "outputs": [
    {
     "data": {
      "text/html": [
       "<div>\n",
       "<style scoped>\n",
       "    .dataframe tbody tr th:only-of-type {\n",
       "        vertical-align: middle;\n",
       "    }\n",
       "\n",
       "    .dataframe tbody tr th {\n",
       "        vertical-align: top;\n",
       "    }\n",
       "\n",
       "    .dataframe thead th {\n",
       "        text-align: right;\n",
       "    }\n",
       "</style>\n",
       "<table border=\"1\" class=\"dataframe\">\n",
       "  <thead>\n",
       "    <tr style=\"text-align: right;\">\n",
       "      <th></th>\n",
       "      <th>Heroin</th>\n",
       "      <th>Cocaine</th>\n",
       "      <th>Fentanyl</th>\n",
       "      <th>Oxycodone</th>\n",
       "      <th>Oxymorphone</th>\n",
       "      <th>EtOH</th>\n",
       "      <th>Hydrocodone</th>\n",
       "      <th>Benzodiazepine</th>\n",
       "      <th>Methadone</th>\n",
       "      <th>Amphet</th>\n",
       "      <th>Tramad</th>\n",
       "      <th>Morphine (not heroin)</th>\n",
       "    </tr>\n",
       "  </thead>\n",
       "  <tbody>\n",
       "    <tr>\n",
       "      <th>0</th>\n",
       "      <td>NaN</td>\n",
       "      <td>NaN</td>\n",
       "      <td>Y</td>\n",
       "      <td>NaN</td>\n",
       "      <td>NaN</td>\n",
       "      <td>NaN</td>\n",
       "      <td>Y</td>\n",
       "      <td>Y</td>\n",
       "      <td>NaN</td>\n",
       "      <td>NaN</td>\n",
       "      <td>NaN</td>\n",
       "      <td>NaN</td>\n",
       "    </tr>\n",
       "    <tr>\n",
       "      <th>1</th>\n",
       "      <td>NaN</td>\n",
       "      <td>NaN</td>\n",
       "      <td>Y</td>\n",
       "      <td>NaN</td>\n",
       "      <td>NaN</td>\n",
       "      <td>NaN</td>\n",
       "      <td>NaN</td>\n",
       "      <td>NaN</td>\n",
       "      <td>NaN</td>\n",
       "      <td>NaN</td>\n",
       "      <td>NaN</td>\n",
       "      <td>NaN</td>\n",
       "    </tr>\n",
       "    <tr>\n",
       "      <th>2</th>\n",
       "      <td>NaN</td>\n",
       "      <td>Y</td>\n",
       "      <td>NaN</td>\n",
       "      <td>NaN</td>\n",
       "      <td>NaN</td>\n",
       "      <td>NaN</td>\n",
       "      <td>NaN</td>\n",
       "      <td>NaN</td>\n",
       "      <td>Y</td>\n",
       "      <td>NaN</td>\n",
       "      <td>NaN</td>\n",
       "      <td>NaN</td>\n",
       "    </tr>\n",
       "    <tr>\n",
       "      <th>3</th>\n",
       "      <td>NaN</td>\n",
       "      <td>NaN</td>\n",
       "      <td>NaN</td>\n",
       "      <td>Y</td>\n",
       "      <td>Y</td>\n",
       "      <td>NaN</td>\n",
       "      <td>NaN</td>\n",
       "      <td>NaN</td>\n",
       "      <td>NaN</td>\n",
       "      <td>NaN</td>\n",
       "      <td>NaN</td>\n",
       "      <td>NaN</td>\n",
       "    </tr>\n",
       "    <tr>\n",
       "      <th>4</th>\n",
       "      <td>Y</td>\n",
       "      <td>NaN</td>\n",
       "      <td>NaN</td>\n",
       "      <td>NaN</td>\n",
       "      <td>NaN</td>\n",
       "      <td>NaN</td>\n",
       "      <td>NaN</td>\n",
       "      <td>NaN</td>\n",
       "      <td>NaN</td>\n",
       "      <td>NaN</td>\n",
       "      <td>NaN</td>\n",
       "      <td>NaN</td>\n",
       "    </tr>\n",
       "  </tbody>\n",
       "</table>\n",
       "</div>"
      ],
      "text/plain": [
       "  Heroin Cocaine Fentanyl Oxycodone Oxymorphone EtOH Hydrocodone  \\\n",
       "0    NaN     NaN        Y       NaN         NaN  NaN           Y   \n",
       "1    NaN     NaN        Y       NaN         NaN  NaN         NaN   \n",
       "2    NaN       Y      NaN       NaN         NaN  NaN         NaN   \n",
       "3    NaN     NaN      NaN         Y           Y  NaN         NaN   \n",
       "4      Y     NaN      NaN       NaN         NaN  NaN         NaN   \n",
       "\n",
       "  Benzodiazepine Methadone Amphet Tramad Morphine (not heroin)  \n",
       "0              Y       NaN    NaN    NaN                   NaN  \n",
       "1            NaN       NaN    NaN    NaN                   NaN  \n",
       "2            NaN         Y    NaN    NaN                   NaN  \n",
       "3            NaN       NaN    NaN    NaN                   NaN  \n",
       "4            NaN       NaN    NaN    NaN                   NaN  "
      ]
     },
     "execution_count": 303,
     "metadata": {},
     "output_type": "execute_result"
    }
   ],
   "source": [
    "drugs.head()"
   ]
  },
  {
   "cell_type": "code",
   "execution_count": 304,
   "metadata": {
    "scrolled": true
   },
   "outputs": [
    {
     "name": "stdout",
     "output_type": "stream",
     "text": [
      "{'Heroin': 2154, 'Cocaine': 1176, 'Fentanyl': 1467, 'Oxycodone': 547, 'Oxymorphone': 97, 'EtOH': 1005, 'Hydrocodone': 106, 'Benzodiazepine': 1078, 'Methadone': 388, 'Amphet': 103, 'Tramad': 90, 'Morphine (not heroin)': 56}\n"
     ]
    }
   ],
   "source": [
    "drug_counts = {}    #creating a dictionary of drug types and the number of deaths the drug caused\n",
    "\n",
    "for drug in drugs:\n",
    "    drug_counts[drug] = drugs[drug].value_counts().sum()\n",
    "      \n",
    "print(drug_counts)"
   ]
  },
  {
   "cell_type": "code",
   "execution_count": 305,
   "metadata": {},
   "outputs": [
    {
     "name": "stdout",
     "output_type": "stream",
     "text": [
      "452\n",
      "{'Heroin': 2154, 'Cocaine': 1176, 'Fentanyl': 1467, 'Oxycodone': 547, 'Oxymorphone': 97, 'EtOH': 1005, 'Hydrocodone': 106, 'Benzodiazepine': 1078, 'Methadone': 388, 'Amphet': 103, 'Tramad': 90, 'Morphine (not heroin)': 56, 'Other': 452}\n"
     ]
    }
   ],
   "source": [
    "Other_Count = []  #creating a list of the drugs that represent less than 110 of the deaths to assign them to the category of \"Other\"\n",
    "\n",
    "for value in drug_counts.values():\n",
    "    if value < 110:\n",
    "        Other_Count.append(value)\n",
    "\n",
    "drug_counts[\"Other\"] = sum(Other_Count)\n",
    "\n",
    "print(sum(Other_Count))\n",
    "print(drug_counts)\n"
   ]
  },
  {
   "cell_type": "code",
   "execution_count": 306,
   "metadata": {},
   "outputs": [
    {
     "data": {
      "text/plain": [
       "{'Heroin': 2154,\n",
       " 'Cocaine': 1176,\n",
       " 'Fentanyl': 1467,\n",
       " 'Oxycodone': 547,\n",
       " 'Oxymorphone': 97,\n",
       " 'EtOH': 1005,\n",
       " 'Hydrocodone': 106,\n",
       " 'Benzodiazepine': 1078,\n",
       " 'Methadone': 388,\n",
       " 'Amphet': 103,\n",
       " 'Tramad': 90,\n",
       " 'Morphine (not heroin)': 56,\n",
       " 'Other': 452}"
      ]
     },
     "execution_count": 306,
     "metadata": {},
     "output_type": "execute_result"
    }
   ],
   "source": [
    "drug_counts"
   ]
  },
  {
   "cell_type": "code",
   "execution_count": 307,
   "metadata": {},
   "outputs": [],
   "source": [
    "#drug_counts_G110 = {}  \n",
    "\n",
    "#for k,v in drug_counts.items():\n",
    " #   if v >= 110 :\n",
    "  #      drug_counts_G110[k] = drug_counts[k]"
   ]
  },
  {
   "cell_type": "code",
   "execution_count": 308,
   "metadata": {},
   "outputs": [],
   "source": [
    "#creating a dictionary of drugs that contributed to more than 110 deaths, including the \"Other\" category\n",
    "#a key-value pair is created if the value (number of deaths) is greater than 110\n",
    "drug_counts_G110 = {k:v for k,v in drug_counts.items() if v > 110}"
   ]
  },
  {
   "cell_type": "code",
   "execution_count": 309,
   "metadata": {},
   "outputs": [
    {
     "data": {
      "text/plain": [
       "{'Heroin': 2154,\n",
       " 'Cocaine': 1176,\n",
       " 'Fentanyl': 1467,\n",
       " 'Oxycodone': 547,\n",
       " 'EtOH': 1005,\n",
       " 'Benzodiazepine': 1078,\n",
       " 'Methadone': 388,\n",
       " 'Other': 452}"
      ]
     },
     "execution_count": 309,
     "metadata": {},
     "output_type": "execute_result"
    }
   ],
   "source": [
    "drug_counts_G110"
   ]
  },
  {
   "cell_type": "code",
   "execution_count": 310,
   "metadata": {},
   "outputs": [
    {
     "data": {
      "text/html": [
       "<div>\n",
       "<style scoped>\n",
       "    .dataframe tbody tr th:only-of-type {\n",
       "        vertical-align: middle;\n",
       "    }\n",
       "\n",
       "    .dataframe tbody tr th {\n",
       "        vertical-align: top;\n",
       "    }\n",
       "\n",
       "    .dataframe thead th {\n",
       "        text-align: right;\n",
       "    }\n",
       "</style>\n",
       "<table border=\"1\" class=\"dataframe\">\n",
       "  <thead>\n",
       "    <tr style=\"text-align: right;\">\n",
       "      <th></th>\n",
       "      <th>Drugs</th>\n",
       "      <th>Counts</th>\n",
       "    </tr>\n",
       "  </thead>\n",
       "  <tbody>\n",
       "    <tr>\n",
       "      <th>0</th>\n",
       "      <td>Heroin</td>\n",
       "      <td>2154</td>\n",
       "    </tr>\n",
       "    <tr>\n",
       "      <th>1</th>\n",
       "      <td>Cocaine</td>\n",
       "      <td>1176</td>\n",
       "    </tr>\n",
       "    <tr>\n",
       "      <th>2</th>\n",
       "      <td>Fentanyl</td>\n",
       "      <td>1467</td>\n",
       "    </tr>\n",
       "    <tr>\n",
       "      <th>3</th>\n",
       "      <td>Oxycodone</td>\n",
       "      <td>547</td>\n",
       "    </tr>\n",
       "    <tr>\n",
       "      <th>4</th>\n",
       "      <td>EtOH</td>\n",
       "      <td>1005</td>\n",
       "    </tr>\n",
       "    <tr>\n",
       "      <th>5</th>\n",
       "      <td>Benzodiazepine</td>\n",
       "      <td>1078</td>\n",
       "    </tr>\n",
       "    <tr>\n",
       "      <th>6</th>\n",
       "      <td>Methadone</td>\n",
       "      <td>388</td>\n",
       "    </tr>\n",
       "    <tr>\n",
       "      <th>7</th>\n",
       "      <td>Other</td>\n",
       "      <td>452</td>\n",
       "    </tr>\n",
       "  </tbody>\n",
       "</table>\n",
       "</div>"
      ],
      "text/plain": [
       "            Drugs  Counts\n",
       "0          Heroin    2154\n",
       "1         Cocaine    1176\n",
       "2        Fentanyl    1467\n",
       "3       Oxycodone     547\n",
       "4            EtOH    1005\n",
       "5  Benzodiazepine    1078\n",
       "6       Methadone     388\n",
       "7           Other     452"
      ]
     },
     "execution_count": 310,
     "metadata": {},
     "output_type": "execute_result"
    }
   ],
   "source": [
    "#creating a dataframe from the dictionary just created of drugs that cause more than 110 deaths\n",
    "dcdf = pd.DataFrame.from_dict(drug_counts_G110,orient='index').reset_index() \n",
    "dcdf.columns = ['Drugs','Counts'] #renaming the columns\n",
    "dcdf"
   ]
  },
  {
   "cell_type": "code",
   "execution_count": 312,
   "metadata": {},
   "outputs": [],
   "source": [
    "dcdf['Fraction'] = dcdf['Counts']/dcdf['Counts'].sum()  \n",
    "#creating a third column where the number of deaths of a certain drug is divided by the total deaths \n",
    "#so that this can be represented in a pie chart"
   ]
  },
  {
   "cell_type": "code",
   "execution_count": 313,
   "metadata": {},
   "outputs": [
    {
     "data": {
      "text/html": [
       "<div>\n",
       "<style scoped>\n",
       "    .dataframe tbody tr th:only-of-type {\n",
       "        vertical-align: middle;\n",
       "    }\n",
       "\n",
       "    .dataframe tbody tr th {\n",
       "        vertical-align: top;\n",
       "    }\n",
       "\n",
       "    .dataframe thead th {\n",
       "        text-align: right;\n",
       "    }\n",
       "</style>\n",
       "<table border=\"1\" class=\"dataframe\">\n",
       "  <thead>\n",
       "    <tr style=\"text-align: right;\">\n",
       "      <th></th>\n",
       "      <th>Drugs</th>\n",
       "      <th>Counts</th>\n",
       "      <th>Fraction</th>\n",
       "    </tr>\n",
       "  </thead>\n",
       "  <tbody>\n",
       "    <tr>\n",
       "      <th>0</th>\n",
       "      <td>Heroin</td>\n",
       "      <td>2154</td>\n",
       "      <td>0.260554</td>\n",
       "    </tr>\n",
       "    <tr>\n",
       "      <th>1</th>\n",
       "      <td>Cocaine</td>\n",
       "      <td>1176</td>\n",
       "      <td>0.142252</td>\n",
       "    </tr>\n",
       "    <tr>\n",
       "      <th>2</th>\n",
       "      <td>Fentanyl</td>\n",
       "      <td>1467</td>\n",
       "      <td>0.177453</td>\n",
       "    </tr>\n",
       "    <tr>\n",
       "      <th>3</th>\n",
       "      <td>Oxycodone</td>\n",
       "      <td>547</td>\n",
       "      <td>0.066167</td>\n",
       "    </tr>\n",
       "    <tr>\n",
       "      <th>4</th>\n",
       "      <td>EtOH</td>\n",
       "      <td>1005</td>\n",
       "      <td>0.121568</td>\n",
       "    </tr>\n",
       "    <tr>\n",
       "      <th>5</th>\n",
       "      <td>Benzodiazepine</td>\n",
       "      <td>1078</td>\n",
       "      <td>0.130398</td>\n",
       "    </tr>\n",
       "    <tr>\n",
       "      <th>6</th>\n",
       "      <td>Methadone</td>\n",
       "      <td>388</td>\n",
       "      <td>0.046934</td>\n",
       "    </tr>\n",
       "    <tr>\n",
       "      <th>7</th>\n",
       "      <td>Other</td>\n",
       "      <td>452</td>\n",
       "      <td>0.054675</td>\n",
       "    </tr>\n",
       "  </tbody>\n",
       "</table>\n",
       "</div>"
      ],
      "text/plain": [
       "            Drugs  Counts  Fraction\n",
       "0          Heroin    2154  0.260554\n",
       "1         Cocaine    1176  0.142252\n",
       "2        Fentanyl    1467  0.177453\n",
       "3       Oxycodone     547  0.066167\n",
       "4            EtOH    1005  0.121568\n",
       "5  Benzodiazepine    1078  0.130398\n",
       "6       Methadone     388  0.046934\n",
       "7           Other     452  0.054675"
      ]
     },
     "execution_count": 313,
     "metadata": {},
     "output_type": "execute_result"
    }
   ],
   "source": [
    "dcdf"
   ]
  },
  {
   "cell_type": "code",
   "execution_count": 272,
   "metadata": {},
   "outputs": [
    {
     "data": {
      "text/html": [
       "<div>\n",
       "<style scoped>\n",
       "    .dataframe tbody tr th:only-of-type {\n",
       "        vertical-align: middle;\n",
       "    }\n",
       "\n",
       "    .dataframe tbody tr th {\n",
       "        vertical-align: top;\n",
       "    }\n",
       "\n",
       "    .dataframe thead th {\n",
       "        text-align: right;\n",
       "    }\n",
       "</style>\n",
       "<table border=\"1\" class=\"dataframe\">\n",
       "  <thead>\n",
       "    <tr style=\"text-align: right;\">\n",
       "      <th></th>\n",
       "      <th>Drugs</th>\n",
       "      <th>Counts</th>\n",
       "      <th>Fraction</th>\n",
       "    </tr>\n",
       "  </thead>\n",
       "  <tbody>\n",
       "    <tr>\n",
       "      <th>0</th>\n",
       "      <td>Methadone</td>\n",
       "      <td>388</td>\n",
       "      <td>0.046934</td>\n",
       "    </tr>\n",
       "    <tr>\n",
       "      <th>1</th>\n",
       "      <td>Other</td>\n",
       "      <td>452</td>\n",
       "      <td>0.054675</td>\n",
       "    </tr>\n",
       "    <tr>\n",
       "      <th>2</th>\n",
       "      <td>Oxycodone</td>\n",
       "      <td>547</td>\n",
       "      <td>0.066167</td>\n",
       "    </tr>\n",
       "    <tr>\n",
       "      <th>3</th>\n",
       "      <td>EtOH</td>\n",
       "      <td>1005</td>\n",
       "      <td>0.121568</td>\n",
       "    </tr>\n",
       "    <tr>\n",
       "      <th>4</th>\n",
       "      <td>Benzodiazepine</td>\n",
       "      <td>1078</td>\n",
       "      <td>0.130398</td>\n",
       "    </tr>\n",
       "    <tr>\n",
       "      <th>5</th>\n",
       "      <td>Cocaine</td>\n",
       "      <td>1176</td>\n",
       "      <td>0.142252</td>\n",
       "    </tr>\n",
       "    <tr>\n",
       "      <th>6</th>\n",
       "      <td>Fentanyl</td>\n",
       "      <td>1467</td>\n",
       "      <td>0.177453</td>\n",
       "    </tr>\n",
       "    <tr>\n",
       "      <th>7</th>\n",
       "      <td>Heroin</td>\n",
       "      <td>2154</td>\n",
       "      <td>0.260554</td>\n",
       "    </tr>\n",
       "  </tbody>\n",
       "</table>\n",
       "</div>"
      ],
      "text/plain": [
       "            Drugs  Counts  Fraction\n",
       "0       Methadone     388  0.046934\n",
       "1           Other     452  0.054675\n",
       "2       Oxycodone     547  0.066167\n",
       "3            EtOH    1005  0.121568\n",
       "4  Benzodiazepine    1078  0.130398\n",
       "5         Cocaine    1176  0.142252\n",
       "6        Fentanyl    1467  0.177453\n",
       "7          Heroin    2154  0.260554"
      ]
     },
     "execution_count": 272,
     "metadata": {},
     "output_type": "execute_result"
    }
   ],
   "source": [
    "sdcdf = dcdf.sort_values(by=[\"Fraction\"]).reset_index(drop=True)\n",
    "sdcdf\n",
    "\n",
    "#creating a list sorted by number of deaths in order to make the pie chart pieces appear in order of size"
   ]
  },
  {
   "cell_type": "markdown",
   "metadata": {},
   "source": [
    "###Drug That Contributed to the Highest Percentage of Deaths\n",
    "\n",
    "In this dataset, twelve different drugs are mentioned by name: amphetamine, benzodiazepine, cocaine, ethanol (EtOH), fentanyl, heroin, hydrocodone, methadone, morphine, oxycodone, oxymorphone, and tramadol. \n",
    "\n",
    "####Findings\n",
    "\n",
    "As represented in the pie chart below, morphine contributed to over a quarter of the accidental drug-related deaths during this time. "
   ]
  },
  {
   "cell_type": "code",
   "execution_count": 314,
   "metadata": {},
   "outputs": [
    {
     "data": {
      "image/png": "[encoded data removed]",
      "text/plain": [
       "<Figure size 720x360 with 1 Axes>"
      ]
     },
     "metadata": {},
     "output_type": "display_data"
    }
   ],
   "source": [
    "plt.figure(figsize=(10, 5))\n",
    "plt.pie(sdcdf[\"Fraction\"], autopct=\"%1.1f%%\")  #autopct makes the percentage appear on the pie piece\n",
    "plt.axis(\"equal\")\n",
    "plt.title(\"Drug Involved in Accidental Death\", fontsize = 13)\n",
    "plt.legend(sdcdf[\"Drugs\"], title = \"Drug Type\")\n",
    "plt.show()\n"
   ]
  },
  {
   "cell_type": "markdown",
   "metadata": {},
   "source": [
    "The top six most lethal drugs according to this dataset are heroin (26.1%), fentanyl (17.9%), cocaine (14.4%), benzodiazepine (13.1%), ethanol (12.0%), and oxycodone (6.6%). Over half of the accidental drug-related deaths between 2012-2017 were caused by either heroin, fentanyl, or cocaine.\n",
    "\n",
    "####Recommendations\n",
    "Given this information, the Connecticut DMHAS can direct resources toward the prevention and treatment of those three leading drugs."
   ]
  },
  {
   "cell_type": "code",
   "execution_count": 274,
   "metadata": {},
   "outputs": [],
   "source": [
    "list_top4Cities = df[\"Death City\"].value_counts().reset_index().iloc[0:4,0].values \n",
    "#identifying the four cities with the most deaths"
   ]
  },
  {
   "cell_type": "code",
   "execution_count": 275,
   "metadata": {},
   "outputs": [
    {
     "data": {
      "text/plain": [
       "'HARTFORD'"
      ]
     },
     "execution_count": 275,
     "metadata": {},
     "output_type": "execute_result"
    }
   ],
   "source": [
    "list_top4Cities.tolist() #creating a list of the top four cities\n",
    "\n",
    "list_top4Cities.tolist()[0]"
   ]
  },
  {
   "cell_type": "code",
   "execution_count": 276,
   "metadata": {},
   "outputs": [
    {
     "data": {
      "text/plain": [
       "2         Oxycodone\n",
       "3              EtOH\n",
       "4    Benzodiazepine\n",
       "5           Cocaine\n",
       "6          Fentanyl\n",
       "7            Heroin\n",
       "Name: Drugs, dtype: object"
      ]
     },
     "execution_count": 276,
     "metadata": {},
     "output_type": "execute_result"
    }
   ],
   "source": [
    "list_top6Drugs = sdcdf.iloc[-6:,0] #selecting the six most lethal drugs\n",
    "list_top6Drugs\n"
   ]
  },
  {
   "cell_type": "code",
   "execution_count": 280,
   "metadata": {},
   "outputs": [
    {
     "name": "stdout",
     "output_type": "stream",
     "text": [
      "{'Oxycodone': 28, 'EtOH': 93, 'Benzodiazepine': 61, 'Cocaine': 157, 'Fentanyl': 178, 'Heroin': 241}\n",
      "{'Oxycodone': 32, 'EtOH': 70, 'Benzodiazepine': 84, 'Cocaine': 97, 'Fentanyl': 87, 'Heroin': 147}\n",
      "{'Oxycodone': 27, 'EtOH': 66, 'Benzodiazepine': 69, 'Cocaine': 103, 'Fentanyl': 86, 'Heroin': 154}\n",
      "{'Oxycodone': 25, 'EtOH': 81, 'Benzodiazepine': 70, 'Cocaine': 101, 'Fentanyl': 115, 'Heroin': 139}\n"
     ]
    },
    {
     "name": "stderr",
     "output_type": "stream",
     "text": [
      "C:\\Users\\jesst\\AppData\\Local\\Continuum\\anaconda3\\lib\\site-packages\\ipykernel_launcher.py:9: UserWarning: Boolean Series key will be reindexed to match DataFrame index.\n",
      "  if __name__ == '__main__':\n",
      "C:\\Users\\jesst\\AppData\\Local\\Continuum\\anaconda3\\lib\\site-packages\\ipykernel_launcher.py:15: UserWarning: Boolean Series key will be reindexed to match DataFrame index.\n",
      "  from ipykernel import kernelapp as app\n",
      "C:\\Users\\jesst\\AppData\\Local\\Continuum\\anaconda3\\lib\\site-packages\\ipykernel_launcher.py:20: UserWarning: Boolean Series key will be reindexed to match DataFrame index.\n",
      "C:\\Users\\jesst\\AppData\\Local\\Continuum\\anaconda3\\lib\\site-packages\\ipykernel_launcher.py:26: UserWarning: Boolean Series key will be reindexed to match DataFrame index.\n"
     ]
    }
   ],
   "source": [
    "count_city0 = {} #creating a dictionary for the top four cities with the most deaths\n",
    "count_city1 = {}\n",
    "count_city2 = {}\n",
    "count_city3 = {}\n",
    "\n",
    "#running a for loop for all six most lethal drugs in each of the top four cities\n",
    "#within the for loop, a \"resident\" is defined and a \"death\" is defined\n",
    "#then the number of residents who died by a certain type of drug is stored in that city's dictionary\n",
    "for drug in list_top6Drugs.tolist():\n",
    "    city0_resident = df_top4Cities[\"Death City\"] == list_top4Cities.tolist()[0]\n",
    "    death = df[drug] == \"Y\"\n",
    "    count_city0[drug] = len(df_top4Cities[city0_resident & death])\n",
    "\n",
    "    \n",
    "for drug in list_top6Drugs.tolist():\n",
    "    city1_resident = df_top4Cities[\"Death City\"] == list_top4Cities.tolist()[1]\n",
    "    death = df[drug] == \"Y\"\n",
    "    count_city1[drug] = len(df_top4Cities[city1_resident & death])\n",
    "\n",
    "for drug in list_top6Drugs.tolist():\n",
    "    city2_resident = df_top4Cities[\"Death City\"] == list_top4Cities.tolist()[2]\n",
    "    death = df[drug] == \"Y\"\n",
    "    count_city2[drug] = len(df_top4Cities[city2_resident & death])\n",
    "\n",
    "    \n",
    "for drug in list_top6Drugs.tolist():\n",
    "    city3_resident = df_top4Cities[\"Death City\"] == list_top4Cities.tolist()[3]\n",
    "    death = df[drug] == \"Y\"\n",
    "    count_city3[drug] = len(df_top4Cities[city3_resident & death])\n",
    "        \n",
    "print(count_city0)\n",
    "print(count_city1)\n",
    "print(count_city2)\n",
    "print(count_city3)"
   ]
  },
  {
   "cell_type": "code",
   "execution_count": 281,
   "metadata": {},
   "outputs": [
    {
     "data": {
      "text/html": [
       "<div>\n",
       "<style scoped>\n",
       "    .dataframe tbody tr th:only-of-type {\n",
       "        vertical-align: middle;\n",
       "    }\n",
       "\n",
       "    .dataframe tbody tr th {\n",
       "        vertical-align: top;\n",
       "    }\n",
       "\n",
       "    .dataframe thead th {\n",
       "        text-align: right;\n",
       "    }\n",
       "</style>\n",
       "<table border=\"1\" class=\"dataframe\">\n",
       "  <thead>\n",
       "    <tr style=\"text-align: right;\">\n",
       "      <th></th>\n",
       "      <th>Oxycodone</th>\n",
       "      <th>EtOH</th>\n",
       "      <th>Benzodiazepine</th>\n",
       "      <th>Cocaine</th>\n",
       "      <th>Fentanyl</th>\n",
       "      <th>Heroin</th>\n",
       "      <th>Cities</th>\n",
       "    </tr>\n",
       "  </thead>\n",
       "  <tbody>\n",
       "    <tr>\n",
       "      <th>HARTFORD</th>\n",
       "      <td>28</td>\n",
       "      <td>93</td>\n",
       "      <td>61</td>\n",
       "      <td>157</td>\n",
       "      <td>178</td>\n",
       "      <td>241</td>\n",
       "      <td>HARTFORD</td>\n",
       "    </tr>\n",
       "    <tr>\n",
       "      <th>NEW HAVEN</th>\n",
       "      <td>32</td>\n",
       "      <td>70</td>\n",
       "      <td>84</td>\n",
       "      <td>97</td>\n",
       "      <td>87</td>\n",
       "      <td>147</td>\n",
       "      <td>NEW HAVEN</td>\n",
       "    </tr>\n",
       "    <tr>\n",
       "      <th>WATERBURY</th>\n",
       "      <td>27</td>\n",
       "      <td>66</td>\n",
       "      <td>69</td>\n",
       "      <td>103</td>\n",
       "      <td>86</td>\n",
       "      <td>154</td>\n",
       "      <td>WATERBURY</td>\n",
       "    </tr>\n",
       "    <tr>\n",
       "      <th>BRIDGEPORT</th>\n",
       "      <td>25</td>\n",
       "      <td>81</td>\n",
       "      <td>70</td>\n",
       "      <td>101</td>\n",
       "      <td>115</td>\n",
       "      <td>139</td>\n",
       "      <td>BRIDGEPORT</td>\n",
       "    </tr>\n",
       "  </tbody>\n",
       "</table>\n",
       "</div>"
      ],
      "text/plain": [
       "            Oxycodone  EtOH  Benzodiazepine  Cocaine  Fentanyl  Heroin  \\\n",
       "HARTFORD           28    93              61      157       178     241   \n",
       "NEW HAVEN          32    70              84       97        87     147   \n",
       "WATERBURY          27    66              69      103        86     154   \n",
       "BRIDGEPORT         25    81              70      101       115     139   \n",
       "\n",
       "                Cities  \n",
       "HARTFORD      HARTFORD  \n",
       "NEW HAVEN    NEW HAVEN  \n",
       "WATERBURY    WATERBURY  \n",
       "BRIDGEPORT  BRIDGEPORT  "
      ]
     },
     "execution_count": 281,
     "metadata": {},
     "output_type": "execute_result"
    }
   ],
   "source": [
    "#creating a dataframe with the data pulled out of the four dictionaries just created (drug counts within the top four cities) \n",
    "\n",
    "df_topCitiesDrugs = pd.DataFrame()\n",
    "df_topCitiesDrugs[list_top6Drugs.tolist()[0]] = [count_city0[list_top6Drugs.tolist()[0]], count_city1[list_top6Drugs.tolist()[0]],\n",
    "                                                count_city2[list_top6Drugs.tolist()[0]], count_city3[list_top6Drugs.tolist()[0]]]\n",
    "df_topCitiesDrugs[list_top6Drugs.tolist()[1]] = [count_city0[list_top6Drugs.tolist()[1]], count_city1[list_top6Drugs.tolist()[1]],\n",
    "                                                count_city2[list_top6Drugs.tolist()[1]], count_city3[list_top6Drugs.tolist()[1]]]\n",
    "df_topCitiesDrugs[list_top6Drugs.tolist()[2]] = [count_city0[list_top6Drugs.tolist()[2]], count_city1[list_top6Drugs.tolist()[2]],\n",
    "                                                count_city2[list_top6Drugs.tolist()[2]], count_city3[list_top6Drugs.tolist()[2]]]\n",
    "df_topCitiesDrugs[list_top6Drugs.tolist()[3]] = [count_city0[list_top6Drugs.tolist()[3]], count_city1[list_top6Drugs.tolist()[3]],\n",
    "                                                count_city2[list_top6Drugs.tolist()[3]], count_city3[list_top6Drugs.tolist()[3]]]\n",
    "df_topCitiesDrugs[list_top6Drugs.tolist()[4]] = [count_city0[list_top6Drugs.tolist()[4]], count_city1[list_top6Drugs.tolist()[4]],\n",
    "                                                count_city2[list_top6Drugs.tolist()[4]], count_city3[list_top6Drugs.tolist()[4]]]\n",
    "df_topCitiesDrugs[list_top6Drugs.tolist()[5]] = [count_city0[list_top6Drugs.tolist()[5]], count_city1[list_top6Drugs.tolist()[5]],\n",
    "                                                count_city2[list_top6Drugs.tolist()[5]], count_city3[list_top6Drugs.tolist()[5]]]\n",
    "\n",
    "df_topCitiesDrugs.index = df_topCitiesDrugs[\"Cities\"] = list_top4Cities.tolist()\n",
    "df_topCitiesDrugs"
   ]
  },
  {
   "cell_type": "raw",
   "metadata": {},
   "source": [
    "###Type of Drug Involved By City\n",
    "\n",
    "Given the conclusions from the first question, I dug further into the breakdown of drug type by geographic region.\n",
    "\n",
    "####Findings\n",
    "\n",
    "When looking at the number of deaths by city, there is great deal of variance in the datapoints. The average number of deaths per city was 19. Instead of focusing on every city in the dataset, I concentrated on the four cities with the highest number of reported deaths: Hartford, New Haven, Waterbury, and Bridgeport. I labeled these cities the \"Big Four Cities.\"\n"
   ]
  },
  {
   "cell_type": "code",
   "execution_count": 315,
   "metadata": {
    "scrolled": true
   },
   "outputs": [
    {
     "data": {
      "text/plain": [
       "<matplotlib.legend.Legend at 0x1443c4c08d0>"
      ]
     },
     "execution_count": 315,
     "metadata": {},
     "output_type": "execute_result"
    },
    {
     "data": {
      "image/png": "[encoded data removed]",
      "text/plain": [
       "<Figure size 720x360 with 1 Axes>"
      ]
     },
     "metadata": {},
     "output_type": "display_data"
    }
   ],
   "source": [
    "#creating a stacked bar graph of the above dataframe\n",
    "\n",
    "df_topCitiesDrugs.plot(kind=\"bar\", stacked=True, figsize= (10, 5))\n",
    "plt.xlabel(\"Big Four Cities\", weight = \"bold\")\n",
    "plt.ylabel(\"Number of Deaths\", weight = \"bold\")\n",
    "plt.title(\"Causes of Drug-Related Deaths in Big Four Cities\", fontsize = 13)\n",
    "plt.legend(loc = \"upper right\", bbox_to_anchor=(.9, 0, .5, 1))"
   ]
  },
  {
   "cell_type": "markdown",
   "metadata": {},
   "source": [
    "As seen in the bar for Hartford, nearly one-third of the drug-related deaths were caused by heroin - this is a higher percentage than in the other three cities represented. Another anomaly that can be seen in the above figure is that fentanyl makes up an uncharacteristic number of the deaths in Bridgeport as compared to fentanyl-caused deaths in the other three cities. \n",
    "\n",
    "####Recommendations\n",
    "Since Connecticut DMHAS provides services according to five different geographic regions, it is important to recognize where the Big Four Cities fall with regard to region. As it's currently set up, each region has exactly *one* of the Big Four Cities in its vicinity with the exception of Region 3 (which has none). Because the Big Four Cities are spread out across the regions, this setup allows for sufficient allocation of resources. Since Region 3 does not house any of the Big Four Cities, DMHAS could consider reducing resources there and increase the resources in the other four regions.\n"
   ]
  },
  {
   "cell_type": "code",
   "execution_count": 283,
   "metadata": {},
   "outputs": [
    {
     "data": {
      "text/plain": [
       "0    06/28/2014\n",
       "1    11/30/2012\n",
       "2    08/12/2013\n",
       "3    11/23/2014\n",
       "4    08/14/2012\n",
       "Name: Date, dtype: object"
      ]
     },
     "execution_count": 283,
     "metadata": {},
     "output_type": "execute_result"
    }
   ],
   "source": [
    "df[\"Date\"].head()"
   ]
  },
  {
   "cell_type": "code",
   "execution_count": 284,
   "metadata": {},
   "outputs": [],
   "source": [
    "df[\"Month\"] = pd.to_datetime(df[\"Date\"]).dt.month"
   ]
  },
  {
   "cell_type": "code",
   "execution_count": 285,
   "metadata": {},
   "outputs": [
    {
     "data": {
      "text/html": [
       "<div>\n",
       "<style scoped>\n",
       "    .dataframe tbody tr th:only-of-type {\n",
       "        vertical-align: middle;\n",
       "    }\n",
       "\n",
       "    .dataframe tbody tr th {\n",
       "        vertical-align: top;\n",
       "    }\n",
       "\n",
       "    .dataframe thead th {\n",
       "        text-align: right;\n",
       "    }\n",
       "</style>\n",
       "<table border=\"1\" class=\"dataframe\">\n",
       "  <thead>\n",
       "    <tr style=\"text-align: right;\">\n",
       "      <th></th>\n",
       "      <th>Month_Num</th>\n",
       "      <th>Counts</th>\n",
       "    </tr>\n",
       "  </thead>\n",
       "  <tbody>\n",
       "    <tr>\n",
       "      <th>8</th>\n",
       "      <td>1.0</td>\n",
       "      <td>319</td>\n",
       "    </tr>\n",
       "    <tr>\n",
       "      <th>7</th>\n",
       "      <td>2.0</td>\n",
       "      <td>325</td>\n",
       "    </tr>\n",
       "    <tr>\n",
       "      <th>5</th>\n",
       "      <td>3.0</td>\n",
       "      <td>329</td>\n",
       "    </tr>\n",
       "    <tr>\n",
       "      <th>11</th>\n",
       "      <td>4.0</td>\n",
       "      <td>314</td>\n",
       "    </tr>\n",
       "    <tr>\n",
       "      <th>6</th>\n",
       "      <td>5.0</td>\n",
       "      <td>326</td>\n",
       "    </tr>\n",
       "    <tr>\n",
       "      <th>3</th>\n",
       "      <td>6.0</td>\n",
       "      <td>354</td>\n",
       "    </tr>\n",
       "    <tr>\n",
       "      <th>4</th>\n",
       "      <td>7.0</td>\n",
       "      <td>345</td>\n",
       "    </tr>\n",
       "    <tr>\n",
       "      <th>9</th>\n",
       "      <td>8.0</td>\n",
       "      <td>318</td>\n",
       "    </tr>\n",
       "    <tr>\n",
       "      <th>10</th>\n",
       "      <td>9.0</td>\n",
       "      <td>317</td>\n",
       "    </tr>\n",
       "    <tr>\n",
       "      <th>2</th>\n",
       "      <td>10.0</td>\n",
       "      <td>369</td>\n",
       "    </tr>\n",
       "    <tr>\n",
       "      <th>0</th>\n",
       "      <td>11.0</td>\n",
       "      <td>388</td>\n",
       "    </tr>\n",
       "    <tr>\n",
       "      <th>1</th>\n",
       "      <td>12.0</td>\n",
       "      <td>377</td>\n",
       "    </tr>\n",
       "  </tbody>\n",
       "</table>\n",
       "</div>"
      ],
      "text/plain": [
       "    Month_Num  Counts\n",
       "8         1.0     319\n",
       "7         2.0     325\n",
       "5         3.0     329\n",
       "11        4.0     314\n",
       "6         5.0     326\n",
       "3         6.0     354\n",
       "4         7.0     345\n",
       "9         8.0     318\n",
       "10        9.0     317\n",
       "2        10.0     369\n",
       "0        11.0     388\n",
       "1        12.0     377"
      ]
     },
     "execution_count": 285,
     "metadata": {},
     "output_type": "execute_result"
    }
   ],
   "source": [
    "monthdf = df[\"Month\"].value_counts().reset_index()\n",
    "monthdf.columns = ['Month_Num','Counts']\n",
    "monthdf.sort_values(by=['Month_Num'],inplace=True)\n",
    "monthdf"
   ]
  },
  {
   "cell_type": "code",
   "execution_count": 286,
   "metadata": {},
   "outputs": [
    {
     "data": {
      "text/html": [
       "<div>\n",
       "<style scoped>\n",
       "    .dataframe tbody tr th:only-of-type {\n",
       "        vertical-align: middle;\n",
       "    }\n",
       "\n",
       "    .dataframe tbody tr th {\n",
       "        vertical-align: top;\n",
       "    }\n",
       "\n",
       "    .dataframe thead th {\n",
       "        text-align: right;\n",
       "    }\n",
       "</style>\n",
       "<table border=\"1\" class=\"dataframe\">\n",
       "  <thead>\n",
       "    <tr style=\"text-align: right;\">\n",
       "      <th></th>\n",
       "      <th>Month_Num</th>\n",
       "      <th>Counts</th>\n",
       "    </tr>\n",
       "  </thead>\n",
       "  <tbody>\n",
       "    <tr>\n",
       "      <th>8</th>\n",
       "      <td>1.0</td>\n",
       "      <td>319</td>\n",
       "    </tr>\n",
       "    <tr>\n",
       "      <th>7</th>\n",
       "      <td>2.0</td>\n",
       "      <td>325</td>\n",
       "    </tr>\n",
       "    <tr>\n",
       "      <th>5</th>\n",
       "      <td>3.0</td>\n",
       "      <td>329</td>\n",
       "    </tr>\n",
       "    <tr>\n",
       "      <th>11</th>\n",
       "      <td>4.0</td>\n",
       "      <td>314</td>\n",
       "    </tr>\n",
       "    <tr>\n",
       "      <th>6</th>\n",
       "      <td>5.0</td>\n",
       "      <td>326</td>\n",
       "    </tr>\n",
       "    <tr>\n",
       "      <th>3</th>\n",
       "      <td>6.0</td>\n",
       "      <td>354</td>\n",
       "    </tr>\n",
       "    <tr>\n",
       "      <th>4</th>\n",
       "      <td>7.0</td>\n",
       "      <td>345</td>\n",
       "    </tr>\n",
       "    <tr>\n",
       "      <th>9</th>\n",
       "      <td>8.0</td>\n",
       "      <td>318</td>\n",
       "    </tr>\n",
       "    <tr>\n",
       "      <th>10</th>\n",
       "      <td>9.0</td>\n",
       "      <td>317</td>\n",
       "    </tr>\n",
       "    <tr>\n",
       "      <th>2</th>\n",
       "      <td>10.0</td>\n",
       "      <td>369</td>\n",
       "    </tr>\n",
       "    <tr>\n",
       "      <th>0</th>\n",
       "      <td>11.0</td>\n",
       "      <td>388</td>\n",
       "    </tr>\n",
       "    <tr>\n",
       "      <th>1</th>\n",
       "      <td>12.0</td>\n",
       "      <td>377</td>\n",
       "    </tr>\n",
       "  </tbody>\n",
       "</table>\n",
       "</div>"
      ],
      "text/plain": [
       "    Month_Num  Counts\n",
       "8         1.0     319\n",
       "7         2.0     325\n",
       "5         3.0     329\n",
       "11        4.0     314\n",
       "6         5.0     326\n",
       "3         6.0     354\n",
       "4         7.0     345\n",
       "9         8.0     318\n",
       "10        9.0     317\n",
       "2        10.0     369\n",
       "0        11.0     388\n",
       "1        12.0     377"
      ]
     },
     "execution_count": 286,
     "metadata": {},
     "output_type": "execute_result"
    }
   ],
   "source": [
    "monthdf"
   ]
  },
  {
   "cell_type": "code",
   "execution_count": 287,
   "metadata": {
    "scrolled": true
   },
   "outputs": [
    {
     "data": {
      "text/html": [
       "<div>\n",
       "<style scoped>\n",
       "    .dataframe tbody tr th:only-of-type {\n",
       "        vertical-align: middle;\n",
       "    }\n",
       "\n",
       "    .dataframe tbody tr th {\n",
       "        vertical-align: top;\n",
       "    }\n",
       "\n",
       "    .dataframe thead th {\n",
       "        text-align: right;\n",
       "    }\n",
       "</style>\n",
       "<table border=\"1\" class=\"dataframe\">\n",
       "  <thead>\n",
       "    <tr style=\"text-align: right;\">\n",
       "      <th></th>\n",
       "      <th>Month_Num</th>\n",
       "      <th>Deaths</th>\n",
       "    </tr>\n",
       "  </thead>\n",
       "  <tbody>\n",
       "    <tr>\n",
       "      <th>8</th>\n",
       "      <td>1.0</td>\n",
       "      <td>319</td>\n",
       "    </tr>\n",
       "    <tr>\n",
       "      <th>7</th>\n",
       "      <td>2.0</td>\n",
       "      <td>325</td>\n",
       "    </tr>\n",
       "    <tr>\n",
       "      <th>5</th>\n",
       "      <td>3.0</td>\n",
       "      <td>329</td>\n",
       "    </tr>\n",
       "    <tr>\n",
       "      <th>11</th>\n",
       "      <td>4.0</td>\n",
       "      <td>314</td>\n",
       "    </tr>\n",
       "    <tr>\n",
       "      <th>6</th>\n",
       "      <td>5.0</td>\n",
       "      <td>326</td>\n",
       "    </tr>\n",
       "    <tr>\n",
       "      <th>3</th>\n",
       "      <td>6.0</td>\n",
       "      <td>354</td>\n",
       "    </tr>\n",
       "    <tr>\n",
       "      <th>4</th>\n",
       "      <td>7.0</td>\n",
       "      <td>345</td>\n",
       "    </tr>\n",
       "    <tr>\n",
       "      <th>9</th>\n",
       "      <td>8.0</td>\n",
       "      <td>318</td>\n",
       "    </tr>\n",
       "    <tr>\n",
       "      <th>10</th>\n",
       "      <td>9.0</td>\n",
       "      <td>317</td>\n",
       "    </tr>\n",
       "    <tr>\n",
       "      <th>2</th>\n",
       "      <td>10.0</td>\n",
       "      <td>369</td>\n",
       "    </tr>\n",
       "    <tr>\n",
       "      <th>0</th>\n",
       "      <td>11.0</td>\n",
       "      <td>388</td>\n",
       "    </tr>\n",
       "    <tr>\n",
       "      <th>1</th>\n",
       "      <td>12.0</td>\n",
       "      <td>377</td>\n",
       "    </tr>\n",
       "  </tbody>\n",
       "</table>\n",
       "</div>"
      ],
      "text/plain": [
       "    Month_Num  Deaths\n",
       "8         1.0     319\n",
       "7         2.0     325\n",
       "5         3.0     329\n",
       "11        4.0     314\n",
       "6         5.0     326\n",
       "3         6.0     354\n",
       "4         7.0     345\n",
       "9         8.0     318\n",
       "10        9.0     317\n",
       "2        10.0     369\n",
       "0        11.0     388\n",
       "1        12.0     377"
      ]
     },
     "execution_count": 287,
     "metadata": {},
     "output_type": "execute_result"
    }
   ],
   "source": [
    "monthdf.columns = ['Month_Num',\"Deaths\"]\n",
    "\n",
    "monthdf"
   ]
  },
  {
   "cell_type": "code",
   "execution_count": 288,
   "metadata": {},
   "outputs": [],
   "source": [
    "month_names = {1: \"Jan\", 2: \"Feb\", 3: \"Mar\", 4: \"Apr\", 5: \"May\", 6: \"Jun\", \n",
    "               7: \"Jul\", 8: \"Aug\", 9: \"Sep\", 10: \"Oct\", 11: \"Nov\", 12: \"Dec\"}"
   ]
  },
  {
   "cell_type": "code",
   "execution_count": 289,
   "metadata": {},
   "outputs": [],
   "source": [
    "monthdf['Month_Name'] = monthdf['Month_Num'].apply(lambda x: month_names[x])"
   ]
  },
  {
   "cell_type": "code",
   "execution_count": 290,
   "metadata": {},
   "outputs": [],
   "source": [
    "del monthdf['Month_Num']"
   ]
  },
  {
   "cell_type": "code",
   "execution_count": 291,
   "metadata": {},
   "outputs": [
    {
     "data": {
      "text/html": [
       "<div>\n",
       "<style scoped>\n",
       "    .dataframe tbody tr th:only-of-type {\n",
       "        vertical-align: middle;\n",
       "    }\n",
       "\n",
       "    .dataframe tbody tr th {\n",
       "        vertical-align: top;\n",
       "    }\n",
       "\n",
       "    .dataframe thead th {\n",
       "        text-align: right;\n",
       "    }\n",
       "</style>\n",
       "<table border=\"1\" class=\"dataframe\">\n",
       "  <thead>\n",
       "    <tr style=\"text-align: right;\">\n",
       "      <th></th>\n",
       "      <th>Deaths</th>\n",
       "      <th>Month_Name</th>\n",
       "    </tr>\n",
       "  </thead>\n",
       "  <tbody>\n",
       "    <tr>\n",
       "      <th>8</th>\n",
       "      <td>319</td>\n",
       "      <td>Jan</td>\n",
       "    </tr>\n",
       "    <tr>\n",
       "      <th>7</th>\n",
       "      <td>325</td>\n",
       "      <td>Feb</td>\n",
       "    </tr>\n",
       "    <tr>\n",
       "      <th>5</th>\n",
       "      <td>329</td>\n",
       "      <td>Mar</td>\n",
       "    </tr>\n",
       "    <tr>\n",
       "      <th>11</th>\n",
       "      <td>314</td>\n",
       "      <td>Apr</td>\n",
       "    </tr>\n",
       "    <tr>\n",
       "      <th>6</th>\n",
       "      <td>326</td>\n",
       "      <td>May</td>\n",
       "    </tr>\n",
       "    <tr>\n",
       "      <th>3</th>\n",
       "      <td>354</td>\n",
       "      <td>Jun</td>\n",
       "    </tr>\n",
       "    <tr>\n",
       "      <th>4</th>\n",
       "      <td>345</td>\n",
       "      <td>Jul</td>\n",
       "    </tr>\n",
       "    <tr>\n",
       "      <th>9</th>\n",
       "      <td>318</td>\n",
       "      <td>Aug</td>\n",
       "    </tr>\n",
       "    <tr>\n",
       "      <th>10</th>\n",
       "      <td>317</td>\n",
       "      <td>Sep</td>\n",
       "    </tr>\n",
       "    <tr>\n",
       "      <th>2</th>\n",
       "      <td>369</td>\n",
       "      <td>Oct</td>\n",
       "    </tr>\n",
       "    <tr>\n",
       "      <th>0</th>\n",
       "      <td>388</td>\n",
       "      <td>Nov</td>\n",
       "    </tr>\n",
       "    <tr>\n",
       "      <th>1</th>\n",
       "      <td>377</td>\n",
       "      <td>Dec</td>\n",
       "    </tr>\n",
       "  </tbody>\n",
       "</table>\n",
       "</div>"
      ],
      "text/plain": [
       "    Deaths Month_Name\n",
       "8      319        Jan\n",
       "7      325        Feb\n",
       "5      329        Mar\n",
       "11     314        Apr\n",
       "6      326        May\n",
       "3      354        Jun\n",
       "4      345        Jul\n",
       "9      318        Aug\n",
       "10     317        Sep\n",
       "2      369        Oct\n",
       "0      388        Nov\n",
       "1      377        Dec"
      ]
     },
     "execution_count": 291,
     "metadata": {},
     "output_type": "execute_result"
    }
   ],
   "source": [
    "monthdf"
   ]
  },
  {
   "cell_type": "code",
   "execution_count": 292,
   "metadata": {},
   "outputs": [
    {
     "data": {
      "text/plain": [
       "Deaths    340.083333\n",
       "dtype: float64"
      ]
     },
     "execution_count": 292,
     "metadata": {},
     "output_type": "execute_result"
    }
   ],
   "source": [
    "monthdf.mean()"
   ]
  },
  {
   "cell_type": "code",
   "execution_count": 293,
   "metadata": {},
   "outputs": [
    {
     "data": {
      "text/html": [
       "<div>\n",
       "<style scoped>\n",
       "    .dataframe tbody tr th:only-of-type {\n",
       "        vertical-align: middle;\n",
       "    }\n",
       "\n",
       "    .dataframe tbody tr th {\n",
       "        vertical-align: top;\n",
       "    }\n",
       "\n",
       "    .dataframe thead th {\n",
       "        text-align: right;\n",
       "    }\n",
       "</style>\n",
       "<table border=\"1\" class=\"dataframe\">\n",
       "  <thead>\n",
       "    <tr style=\"text-align: right;\">\n",
       "      <th></th>\n",
       "      <th>Deaths</th>\n",
       "    </tr>\n",
       "  </thead>\n",
       "  <tbody>\n",
       "    <tr>\n",
       "      <th>count</th>\n",
       "      <td>12.000000</td>\n",
       "    </tr>\n",
       "    <tr>\n",
       "      <th>mean</th>\n",
       "      <td>340.083333</td>\n",
       "    </tr>\n",
       "    <tr>\n",
       "      <th>std</th>\n",
       "      <td>25.949105</td>\n",
       "    </tr>\n",
       "    <tr>\n",
       "      <th>min</th>\n",
       "      <td>314.000000</td>\n",
       "    </tr>\n",
       "    <tr>\n",
       "      <th>25%</th>\n",
       "      <td>318.750000</td>\n",
       "    </tr>\n",
       "    <tr>\n",
       "      <th>50%</th>\n",
       "      <td>327.500000</td>\n",
       "    </tr>\n",
       "    <tr>\n",
       "      <th>75%</th>\n",
       "      <td>357.750000</td>\n",
       "    </tr>\n",
       "    <tr>\n",
       "      <th>max</th>\n",
       "      <td>388.000000</td>\n",
       "    </tr>\n",
       "  </tbody>\n",
       "</table>\n",
       "</div>"
      ],
      "text/plain": [
       "           Deaths\n",
       "count   12.000000\n",
       "mean   340.083333\n",
       "std     25.949105\n",
       "min    314.000000\n",
       "25%    318.750000\n",
       "50%    327.500000\n",
       "75%    357.750000\n",
       "max    388.000000"
      ]
     },
     "execution_count": 293,
     "metadata": {},
     "output_type": "execute_result"
    }
   ],
   "source": [
    "monthdf.describe()"
   ]
  },
  {
   "cell_type": "code",
   "execution_count": 294,
   "metadata": {},
   "outputs": [
    {
     "data": {
      "text/html": [
       "<div>\n",
       "<style scoped>\n",
       "    .dataframe tbody tr th:only-of-type {\n",
       "        vertical-align: middle;\n",
       "    }\n",
       "\n",
       "    .dataframe tbody tr th {\n",
       "        vertical-align: top;\n",
       "    }\n",
       "\n",
       "    .dataframe thead th {\n",
       "        text-align: right;\n",
       "    }\n",
       "</style>\n",
       "<table border=\"1\" class=\"dataframe\">\n",
       "  <thead>\n",
       "    <tr style=\"text-align: right;\">\n",
       "      <th></th>\n",
       "      <th>Deaths</th>\n",
       "      <th>Month_Name</th>\n",
       "    </tr>\n",
       "  </thead>\n",
       "  <tbody>\n",
       "    <tr>\n",
       "      <th>8</th>\n",
       "      <td>319</td>\n",
       "      <td>Jan</td>\n",
       "    </tr>\n",
       "    <tr>\n",
       "      <th>7</th>\n",
       "      <td>325</td>\n",
       "      <td>Feb</td>\n",
       "    </tr>\n",
       "    <tr>\n",
       "      <th>5</th>\n",
       "      <td>329</td>\n",
       "      <td>Mar</td>\n",
       "    </tr>\n",
       "    <tr>\n",
       "      <th>11</th>\n",
       "      <td>314</td>\n",
       "      <td>Apr</td>\n",
       "    </tr>\n",
       "    <tr>\n",
       "      <th>6</th>\n",
       "      <td>326</td>\n",
       "      <td>May</td>\n",
       "    </tr>\n",
       "    <tr>\n",
       "      <th>3</th>\n",
       "      <td>354</td>\n",
       "      <td>Jun</td>\n",
       "    </tr>\n",
       "    <tr>\n",
       "      <th>4</th>\n",
       "      <td>345</td>\n",
       "      <td>Jul</td>\n",
       "    </tr>\n",
       "    <tr>\n",
       "      <th>9</th>\n",
       "      <td>318</td>\n",
       "      <td>Aug</td>\n",
       "    </tr>\n",
       "    <tr>\n",
       "      <th>10</th>\n",
       "      <td>317</td>\n",
       "      <td>Sep</td>\n",
       "    </tr>\n",
       "    <tr>\n",
       "      <th>2</th>\n",
       "      <td>369</td>\n",
       "      <td>Oct</td>\n",
       "    </tr>\n",
       "    <tr>\n",
       "      <th>0</th>\n",
       "      <td>388</td>\n",
       "      <td>Nov</td>\n",
       "    </tr>\n",
       "    <tr>\n",
       "      <th>1</th>\n",
       "      <td>377</td>\n",
       "      <td>Dec</td>\n",
       "    </tr>\n",
       "  </tbody>\n",
       "</table>\n",
       "</div>"
      ],
      "text/plain": [
       "    Deaths Month_Name\n",
       "8      319        Jan\n",
       "7      325        Feb\n",
       "5      329        Mar\n",
       "11     314        Apr\n",
       "6      326        May\n",
       "3      354        Jun\n",
       "4      345        Jul\n",
       "9      318        Aug\n",
       "10     317        Sep\n",
       "2      369        Oct\n",
       "0      388        Nov\n",
       "1      377        Dec"
      ]
     },
     "execution_count": 294,
     "metadata": {},
     "output_type": "execute_result"
    }
   ],
   "source": [
    "monthdf"
   ]
  },
  {
   "cell_type": "code",
   "execution_count": 295,
   "metadata": {},
   "outputs": [],
   "source": [
    "monthdf.set_index(monthdf['Month_Name'],inplace=True)"
   ]
  },
  {
   "cell_type": "markdown",
   "metadata": {},
   "source": [
    "###Correlation Between Time of Year and Number of Deaths\n",
    "\n",
    "Since mental health issues can sometimes rise and fall depending on the season or the weather, I looked into which times of the year had the highest number of deaths and which had the lowest. \n",
    "\n",
    "####Findings\n",
    "\n",
    "After analyzing the data and looking at each person's month of death, Connecticut saw the most accidental drug-related deaths toward the end of the calendar year. "
   ]
  },
  {
   "cell_type": "code",
   "execution_count": 296,
   "metadata": {},
   "outputs": [
    {
     "data": {
      "text/plain": [
       "<matplotlib.axes._subplots.AxesSubplot at 0x1443b2faf60>"
      ]
     },
     "execution_count": 296,
     "metadata": {},
     "output_type": "execute_result"
    },
    {
     "data": {
      "image/png": "[encoded data removed]",
      "text/plain": [
       "<Figure size 720x360 with 1 Axes>"
      ]
     },
     "metadata": {},
     "output_type": "display_data"
    }
   ],
   "source": [
    "plt.ylabel(\"Number of Deaths\", weight = \"bold\")\n",
    "#plt.xlabel(\"Month of the Year\", weight = \"bold\")\n",
    "plt.title(\"Number of Deaths Per Month\", fontsize = 13)\n",
    "plt.axhline(monthdf[\"Deaths\"].mean(), color=\"blue\")\n",
    "plt.axhline(monthdf[\"Deaths\"].mean() + monthdf[\"Deaths\"].std(), color = \"black\", linestyle = \"dashed\")\n",
    "plt.axhline(monthdf[\"Deaths\"].mean() - monthdf[\"Deaths\"].std(), color = \"black\", linestyle = \"dashed\")\n",
    "plt.ylim(280, 400)\n",
    "monthdf[\"Deaths\"].plot.bar(figsize = (10, 5))\n",
    "#plt.xticks=monthdf[\"Month_Name\"]\n"
   ]
  },
  {
   "cell_type": "markdown",
   "metadata": {},
   "source": [
    "The average number of deaths per month (as represented by the solid blue line in the above graph) was 340. \n",
    "\n",
    "November had the most recorded deaths with 388. This number is nearly two standard deviations above the mean. If one looks at the top quartile of months (October, November, and December), the average number of deaths per month was 378, which is 38 deaths higher than the average of the entire dataset. \n",
    "\n",
    "In the bottom quartile of months (April, August, and September), the average number of deaths per month was 316.\n",
    "\n",
    "#### Recommendations\n",
    "\n",
    "Given that Connecticut DMHAS's funds and resources are finite, the organization can provide more staffing and resources for prevention and treatment during the heavier months while possibly reducing the use of resources during the lighter months. \n",
    "\n",
    "\n",
    "##Conclusion and Future Research\n",
    "\n",
    "The analysis of the data revealed three things: \n",
    "+ the most lethal drugs\n",
    "+ how the most lethal drugs break down by city\n",
    "+ times of the year that prove most deadly\n",
    "\n",
    "Further research could be done into whether or not - based on the racial demographic data of Connecticut - there is an overrepresentation of certain races in the dataset. On a more qualitative note, every death in this dataset is categorized as \"accidental.\" That said, it would be interesting to look back at how this data was gathered to determine what makes a drug-related death \"accidental\" versus \"intentional\" (suicide). "
   ]
  },
  {
   "cell_type": "code",
   "execution_count": null,
   "metadata": {},
   "outputs": [],
   "source": []
  }
 ],
 "metadata": {
  "kernelspec": {
   "display_name": "Python 3",
   "language": "python",
   "name": "python3"
  },
  "language_info": {
   "codemirror_mode": {
    "name": "ipython",
    "version": 3
   },
   "file_extension": ".py",
   "mimetype": "text/x-python",
   "name": "python",
   "nbconvert_exporter": "python",
   "pygments_lexer": "ipython3",
   "version": "3.6.5"
  }
 },
 "nbformat": 4,
 "nbformat_minor": 2
}
