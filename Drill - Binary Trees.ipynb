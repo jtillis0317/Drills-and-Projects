{
 "cells": [
  {
   "cell_type": "markdown",
   "metadata": {},
   "source": [
    "**Implement a binary tree, which is filled with 15 pieces of random data. Your job is to then write a program to traverse the tree using a breadth first traversal. If you want additional practice, try other forms of traversal.**"
   ]
  },
  {
   "cell_type": "code",
   "execution_count": 2,
   "metadata": {},
   "outputs": [],
   "source": [
    "class Node:\n",
    "    def __init__(self, val):\n",
    "        self.left = None\n",
    "        self.right = None\n",
    "        self.val = val"
   ]
  },
  {
   "cell_type": "code",
   "execution_count": 3,
   "metadata": {},
   "outputs": [],
   "source": [
    "# Establish the initial root node and children\n",
    "root = Node(10)\n",
    "root.left = Node(9)\n",
    "root.right = Node(8)\n",
    "\n",
    "# Add the appropriate children for 8 and 9\n",
    "root.left.left = Node(7)\n",
    "root.left.right = Node(8)\n",
    "root.right.left = Node(6)\n",
    "root.right.right = Node(5)\n",
    "\n",
    "# Add children for 5, 6, 7, 8\n",
    "root.left.left.left = Node(6)\n",
    "root.left.left.right = Node(5)\n",
    "root.left.right.left = Node(6)\n",
    "root.left.right.right = Node(7)\n",
    "root.right.left.left = Node(5)\n",
    "root.right.left.right = Node(4)\n",
    "root.right.right.left = Node(3)\n",
    "root.right.right.right = Node(2)\n"
   ]
  },
  {
   "cell_type": "code",
   "execution_count": 6,
   "metadata": {},
   "outputs": [
    {
     "data": {
      "text/plain": [
       "[10, 9, 8, 7, 8, 6, 5, 6, 5, 6, 7, 5, 4, 3, 2]"
      ]
     },
     "execution_count": 6,
     "metadata": {},
     "output_type": "execute_result"
    }
   ],
   "source": [
    "read = []\n",
    "\n",
    "read.append(root.val)\n",
    "read.append(root.left.val)\n",
    "read.append(root.right.val)\n",
    "read.append(root.left.left.val)\n",
    "read.append(root.left.right.val)\n",
    "read.append(root.right.left.val)\n",
    "read.append(root.right.right.val)\n",
    "read.append(root.left.left.left.val)\n",
    "read.append(root.left.left.right.val)\n",
    "read.append(root.left.right.left.val)\n",
    "read.append(root.left.right.right.val)\n",
    "read.append(root.right.left.left.val)\n",
    "read.append(root.right.left.right.val)\n",
    "read.append(root.right.right.left.val)\n",
    "read.append(root.right.right.right.val)\n",
    "\n",
    "read\n",
    "\n"
   ]
  },
  {
   "cell_type": "code",
   "execution_count": null,
   "metadata": {},
   "outputs": [],
   "source": []
  }
 ],
 "metadata": {
  "kernelspec": {
   "display_name": "Python 3",
   "language": "python",
   "name": "python3"
  },
  "language_info": {
   "codemirror_mode": {
    "name": "ipython",
    "version": 3
   },
   "file_extension": ".py",
   "mimetype": "text/x-python",
   "name": "python",
   "nbconvert_exporter": "python",
   "pygments_lexer": "ipython3",
   "version": "3.6.5"
  }
 },
 "nbformat": 4,
 "nbformat_minor": 2
}
