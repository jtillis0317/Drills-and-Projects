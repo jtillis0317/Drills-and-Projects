{
 "cells": [
  {
   "cell_type": "code",
   "execution_count": 1,
   "metadata": {},
   "outputs": [],
   "source": [
    "import numpy as np\n",
    "import pandas as pd"
   ]
  },
  {
   "cell_type": "code",
   "execution_count": 2,
   "metadata": {},
   "outputs": [
    {
     "name": "stdout",
     "output_type": "stream",
     "text": [
      "Twinkle, twinkle, little star, \n",
      "        How I wonder what you are!\n",
      "                Up above the world so high,\n",
      "                Like a diamond in the sky.\n",
      "Twinkle, twinkle, little star,\n",
      "        How I wonder what you are.\n"
     ]
    }
   ],
   "source": [
    "string = \"Twinkle, twinkle, little star, \\n        How I wonder what you are!\\n                Up above the world so high,\\n                Like a diamond in the sky.\\nTwinkle, twinkle, little star,\\n        How I wonder what you are.\"\n",
    "print(string)"
   ]
  },
  {
   "cell_type": "code",
   "execution_count": 1,
   "metadata": {},
   "outputs": [
    {
     "name": "stdout",
     "output_type": "stream",
     "text": [
      "Enter a list of numbers, separated by commas5, 6, 7\n",
      "['5', ' 6', ' 7']\n",
      "('5', ' 6', ' 7')\n"
     ]
    }
   ],
   "source": [
    "data = input(\"Enter a list of numbers, separated by commas\")\n",
    "data_split = data.split(\",\")\n",
    "data_list = list(data_split)\n",
    "data_tuple = tuple(data_list)\n",
    "print(data_list)\n",
    "print(data_tuple)"
   ]
  },
  {
   "cell_type": "code",
   "execution_count": 4,
   "metadata": {},
   "outputs": [
    {
     "data": {
      "text/plain": [
       "('3', ',', ' ', '5', ',', ' ', '7', ',', ' ', '9')"
      ]
     },
     "execution_count": 4,
     "metadata": {},
     "output_type": "execute_result"
    }
   ],
   "source": [
    "tuple(data)"
   ]
  },
  {
   "cell_type": "code",
   "execution_count": 25,
   "metadata": {},
   "outputs": [
    {
     "name": "stdout",
     "output_type": "stream",
     "text": [
      "Enter an integer-50\n",
      "134\n"
     ]
    }
   ],
   "source": [
    "n = input(\"Enter an integer\")\n",
    "n = int(n)\n",
    "x = abs(17-n)\n",
    "if x > 17:\n",
    "    print(2*x)\n",
    "\n",
    "    "
   ]
  },
  {
   "cell_type": "code",
   "execution_count": 34,
   "metadata": {},
   "outputs": [
    {
     "name": "stdout",
     "output_type": "stream",
     "text": [
      "Enter three numbers, separated by commas.6,6,6\n",
      "54\n"
     ]
    }
   ],
   "source": [
    "num_string = input(\"Enter three numbers, separated by commas.\")\n",
    "num_list = num_string.split(\",\")\n",
    "val_1 = int(num_list[0])\n",
    "val_2 = int(num_list[1])\n",
    "val_3 = int(num_list[2])\n",
    "if val_1 == val_2 == val_3:\n",
    "    print(3*sum([val_1, val_2, val_3]))\n",
    "else:\n",
    "    print(sum([val_1, val_2, val_3]))"
   ]
  },
  {
   "cell_type": "code",
   "execution_count": 31,
   "metadata": {},
   "outputs": [
    {
     "data": {
      "text/plain": [
       "5"
      ]
     },
     "execution_count": 31,
     "metadata": {},
     "output_type": "execute_result"
    }
   ],
   "source": [
    "sum([2,3])"
   ]
  },
  {
   "cell_type": "code",
   "execution_count": 37,
   "metadata": {},
   "outputs": [
    {
     "name": "stdout",
     "output_type": "stream",
     "text": [
      "1\n",
      "2\n",
      "Fizz\n",
      "4\n",
      "Buzz\n",
      "Fizz\n",
      "7\n",
      "8\n",
      "Fizz\n",
      "Buzz\n",
      "11\n",
      "Fizz\n",
      "13\n",
      "14\n",
      "FizzBuzz\n",
      "16\n",
      "17\n",
      "Fizz\n",
      "19\n",
      "Buzz\n",
      "Fizz\n",
      "22\n",
      "23\n",
      "Fizz\n",
      "Buzz\n",
      "26\n",
      "Fizz\n",
      "28\n",
      "29\n",
      "FizzBuzz\n",
      "31\n",
      "32\n",
      "Fizz\n",
      "34\n",
      "Buzz\n",
      "Fizz\n",
      "37\n",
      "38\n",
      "Fizz\n",
      "Buzz\n",
      "41\n",
      "Fizz\n",
      "43\n",
      "44\n",
      "FizzBuzz\n",
      "46\n",
      "47\n",
      "Fizz\n",
      "49\n",
      "Buzz\n",
      "Fizz\n",
      "52\n",
      "53\n",
      "Fizz\n",
      "Buzz\n",
      "56\n",
      "Fizz\n",
      "58\n",
      "59\n",
      "FizzBuzz\n",
      "61\n",
      "62\n",
      "Fizz\n",
      "64\n",
      "Buzz\n",
      "Fizz\n",
      "67\n",
      "68\n",
      "Fizz\n",
      "Buzz\n",
      "71\n",
      "Fizz\n",
      "73\n",
      "74\n",
      "FizzBuzz\n",
      "76\n",
      "77\n",
      "Fizz\n",
      "79\n",
      "Buzz\n",
      "Fizz\n",
      "82\n",
      "83\n",
      "Fizz\n",
      "Buzz\n",
      "86\n",
      "Fizz\n",
      "88\n",
      "89\n",
      "FizzBuzz\n",
      "91\n",
      "92\n",
      "Fizz\n",
      "94\n",
      "Buzz\n",
      "Fizz\n",
      "97\n",
      "98\n",
      "Fizz\n",
      "Buzz\n"
     ]
    }
   ],
   "source": [
    "for n in range(1,101):\n",
    "    if (n % 3 == 0) & (n % 5 == 0):\n",
    "        print(\"FizzBuzz\")\n",
    "    elif n % 3 == 0:\n",
    "        print(\"Fizz\")\n",
    "    elif n % 5 == 0:\n",
    "        print(\"Buzz\")\n",
    "    else:\n",
    "        print(n)"
   ]
  },
  {
   "cell_type": "code",
   "execution_count": 39,
   "metadata": {},
   "outputs": [
    {
     "name": "stdout",
     "output_type": "stream",
     "text": [
      "Enter the base of the triangle10\n",
      "Enter the height of a triangle6\n",
      "30.0\n"
     ]
    }
   ],
   "source": [
    "base = input(\"Enter the base of the triangle\")\n",
    "height = input(\"Enter the height of a triangle\")\n",
    "base = int(base)\n",
    "height = int(height)\n",
    "print((base*height)/2)"
   ]
  },
  {
   "cell_type": "code",
   "execution_count": 47,
   "metadata": {},
   "outputs": [
    {
     "name": "stdout",
     "output_type": "stream",
     "text": [
      "Enter one number50\n",
      "Enter another number65\n",
      "True\n"
     ]
    }
   ],
   "source": [
    "val_1 = input(\"Enter one number\")\n",
    "val_2 = input(\"Enter another number\")\n",
    "val_1 = int(val_1)\n",
    "val_2 = int(val_2)\n",
    "\n",
    "if (val_1 == val_2) or (abs(val_1 - val_2)) or (val_1 + val_2 == 5):\n",
    "    print(True)\n",
    "else:\n",
    "    print(\"No dice\")"
   ]
  },
  {
   "cell_type": "code",
   "execution_count": 51,
   "metadata": {},
   "outputs": [
    {
     "name": "stdout",
     "output_type": "stream",
     "text": [
      "Enter one number10\n",
      "Enter another number43\n",
      "No dice\n"
     ]
    }
   ],
   "source": [
    "val_1 = input(\"Enter one number\")\n",
    "val_2 = input(\"Enter another number\")\n",
    "val_1 = int(val_1)\n",
    "val_2 = int(val_2)\n",
    "\n",
    "if val_1 == val_2:\n",
    "    print(True)\n",
    "elif abs(val_1 - val_2) == 5 or val_1 + val_2 == 5:\n",
    "    print(True)\n",
    "else:\n",
    "    print(\"No dice\")"
   ]
  },
  {
   "cell_type": "code",
   "execution_count": 7,
   "metadata": {},
   "outputs": [
    {
     "name": "stdout",
     "output_type": "stream",
     "text": [
      "Hello, Hello\n"
     ]
    }
   ],
   "source": [
    "string = 'Hello There'\n",
    "print(', '.join([string[:5]] * 2))"
   ]
  },
  {
   "cell_type": "code",
   "execution_count": 8,
   "metadata": {},
   "outputs": [],
   "source": [
    "something = [', '.join([string[:5]] * 2)]"
   ]
  },
  {
   "cell_type": "code",
   "execution_count": 9,
   "metadata": {},
   "outputs": [
    {
     "name": "stdout",
     "output_type": "stream",
     "text": [
      "['Hello, Hello']\n"
     ]
    }
   ],
   "source": [
    "print(something)"
   ]
  },
  {
   "cell_type": "code",
   "execution_count": 12,
   "metadata": {},
   "outputs": [
    {
     "name": "stdout",
     "output_type": "stream",
     "text": [
      "Hamlet, Hamlet, Hamlet\n"
     ]
    }
   ],
   "source": [
    "print(*3*('Hamlet',), sep=', ')"
   ]
  },
  {
   "cell_type": "code",
   "execution_count": 15,
   "metadata": {},
   "outputs": [
    {
     "ename": "SyntaxError",
     "evalue": "invalid syntax (<ipython-input-15-6593076fa74f>, line 1)",
     "output_type": "error",
     "traceback": [
      "\u001b[1;36m  File \u001b[1;32m\"<ipython-input-15-6593076fa74f>\"\u001b[1;36m, line \u001b[1;32m1\u001b[0m\n\u001b[1;33m    whatever = list((*3*('Hamlet',), sep= ', '))\u001b[0m\n\u001b[1;37m                                        ^\u001b[0m\n\u001b[1;31mSyntaxError\u001b[0m\u001b[1;31m:\u001b[0m invalid syntax\n"
     ]
    }
   ],
   "source": [
    "whatever = list((*3*('Hamlet',), sep= ', '))\n",
    "print(whatever)"
   ]
  },
  {
   "cell_type": "code",
   "execution_count": 16,
   "metadata": {},
   "outputs": [
    {
     "name": "stdout",
     "output_type": "stream",
     "text": [
      "['Hamlet', 'Hamlet', 'Hamlet', 'Hamlet', 'Hamlet', 'Hamlet', 'Hamlet', 'Hamlet', 'Hamlet', 'Hamlet']\n"
     ]
    }
   ],
   "source": [
    "text_source = []\n",
    "for i in range(0,10):\n",
    "    text_source.append(\"Hamlet\")\n",
    "    \n",
    "print(text_source)"
   ]
  },
  {
   "cell_type": "code",
   "execution_count": null,
   "metadata": {},
   "outputs": [],
   "source": []
  }
 ],
 "metadata": {
  "kernelspec": {
   "display_name": "Python 3",
   "language": "python",
   "name": "python3"
  },
  "language_info": {
   "codemirror_mode": {
    "name": "ipython",
    "version": 3
   },
   "file_extension": ".py",
   "mimetype": "text/x-python",
   "name": "python",
   "nbconvert_exporter": "python",
   "pygments_lexer": "ipython3",
   "version": "3.6.5"
  }
 },
 "nbformat": 4,
 "nbformat_minor": 2
}
