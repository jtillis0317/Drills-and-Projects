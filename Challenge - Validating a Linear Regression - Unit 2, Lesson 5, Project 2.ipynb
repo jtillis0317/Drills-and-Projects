{
 "cells": [
  {
   "cell_type": "code",
   "execution_count": 33,
   "metadata": {},
   "outputs": [],
   "source": [
    "import numpy as np\n",
    "import pandas as pd\n",
    "import matplotlib.pyplot as plt\n",
    "from sklearn import linear_model\n",
    "%matplotlib inline\n",
    "pd.options.display.float_format = \"{:.8f}\".format\n",
    "\n",
    "import warnings\n",
    "warnings.filterwarnings(action=\"ignore\", module=\"scipy\", message=\"^internalgelsd\")\n",
    "\n",
    "import math\n",
    "from IPython.display import display\n",
    "import seaborn as sns\n",
    "import statsmodels.formula.api as smf\n",
    "from statsmodels.sandbox.regression.predstd import wls_prediction_std\n",
    "\n",
    "sns.set_style(\"white\")\n"
   ]
  },
  {
   "cell_type": "code",
   "execution_count": 34,
   "metadata": {},
   "outputs": [],
   "source": [
    "df = pd.read_csv(\"df_crime\")"
   ]
  },
  {
   "cell_type": "code",
   "execution_count": 35,
   "metadata": {},
   "outputs": [],
   "source": [
    "dftest = pd.read_csv(\"dftest_crime\")"
   ]
  },
  {
   "cell_type": "markdown",
   "metadata": {},
   "source": [
    "### Validating the Regression Model"
   ]
  },
  {
   "cell_type": "code",
   "execution_count": 36,
   "metadata": {},
   "outputs": [
    {
     "data": {
      "text/html": [
       "<div>\n",
       "<style scoped>\n",
       "    .dataframe tbody tr th:only-of-type {\n",
       "        vertical-align: middle;\n",
       "    }\n",
       "\n",
       "    .dataframe tbody tr th {\n",
       "        vertical-align: top;\n",
       "    }\n",
       "\n",
       "    .dataframe thead th {\n",
       "        text-align: right;\n",
       "    }\n",
       "</style>\n",
       "<table border=\"1\" class=\"dataframe\">\n",
       "  <thead>\n",
       "    <tr style=\"text-align: right;\">\n",
       "      <th></th>\n",
       "      <th>Unnamed: 0</th>\n",
       "      <th>Unnamed: 0.1</th>\n",
       "      <th>City</th>\n",
       "      <th>Population</th>\n",
       "      <th>Violent Crime</th>\n",
       "      <th>Murder and Manslaughter</th>\n",
       "      <th>Rape - revised</th>\n",
       "      <th>Rape - legacy</th>\n",
       "      <th>Robbery</th>\n",
       "      <th>Aggravated Assault</th>\n",
       "      <th>...</th>\n",
       "      <th>Larceny</th>\n",
       "      <th>Motor Vehicle Theft</th>\n",
       "      <th>Arson</th>\n",
       "      <th>MurderCat</th>\n",
       "      <th>Pop Squared</th>\n",
       "      <th>RobberyCat</th>\n",
       "      <th>ArsonCat</th>\n",
       "      <th>CarTheftCat</th>\n",
       "      <th>Predicted</th>\n",
       "      <th>Residual</th>\n",
       "    </tr>\n",
       "  </thead>\n",
       "  <tbody>\n",
       "    <tr>\n",
       "      <th>0</th>\n",
       "      <td>0</td>\n",
       "      <td>0</td>\n",
       "      <td>Adams Village</td>\n",
       "      <td>1861.00000000</td>\n",
       "      <td>0</td>\n",
       "      <td>0.00000000</td>\n",
       "      <td>nan</td>\n",
       "      <td>0</td>\n",
       "      <td>0.00000000</td>\n",
       "      <td>0</td>\n",
       "      <td>...</td>\n",
       "      <td>10</td>\n",
       "      <td>0.00000000</td>\n",
       "      <td>0.00000000</td>\n",
       "      <td>0.00000000</td>\n",
       "      <td>3463321.00000000</td>\n",
       "      <td>0.00000000</td>\n",
       "      <td>0</td>\n",
       "      <td>0</td>\n",
       "      <td>-18.80897778</td>\n",
       "      <td>-30.80897778</td>\n",
       "    </tr>\n",
       "    <tr>\n",
       "      <th>1</th>\n",
       "      <td>1</td>\n",
       "      <td>1</td>\n",
       "      <td>Addison Town and Village</td>\n",
       "      <td>2577.00000000</td>\n",
       "      <td>3</td>\n",
       "      <td>0.00000000</td>\n",
       "      <td>nan</td>\n",
       "      <td>0</td>\n",
       "      <td>0.00000000</td>\n",
       "      <td>3</td>\n",
       "      <td>...</td>\n",
       "      <td>20</td>\n",
       "      <td>1.00000000</td>\n",
       "      <td>0.00000000</td>\n",
       "      <td>0.00000000</td>\n",
       "      <td>6640929.00000000</td>\n",
       "      <td>0.00000000</td>\n",
       "      <td>0</td>\n",
       "      <td>1</td>\n",
       "      <td>-7.36603204</td>\n",
       "      <td>-31.36603204</td>\n",
       "    </tr>\n",
       "    <tr>\n",
       "      <th>2</th>\n",
       "      <td>2</td>\n",
       "      <td>2</td>\n",
       "      <td>Akron Village</td>\n",
       "      <td>2846.00000000</td>\n",
       "      <td>3</td>\n",
       "      <td>0.00000000</td>\n",
       "      <td>nan</td>\n",
       "      <td>0</td>\n",
       "      <td>0.00000000</td>\n",
       "      <td>3</td>\n",
       "      <td>...</td>\n",
       "      <td>15</td>\n",
       "      <td>0.00000000</td>\n",
       "      <td>0.00000000</td>\n",
       "      <td>0.00000000</td>\n",
       "      <td>8099716.00000000</td>\n",
       "      <td>0.00000000</td>\n",
       "      <td>0</td>\n",
       "      <td>0</td>\n",
       "      <td>6.68466670</td>\n",
       "      <td>-9.31533330</td>\n",
       "    </tr>\n",
       "    <tr>\n",
       "      <th>3</th>\n",
       "      <td>3</td>\n",
       "      <td>4</td>\n",
       "      <td>Albion Village</td>\n",
       "      <td>6388.00000000</td>\n",
       "      <td>23</td>\n",
       "      <td>0.00000000</td>\n",
       "      <td>nan</td>\n",
       "      <td>3</td>\n",
       "      <td>4.00000000</td>\n",
       "      <td>16</td>\n",
       "      <td>...</td>\n",
       "      <td>165</td>\n",
       "      <td>5.00000000</td>\n",
       "      <td>nan</td>\n",
       "      <td>0.00000000</td>\n",
       "      <td>40806544.00000000</td>\n",
       "      <td>1.00000000</td>\n",
       "      <td>0</td>\n",
       "      <td>1</td>\n",
       "      <td>80.03813105</td>\n",
       "      <td>-142.96186895</td>\n",
       "    </tr>\n",
       "    <tr>\n",
       "      <th>4</th>\n",
       "      <td>4</td>\n",
       "      <td>5</td>\n",
       "      <td>Alfred Village</td>\n",
       "      <td>4089.00000000</td>\n",
       "      <td>5</td>\n",
       "      <td>0.00000000</td>\n",
       "      <td>nan</td>\n",
       "      <td>0</td>\n",
       "      <td>3.00000000</td>\n",
       "      <td>2</td>\n",
       "      <td>...</td>\n",
       "      <td>36</td>\n",
       "      <td>0.00000000</td>\n",
       "      <td>nan</td>\n",
       "      <td>0.00000000</td>\n",
       "      <td>16719921.00000000</td>\n",
       "      <td>1.00000000</td>\n",
       "      <td>0</td>\n",
       "      <td>0</td>\n",
       "      <td>27.62418104</td>\n",
       "      <td>-18.37581896</td>\n",
       "    </tr>\n",
       "  </tbody>\n",
       "</table>\n",
       "<p>5 rows × 22 columns</p>\n",
       "</div>"
      ],
      "text/plain": [
       "   Unnamed: 0  Unnamed: 0.1                      City    Population  \\\n",
       "0           0             0             Adams Village 1861.00000000   \n",
       "1           1             1  Addison Town and Village 2577.00000000   \n",
       "2           2             2             Akron Village 2846.00000000   \n",
       "3           3             4            Albion Village 6388.00000000   \n",
       "4           4             5            Alfred Village 4089.00000000   \n",
       "\n",
       "   Violent Crime  Murder and Manslaughter  Rape - revised  Rape - legacy  \\\n",
       "0              0               0.00000000             nan              0   \n",
       "1              3               0.00000000             nan              0   \n",
       "2              3               0.00000000             nan              0   \n",
       "3             23               0.00000000             nan              3   \n",
       "4              5               0.00000000             nan              0   \n",
       "\n",
       "     Robbery  Aggravated Assault      ...       Larceny  Motor Vehicle Theft  \\\n",
       "0 0.00000000                   0      ...            10           0.00000000   \n",
       "1 0.00000000                   3      ...            20           1.00000000   \n",
       "2 0.00000000                   3      ...            15           0.00000000   \n",
       "3 4.00000000                  16      ...           165           5.00000000   \n",
       "4 3.00000000                   2      ...            36           0.00000000   \n",
       "\n",
       "       Arson  MurderCat       Pop Squared  RobberyCat  ArsonCat  CarTheftCat  \\\n",
       "0 0.00000000 0.00000000  3463321.00000000  0.00000000         0            0   \n",
       "1 0.00000000 0.00000000  6640929.00000000  0.00000000         0            1   \n",
       "2 0.00000000 0.00000000  8099716.00000000  0.00000000         0            0   \n",
       "3        nan 0.00000000 40806544.00000000  1.00000000         0            1   \n",
       "4        nan 0.00000000 16719921.00000000  1.00000000         0            0   \n",
       "\n",
       "     Predicted      Residual  \n",
       "0 -18.80897778  -30.80897778  \n",
       "1  -7.36603204  -31.36603204  \n",
       "2   6.68466670   -9.31533330  \n",
       "3  80.03813105 -142.96186895  \n",
       "4  27.62418104  -18.37581896  \n",
       "\n",
       "[5 rows x 22 columns]"
      ]
     },
     "execution_count": 36,
     "metadata": {},
     "output_type": "execute_result"
    }
   ],
   "source": [
    "df.head()"
   ]
  },
  {
   "cell_type": "code",
   "execution_count": 37,
   "metadata": {},
   "outputs": [
    {
     "data": {
      "text/html": [
       "<div>\n",
       "<style scoped>\n",
       "    .dataframe tbody tr th:only-of-type {\n",
       "        vertical-align: middle;\n",
       "    }\n",
       "\n",
       "    .dataframe tbody tr th {\n",
       "        vertical-align: top;\n",
       "    }\n",
       "\n",
       "    .dataframe thead th {\n",
       "        text-align: right;\n",
       "    }\n",
       "</style>\n",
       "<table border=\"1\" class=\"dataframe\">\n",
       "  <thead>\n",
       "    <tr style=\"text-align: right;\">\n",
       "      <th></th>\n",
       "      <th>Unnamed: 0</th>\n",
       "      <th>Unnamed: 0.1</th>\n",
       "      <th>City</th>\n",
       "      <th>Population</th>\n",
       "      <th>Violent Crime</th>\n",
       "      <th>Murder and Manslaughter</th>\n",
       "      <th>Rape - revised</th>\n",
       "      <th>Rape - legacy</th>\n",
       "      <th>Robbery</th>\n",
       "      <th>Aggravated Assault</th>\n",
       "      <th>PropertyCrime</th>\n",
       "      <th>Burglary</th>\n",
       "      <th>Larceny</th>\n",
       "      <th>Motor Vehicle Theft</th>\n",
       "      <th>Arson</th>\n",
       "      <th>MurderCat</th>\n",
       "      <th>RobberyCat</th>\n",
       "      <th>ArsonCat</th>\n",
       "      <th>CarTheftCat</th>\n",
       "    </tr>\n",
       "  </thead>\n",
       "  <tbody>\n",
       "    <tr>\n",
       "      <th>0</th>\n",
       "      <td>0</td>\n",
       "      <td>0</td>\n",
       "      <td>Adams Village</td>\n",
       "      <td>1851.00000000</td>\n",
       "      <td>0.00000000</td>\n",
       "      <td>0.00000000</td>\n",
       "      <td>nan</td>\n",
       "      <td>0.00000000</td>\n",
       "      <td>0.00000000</td>\n",
       "      <td>0.00000000</td>\n",
       "      <td>11.00000000</td>\n",
       "      <td>1.00000000</td>\n",
       "      <td>10.00000000</td>\n",
       "      <td>0.00000000</td>\n",
       "      <td>0.00000000</td>\n",
       "      <td>0.00000000</td>\n",
       "      <td>0.00000000</td>\n",
       "      <td>0</td>\n",
       "      <td>0</td>\n",
       "    </tr>\n",
       "    <tr>\n",
       "      <th>1</th>\n",
       "      <td>1</td>\n",
       "      <td>1</td>\n",
       "      <td>Addison Town and Village</td>\n",
       "      <td>2568.00000000</td>\n",
       "      <td>2.00000000</td>\n",
       "      <td>0.00000000</td>\n",
       "      <td>nan</td>\n",
       "      <td>0.00000000</td>\n",
       "      <td>1.00000000</td>\n",
       "      <td>1.00000000</td>\n",
       "      <td>49.00000000</td>\n",
       "      <td>1.00000000</td>\n",
       "      <td>47.00000000</td>\n",
       "      <td>1.00000000</td>\n",
       "      <td>0.00000000</td>\n",
       "      <td>0.00000000</td>\n",
       "      <td>1.00000000</td>\n",
       "      <td>0</td>\n",
       "      <td>1</td>\n",
       "    </tr>\n",
       "    <tr>\n",
       "      <th>2</th>\n",
       "      <td>2</td>\n",
       "      <td>2</td>\n",
       "      <td>Afton Village4</td>\n",
       "      <td>820.00000000</td>\n",
       "      <td>0.00000000</td>\n",
       "      <td>0.00000000</td>\n",
       "      <td>0.00000000</td>\n",
       "      <td>nan</td>\n",
       "      <td>0.00000000</td>\n",
       "      <td>0.00000000</td>\n",
       "      <td>1.00000000</td>\n",
       "      <td>0.00000000</td>\n",
       "      <td>1.00000000</td>\n",
       "      <td>0.00000000</td>\n",
       "      <td>0.00000000</td>\n",
       "      <td>0.00000000</td>\n",
       "      <td>0.00000000</td>\n",
       "      <td>0</td>\n",
       "      <td>0</td>\n",
       "    </tr>\n",
       "    <tr>\n",
       "      <th>3</th>\n",
       "      <td>3</td>\n",
       "      <td>3</td>\n",
       "      <td>Akron Village</td>\n",
       "      <td>2842.00000000</td>\n",
       "      <td>1.00000000</td>\n",
       "      <td>0.00000000</td>\n",
       "      <td>nan</td>\n",
       "      <td>0.00000000</td>\n",
       "      <td>0.00000000</td>\n",
       "      <td>1.00000000</td>\n",
       "      <td>17.00000000</td>\n",
       "      <td>0.00000000</td>\n",
       "      <td>17.00000000</td>\n",
       "      <td>0.00000000</td>\n",
       "      <td>0.00000000</td>\n",
       "      <td>0.00000000</td>\n",
       "      <td>0.00000000</td>\n",
       "      <td>0</td>\n",
       "      <td>0</td>\n",
       "    </tr>\n",
       "    <tr>\n",
       "      <th>4</th>\n",
       "      <td>4</td>\n",
       "      <td>4</td>\n",
       "      <td>Albany4</td>\n",
       "      <td>98595.00000000</td>\n",
       "      <td>802.00000000</td>\n",
       "      <td>8.00000000</td>\n",
       "      <td>54.00000000</td>\n",
       "      <td>nan</td>\n",
       "      <td>237.00000000</td>\n",
       "      <td>503.00000000</td>\n",
       "      <td>3888.00000000</td>\n",
       "      <td>683.00000000</td>\n",
       "      <td>3083.00000000</td>\n",
       "      <td>122.00000000</td>\n",
       "      <td>12.00000000</td>\n",
       "      <td>1.00000000</td>\n",
       "      <td>2.00000000</td>\n",
       "      <td>1</td>\n",
       "      <td>2</td>\n",
       "    </tr>\n",
       "  </tbody>\n",
       "</table>\n",
       "</div>"
      ],
      "text/plain": [
       "   Unnamed: 0  Unnamed: 0.1                      City     Population  \\\n",
       "0           0             0             Adams Village  1851.00000000   \n",
       "1           1             1  Addison Town and Village  2568.00000000   \n",
       "2           2             2            Afton Village4   820.00000000   \n",
       "3           3             3             Akron Village  2842.00000000   \n",
       "4           4             4                   Albany4 98595.00000000   \n",
       "\n",
       "   Violent Crime  Murder and Manslaughter  Rape - revised  Rape - legacy  \\\n",
       "0     0.00000000               0.00000000             nan     0.00000000   \n",
       "1     2.00000000               0.00000000             nan     0.00000000   \n",
       "2     0.00000000               0.00000000      0.00000000            nan   \n",
       "3     1.00000000               0.00000000             nan     0.00000000   \n",
       "4   802.00000000               8.00000000     54.00000000            nan   \n",
       "\n",
       "       Robbery  Aggravated Assault  PropertyCrime     Burglary       Larceny  \\\n",
       "0   0.00000000          0.00000000    11.00000000   1.00000000   10.00000000   \n",
       "1   1.00000000          1.00000000    49.00000000   1.00000000   47.00000000   \n",
       "2   0.00000000          0.00000000     1.00000000   0.00000000    1.00000000   \n",
       "3   0.00000000          1.00000000    17.00000000   0.00000000   17.00000000   \n",
       "4 237.00000000        503.00000000  3888.00000000 683.00000000 3083.00000000   \n",
       "\n",
       "   Motor Vehicle Theft       Arson  MurderCat  RobberyCat  ArsonCat  \\\n",
       "0           0.00000000  0.00000000 0.00000000  0.00000000         0   \n",
       "1           1.00000000  0.00000000 0.00000000  1.00000000         0   \n",
       "2           0.00000000  0.00000000 0.00000000  0.00000000         0   \n",
       "3           0.00000000  0.00000000 0.00000000  0.00000000         0   \n",
       "4         122.00000000 12.00000000 1.00000000  2.00000000         1   \n",
       "\n",
       "   CarTheftCat  \n",
       "0            0  \n",
       "1            1  \n",
       "2            0  \n",
       "3            0  \n",
       "4            2  "
      ]
     },
     "execution_count": 37,
     "metadata": {},
     "output_type": "execute_result"
    }
   ],
   "source": [
    "dftest.head()"
   ]
  },
  {
   "cell_type": "code",
   "execution_count": 38,
   "metadata": {},
   "outputs": [],
   "source": [
    "linear_formula = \"PropertyCrime ~ Population+MurderCat+RobberyCat+CarTheftCat+ArsonCat\"\n",
    "\n",
    "#lm = smf.ols(formula=linear_formula, data=df).fit()"
   ]
  },
  {
   "cell_type": "code",
   "execution_count": 39,
   "metadata": {},
   "outputs": [],
   "source": [
    "lm = smf.ols(formula=linear_formula, data=df).fit()"
   ]
  },
  {
   "cell_type": "code",
   "execution_count": 40,
   "metadata": {},
   "outputs": [
    {
     "data": {
      "text/plain": [
       "Intercept     -61.89739300\n",
       "Population      0.01775231\n",
       "MurderCat      -4.35042795\n",
       "RobberyCat     88.37490712\n",
       "CarTheftCat    19.63899835\n",
       "ArsonCat       98.88962120\n",
       "dtype: float64"
      ]
     },
     "execution_count": 40,
     "metadata": {},
     "output_type": "execute_result"
    }
   ],
   "source": [
    "lm.params\n"
   ]
  },
  {
   "cell_type": "code",
   "execution_count": 41,
   "metadata": {},
   "outputs": [
    {
     "data": {
      "text/plain": [
       "Intercept     0.00004386\n",
       "Population    0.00000000\n",
       "MurderCat     0.89342920\n",
       "RobberyCat    0.00000349\n",
       "CarTheftCat   0.30366764\n",
       "ArsonCat      0.00682042\n",
       "dtype: float64"
      ]
     },
     "execution_count": 41,
     "metadata": {},
     "output_type": "execute_result"
    }
   ],
   "source": [
    "lm.pvalues\n",
    "#MurderCat and CarTheftCat are both above a value of .05, so they are probably not having a significant impact on the model"
   ]
  },
  {
   "cell_type": "code",
   "execution_count": 42,
   "metadata": {},
   "outputs": [
    {
     "data": {
      "text/plain": [
       "0.7974572096661988"
      ]
     },
     "execution_count": 42,
     "metadata": {},
     "output_type": "execute_result"
    }
   ],
   "source": [
    "lm.rsquared"
   ]
  },
  {
   "cell_type": "code",
   "execution_count": 43,
   "metadata": {},
   "outputs": [],
   "source": [
    "linear_formula = \"PropertyCrime ~ Population+RobberyCat+ArsonCat\""
   ]
  },
  {
   "cell_type": "code",
   "execution_count": 44,
   "metadata": {},
   "outputs": [],
   "source": [
    "lm = smf.ols(formula=linear_formula, data=df).fit()"
   ]
  },
  {
   "cell_type": "code",
   "execution_count": 45,
   "metadata": {},
   "outputs": [
    {
     "data": {
      "text/plain": [
       "Intercept    -53.92756985\n",
       "Population     0.01801319\n",
       "RobberyCat    95.80392363\n",
       "ArsonCat     101.94625217\n",
       "dtype: float64"
      ]
     },
     "execution_count": 45,
     "metadata": {},
     "output_type": "execute_result"
    }
   ],
   "source": [
    "lm.params"
   ]
  },
  {
   "cell_type": "code",
   "execution_count": 46,
   "metadata": {},
   "outputs": [
    {
     "data": {
      "text/plain": [
       "0.7967955533644241"
      ]
     },
     "execution_count": 46,
     "metadata": {},
     "output_type": "execute_result"
    }
   ],
   "source": [
    "lm.rsquared\n",
    "#removing those two parameters did not affect the rsquared value"
   ]
  },
  {
   "cell_type": "code",
   "execution_count": 47,
   "metadata": {},
   "outputs": [
    {
     "data": {
      "text/plain": [
       "Unnamed: 0                   int64\n",
       "Unnamed: 0.1                 int64\n",
       "City                        object\n",
       "Population                 float64\n",
       "Violent Crime              float64\n",
       "Murder and Manslaughter    float64\n",
       "Rape - revised             float64\n",
       "Rape - legacy              float64\n",
       "Robbery                    float64\n",
       "Aggravated Assault         float64\n",
       "PropertyCrime              float64\n",
       "Burglary                   float64\n",
       "Larceny                    float64\n",
       "Motor Vehicle Theft        float64\n",
       "Arson                      float64\n",
       "MurderCat                  float64\n",
       "RobberyCat                 float64\n",
       "ArsonCat                     int64\n",
       "CarTheftCat                  int64\n",
       "dtype: object"
      ]
     },
     "execution_count": 47,
     "metadata": {},
     "output_type": "execute_result"
    }
   ],
   "source": [
    "dftest.dtypes"
   ]
  },
  {
   "cell_type": "code",
   "execution_count": 64,
   "metadata": {},
   "outputs": [],
   "source": [
    "model1 = \"PropertyCrime ~ Population+RobberyCat+ArsonCat\"\n",
    "\n",
    "lm = smf.ols(formula=model1, data=dftest).fit()"
   ]
  },
  {
   "cell_type": "code",
   "execution_count": 65,
   "metadata": {},
   "outputs": [
    {
     "data": {
      "text/plain": [
       "Intercept    -88.62122513\n",
       "Population     0.01602282\n",
       "RobberyCat   200.57681150\n",
       "ArsonCat     242.86279495\n",
       "dtype: float64"
      ]
     },
     "execution_count": 65,
     "metadata": {},
     "output_type": "execute_result"
    }
   ],
   "source": [
    "lm.params"
   ]
  },
  {
   "cell_type": "code",
   "execution_count": 66,
   "metadata": {},
   "outputs": [
    {
     "data": {
      "text/plain": [
       "Intercept    0.03443675\n",
       "Population   0.00000000\n",
       "RobberyCat   0.00002710\n",
       "ArsonCat     0.00850394\n",
       "dtype: float64"
      ]
     },
     "execution_count": 66,
     "metadata": {},
     "output_type": "execute_result"
    }
   ],
   "source": [
    "lm.pvalues"
   ]
  },
  {
   "cell_type": "code",
   "execution_count": 50,
   "metadata": {},
   "outputs": [
    {
     "data": {
      "text/plain": [
       "0.9933762819548052"
      ]
     },
     "execution_count": 50,
     "metadata": {},
     "output_type": "execute_result"
    }
   ],
   "source": [
    "lm.rsquared"
   ]
  },
  {
   "cell_type": "code",
   "execution_count": 51,
   "metadata": {},
   "outputs": [],
   "source": [
    "#testing a model with more continuous features (as opposed to so many caterical features)\n",
    "\n",
    "model2 = \"PropertyCrime ~ Population+Robbery+Arson\"\n",
    "\n",
    "lm = smf.ols(formula=model2, data=df).fit()"
   ]
  },
  {
   "cell_type": "code",
   "execution_count": 52,
   "metadata": {},
   "outputs": [
    {
     "data": {
      "text/plain": [
       "0.8297644875716378"
      ]
     },
     "execution_count": 52,
     "metadata": {},
     "output_type": "execute_result"
    }
   ],
   "source": [
    "lm.rsquared\n",
    "\n",
    "#the rsquared with the continuous features is much higher"
   ]
  },
  {
   "cell_type": "code",
   "execution_count": 53,
   "metadata": {},
   "outputs": [
    {
     "data": {
      "text/plain": [
       "0.878377925494709"
      ]
     },
     "execution_count": 53,
     "metadata": {},
     "output_type": "execute_result"
    }
   ],
   "source": [
    "#trying the continuous features on the test data\n",
    "\n",
    "lm = smf.ols(formula=model2, data=dftest).fit()\n",
    "\n",
    "lm.rsquared\n",
    "\n",
    "#it made the test data rsquared number go down a bit (is it better than .99 because that could be overfitting?)"
   ]
  },
  {
   "cell_type": "code",
   "execution_count": 54,
   "metadata": {},
   "outputs": [
    {
     "data": {
      "text/plain": [
       "Intercept     9.25451302\n",
       "Population    0.01495999\n",
       "Robbery       1.90778167\n",
       "Arson        36.32246690\n",
       "dtype: float64"
      ]
     },
     "execution_count": 54,
     "metadata": {},
     "output_type": "execute_result"
    }
   ],
   "source": [
    "lm.params\n",
    "\n"
   ]
  },
  {
   "cell_type": "code",
   "execution_count": 55,
   "metadata": {},
   "outputs": [
    {
     "data": {
      "text/plain": [
       "Intercept    0.57688065\n",
       "Population   0.00000000\n",
       "Robbery      0.00313864\n",
       "Arson        0.00000000\n",
       "dtype: float64"
      ]
     },
     "execution_count": 55,
     "metadata": {},
     "output_type": "execute_result"
    }
   ],
   "source": [
    "lm.pvalues"
   ]
  },
  {
   "cell_type": "code",
   "execution_count": 58,
   "metadata": {},
   "outputs": [
    {
     "data": {
      "text/html": [
       "<div>\n",
       "<style scoped>\n",
       "    .dataframe tbody tr th:only-of-type {\n",
       "        vertical-align: middle;\n",
       "    }\n",
       "\n",
       "    .dataframe tbody tr th {\n",
       "        vertical-align: top;\n",
       "    }\n",
       "\n",
       "    .dataframe thead th {\n",
       "        text-align: right;\n",
       "    }\n",
       "</style>\n",
       "<table border=\"1\" class=\"dataframe\">\n",
       "  <thead>\n",
       "    <tr style=\"text-align: right;\">\n",
       "      <th></th>\n",
       "      <th>Unnamed: 0</th>\n",
       "      <th>Unnamed: 0.1</th>\n",
       "      <th>City</th>\n",
       "      <th>Population</th>\n",
       "      <th>Violent Crime</th>\n",
       "      <th>Murder and Manslaughter</th>\n",
       "      <th>Rape - revised</th>\n",
       "      <th>Rape - legacy</th>\n",
       "      <th>Robbery</th>\n",
       "      <th>Aggravated Assault</th>\n",
       "      <th>...</th>\n",
       "      <th>Larceny</th>\n",
       "      <th>Motor Vehicle Theft</th>\n",
       "      <th>Arson</th>\n",
       "      <th>MurderCat</th>\n",
       "      <th>Pop Squared</th>\n",
       "      <th>RobberyCat</th>\n",
       "      <th>ArsonCat</th>\n",
       "      <th>CarTheftCat</th>\n",
       "      <th>Predicted</th>\n",
       "      <th>Residual</th>\n",
       "    </tr>\n",
       "  </thead>\n",
       "  <tbody>\n",
       "    <tr>\n",
       "      <th>0</th>\n",
       "      <td>0</td>\n",
       "      <td>0</td>\n",
       "      <td>Adams Village</td>\n",
       "      <td>1861.00000000</td>\n",
       "      <td>0</td>\n",
       "      <td>0.00000000</td>\n",
       "      <td>nan</td>\n",
       "      <td>0</td>\n",
       "      <td>0.00000000</td>\n",
       "      <td>0</td>\n",
       "      <td>...</td>\n",
       "      <td>10</td>\n",
       "      <td>0.00000000</td>\n",
       "      <td>0.00000000</td>\n",
       "      <td>0.00000000</td>\n",
       "      <td>3463321.00000000</td>\n",
       "      <td>0.00000000</td>\n",
       "      <td>0</td>\n",
       "      <td>0</td>\n",
       "      <td>-18.80897778</td>\n",
       "      <td>-30.80897778</td>\n",
       "    </tr>\n",
       "    <tr>\n",
       "      <th>1</th>\n",
       "      <td>1</td>\n",
       "      <td>1</td>\n",
       "      <td>Addison Town and Village</td>\n",
       "      <td>2577.00000000</td>\n",
       "      <td>3</td>\n",
       "      <td>0.00000000</td>\n",
       "      <td>nan</td>\n",
       "      <td>0</td>\n",
       "      <td>0.00000000</td>\n",
       "      <td>3</td>\n",
       "      <td>...</td>\n",
       "      <td>20</td>\n",
       "      <td>1.00000000</td>\n",
       "      <td>0.00000000</td>\n",
       "      <td>0.00000000</td>\n",
       "      <td>6640929.00000000</td>\n",
       "      <td>0.00000000</td>\n",
       "      <td>0</td>\n",
       "      <td>1</td>\n",
       "      <td>-7.36603204</td>\n",
       "      <td>-31.36603204</td>\n",
       "    </tr>\n",
       "    <tr>\n",
       "      <th>2</th>\n",
       "      <td>2</td>\n",
       "      <td>2</td>\n",
       "      <td>Akron Village</td>\n",
       "      <td>2846.00000000</td>\n",
       "      <td>3</td>\n",
       "      <td>0.00000000</td>\n",
       "      <td>nan</td>\n",
       "      <td>0</td>\n",
       "      <td>0.00000000</td>\n",
       "      <td>3</td>\n",
       "      <td>...</td>\n",
       "      <td>15</td>\n",
       "      <td>0.00000000</td>\n",
       "      <td>0.00000000</td>\n",
       "      <td>0.00000000</td>\n",
       "      <td>8099716.00000000</td>\n",
       "      <td>0.00000000</td>\n",
       "      <td>0</td>\n",
       "      <td>0</td>\n",
       "      <td>6.68466670</td>\n",
       "      <td>-9.31533330</td>\n",
       "    </tr>\n",
       "    <tr>\n",
       "      <th>3</th>\n",
       "      <td>3</td>\n",
       "      <td>4</td>\n",
       "      <td>Albion Village</td>\n",
       "      <td>6388.00000000</td>\n",
       "      <td>23</td>\n",
       "      <td>0.00000000</td>\n",
       "      <td>nan</td>\n",
       "      <td>3</td>\n",
       "      <td>4.00000000</td>\n",
       "      <td>16</td>\n",
       "      <td>...</td>\n",
       "      <td>165</td>\n",
       "      <td>5.00000000</td>\n",
       "      <td>nan</td>\n",
       "      <td>0.00000000</td>\n",
       "      <td>40806544.00000000</td>\n",
       "      <td>1.00000000</td>\n",
       "      <td>0</td>\n",
       "      <td>1</td>\n",
       "      <td>80.03813105</td>\n",
       "      <td>-142.96186895</td>\n",
       "    </tr>\n",
       "    <tr>\n",
       "      <th>4</th>\n",
       "      <td>4</td>\n",
       "      <td>5</td>\n",
       "      <td>Alfred Village</td>\n",
       "      <td>4089.00000000</td>\n",
       "      <td>5</td>\n",
       "      <td>0.00000000</td>\n",
       "      <td>nan</td>\n",
       "      <td>0</td>\n",
       "      <td>3.00000000</td>\n",
       "      <td>2</td>\n",
       "      <td>...</td>\n",
       "      <td>36</td>\n",
       "      <td>0.00000000</td>\n",
       "      <td>nan</td>\n",
       "      <td>0.00000000</td>\n",
       "      <td>16719921.00000000</td>\n",
       "      <td>1.00000000</td>\n",
       "      <td>0</td>\n",
       "      <td>0</td>\n",
       "      <td>27.62418104</td>\n",
       "      <td>-18.37581896</td>\n",
       "    </tr>\n",
       "  </tbody>\n",
       "</table>\n",
       "<p>5 rows × 22 columns</p>\n",
       "</div>"
      ],
      "text/plain": [
       "   Unnamed: 0  Unnamed: 0.1                      City    Population  \\\n",
       "0           0             0             Adams Village 1861.00000000   \n",
       "1           1             1  Addison Town and Village 2577.00000000   \n",
       "2           2             2             Akron Village 2846.00000000   \n",
       "3           3             4            Albion Village 6388.00000000   \n",
       "4           4             5            Alfred Village 4089.00000000   \n",
       "\n",
       "   Violent Crime  Murder and Manslaughter  Rape - revised  Rape - legacy  \\\n",
       "0              0               0.00000000             nan              0   \n",
       "1              3               0.00000000             nan              0   \n",
       "2              3               0.00000000             nan              0   \n",
       "3             23               0.00000000             nan              3   \n",
       "4              5               0.00000000             nan              0   \n",
       "\n",
       "     Robbery  Aggravated Assault      ...       Larceny  Motor Vehicle Theft  \\\n",
       "0 0.00000000                   0      ...            10           0.00000000   \n",
       "1 0.00000000                   3      ...            20           1.00000000   \n",
       "2 0.00000000                   3      ...            15           0.00000000   \n",
       "3 4.00000000                  16      ...           165           5.00000000   \n",
       "4 3.00000000                   2      ...            36           0.00000000   \n",
       "\n",
       "       Arson  MurderCat       Pop Squared  RobberyCat  ArsonCat  CarTheftCat  \\\n",
       "0 0.00000000 0.00000000  3463321.00000000  0.00000000         0            0   \n",
       "1 0.00000000 0.00000000  6640929.00000000  0.00000000         0            1   \n",
       "2 0.00000000 0.00000000  8099716.00000000  0.00000000         0            0   \n",
       "3        nan 0.00000000 40806544.00000000  1.00000000         0            1   \n",
       "4        nan 0.00000000 16719921.00000000  1.00000000         0            0   \n",
       "\n",
       "     Predicted      Residual  \n",
       "0 -18.80897778  -30.80897778  \n",
       "1  -7.36603204  -31.36603204  \n",
       "2   6.68466670   -9.31533330  \n",
       "3  80.03813105 -142.96186895  \n",
       "4  27.62418104  -18.37581896  \n",
       "\n",
       "[5 rows x 22 columns]"
      ]
     },
     "execution_count": 58,
     "metadata": {},
     "output_type": "execute_result"
    }
   ],
   "source": [
    "df.head()"
   ]
  },
  {
   "cell_type": "code",
   "execution_count": 59,
   "metadata": {},
   "outputs": [
    {
     "name": "stdout",
     "output_type": "stream",
     "text": [
      "Model 1 on Training Set:  0.7967955533644241\n",
      "Model 2 on Training Set:  0.8297644875716378\n",
      "Model 1 on Test Set:  0.9933762819548052\n",
      "Model 2 on Test Set:  0.878377925494709\n"
     ]
    }
   ],
   "source": [
    "#checking the rsquared of both models on both the training set (2013) and test set (2014)\n",
    "\n",
    "model1 = \"PropertyCrime ~ Population+RobberyCat+ArsonCat\"   #categorical features\n",
    "model2 = \"PropertyCrime ~ Population+Robbery+Arson\"   #continuous features\n",
    "\n",
    "\n",
    "\n",
    "lm1_train = smf.ols(formula=model1, data=df).fit()\n",
    "lm2_train = smf.ols(formula=model2, data=df).fit()\n",
    "lm1_test = smf.ols(formula=model1, data=dftest).fit()\n",
    "lm2_test = smf.ols(formula=model2, data=dftest).fit()\n",
    "\n",
    "print(\"Model 1 on Training Set: \", lm1_train.rsquared)\n",
    "print(\"Model 2 on Training Set: \", lm2_train.rsquared)\n",
    "print(\"Model 1 on Test Set: \", lm1_test.rsquared)\n",
    "print(\"Model 2 on Test Set: \", lm2_test.rsquared)\n"
   ]
  },
  {
   "cell_type": "code",
   "execution_count": 60,
   "metadata": {},
   "outputs": [],
   "source": [
    "df.to_csv(\"df_crime\")"
   ]
  },
  {
   "cell_type": "code",
   "execution_count": 61,
   "metadata": {},
   "outputs": [],
   "source": [
    "dftest.to_csv(\"dftest_crime\")"
   ]
  },
  {
   "cell_type": "code",
   "execution_count": 62,
   "metadata": {},
   "outputs": [],
   "source": [
    "from sklearn.model_selection import train_test_split\n",
    "from sklearn.model_selection import cross_val_score"
   ]
  },
  {
   "cell_type": "code",
   "execution_count": 69,
   "metadata": {},
   "outputs": [
    {
     "data": {
      "text/plain": [
       "(332, 22)"
      ]
     },
     "execution_count": 69,
     "metadata": {},
     "output_type": "execute_result"
    }
   ],
   "source": [
    "df.shape"
   ]
  },
  {
   "cell_type": "code",
   "execution_count": 70,
   "metadata": {},
   "outputs": [
    {
     "data": {
      "text/plain": [
       "66.4"
      ]
     },
     "execution_count": 70,
     "metadata": {},
     "output_type": "execute_result"
    }
   ],
   "source": [
    "332/5\n"
   ]
  },
  {
   "cell_type": "code",
   "execution_count": 74,
   "metadata": {},
   "outputs": [
    {
     "name": "stdout",
     "output_type": "stream",
     "text": [
      "0.8297644875716378\n",
      "0.8297644875716378\n",
      "0.8297644875716378\n",
      "0.8297644875716378\n",
      "0.8297644875716378\n"
     ]
    }
   ],
   "source": [
    "#using the stronger model (model 2 - continuous variables) to test on 5 folds in the training dataset (looking for rsquared)\n",
    "#found that this model returned very consistent results on each fold\n",
    "fold1 = df.iloc[0:66, :]\n",
    "fold2 = df.iloc[66:122, :]\n",
    "fold3 = df.iloc[122:188, :]\n",
    "fold4 = df.iloc[188:254, :]\n",
    "fold5 = df.iloc[254:, :]\n",
    "\n",
    "folds = [fold1, fold2, fold3, fold4, fold5]\n",
    "\n",
    "for fold in folds:\n",
    "    model2 = \"PropertyCrime ~ Population+Robbery+Arson\"\n",
    "    lm = smf.ols(formula=model2, data=df).fit()\n",
    "    print(lm.rsquared)\n",
    "    "
   ]
  },
  {
   "cell_type": "code",
   "execution_count": 75,
   "metadata": {},
   "outputs": [
    {
     "data": {
      "text/plain": [
       "(376, 19)"
      ]
     },
     "execution_count": 75,
     "metadata": {},
     "output_type": "execute_result"
    }
   ],
   "source": [
    "dftest.shape"
   ]
  },
  {
   "cell_type": "code",
   "execution_count": 76,
   "metadata": {},
   "outputs": [
    {
     "data": {
      "text/plain": [
       "75.2"
      ]
     },
     "execution_count": 76,
     "metadata": {},
     "output_type": "execute_result"
    }
   ],
   "source": [
    "376/5\n"
   ]
  },
  {
   "cell_type": "code",
   "execution_count": 77,
   "metadata": {},
   "outputs": [
    {
     "name": "stdout",
     "output_type": "stream",
     "text": [
      "0.878377925494709\n",
      "0.878377925494709\n",
      "0.878377925494709\n",
      "0.878377925494709\n",
      "0.878377925494709\n"
     ]
    }
   ],
   "source": [
    "#using the stronger model (model 2 - continuous variables) to test on 5 folds in the test (2014) dataset (looking for rsquared)\n",
    "#found that this model returned very consistent results on each fold in the test dataset\n",
    "fold1 = dftest.iloc[0:75, :]\n",
    "fold2 = dftest.iloc[75:150, :]\n",
    "fold3 = dftest.iloc[150:225, :]\n",
    "fold4 = dftest.iloc[225:300, :]\n",
    "fold5 = dftest.iloc[300:, :]\n",
    "\n",
    "folds = [fold1, fold2, fold3, fold4, fold5]\n",
    "\n",
    "for fold in folds:\n",
    "    model2 = \"PropertyCrime ~ Population+Robbery+Arson\"\n",
    "    lm = smf.ols(formula=model2, data=dftest).fit()\n",
    "    print(lm.rsquared)"
   ]
  },
  {
   "cell_type": "markdown",
   "metadata": {},
   "source": [
    "In the end, the model with the continuous features explained more of the variance than the model with categorical features. \n",
    "\n",
    "In order to validate/test the model, I ran both models on a new set of data. The training set was New York crime data from 2013, and the test set was from 2014. I also tested out the stronger model (the one with continuous variables) on 5 folds of each set of data. The r-squared value was consistent for each holdout group."
   ]
  },
  {
   "cell_type": "code",
   "execution_count": null,
   "metadata": {},
   "outputs": [],
   "source": []
  }
 ],
 "metadata": {
  "kernelspec": {
   "display_name": "Python 3",
   "language": "python",
   "name": "python3"
  },
  "language_info": {
   "codemirror_mode": {
    "name": "ipython",
    "version": 3
   },
   "file_extension": ".py",
   "mimetype": "text/x-python",
   "name": "python",
   "nbconvert_exporter": "python",
   "pygments_lexer": "ipython3",
   "version": "3.6.5"
  }
 },
 "nbformat": 4,
 "nbformat_minor": 2
}
