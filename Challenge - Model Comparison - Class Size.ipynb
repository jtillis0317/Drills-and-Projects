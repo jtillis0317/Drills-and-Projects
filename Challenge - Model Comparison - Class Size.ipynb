{
 "cells": [
  {
   "cell_type": "markdown",
   "metadata": {},
   "source": [
    "Find a data set and build a KNN Regression and an OLS regression. Compare the two. How similar are they? Do they miss in different ways?\n",
    "\n",
    "Create a Jupyter notebook with your models. At the end in a markdown cell write a few paragraphs to describe the models' behaviors and why you favor one model or the other. Try to determine whether there is a situation where you would change your mind, or whether one is unambiguously better than the other. Lastly, try to note what it is about the data that causes the better model to outperform the weaker model. "
   ]
  },
  {
   "cell_type": "code",
   "execution_count": 112,
   "metadata": {},
   "outputs": [],
   "source": [
    "import numpy as np\n",
    "import pandas as pd\n",
    "import matplotlib.pyplot as plt\n",
    "%matplotlib inline\n",
    "from sklearn import linear_model\n",
    "import seaborn as sns\n",
    "import statsmodels.formula.api as smf\n",
    "from sklearn import neighbors"
   ]
  },
  {
   "cell_type": "code",
   "execution_count": 113,
   "metadata": {},
   "outputs": [],
   "source": [
    "df = pd.read_csv(\"Star.csv\")"
   ]
  },
  {
   "cell_type": "code",
   "execution_count": 114,
   "metadata": {},
   "outputs": [
    {
     "data": {
      "text/html": [
       "<div>\n",
       "<style scoped>\n",
       "    .dataframe tbody tr th:only-of-type {\n",
       "        vertical-align: middle;\n",
       "    }\n",
       "\n",
       "    .dataframe tbody tr th {\n",
       "        vertical-align: top;\n",
       "    }\n",
       "\n",
       "    .dataframe thead th {\n",
       "        text-align: right;\n",
       "    }\n",
       "</style>\n",
       "<table border=\"1\" class=\"dataframe\">\n",
       "  <thead>\n",
       "    <tr style=\"text-align: right;\">\n",
       "      <th></th>\n",
       "      <th>Unnamed: 0</th>\n",
       "      <th>tmathssk</th>\n",
       "      <th>treadssk</th>\n",
       "      <th>classk</th>\n",
       "      <th>totexpk</th>\n",
       "      <th>sex</th>\n",
       "      <th>freelunk</th>\n",
       "      <th>race</th>\n",
       "      <th>schidkn</th>\n",
       "    </tr>\n",
       "  </thead>\n",
       "  <tbody>\n",
       "    <tr>\n",
       "      <th>0</th>\n",
       "      <td>2</td>\n",
       "      <td>473</td>\n",
       "      <td>447</td>\n",
       "      <td>small.class</td>\n",
       "      <td>7</td>\n",
       "      <td>girl</td>\n",
       "      <td>no</td>\n",
       "      <td>white</td>\n",
       "      <td>63</td>\n",
       "    </tr>\n",
       "    <tr>\n",
       "      <th>1</th>\n",
       "      <td>3</td>\n",
       "      <td>536</td>\n",
       "      <td>450</td>\n",
       "      <td>small.class</td>\n",
       "      <td>21</td>\n",
       "      <td>girl</td>\n",
       "      <td>no</td>\n",
       "      <td>black</td>\n",
       "      <td>20</td>\n",
       "    </tr>\n",
       "    <tr>\n",
       "      <th>2</th>\n",
       "      <td>5</td>\n",
       "      <td>463</td>\n",
       "      <td>439</td>\n",
       "      <td>regular.with.aide</td>\n",
       "      <td>0</td>\n",
       "      <td>boy</td>\n",
       "      <td>yes</td>\n",
       "      <td>black</td>\n",
       "      <td>19</td>\n",
       "    </tr>\n",
       "    <tr>\n",
       "      <th>3</th>\n",
       "      <td>11</td>\n",
       "      <td>559</td>\n",
       "      <td>448</td>\n",
       "      <td>regular</td>\n",
       "      <td>16</td>\n",
       "      <td>boy</td>\n",
       "      <td>no</td>\n",
       "      <td>white</td>\n",
       "      <td>69</td>\n",
       "    </tr>\n",
       "    <tr>\n",
       "      <th>4</th>\n",
       "      <td>12</td>\n",
       "      <td>489</td>\n",
       "      <td>447</td>\n",
       "      <td>small.class</td>\n",
       "      <td>5</td>\n",
       "      <td>boy</td>\n",
       "      <td>yes</td>\n",
       "      <td>white</td>\n",
       "      <td>79</td>\n",
       "    </tr>\n",
       "  </tbody>\n",
       "</table>\n",
       "</div>"
      ],
      "text/plain": [
       "   Unnamed: 0  tmathssk  treadssk             classk  totexpk   sex freelunk  \\\n",
       "0           2       473       447        small.class        7  girl       no   \n",
       "1           3       536       450        small.class       21  girl       no   \n",
       "2           5       463       439  regular.with.aide        0   boy      yes   \n",
       "3          11       559       448            regular       16   boy       no   \n",
       "4          12       489       447        small.class        5   boy      yes   \n",
       "\n",
       "    race  schidkn  \n",
       "0  white       63  \n",
       "1  black       20  \n",
       "2  black       19  \n",
       "3  white       69  \n",
       "4  white       79  "
      ]
     },
     "execution_count": 114,
     "metadata": {},
     "output_type": "execute_result"
    }
   ],
   "source": [
    "df.head()"
   ]
  },
  {
   "cell_type": "code",
   "execution_count": 115,
   "metadata": {},
   "outputs": [
    {
     "data": {
      "text/plain": [
       "Unnamed: 0     int64\n",
       "tmathssk       int64\n",
       "treadssk       int64\n",
       "classk        object\n",
       "totexpk        int64\n",
       "sex           object\n",
       "freelunk      object\n",
       "race          object\n",
       "schidkn        int64\n",
       "dtype: object"
      ]
     },
     "execution_count": 115,
     "metadata": {},
     "output_type": "execute_result"
    }
   ],
   "source": [
    "df.dtypes"
   ]
  },
  {
   "cell_type": "code",
   "execution_count": 116,
   "metadata": {},
   "outputs": [
    {
     "data": {
      "text/html": [
       "<div>\n",
       "<style scoped>\n",
       "    .dataframe tbody tr th:only-of-type {\n",
       "        vertical-align: middle;\n",
       "    }\n",
       "\n",
       "    .dataframe tbody tr th {\n",
       "        vertical-align: top;\n",
       "    }\n",
       "\n",
       "    .dataframe thead th {\n",
       "        text-align: right;\n",
       "    }\n",
       "</style>\n",
       "<table border=\"1\" class=\"dataframe\">\n",
       "  <thead>\n",
       "    <tr style=\"text-align: right;\">\n",
       "      <th></th>\n",
       "      <th>Unnamed: 0</th>\n",
       "      <th>tmathssk</th>\n",
       "      <th>treadssk</th>\n",
       "      <th>totexpk</th>\n",
       "      <th>schidkn</th>\n",
       "    </tr>\n",
       "  </thead>\n",
       "  <tbody>\n",
       "    <tr>\n",
       "      <th>count</th>\n",
       "      <td>5748.000000</td>\n",
       "      <td>5748.000000</td>\n",
       "      <td>5748.000000</td>\n",
       "      <td>5748.000000</td>\n",
       "      <td>5748.000000</td>\n",
       "    </tr>\n",
       "    <tr>\n",
       "      <th>mean</th>\n",
       "      <td>5752.660404</td>\n",
       "      <td>485.648051</td>\n",
       "      <td>436.742345</td>\n",
       "      <td>9.307411</td>\n",
       "      <td>39.836639</td>\n",
       "    </tr>\n",
       "    <tr>\n",
       "      <th>std</th>\n",
       "      <td>3329.971901</td>\n",
       "      <td>47.771531</td>\n",
       "      <td>31.772857</td>\n",
       "      <td>5.767700</td>\n",
       "      <td>22.957552</td>\n",
       "    </tr>\n",
       "    <tr>\n",
       "      <th>min</th>\n",
       "      <td>2.000000</td>\n",
       "      <td>320.000000</td>\n",
       "      <td>315.000000</td>\n",
       "      <td>0.000000</td>\n",
       "      <td>1.000000</td>\n",
       "    </tr>\n",
       "    <tr>\n",
       "      <th>25%</th>\n",
       "      <td>2884.750000</td>\n",
       "      <td>454.000000</td>\n",
       "      <td>414.000000</td>\n",
       "      <td>5.000000</td>\n",
       "      <td>20.000000</td>\n",
       "    </tr>\n",
       "    <tr>\n",
       "      <th>50%</th>\n",
       "      <td>5733.500000</td>\n",
       "      <td>484.000000</td>\n",
       "      <td>433.000000</td>\n",
       "      <td>9.000000</td>\n",
       "      <td>39.000000</td>\n",
       "    </tr>\n",
       "    <tr>\n",
       "      <th>75%</th>\n",
       "      <td>8624.250000</td>\n",
       "      <td>513.000000</td>\n",
       "      <td>453.000000</td>\n",
       "      <td>13.000000</td>\n",
       "      <td>60.000000</td>\n",
       "    </tr>\n",
       "    <tr>\n",
       "      <th>max</th>\n",
       "      <td>11598.000000</td>\n",
       "      <td>626.000000</td>\n",
       "      <td>627.000000</td>\n",
       "      <td>27.000000</td>\n",
       "      <td>80.000000</td>\n",
       "    </tr>\n",
       "  </tbody>\n",
       "</table>\n",
       "</div>"
      ],
      "text/plain": [
       "         Unnamed: 0     tmathssk     treadssk      totexpk      schidkn\n",
       "count   5748.000000  5748.000000  5748.000000  5748.000000  5748.000000\n",
       "mean    5752.660404   485.648051   436.742345     9.307411    39.836639\n",
       "std     3329.971901    47.771531    31.772857     5.767700    22.957552\n",
       "min        2.000000   320.000000   315.000000     0.000000     1.000000\n",
       "25%     2884.750000   454.000000   414.000000     5.000000    20.000000\n",
       "50%     5733.500000   484.000000   433.000000     9.000000    39.000000\n",
       "75%     8624.250000   513.000000   453.000000    13.000000    60.000000\n",
       "max    11598.000000   626.000000   627.000000    27.000000    80.000000"
      ]
     },
     "execution_count": 116,
     "metadata": {},
     "output_type": "execute_result"
    }
   ],
   "source": [
    "df.describe()"
   ]
  },
  {
   "cell_type": "code",
   "execution_count": 117,
   "metadata": {},
   "outputs": [],
   "source": [
    "#creating features to predict math scaled score in an OLS regression\n",
    "\n",
    "df[\"class size\"] = np.where(df[\"classk\"] == \"small.class\", 1, (np.where(df[\"classk\"] == \"regular.with.aide\", 2, \n",
    "                                                                        (np.where(df[\"classk\"] == \"regular\", 3, \"undetermined\")))))"
   ]
  },
  {
   "cell_type": "code",
   "execution_count": 118,
   "metadata": {},
   "outputs": [
    {
     "data": {
      "text/html": [
       "<div>\n",
       "<style scoped>\n",
       "    .dataframe tbody tr th:only-of-type {\n",
       "        vertical-align: middle;\n",
       "    }\n",
       "\n",
       "    .dataframe tbody tr th {\n",
       "        vertical-align: top;\n",
       "    }\n",
       "\n",
       "    .dataframe thead th {\n",
       "        text-align: right;\n",
       "    }\n",
       "</style>\n",
       "<table border=\"1\" class=\"dataframe\">\n",
       "  <thead>\n",
       "    <tr style=\"text-align: right;\">\n",
       "      <th></th>\n",
       "      <th>Unnamed: 0</th>\n",
       "      <th>tmathssk</th>\n",
       "      <th>treadssk</th>\n",
       "      <th>classk</th>\n",
       "      <th>totexpk</th>\n",
       "      <th>sex</th>\n",
       "      <th>freelunk</th>\n",
       "      <th>race</th>\n",
       "      <th>schidkn</th>\n",
       "      <th>class size</th>\n",
       "    </tr>\n",
       "  </thead>\n",
       "  <tbody>\n",
       "    <tr>\n",
       "      <th>0</th>\n",
       "      <td>2</td>\n",
       "      <td>473</td>\n",
       "      <td>447</td>\n",
       "      <td>small.class</td>\n",
       "      <td>7</td>\n",
       "      <td>girl</td>\n",
       "      <td>no</td>\n",
       "      <td>white</td>\n",
       "      <td>63</td>\n",
       "      <td>1</td>\n",
       "    </tr>\n",
       "    <tr>\n",
       "      <th>1</th>\n",
       "      <td>3</td>\n",
       "      <td>536</td>\n",
       "      <td>450</td>\n",
       "      <td>small.class</td>\n",
       "      <td>21</td>\n",
       "      <td>girl</td>\n",
       "      <td>no</td>\n",
       "      <td>black</td>\n",
       "      <td>20</td>\n",
       "      <td>1</td>\n",
       "    </tr>\n",
       "    <tr>\n",
       "      <th>2</th>\n",
       "      <td>5</td>\n",
       "      <td>463</td>\n",
       "      <td>439</td>\n",
       "      <td>regular.with.aide</td>\n",
       "      <td>0</td>\n",
       "      <td>boy</td>\n",
       "      <td>yes</td>\n",
       "      <td>black</td>\n",
       "      <td>19</td>\n",
       "      <td>2</td>\n",
       "    </tr>\n",
       "    <tr>\n",
       "      <th>3</th>\n",
       "      <td>11</td>\n",
       "      <td>559</td>\n",
       "      <td>448</td>\n",
       "      <td>regular</td>\n",
       "      <td>16</td>\n",
       "      <td>boy</td>\n",
       "      <td>no</td>\n",
       "      <td>white</td>\n",
       "      <td>69</td>\n",
       "      <td>3</td>\n",
       "    </tr>\n",
       "    <tr>\n",
       "      <th>4</th>\n",
       "      <td>12</td>\n",
       "      <td>489</td>\n",
       "      <td>447</td>\n",
       "      <td>small.class</td>\n",
       "      <td>5</td>\n",
       "      <td>boy</td>\n",
       "      <td>yes</td>\n",
       "      <td>white</td>\n",
       "      <td>79</td>\n",
       "      <td>1</td>\n",
       "    </tr>\n",
       "  </tbody>\n",
       "</table>\n",
       "</div>"
      ],
      "text/plain": [
       "   Unnamed: 0  tmathssk  treadssk             classk  totexpk   sex freelunk  \\\n",
       "0           2       473       447        small.class        7  girl       no   \n",
       "1           3       536       450        small.class       21  girl       no   \n",
       "2           5       463       439  regular.with.aide        0   boy      yes   \n",
       "3          11       559       448            regular       16   boy       no   \n",
       "4          12       489       447        small.class        5   boy      yes   \n",
       "\n",
       "    race  schidkn class size  \n",
       "0  white       63          1  \n",
       "1  black       20          1  \n",
       "2  black       19          2  \n",
       "3  white       69          3  \n",
       "4  white       79          1  "
      ]
     },
     "execution_count": 118,
     "metadata": {},
     "output_type": "execute_result"
    }
   ],
   "source": [
    "df.head()"
   ]
  },
  {
   "cell_type": "code",
   "execution_count": 119,
   "metadata": {},
   "outputs": [],
   "source": [
    "df[\"white\"] = np.where(df[\"race\"] == \"white\", 1, 0)"
   ]
  },
  {
   "cell_type": "code",
   "execution_count": 120,
   "metadata": {},
   "outputs": [
    {
     "data": {
      "text/html": [
       "<div>\n",
       "<style scoped>\n",
       "    .dataframe tbody tr th:only-of-type {\n",
       "        vertical-align: middle;\n",
       "    }\n",
       "\n",
       "    .dataframe tbody tr th {\n",
       "        vertical-align: top;\n",
       "    }\n",
       "\n",
       "    .dataframe thead th {\n",
       "        text-align: right;\n",
       "    }\n",
       "</style>\n",
       "<table border=\"1\" class=\"dataframe\">\n",
       "  <thead>\n",
       "    <tr style=\"text-align: right;\">\n",
       "      <th></th>\n",
       "      <th>Unnamed: 0</th>\n",
       "      <th>tmathssk</th>\n",
       "      <th>treadssk</th>\n",
       "      <th>classk</th>\n",
       "      <th>totexpk</th>\n",
       "      <th>sex</th>\n",
       "      <th>freelunk</th>\n",
       "      <th>race</th>\n",
       "      <th>schidkn</th>\n",
       "      <th>class size</th>\n",
       "      <th>white</th>\n",
       "    </tr>\n",
       "  </thead>\n",
       "  <tbody>\n",
       "    <tr>\n",
       "      <th>0</th>\n",
       "      <td>2</td>\n",
       "      <td>473</td>\n",
       "      <td>447</td>\n",
       "      <td>small.class</td>\n",
       "      <td>7</td>\n",
       "      <td>girl</td>\n",
       "      <td>no</td>\n",
       "      <td>white</td>\n",
       "      <td>63</td>\n",
       "      <td>1</td>\n",
       "      <td>1</td>\n",
       "    </tr>\n",
       "    <tr>\n",
       "      <th>1</th>\n",
       "      <td>3</td>\n",
       "      <td>536</td>\n",
       "      <td>450</td>\n",
       "      <td>small.class</td>\n",
       "      <td>21</td>\n",
       "      <td>girl</td>\n",
       "      <td>no</td>\n",
       "      <td>black</td>\n",
       "      <td>20</td>\n",
       "      <td>1</td>\n",
       "      <td>0</td>\n",
       "    </tr>\n",
       "    <tr>\n",
       "      <th>2</th>\n",
       "      <td>5</td>\n",
       "      <td>463</td>\n",
       "      <td>439</td>\n",
       "      <td>regular.with.aide</td>\n",
       "      <td>0</td>\n",
       "      <td>boy</td>\n",
       "      <td>yes</td>\n",
       "      <td>black</td>\n",
       "      <td>19</td>\n",
       "      <td>2</td>\n",
       "      <td>0</td>\n",
       "    </tr>\n",
       "    <tr>\n",
       "      <th>3</th>\n",
       "      <td>11</td>\n",
       "      <td>559</td>\n",
       "      <td>448</td>\n",
       "      <td>regular</td>\n",
       "      <td>16</td>\n",
       "      <td>boy</td>\n",
       "      <td>no</td>\n",
       "      <td>white</td>\n",
       "      <td>69</td>\n",
       "      <td>3</td>\n",
       "      <td>1</td>\n",
       "    </tr>\n",
       "    <tr>\n",
       "      <th>4</th>\n",
       "      <td>12</td>\n",
       "      <td>489</td>\n",
       "      <td>447</td>\n",
       "      <td>small.class</td>\n",
       "      <td>5</td>\n",
       "      <td>boy</td>\n",
       "      <td>yes</td>\n",
       "      <td>white</td>\n",
       "      <td>79</td>\n",
       "      <td>1</td>\n",
       "      <td>1</td>\n",
       "    </tr>\n",
       "    <tr>\n",
       "      <th>5</th>\n",
       "      <td>13</td>\n",
       "      <td>454</td>\n",
       "      <td>431</td>\n",
       "      <td>regular</td>\n",
       "      <td>8</td>\n",
       "      <td>boy</td>\n",
       "      <td>yes</td>\n",
       "      <td>white</td>\n",
       "      <td>5</td>\n",
       "      <td>3</td>\n",
       "      <td>1</td>\n",
       "    </tr>\n",
       "    <tr>\n",
       "      <th>6</th>\n",
       "      <td>14</td>\n",
       "      <td>423</td>\n",
       "      <td>395</td>\n",
       "      <td>regular.with.aide</td>\n",
       "      <td>17</td>\n",
       "      <td>girl</td>\n",
       "      <td>yes</td>\n",
       "      <td>black</td>\n",
       "      <td>16</td>\n",
       "      <td>2</td>\n",
       "      <td>0</td>\n",
       "    </tr>\n",
       "    <tr>\n",
       "      <th>7</th>\n",
       "      <td>21</td>\n",
       "      <td>500</td>\n",
       "      <td>451</td>\n",
       "      <td>regular</td>\n",
       "      <td>3</td>\n",
       "      <td>girl</td>\n",
       "      <td>no</td>\n",
       "      <td>white</td>\n",
       "      <td>56</td>\n",
       "      <td>3</td>\n",
       "      <td>1</td>\n",
       "    </tr>\n",
       "    <tr>\n",
       "      <th>8</th>\n",
       "      <td>23</td>\n",
       "      <td>439</td>\n",
       "      <td>478</td>\n",
       "      <td>small.class</td>\n",
       "      <td>11</td>\n",
       "      <td>girl</td>\n",
       "      <td>no</td>\n",
       "      <td>black</td>\n",
       "      <td>11</td>\n",
       "      <td>1</td>\n",
       "      <td>0</td>\n",
       "    </tr>\n",
       "    <tr>\n",
       "      <th>9</th>\n",
       "      <td>25</td>\n",
       "      <td>528</td>\n",
       "      <td>455</td>\n",
       "      <td>small.class</td>\n",
       "      <td>10</td>\n",
       "      <td>girl</td>\n",
       "      <td>no</td>\n",
       "      <td>white</td>\n",
       "      <td>66</td>\n",
       "      <td>1</td>\n",
       "      <td>1</td>\n",
       "    </tr>\n",
       "  </tbody>\n",
       "</table>\n",
       "</div>"
      ],
      "text/plain": [
       "   Unnamed: 0  tmathssk  treadssk             classk  totexpk   sex freelunk  \\\n",
       "0           2       473       447        small.class        7  girl       no   \n",
       "1           3       536       450        small.class       21  girl       no   \n",
       "2           5       463       439  regular.with.aide        0   boy      yes   \n",
       "3          11       559       448            regular       16   boy       no   \n",
       "4          12       489       447        small.class        5   boy      yes   \n",
       "5          13       454       431            regular        8   boy      yes   \n",
       "6          14       423       395  regular.with.aide       17  girl      yes   \n",
       "7          21       500       451            regular        3  girl       no   \n",
       "8          23       439       478        small.class       11  girl       no   \n",
       "9          25       528       455        small.class       10  girl       no   \n",
       "\n",
       "    race  schidkn class size  white  \n",
       "0  white       63          1      1  \n",
       "1  black       20          1      0  \n",
       "2  black       19          2      0  \n",
       "3  white       69          3      1  \n",
       "4  white       79          1      1  \n",
       "5  white        5          3      1  \n",
       "6  black       16          2      0  \n",
       "7  white       56          3      1  \n",
       "8  black       11          1      0  \n",
       "9  white       66          1      1  "
      ]
     },
     "execution_count": 120,
     "metadata": {},
     "output_type": "execute_result"
    }
   ],
   "source": [
    "df.head(10)"
   ]
  },
  {
   "cell_type": "code",
   "execution_count": 121,
   "metadata": {},
   "outputs": [
    {
     "data": {
      "text/plain": [
       "Index(['Unnamed: 0', 'tmathssk', 'treadssk', 'classk', 'totexpk', 'sex',\n",
       "       'freelunk', 'race', 'schidkn', 'class size', 'white'],\n",
       "      dtype='object')"
      ]
     },
     "execution_count": 121,
     "metadata": {},
     "output_type": "execute_result"
    }
   ],
   "source": [
    "df.columns"
   ]
  },
  {
   "cell_type": "code",
   "execution_count": 122,
   "metadata": {},
   "outputs": [],
   "source": [
    "del df[\"Unnamed: 0\"]"
   ]
  },
  {
   "cell_type": "code",
   "execution_count": 125,
   "metadata": {},
   "outputs": [],
   "source": [
    "df[\"freelunch\"] = np.where(df[\"freelunk\"] == \"yes\", 1, 0)"
   ]
  },
  {
   "cell_type": "code",
   "execution_count": 126,
   "metadata": {},
   "outputs": [
    {
     "data": {
      "text/plain": [
       "Index(['tmathssk', 'treadssk', 'classk', 'totexpk', 'sex', 'freelunk', 'race',\n",
       "       'schidkn', 'class size', 'white', 'freelunch'],\n",
       "      dtype='object')"
      ]
     },
     "execution_count": 126,
     "metadata": {},
     "output_type": "execute_result"
    }
   ],
   "source": [
    "df.columns"
   ]
  },
  {
   "cell_type": "code",
   "execution_count": 127,
   "metadata": {},
   "outputs": [],
   "source": [
    "df.columns = [\"mathscore\", \"readingscore\", \"classsizetext\", \"teachingexperience\", \"sex\", \"freelunchtext\", \"race\", \"schoolID\",\n",
    "             \"classsize\", \"white\", \"freelunch\"]"
   ]
  },
  {
   "cell_type": "code",
   "execution_count": 128,
   "metadata": {},
   "outputs": [
    {
     "data": {
      "text/html": [
       "<div>\n",
       "<style scoped>\n",
       "    .dataframe tbody tr th:only-of-type {\n",
       "        vertical-align: middle;\n",
       "    }\n",
       "\n",
       "    .dataframe tbody tr th {\n",
       "        vertical-align: top;\n",
       "    }\n",
       "\n",
       "    .dataframe thead th {\n",
       "        text-align: right;\n",
       "    }\n",
       "</style>\n",
       "<table border=\"1\" class=\"dataframe\">\n",
       "  <thead>\n",
       "    <tr style=\"text-align: right;\">\n",
       "      <th></th>\n",
       "      <th>mathscore</th>\n",
       "      <th>readingscore</th>\n",
       "      <th>classsizetext</th>\n",
       "      <th>teachingexperience</th>\n",
       "      <th>sex</th>\n",
       "      <th>freelunchtext</th>\n",
       "      <th>race</th>\n",
       "      <th>schoolID</th>\n",
       "      <th>classsize</th>\n",
       "      <th>white</th>\n",
       "      <th>freelunch</th>\n",
       "    </tr>\n",
       "  </thead>\n",
       "  <tbody>\n",
       "    <tr>\n",
       "      <th>0</th>\n",
       "      <td>473</td>\n",
       "      <td>447</td>\n",
       "      <td>small.class</td>\n",
       "      <td>7</td>\n",
       "      <td>girl</td>\n",
       "      <td>no</td>\n",
       "      <td>white</td>\n",
       "      <td>63</td>\n",
       "      <td>1</td>\n",
       "      <td>1</td>\n",
       "      <td>0</td>\n",
       "    </tr>\n",
       "    <tr>\n",
       "      <th>1</th>\n",
       "      <td>536</td>\n",
       "      <td>450</td>\n",
       "      <td>small.class</td>\n",
       "      <td>21</td>\n",
       "      <td>girl</td>\n",
       "      <td>no</td>\n",
       "      <td>black</td>\n",
       "      <td>20</td>\n",
       "      <td>1</td>\n",
       "      <td>0</td>\n",
       "      <td>0</td>\n",
       "    </tr>\n",
       "    <tr>\n",
       "      <th>2</th>\n",
       "      <td>463</td>\n",
       "      <td>439</td>\n",
       "      <td>regular.with.aide</td>\n",
       "      <td>0</td>\n",
       "      <td>boy</td>\n",
       "      <td>yes</td>\n",
       "      <td>black</td>\n",
       "      <td>19</td>\n",
       "      <td>2</td>\n",
       "      <td>0</td>\n",
       "      <td>1</td>\n",
       "    </tr>\n",
       "    <tr>\n",
       "      <th>3</th>\n",
       "      <td>559</td>\n",
       "      <td>448</td>\n",
       "      <td>regular</td>\n",
       "      <td>16</td>\n",
       "      <td>boy</td>\n",
       "      <td>no</td>\n",
       "      <td>white</td>\n",
       "      <td>69</td>\n",
       "      <td>3</td>\n",
       "      <td>1</td>\n",
       "      <td>0</td>\n",
       "    </tr>\n",
       "    <tr>\n",
       "      <th>4</th>\n",
       "      <td>489</td>\n",
       "      <td>447</td>\n",
       "      <td>small.class</td>\n",
       "      <td>5</td>\n",
       "      <td>boy</td>\n",
       "      <td>yes</td>\n",
       "      <td>white</td>\n",
       "      <td>79</td>\n",
       "      <td>1</td>\n",
       "      <td>1</td>\n",
       "      <td>1</td>\n",
       "    </tr>\n",
       "  </tbody>\n",
       "</table>\n",
       "</div>"
      ],
      "text/plain": [
       "   mathscore  readingscore      classsizetext  teachingexperience   sex  \\\n",
       "0        473           447        small.class                   7  girl   \n",
       "1        536           450        small.class                  21  girl   \n",
       "2        463           439  regular.with.aide                   0   boy   \n",
       "3        559           448            regular                  16   boy   \n",
       "4        489           447        small.class                   5   boy   \n",
       "\n",
       "  freelunchtext   race  schoolID classsize  white  freelunch  \n",
       "0            no  white        63         1      1          0  \n",
       "1            no  black        20         1      0          0  \n",
       "2           yes  black        19         2      0          1  \n",
       "3            no  white        69         3      1          0  \n",
       "4           yes  white        79         1      1          1  "
      ]
     },
     "execution_count": 128,
     "metadata": {},
     "output_type": "execute_result"
    }
   ],
   "source": [
    "df.head()"
   ]
  },
  {
   "cell_type": "code",
   "execution_count": 129,
   "metadata": {},
   "outputs": [
    {
     "data": {
      "text/html": [
       "<div>\n",
       "<style scoped>\n",
       "    .dataframe tbody tr th:only-of-type {\n",
       "        vertical-align: middle;\n",
       "    }\n",
       "\n",
       "    .dataframe tbody tr th {\n",
       "        vertical-align: top;\n",
       "    }\n",
       "\n",
       "    .dataframe thead th {\n",
       "        text-align: right;\n",
       "    }\n",
       "</style>\n",
       "<table border=\"1\" class=\"dataframe\">\n",
       "  <thead>\n",
       "    <tr style=\"text-align: right;\">\n",
       "      <th></th>\n",
       "      <th>mathscore</th>\n",
       "      <th>readingscore</th>\n",
       "      <th>classsizetext</th>\n",
       "      <th>teachingexperience</th>\n",
       "      <th>sex</th>\n",
       "      <th>freelunchtext</th>\n",
       "      <th>race</th>\n",
       "      <th>schoolID</th>\n",
       "      <th>classsize</th>\n",
       "      <th>white</th>\n",
       "      <th>freelunch</th>\n",
       "    </tr>\n",
       "  </thead>\n",
       "  <tbody>\n",
       "    <tr>\n",
       "      <th>0</th>\n",
       "      <td>473</td>\n",
       "      <td>447</td>\n",
       "      <td>small.class</td>\n",
       "      <td>7</td>\n",
       "      <td>girl</td>\n",
       "      <td>no</td>\n",
       "      <td>white</td>\n",
       "      <td>63</td>\n",
       "      <td>1</td>\n",
       "      <td>1</td>\n",
       "      <td>0</td>\n",
       "    </tr>\n",
       "    <tr>\n",
       "      <th>1</th>\n",
       "      <td>536</td>\n",
       "      <td>450</td>\n",
       "      <td>small.class</td>\n",
       "      <td>21</td>\n",
       "      <td>girl</td>\n",
       "      <td>no</td>\n",
       "      <td>black</td>\n",
       "      <td>20</td>\n",
       "      <td>1</td>\n",
       "      <td>0</td>\n",
       "      <td>0</td>\n",
       "    </tr>\n",
       "    <tr>\n",
       "      <th>2</th>\n",
       "      <td>463</td>\n",
       "      <td>439</td>\n",
       "      <td>regular.with.aide</td>\n",
       "      <td>0</td>\n",
       "      <td>boy</td>\n",
       "      <td>yes</td>\n",
       "      <td>black</td>\n",
       "      <td>19</td>\n",
       "      <td>2</td>\n",
       "      <td>0</td>\n",
       "      <td>1</td>\n",
       "    </tr>\n",
       "    <tr>\n",
       "      <th>3</th>\n",
       "      <td>559</td>\n",
       "      <td>448</td>\n",
       "      <td>regular</td>\n",
       "      <td>16</td>\n",
       "      <td>boy</td>\n",
       "      <td>no</td>\n",
       "      <td>white</td>\n",
       "      <td>69</td>\n",
       "      <td>3</td>\n",
       "      <td>1</td>\n",
       "      <td>0</td>\n",
       "    </tr>\n",
       "    <tr>\n",
       "      <th>4</th>\n",
       "      <td>489</td>\n",
       "      <td>447</td>\n",
       "      <td>small.class</td>\n",
       "      <td>5</td>\n",
       "      <td>boy</td>\n",
       "      <td>yes</td>\n",
       "      <td>white</td>\n",
       "      <td>79</td>\n",
       "      <td>1</td>\n",
       "      <td>1</td>\n",
       "      <td>1</td>\n",
       "    </tr>\n",
       "  </tbody>\n",
       "</table>\n",
       "</div>"
      ],
      "text/plain": [
       "   mathscore  readingscore      classsizetext  teachingexperience   sex  \\\n",
       "0        473           447        small.class                   7  girl   \n",
       "1        536           450        small.class                  21  girl   \n",
       "2        463           439  regular.with.aide                   0   boy   \n",
       "3        559           448            regular                  16   boy   \n",
       "4        489           447        small.class                   5   boy   \n",
       "\n",
       "  freelunchtext   race  schoolID classsize  white  freelunch  \n",
       "0            no  white        63         1      1          0  \n",
       "1            no  black        20         1      0          0  \n",
       "2           yes  black        19         2      0          1  \n",
       "3            no  white        69         3      1          0  \n",
       "4           yes  white        79         1      1          1  "
      ]
     },
     "execution_count": 129,
     "metadata": {},
     "output_type": "execute_result"
    }
   ],
   "source": [
    "df.head()"
   ]
  },
  {
   "cell_type": "code",
   "execution_count": 130,
   "metadata": {},
   "outputs": [
    {
     "data": {
      "image/png": "[encoded data removed]",
      "text/plain": [
       "<Figure size 432x288 with 1 Axes>"
      ]
     },
     "metadata": {},
     "output_type": "display_data"
    },
    {
     "data": {
      "image/png": "[encoded data removed]",
      "text/plain": [
       "<Figure size 432x288 with 1 Axes>"
      ]
     },
     "metadata": {},
     "output_type": "display_data"
    },
    {
     "data": {
      "image/png": "[encoded data removed]",
      "text/plain": [
       "<Figure size 432x288 with 1 Axes>"
      ]
     },
     "metadata": {},
     "output_type": "display_data"
    },
    {
     "data": {
      "image/png": "[encoded data removed]",
      "text/plain": [
       "<Figure size 432x288 with 1 Axes>"
      ]
     },
     "metadata": {},
     "output_type": "display_data"
    }
   ],
   "source": [
    "#testing assumption 1 (linear relationships)\n",
    "\n",
    "outcome = df[\"mathscore\"]\n",
    "\n",
    "plt.scatter(outcome, df[\"teachingexperience\"])\n",
    "plt.title(\"teaching experience\")\n",
    "plt.show()\n",
    "\n",
    "plt.scatter(outcome, df[\"classsize\"])\n",
    "plt.title(\"class size\")\n",
    "plt.show()\n",
    "\n",
    "plt.scatter(outcome, df[\"white\"])\n",
    "plt.title(\"white\")\n",
    "plt.show()\n",
    "\n",
    "plt.scatter(outcome, df[\"freelunch\"])\n",
    "plt.title(\"free lunch\")\n",
    "plt.show()\n",
    "\n",
    "#teaching experience does not seem to have a linear relationship. I'm going to leave it in for now, but might engineer it\n",
    "#further (into a categorical variable) to be more linear"
   ]
  },
  {
   "cell_type": "code",
   "execution_count": 131,
   "metadata": {},
   "outputs": [
    {
     "data": {
      "text/plain": [
       "LinearRegression(copy_X=True, fit_intercept=True, n_jobs=1, normalize=False)"
      ]
     },
     "execution_count": 131,
     "metadata": {},
     "output_type": "execute_result"
    }
   ],
   "source": [
    "regr = linear_model.LinearRegression()\n",
    "Y = df[\"mathscore\"].values.reshape(-1,1)\n",
    "X = df[[\"teachingexperience\", \"classsize\", \"white\", \"freelunch\"]]\n",
    "regr.fit(X,Y)"
   ]
  },
  {
   "cell_type": "code",
   "execution_count": 132,
   "metadata": {},
   "outputs": [
    {
     "data": {
      "image/png": "[encoded data removed]",
      "text/plain": [
       "<Figure size 432x288 with 1 Axes>"
      ]
     },
     "metadata": {},
     "output_type": "display_data"
    }
   ],
   "source": [
    "#exploring assumption #2: multivariate normality\n",
    "\n",
    "X = df[[\"teachingexperience\", \"classsize\", \"white\", \"freelunch\"]]\n",
    "\n",
    "predicted = regr.predict(X).ravel()\n",
    "actual = df[\"mathscore\"]\n",
    "\n",
    "residual = actual - predicted\n",
    "\n",
    "plt.hist(residual, bins=20)\n",
    "plt.title(\"Residual Counts\")\n",
    "plt.xlabel(\"Residual\")\n",
    "plt.ylabel(\"Count\")\n",
    "plt.show()\n",
    "\n",
    "#this data passes this assumption"
   ]
  },
  {
   "cell_type": "code",
   "execution_count": 133,
   "metadata": {},
   "outputs": [
    {
     "data": {
      "image/png": "[encoded data removed]",
      "text/plain": [
       "<Figure size 432x288 with 1 Axes>"
      ]
     },
     "metadata": {},
     "output_type": "display_data"
    }
   ],
   "source": [
    "regr = linear_model.LinearRegression()\n",
    "Y = df[\"mathscore\"].values.reshape(-1,1)\n",
    "X = df[[\"classsize\", \"white\", \"freelunch\", \"teachingexperience\"]]\n",
    "regr.fit(X,Y)\n",
    "\n",
    "#exploring assumption #3: homoscedasticity\n",
    "X = df[[\"classsize\", \"white\", \"freelunch\", \"teachingexperience\"]]\n",
    "\n",
    "predicted = regr.predict(X).ravel()\n",
    "actual = df[\"mathscore\"]\n",
    "\n",
    "residual = actual - predicted\n",
    "\n",
    "plt.scatter(predicted, residual)\n",
    "plt.xlabel(\"Predicted\")\n",
    "plt.ylabel(\"Residual\")\n",
    "plt.axhline(y=0)\n",
    "plt.title(\"Residual vs Predicted\")\n",
    "plt.show()"
   ]
  },
  {
   "cell_type": "code",
   "execution_count": 134,
   "metadata": {},
   "outputs": [],
   "source": [
    "#now that we have the first round of features engineered, we will test the accuracy of the model\n",
    "\n",
    "linear_model = \"mathscore ~ classsize+white+freelunch+teachingexperience\"\n",
    "\n",
    "lm = smf.ols(formula=linear_model, data=df).fit()"
   ]
  },
  {
   "cell_type": "code",
   "execution_count": 135,
   "metadata": {},
   "outputs": [
    {
     "data": {
      "text/plain": [
       "Intercept             489.638835\n",
       "classsize[T.2]         -8.312902\n",
       "classsize[T.3]         -8.196257\n",
       "white                   7.681018\n",
       "freelunch             -19.433823\n",
       "teachingexperience      0.643283\n",
       "dtype: float64"
      ]
     },
     "execution_count": 135,
     "metadata": {},
     "output_type": "execute_result"
    }
   ],
   "source": [
    "lm.params"
   ]
  },
  {
   "cell_type": "code",
   "execution_count": 136,
   "metadata": {},
   "outputs": [
    {
     "data": {
      "text/plain": [
       "Intercept             0.000000e+00\n",
       "classsize[T.2]        3.674514e-08\n",
       "classsize[T.3]        5.623951e-08\n",
       "white                 1.136862e-07\n",
       "freelunch             5.797907e-46\n",
       "teachingexperience    1.326962e-09\n",
       "dtype: float64"
      ]
     },
     "execution_count": 136,
     "metadata": {},
     "output_type": "execute_result"
    }
   ],
   "source": [
    "lm.pvalues"
   ]
  },
  {
   "cell_type": "code",
   "execution_count": 137,
   "metadata": {},
   "outputs": [
    {
     "data": {
      "text/plain": [
       "0.07648438951767866"
      ]
     },
     "execution_count": 137,
     "metadata": {},
     "output_type": "execute_result"
    }
   ],
   "source": [
    "lm.rsquared\n",
    "#the r-squared value is really low"
   ]
  },
  {
   "cell_type": "code",
   "execution_count": 138,
   "metadata": {},
   "outputs": [],
   "source": [
    "#seeing if the model more accurately predicts reading scores\n",
    "\n",
    "linear_model2 = \"readingscore ~ classsize+white+freelunch+teachingexperience\"\n",
    "\n",
    "lm2 = smf.ols(formula=linear_model2, data=df).fit()"
   ]
  },
  {
   "cell_type": "code",
   "execution_count": 139,
   "metadata": {},
   "outputs": [
    {
     "data": {
      "text/plain": [
       "0.08750117457241025"
      ]
     },
     "execution_count": 139,
     "metadata": {},
     "output_type": "execute_result"
    }
   ],
   "source": [
    "lm2.rsquared\n",
    "#not much more success in predicting reading scores"
   ]
  },
  {
   "cell_type": "code",
   "execution_count": 140,
   "metadata": {},
   "outputs": [],
   "source": [
    "#going to revise the class size to have more of an impact\n",
    "\n",
    "df[\"classsize\"] = np.where(df[\"classsizetext\"] == \"small.class\", 1, (np.where(df[\"classsizetext\"] == \"regular.with.aide\", 5, \n",
    "                                                                        (np.where(df[\"classsizetext\"] == \"regular\", 10, \"undetermined\")))))\n"
   ]
  },
  {
   "cell_type": "code",
   "execution_count": 141,
   "metadata": {},
   "outputs": [
    {
     "data": {
      "text/html": [
       "<div>\n",
       "<style scoped>\n",
       "    .dataframe tbody tr th:only-of-type {\n",
       "        vertical-align: middle;\n",
       "    }\n",
       "\n",
       "    .dataframe tbody tr th {\n",
       "        vertical-align: top;\n",
       "    }\n",
       "\n",
       "    .dataframe thead th {\n",
       "        text-align: right;\n",
       "    }\n",
       "</style>\n",
       "<table border=\"1\" class=\"dataframe\">\n",
       "  <thead>\n",
       "    <tr style=\"text-align: right;\">\n",
       "      <th></th>\n",
       "      <th>mathscore</th>\n",
       "      <th>readingscore</th>\n",
       "      <th>classsizetext</th>\n",
       "      <th>teachingexperience</th>\n",
       "      <th>sex</th>\n",
       "      <th>freelunchtext</th>\n",
       "      <th>race</th>\n",
       "      <th>schoolID</th>\n",
       "      <th>classsize</th>\n",
       "      <th>white</th>\n",
       "      <th>freelunch</th>\n",
       "    </tr>\n",
       "  </thead>\n",
       "  <tbody>\n",
       "    <tr>\n",
       "      <th>0</th>\n",
       "      <td>473</td>\n",
       "      <td>447</td>\n",
       "      <td>small.class</td>\n",
       "      <td>7</td>\n",
       "      <td>girl</td>\n",
       "      <td>no</td>\n",
       "      <td>white</td>\n",
       "      <td>63</td>\n",
       "      <td>1</td>\n",
       "      <td>1</td>\n",
       "      <td>0</td>\n",
       "    </tr>\n",
       "    <tr>\n",
       "      <th>1</th>\n",
       "      <td>536</td>\n",
       "      <td>450</td>\n",
       "      <td>small.class</td>\n",
       "      <td>21</td>\n",
       "      <td>girl</td>\n",
       "      <td>no</td>\n",
       "      <td>black</td>\n",
       "      <td>20</td>\n",
       "      <td>1</td>\n",
       "      <td>0</td>\n",
       "      <td>0</td>\n",
       "    </tr>\n",
       "    <tr>\n",
       "      <th>2</th>\n",
       "      <td>463</td>\n",
       "      <td>439</td>\n",
       "      <td>regular.with.aide</td>\n",
       "      <td>0</td>\n",
       "      <td>boy</td>\n",
       "      <td>yes</td>\n",
       "      <td>black</td>\n",
       "      <td>19</td>\n",
       "      <td>5</td>\n",
       "      <td>0</td>\n",
       "      <td>1</td>\n",
       "    </tr>\n",
       "    <tr>\n",
       "      <th>3</th>\n",
       "      <td>559</td>\n",
       "      <td>448</td>\n",
       "      <td>regular</td>\n",
       "      <td>16</td>\n",
       "      <td>boy</td>\n",
       "      <td>no</td>\n",
       "      <td>white</td>\n",
       "      <td>69</td>\n",
       "      <td>10</td>\n",
       "      <td>1</td>\n",
       "      <td>0</td>\n",
       "    </tr>\n",
       "    <tr>\n",
       "      <th>4</th>\n",
       "      <td>489</td>\n",
       "      <td>447</td>\n",
       "      <td>small.class</td>\n",
       "      <td>5</td>\n",
       "      <td>boy</td>\n",
       "      <td>yes</td>\n",
       "      <td>white</td>\n",
       "      <td>79</td>\n",
       "      <td>1</td>\n",
       "      <td>1</td>\n",
       "      <td>1</td>\n",
       "    </tr>\n",
       "  </tbody>\n",
       "</table>\n",
       "</div>"
      ],
      "text/plain": [
       "   mathscore  readingscore      classsizetext  teachingexperience   sex  \\\n",
       "0        473           447        small.class                   7  girl   \n",
       "1        536           450        small.class                  21  girl   \n",
       "2        463           439  regular.with.aide                   0   boy   \n",
       "3        559           448            regular                  16   boy   \n",
       "4        489           447        small.class                   5   boy   \n",
       "\n",
       "  freelunchtext   race  schoolID classsize  white  freelunch  \n",
       "0            no  white        63         1      1          0  \n",
       "1            no  black        20         1      0          0  \n",
       "2           yes  black        19         5      0          1  \n",
       "3            no  white        69        10      1          0  \n",
       "4           yes  white        79         1      1          1  "
      ]
     },
     "execution_count": 141,
     "metadata": {},
     "output_type": "execute_result"
    }
   ],
   "source": [
    "df.head()"
   ]
  },
  {
   "cell_type": "code",
   "execution_count": 142,
   "metadata": {},
   "outputs": [],
   "source": [
    "#with adjusted class size numbers\n",
    "\n",
    "linear_model = \"mathscore ~ classsize+white+freelunch+teachingexperience\"\n",
    "\n",
    "lm = smf.ols(formula=linear_model, data=df).fit()"
   ]
  },
  {
   "cell_type": "code",
   "execution_count": 143,
   "metadata": {},
   "outputs": [
    {
     "data": {
      "text/plain": [
       "Intercept             489.638835\n",
       "classsize[T.10]        -8.196257\n",
       "classsize[T.5]         -8.312902\n",
       "white                   7.681018\n",
       "freelunch             -19.433823\n",
       "teachingexperience      0.643283\n",
       "dtype: float64"
      ]
     },
     "execution_count": 143,
     "metadata": {},
     "output_type": "execute_result"
    }
   ],
   "source": [
    "lm.params"
   ]
  },
  {
   "cell_type": "code",
   "execution_count": 144,
   "metadata": {},
   "outputs": [
    {
     "data": {
      "text/plain": [
       "Intercept             0.000000e+00\n",
       "classsize[T.10]       5.623951e-08\n",
       "classsize[T.5]        3.674514e-08\n",
       "white                 1.136862e-07\n",
       "freelunch             5.797907e-46\n",
       "teachingexperience    1.326962e-09\n",
       "dtype: float64"
      ]
     },
     "execution_count": 144,
     "metadata": {},
     "output_type": "execute_result"
    }
   ],
   "source": [
    "lm.pvalues"
   ]
  },
  {
   "cell_type": "code",
   "execution_count": 145,
   "metadata": {},
   "outputs": [
    {
     "data": {
      "text/plain": [
       "0.07648438951767866"
      ]
     },
     "execution_count": 145,
     "metadata": {},
     "output_type": "execute_result"
    }
   ],
   "source": [
    "lm.rsquared"
   ]
  },
  {
   "cell_type": "code",
   "execution_count": 146,
   "metadata": {},
   "outputs": [
    {
     "data": {
      "text/plain": [
       "KNeighborsRegressor(algorithm='auto', leaf_size=30, metric='minkowski',\n",
       "          metric_params=None, n_jobs=1, n_neighbors=200, p=2,\n",
       "          weights='uniform')"
      ]
     },
     "execution_count": 146,
     "metadata": {},
     "output_type": "execute_result"
    }
   ],
   "source": [
    "#turning attention to the KNN regression\n",
    "\n",
    "knn = neighbors.KNeighborsRegressor(n_neighbors=200)\n",
    "X = df[[\"classsize\", \"white\", \"freelunch\", \"teachingexperience\"]]\n",
    "Y = df[\"mathscore\"]\n",
    "knn.fit(X, Y)"
   ]
  },
  {
   "cell_type": "code",
   "execution_count": 147,
   "metadata": {},
   "outputs": [
    {
     "data": {
      "text/plain": [
       "KNeighborsRegressor(algorithm='auto', leaf_size=30, metric='minkowski',\n",
       "          metric_params=None, n_jobs=1, n_neighbors=200, p=2,\n",
       "          weights='distance')"
      ]
     },
     "execution_count": 147,
     "metadata": {},
     "output_type": "execute_result"
    }
   ],
   "source": [
    "# Run the same model, this time with weights.\n",
    "knn_w = neighbors.KNeighborsRegressor(n_neighbors=200, weights='distance')\n",
    "X = df[[\"classsize\", \"white\", \"freelunch\", \"teachingexperience\"]]\n",
    "Y = df[\"mathscore\"]\n",
    "knn_w.fit(X, Y)"
   ]
  },
  {
   "cell_type": "code",
   "execution_count": 148,
   "metadata": {},
   "outputs": [
    {
     "name": "stdout",
     "output_type": "stream",
     "text": [
      "Unweighted Accuracy: 0.06 (+/- 0.02)\n",
      "Weighted Accuracy: 0.14 (+/- 0.06)\n"
     ]
    }
   ],
   "source": [
    "from sklearn.model_selection import cross_val_score\n",
    "\n",
    "score = cross_val_score(knn, X, Y, cv=5)\n",
    "print(\"Unweighted Accuracy: %0.2f (+/- %0.2f)\" % (score.mean(), score.std() * 2))\n",
    "score_w = cross_val_score(knn_w, X, Y, cv=5)\n",
    "print(\"Weighted Accuracy: %0.2f (+/- %0.2f)\" % (score_w.mean(), score_w.std() * 2))"
   ]
  },
  {
   "cell_type": "code",
   "execution_count": 149,
   "metadata": {},
   "outputs": [],
   "source": [
    "#changing the numbers associated with \"yes\" and \"no\" for free lunch and race\n",
    "\n",
    "df[\"freelunch\"] = np.where(df[\"freelunchtext\"] == \"yes\", 10, 0)"
   ]
  },
  {
   "cell_type": "code",
   "execution_count": 150,
   "metadata": {},
   "outputs": [],
   "source": [
    "df[\"white\"] = np.where(df[\"race\"] == \"white\", 10, 0)"
   ]
  },
  {
   "cell_type": "code",
   "execution_count": 151,
   "metadata": {},
   "outputs": [],
   "source": [
    "linear_model3 = \"mathscore ~ classsize+white+freelunch+teachingexperience\"\n",
    "\n",
    "lm3 = smf.ols(formula=linear_model3, data=df).fit()"
   ]
  },
  {
   "cell_type": "code",
   "execution_count": 152,
   "metadata": {},
   "outputs": [
    {
     "data": {
      "text/plain": [
       "Intercept             489.638835\n",
       "classsize[T.10]        -8.196257\n",
       "classsize[T.5]         -8.312902\n",
       "white                   0.768102\n",
       "freelunch              -1.943382\n",
       "teachingexperience      0.643283\n",
       "dtype: float64"
      ]
     },
     "execution_count": 152,
     "metadata": {},
     "output_type": "execute_result"
    }
   ],
   "source": [
    "lm3.params"
   ]
  },
  {
   "cell_type": "code",
   "execution_count": 153,
   "metadata": {},
   "outputs": [
    {
     "data": {
      "text/plain": [
       "Intercept             0.000000e+00\n",
       "classsize[T.10]       5.623951e-08\n",
       "classsize[T.5]        3.674514e-08\n",
       "white                 1.136862e-07\n",
       "freelunch             5.797907e-46\n",
       "teachingexperience    1.326962e-09\n",
       "dtype: float64"
      ]
     },
     "execution_count": 153,
     "metadata": {},
     "output_type": "execute_result"
    }
   ],
   "source": [
    "lm3.pvalues"
   ]
  },
  {
   "cell_type": "code",
   "execution_count": 154,
   "metadata": {},
   "outputs": [
    {
     "data": {
      "text/plain": [
       "0.07648438951767877"
      ]
     },
     "execution_count": 154,
     "metadata": {},
     "output_type": "execute_result"
    }
   ],
   "source": [
    "lm3.rsquared"
   ]
  },
  {
   "cell_type": "code",
   "execution_count": 155,
   "metadata": {},
   "outputs": [
    {
     "data": {
      "text/plain": [
       "KNeighborsRegressor(algorithm='auto', leaf_size=30, metric='minkowski',\n",
       "          metric_params=None, n_jobs=1, n_neighbors=200, p=2,\n",
       "          weights='uniform')"
      ]
     },
     "execution_count": 155,
     "metadata": {},
     "output_type": "execute_result"
    }
   ],
   "source": [
    "#seeing if the new race and free lunch numbers impact the KNN models\n",
    "\n",
    "knn = neighbors.KNeighborsRegressor(n_neighbors=200)\n",
    "X = df[[\"classsize\", \"white\", \"freelunch\", \"teachingexperience\"]]\n",
    "Y = df[\"mathscore\"]\n",
    "knn.fit(X, Y)"
   ]
  },
  {
   "cell_type": "code",
   "execution_count": 156,
   "metadata": {},
   "outputs": [
    {
     "data": {
      "text/plain": [
       "KNeighborsRegressor(algorithm='auto', leaf_size=30, metric='minkowski',\n",
       "          metric_params=None, n_jobs=1, n_neighbors=200, p=2,\n",
       "          weights='distance')"
      ]
     },
     "execution_count": 156,
     "metadata": {},
     "output_type": "execute_result"
    }
   ],
   "source": [
    "knn_w = neighbors.KNeighborsRegressor(n_neighbors=200, weights='distance')\n",
    "X = df[[\"classsize\", \"white\", \"freelunch\", \"teachingexperience\"]]\n",
    "Y = df[\"mathscore\"]\n",
    "knn_w.fit(X, Y)"
   ]
  },
  {
   "cell_type": "code",
   "execution_count": 157,
   "metadata": {},
   "outputs": [
    {
     "name": "stdout",
     "output_type": "stream",
     "text": [
      "Unweighted Accuracy: 0.09 (+/- 0.03)\n",
      "Weighted Accuracy: 0.14 (+/- 0.06)\n"
     ]
    }
   ],
   "source": [
    "score = cross_val_score(knn, X, Y, cv=5)\n",
    "print(\"Unweighted Accuracy: %0.2f (+/- %0.2f)\" % (score.mean(), score.std() * 2))\n",
    "score_w = cross_val_score(knn_w, X, Y, cv=5)\n",
    "print(\"Weighted Accuracy: %0.2f (+/- %0.2f)\" % (score_w.mean(), score_w.std() * 2))"
   ]
  },
  {
   "cell_type": "code",
   "execution_count": 158,
   "metadata": {},
   "outputs": [],
   "source": [
    "#trying with JUST class size as an independent variable because it's often argued that small class size results in better scores\n",
    "\n",
    "linear_model4 = \"mathscore ~ classsize\"\n",
    "\n",
    "lm4 = smf.ols(formula=linear_model4, data=df).fit()"
   ]
  },
  {
   "cell_type": "code",
   "execution_count": 159,
   "metadata": {},
   "outputs": [
    {
     "data": {
      "text/plain": [
       "0.006417350636075625"
      ]
     },
     "execution_count": 159,
     "metadata": {},
     "output_type": "execute_result"
    }
   ],
   "source": [
    "lm4.rsquared"
   ]
  },
  {
   "cell_type": "code",
   "execution_count": 160,
   "metadata": {},
   "outputs": [
    {
     "data": {
      "text/plain": [
       "KNeighborsRegressor(algorithm='auto', leaf_size=30, metric='minkowski',\n",
       "          metric_params=None, n_jobs=1, n_neighbors=200, p=2,\n",
       "          weights='uniform')"
      ]
     },
     "execution_count": 160,
     "metadata": {},
     "output_type": "execute_result"
    }
   ],
   "source": [
    "knn = neighbors.KNeighborsRegressor(n_neighbors=200)\n",
    "X = df[[\"classsize\"]]\n",
    "Y = df[\"mathscore\"]\n",
    "knn.fit(X, Y)"
   ]
  },
  {
   "cell_type": "code",
   "execution_count": 161,
   "metadata": {},
   "outputs": [
    {
     "data": {
      "text/plain": [
       "KNeighborsRegressor(algorithm='auto', leaf_size=30, metric='minkowski',\n",
       "          metric_params=None, n_jobs=1, n_neighbors=200, p=2,\n",
       "          weights='distance')"
      ]
     },
     "execution_count": 161,
     "metadata": {},
     "output_type": "execute_result"
    }
   ],
   "source": [
    "knn_w = neighbors.KNeighborsRegressor(n_neighbors=200, weights='distance')\n",
    "X = df[[\"classsize\"]]\n",
    "Y = df[\"mathscore\"]\n",
    "knn_w.fit(X, Y)"
   ]
  },
  {
   "cell_type": "code",
   "execution_count": 162,
   "metadata": {},
   "outputs": [
    {
     "name": "stdout",
     "output_type": "stream",
     "text": [
      "Unweighted Accuracy: 0.00 (+/- 0.01)\n",
      "Weighted Accuracy: 0.00 (+/- 0.01)\n"
     ]
    }
   ],
   "source": [
    "score = cross_val_score(knn, X, Y, cv=5)\n",
    "print(\"Unweighted Accuracy: %0.2f (+/- %0.2f)\" % (score.mean(), score.std() * 2))\n",
    "score_w = cross_val_score(knn_w, X, Y, cv=5)\n",
    "print(\"Weighted Accuracy: %0.2f (+/- %0.2f)\" % (score_w.mean(), score_w.std() * 2))"
   ]
  },
  {
   "cell_type": "markdown",
   "metadata": {},
   "source": [
    "One of the most often brought up arguments in education is that class size affects the quality of students' education and their test scores. Both the OLS regression model and the KNN regression model say otherwise - that there is actually close to no correlation between class size and test score.\n",
    "\n",
    "I went through a few different iterations of both the KNN model and the OLS model. None of the models was incredibly predictive. The most predictive was the weighted KNN model. Additionally, when the number of neighbors was increased, the accuracy of the model increased from .07 to .14. I believe the weighted KNN model was more effective than the OLS model with this dataset because there isn't a ton of correlation between the independent and dependent variables, which makes drawing a linear regression line and basing predictions off of it challenging. What is (at least more) doable with this dataset is finding neighbors that have similar conditions and averaging those scores to predict the score of a potential class. "
   ]
  },
  {
   "cell_type": "code",
   "execution_count": null,
   "metadata": {},
   "outputs": [],
   "source": []
  }
 ],
 "metadata": {
  "kernelspec": {
   "display_name": "Python 3",
   "language": "python",
   "name": "python3"
  },
  "language_info": {
   "codemirror_mode": {
    "name": "ipython",
    "version": 3
   },
   "file_extension": ".py",
   "mimetype": "text/x-python",
   "name": "python",
   "nbconvert_exporter": "python",
   "pygments_lexer": "ipython3",
   "version": "3.6.5"
  }
 },
 "nbformat": 4,
 "nbformat_minor": 2
}
