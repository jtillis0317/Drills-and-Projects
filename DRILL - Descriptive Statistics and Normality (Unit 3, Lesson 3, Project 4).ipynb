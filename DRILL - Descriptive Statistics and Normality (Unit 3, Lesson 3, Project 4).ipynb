{
 "cells": [
  {
   "cell_type": "code",
   "execution_count": 1,
   "metadata": {},
   "outputs": [],
   "source": [
    "import numpy as np\n",
    "import pandas as pd\n",
    "import matplotlib.pyplot as plt\n",
    "%matplotlib inline"
   ]
  },
  {
   "cell_type": "markdown",
   "metadata": {},
   "source": [
    "**Directions**:\n",
    "1. Generate a random variable with 100 datapoints using the code distributionvar = np.random.distributionname([arguments], 100), replacing distributionvar with an appropriate variable name and distributionname with the name of the distribution you’ve chosen, and filling in the empty space in the parentheses with your chosen values for the appropriate parameters. If you feel uncertain about how to do this, go back to the “Other Distributions” assignment for examples of code to use as a starting point.\n",
    "2. Graph the variable using a histogram.\n",
    "3. Compute the mean and standard deviation and plot them as vertical lines on the histogram. (Hint: the “When Does It Break?” assignment you just completed can help you here.)\n",
    "4. Evaluate whether the descriptive statistics provided useful information about the variable. Can you identify any common characteristics of the distributions that could be usefully described using the mean and/or standard deviation, versus the ones that could not?\n",
    "\n",
    "Additionally:\n",
    "\n",
    "1. Generate two normally-distributed variables, one with a mean of 5 and standard deviation of 0.5, and the other with a mean of 10 and standard deviation of 1.\n",
    "2. Add them together to create a third variable.\n",
    "3. Graph the third variable using a histogram.\n",
    "4. Compute the mean and standard deviation and plot them as vertical lines on the histogram.\n",
    "5. Evaluate the descriptive statistics against the data."
   ]
  },
  {
   "cell_type": "code",
   "execution_count": 7,
   "metadata": {},
   "outputs": [
    {
     "data": {
      "image/png": "[encoded data removed]",
      "text/plain": [
       "<Figure size 432x288 with 1 Axes>"
      ]
     },
     "metadata": {},
     "output_type": "display_data"
    }
   ],
   "source": [
    "triangular = np.random.triangular(0, 20, 30, 100)\n",
    "plt.axvline(triangular.mean(), color = \"orange\", linestyle = \"solid\", linewidth = 2)\n",
    "plt.axvline(triangular.mean() + triangular.std(), color = \"orange\", linestyle = \"dashed\", linewidth = 2)\n",
    "plt.axvline(triangular.mean() - triangular.std(), color = \"orange\", linestyle = \"dashed\", linewidth = 2)\n",
    "\n",
    "plt.hist(triangular)\n",
    "plt.show()"
   ]
  },
  {
   "cell_type": "markdown",
   "metadata": {},
   "source": [
    "For the triangular distribution, the mean of the data is close to the mode, which makes me think it's useful information about this distribution. Additionally the data within one standard deviation does look like it captures at least 65% of the data, making it a worthy description of the data. "
   ]
  },
  {
   "cell_type": "code",
   "execution_count": 9,
   "metadata": {},
   "outputs": [
    {
     "data": {
      "text/plain": [
       "(array([41., 24., 17.,  6.,  6.,  2.,  2.,  0.,  1.,  1.]),\n",
       " array([6.64840051e-04, 4.70148744e-01, 9.39632647e-01, 1.40911655e+00,\n",
       "        1.87860045e+00, 2.34808436e+00, 2.81756826e+00, 3.28705216e+00,\n",
       "        3.75653607e+00, 4.22601997e+00, 4.69550387e+00]),\n",
       " <a list of 10 Patch objects>)"
      ]
     },
     "execution_count": 9,
     "metadata": {},
     "output_type": "execute_result"
    },
    {
     "data": {
      "image/png": "[encoded data removed]",
      "text/plain": [
       "<Figure size 432x288 with 1 Axes>"
      ]
     },
     "metadata": {},
     "output_type": "display_data"
    }
   ],
   "source": [
    "standard_exponential = np.random.standard_exponential(100)\n",
    "plt.axvline(standard_exponential.mean(), color = \"yellow\", linestyle = \"solid\", linewidth = 2)\n",
    "plt.axvline(standard_exponential.mean() + standard_exponential.std(), color = \"yellow\", linestyle = \"dashed\", linewidth = 2)\n",
    "plt.axvline(standard_exponential.mean() - standard_exponential.std(), color = \"yellow\", linestyle = \"dashed\", linewidth = 2)\n",
    "\n",
    "\n",
    "plt.hist(standard_exponential, color = \"purple\")"
   ]
  },
  {
   "cell_type": "markdown",
   "metadata": {},
   "source": [
    "For the standard exponential distribution, the mean is relatively far from the mode, so it is not an effective description of the data. Over 65% of the data falls within  one standard deviation, which leads me to believe it's relevant to the description of this data."
   ]
  },
  {
   "cell_type": "code",
   "execution_count": 16,
   "metadata": {},
   "outputs": [
    {
     "data": {
      "text/plain": [
       "([array([ 0.,  0.,  1.,  3.,  7., 18., 31., 15., 19.,  6.]),\n",
       "  array([ 1.,  9., 31., 27., 19., 10.,  2.,  1.,  0.,  0.]),\n",
       "  array([16., 39., 28., 14.,  2.,  0.,  1.,  0.,  0.,  0.])],\n",
       " array([0.01278264, 0.09097385, 0.16916506, 0.24735627, 0.32554748,\n",
       "        0.40373869, 0.4819299 , 0.56012111, 0.63831232, 0.71650353,\n",
       "        0.79469474]),\n",
       " <a list of 3 Lists of Patches objects>)"
      ]
     },
     "execution_count": 16,
     "metadata": {},
     "output_type": "execute_result"
    },
    {
     "data": {
      "image/png": "[encoded data removed]",
      "text/plain": [
       "<Figure size 432x288 with 1 Axes>"
      ]
     },
     "metadata": {},
     "output_type": "display_data"
    }
   ],
   "source": [
    "dirichlet = np.random.dirichlet((10, 5, 3), 100)\n",
    "\n",
    "plt.axvline(dirichlet.mean(), color = \"black\", linestyle = \"solid\", linewidth = 2)\n",
    "plt.axvline(dirichlet.mean() + dirichlet.std(), color = \"black\", linestyle = \"dashed\", linewidth = 2)\n",
    "plt.axvline(dirichlet.mean() - dirichlet.std(), color = \"black\", linestyle = \"dashed\", linewidth = 2)\n",
    "\n",
    "plt.hist(dirichlet)"
   ]
  },
  {
   "cell_type": "markdown",
   "metadata": {},
   "source": [
    "The mean and standard deviation for the dirichlet distribution do not seem to add any value to the description of the data."
   ]
  },
  {
   "cell_type": "code",
   "execution_count": 17,
   "metadata": {},
   "outputs": [
    {
     "data": {
      "image/png": "[encoded data removed]",
      "text/plain": [
       "<Figure size 432x288 with 1 Axes>"
      ]
     },
     "metadata": {},
     "output_type": "display_data"
    }
   ],
   "source": [
    "power = np.random.power(10, 100)\n",
    "plt.axvline(power.mean(), color = \"orange\", linestyle = \"solid\", linewidth = 2)\n",
    "plt.axvline(power.mean() + power.std(), color = \"orange\", linestyle = \"dashed\", linewidth = 2)\n",
    "plt.axvline(power.mean() - power.std(), color = \"orange\", linestyle = \"dashed\", linewidth = 2)\n",
    "\n",
    "plt.hist(power)\n",
    "plt.show()\n"
   ]
  },
  {
   "cell_type": "markdown",
   "metadata": {},
   "source": [
    "The power distribution cannot be described by its mean because it is relatively far from the mode. Over 65% of the data is, however, within the first standard deviation. One noteworthy fact is that no data falls more than one standard deviation in the positive direction. However, the data does fall multiple standar deviations in the negative direction."
   ]
  },
  {
   "cell_type": "code",
   "execution_count": 20,
   "metadata": {},
   "outputs": [
    {
     "data": {
      "image/png": "[encoded data removed]",
      "text/plain": [
       "<Figure size 432x288 with 1 Axes>"
      ]
     },
     "metadata": {},
     "output_type": "display_data"
    }
   ],
   "source": [
    "geometric = np.random.geometric(.75, 100)\n",
    "plt.axvline(geometric.mean(), color = \"gold\", linestyle = \"solid\", linewidth = 2)\n",
    "plt.axvline(geometric.mean() + geometric.std(), color = \"gold\", linestyle = \"dashed\", linewidth = 2)\n",
    "plt.axvline(geometric.mean() - geometric.std(), color = \"gold\", linestyle = \"dashed\", linewidth = 2)\n",
    "\n",
    "\n",
    "plt.hist(geometric, color = \"black\")\n",
    "plt.show()"
   ]
  },
  {
   "cell_type": "markdown",
   "metadata": {},
   "source": [
    "The mean and standard deviation both seem like relevant descriptors of the geometric distribution. Nearly all of the data, however, is to the right of the mean."
   ]
  },
  {
   "cell_type": "code",
   "execution_count": 21,
   "metadata": {},
   "outputs": [
    {
     "data": {
      "image/png": "[encoded data removed]",
      "text/plain": [
       "<Figure size 432x288 with 1 Axes>"
      ]
     },
     "metadata": {},
     "output_type": "display_data"
    }
   ],
   "source": [
    "chisquare = np.random.chisquare(1, 100)\n",
    "\n",
    "plt.axvline(chisquare.mean(), color = \"green\", linestyle = \"solid\", linewidth = 2)\n",
    "plt.axvline(chisquare.mean() + chisquare.std(), color = \"green\", linestyle = \"dashed\", linewidth = 2)\n",
    "plt.axvline(chisquare.mean() - chisquare.std(), color = \"green\", linestyle = \"dashed\", linewidth = 2)\n",
    "\n",
    "plt.hist(chisquare, color = \"red\")\n",
    "plt.show()\n"
   ]
  },
  {
   "cell_type": "markdown",
   "metadata": {},
   "source": [
    "Again, over 65% of the data is encapsulated within the first standard deviation. The mean, however, is not representative of the data. This distribution looks like the power distribution flipped over the x-axis."
   ]
  },
  {
   "cell_type": "code",
   "execution_count": 27,
   "metadata": {},
   "outputs": [
    {
     "data": {
      "image/png": "[encoded data removed]",
      "text/plain": [
       "<Figure size 432x288 with 1 Axes>"
      ]
     },
     "metadata": {},
     "output_type": "display_data"
    }
   ],
   "source": [
    "var1 = np.random.normal(5, .5, 100)\n",
    "var2 = np.random.normal(10, 1, 100)\n",
    "var3 = var1 + var2\n",
    "\n",
    "plt.axvline(var3.mean(), color = \"blue\", linestyle = \"solid\", linewidth = 2)\n",
    "plt.axvline(var3.mean() + var3.std(), color = \"blue\", linestyle = \"dashed\", linewidth = 2)\n",
    "plt.axvline(var3.mean() - var3.std(), color = \"blue\", linestyle = \"dashed\", linewidth = 2)\n",
    "\n",
    "\n",
    "plt.hist(var3, color = \"orange\")\n",
    "\n",
    "plt.show()"
   ]
  },
  {
   "cell_type": "markdown",
   "metadata": {},
   "source": [
    "The data given by the third variable can definitely be described by the mean and standard deviation. I *think* this is because it's the sum of two \"normal\" distributions."
   ]
  },
  {
   "cell_type": "code",
   "execution_count": null,
   "metadata": {},
   "outputs": [],
   "source": []
  }
 ],
 "metadata": {
  "kernelspec": {
   "display_name": "Python 3",
   "language": "python",
   "name": "python3"
  },
  "language_info": {
   "codemirror_mode": {
    "name": "ipython",
    "version": 3
   },
   "file_extension": ".py",
   "mimetype": "text/x-python",
   "name": "python",
   "nbconvert_exporter": "python",
   "pygments_lexer": "ipython3",
   "version": "3.6.5"
  }
 },
 "nbformat": 4,
 "nbformat_minor": 2
}
