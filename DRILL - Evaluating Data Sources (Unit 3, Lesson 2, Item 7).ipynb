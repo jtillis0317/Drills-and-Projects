{
 "cells": [
  {
   "cell_type": "markdown",
   "metadata": {},
   "source": [
    "Data Source: Amsterdam availability data scraped from AirBnB on December 24th. Question: What are the popular neighborhoods in Amsterdam?\n",
    "\n",
    "This is a problem with exceptional circumstance because there is going to be a big difference in Airbnb usage and neighborhood choices during the Christmas season. You could reframe the question to say *What is the least popular neighborhood in Amsterdam during the Christmas season?* or you could gather you data from a date that has less significance on the calendar.\n",
    "\n",
    "Data Source: Mental health services use on September 12, 2001 in San Francisco, CA and New York City, NY. Question: How do patterns of mental health service use vary between cities?\n",
    "\n",
    "Similar to the last example, this is an exceptional circumstance because there was a national tragedy IN New York City the day before you scraped the data. That said, you could collect data from a different date or you could change your question to *How do the mental health services used vary between cities after a tragedy?* (this is far from perfect; you'd need to have data on SF and NYC mental health use from September 10, 2001, as well).\n",
    "\n",
    "Data Source: Armenian Pub Survey. Question: What are the most common reasons Armenians visit local pubs?\n",
    "\n",
    "This is a problem with bias. This survey was only given to people who are AT the brewery. Could collect surveys from a more general sample of people."
   ]
  }
 ],
 "metadata": {
  "kernelspec": {
   "display_name": "Python 3",
   "language": "python",
   "name": "python3"
  },
  "language_info": {
   "codemirror_mode": {
    "name": "ipython",
    "version": 3
   },
   "file_extension": ".py",
   "mimetype": "text/x-python",
   "name": "python",
   "nbconvert_exporter": "python",
   "pygments_lexer": "ipython3",
   "version": "3.6.5"
  }
 },
 "nbformat": 4,
 "nbformat_minor": 2
}
