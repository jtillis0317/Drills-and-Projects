{
 "cells": [
  {
   "cell_type": "code",
   "execution_count": 1,
   "metadata": {},
   "outputs": [],
   "source": [
    "import pandas as pd\n",
    "import numpy as np\n",
    "import matplotlib.pyplot as plt\n",
    "import seaborn as sns\n",
    "%matplotlib inline"
   ]
  },
  {
   "cell_type": "code",
   "execution_count": 2,
   "metadata": {},
   "outputs": [],
   "source": [
    "df = pd.read_csv(\"ZillowMedianRentalPricePerSqft.csv\")"
   ]
  },
  {
   "cell_type": "code",
   "execution_count": 3,
   "metadata": {},
   "outputs": [
    {
     "data": {
      "text/html": [
       "<div>\n",
       "<style scoped>\n",
       "    .dataframe tbody tr th:only-of-type {\n",
       "        vertical-align: middle;\n",
       "    }\n",
       "\n",
       "    .dataframe tbody tr th {\n",
       "        vertical-align: top;\n",
       "    }\n",
       "\n",
       "    .dataframe thead th {\n",
       "        text-align: right;\n",
       "    }\n",
       "</style>\n",
       "<table border=\"1\" class=\"dataframe\">\n",
       "  <thead>\n",
       "    <tr style=\"text-align: right;\">\n",
       "      <th></th>\n",
       "      <th>RegionName</th>\n",
       "      <th>City</th>\n",
       "      <th>State</th>\n",
       "      <th>Metro</th>\n",
       "      <th>CountyName</th>\n",
       "      <th>SizeRank</th>\n",
       "      <th>2010-02</th>\n",
       "      <th>2010-03</th>\n",
       "      <th>2010-04</th>\n",
       "      <th>2010-05</th>\n",
       "      <th>...</th>\n",
       "      <th>2017-10</th>\n",
       "      <th>2017-11</th>\n",
       "      <th>2017-12</th>\n",
       "      <th>2018-01</th>\n",
       "      <th>2018-02</th>\n",
       "      <th>2018-03</th>\n",
       "      <th>2018-04</th>\n",
       "      <th>2018-05</th>\n",
       "      <th>2018-06</th>\n",
       "      <th>2018-07</th>\n",
       "    </tr>\n",
       "  </thead>\n",
       "  <tbody>\n",
       "    <tr>\n",
       "      <th>1184</th>\n",
       "      <td>Valley Ranch</td>\n",
       "      <td>Irving</td>\n",
       "      <td>TX</td>\n",
       "      <td>Dallas-Fort Worth</td>\n",
       "      <td>Dallas</td>\n",
       "      <td>1039</td>\n",
       "      <td>NaN</td>\n",
       "      <td>NaN</td>\n",
       "      <td>NaN</td>\n",
       "      <td>NaN</td>\n",
       "      <td>...</td>\n",
       "      <td>1.453636</td>\n",
       "      <td>1.464186</td>\n",
       "      <td>1.433402</td>\n",
       "      <td>1.439663</td>\n",
       "      <td>1.467188</td>\n",
       "      <td>1.424337</td>\n",
       "      <td>1.479273</td>\n",
       "      <td>1.475633</td>\n",
       "      <td>1.481940</td>\n",
       "      <td>1.495147</td>\n",
       "    </tr>\n",
       "    <tr>\n",
       "      <th>1185</th>\n",
       "      <td>Rancho La Costa</td>\n",
       "      <td>Carlsbad</td>\n",
       "      <td>CA</td>\n",
       "      <td>San Diego</td>\n",
       "      <td>San Diego</td>\n",
       "      <td>1039</td>\n",
       "      <td>NaN</td>\n",
       "      <td>NaN</td>\n",
       "      <td>NaN</td>\n",
       "      <td>NaN</td>\n",
       "      <td>...</td>\n",
       "      <td>1.833067</td>\n",
       "      <td>1.865265</td>\n",
       "      <td>1.842299</td>\n",
       "      <td>1.977701</td>\n",
       "      <td>1.912500</td>\n",
       "      <td>1.851852</td>\n",
       "      <td>1.956522</td>\n",
       "      <td>2.075645</td>\n",
       "      <td>1.996805</td>\n",
       "      <td>2.080941</td>\n",
       "    </tr>\n",
       "    <tr>\n",
       "      <th>1186</th>\n",
       "      <td>Las Colinas</td>\n",
       "      <td>Irving</td>\n",
       "      <td>TX</td>\n",
       "      <td>Dallas-Fort Worth</td>\n",
       "      <td>Dallas</td>\n",
       "      <td>1039</td>\n",
       "      <td>NaN</td>\n",
       "      <td>NaN</td>\n",
       "      <td>NaN</td>\n",
       "      <td>NaN</td>\n",
       "      <td>...</td>\n",
       "      <td>1.856170</td>\n",
       "      <td>1.886364</td>\n",
       "      <td>1.836322</td>\n",
       "      <td>1.849100</td>\n",
       "      <td>1.980426</td>\n",
       "      <td>1.938508</td>\n",
       "      <td>1.936997</td>\n",
       "      <td>1.859770</td>\n",
       "      <td>1.940492</td>\n",
       "      <td>2.001598</td>\n",
       "    </tr>\n",
       "    <tr>\n",
       "      <th>1187</th>\n",
       "      <td>Olive Tree</td>\n",
       "      <td>Greenacres</td>\n",
       "      <td>FL</td>\n",
       "      <td>Miami-Fort Lauderdale</td>\n",
       "      <td>Palm Beach</td>\n",
       "      <td>1039</td>\n",
       "      <td>NaN</td>\n",
       "      <td>NaN</td>\n",
       "      <td>NaN</td>\n",
       "      <td>NaN</td>\n",
       "      <td>...</td>\n",
       "      <td>1.227232</td>\n",
       "      <td>1.219464</td>\n",
       "      <td>1.262946</td>\n",
       "      <td>1.261607</td>\n",
       "      <td>1.223436</td>\n",
       "      <td>1.255357</td>\n",
       "      <td>1.354464</td>\n",
       "      <td>1.241311</td>\n",
       "      <td>1.289286</td>\n",
       "      <td>1.339286</td>\n",
       "    </tr>\n",
       "    <tr>\n",
       "      <th>1188</th>\n",
       "      <td>Northwest Manchester</td>\n",
       "      <td>Manchester</td>\n",
       "      <td>NH</td>\n",
       "      <td>Manchester</td>\n",
       "      <td>Hillsborough</td>\n",
       "      <td>1039</td>\n",
       "      <td>NaN</td>\n",
       "      <td>NaN</td>\n",
       "      <td>NaN</td>\n",
       "      <td>NaN</td>\n",
       "      <td>...</td>\n",
       "      <td>1.408046</td>\n",
       "      <td>1.367816</td>\n",
       "      <td>1.400085</td>\n",
       "      <td>1.434343</td>\n",
       "      <td>1.454814</td>\n",
       "      <td>1.458837</td>\n",
       "      <td>1.496988</td>\n",
       "      <td>1.557471</td>\n",
       "      <td>1.522989</td>\n",
       "      <td>1.550505</td>\n",
       "    </tr>\n",
       "  </tbody>\n",
       "</table>\n",
       "<p>5 rows × 108 columns</p>\n",
       "</div>"
      ],
      "text/plain": [
       "                RegionName        City State                  Metro  \\\n",
       "1184          Valley Ranch      Irving    TX      Dallas-Fort Worth   \n",
       "1185       Rancho La Costa    Carlsbad    CA              San Diego   \n",
       "1186           Las Colinas      Irving    TX      Dallas-Fort Worth   \n",
       "1187            Olive Tree  Greenacres    FL  Miami-Fort Lauderdale   \n",
       "1188  Northwest Manchester  Manchester    NH             Manchester   \n",
       "\n",
       "        CountyName  SizeRank  2010-02  2010-03  2010-04  2010-05    ...     \\\n",
       "1184        Dallas      1039      NaN      NaN      NaN      NaN    ...      \n",
       "1185     San Diego      1039      NaN      NaN      NaN      NaN    ...      \n",
       "1186        Dallas      1039      NaN      NaN      NaN      NaN    ...      \n",
       "1187    Palm Beach      1039      NaN      NaN      NaN      NaN    ...      \n",
       "1188  Hillsborough      1039      NaN      NaN      NaN      NaN    ...      \n",
       "\n",
       "       2017-10   2017-11   2017-12   2018-01   2018-02   2018-03   2018-04  \\\n",
       "1184  1.453636  1.464186  1.433402  1.439663  1.467188  1.424337  1.479273   \n",
       "1185  1.833067  1.865265  1.842299  1.977701  1.912500  1.851852  1.956522   \n",
       "1186  1.856170  1.886364  1.836322  1.849100  1.980426  1.938508  1.936997   \n",
       "1187  1.227232  1.219464  1.262946  1.261607  1.223436  1.255357  1.354464   \n",
       "1188  1.408046  1.367816  1.400085  1.434343  1.454814  1.458837  1.496988   \n",
       "\n",
       "       2018-05   2018-06   2018-07  \n",
       "1184  1.475633  1.481940  1.495147  \n",
       "1185  2.075645  1.996805  2.080941  \n",
       "1186  1.859770  1.940492  2.001598  \n",
       "1187  1.241311  1.289286  1.339286  \n",
       "1188  1.557471  1.522989  1.550505  \n",
       "\n",
       "[5 rows x 108 columns]"
      ]
     },
     "execution_count": 3,
     "metadata": {},
     "output_type": "execute_result"
    }
   ],
   "source": [
    "df.tail()"
   ]
  },
  {
   "cell_type": "code",
   "execution_count": 4,
   "metadata": {},
   "outputs": [
    {
     "data": {
      "text/html": [
       "<div>\n",
       "<style scoped>\n",
       "    .dataframe tbody tr th:only-of-type {\n",
       "        vertical-align: middle;\n",
       "    }\n",
       "\n",
       "    .dataframe tbody tr th {\n",
       "        vertical-align: top;\n",
       "    }\n",
       "\n",
       "    .dataframe thead th {\n",
       "        text-align: right;\n",
       "    }\n",
       "</style>\n",
       "<table border=\"1\" class=\"dataframe\">\n",
       "  <thead>\n",
       "    <tr style=\"text-align: right;\">\n",
       "      <th></th>\n",
       "      <th>SizeRank</th>\n",
       "      <th>2010-02</th>\n",
       "      <th>2010-03</th>\n",
       "      <th>2010-04</th>\n",
       "      <th>2010-05</th>\n",
       "      <th>2010-06</th>\n",
       "      <th>2010-07</th>\n",
       "      <th>2010-08</th>\n",
       "      <th>2010-09</th>\n",
       "      <th>2010-10</th>\n",
       "      <th>...</th>\n",
       "      <th>2017-10</th>\n",
       "      <th>2017-11</th>\n",
       "      <th>2017-12</th>\n",
       "      <th>2018-01</th>\n",
       "      <th>2018-02</th>\n",
       "      <th>2018-03</th>\n",
       "      <th>2018-04</th>\n",
       "      <th>2018-05</th>\n",
       "      <th>2018-06</th>\n",
       "      <th>2018-07</th>\n",
       "    </tr>\n",
       "  </thead>\n",
       "  <tbody>\n",
       "    <tr>\n",
       "      <th>count</th>\n",
       "      <td>1189.000000</td>\n",
       "      <td>4.000000</td>\n",
       "      <td>4.000000</td>\n",
       "      <td>5.000000</td>\n",
       "      <td>5.000000</td>\n",
       "      <td>5.000000</td>\n",
       "      <td>5.000000</td>\n",
       "      <td>5.000000</td>\n",
       "      <td>14.000000</td>\n",
       "      <td>19.000000</td>\n",
       "      <td>...</td>\n",
       "      <td>1189.000000</td>\n",
       "      <td>1189.000000</td>\n",
       "      <td>1189.000000</td>\n",
       "      <td>1189.000000</td>\n",
       "      <td>1189.000000</td>\n",
       "      <td>1189.000000</td>\n",
       "      <td>1189.000000</td>\n",
       "      <td>1189.000000</td>\n",
       "      <td>1189.000000</td>\n",
       "      <td>1189.000000</td>\n",
       "    </tr>\n",
       "    <tr>\n",
       "      <th>mean</th>\n",
       "      <td>585.460892</td>\n",
       "      <td>2.490830</td>\n",
       "      <td>2.452683</td>\n",
       "      <td>2.161866</td>\n",
       "      <td>2.124794</td>\n",
       "      <td>2.159471</td>\n",
       "      <td>2.079684</td>\n",
       "      <td>2.137399</td>\n",
       "      <td>1.774833</td>\n",
       "      <td>1.905849</td>\n",
       "      <td>...</td>\n",
       "      <td>2.052146</td>\n",
       "      <td>2.045922</td>\n",
       "      <td>2.049239</td>\n",
       "      <td>2.052137</td>\n",
       "      <td>2.069017</td>\n",
       "      <td>2.085383</td>\n",
       "      <td>2.103300</td>\n",
       "      <td>2.121661</td>\n",
       "      <td>2.132228</td>\n",
       "      <td>2.134544</td>\n",
       "    </tr>\n",
       "    <tr>\n",
       "      <th>std</th>\n",
       "      <td>329.227700</td>\n",
       "      <td>0.552669</td>\n",
       "      <td>0.529785</td>\n",
       "      <td>0.703182</td>\n",
       "      <td>0.749612</td>\n",
       "      <td>0.763191</td>\n",
       "      <td>0.685107</td>\n",
       "      <td>0.688381</td>\n",
       "      <td>0.701831</td>\n",
       "      <td>0.674782</td>\n",
       "      <td>...</td>\n",
       "      <td>0.925343</td>\n",
       "      <td>0.926122</td>\n",
       "      <td>0.926316</td>\n",
       "      <td>0.921359</td>\n",
       "      <td>0.918090</td>\n",
       "      <td>0.923789</td>\n",
       "      <td>0.937051</td>\n",
       "      <td>0.947700</td>\n",
       "      <td>0.952613</td>\n",
       "      <td>0.955452</td>\n",
       "    </tr>\n",
       "    <tr>\n",
       "      <th>min</th>\n",
       "      <td>1.000000</td>\n",
       "      <td>1.949940</td>\n",
       "      <td>1.921803</td>\n",
       "      <td>1.156872</td>\n",
       "      <td>1.016260</td>\n",
       "      <td>1.037414</td>\n",
       "      <td>1.089799</td>\n",
       "      <td>1.176866</td>\n",
       "      <td>0.698128</td>\n",
       "      <td>0.731452</td>\n",
       "      <td>...</td>\n",
       "      <td>0.620833</td>\n",
       "      <td>0.612500</td>\n",
       "      <td>0.583333</td>\n",
       "      <td>0.603070</td>\n",
       "      <td>0.632581</td>\n",
       "      <td>0.619048</td>\n",
       "      <td>0.625000</td>\n",
       "      <td>0.603070</td>\n",
       "      <td>0.609756</td>\n",
       "      <td>0.648649</td>\n",
       "    </tr>\n",
       "    <tr>\n",
       "      <th>25%</th>\n",
       "      <td>298.000000</td>\n",
       "      <td>2.092136</td>\n",
       "      <td>2.110886</td>\n",
       "      <td>1.951700</td>\n",
       "      <td>1.953125</td>\n",
       "      <td>2.021104</td>\n",
       "      <td>1.948052</td>\n",
       "      <td>1.992379</td>\n",
       "      <td>1.309141</td>\n",
       "      <td>1.634495</td>\n",
       "      <td>...</td>\n",
       "      <td>1.385455</td>\n",
       "      <td>1.373626</td>\n",
       "      <td>1.377155</td>\n",
       "      <td>1.390728</td>\n",
       "      <td>1.410862</td>\n",
       "      <td>1.410644</td>\n",
       "      <td>1.430041</td>\n",
       "      <td>1.433333</td>\n",
       "      <td>1.424743</td>\n",
       "      <td>1.433297</td>\n",
       "    </tr>\n",
       "    <tr>\n",
       "      <th>50%</th>\n",
       "      <td>595.000000</td>\n",
       "      <td>2.425115</td>\n",
       "      <td>2.376649</td>\n",
       "      <td>2.139535</td>\n",
       "      <td>2.133333</td>\n",
       "      <td>2.136434</td>\n",
       "      <td>2.053400</td>\n",
       "      <td>2.025959</td>\n",
       "      <td>1.857731</td>\n",
       "      <td>1.933149</td>\n",
       "      <td>...</td>\n",
       "      <td>1.875000</td>\n",
       "      <td>1.866667</td>\n",
       "      <td>1.879087</td>\n",
       "      <td>1.873010</td>\n",
       "      <td>1.909091</td>\n",
       "      <td>1.903367</td>\n",
       "      <td>1.927281</td>\n",
       "      <td>1.933333</td>\n",
       "      <td>1.951220</td>\n",
       "      <td>1.952221</td>\n",
       "    </tr>\n",
       "    <tr>\n",
       "      <th>75%</th>\n",
       "      <td>892.000000</td>\n",
       "      <td>2.823809</td>\n",
       "      <td>2.718446</td>\n",
       "      <td>2.500000</td>\n",
       "      <td>2.460029</td>\n",
       "      <td>2.463918</td>\n",
       "      <td>2.321263</td>\n",
       "      <td>2.430566</td>\n",
       "      <td>2.140193</td>\n",
       "      <td>2.224513</td>\n",
       "      <td>...</td>\n",
       "      <td>2.473318</td>\n",
       "      <td>2.466667</td>\n",
       "      <td>2.471503</td>\n",
       "      <td>2.478182</td>\n",
       "      <td>2.500000</td>\n",
       "      <td>2.504384</td>\n",
       "      <td>2.532567</td>\n",
       "      <td>2.556818</td>\n",
       "      <td>2.555031</td>\n",
       "      <td>2.566698</td>\n",
       "    </tr>\n",
       "    <tr>\n",
       "      <th>max</th>\n",
       "      <td>1039.000000</td>\n",
       "      <td>3.163152</td>\n",
       "      <td>3.135630</td>\n",
       "      <td>3.061224</td>\n",
       "      <td>3.061224</td>\n",
       "      <td>3.138484</td>\n",
       "      <td>2.985906</td>\n",
       "      <td>3.061224</td>\n",
       "      <td>3.205128</td>\n",
       "      <td>3.170732</td>\n",
       "      <td>...</td>\n",
       "      <td>6.309524</td>\n",
       "      <td>6.434783</td>\n",
       "      <td>6.590389</td>\n",
       "      <td>6.415392</td>\n",
       "      <td>6.325067</td>\n",
       "      <td>6.692161</td>\n",
       "      <td>6.507395</td>\n",
       "      <td>6.547368</td>\n",
       "      <td>6.621093</td>\n",
       "      <td>6.521739</td>\n",
       "    </tr>\n",
       "  </tbody>\n",
       "</table>\n",
       "<p>8 rows × 103 columns</p>\n",
       "</div>"
      ],
      "text/plain": [
       "          SizeRank   2010-02   2010-03   2010-04   2010-05   2010-06  \\\n",
       "count  1189.000000  4.000000  4.000000  5.000000  5.000000  5.000000   \n",
       "mean    585.460892  2.490830  2.452683  2.161866  2.124794  2.159471   \n",
       "std     329.227700  0.552669  0.529785  0.703182  0.749612  0.763191   \n",
       "min       1.000000  1.949940  1.921803  1.156872  1.016260  1.037414   \n",
       "25%     298.000000  2.092136  2.110886  1.951700  1.953125  2.021104   \n",
       "50%     595.000000  2.425115  2.376649  2.139535  2.133333  2.136434   \n",
       "75%     892.000000  2.823809  2.718446  2.500000  2.460029  2.463918   \n",
       "max    1039.000000  3.163152  3.135630  3.061224  3.061224  3.138484   \n",
       "\n",
       "        2010-07   2010-08    2010-09    2010-10     ...           2017-10  \\\n",
       "count  5.000000  5.000000  14.000000  19.000000     ...       1189.000000   \n",
       "mean   2.079684  2.137399   1.774833   1.905849     ...          2.052146   \n",
       "std    0.685107  0.688381   0.701831   0.674782     ...          0.925343   \n",
       "min    1.089799  1.176866   0.698128   0.731452     ...          0.620833   \n",
       "25%    1.948052  1.992379   1.309141   1.634495     ...          1.385455   \n",
       "50%    2.053400  2.025959   1.857731   1.933149     ...          1.875000   \n",
       "75%    2.321263  2.430566   2.140193   2.224513     ...          2.473318   \n",
       "max    2.985906  3.061224   3.205128   3.170732     ...          6.309524   \n",
       "\n",
       "           2017-11      2017-12      2018-01      2018-02      2018-03  \\\n",
       "count  1189.000000  1189.000000  1189.000000  1189.000000  1189.000000   \n",
       "mean      2.045922     2.049239     2.052137     2.069017     2.085383   \n",
       "std       0.926122     0.926316     0.921359     0.918090     0.923789   \n",
       "min       0.612500     0.583333     0.603070     0.632581     0.619048   \n",
       "25%       1.373626     1.377155     1.390728     1.410862     1.410644   \n",
       "50%       1.866667     1.879087     1.873010     1.909091     1.903367   \n",
       "75%       2.466667     2.471503     2.478182     2.500000     2.504384   \n",
       "max       6.434783     6.590389     6.415392     6.325067     6.692161   \n",
       "\n",
       "           2018-04      2018-05      2018-06      2018-07  \n",
       "count  1189.000000  1189.000000  1189.000000  1189.000000  \n",
       "mean      2.103300     2.121661     2.132228     2.134544  \n",
       "std       0.937051     0.947700     0.952613     0.955452  \n",
       "min       0.625000     0.603070     0.609756     0.648649  \n",
       "25%       1.430041     1.433333     1.424743     1.433297  \n",
       "50%       1.927281     1.933333     1.951220     1.952221  \n",
       "75%       2.532567     2.556818     2.555031     2.566698  \n",
       "max       6.507395     6.547368     6.621093     6.521739  \n",
       "\n",
       "[8 rows x 103 columns]"
      ]
     },
     "execution_count": 4,
     "metadata": {},
     "output_type": "execute_result"
    }
   ],
   "source": [
    "df.describe()"
   ]
  },
  {
   "cell_type": "code",
   "execution_count": 5,
   "metadata": {},
   "outputs": [
    {
     "data": {
      "text/plain": [
       "RegionName     object\n",
       "City           object\n",
       "State          object\n",
       "Metro          object\n",
       "CountyName     object\n",
       "SizeRank        int64\n",
       "2010-02       float64\n",
       "2010-03       float64\n",
       "2010-04       float64\n",
       "2010-05       float64\n",
       "2010-06       float64\n",
       "2010-07       float64\n",
       "2010-08       float64\n",
       "2010-09       float64\n",
       "2010-10       float64\n",
       "2010-11       float64\n",
       "2010-12       float64\n",
       "2011-01       float64\n",
       "2011-02       float64\n",
       "2011-03       float64\n",
       "2011-04       float64\n",
       "2011-05       float64\n",
       "2011-06       float64\n",
       "2011-07       float64\n",
       "2011-08       float64\n",
       "2011-09       float64\n",
       "2011-10       float64\n",
       "2011-11       float64\n",
       "2011-12       float64\n",
       "2012-01       float64\n",
       "               ...   \n",
       "2016-02       float64\n",
       "2016-03       float64\n",
       "2016-04       float64\n",
       "2016-05       float64\n",
       "2016-06       float64\n",
       "2016-07       float64\n",
       "2016-08       float64\n",
       "2016-09       float64\n",
       "2016-10       float64\n",
       "2016-11       float64\n",
       "2016-12       float64\n",
       "2017-01       float64\n",
       "2017-02       float64\n",
       "2017-03       float64\n",
       "2017-04       float64\n",
       "2017-05       float64\n",
       "2017-06       float64\n",
       "2017-07       float64\n",
       "2017-08       float64\n",
       "2017-09       float64\n",
       "2017-10       float64\n",
       "2017-11       float64\n",
       "2017-12       float64\n",
       "2018-01       float64\n",
       "2018-02       float64\n",
       "2018-03       float64\n",
       "2018-04       float64\n",
       "2018-05       float64\n",
       "2018-06       float64\n",
       "2018-07       float64\n",
       "Length: 108, dtype: object"
      ]
     },
     "execution_count": 5,
     "metadata": {},
     "output_type": "execute_result"
    }
   ],
   "source": [
    "df.dtypes"
   ]
  },
  {
   "cell_type": "code",
   "execution_count": 5,
   "metadata": {},
   "outputs": [],
   "source": [
    "denverdf = df[df[\"City\"] == \"Denver\"]\n",
    "#denverdf = df.loc[lambda df: df[\"City\"] == \"Denver\", :]"
   ]
  },
  {
   "cell_type": "code",
   "execution_count": 6,
   "metadata": {},
   "outputs": [
    {
     "data": {
      "text/plain": [
       "(29, 108)"
      ]
     },
     "execution_count": 6,
     "metadata": {},
     "output_type": "execute_result"
    }
   ],
   "source": [
    "denverdf.shape"
   ]
  },
  {
   "cell_type": "code",
   "execution_count": 7,
   "metadata": {},
   "outputs": [
    {
     "data": {
      "text/html": [
       "<div>\n",
       "<style scoped>\n",
       "    .dataframe tbody tr th:only-of-type {\n",
       "        vertical-align: middle;\n",
       "    }\n",
       "\n",
       "    .dataframe tbody tr th {\n",
       "        vertical-align: top;\n",
       "    }\n",
       "\n",
       "    .dataframe thead th {\n",
       "        text-align: right;\n",
       "    }\n",
       "</style>\n",
       "<table border=\"1\" class=\"dataframe\">\n",
       "  <thead>\n",
       "    <tr style=\"text-align: right;\">\n",
       "      <th></th>\n",
       "      <th>RegionName</th>\n",
       "      <th>City</th>\n",
       "      <th>State</th>\n",
       "      <th>Metro</th>\n",
       "      <th>CountyName</th>\n",
       "      <th>SizeRank</th>\n",
       "      <th>2010-02</th>\n",
       "      <th>2010-03</th>\n",
       "      <th>2010-04</th>\n",
       "      <th>2010-05</th>\n",
       "      <th>...</th>\n",
       "      <th>2017-10</th>\n",
       "      <th>2017-11</th>\n",
       "      <th>2017-12</th>\n",
       "      <th>2018-01</th>\n",
       "      <th>2018-02</th>\n",
       "      <th>2018-03</th>\n",
       "      <th>2018-04</th>\n",
       "      <th>2018-05</th>\n",
       "      <th>2018-06</th>\n",
       "      <th>2018-07</th>\n",
       "    </tr>\n",
       "  </thead>\n",
       "  <tbody>\n",
       "    <tr>\n",
       "      <th>803</th>\n",
       "      <td>City Park West</td>\n",
       "      <td>Denver</td>\n",
       "      <td>CO</td>\n",
       "      <td>Denver</td>\n",
       "      <td>Denver</td>\n",
       "      <td>804</td>\n",
       "      <td>NaN</td>\n",
       "      <td>NaN</td>\n",
       "      <td>NaN</td>\n",
       "      <td>NaN</td>\n",
       "      <td>...</td>\n",
       "      <td>2.343906</td>\n",
       "      <td>2.423205</td>\n",
       "      <td>2.318702</td>\n",
       "      <td>2.318182</td>\n",
       "      <td>2.272727</td>\n",
       "      <td>2.288889</td>\n",
       "      <td>2.261396</td>\n",
       "      <td>2.268204</td>\n",
       "      <td>2.232305</td>\n",
       "      <td>2.263682</td>\n",
       "    </tr>\n",
       "    <tr>\n",
       "      <th>878</th>\n",
       "      <td>Central Business District</td>\n",
       "      <td>Denver</td>\n",
       "      <td>CO</td>\n",
       "      <td>Denver</td>\n",
       "      <td>Denver</td>\n",
       "      <td>879</td>\n",
       "      <td>NaN</td>\n",
       "      <td>NaN</td>\n",
       "      <td>NaN</td>\n",
       "      <td>NaN</td>\n",
       "      <td>...</td>\n",
       "      <td>2.503956</td>\n",
       "      <td>2.510040</td>\n",
       "      <td>2.572816</td>\n",
       "      <td>2.672606</td>\n",
       "      <td>2.671872</td>\n",
       "      <td>2.743223</td>\n",
       "      <td>2.779953</td>\n",
       "      <td>2.748630</td>\n",
       "      <td>2.735803</td>\n",
       "      <td>2.723575</td>\n",
       "    </tr>\n",
       "    <tr>\n",
       "      <th>911</th>\n",
       "      <td>City Park</td>\n",
       "      <td>Denver</td>\n",
       "      <td>CO</td>\n",
       "      <td>Denver</td>\n",
       "      <td>Denver</td>\n",
       "      <td>912</td>\n",
       "      <td>NaN</td>\n",
       "      <td>NaN</td>\n",
       "      <td>NaN</td>\n",
       "      <td>NaN</td>\n",
       "      <td>...</td>\n",
       "      <td>2.333333</td>\n",
       "      <td>2.248384</td>\n",
       "      <td>2.239575</td>\n",
       "      <td>2.268340</td>\n",
       "      <td>2.285319</td>\n",
       "      <td>2.438765</td>\n",
       "      <td>2.424068</td>\n",
       "      <td>2.406667</td>\n",
       "      <td>2.367027</td>\n",
       "      <td>2.371795</td>\n",
       "    </tr>\n",
       "    <tr>\n",
       "      <th>929</th>\n",
       "      <td>Jefferson Park</td>\n",
       "      <td>Denver</td>\n",
       "      <td>CO</td>\n",
       "      <td>Denver</td>\n",
       "      <td>Denver</td>\n",
       "      <td>930</td>\n",
       "      <td>NaN</td>\n",
       "      <td>NaN</td>\n",
       "      <td>NaN</td>\n",
       "      <td>NaN</td>\n",
       "      <td>...</td>\n",
       "      <td>2.136752</td>\n",
       "      <td>2.145841</td>\n",
       "      <td>2.150171</td>\n",
       "      <td>2.250409</td>\n",
       "      <td>2.183099</td>\n",
       "      <td>2.154930</td>\n",
       "      <td>2.127110</td>\n",
       "      <td>2.204225</td>\n",
       "      <td>2.217988</td>\n",
       "      <td>2.217899</td>\n",
       "    </tr>\n",
       "    <tr>\n",
       "      <th>984</th>\n",
       "      <td>Stapleton</td>\n",
       "      <td>Denver</td>\n",
       "      <td>CO</td>\n",
       "      <td>Denver</td>\n",
       "      <td>Denver</td>\n",
       "      <td>985</td>\n",
       "      <td>NaN</td>\n",
       "      <td>NaN</td>\n",
       "      <td>NaN</td>\n",
       "      <td>NaN</td>\n",
       "      <td>...</td>\n",
       "      <td>2.025525</td>\n",
       "      <td>1.973550</td>\n",
       "      <td>1.953247</td>\n",
       "      <td>2.096817</td>\n",
       "      <td>2.154523</td>\n",
       "      <td>2.154523</td>\n",
       "      <td>2.149631</td>\n",
       "      <td>2.149123</td>\n",
       "      <td>2.123670</td>\n",
       "      <td>2.123116</td>\n",
       "    </tr>\n",
       "  </tbody>\n",
       "</table>\n",
       "<p>5 rows × 108 columns</p>\n",
       "</div>"
      ],
      "text/plain": [
       "                    RegionName    City State   Metro CountyName  SizeRank  \\\n",
       "803             City Park West  Denver    CO  Denver     Denver       804   \n",
       "878  Central Business District  Denver    CO  Denver     Denver       879   \n",
       "911                  City Park  Denver    CO  Denver     Denver       912   \n",
       "929             Jefferson Park  Denver    CO  Denver     Denver       930   \n",
       "984                  Stapleton  Denver    CO  Denver     Denver       985   \n",
       "\n",
       "     2010-02  2010-03  2010-04  2010-05    ...      2017-10   2017-11  \\\n",
       "803      NaN      NaN      NaN      NaN    ...     2.343906  2.423205   \n",
       "878      NaN      NaN      NaN      NaN    ...     2.503956  2.510040   \n",
       "911      NaN      NaN      NaN      NaN    ...     2.333333  2.248384   \n",
       "929      NaN      NaN      NaN      NaN    ...     2.136752  2.145841   \n",
       "984      NaN      NaN      NaN      NaN    ...     2.025525  1.973550   \n",
       "\n",
       "      2017-12   2018-01   2018-02   2018-03   2018-04   2018-05   2018-06  \\\n",
       "803  2.318702  2.318182  2.272727  2.288889  2.261396  2.268204  2.232305   \n",
       "878  2.572816  2.672606  2.671872  2.743223  2.779953  2.748630  2.735803   \n",
       "911  2.239575  2.268340  2.285319  2.438765  2.424068  2.406667  2.367027   \n",
       "929  2.150171  2.250409  2.183099  2.154930  2.127110  2.204225  2.217988   \n",
       "984  1.953247  2.096817  2.154523  2.154523  2.149631  2.149123  2.123670   \n",
       "\n",
       "      2018-07  \n",
       "803  2.263682  \n",
       "878  2.723575  \n",
       "911  2.371795  \n",
       "929  2.217899  \n",
       "984  2.123116  \n",
       "\n",
       "[5 rows x 108 columns]"
      ]
     },
     "execution_count": 7,
     "metadata": {},
     "output_type": "execute_result"
    }
   ],
   "source": [
    "denverdf.tail()"
   ]
  },
  {
   "cell_type": "code",
   "execution_count": 8,
   "metadata": {},
   "outputs": [
    {
     "data": {
      "text/plain": [
       "206    Gateway - Green Valley Ranch\n",
       "324                         Hampden\n",
       "399                    Capitol Hill\n",
       "424                   Hampden South\n",
       "446                         Windsor\n",
       "448                     Five Points\n",
       "451                Virginia Village\n",
       "455        Washington Virginia Vale\n",
       "504                           Speer\n",
       "518                     East Colfax\n",
       "540                   Congress Park\n",
       "550                         Marston\n",
       "589                      University\n",
       "599                     Lowry Field\n",
       "608                        Highland\n",
       "609                   Cheesman Park\n",
       "651                 University Park\n",
       "683            Washington Park West\n",
       "740              North Capitol Hill\n",
       "746                    Cherry Creek\n",
       "753                           Baker\n",
       "791                         Belcaro\n",
       "797                  Southmoor Park\n",
       "798                   Union Station\n",
       "803                  City Park West\n",
       "878       Central Business District\n",
       "911                       City Park\n",
       "929                  Jefferson Park\n",
       "984                       Stapleton\n",
       "Name: RegionName, dtype: object"
      ]
     },
     "execution_count": 8,
     "metadata": {},
     "output_type": "execute_result"
    }
   ],
   "source": [
    "denverdf.RegionName"
   ]
  },
  {
   "cell_type": "code",
   "execution_count": 9,
   "metadata": {},
   "outputs": [],
   "source": [
    "rentalPrices_highland = denverdf[denverdf['RegionName']=='Highland']\n",
    "\n",
    "Highland_Rentals_Trans = rentalPrices_highland.T"
   ]
  },
  {
   "cell_type": "code",
   "execution_count": 10,
   "metadata": {},
   "outputs": [
    {
     "data": {
      "text/html": [
       "<div>\n",
       "<style scoped>\n",
       "    .dataframe tbody tr th:only-of-type {\n",
       "        vertical-align: middle;\n",
       "    }\n",
       "\n",
       "    .dataframe tbody tr th {\n",
       "        vertical-align: top;\n",
       "    }\n",
       "\n",
       "    .dataframe thead th {\n",
       "        text-align: right;\n",
       "    }\n",
       "</style>\n",
       "<table border=\"1\" class=\"dataframe\">\n",
       "  <thead>\n",
       "    <tr style=\"text-align: right;\">\n",
       "      <th></th>\n",
       "      <th>608</th>\n",
       "    </tr>\n",
       "  </thead>\n",
       "  <tbody>\n",
       "    <tr>\n",
       "      <th>2018-03</th>\n",
       "      <td>2.66218</td>\n",
       "    </tr>\n",
       "    <tr>\n",
       "      <th>2018-04</th>\n",
       "      <td>2.59336</td>\n",
       "    </tr>\n",
       "    <tr>\n",
       "      <th>2018-05</th>\n",
       "      <td>2.53074</td>\n",
       "    </tr>\n",
       "    <tr>\n",
       "      <th>2018-06</th>\n",
       "      <td>2.53205</td>\n",
       "    </tr>\n",
       "    <tr>\n",
       "      <th>2018-07</th>\n",
       "      <td>2.51981</td>\n",
       "    </tr>\n",
       "  </tbody>\n",
       "</table>\n",
       "</div>"
      ],
      "text/plain": [
       "             608\n",
       "2018-03  2.66218\n",
       "2018-04  2.59336\n",
       "2018-05  2.53074\n",
       "2018-06  2.53205\n",
       "2018-07  2.51981"
      ]
     },
     "execution_count": 10,
     "metadata": {},
     "output_type": "execute_result"
    }
   ],
   "source": [
    "Highland_Rentals_Trans.tail()"
   ]
  },
  {
   "cell_type": "code",
   "execution_count": 11,
   "metadata": {},
   "outputs": [],
   "source": [
    "#plot median rental per square foot over time in the Highlands neighborhood\n",
    "rental_price_persqft_Highland = denverdf.iloc[14, -32:]\n",
    "H_rental = pd.DataFrame(rental_price_persqft_Highland).reset_index()"
   ]
  },
  {
   "cell_type": "code",
   "execution_count": 12,
   "metadata": {},
   "outputs": [
    {
     "data": {
      "text/html": [
       "<div>\n",
       "<style scoped>\n",
       "    .dataframe tbody tr th:only-of-type {\n",
       "        vertical-align: middle;\n",
       "    }\n",
       "\n",
       "    .dataframe tbody tr th {\n",
       "        vertical-align: top;\n",
       "    }\n",
       "\n",
       "    .dataframe thead th {\n",
       "        text-align: right;\n",
       "    }\n",
       "</style>\n",
       "<table border=\"1\" class=\"dataframe\">\n",
       "  <thead>\n",
       "    <tr style=\"text-align: right;\">\n",
       "      <th></th>\n",
       "      <th>Month</th>\n",
       "      <th>Price Per Sqft</th>\n",
       "    </tr>\n",
       "  </thead>\n",
       "  <tbody>\n",
       "    <tr>\n",
       "      <th>0</th>\n",
       "      <td>2015-12</td>\n",
       "      <td>2.24359</td>\n",
       "    </tr>\n",
       "    <tr>\n",
       "      <th>1</th>\n",
       "      <td>2016-01</td>\n",
       "      <td>2.24359</td>\n",
       "    </tr>\n",
       "    <tr>\n",
       "      <th>2</th>\n",
       "      <td>2016-02</td>\n",
       "      <td>2.26035</td>\n",
       "    </tr>\n",
       "    <tr>\n",
       "      <th>3</th>\n",
       "      <td>2016-03</td>\n",
       "      <td>2.3155</td>\n",
       "    </tr>\n",
       "    <tr>\n",
       "      <th>4</th>\n",
       "      <td>2016-04</td>\n",
       "      <td>2.49057</td>\n",
       "    </tr>\n",
       "  </tbody>\n",
       "</table>\n",
       "</div>"
      ],
      "text/plain": [
       "     Month Price Per Sqft\n",
       "0  2015-12        2.24359\n",
       "1  2016-01        2.24359\n",
       "2  2016-02        2.26035\n",
       "3  2016-03         2.3155\n",
       "4  2016-04        2.49057"
      ]
     },
     "execution_count": 12,
     "metadata": {},
     "output_type": "execute_result"
    }
   ],
   "source": [
    "H_rental.columns = [\"Month\", \"Price Per Sqft\"]\n",
    "H_rental.head()"
   ]
  },
  {
   "cell_type": "code",
   "execution_count": 13,
   "metadata": {},
   "outputs": [],
   "source": [
    "H_rental[\"Month Only\"] = pd.to_datetime(H_rental[\"Month\"]).dt.month"
   ]
  },
  {
   "cell_type": "code",
   "execution_count": 14,
   "metadata": {},
   "outputs": [
    {
     "data": {
      "text/html": [
       "<div>\n",
       "<style scoped>\n",
       "    .dataframe tbody tr th:only-of-type {\n",
       "        vertical-align: middle;\n",
       "    }\n",
       "\n",
       "    .dataframe tbody tr th {\n",
       "        vertical-align: top;\n",
       "    }\n",
       "\n",
       "    .dataframe thead th {\n",
       "        text-align: right;\n",
       "    }\n",
       "</style>\n",
       "<table border=\"1\" class=\"dataframe\">\n",
       "  <thead>\n",
       "    <tr style=\"text-align: right;\">\n",
       "      <th></th>\n",
       "      <th>Month</th>\n",
       "      <th>Price Per Sqft</th>\n",
       "      <th>Month Only</th>\n",
       "    </tr>\n",
       "  </thead>\n",
       "  <tbody>\n",
       "    <tr>\n",
       "      <th>0</th>\n",
       "      <td>2015-12</td>\n",
       "      <td>2.24359</td>\n",
       "      <td>12</td>\n",
       "    </tr>\n",
       "    <tr>\n",
       "      <th>1</th>\n",
       "      <td>2016-01</td>\n",
       "      <td>2.24359</td>\n",
       "      <td>1</td>\n",
       "    </tr>\n",
       "    <tr>\n",
       "      <th>2</th>\n",
       "      <td>2016-02</td>\n",
       "      <td>2.26035</td>\n",
       "      <td>2</td>\n",
       "    </tr>\n",
       "    <tr>\n",
       "      <th>3</th>\n",
       "      <td>2016-03</td>\n",
       "      <td>2.3155</td>\n",
       "      <td>3</td>\n",
       "    </tr>\n",
       "    <tr>\n",
       "      <th>4</th>\n",
       "      <td>2016-04</td>\n",
       "      <td>2.49057</td>\n",
       "      <td>4</td>\n",
       "    </tr>\n",
       "  </tbody>\n",
       "</table>\n",
       "</div>"
      ],
      "text/plain": [
       "     Month Price Per Sqft  Month Only\n",
       "0  2015-12        2.24359          12\n",
       "1  2016-01        2.24359           1\n",
       "2  2016-02        2.26035           2\n",
       "3  2016-03         2.3155           3\n",
       "4  2016-04        2.49057           4"
      ]
     },
     "execution_count": 14,
     "metadata": {},
     "output_type": "execute_result"
    }
   ],
   "source": [
    "H_rental.head()"
   ]
  },
  {
   "cell_type": "code",
   "execution_count": 15,
   "metadata": {},
   "outputs": [
    {
     "data": {
      "text/html": [
       "<div>\n",
       "<style scoped>\n",
       "    .dataframe tbody tr th:only-of-type {\n",
       "        vertical-align: middle;\n",
       "    }\n",
       "\n",
       "    .dataframe tbody tr th {\n",
       "        vertical-align: top;\n",
       "    }\n",
       "\n",
       "    .dataframe thead th {\n",
       "        text-align: right;\n",
       "    }\n",
       "</style>\n",
       "<table border=\"1\" class=\"dataframe\">\n",
       "  <thead>\n",
       "    <tr style=\"text-align: right;\">\n",
       "      <th></th>\n",
       "      <th>Month</th>\n",
       "      <th>Price Per Sqft</th>\n",
       "      <th>Month Only</th>\n",
       "    </tr>\n",
       "  </thead>\n",
       "  <tbody>\n",
       "    <tr>\n",
       "      <th>27</th>\n",
       "      <td>2018-03</td>\n",
       "      <td>2.66218</td>\n",
       "      <td>3</td>\n",
       "    </tr>\n",
       "    <tr>\n",
       "      <th>28</th>\n",
       "      <td>2018-04</td>\n",
       "      <td>2.59336</td>\n",
       "      <td>4</td>\n",
       "    </tr>\n",
       "    <tr>\n",
       "      <th>29</th>\n",
       "      <td>2018-05</td>\n",
       "      <td>2.53074</td>\n",
       "      <td>5</td>\n",
       "    </tr>\n",
       "    <tr>\n",
       "      <th>30</th>\n",
       "      <td>2018-06</td>\n",
       "      <td>2.53205</td>\n",
       "      <td>6</td>\n",
       "    </tr>\n",
       "    <tr>\n",
       "      <th>31</th>\n",
       "      <td>2018-07</td>\n",
       "      <td>2.51981</td>\n",
       "      <td>7</td>\n",
       "    </tr>\n",
       "  </tbody>\n",
       "</table>\n",
       "</div>"
      ],
      "text/plain": [
       "      Month Price Per Sqft  Month Only\n",
       "27  2018-03        2.66218           3\n",
       "28  2018-04        2.59336           4\n",
       "29  2018-05        2.53074           5\n",
       "30  2018-06        2.53205           6\n",
       "31  2018-07        2.51981           7"
      ]
     },
     "execution_count": 15,
     "metadata": {},
     "output_type": "execute_result"
    }
   ],
   "source": [
    "H_rental.tail()"
   ]
  },
  {
   "cell_type": "markdown",
   "metadata": {},
   "source": [
    "##Plot one variable four ways"
   ]
  },
  {
   "cell_type": "code",
   "execution_count": 16,
   "metadata": {},
   "outputs": [
    {
     "data": {
      "text/plain": [
       "2015-12    2.24359\n",
       "2016-01    2.24359\n",
       "2016-02    2.26035\n",
       "2016-03     2.3155\n",
       "2016-04    2.49057\n",
       "2016-05    2.30623\n",
       "2016-06    2.47007\n",
       "2016-07     2.4554\n",
       "2016-08    2.31003\n",
       "2016-09    2.37201\n",
       "2016-10    2.35792\n",
       "2016-11    2.27073\n",
       "2016-12    2.24811\n",
       "2017-01    2.35238\n",
       "2017-02    2.31393\n",
       "2017-03    2.57625\n",
       "2017-04    2.57431\n",
       "2017-05    2.60165\n",
       "2017-06    2.59336\n",
       "2017-07    2.61993\n",
       "2017-08     2.6127\n",
       "2017-09    2.62831\n",
       "2017-10    2.65249\n",
       "2017-11    2.67313\n",
       "2017-12    2.59329\n",
       "2018-01    2.61955\n",
       "2018-02    2.71348\n",
       "2018-03    2.66218\n",
       "2018-04    2.59336\n",
       "2018-05    2.53074\n",
       "2018-06    2.53205\n",
       "2018-07    2.51981\n",
       "Name: 608, dtype: object"
      ]
     },
     "execution_count": 16,
     "metadata": {},
     "output_type": "execute_result"
    }
   ],
   "source": [
    "rental_price_persqft_Highland"
   ]
  },
  {
   "cell_type": "code",
   "execution_count": 17,
   "metadata": {
    "scrolled": true
   },
   "outputs": [
    {
     "data": {
      "text/plain": [
       "Text(0.5,0,'Price Per Square Foot')"
      ]
     },
     "execution_count": 17,
     "metadata": {},
     "output_type": "execute_result"
    },
    {
     "data": {
      "image/png": "[encoded data removed]",
      "text/plain": [
       "<Figure size 432x288 with 1 Axes>"
      ]
     },
     "metadata": {},
     "output_type": "display_data"
    }
   ],
   "source": [
    "plt.hist(rental_price_persqft_Highland, range=(2,3), bins=5, label=\"Median Rental Price Per Squarefoot in Highlands Over Time\")\n",
    "plt.title(\"Plot 1: Histogram of Price Per Square Foot\", fontsize=13)\n",
    "plt.xlabel(\"Price Per Square Foot\")"
   ]
  },
  {
   "cell_type": "markdown",
   "metadata": {},
   "source": [
    "This histogram is not tremendously helpful for this dataset. This is mostly because each number (price per square foot) only shows up once in the dataset, so there is always a count of 1. You cannot determine any sort of distribution from it. One pro is that this visual shows that prices have been clustered around the 2.6 mark. "
   ]
  },
  {
   "cell_type": "code",
   "execution_count": 18,
   "metadata": {},
   "outputs": [
    {
     "data": {
      "text/plain": [
       "[<matplotlib.lines.Line2D at 0x28e45c1ab38>]"
      ]
     },
     "execution_count": 18,
     "metadata": {},
     "output_type": "execute_result"
    },
    {
     "data": {
      "image/png": "[encoded data removed]",
      "text/plain": [
       "<Figure size 2880x432 with 1 Axes>"
      ]
     },
     "metadata": {},
     "output_type": "display_data"
    }
   ],
   "source": [
    "plt.figure(figsize=(40,6))\n",
    "plt.plot(H_rental[\"Month\"], H_rental[\"Price Per Sqft\"])\n",
    "\n"
   ]
  },
  {
   "cell_type": "code",
   "execution_count": 20,
   "metadata": {},
   "outputs": [
    {
     "ename": "DataError",
     "evalue": "No numeric types to aggregate",
     "output_type": "error",
     "traceback": [
      "\u001b[1;31m---------------------------------------------------------------------------\u001b[0m",
      "\u001b[1;31mDataError\u001b[0m                                 Traceback (most recent call last)",
      "\u001b[1;32m<ipython-input-20-e30be4bcf4a9>\u001b[0m in \u001b[0;36m<module>\u001b[1;34m()\u001b[0m\n\u001b[0;32m      1\u001b[0m \u001b[0msns\u001b[0m\u001b[1;33m.\u001b[0m\u001b[0mset\u001b[0m\u001b[1;33m(\u001b[0m\u001b[0mstyle\u001b[0m\u001b[1;33m=\u001b[0m\u001b[1;34m\"darkgrid\"\u001b[0m\u001b[1;33m)\u001b[0m\u001b[1;33m\u001b[0m\u001b[0m\n\u001b[0;32m      2\u001b[0m \u001b[1;33m\u001b[0m\u001b[0m\n\u001b[1;32m----> 3\u001b[1;33m \u001b[0msns\u001b[0m\u001b[1;33m.\u001b[0m\u001b[0mlineplot\u001b[0m\u001b[1;33m(\u001b[0m\u001b[0mx\u001b[0m \u001b[1;33m=\u001b[0m \u001b[1;34m\"Month\"\u001b[0m\u001b[1;33m,\u001b[0m \u001b[0my\u001b[0m \u001b[1;33m=\u001b[0m \u001b[1;34m\"Price Per Sqft\"\u001b[0m\u001b[1;33m,\u001b[0m \u001b[0mdata\u001b[0m\u001b[1;33m=\u001b[0m\u001b[0mH_rental\u001b[0m\u001b[1;33m)\u001b[0m\u001b[1;33m\u001b[0m\u001b[0m\n\u001b[0m",
      "\u001b[1;32m~\\AppData\\Local\\Continuum\\anaconda3\\lib\\site-packages\\seaborn\\relational.py\u001b[0m in \u001b[0;36mlineplot\u001b[1;34m(x, y, hue, size, style, data, palette, hue_order, hue_norm, sizes, size_order, size_norm, dashes, markers, style_order, units, estimator, ci, n_boot, sort, err_style, err_kws, legend, ax, **kwargs)\u001b[0m\n\u001b[0;32m   1082\u001b[0m         \u001b[0max\u001b[0m \u001b[1;33m=\u001b[0m \u001b[0mplt\u001b[0m\u001b[1;33m.\u001b[0m\u001b[0mgca\u001b[0m\u001b[1;33m(\u001b[0m\u001b[1;33m)\u001b[0m\u001b[1;33m\u001b[0m\u001b[0m\n\u001b[0;32m   1083\u001b[0m \u001b[1;33m\u001b[0m\u001b[0m\n\u001b[1;32m-> 1084\u001b[1;33m     \u001b[0mp\u001b[0m\u001b[1;33m.\u001b[0m\u001b[0mplot\u001b[0m\u001b[1;33m(\u001b[0m\u001b[0max\u001b[0m\u001b[1;33m,\u001b[0m \u001b[0mkwargs\u001b[0m\u001b[1;33m)\u001b[0m\u001b[1;33m\u001b[0m\u001b[0m\n\u001b[0m\u001b[0;32m   1085\u001b[0m \u001b[1;33m\u001b[0m\u001b[0m\n\u001b[0;32m   1086\u001b[0m     \u001b[1;32mreturn\u001b[0m \u001b[0max\u001b[0m\u001b[1;33m\u001b[0m\u001b[0m\n",
      "\u001b[1;32m~\\AppData\\Local\\Continuum\\anaconda3\\lib\\site-packages\\seaborn\\relational.py\u001b[0m in \u001b[0;36mplot\u001b[1;34m(self, ax, kws)\u001b[0m\n\u001b[0;32m    773\u001b[0m                     \u001b[0merr\u001b[0m \u001b[1;33m=\u001b[0m \u001b[1;34m\"estimator must be None when specifying units\"\u001b[0m\u001b[1;33m\u001b[0m\u001b[0m\n\u001b[0;32m    774\u001b[0m                     \u001b[1;32mraise\u001b[0m \u001b[0mValueError\u001b[0m\u001b[1;33m(\u001b[0m\u001b[0merr\u001b[0m\u001b[1;33m)\u001b[0m\u001b[1;33m\u001b[0m\u001b[0m\n\u001b[1;32m--> 775\u001b[1;33m                 \u001b[0mx\u001b[0m\u001b[1;33m,\u001b[0m \u001b[0my\u001b[0m\u001b[1;33m,\u001b[0m \u001b[0my_ci\u001b[0m \u001b[1;33m=\u001b[0m \u001b[0mself\u001b[0m\u001b[1;33m.\u001b[0m\u001b[0maggregate\u001b[0m\u001b[1;33m(\u001b[0m\u001b[0my\u001b[0m\u001b[1;33m,\u001b[0m \u001b[0mx\u001b[0m\u001b[1;33m,\u001b[0m \u001b[0munits\u001b[0m\u001b[1;33m)\u001b[0m\u001b[1;33m\u001b[0m\u001b[0m\n\u001b[0m\u001b[0;32m    776\u001b[0m             \u001b[1;32melse\u001b[0m\u001b[1;33m:\u001b[0m\u001b[1;33m\u001b[0m\u001b[0m\n\u001b[0;32m    777\u001b[0m                 \u001b[0my_ci\u001b[0m \u001b[1;33m=\u001b[0m \u001b[1;32mNone\u001b[0m\u001b[1;33m\u001b[0m\u001b[0m\n",
      "\u001b[1;32m~\\AppData\\Local\\Continuum\\anaconda3\\lib\\site-packages\\seaborn\\relational.py\u001b[0m in \u001b[0;36maggregate\u001b[1;34m(self, vals, grouper, units)\u001b[0m\n\u001b[0;32m    703\u001b[0m         \u001b[1;31m# Group and get the aggregation estimate\u001b[0m\u001b[1;33m\u001b[0m\u001b[1;33m\u001b[0m\u001b[0m\n\u001b[0;32m    704\u001b[0m         \u001b[0mgrouped\u001b[0m \u001b[1;33m=\u001b[0m \u001b[0mvals\u001b[0m\u001b[1;33m.\u001b[0m\u001b[0mgroupby\u001b[0m\u001b[1;33m(\u001b[0m\u001b[0mgrouper\u001b[0m\u001b[1;33m,\u001b[0m \u001b[0msort\u001b[0m\u001b[1;33m=\u001b[0m\u001b[0mself\u001b[0m\u001b[1;33m.\u001b[0m\u001b[0msort\u001b[0m\u001b[1;33m)\u001b[0m\u001b[1;33m\u001b[0m\u001b[0m\n\u001b[1;32m--> 705\u001b[1;33m         \u001b[0mest\u001b[0m \u001b[1;33m=\u001b[0m \u001b[0mgrouped\u001b[0m\u001b[1;33m.\u001b[0m\u001b[0magg\u001b[0m\u001b[1;33m(\u001b[0m\u001b[0mfunc\u001b[0m\u001b[1;33m)\u001b[0m\u001b[1;33m\u001b[0m\u001b[0m\n\u001b[0m\u001b[0;32m    706\u001b[0m \u001b[1;33m\u001b[0m\u001b[0m\n\u001b[0;32m    707\u001b[0m         \u001b[1;31m# Exit early if we don't want a confidence interval\u001b[0m\u001b[1;33m\u001b[0m\u001b[1;33m\u001b[0m\u001b[0m\n",
      "\u001b[1;32m~\\AppData\\Local\\Continuum\\anaconda3\\lib\\site-packages\\pandas\\core\\groupby\\groupby.py\u001b[0m in \u001b[0;36maggregate\u001b[1;34m(self, func_or_funcs, *args, **kwargs)\u001b[0m\n\u001b[0;32m   3477\u001b[0m         \u001b[0m_level\u001b[0m \u001b[1;33m=\u001b[0m \u001b[0mkwargs\u001b[0m\u001b[1;33m.\u001b[0m\u001b[0mpop\u001b[0m\u001b[1;33m(\u001b[0m\u001b[1;34m'_level'\u001b[0m\u001b[1;33m,\u001b[0m \u001b[1;32mNone\u001b[0m\u001b[1;33m)\u001b[0m\u001b[1;33m\u001b[0m\u001b[0m\n\u001b[0;32m   3478\u001b[0m         \u001b[1;32mif\u001b[0m \u001b[0misinstance\u001b[0m\u001b[1;33m(\u001b[0m\u001b[0mfunc_or_funcs\u001b[0m\u001b[1;33m,\u001b[0m \u001b[0mcompat\u001b[0m\u001b[1;33m.\u001b[0m\u001b[0mstring_types\u001b[0m\u001b[1;33m)\u001b[0m\u001b[1;33m:\u001b[0m\u001b[1;33m\u001b[0m\u001b[0m\n\u001b[1;32m-> 3479\u001b[1;33m             \u001b[1;32mreturn\u001b[0m \u001b[0mgetattr\u001b[0m\u001b[1;33m(\u001b[0m\u001b[0mself\u001b[0m\u001b[1;33m,\u001b[0m \u001b[0mfunc_or_funcs\u001b[0m\u001b[1;33m)\u001b[0m\u001b[1;33m(\u001b[0m\u001b[1;33m*\u001b[0m\u001b[0margs\u001b[0m\u001b[1;33m,\u001b[0m \u001b[1;33m**\u001b[0m\u001b[0mkwargs\u001b[0m\u001b[1;33m)\u001b[0m\u001b[1;33m\u001b[0m\u001b[0m\n\u001b[0m\u001b[0;32m   3480\u001b[0m \u001b[1;33m\u001b[0m\u001b[0m\n\u001b[0;32m   3481\u001b[0m         \u001b[1;32mif\u001b[0m \u001b[0misinstance\u001b[0m\u001b[1;33m(\u001b[0m\u001b[0mfunc_or_funcs\u001b[0m\u001b[1;33m,\u001b[0m \u001b[0mcollections\u001b[0m\u001b[1;33m.\u001b[0m\u001b[0mIterable\u001b[0m\u001b[1;33m)\u001b[0m\u001b[1;33m:\u001b[0m\u001b[1;33m\u001b[0m\u001b[0m\n",
      "\u001b[1;32m~\\AppData\\Local\\Continuum\\anaconda3\\lib\\site-packages\\pandas\\core\\groupby\\groupby.py\u001b[0m in \u001b[0;36mmean\u001b[1;34m(self, *args, **kwargs)\u001b[0m\n\u001b[0;32m   1304\u001b[0m         \u001b[0mnv\u001b[0m\u001b[1;33m.\u001b[0m\u001b[0mvalidate_groupby_func\u001b[0m\u001b[1;33m(\u001b[0m\u001b[1;34m'mean'\u001b[0m\u001b[1;33m,\u001b[0m \u001b[0margs\u001b[0m\u001b[1;33m,\u001b[0m \u001b[0mkwargs\u001b[0m\u001b[1;33m,\u001b[0m \u001b[1;33m[\u001b[0m\u001b[1;34m'numeric_only'\u001b[0m\u001b[1;33m]\u001b[0m\u001b[1;33m)\u001b[0m\u001b[1;33m\u001b[0m\u001b[0m\n\u001b[0;32m   1305\u001b[0m         \u001b[1;32mtry\u001b[0m\u001b[1;33m:\u001b[0m\u001b[1;33m\u001b[0m\u001b[0m\n\u001b[1;32m-> 1306\u001b[1;33m             \u001b[1;32mreturn\u001b[0m \u001b[0mself\u001b[0m\u001b[1;33m.\u001b[0m\u001b[0m_cython_agg_general\u001b[0m\u001b[1;33m(\u001b[0m\u001b[1;34m'mean'\u001b[0m\u001b[1;33m,\u001b[0m \u001b[1;33m**\u001b[0m\u001b[0mkwargs\u001b[0m\u001b[1;33m)\u001b[0m\u001b[1;33m\u001b[0m\u001b[0m\n\u001b[0m\u001b[0;32m   1307\u001b[0m         \u001b[1;32mexcept\u001b[0m \u001b[0mGroupByError\u001b[0m\u001b[1;33m:\u001b[0m\u001b[1;33m\u001b[0m\u001b[0m\n\u001b[0;32m   1308\u001b[0m             \u001b[1;32mraise\u001b[0m\u001b[1;33m\u001b[0m\u001b[0m\n",
      "\u001b[1;32m~\\AppData\\Local\\Continuum\\anaconda3\\lib\\site-packages\\pandas\\core\\groupby\\groupby.py\u001b[0m in \u001b[0;36m_cython_agg_general\u001b[1;34m(self, how, alt, numeric_only, min_count)\u001b[0m\n\u001b[0;32m   1054\u001b[0m \u001b[1;33m\u001b[0m\u001b[0m\n\u001b[0;32m   1055\u001b[0m         \u001b[1;32mif\u001b[0m \u001b[0mlen\u001b[0m\u001b[1;33m(\u001b[0m\u001b[0moutput\u001b[0m\u001b[1;33m)\u001b[0m \u001b[1;33m==\u001b[0m \u001b[1;36m0\u001b[0m\u001b[1;33m:\u001b[0m\u001b[1;33m\u001b[0m\u001b[0m\n\u001b[1;32m-> 1056\u001b[1;33m             \u001b[1;32mraise\u001b[0m \u001b[0mDataError\u001b[0m\u001b[1;33m(\u001b[0m\u001b[1;34m'No numeric types to aggregate'\u001b[0m\u001b[1;33m)\u001b[0m\u001b[1;33m\u001b[0m\u001b[0m\n\u001b[0m\u001b[0;32m   1057\u001b[0m \u001b[1;33m\u001b[0m\u001b[0m\n\u001b[0;32m   1058\u001b[0m         \u001b[1;32mreturn\u001b[0m \u001b[0mself\u001b[0m\u001b[1;33m.\u001b[0m\u001b[0m_wrap_aggregated_output\u001b[0m\u001b[1;33m(\u001b[0m\u001b[0moutput\u001b[0m\u001b[1;33m,\u001b[0m \u001b[0mnames\u001b[0m\u001b[1;33m)\u001b[0m\u001b[1;33m\u001b[0m\u001b[0m\n",
      "\u001b[1;31mDataError\u001b[0m: No numeric types to aggregate"
     ]
    },
    {
     "data": {
      "image/png": "[encoded data removed]",
      "text/plain": [
       "<Figure size 432x288 with 1 Axes>"
      ]
     },
     "metadata": {},
     "output_type": "display_data"
    }
   ],
   "source": [
    "sns.set(style=\"darkgrid\")\n",
    "\n",
    "sns.lineplot(x = \"Month\", y = \"Price Per Sqft\", data=H_rental)"
   ]
  },
  {
   "cell_type": "code",
   "execution_count": 38,
   "metadata": {},
   "outputs": [
    {
     "data": {
      "text/plain": [
       "Text(0.5,1,'Plot 2: Pointplot of Price Per Square Foot By Month')"
      ]
     },
     "execution_count": 38,
     "metadata": {},
     "output_type": "execute_result"
    },
    {
     "data": {
      "image/png": "[encoded data removed]",
      "text/plain": [
       "<Figure size 432x288 with 1 Axes>"
      ]
     },
     "metadata": {},
     "output_type": "display_data"
    }
   ],
   "source": [
    "sns.set(style=\"whitegrid\")\n",
    "\n",
    "sns.pointplot(x=\"Month Only\", y=\"Price Per Sqft\", data=H_rental, color=\"steelblue\", size=10)\n",
    "\n",
    "plt.title(\"Plot 2: Pointplot of Price Per Square Foot By Month\", fontsize=13)"
   ]
  },
  {
   "cell_type": "markdown",
   "metadata": {},
   "source": [
    "This pointplot has its pros and cons. The first pro is that you're able to pull out trends about rental prices depending on the month. Additionally, you can see both the mean of the price per square foot for any given month and also the range of the data. The con of this visual for this particular dataset is that you cannot tell how rental prices change over the course of the three years included in the dataset. (When I tried to show that data, there were too many datapoints and the xticks were illegible.)"
   ]
  },
  {
   "cell_type": "code",
   "execution_count": 37,
   "metadata": {},
   "outputs": [
    {
     "data": {
      "text/plain": [
       "Text(0.5,1,'Plot 3: Price Per Square Foot By Month')"
      ]
     },
     "execution_count": 37,
     "metadata": {},
     "output_type": "execute_result"
    },
    {
     "data": {
      "image/png": "[encoded data removed]",
      "text/plain": [
       "<Figure size 432x432 with 1 Axes>"
      ]
     },
     "metadata": {},
     "output_type": "display_data"
    }
   ],
   "source": [
    "sns.set(style=\"dark\")\n",
    "\n",
    "c = sns.factorplot(x=\"Month Only\", y=\"Price Per Sqft\", data=H_rental, size=6, kind=\"bar\", palette=\"deep\")\n",
    "plt.title(\"Plot 3: Price Per Square Foot By Month\", fontsize=13)"
   ]
  },
  {
   "cell_type": "markdown",
   "metadata": {},
   "source": [
    "This barplot shows both the mean of the price per square foot each month and also the error. One downside is that the space between 0 and 2 here is wasted because all of the datapoints are in the 2.0 to 2.7 range. However, the barplot still needs to start at 0 because it shows more accurately the relative differences between each month's mean. "
   ]
  },
  {
   "cell_type": "code",
   "execution_count": 30,
   "metadata": {},
   "outputs": [
    {
     "data": {
      "text/plain": [
       "(array([ 0,  1,  2,  3,  4,  5,  6,  7,  8,  9, 10, 11, 12, 13, 14, 15, 16,\n",
       "        17, 18, 19, 20, 21, 22, 23, 24, 25, 26, 27, 28, 29, 30, 31]),\n",
       " <a list of 32 Text xticklabel objects>)"
      ]
     },
     "execution_count": 30,
     "metadata": {},
     "output_type": "execute_result"
    },
    {
     "data": {
      "image/png": "[encoded data removed]",
      "text/plain": [
       "<Figure size 1080x432 with 1 Axes>"
      ]
     },
     "metadata": {},
     "output_type": "display_data"
    }
   ],
   "source": [
    "\n",
    "plt.figure(figsize=(15,6))\n",
    "sns.set(style=\"whitegrid\")\n",
    "\n",
    "b = sns.boxplot(x=\"Month\", y=\"Price Per Sqft\", data=H_rental, palette=\"bright\")\n",
    "plt.title(\"Plot 4: Boxplot of Price Per Sqft Over Time\", fontsize=13)\n",
    "plt.xticks(rotation=70)"
   ]
  },
  {
   "cell_type": "markdown",
   "metadata": {},
   "source": [
    "This boxplot does not look like a boxplot because there are so many datapoints and so many \"categories.\" It effecively looks like a scatterplot with short lines instead of dots. I am going to try to plot this by month below to see if it looks any more like a boxplot. I predit that it will, but not by a ton. (This did not end up working - as seen by the error below - because the lists of data were not equal in length.)"
   ]
  },
  {
   "cell_type": "code",
   "execution_count": 3,
   "metadata": {},
   "outputs": [
    {
     "ename": "NameError",
     "evalue": "name 'H_rental' is not defined",
     "output_type": "error",
     "traceback": [
      "\u001b[1;31m---------------------------------------------------------------------------\u001b[0m",
      "\u001b[1;31mNameError\u001b[0m                                 Traceback (most recent call last)",
      "\u001b[1;32m<ipython-input-3-50ce04c6e4c7>\u001b[0m in \u001b[0;36m<module>\u001b[1;34m()\u001b[0m\n\u001b[0;32m      1\u001b[0m \u001b[0msns\u001b[0m\u001b[1;33m.\u001b[0m\u001b[0mset\u001b[0m\u001b[1;33m(\u001b[0m\u001b[0mstyle\u001b[0m\u001b[1;33m=\u001b[0m\u001b[1;34m\"whitegrid\"\u001b[0m\u001b[1;33m)\u001b[0m\u001b[1;33m\u001b[0m\u001b[0m\n\u001b[0;32m      2\u001b[0m \u001b[1;33m\u001b[0m\u001b[0m\n\u001b[1;32m----> 3\u001b[1;33m \u001b[0mb\u001b[0m \u001b[1;33m=\u001b[0m \u001b[0msns\u001b[0m\u001b[1;33m.\u001b[0m\u001b[0mboxplot\u001b[0m\u001b[1;33m(\u001b[0m\u001b[0mx\u001b[0m\u001b[1;33m=\u001b[0m\u001b[1;34m\"Month Only\"\u001b[0m\u001b[1;33m,\u001b[0m \u001b[0my\u001b[0m\u001b[1;33m=\u001b[0m\u001b[1;34m\"Price Per Sqft\"\u001b[0m\u001b[1;33m,\u001b[0m \u001b[0mdata\u001b[0m\u001b[1;33m=\u001b[0m\u001b[0mH_rental\u001b[0m\u001b[1;33m,\u001b[0m \u001b[0mpalette\u001b[0m\u001b[1;33m=\u001b[0m\u001b[1;34m\"bright\"\u001b[0m\u001b[1;33m)\u001b[0m\u001b[1;33m\u001b[0m\u001b[0m\n\u001b[0m\u001b[0;32m      4\u001b[0m \u001b[0mplt\u001b[0m\u001b[1;33m.\u001b[0m\u001b[0mtitle\u001b[0m\u001b[1;33m(\u001b[0m\u001b[1;34m\"Plot 4.5: Boxplot of Price Per Sqft By Month\"\u001b[0m\u001b[1;33m)\u001b[0m\u001b[1;33m\u001b[0m\u001b[0m\n",
      "\u001b[1;31mNameError\u001b[0m: name 'H_rental' is not defined"
     ]
    }
   ],
   "source": [
    "sns.set(style=\"whitegrid\")\n",
    "\n",
    "b = sns.boxplot(x=\"Month Only\", y=\"Price Per Sqft\", data=H_rental, palette=\"bright\")\n",
    "plt.title(\"Plot 4.5: Boxplot of Price Per Sqft By Month\")"
   ]
  },
  {
   "cell_type": "markdown",
   "metadata": {},
   "source": [
    "##Plot two variables three ways"
   ]
  },
  {
   "cell_type": "code",
   "execution_count": 35,
   "metadata": {},
   "outputs": [
    {
     "data": {
      "text/plain": [
       "Text(0.5,1,'Plot 1: Scatter Plot of SizeRank and July 2018 Price Per Square Foot')"
      ]
     },
     "execution_count": 35,
     "metadata": {},
     "output_type": "execute_result"
    },
    {
     "data": {
      "image/png": "[encoded data removed]",
      "text/plain": [
       "<Figure size 360x360 with 1 Axes>"
      ]
     },
     "metadata": {},
     "output_type": "display_data"
    }
   ],
   "source": [
    "sns.set(style=\"whitegrid\")\n",
    "sns.lmplot(y=\"SizeRank\", x=\"2018-07\", data=denverdf, fit_reg=True)\n",
    "plt.xlabel(\"Price Per Square Foot in July 2018\")\n",
    "plt.title(\"Plot 1: Scatter Plot of SizeRank and July 2018 Price Per Square Foot\", fontsize=13)"
   ]
  },
  {
   "cell_type": "markdown",
   "metadata": {},
   "source": [
    "Out of the four visuals I created to plot two continuous variables, this scatterplot is the clearest. From it, you can see that there is a correlation between a neighborhood's size rank and its price per square foot in July 2018. Additionally, it's easy to spot outliers (like the neighborhood that has a size rank of almost 1000 and a price per square foot that is less than $2.2. The only potential con that I see is the wasted space in the lower left of the plot. "
   ]
  },
  {
   "cell_type": "code",
   "execution_count": 34,
   "metadata": {},
   "outputs": [
    {
     "data": {
      "text/plain": [
       "Text(0.5,1,'Plot 2: Kernel density estimate plot of SizeRank versus Price Per Square Foot')"
      ]
     },
     "execution_count": 34,
     "metadata": {},
     "output_type": "execute_result"
    },
    {
     "data": {
      "image/png": "[encoded data removed]",
      "text/plain": [
       "<Figure size 432x432 with 3 Axes>"
      ]
     },
     "metadata": {},
     "output_type": "display_data"
    }
   ],
   "source": [
    "sns.set(style=\"darkgrid\")\n",
    "\n",
    "sns.jointplot(x=\"2018-07\", y=\"SizeRank\", data=denverdf, kind=\"kde\")\n",
    "plt.title(\"Plot 2: Kernel density estimate plot of SizeRank versus Price Per Square Foot\", fontsize=13)"
   ]
  },
  {
   "cell_type": "markdown",
   "metadata": {},
   "source": [
    "Because we are not as often exposed to kernel density estimate (kde) plots, this visual is harder to read at first glance. Once you look harder, you can see that the main grid is showing the density of the datapoints. For example, the density seems highest at around a size rank of 700 and a price per square foot of 2.2. There is another pocket of high-density at 550 and 1.8. The narrow grids opposite the x- and y-axes show a histogram-esque visual of just one variable. These seem like they could be very telling.\n"
   ]
  },
  {
   "cell_type": "code",
   "execution_count": 24,
   "metadata": {},
   "outputs": [
    {
     "ename": "AttributeError",
     "evalue": "module 'seaborn' has no attribute 'relplot'",
     "output_type": "error",
     "traceback": [
      "\u001b[1;31m---------------------------------------------------------------------------\u001b[0m",
      "\u001b[1;31mAttributeError\u001b[0m                            Traceback (most recent call last)",
      "\u001b[1;32m<ipython-input-24-26fdd8e8db6b>\u001b[0m in \u001b[0;36m<module>\u001b[1;34m()\u001b[0m\n\u001b[0;32m      1\u001b[0m \u001b[0msns\u001b[0m\u001b[1;33m.\u001b[0m\u001b[0mset\u001b[0m\u001b[1;33m(\u001b[0m\u001b[0mstyle\u001b[0m\u001b[1;33m=\u001b[0m\u001b[1;34m\"whitegrid\"\u001b[0m\u001b[1;33m)\u001b[0m\u001b[1;33m\u001b[0m\u001b[0m\n\u001b[0;32m      2\u001b[0m \u001b[1;33m\u001b[0m\u001b[0m\n\u001b[1;32m----> 3\u001b[1;33m \u001b[0msns\u001b[0m\u001b[1;33m.\u001b[0m\u001b[0mrelplot\u001b[0m\u001b[1;33m(\u001b[0m\u001b[0mx\u001b[0m\u001b[1;33m=\u001b[0m\u001b[1;34m\"2018-07\"\u001b[0m\u001b[1;33m,\u001b[0m \u001b[0my\u001b[0m\u001b[1;33m=\u001b[0m\u001b[1;34m\"SizeRank\"\u001b[0m\u001b[1;33m,\u001b[0m \u001b[0mdata\u001b[0m\u001b[1;33m=\u001b[0m\u001b[0mdenverdf\u001b[0m\u001b[1;33m,\u001b[0m \u001b[0mkind\u001b[0m \u001b[1;33m=\u001b[0m \u001b[1;34m\"line\"\u001b[0m\u001b[1;33m)\u001b[0m\u001b[1;33m\u001b[0m\u001b[0m\n\u001b[0m",
      "\u001b[1;31mAttributeError\u001b[0m: module 'seaborn' has no attribute 'relplot'"
     ]
    }
   ],
   "source": [
    "sns.set(style=\"whitegrid\") \n",
    "\n",
    "sns.relplot(x=\"2018-07\", y=\"SizeRank\", data=denverdf, kind = \"line\")"
   ]
  },
  {
   "cell_type": "code",
   "execution_count": 47,
   "metadata": {},
   "outputs": [],
   "source": [
    "pd.set_option('display.float_format', lambda x: '%.2f' % x)"
   ]
  },
  {
   "cell_type": "code",
   "execution_count": 48,
   "metadata": {},
   "outputs": [
    {
     "data": {
      "text/plain": [
       "(array([ 0,  1,  2,  3,  4,  5,  6,  7,  8,  9, 10, 11, 12, 13, 14, 15, 16,\n",
       "        17, 18, 19, 20, 21, 22, 23, 24, 25, 26, 27, 28]),\n",
       " <a list of 29 Text xticklabel objects>)"
      ]
     },
     "execution_count": 48,
     "metadata": {},
     "output_type": "execute_result"
    },
    {
     "data": {
      "image/png": "[encoded data removed]",
      "text/plain": [
       "<Figure size 1440x288 with 1 Axes>"
      ]
     },
     "metadata": {},
     "output_type": "display_data"
    }
   ],
   "source": [
    "from matplotlib.ticker import FormatStrFormatter\n",
    "\n",
    "#sns.set(style=\"whitegrid\")\n",
    "sns.factorplot(x=\"2018-07\", y=\"SizeRank\", data=denverdf, kind=\"bar\", palette=\"muted\", size=4, aspect=5)\n",
    "plt.title(\"Plot 3: Bar Graph of July 2018 Price Per Sqft Versus SizeRank\", fontsize=13)\n",
    "plt.xticks(rotation=70)\n",
    "\n",
    "#plt.xlabel.set_major_formatter(FormatStrFormatter('%.2f'))\n",
    "#plt.xlabel(format='%.2f')"
   ]
  },
  {
   "cell_type": "markdown",
   "metadata": {},
   "source": [
    "This barplot is different from the other in that it's comparing two continuous variables instead of just giving a count of one. Here, each price per square foot (along the x-axis) has its own bar, and bar is as tall as its size rank. That outlier (at almost 1000) that is seen in the scatterplot is also seen here, not quite as clearly. \n",
    "\n",
    "Again, the x-ticks are impossible to read. How do I solve for that?"
   ]
  },
  {
   "cell_type": "code",
   "execution_count": 42,
   "metadata": {},
   "outputs": [
    {
     "name": "stderr",
     "output_type": "stream",
     "text": [
      "C:\\Users\\jesst\\AppData\\Local\\Continuum\\anaconda3\\lib\\site-packages\\matplotlib\\axes\\_axes.py:6462: UserWarning: The 'normed' kwarg is deprecated, and has been replaced by the 'density' kwarg.\n",
      "  warnings.warn(\"The 'normed' kwarg is deprecated, and has been \"\n",
      "C:\\Users\\jesst\\AppData\\Local\\Continuum\\anaconda3\\lib\\site-packages\\matplotlib\\axes\\_axes.py:6462: UserWarning: The 'normed' kwarg is deprecated, and has been replaced by the 'density' kwarg.\n",
      "  warnings.warn(\"The 'normed' kwarg is deprecated, and has been \"\n"
     ]
    },
    {
     "data": {
      "text/plain": [
       "Text(0.5,1,'Plot 4: Hex plot of SizeRank versus Price Per Square Foot')"
      ]
     },
     "execution_count": 42,
     "metadata": {},
     "output_type": "execute_result"
    },
    {
     "data": {
      "image/png": "[encoded data removed]",
      "text/plain": [
       "<Figure size 432x432 with 3 Axes>"
      ]
     },
     "metadata": {},
     "output_type": "display_data"
    }
   ],
   "source": [
    "sns.set(style=\"whitegrid\")\n",
    "\n",
    "sns.jointplot(x=\"2018-07\", y=\"SizeRank\", data=denverdf, kind=\"hex\")\n",
    "plt.ylim(0,1100)\n",
    "plt.xlim(1.0,3.5)\n",
    "plt.title(\"Plot 4: Hex plot of SizeRank versus Price Per Square Foot\", fontsize=13)"
   ]
  },
  {
   "cell_type": "markdown",
   "metadata": {},
   "source": [
    "This hex plot is **very** similar to the kde plot. The barplot-type visuals along the perimeter are not as clear or helpful as the histograms in the kde plot."
   ]
  },
  {
   "cell_type": "markdown",
   "metadata": {},
   "source": [
    "##Plot one continuous variable and one categorical variable six different ways"
   ]
  },
  {
   "cell_type": "code",
   "execution_count": 54,
   "metadata": {},
   "outputs": [
    {
     "name": "stderr",
     "output_type": "stream",
     "text": [
      "C:\\Users\\jesst\\AppData\\Local\\Continuum\\anaconda3\\lib\\site-packages\\pandas\\core\\indexing.py:362: SettingWithCopyWarning: \n",
      "A value is trying to be set on a copy of a slice from a DataFrame.\n",
      "Try using .loc[row_indexer,col_indexer] = value instead\n",
      "\n",
      "See the caveats in the documentation: http://pandas.pydata.org/pandas-docs/stable/indexing.html#indexing-view-versus-copy\n",
      "  self.obj[key] = _infer_fill_value(value)\n",
      "C:\\Users\\jesst\\AppData\\Local\\Continuum\\anaconda3\\lib\\site-packages\\pandas\\core\\indexing.py:543: SettingWithCopyWarning: \n",
      "A value is trying to be set on a copy of a slice from a DataFrame.\n",
      "Try using .loc[row_indexer,col_indexer] = value instead\n",
      "\n",
      "See the caveats in the documentation: http://pandas.pydata.org/pandas-docs/stable/indexing.html#indexing-view-versus-copy\n",
      "  self.obj[item] = s\n"
     ]
    }
   ],
   "source": [
    "denverdf.loc[denverdf[\"SizeRank\"] >= 500, \"Size\"] = \"Large\"\n",
    "denverdf.loc[denverdf[\"SizeRank\"] < 500, \"Size\"] = \"Small\"\n"
   ]
  },
  {
   "cell_type": "code",
   "execution_count": 64,
   "metadata": {},
   "outputs": [
    {
     "data": {
      "text/html": [
       "<div>\n",
       "<style scoped>\n",
       "    .dataframe tbody tr th:only-of-type {\n",
       "        vertical-align: middle;\n",
       "    }\n",
       "\n",
       "    .dataframe tbody tr th {\n",
       "        vertical-align: top;\n",
       "    }\n",
       "\n",
       "    .dataframe thead th {\n",
       "        text-align: right;\n",
       "    }\n",
       "</style>\n",
       "<table border=\"1\" class=\"dataframe\">\n",
       "  <thead>\n",
       "    <tr style=\"text-align: right;\">\n",
       "      <th></th>\n",
       "      <th>RegionName</th>\n",
       "      <th>City</th>\n",
       "      <th>State</th>\n",
       "      <th>Metro</th>\n",
       "      <th>CountyName</th>\n",
       "      <th>SizeRank</th>\n",
       "      <th>2010-02</th>\n",
       "      <th>2010-03</th>\n",
       "      <th>2010-04</th>\n",
       "      <th>2010-05</th>\n",
       "      <th>...</th>\n",
       "      <th>2017-11</th>\n",
       "      <th>2017-12</th>\n",
       "      <th>2018-01</th>\n",
       "      <th>2018-02</th>\n",
       "      <th>2018-03</th>\n",
       "      <th>2018-04</th>\n",
       "      <th>2018-05</th>\n",
       "      <th>2018-06</th>\n",
       "      <th>2018-07</th>\n",
       "      <th>Size</th>\n",
       "    </tr>\n",
       "  </thead>\n",
       "  <tbody>\n",
       "    <tr>\n",
       "      <th>206</th>\n",
       "      <td>Gateway - Green Valley Ranch</td>\n",
       "      <td>Denver</td>\n",
       "      <td>CO</td>\n",
       "      <td>Denver</td>\n",
       "      <td>Denver</td>\n",
       "      <td>207</td>\n",
       "      <td>NaN</td>\n",
       "      <td>NaN</td>\n",
       "      <td>NaN</td>\n",
       "      <td>NaN</td>\n",
       "      <td>...</td>\n",
       "      <td>1.417370</td>\n",
       "      <td>1.429433</td>\n",
       "      <td>1.467732</td>\n",
       "      <td>1.529589</td>\n",
       "      <td>1.550060</td>\n",
       "      <td>1.562123</td>\n",
       "      <td>1.574186</td>\n",
       "      <td>1.579453</td>\n",
       "      <td>1.585757</td>\n",
       "      <td>Small</td>\n",
       "    </tr>\n",
       "    <tr>\n",
       "      <th>324</th>\n",
       "      <td>Gateway - Green Valley Ranch</td>\n",
       "      <td>Denver</td>\n",
       "      <td>CO</td>\n",
       "      <td>Denver</td>\n",
       "      <td>Denver</td>\n",
       "      <td>325</td>\n",
       "      <td>NaN</td>\n",
       "      <td>NaN</td>\n",
       "      <td>NaN</td>\n",
       "      <td>NaN</td>\n",
       "      <td>...</td>\n",
       "      <td>1.546963</td>\n",
       "      <td>1.566406</td>\n",
       "      <td>1.605839</td>\n",
       "      <td>1.571142</td>\n",
       "      <td>1.640514</td>\n",
       "      <td>1.718618</td>\n",
       "      <td>1.765577</td>\n",
       "      <td>1.720459</td>\n",
       "      <td>1.720000</td>\n",
       "      <td>Small</td>\n",
       "    </tr>\n",
       "    <tr>\n",
       "      <th>399</th>\n",
       "      <td>Gateway - Green Valley Ranch</td>\n",
       "      <td>Denver</td>\n",
       "      <td>CO</td>\n",
       "      <td>Denver</td>\n",
       "      <td>Denver</td>\n",
       "      <td>400</td>\n",
       "      <td>NaN</td>\n",
       "      <td>NaN</td>\n",
       "      <td>NaN</td>\n",
       "      <td>NaN</td>\n",
       "      <td>...</td>\n",
       "      <td>2.049200</td>\n",
       "      <td>2.051534</td>\n",
       "      <td>2.079371</td>\n",
       "      <td>1.990000</td>\n",
       "      <td>2.063271</td>\n",
       "      <td>2.075871</td>\n",
       "      <td>2.137500</td>\n",
       "      <td>2.149999</td>\n",
       "      <td>2.116567</td>\n",
       "      <td>Small</td>\n",
       "    </tr>\n",
       "    <tr>\n",
       "      <th>424</th>\n",
       "      <td>Gateway - Green Valley Ranch</td>\n",
       "      <td>Denver</td>\n",
       "      <td>CO</td>\n",
       "      <td>Denver</td>\n",
       "      <td>Denver</td>\n",
       "      <td>425</td>\n",
       "      <td>NaN</td>\n",
       "      <td>NaN</td>\n",
       "      <td>NaN</td>\n",
       "      <td>NaN</td>\n",
       "      <td>...</td>\n",
       "      <td>1.909639</td>\n",
       "      <td>1.879087</td>\n",
       "      <td>1.854701</td>\n",
       "      <td>1.789462</td>\n",
       "      <td>1.739492</td>\n",
       "      <td>1.761638</td>\n",
       "      <td>1.736318</td>\n",
       "      <td>1.743164</td>\n",
       "      <td>1.748880</td>\n",
       "      <td>Small</td>\n",
       "    </tr>\n",
       "    <tr>\n",
       "      <th>446</th>\n",
       "      <td>Gateway - Green Valley Ranch</td>\n",
       "      <td>Denver</td>\n",
       "      <td>CO</td>\n",
       "      <td>Denver</td>\n",
       "      <td>Denver</td>\n",
       "      <td>447</td>\n",
       "      <td>NaN</td>\n",
       "      <td>NaN</td>\n",
       "      <td>NaN</td>\n",
       "      <td>NaN</td>\n",
       "      <td>...</td>\n",
       "      <td>1.481982</td>\n",
       "      <td>1.451511</td>\n",
       "      <td>1.460477</td>\n",
       "      <td>1.473037</td>\n",
       "      <td>1.476418</td>\n",
       "      <td>1.514546</td>\n",
       "      <td>1.596577</td>\n",
       "      <td>1.515982</td>\n",
       "      <td>1.563063</td>\n",
       "      <td>Small</td>\n",
       "    </tr>\n",
       "  </tbody>\n",
       "</table>\n",
       "<p>5 rows × 109 columns</p>\n",
       "</div>"
      ],
      "text/plain": [
       "                       RegionName    City State   Metro CountyName  SizeRank  \\\n",
       "206  Gateway - Green Valley Ranch  Denver    CO  Denver     Denver       207   \n",
       "324  Gateway - Green Valley Ranch  Denver    CO  Denver     Denver       325   \n",
       "399  Gateway - Green Valley Ranch  Denver    CO  Denver     Denver       400   \n",
       "424  Gateway - Green Valley Ranch  Denver    CO  Denver     Denver       425   \n",
       "446  Gateway - Green Valley Ranch  Denver    CO  Denver     Denver       447   \n",
       "\n",
       "     2010-02  2010-03  2010-04  2010-05  ...     2017-11   2017-12   2018-01  \\\n",
       "206      NaN      NaN      NaN      NaN  ...    1.417370  1.429433  1.467732   \n",
       "324      NaN      NaN      NaN      NaN  ...    1.546963  1.566406  1.605839   \n",
       "399      NaN      NaN      NaN      NaN  ...    2.049200  2.051534  2.079371   \n",
       "424      NaN      NaN      NaN      NaN  ...    1.909639  1.879087  1.854701   \n",
       "446      NaN      NaN      NaN      NaN  ...    1.481982  1.451511  1.460477   \n",
       "\n",
       "      2018-02   2018-03   2018-04   2018-05   2018-06   2018-07   Size  \n",
       "206  1.529589  1.550060  1.562123  1.574186  1.579453  1.585757  Small  \n",
       "324  1.571142  1.640514  1.718618  1.765577  1.720459  1.720000  Small  \n",
       "399  1.990000  2.063271  2.075871  2.137500  2.149999  2.116567  Small  \n",
       "424  1.789462  1.739492  1.761638  1.736318  1.743164  1.748880  Small  \n",
       "446  1.473037  1.476418  1.514546  1.596577  1.515982  1.563063  Small  \n",
       "\n",
       "[5 rows x 109 columns]"
      ]
     },
     "execution_count": 64,
     "metadata": {},
     "output_type": "execute_result"
    }
   ],
   "source": [
    "denverdf.head()"
   ]
  },
  {
   "cell_type": "code",
   "execution_count": 71,
   "metadata": {
    "scrolled": true
   },
   "outputs": [
    {
     "data": {
      "text/plain": [
       "[Text(0,0.5,'Price Per Sqft'), Text(0.5,0,'')]"
      ]
     },
     "execution_count": 71,
     "metadata": {},
     "output_type": "execute_result"
    },
    {
     "data": {
      "image/png": "[encoded data removed]",
      "text/plain": [
       "<Figure size 432x288 with 1 Axes>"
      ]
     },
     "metadata": {},
     "output_type": "display_data"
    }
   ],
   "source": [
    "sns.set(style=\"darkgrid\")\n",
    "\n",
    "a = sns.boxplot(x=\"Size\", y=\"2018-07\", data=denverdf, palette=\"muted\")\n",
    "plt.title(\"Plot 1: Boxplot of Price Per Sqft By Size of Neighborhood\", fontsize=13)\n",
    "a.set(xlabel=\"\", ylabel=\"Price Per Sqft\")\n"
   ]
  },
  {
   "cell_type": "markdown",
   "metadata": {},
   "source": [
    "The strengths of this boxplot are that it's easy to tell that the mean price per square foot is higher in large neighborhoods versus small neighborhoods, it's easy to identify the outliers, and it's clear where the datapoints mostly fall (within the whiskers). One negative is that you can't tell how many datapoints are included in this dataset."
   ]
  },
  {
   "cell_type": "code",
   "execution_count": 76,
   "metadata": {},
   "outputs": [
    {
     "name": "stdout",
     "output_type": "stream",
     "text": [
      "0.8.1\n"
     ]
    },
    {
     "data": {
      "image/png": "[encoded data removed]",
      "text/plain": [
       "<Figure size 288x288 with 1 Axes>"
      ]
     },
     "metadata": {},
     "output_type": "display_data"
    }
   ],
   "source": [
    "sns.set(style=\"whitegrid\")\n",
    "\n",
    "b = sns.factorplot(x=\"Size\", y=\"2018-07\", data=denverdf, kind=\"bar\", palette=\"pastel\")\n",
    "plt.title(\"Plot 2: Barplot of Price Per Sqft By Size of Neighborhood\", fontsize=13)\n",
    "b.set_ylabels(\"Price Per Sqft\")\n",
    "\n"
   ]
  },
  {
   "cell_type": "markdown",
   "metadata": {},
   "source": [
    "One pro of this barplot is that the mean of each category is clear as is the error bar. One con is the wasted (but likely necessary) space from 0.0 to 1.5. Again, the number of datapoints included in this dataset is not clear.\n",
    "\n",
    "*What exactly does the error bar represent?*"
   ]
  },
  {
   "cell_type": "code",
   "execution_count": 93,
   "metadata": {},
   "outputs": [
    {
     "data": {
      "text/plain": [
       "<seaborn.axisgrid.FacetGrid at 0x25f85b0ef60>"
      ]
     },
     "execution_count": 93,
     "metadata": {},
     "output_type": "execute_result"
    },
    {
     "data": {
      "image/png": "[encoded data removed]",
      "text/plain": [
       "<Figure size 201.6x288 with 1 Axes>"
      ]
     },
     "metadata": {},
     "output_type": "display_data"
    }
   ],
   "source": [
    "sns.set(style=\"darkgrid\")\n",
    "\n",
    "q = sns.factorplot(x=\"Size\", y=\"2018-07\", data=denverdf, kind=\"point\", palette=\"muted\", ci=95, aspect=.7)\n",
    "plt.title(\"Plot 3: Pointplot of Price Per Sqft By Size of Neighborhood\", fontsize=13)\n",
    "q.set_ylabels(\"Price Per Sqft\")"
   ]
  },
  {
   "cell_type": "markdown",
   "metadata": {},
   "source": [
    "This pointplot clearly shows the mean of each category and a 95% confidence interval. There is no wasted space from 0.0 to 1.6; however, this does somewhat skew the visual in that the difference in the two points seems more drastic than it really is. On a similar note, the vertical space between the two points seems unnecessary. As with the previous two plots, it is impossible to deduce how many datapoints are in this dataset."
   ]
  },
  {
   "cell_type": "code",
   "execution_count": 85,
   "metadata": {},
   "outputs": [
    {
     "data": {
      "text/plain": [
       "<seaborn.axisgrid.FacetGrid at 0x25f858e0518>"
      ]
     },
     "execution_count": 85,
     "metadata": {},
     "output_type": "execute_result"
    },
    {
     "data": {
      "image/png": "[encoded data removed]",
      "text/plain": [
       "<Figure size 288x288 with 1 Axes>"
      ]
     },
     "metadata": {},
     "output_type": "display_data"
    }
   ],
   "source": [
    "sns.set(style=\"darkgrid\")\n",
    "\n",
    "q = sns.factorplot(x=\"Size\", y=\"2018-07\", data=denverdf, kind=\"violin\", palette=\"colorblind\")\n",
    "plt.title(\"Plot 4: Violinplot of Price Per Sqft By Size of Neighborhood\", fontsize=13)\n",
    "q.set_ylabels(\"Price Per Sqft\")"
   ]
  },
  {
   "cell_type": "markdown",
   "metadata": {},
   "source": [
    "The violinplot is one of the more visually appealing visuals. It looks like a prettier version of a boxplot. With a boxplot, the mean and the distribution of data within the quartiles are clear at first glance. With a violin plot, you can also pull out these metrics, it just takes a few more seconds of looking."
   ]
  },
  {
   "cell_type": "code",
   "execution_count": 86,
   "metadata": {},
   "outputs": [
    {
     "data": {
      "text/plain": [
       "<seaborn.axisgrid.FacetGrid at 0x25f8598a0b8>"
      ]
     },
     "execution_count": 86,
     "metadata": {},
     "output_type": "execute_result"
    },
    {
     "data": {
      "image/png": "[encoded data removed]",
      "text/plain": [
       "<Figure size 288x288 with 1 Axes>"
      ]
     },
     "metadata": {},
     "output_type": "display_data"
    }
   ],
   "source": [
    "sns.set(style=\"darkgrid\")\n",
    "\n",
    "q = sns.factorplot(x=\"Size\", y=\"2018-07\", data=denverdf, kind=\"swarm\", palette=\"deep\")\n",
    "plt.title(\"Plot 5: Swarmplot of Price Per Sqft By Size of Neighborhood\", fontsize=13)\n",
    "q.set_ylabels(\"Price Per Sqft\")"
   ]
  },
  {
   "cell_type": "markdown",
   "metadata": {},
   "source": [
    "One strength of the swarmplot is that it's easy to see how many datapoints are included in the dataset. You can also see where the outliers are by seeing which 1-3 points aren't part of the denser cluster. A downside of this visual is that it doesn't give you information about the central tendencies. And if you wanted to plot a line to represent the mean, it won't be that clear because the small neighborhoods have one mean and the large neighborhoods have another. "
   ]
  },
  {
   "cell_type": "code",
   "execution_count": 90,
   "metadata": {},
   "outputs": [
    {
     "data": {
      "text/plain": [
       "<seaborn.axisgrid.FacetGrid at 0x25f85993b70>"
      ]
     },
     "execution_count": 90,
     "metadata": {},
     "output_type": "execute_result"
    },
    {
     "data": {
      "image/png": "[encoded data removed]",
      "text/plain": [
       "<Figure size 288x288 with 1 Axes>"
      ]
     },
     "metadata": {},
     "output_type": "display_data"
    }
   ],
   "source": [
    "sns.set(style=\"darkgrid\")\n",
    "\n",
    "q = sns.factorplot(x=\"Size\", y=\"2018-07\", data=denverdf, kind=\"strip\", palette=\"muted\")\n",
    "plt.title(\"Plot 6: Stripplot of Price Per Sqft By Size of Neighborhood\", fontsize=13)\n",
    "q.set_ylabels(\"Price Per Sqft\")"
   ]
  },
  {
   "cell_type": "markdown",
   "metadata": {},
   "source": [
    "Everything that I said about the swarmplot applies to the stripplot. The only difference between them is that you can't actually see every single datapoint in a stripplot because they are overlapping (instead of swarming like in plot 5). For this reason, if I were deciding between a stripplot and a swarmplot, I would opt for a swarmplot."
   ]
  },
  {
   "cell_type": "markdown",
   "metadata": {},
   "source": [
    "**There is an optional challenge. I'm going to spend 30 minutes on it and see how far I get.**"
   ]
  },
  {
   "cell_type": "code",
   "execution_count": 94,
   "metadata": {},
   "outputs": [],
   "source": [
    "coloradodf = df.loc[lambda df: df[\"State\"] == \"CO\", :]"
   ]
  },
  {
   "cell_type": "code",
   "execution_count": 95,
   "metadata": {},
   "outputs": [
    {
     "data": {
      "text/html": [
       "<div>\n",
       "<style scoped>\n",
       "    .dataframe tbody tr th:only-of-type {\n",
       "        vertical-align: middle;\n",
       "    }\n",
       "\n",
       "    .dataframe tbody tr th {\n",
       "        vertical-align: top;\n",
       "    }\n",
       "\n",
       "    .dataframe thead th {\n",
       "        text-align: right;\n",
       "    }\n",
       "</style>\n",
       "<table border=\"1\" class=\"dataframe\">\n",
       "  <thead>\n",
       "    <tr style=\"text-align: right;\">\n",
       "      <th></th>\n",
       "      <th>RegionName</th>\n",
       "      <th>City</th>\n",
       "      <th>State</th>\n",
       "      <th>Metro</th>\n",
       "      <th>CountyName</th>\n",
       "      <th>SizeRank</th>\n",
       "      <th>2010-02</th>\n",
       "      <th>2010-03</th>\n",
       "      <th>2010-04</th>\n",
       "      <th>2010-05</th>\n",
       "      <th>...</th>\n",
       "      <th>2017-10</th>\n",
       "      <th>2017-11</th>\n",
       "      <th>2017-12</th>\n",
       "      <th>2018-01</th>\n",
       "      <th>2018-02</th>\n",
       "      <th>2018-03</th>\n",
       "      <th>2018-04</th>\n",
       "      <th>2018-05</th>\n",
       "      <th>2018-06</th>\n",
       "      <th>2018-07</th>\n",
       "    </tr>\n",
       "  </thead>\n",
       "  <tbody>\n",
       "    <tr>\n",
       "      <th>73</th>\n",
       "      <td>Southeast Colorado Springs</td>\n",
       "      <td>Colorado Springs</td>\n",
       "      <td>CO</td>\n",
       "      <td>Colorado Springs</td>\n",
       "      <td>El Paso</td>\n",
       "      <td>74</td>\n",
       "      <td>NaN</td>\n",
       "      <td>NaN</td>\n",
       "      <td>NaN</td>\n",
       "      <td>NaN</td>\n",
       "      <td>...</td>\n",
       "      <td>1.061250</td>\n",
       "      <td>1.089015</td>\n",
       "      <td>1.061776</td>\n",
       "      <td>1.061513</td>\n",
       "      <td>1.010152</td>\n",
       "      <td>1.044277</td>\n",
       "      <td>1.070822</td>\n",
       "      <td>1.085313</td>\n",
       "      <td>1.078516</td>\n",
       "      <td>1.125000</td>\n",
       "    </tr>\n",
       "    <tr>\n",
       "      <th>79</th>\n",
       "      <td>East Colorado Springs</td>\n",
       "      <td>Colorado Springs</td>\n",
       "      <td>CO</td>\n",
       "      <td>Colorado Springs</td>\n",
       "      <td>El Paso</td>\n",
       "      <td>80</td>\n",
       "      <td>NaN</td>\n",
       "      <td>NaN</td>\n",
       "      <td>NaN</td>\n",
       "      <td>NaN</td>\n",
       "      <td>...</td>\n",
       "      <td>1.192308</td>\n",
       "      <td>1.311759</td>\n",
       "      <td>1.315172</td>\n",
       "      <td>1.317229</td>\n",
       "      <td>1.397138</td>\n",
       "      <td>1.524638</td>\n",
       "      <td>1.457912</td>\n",
       "      <td>1.411605</td>\n",
       "      <td>1.397436</td>\n",
       "      <td>1.411555</td>\n",
       "    </tr>\n",
       "    <tr>\n",
       "      <th>86</th>\n",
       "      <td>Central Colorado Springs</td>\n",
       "      <td>Colorado Springs</td>\n",
       "      <td>CO</td>\n",
       "      <td>Colorado Springs</td>\n",
       "      <td>El Paso</td>\n",
       "      <td>87</td>\n",
       "      <td>NaN</td>\n",
       "      <td>NaN</td>\n",
       "      <td>NaN</td>\n",
       "      <td>NaN</td>\n",
       "      <td>...</td>\n",
       "      <td>1.102941</td>\n",
       "      <td>1.175145</td>\n",
       "      <td>1.245000</td>\n",
       "      <td>1.251384</td>\n",
       "      <td>1.214286</td>\n",
       "      <td>1.204975</td>\n",
       "      <td>1.322619</td>\n",
       "      <td>1.309317</td>\n",
       "      <td>1.241667</td>\n",
       "      <td>1.206380</td>\n",
       "    </tr>\n",
       "    <tr>\n",
       "      <th>140</th>\n",
       "      <td>Briargate</td>\n",
       "      <td>Colorado Springs</td>\n",
       "      <td>CO</td>\n",
       "      <td>Colorado Springs</td>\n",
       "      <td>El Paso</td>\n",
       "      <td>141</td>\n",
       "      <td>NaN</td>\n",
       "      <td>NaN</td>\n",
       "      <td>NaN</td>\n",
       "      <td>NaN</td>\n",
       "      <td>...</td>\n",
       "      <td>1.385455</td>\n",
       "      <td>1.421407</td>\n",
       "      <td>1.333478</td>\n",
       "      <td>1.378671</td>\n",
       "      <td>1.585455</td>\n",
       "      <td>1.588108</td>\n",
       "      <td>1.560073</td>\n",
       "      <td>1.544865</td>\n",
       "      <td>1.544865</td>\n",
       "      <td>1.544865</td>\n",
       "    </tr>\n",
       "    <tr>\n",
       "      <th>185</th>\n",
       "      <td>Southwest Colorado Springs</td>\n",
       "      <td>Colorado Springs</td>\n",
       "      <td>CO</td>\n",
       "      <td>Colorado Springs</td>\n",
       "      <td>El Paso</td>\n",
       "      <td>186</td>\n",
       "      <td>NaN</td>\n",
       "      <td>NaN</td>\n",
       "      <td>NaN</td>\n",
       "      <td>NaN</td>\n",
       "      <td>...</td>\n",
       "      <td>1.185807</td>\n",
       "      <td>1.268966</td>\n",
       "      <td>1.238987</td>\n",
       "      <td>1.176451</td>\n",
       "      <td>1.229508</td>\n",
       "      <td>1.190767</td>\n",
       "      <td>1.221822</td>\n",
       "      <td>1.215686</td>\n",
       "      <td>1.175214</td>\n",
       "      <td>1.154135</td>\n",
       "    </tr>\n",
       "  </tbody>\n",
       "</table>\n",
       "<p>5 rows × 108 columns</p>\n",
       "</div>"
      ],
      "text/plain": [
       "                     RegionName              City State             Metro  \\\n",
       "73   Southeast Colorado Springs  Colorado Springs    CO  Colorado Springs   \n",
       "79        East Colorado Springs  Colorado Springs    CO  Colorado Springs   \n",
       "86     Central Colorado Springs  Colorado Springs    CO  Colorado Springs   \n",
       "140                   Briargate  Colorado Springs    CO  Colorado Springs   \n",
       "185  Southwest Colorado Springs  Colorado Springs    CO  Colorado Springs   \n",
       "\n",
       "    CountyName  SizeRank  2010-02  2010-03  2010-04  2010-05    ...     \\\n",
       "73     El Paso        74      NaN      NaN      NaN      NaN    ...      \n",
       "79     El Paso        80      NaN      NaN      NaN      NaN    ...      \n",
       "86     El Paso        87      NaN      NaN      NaN      NaN    ...      \n",
       "140    El Paso       141      NaN      NaN      NaN      NaN    ...      \n",
       "185    El Paso       186      NaN      NaN      NaN      NaN    ...      \n",
       "\n",
       "      2017-10   2017-11   2017-12   2018-01   2018-02   2018-03   2018-04  \\\n",
       "73   1.061250  1.089015  1.061776  1.061513  1.010152  1.044277  1.070822   \n",
       "79   1.192308  1.311759  1.315172  1.317229  1.397138  1.524638  1.457912   \n",
       "86   1.102941  1.175145  1.245000  1.251384  1.214286  1.204975  1.322619   \n",
       "140  1.385455  1.421407  1.333478  1.378671  1.585455  1.588108  1.560073   \n",
       "185  1.185807  1.268966  1.238987  1.176451  1.229508  1.190767  1.221822   \n",
       "\n",
       "      2018-05   2018-06   2018-07  \n",
       "73   1.085313  1.078516  1.125000  \n",
       "79   1.411605  1.397436  1.411555  \n",
       "86   1.309317  1.241667  1.206380  \n",
       "140  1.544865  1.544865  1.544865  \n",
       "185  1.215686  1.175214  1.154135  \n",
       "\n",
       "[5 rows x 108 columns]"
      ]
     },
     "execution_count": 95,
     "metadata": {},
     "output_type": "execute_result"
    }
   ],
   "source": [
    "coloradodf.head()"
   ]
  },
  {
   "cell_type": "code",
   "execution_count": 105,
   "metadata": {},
   "outputs": [
    {
     "data": {
      "image/png": "[encoded data removed]",
      "text/plain": [
       "<Figure size 432x288 with 1 Axes>"
      ]
     },
     "metadata": {},
     "output_type": "display_data"
    }
   ],
   "source": [
    "\n",
    "z = coloradodf[\"2015-12\"].hist()"
   ]
  },
  {
   "cell_type": "code",
   "execution_count": 99,
   "metadata": {},
   "outputs": [
    {
     "data": {
      "image/png": "[encoded data removed]",
      "text/plain": [
       "<Figure size 432x288 with 1 Axes>"
      ]
     },
     "metadata": {},
     "output_type": "display_data"
    }
   ],
   "source": [
    "y = coloradodf[\"SizeRank\"].hist()"
   ]
  },
  {
   "cell_type": "code",
   "execution_count": 103,
   "metadata": {},
   "outputs": [
    {
     "data": {
      "image/png": "[encoded data removed]",
      "text/plain": [
       "<Figure size 432x288 with 1 Axes>"
      ]
     },
     "metadata": {},
     "output_type": "display_data"
    }
   ],
   "source": [
    "x = coloradodf[\"2016-12\"].hist()"
   ]
  },
  {
   "cell_type": "code",
   "execution_count": 104,
   "metadata": {},
   "outputs": [
    {
     "data": {
      "image/png": "[encoded data removed]",
      "text/plain": [
       "<Figure size 432x288 with 1 Axes>"
      ]
     },
     "metadata": {},
     "output_type": "display_data"
    }
   ],
   "source": [
    "w = coloradodf[\"2017-12\"].hist()"
   ]
  },
  {
   "cell_type": "code",
   "execution_count": 113,
   "metadata": {},
   "outputs": [],
   "source": [
    "rental_price_persqft_Highland = denverdf.iloc[:, -32:]\n",
    "CO_rental = pd.DataFrame(coloradodf.iloc[:, -32:]).reset_index()"
   ]
  },
  {
   "cell_type": "code",
   "execution_count": 115,
   "metadata": {},
   "outputs": [
    {
     "data": {
      "text/html": [
       "<div>\n",
       "<style scoped>\n",
       "    .dataframe tbody tr th:only-of-type {\n",
       "        vertical-align: middle;\n",
       "    }\n",
       "\n",
       "    .dataframe tbody tr th {\n",
       "        vertical-align: top;\n",
       "    }\n",
       "\n",
       "    .dataframe thead th {\n",
       "        text-align: right;\n",
       "    }\n",
       "</style>\n",
       "<table border=\"1\" class=\"dataframe\">\n",
       "  <thead>\n",
       "    <tr style=\"text-align: right;\">\n",
       "      <th></th>\n",
       "      <th>index</th>\n",
       "      <th>2015-12</th>\n",
       "      <th>2016-01</th>\n",
       "      <th>2016-02</th>\n",
       "      <th>2016-03</th>\n",
       "      <th>2016-04</th>\n",
       "      <th>2016-05</th>\n",
       "      <th>2016-06</th>\n",
       "      <th>2016-07</th>\n",
       "      <th>2016-08</th>\n",
       "      <th>...</th>\n",
       "      <th>2017-10</th>\n",
       "      <th>2017-11</th>\n",
       "      <th>2017-12</th>\n",
       "      <th>2018-01</th>\n",
       "      <th>2018-02</th>\n",
       "      <th>2018-03</th>\n",
       "      <th>2018-04</th>\n",
       "      <th>2018-05</th>\n",
       "      <th>2018-06</th>\n",
       "      <th>2018-07</th>\n",
       "    </tr>\n",
       "  </thead>\n",
       "  <tbody>\n",
       "    <tr>\n",
       "      <th>0</th>\n",
       "      <td>73</td>\n",
       "      <td>0.929348</td>\n",
       "      <td>0.964290</td>\n",
       "      <td>0.945261</td>\n",
       "      <td>1.034279</td>\n",
       "      <td>0.977778</td>\n",
       "      <td>0.910399</td>\n",
       "      <td>0.928571</td>\n",
       "      <td>0.936246</td>\n",
       "      <td>1.013202</td>\n",
       "      <td>...</td>\n",
       "      <td>1.061250</td>\n",
       "      <td>1.089015</td>\n",
       "      <td>1.061776</td>\n",
       "      <td>1.061513</td>\n",
       "      <td>1.010152</td>\n",
       "      <td>1.044277</td>\n",
       "      <td>1.070822</td>\n",
       "      <td>1.085313</td>\n",
       "      <td>1.078516</td>\n",
       "      <td>1.125000</td>\n",
       "    </tr>\n",
       "    <tr>\n",
       "      <th>2</th>\n",
       "      <td>86</td>\n",
       "      <td>0.937500</td>\n",
       "      <td>0.992708</td>\n",
       "      <td>1.038075</td>\n",
       "      <td>1.088977</td>\n",
       "      <td>1.062257</td>\n",
       "      <td>1.027374</td>\n",
       "      <td>1.045455</td>\n",
       "      <td>1.043561</td>\n",
       "      <td>1.111298</td>\n",
       "      <td>...</td>\n",
       "      <td>1.102941</td>\n",
       "      <td>1.175145</td>\n",
       "      <td>1.245000</td>\n",
       "      <td>1.251384</td>\n",
       "      <td>1.214286</td>\n",
       "      <td>1.204975</td>\n",
       "      <td>1.322619</td>\n",
       "      <td>1.309317</td>\n",
       "      <td>1.241667</td>\n",
       "      <td>1.206380</td>\n",
       "    </tr>\n",
       "    <tr>\n",
       "      <th>9</th>\n",
       "      <td>399</td>\n",
       "      <td>2.085830</td>\n",
       "      <td>2.004249</td>\n",
       "      <td>2.026899</td>\n",
       "      <td>2.000000</td>\n",
       "      <td>2.034146</td>\n",
       "      <td>2.037073</td>\n",
       "      <td>1.972638</td>\n",
       "      <td>2.034146</td>\n",
       "      <td>2.060907</td>\n",
       "      <td>...</td>\n",
       "      <td>2.075000</td>\n",
       "      <td>2.049200</td>\n",
       "      <td>2.051534</td>\n",
       "      <td>2.079371</td>\n",
       "      <td>1.990000</td>\n",
       "      <td>2.063271</td>\n",
       "      <td>2.075871</td>\n",
       "      <td>2.137500</td>\n",
       "      <td>2.149999</td>\n",
       "      <td>2.116567</td>\n",
       "    </tr>\n",
       "    <tr>\n",
       "      <th>11</th>\n",
       "      <td>424</td>\n",
       "      <td>1.524398</td>\n",
       "      <td>1.550637</td>\n",
       "      <td>1.546676</td>\n",
       "      <td>1.590742</td>\n",
       "      <td>1.575423</td>\n",
       "      <td>1.632373</td>\n",
       "      <td>1.572072</td>\n",
       "      <td>1.554793</td>\n",
       "      <td>1.607143</td>\n",
       "      <td>...</td>\n",
       "      <td>1.878981</td>\n",
       "      <td>1.909639</td>\n",
       "      <td>1.879087</td>\n",
       "      <td>1.854701</td>\n",
       "      <td>1.789462</td>\n",
       "      <td>1.739492</td>\n",
       "      <td>1.761638</td>\n",
       "      <td>1.736318</td>\n",
       "      <td>1.743164</td>\n",
       "      <td>1.748880</td>\n",
       "    </tr>\n",
       "    <tr>\n",
       "      <th>12</th>\n",
       "      <td>446</td>\n",
       "      <td>1.443530</td>\n",
       "      <td>1.426534</td>\n",
       "      <td>1.429224</td>\n",
       "      <td>1.454898</td>\n",
       "      <td>1.479860</td>\n",
       "      <td>1.481481</td>\n",
       "      <td>1.484304</td>\n",
       "      <td>1.471155</td>\n",
       "      <td>1.479238</td>\n",
       "      <td>...</td>\n",
       "      <td>1.487676</td>\n",
       "      <td>1.481982</td>\n",
       "      <td>1.451511</td>\n",
       "      <td>1.460477</td>\n",
       "      <td>1.473037</td>\n",
       "      <td>1.476418</td>\n",
       "      <td>1.514546</td>\n",
       "      <td>1.596577</td>\n",
       "      <td>1.515982</td>\n",
       "      <td>1.563063</td>\n",
       "    </tr>\n",
       "    <tr>\n",
       "      <th>13</th>\n",
       "      <td>448</td>\n",
       "      <td>1.951835</td>\n",
       "      <td>1.951872</td>\n",
       "      <td>1.963885</td>\n",
       "      <td>2.055556</td>\n",
       "      <td>2.060691</td>\n",
       "      <td>2.035714</td>\n",
       "      <td>2.082559</td>\n",
       "      <td>2.123945</td>\n",
       "      <td>2.105263</td>\n",
       "      <td>...</td>\n",
       "      <td>2.031047</td>\n",
       "      <td>2.098571</td>\n",
       "      <td>2.098765</td>\n",
       "      <td>2.078804</td>\n",
       "      <td>2.165605</td>\n",
       "      <td>2.172840</td>\n",
       "      <td>2.191083</td>\n",
       "      <td>2.159236</td>\n",
       "      <td>2.176549</td>\n",
       "      <td>2.325545</td>\n",
       "    </tr>\n",
       "    <tr>\n",
       "      <th>16</th>\n",
       "      <td>504</td>\n",
       "      <td>2.026495</td>\n",
       "      <td>2.061332</td>\n",
       "      <td>2.049505</td>\n",
       "      <td>2.000000</td>\n",
       "      <td>1.999228</td>\n",
       "      <td>2.065217</td>\n",
       "      <td>2.232960</td>\n",
       "      <td>2.061751</td>\n",
       "      <td>2.053571</td>\n",
       "      <td>...</td>\n",
       "      <td>2.441830</td>\n",
       "      <td>2.462674</td>\n",
       "      <td>2.409010</td>\n",
       "      <td>2.386057</td>\n",
       "      <td>2.368852</td>\n",
       "      <td>2.374065</td>\n",
       "      <td>2.345192</td>\n",
       "      <td>2.368488</td>\n",
       "      <td>2.375000</td>\n",
       "      <td>2.343305</td>\n",
       "    </tr>\n",
       "    <tr>\n",
       "      <th>18</th>\n",
       "      <td>540</td>\n",
       "      <td>1.784722</td>\n",
       "      <td>1.722581</td>\n",
       "      <td>1.840000</td>\n",
       "      <td>1.842308</td>\n",
       "      <td>1.833559</td>\n",
       "      <td>1.801406</td>\n",
       "      <td>1.895238</td>\n",
       "      <td>1.862500</td>\n",
       "      <td>1.790000</td>\n",
       "      <td>...</td>\n",
       "      <td>1.770370</td>\n",
       "      <td>1.994444</td>\n",
       "      <td>1.987952</td>\n",
       "      <td>1.994444</td>\n",
       "      <td>1.990238</td>\n",
       "      <td>2.000000</td>\n",
       "      <td>1.987121</td>\n",
       "      <td>1.933333</td>\n",
       "      <td>2.053118</td>\n",
       "      <td>2.000000</td>\n",
       "    </tr>\n",
       "    <tr>\n",
       "      <th>19</th>\n",
       "      <td>550</td>\n",
       "      <td>1.504431</td>\n",
       "      <td>1.573302</td>\n",
       "      <td>1.577135</td>\n",
       "      <td>1.550119</td>\n",
       "      <td>1.555649</td>\n",
       "      <td>1.544911</td>\n",
       "      <td>1.550119</td>\n",
       "      <td>1.539307</td>\n",
       "      <td>1.548906</td>\n",
       "      <td>...</td>\n",
       "      <td>1.638100</td>\n",
       "      <td>1.612903</td>\n",
       "      <td>1.560428</td>\n",
       "      <td>1.544674</td>\n",
       "      <td>1.573413</td>\n",
       "      <td>1.620663</td>\n",
       "      <td>1.656085</td>\n",
       "      <td>1.669451</td>\n",
       "      <td>1.671786</td>\n",
       "      <td>1.683689</td>\n",
       "    </tr>\n",
       "    <tr>\n",
       "      <th>23</th>\n",
       "      <td>608</td>\n",
       "      <td>2.243590</td>\n",
       "      <td>2.243590</td>\n",
       "      <td>2.260349</td>\n",
       "      <td>2.315500</td>\n",
       "      <td>2.490566</td>\n",
       "      <td>2.306230</td>\n",
       "      <td>2.470070</td>\n",
       "      <td>2.455404</td>\n",
       "      <td>2.310030</td>\n",
       "      <td>...</td>\n",
       "      <td>2.652493</td>\n",
       "      <td>2.673130</td>\n",
       "      <td>2.593294</td>\n",
       "      <td>2.619547</td>\n",
       "      <td>2.713475</td>\n",
       "      <td>2.662179</td>\n",
       "      <td>2.593361</td>\n",
       "      <td>2.530737</td>\n",
       "      <td>2.532051</td>\n",
       "      <td>2.519810</td>\n",
       "    </tr>\n",
       "    <tr>\n",
       "      <th>24</th>\n",
       "      <td>609</td>\n",
       "      <td>2.306743</td>\n",
       "      <td>1.949153</td>\n",
       "      <td>1.969948</td>\n",
       "      <td>2.103175</td>\n",
       "      <td>2.100000</td>\n",
       "      <td>2.186667</td>\n",
       "      <td>2.212747</td>\n",
       "      <td>2.166667</td>\n",
       "      <td>2.090657</td>\n",
       "      <td>...</td>\n",
       "      <td>2.163533</td>\n",
       "      <td>2.158333</td>\n",
       "      <td>2.158333</td>\n",
       "      <td>2.037919</td>\n",
       "      <td>2.081260</td>\n",
       "      <td>2.045735</td>\n",
       "      <td>2.113187</td>\n",
       "      <td>2.161654</td>\n",
       "      <td>2.198953</td>\n",
       "      <td>2.194645</td>\n",
       "    </tr>\n",
       "    <tr>\n",
       "      <th>36</th>\n",
       "      <td>797</td>\n",
       "      <td>1.660824</td>\n",
       "      <td>1.702509</td>\n",
       "      <td>1.661998</td>\n",
       "      <td>1.653609</td>\n",
       "      <td>1.599617</td>\n",
       "      <td>1.765475</td>\n",
       "      <td>1.813889</td>\n",
       "      <td>2.039249</td>\n",
       "      <td>2.060959</td>\n",
       "      <td>...</td>\n",
       "      <td>1.907238</td>\n",
       "      <td>1.811451</td>\n",
       "      <td>1.811457</td>\n",
       "      <td>1.781088</td>\n",
       "      <td>1.816970</td>\n",
       "      <td>1.884221</td>\n",
       "      <td>1.891860</td>\n",
       "      <td>1.930185</td>\n",
       "      <td>2.041637</td>\n",
       "      <td>2.069886</td>\n",
       "    </tr>\n",
       "    <tr>\n",
       "      <th>37</th>\n",
       "      <td>798</td>\n",
       "      <td>2.497738</td>\n",
       "      <td>2.578125</td>\n",
       "      <td>2.600000</td>\n",
       "      <td>2.574380</td>\n",
       "      <td>2.541073</td>\n",
       "      <td>2.621804</td>\n",
       "      <td>2.575221</td>\n",
       "      <td>2.351513</td>\n",
       "      <td>2.460697</td>\n",
       "      <td>...</td>\n",
       "      <td>2.707930</td>\n",
       "      <td>2.707965</td>\n",
       "      <td>2.729149</td>\n",
       "      <td>2.724595</td>\n",
       "      <td>2.910816</td>\n",
       "      <td>2.964206</td>\n",
       "      <td>2.999267</td>\n",
       "      <td>2.995169</td>\n",
       "      <td>2.975673</td>\n",
       "      <td>2.969871</td>\n",
       "    </tr>\n",
       "    <tr>\n",
       "      <th>40</th>\n",
       "      <td>878</td>\n",
       "      <td>2.799552</td>\n",
       "      <td>2.905153</td>\n",
       "      <td>2.717391</td>\n",
       "      <td>2.749678</td>\n",
       "      <td>2.450395</td>\n",
       "      <td>2.468662</td>\n",
       "      <td>2.472778</td>\n",
       "      <td>2.335351</td>\n",
       "      <td>2.459016</td>\n",
       "      <td>...</td>\n",
       "      <td>2.503956</td>\n",
       "      <td>2.510040</td>\n",
       "      <td>2.572816</td>\n",
       "      <td>2.672606</td>\n",
       "      <td>2.671872</td>\n",
       "      <td>2.743223</td>\n",
       "      <td>2.779953</td>\n",
       "      <td>2.748630</td>\n",
       "      <td>2.735803</td>\n",
       "      <td>2.723575</td>\n",
       "    </tr>\n",
       "  </tbody>\n",
       "</table>\n",
       "<p>14 rows × 33 columns</p>\n",
       "</div>"
      ],
      "text/plain": [
       "    index   2015-12   2016-01   2016-02   2016-03   2016-04   2016-05  \\\n",
       "0      73  0.929348  0.964290  0.945261  1.034279  0.977778  0.910399   \n",
       "2      86  0.937500  0.992708  1.038075  1.088977  1.062257  1.027374   \n",
       "9     399  2.085830  2.004249  2.026899  2.000000  2.034146  2.037073   \n",
       "11    424  1.524398  1.550637  1.546676  1.590742  1.575423  1.632373   \n",
       "12    446  1.443530  1.426534  1.429224  1.454898  1.479860  1.481481   \n",
       "13    448  1.951835  1.951872  1.963885  2.055556  2.060691  2.035714   \n",
       "16    504  2.026495  2.061332  2.049505  2.000000  1.999228  2.065217   \n",
       "18    540  1.784722  1.722581  1.840000  1.842308  1.833559  1.801406   \n",
       "19    550  1.504431  1.573302  1.577135  1.550119  1.555649  1.544911   \n",
       "23    608  2.243590  2.243590  2.260349  2.315500  2.490566  2.306230   \n",
       "24    609  2.306743  1.949153  1.969948  2.103175  2.100000  2.186667   \n",
       "36    797  1.660824  1.702509  1.661998  1.653609  1.599617  1.765475   \n",
       "37    798  2.497738  2.578125  2.600000  2.574380  2.541073  2.621804   \n",
       "40    878  2.799552  2.905153  2.717391  2.749678  2.450395  2.468662   \n",
       "\n",
       "     2016-06   2016-07   2016-08    ...      2017-10   2017-11   2017-12  \\\n",
       "0   0.928571  0.936246  1.013202    ...     1.061250  1.089015  1.061776   \n",
       "2   1.045455  1.043561  1.111298    ...     1.102941  1.175145  1.245000   \n",
       "9   1.972638  2.034146  2.060907    ...     2.075000  2.049200  2.051534   \n",
       "11  1.572072  1.554793  1.607143    ...     1.878981  1.909639  1.879087   \n",
       "12  1.484304  1.471155  1.479238    ...     1.487676  1.481982  1.451511   \n",
       "13  2.082559  2.123945  2.105263    ...     2.031047  2.098571  2.098765   \n",
       "16  2.232960  2.061751  2.053571    ...     2.441830  2.462674  2.409010   \n",
       "18  1.895238  1.862500  1.790000    ...     1.770370  1.994444  1.987952   \n",
       "19  1.550119  1.539307  1.548906    ...     1.638100  1.612903  1.560428   \n",
       "23  2.470070  2.455404  2.310030    ...     2.652493  2.673130  2.593294   \n",
       "24  2.212747  2.166667  2.090657    ...     2.163533  2.158333  2.158333   \n",
       "36  1.813889  2.039249  2.060959    ...     1.907238  1.811451  1.811457   \n",
       "37  2.575221  2.351513  2.460697    ...     2.707930  2.707965  2.729149   \n",
       "40  2.472778  2.335351  2.459016    ...     2.503956  2.510040  2.572816   \n",
       "\n",
       "     2018-01   2018-02   2018-03   2018-04   2018-05   2018-06   2018-07  \n",
       "0   1.061513  1.010152  1.044277  1.070822  1.085313  1.078516  1.125000  \n",
       "2   1.251384  1.214286  1.204975  1.322619  1.309317  1.241667  1.206380  \n",
       "9   2.079371  1.990000  2.063271  2.075871  2.137500  2.149999  2.116567  \n",
       "11  1.854701  1.789462  1.739492  1.761638  1.736318  1.743164  1.748880  \n",
       "12  1.460477  1.473037  1.476418  1.514546  1.596577  1.515982  1.563063  \n",
       "13  2.078804  2.165605  2.172840  2.191083  2.159236  2.176549  2.325545  \n",
       "16  2.386057  2.368852  2.374065  2.345192  2.368488  2.375000  2.343305  \n",
       "18  1.994444  1.990238  2.000000  1.987121  1.933333  2.053118  2.000000  \n",
       "19  1.544674  1.573413  1.620663  1.656085  1.669451  1.671786  1.683689  \n",
       "23  2.619547  2.713475  2.662179  2.593361  2.530737  2.532051  2.519810  \n",
       "24  2.037919  2.081260  2.045735  2.113187  2.161654  2.198953  2.194645  \n",
       "36  1.781088  1.816970  1.884221  1.891860  1.930185  2.041637  2.069886  \n",
       "37  2.724595  2.910816  2.964206  2.999267  2.995169  2.975673  2.969871  \n",
       "40  2.672606  2.671872  2.743223  2.779953  2.748630  2.735803  2.723575  \n",
       "\n",
       "[14 rows x 33 columns]"
      ]
     },
     "execution_count": 115,
     "metadata": {},
     "output_type": "execute_result"
    }
   ],
   "source": [
    "CO_rental.dropna()"
   ]
  },
  {
   "cell_type": "code",
   "execution_count": 116,
   "metadata": {},
   "outputs": [
    {
     "data": {
      "text/plain": [
       "<matplotlib.axes._subplots.AxesSubplot at 0x25f8a64f748>"
      ]
     },
     "execution_count": 116,
     "metadata": {},
     "output_type": "execute_result"
    },
    {
     "data": {
      "image/png": "[encoded data removed]",
      "text/plain": [
       "<Figure size 432x288 with 2 Axes>"
      ]
     },
     "metadata": {},
     "output_type": "display_data"
    }
   ],
   "source": [
    "sns.set(style=\"ticks\", color_codes=True)\n",
    "\n",
    "sns.heatmap(data=CO_rental, cbar=True)"
   ]
  },
  {
   "cell_type": "code",
   "execution_count": null,
   "metadata": {},
   "outputs": [],
   "source": []
  }
 ],
 "metadata": {
  "kernelspec": {
   "display_name": "Python 3",
   "language": "python",
   "name": "python3"
  },
  "language_info": {
   "codemirror_mode": {
    "name": "ipython",
    "version": 3
   },
   "file_extension": ".py",
   "mimetype": "text/x-python",
   "name": "python",
   "nbconvert_exporter": "python",
   "pygments_lexer": "ipython3",
   "version": "3.6.5"
  }
 },
 "nbformat": 4,
 "nbformat_minor": 2
}
