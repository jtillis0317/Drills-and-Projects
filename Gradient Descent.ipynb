{
 "cells": [
  {
   "cell_type": "code",
   "execution_count": 1,
   "metadata": {},
   "outputs": [],
   "source": [
    "import warnings\n",
    "import numpy as np\n",
    "import matplotlib.pyplot as plt\n",
    "from sklearn import linear_model\n",
    "warnings.filterwarnings(action=\"ignore\", module=\"scipy\", message=\"^internal gelsd\")"
   ]
  },
  {
   "cell_type": "code",
   "execution_count": 2,
   "metadata": {},
   "outputs": [],
   "source": [
    "def LR_cost_function(alpha, beta, x, y):\n",
    "    '''Return the cost for a given line and data.\n",
    "    \n",
    "    Alpha and beta are the coeficients that describe the fit line, while\n",
    "    x and y are lists or arrays with the x and y value of each data point.\n",
    "    '''\n",
    "    error=0\n",
    "    n=len(x)\n",
    "    for i in range(n):\n",
    "        point_error = (y[i] - (alpha + beta * x[i]))\n",
    "        error += point_error\n",
    "    return error / n"
   ]
  },
  {
   "cell_type": "code",
   "execution_count": 6,
   "metadata": {},
   "outputs": [],
   "source": [
    "def step (alpha_cur, beta_cur, learning_rate, x, y):\n",
    "    '''Move downhill from a current function to a new, more optimal one'''\n",
    "    alpha = 0\n",
    "    beta = 0\n",
    "    n = len(x)\n",
    "    for i in range(n):\n",
    "        point_alpha = -(2/n) * x[i] * (y[i] - ((alpha_cur + beta_cur * x[i])))\n",
    "        alpha += point_alpha\n",
    "        point_beta = -(2/n) * x[i] * (y[i] - ((alpha_cur + beta_cur * x[i])))\n",
    "        beta += point_beta\n",
    "    new_alpha = alpha_cur - learning_rate*alpha\n",
    "    new_beta = beta_cur - learning_rate*beta\n",
    "    return [new_alpha, new_beta]"
   ]
  },
  {
   "cell_type": "code",
   "execution_count": 7,
   "metadata": {},
   "outputs": [
    {
     "name": "stdout",
     "output_type": "stream",
     "text": [
      "Coefficients from sklearn:\n",
      " [[2.04016128]]\n",
      "\n",
      "Intercept from sklearn: \n",
      " [0.50232197]\n"
     ]
    }
   ],
   "source": [
    "stop=1000\n",
    "learning_rate = .005\n",
    "alpha_start = 0\n",
    "beta_start = 0\n",
    "\n",
    "x = np.random.normal(0,1,100)\n",
    "y = x * 2 + np.random.sample(100)\n",
    "\n",
    "regr = linear_model.LinearRegression()\n",
    "regr.fit(x.reshape(-1,1), y.reshape(-1,1))\n",
    "print(\"Coefficients from sklearn:\\n\", regr.coef_)\n",
    "print(\"\\nIntercept from sklearn: \\n\", regr.intercept_)"
   ]
  },
  {
   "cell_type": "code",
   "execution_count": 8,
   "metadata": {},
   "outputs": [
    {
     "name": "stdout",
     "output_type": "stream",
     "text": [
      "Coefficients from gradient descent algorithm: \n",
      " 2.024719828821007\n",
      "\n",
      "Intercept from gradient descent algorithm: \n",
      " 2.024719828821007\n"
     ]
    },
    {
     "data": {
      "image/png": "[encoded data removed]",
      "text/plain": [
       "<Figure size 432x288 with 1 Axes>"
      ]
     },
     "metadata": {},
     "output_type": "display_data"
    }
   ],
   "source": [
    "all_error = []\n",
    "\n",
    "alpha = alpha_start\n",
    "beta = beta_start\n",
    "\n",
    "for iter in range(stop):\n",
    "    alpha, beta = step(alpha, beta, learning_rate, x, y)\n",
    "    error = LR_cost_function(alpha, beta, x, y)\n",
    "    all_error.append(error)\n",
    "    \n",
    "print(\"Coefficients from gradient descent algorithm: \\n\", beta)\n",
    "print(\"\\nIntercept from gradient descent algorithm: \\n\", alpha)\n",
    "\n",
    "plt.plot(all_error, \"o\", ms=4)\n",
    "plt.xlabel(\"Iteration\")\n",
    "plt.ylabel(\"Error\")\n",
    "plt.title(\"Error scores for each iteration\")\n",
    "plt.show()"
   ]
  },
  {
   "cell_type": "code",
   "execution_count": null,
   "metadata": {},
   "outputs": [],
   "source": []
  }
 ],
 "metadata": {
  "kernelspec": {
   "display_name": "Python 3",
   "language": "python",
   "name": "python3"
  },
  "language_info": {
   "codemirror_mode": {
    "name": "ipython",
    "version": 3
   },
   "file_extension": ".py",
   "mimetype": "text/x-python",
   "name": "python",
   "nbconvert_exporter": "python",
   "pygments_lexer": "ipython3",
   "version": "3.6.5"
  }
 },
 "nbformat": 4,
 "nbformat_minor": 2
}
