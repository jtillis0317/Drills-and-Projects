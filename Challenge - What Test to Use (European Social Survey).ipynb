{
 "cells": [
  {
   "cell_type": "markdown",
   "metadata": {},
   "source": [
    "**Directions: ** Using selected questions from the 2012 and 2014 editions of the European Social Survey, address the questions below.\n",
    "\n",
    "\n",
    "In this dataset, the same participants answered questions in 2012 and again 2014."
   ]
  },
  {
   "cell_type": "code",
   "execution_count": 2,
   "metadata": {},
   "outputs": [],
   "source": [
    "import pandas as pd\n",
    "import matplotlib.pyplot as plt\n",
    "%matplotlib inline\n",
    "import numpy as np\n",
    "import scipy.stats as stats"
   ]
  },
  {
   "cell_type": "code",
   "execution_count": 3,
   "metadata": {},
   "outputs": [],
   "source": [
    "path = \"https://raw.githubusercontent.com/Thinkful-Ed/data-201-resources/master/ESS_practice_data/ESSdata_Thinkful.csv\"\n",
    "\n",
    "df = pd.read_csv(path)"
   ]
  },
  {
   "cell_type": "code",
   "execution_count": 4,
   "metadata": {},
   "outputs": [
    {
     "data": {
      "text/html": [
       "<div>\n",
       "<style scoped>\n",
       "    .dataframe tbody tr th:only-of-type {\n",
       "        vertical-align: middle;\n",
       "    }\n",
       "\n",
       "    .dataframe tbody tr th {\n",
       "        vertical-align: top;\n",
       "    }\n",
       "\n",
       "    .dataframe thead th {\n",
       "        text-align: right;\n",
       "    }\n",
       "</style>\n",
       "<table border=\"1\" class=\"dataframe\">\n",
       "  <thead>\n",
       "    <tr style=\"text-align: right;\">\n",
       "      <th></th>\n",
       "      <th>cntry</th>\n",
       "      <th>idno</th>\n",
       "      <th>year</th>\n",
       "      <th>tvtot</th>\n",
       "      <th>ppltrst</th>\n",
       "      <th>pplfair</th>\n",
       "      <th>pplhlp</th>\n",
       "      <th>happy</th>\n",
       "      <th>sclmeet</th>\n",
       "      <th>sclact</th>\n",
       "      <th>gndr</th>\n",
       "      <th>agea</th>\n",
       "      <th>partner</th>\n",
       "    </tr>\n",
       "  </thead>\n",
       "  <tbody>\n",
       "    <tr>\n",
       "      <th>0</th>\n",
       "      <td>CH</td>\n",
       "      <td>5.0</td>\n",
       "      <td>6</td>\n",
       "      <td>3.0</td>\n",
       "      <td>3.0</td>\n",
       "      <td>10.0</td>\n",
       "      <td>5.0</td>\n",
       "      <td>8.0</td>\n",
       "      <td>5.0</td>\n",
       "      <td>4.0</td>\n",
       "      <td>2.0</td>\n",
       "      <td>60.0</td>\n",
       "      <td>1.0</td>\n",
       "    </tr>\n",
       "    <tr>\n",
       "      <th>1</th>\n",
       "      <td>CH</td>\n",
       "      <td>25.0</td>\n",
       "      <td>6</td>\n",
       "      <td>6.0</td>\n",
       "      <td>5.0</td>\n",
       "      <td>7.0</td>\n",
       "      <td>5.0</td>\n",
       "      <td>9.0</td>\n",
       "      <td>3.0</td>\n",
       "      <td>2.0</td>\n",
       "      <td>2.0</td>\n",
       "      <td>59.0</td>\n",
       "      <td>1.0</td>\n",
       "    </tr>\n",
       "    <tr>\n",
       "      <th>2</th>\n",
       "      <td>CH</td>\n",
       "      <td>26.0</td>\n",
       "      <td>6</td>\n",
       "      <td>1.0</td>\n",
       "      <td>8.0</td>\n",
       "      <td>8.0</td>\n",
       "      <td>8.0</td>\n",
       "      <td>7.0</td>\n",
       "      <td>6.0</td>\n",
       "      <td>3.0</td>\n",
       "      <td>1.0</td>\n",
       "      <td>24.0</td>\n",
       "      <td>2.0</td>\n",
       "    </tr>\n",
       "    <tr>\n",
       "      <th>3</th>\n",
       "      <td>CH</td>\n",
       "      <td>28.0</td>\n",
       "      <td>6</td>\n",
       "      <td>4.0</td>\n",
       "      <td>6.0</td>\n",
       "      <td>6.0</td>\n",
       "      <td>7.0</td>\n",
       "      <td>10.0</td>\n",
       "      <td>6.0</td>\n",
       "      <td>2.0</td>\n",
       "      <td>2.0</td>\n",
       "      <td>64.0</td>\n",
       "      <td>1.0</td>\n",
       "    </tr>\n",
       "    <tr>\n",
       "      <th>4</th>\n",
       "      <td>CH</td>\n",
       "      <td>29.0</td>\n",
       "      <td>6</td>\n",
       "      <td>5.0</td>\n",
       "      <td>6.0</td>\n",
       "      <td>7.0</td>\n",
       "      <td>5.0</td>\n",
       "      <td>8.0</td>\n",
       "      <td>7.0</td>\n",
       "      <td>2.0</td>\n",
       "      <td>2.0</td>\n",
       "      <td>55.0</td>\n",
       "      <td>1.0</td>\n",
       "    </tr>\n",
       "  </tbody>\n",
       "</table>\n",
       "</div>"
      ],
      "text/plain": [
       "  cntry  idno  year  tvtot  ppltrst  pplfair  pplhlp  happy  sclmeet  sclact  \\\n",
       "0    CH   5.0     6    3.0      3.0     10.0     5.0    8.0      5.0     4.0   \n",
       "1    CH  25.0     6    6.0      5.0      7.0     5.0    9.0      3.0     2.0   \n",
       "2    CH  26.0     6    1.0      8.0      8.0     8.0    7.0      6.0     3.0   \n",
       "3    CH  28.0     6    4.0      6.0      6.0     7.0   10.0      6.0     2.0   \n",
       "4    CH  29.0     6    5.0      6.0      7.0     5.0    8.0      7.0     2.0   \n",
       "\n",
       "   gndr  agea  partner  \n",
       "0   2.0  60.0      1.0  \n",
       "1   2.0  59.0      1.0  \n",
       "2   1.0  24.0      2.0  \n",
       "3   2.0  64.0      1.0  \n",
       "4   2.0  55.0      1.0  "
      ]
     },
     "execution_count": 4,
     "metadata": {},
     "output_type": "execute_result"
    }
   ],
   "source": [
    "df.head()"
   ]
  },
  {
   "cell_type": "markdown",
   "metadata": {},
   "source": [
    "### 1. Did people become less trusting from 2012 to 2014? Compute results for each country in the sample.\n",
    "\n",
    "Survey responders in Spain did lose trust between 2012 and 2014, and the amount of loss was statistically significant according to the p-value that came out of the t-test for paired samples. Sweden's change between 2012 and 2014 was also statistically significant; however, the amount of trust there increased. The changes in the other four countries were not found to be statistically significant."
   ]
  },
  {
   "cell_type": "code",
   "execution_count": 5,
   "metadata": {},
   "outputs": [
    {
     "data": {
      "text/plain": [
       "array(['CH', 'CZ', 'DE', 'ES', 'NO', 'SE'], dtype=object)"
      ]
     },
     "execution_count": 5,
     "metadata": {},
     "output_type": "execute_result"
    }
   ],
   "source": [
    "df[\"cntry\"].unique()"
   ]
  },
  {
   "cell_type": "code",
   "execution_count": 6,
   "metadata": {},
   "outputs": [
    {
     "data": {
      "text/plain": [
       "<matplotlib.legend.Legend at 0x1f1c5b171d0>"
      ]
     },
     "execution_count": 6,
     "metadata": {},
     "output_type": "execute_result"
    },
    {
     "data": {
      "image/png": "[encoded data removed]",
      "text/plain": [
       "<Figure size 720x720 with 6 Axes>"
      ]
     },
     "metadata": {},
     "output_type": "display_data"
    }
   ],
   "source": [
    "plt.subplots(2, 3, figsize=(10,10))\n",
    "ax1 = plt.subplot(231)\n",
    "ax2 = plt.subplot(232)\n",
    "ax3 = plt.subplot(233)\n",
    "ax4 = plt.subplot(234)\n",
    "ax5 = plt.subplot(235)\n",
    "ax6 = plt.subplot(236)\n",
    "\n",
    "figs = [ax1, ax2, ax3, ax4, ax5, ax6]\n",
    "\n",
    "cntry = df[\"cntry\"].unique()\n",
    "\n",
    "for f, c in zip(figs, cntry):\n",
    "    f.hist(df[(df[\"cntry\"] == c) & (df[\"year\"] == 6)][\"ppltrst\"].dropna(), alpha=.5, label=\"2012\")\n",
    "    f.hist(df[(df[\"cntry\"] == c) & (df[\"year\"] == 7)][\"ppltrst\"].dropna(), alpha=.5, label=\"2014\")\n",
    "    f.set_title(c + \" Trust\")\n",
    "\n",
    "ax3.legend()"
   ]
  },
  {
   "cell_type": "code",
   "execution_count": 7,
   "metadata": {},
   "outputs": [
    {
     "name": "stdout",
     "output_type": "stream",
     "text": [
      "Comparing 2012/2014 Levels of Trust in  CH\n",
      "Ttest_relResult(statistic=-0.6586851756725737, pvalue=0.5102943511301135)\n",
      "\n",
      "Comparing 2012/2014 Levels of Trust in  CZ\n",
      "Ttest_relResult(statistic=-0.5001638336887216, pvalue=0.617129268240474)\n",
      "\n",
      "Comparing 2012/2014 Levels of Trust in  DE\n",
      "Ttest_relResult(statistic=-0.18399501804849683, pvalue=0.8568563797095805)\n",
      "\n",
      "Comparing 2012/2014 Levels of Trust in  ES\n",
      "Ttest_relResult(statistic=2.4561906976601646, pvalue=0.014181580725320272)\n",
      "\n",
      "Comparing 2012/2014 Levels of Trust in  NO\n",
      "Ttest_relResult(statistic=0.5073077081124404, pvalue=0.61209257015177)\n",
      "\n",
      "Comparing 2012/2014 Levels of Trust in  SE\n",
      "Ttest_relResult(statistic=-2.0671082026033982, pvalue=0.03900781670958545)\n"
     ]
    }
   ],
   "source": [
    "### because all the variables seem normally distributed, I will use the t-test for paired samples\n",
    "print(\"Comparing 2012/2014 Levels of Trust in \", df[\"cntry\"].unique()[0])\n",
    "print(stats.ttest_rel(df[(df[\"cntry\"] == df[\"cntry\"].unique()[0]) & (df[\"year\"] == 6)][\"ppltrst\"], \n",
    "               df[(df[\"cntry\"] == df[\"cntry\"].unique()[0]) & (df[\"year\"] == 7)][\"ppltrst\"], nan_policy=\"omit\"))\n",
    "\n",
    "print(\"\\nComparing 2012/2014 Levels of Trust in \", df[\"cntry\"].unique()[1])\n",
    "print(stats.ttest_rel(df[(df[\"cntry\"] == df[\"cntry\"].unique()[1]) & (df[\"year\"] == 6)][\"ppltrst\"], \n",
    "               df[(df[\"cntry\"] == df[\"cntry\"].unique()[1]) & (df[\"year\"] == 7)][\"ppltrst\"], nan_policy=\"omit\"))\n",
    "\n",
    "print(\"\\nComparing 2012/2014 Levels of Trust in \", df[\"cntry\"].unique()[2])\n",
    "print(stats.ttest_rel(df[(df[\"cntry\"] == df[\"cntry\"].unique()[2]) & (df[\"year\"] == 6)][\"ppltrst\"], \n",
    "               df[(df[\"cntry\"] == df[\"cntry\"].unique()[2]) & (df[\"year\"] == 7)][\"ppltrst\"], nan_policy=\"omit\"))\n",
    "\n",
    "print(\"\\nComparing 2012/2014 Levels of Trust in \", df[\"cntry\"].unique()[3])\n",
    "print(stats.ttest_rel(df[(df[\"cntry\"] == df[\"cntry\"].unique()[3]) & (df[\"year\"] == 6)][\"ppltrst\"], \n",
    "               df[(df[\"cntry\"] == df[\"cntry\"].unique()[3]) & (df[\"year\"] == 7)][\"ppltrst\"], nan_policy=\"omit\"))\n",
    "\n",
    "print(\"\\nComparing 2012/2014 Levels of Trust in \", df[\"cntry\"].unique()[4])\n",
    "print(stats.ttest_rel(df[(df[\"cntry\"] == df[\"cntry\"].unique()[4]) & (df[\"year\"] == 6)][\"ppltrst\"], \n",
    "               df[(df[\"cntry\"] == df[\"cntry\"].unique()[4]) & (df[\"year\"] == 7)][\"ppltrst\"], nan_policy=\"omit\"))\n",
    "\n",
    "print(\"\\nComparing 2012/2014 Levels of Trust in \", df[\"cntry\"].unique()[5])\n",
    "print(stats.ttest_rel(df[(df[\"cntry\"] == df[\"cntry\"].unique()[5]) & (df[\"year\"] == 6)][\"ppltrst\"], \n",
    "               df[(df[\"cntry\"] == df[\"cntry\"].unique()[5]) & (df[\"year\"] == 7)][\"ppltrst\"], nan_policy=\"omit\"))"
   ]
  },
  {
   "cell_type": "code",
   "execution_count": 8,
   "metadata": {},
   "outputs": [
    {
     "name": "stdout",
     "output_type": "stream",
     "text": [
      "Sweden's average trust in 2012: 6.058498896247241\n",
      "Sweden's average trust in 2014: 6.257709251101321\n",
      "\n",
      "Spain's average trust in 2012: 5.114591920857379\n",
      "Spain's average trust in 2014: 4.895127993393889\n"
     ]
    }
   ],
   "source": [
    "import statistics\n",
    "print(\"Sweden's average trust in 2012:\", statistics.mean(df[(df[\"cntry\"] == \"SE\") & (df[\"year\"] == 6)][\"ppltrst\"].dropna()))\n",
    "print(\"Sweden's average trust in 2014:\", statistics.mean(df[(df[\"cntry\"] == \"SE\") & (df[\"year\"] == 7)][\"ppltrst\"].dropna()))\n",
    "print(\"\\nSpain's average trust in 2012:\", statistics.mean(df[(df[\"cntry\"] == \"ES\") & (df[\"year\"] == 6)][\"ppltrst\"].dropna()))\n",
    "print(\"Spain's average trust in 2014:\", statistics.mean(df[(df[\"cntry\"] == \"ES\") & (df[\"year\"] == 7)][\"ppltrst\"].dropna()))\n"
   ]
  },
  {
   "cell_type": "markdown",
   "metadata": {},
   "source": [
    "### 2. Did people become happier from 2012 to 2014? Compute results for each country in the sample.\n",
    "\n",
    "Survey responders in the Czech Republic did gain happiness between 2012 and 2014, and the amount of loss was statistically significant according to the p-value that came out of the Wilcoxon signed-rank test. Norway's change between 2012 and 2014 was also statistically significant; however, the amount of happiness there decreased. The changes in the other four countries were not found to be statistically significant.\n"
   ]
  },
  {
   "cell_type": "code",
   "execution_count": 9,
   "metadata": {},
   "outputs": [
    {
     "data": {
      "text/plain": [
       "<matplotlib.legend.Legend at 0x1f1c5e497f0>"
      ]
     },
     "execution_count": 9,
     "metadata": {},
     "output_type": "execute_result"
    },
    {
     "data": {
      "image/png": "[encoded data removed]",
      "text/plain": [
       "<Figure size 720x720 with 6 Axes>"
      ]
     },
     "metadata": {},
     "output_type": "display_data"
    }
   ],
   "source": [
    "plt.subplots(2, 3, figsize=(10,10))\n",
    "ax1 = plt.subplot(231)\n",
    "ax2 = plt.subplot(232)\n",
    "ax3 = plt.subplot(233)\n",
    "ax4 = plt.subplot(234)\n",
    "ax5 = plt.subplot(235)\n",
    "ax6 = plt.subplot(236)\n",
    "\n",
    "figs = [ax1, ax2, ax3, ax4, ax5, ax6]\n",
    "\n",
    "cntry = df[\"cntry\"].unique()\n",
    "\n",
    "for f, c in zip(figs, cntry):\n",
    "    f.hist(df[(df[\"cntry\"] == c) & (df[\"year\"] == 6)][\"happy\"].dropna(), alpha=.5, label=\"2012\")\n",
    "    f.hist(df[(df[\"cntry\"] == c) & (df[\"year\"] == 7)][\"happy\"].dropna(), alpha=.5, label=\"2014\")\n",
    "    f.set_title(c + \" Happiness\")\n",
    "\n",
    "ax3.legend()"
   ]
  },
  {
   "cell_type": "code",
   "execution_count": 10,
   "metadata": {},
   "outputs": [
    {
     "name": "stdout",
     "output_type": "stream",
     "text": [
      "Comparing 2012/2014 Levels of Happiness in  CH\n",
      "WilcoxonResult(statistic=92816.5, pvalue=0.8208688161425343)\n",
      "\n",
      "Comparing 2012/2014 Levels of Happiness in  CZ\n",
      "WilcoxonResult(statistic=22505.0, pvalue=5.216939284793514e-57)\n",
      "\n",
      "Comparing 2012/2014 Levels of Happiness in  DE\n",
      "WilcoxonResult(statistic=23.5, pvalue=0.393351316918508)\n",
      "\n",
      "Comparing 2012/2014 Levels of Happiness in  ES\n",
      "WilcoxonResult(statistic=231958.5, pvalue=0.04923868084306013)\n",
      "\n",
      "Comparing 2012/2014 Levels of Happiness in  NO\n",
      "WilcoxonResult(statistic=67571.5, pvalue=2.7264367804254175e-06)\n",
      "\n",
      "Comparing 2012/2014 Levels of Happiness in  SE\n",
      "WilcoxonResult(statistic=125481.0, pvalue=0.5136403441005022)\n"
     ]
    },
    {
     "name": "stderr",
     "output_type": "stream",
     "text": [
      "C:\\Users\\jesst\\AppData\\Local\\Continuum\\anaconda3\\lib\\site-packages\\scipy\\stats\\morestats.py:2391: RuntimeWarning: invalid value encountered in greater\n",
      "  r_plus = np.sum((d > 0) * r, axis=0)\n",
      "C:\\Users\\jesst\\AppData\\Local\\Continuum\\anaconda3\\lib\\site-packages\\scipy\\stats\\morestats.py:2392: RuntimeWarning: invalid value encountered in less\n",
      "  r_minus = np.sum((d < 0) * r, axis=0)\n"
     ]
    }
   ],
   "source": [
    "### because all the variables seem non-normally distributed, I will use the Wilcoxon-signed rank test\n",
    "print(\"Comparing 2012/2014 Levels of Happiness in \", df[\"cntry\"].unique()[0])\n",
    "print(stats.wilcoxon(df[(df[\"cntry\"] == df[\"cntry\"].unique()[0]) & (df[\"year\"] == 6)][\"happy\"], \n",
    "               df[(df[\"cntry\"] == df[\"cntry\"].unique()[0]) & (df[\"year\"] == 7)][\"happy\"]))\n",
    "\n",
    "print(\"\\nComparing 2012/2014 Levels of Happiness in \", df[\"cntry\"].unique()[1])\n",
    "print(stats.wilcoxon(df[(df[\"cntry\"] == df[\"cntry\"].unique()[1]) & (df[\"year\"] == 6)][\"happy\"], \n",
    "               df[(df[\"cntry\"] == df[\"cntry\"].unique()[1]) & (df[\"year\"] == 7)][\"ppltrst\"]))\n",
    "\n",
    "print(\"\\nComparing 2012/2014 Levels of Happiness in \", df[\"cntry\"].unique()[2])\n",
    "print(stats.wilcoxon(df[(df[\"cntry\"] == df[\"cntry\"].unique()[2]) & (df[\"year\"] == 6)][\"happy\"], \n",
    "               df[(df[\"cntry\"] == df[\"cntry\"].unique()[2]) & (df[\"year\"] == 7)][\"happy\"]))\n",
    "\n",
    "print(\"\\nComparing 2012/2014 Levels of Happiness in \", df[\"cntry\"].unique()[3])\n",
    "print(stats.wilcoxon(df[(df[\"cntry\"] == df[\"cntry\"].unique()[3]) & (df[\"year\"] == 6)][\"happy\"], \n",
    "               df[(df[\"cntry\"] == df[\"cntry\"].unique()[3]) & (df[\"year\"] == 7)][\"happy\"]))\n",
    "\n",
    "print(\"\\nComparing 2012/2014 Levels of Happiness in \", df[\"cntry\"].unique()[4])\n",
    "print(stats.wilcoxon(df[(df[\"cntry\"] == df[\"cntry\"].unique()[4]) & (df[\"year\"] == 6)][\"happy\"], \n",
    "               df[(df[\"cntry\"] == df[\"cntry\"].unique()[4]) & (df[\"year\"] == 7)][\"happy\"]))\n",
    "\n",
    "print(\"\\nComparing 2012/2014 Levels of Happiness in \", df[\"cntry\"].unique()[5])\n",
    "print(stats.wilcoxon(df[(df[\"cntry\"] == df[\"cntry\"].unique()[5]) & (df[\"year\"] == 6)][\"happy\"], \n",
    "               df[(df[\"cntry\"] == df[\"cntry\"].unique()[5]) & (df[\"year\"] == 7)][\"happy\"]))"
   ]
  },
  {
   "cell_type": "code",
   "execution_count": 11,
   "metadata": {
    "scrolled": true
   },
   "outputs": [
    {
     "name": "stdout",
     "output_type": "stream",
     "text": [
      "Czech Republic's average happiness in 2012: 6.7708978328173375\n",
      "Czech Republic's average happiness in 2014: 6.914110429447852\n",
      "\n",
      "Norway's average happiness in 2012: 8.25171939477304\n",
      "Norway's average happiness in 2014: 7.9151846785225715\n"
     ]
    }
   ],
   "source": [
    "import statistics\n",
    "print(\"Czech Republic's average happiness in 2012:\", statistics.mean(df[(df[\"cntry\"] == \"CZ\") & (df[\"year\"] == 6)][\"happy\"].dropna()))\n",
    "print(\"Czech Republic's average happiness in 2014:\", statistics.mean(df[(df[\"cntry\"] == \"CZ\") & (df[\"year\"] == 7)][\"happy\"].dropna()))\n",
    "print(\"\\nNorway's average happiness in 2012:\", statistics.mean(df[(df[\"cntry\"] == \"NO\") & (df[\"year\"] == 6)][\"happy\"].dropna()))\n",
    "print(\"Norway's average happiness in 2014:\", statistics.mean(df[(df[\"cntry\"] == \"NO\") & (df[\"year\"] == 7)][\"happy\"].dropna()))\n"
   ]
  },
  {
   "cell_type": "code",
   "execution_count": null,
   "metadata": {},
   "outputs": [],
   "source": []
  },
  {
   "cell_type": "markdown",
   "metadata": {},
   "source": [
    "### 3. Who reported watching more TV in 2012, men or women?\n",
    "\n",
    "Women reported watching slightly more TV in 2012. The numbers are very close, and according to the Mann-Whiteney rank test, the difference was not statistically significant."
   ]
  },
  {
   "cell_type": "code",
   "execution_count": 12,
   "metadata": {},
   "outputs": [
    {
     "data": {
      "text/plain": [
       "Text(0.5,1,'TV Watching in 2012')"
      ]
     },
     "execution_count": 12,
     "metadata": {},
     "output_type": "execute_result"
    },
    {
     "data": {
      "image/png": "[encoded data removed]",
      "text/plain": [
       "<Figure size 720x720 with 1 Axes>"
      ]
     },
     "metadata": {},
     "output_type": "display_data"
    }
   ],
   "source": [
    "plt.figure(figsize=(10,10))\n",
    "plt.hist(df[(df[\"gndr\"] == 1.0) & (df[\"year\"] == 6)][\"tvtot\"].dropna(), label=\"Men\", alpha=.5)\n",
    "plt.hist(df[(df[\"gndr\"] == 2.0) & (df[\"year\"] == 6)][\"tvtot\"].dropna(), label=\"Women\", alpha=.5)\n",
    "plt.legend()\n",
    "plt.title(\"TV Watching in 2012\", size=15)"
   ]
  },
  {
   "cell_type": "code",
   "execution_count": 13,
   "metadata": {},
   "outputs": [
    {
     "name": "stdout",
     "output_type": "stream",
     "text": [
      "Comparing 2012 TV totals between men and women.\n",
      "MannwhitneyuResult(statistic=2277506.5, pvalue=0.22419270231191457)\n"
     ]
    }
   ],
   "source": [
    "### because the variable seems non-normally distributed, I will use the Mann-Whitney rank test\n",
    "print(\"Comparing 2012 TV totals between men and women.\")\n",
    "print(stats.mannwhitneyu(df[(df[\"gndr\"] == 1.0) & (df[\"year\"] == 6)][\"tvtot\"], \n",
    "               df[(df[\"gndr\"] == 2.0) & (df[\"year\"] == 6)][\"tvtot\"]))\n"
   ]
  },
  {
   "cell_type": "markdown",
   "metadata": {},
   "source": [
    "### 4. Who was more likely to believe people were fair in 2012, people living with a partner or people living alone?\n",
    "\n",
    "People living with a partner were more likely to believe that people were fair in 2012. According to the t-test for independent samples, the difference was statistically significant."
   ]
  },
  {
   "cell_type": "code",
   "execution_count": 14,
   "metadata": {},
   "outputs": [
    {
     "data": {
      "text/plain": [
       "Text(0.5,1,'The Amount People Believe That Others Are Fair in 2012')"
      ]
     },
     "execution_count": 14,
     "metadata": {},
     "output_type": "execute_result"
    },
    {
     "data": {
      "image/png": "[encoded data removed]",
      "text/plain": [
       "<Figure size 720x720 with 1 Axes>"
      ]
     },
     "metadata": {},
     "output_type": "display_data"
    }
   ],
   "source": [
    "plt.figure(figsize=(10,10))\n",
    "plt.hist(df[(df[\"partner\"] == 1.0) & (df[\"year\"] == 6)][\"pplfair\"].dropna(), label=\"Lives With Partner\", alpha=.5)\n",
    "plt.hist(df[(df[\"partner\"] == 2.0) & (df[\"year\"] == 6)][\"pplfair\"].dropna(), label=\"Does not\", alpha=.5)\n",
    "plt.legend()\n",
    "plt.title(\"The Amount People Believe That Others Are Fair in 2012\", size=15)"
   ]
  },
  {
   "cell_type": "code",
   "execution_count": 15,
   "metadata": {},
   "outputs": [
    {
     "name": "stdout",
     "output_type": "stream",
     "text": [
      "Comparing 2012 Fairness between men and women.\n",
      "Ttest_indResult(statistic=3.3201033970362084, pvalue=0.0009073952609883756)\n"
     ]
    }
   ],
   "source": [
    "### because the variable seems normally distributed, I will use the t-test for independent samples\n",
    "print(\"Comparing 2012 Fairness between men and women.\")\n",
    "print(stats.ttest_ind(df[(df[\"partner\"] == 1.0) & (df[\"year\"] == 6)][\"pplfair\"].dropna(), \n",
    "               df[(df[\"partner\"] == 2.0) & (df[\"year\"] == 6)][\"pplfair\"].dropna()))\n"
   ]
  },
  {
   "cell_type": "code",
   "execution_count": 16,
   "metadata": {},
   "outputs": [
    {
     "name": "stdout",
     "output_type": "stream",
     "text": [
      "People living with partner's average belief that others are fair in 2012: 6.080736012016523\n",
      "People living alone's average belief that others are fair in 2012: 5.856965174129353\n"
     ]
    }
   ],
   "source": [
    "print(\"People living with partner's average belief that others are fair in 2012:\", statistics.mean(df[(df[\"partner\"] == 1.0) & (df[\"year\"] == 6)][\"pplfair\"].dropna()))\n",
    "print(\"People living alone's average belief that others are fair in 2012:\", statistics.mean(df[(df[\"partner\"] == 2.0) & (df[\"year\"] == 6)][\"pplfair\"].dropna()))"
   ]
  },
  {
   "cell_type": "markdown",
   "metadata": {},
   "source": [
    "### 5. Pick three or four of the countries in the sample and compare how often people met socially in 2014. Are there differences, and if so, which countries stand out?\n",
    "\n",
    "Norway's data stood out among the the four countries I chose (which also included Switzerland, Czech Republic, and Germany. Through Mood's median test, it was clear that at least one of the groups had a different median. When I plotted boxplots, Norway's median was 6, while the median of the other countries was 5.\n"
   ]
  },
  {
   "cell_type": "code",
   "execution_count": 17,
   "metadata": {},
   "outputs": [
    {
     "data": {
      "text/plain": [
       "Text(0.5,1,'How Frequently People Meet Socially in 2014')"
      ]
     },
     "execution_count": 17,
     "metadata": {},
     "output_type": "execute_result"
    },
    {
     "data": {
      "image/png": "[encoded data removed]",
      "text/plain": [
       "<Figure size 720x720 with 1 Axes>"
      ]
     },
     "metadata": {},
     "output_type": "display_data"
    }
   ],
   "source": [
    "plt.figure(figsize=(10,10))\n",
    "plt.hist(df[(df[\"cntry\"] == \"CH\") & (df[\"year\"] == 7)][\"sclmeet\"].dropna(), label=\"Switzerland\", alpha=.5, bins=7)\n",
    "plt.hist(df[(df[\"cntry\"] == \"CZ\") & (df[\"year\"] == 7)][\"sclmeet\"].dropna(), label=\"Czech Republic\", alpha=.5, bins=7)\n",
    "plt.hist(df[(df[\"cntry\"] == \"DE\") & (df[\"year\"] == 7)][\"sclmeet\"].dropna(), label=\"Germany\", alpha=.5, bins=7)\n",
    "plt.hist(df[(df[\"cntry\"] == \"NO\") & (df[\"year\"] == 7)][\"sclmeet\"].dropna(), label=\"Norway\", alpha=.5, bins=7)\n",
    "plt.legend()\n",
    "plt.title(\"How Frequently People Meet Socially in 2014\", size=15)"
   ]
  },
  {
   "cell_type": "code",
   "execution_count": 18,
   "metadata": {},
   "outputs": [
    {
     "name": "stdout",
     "output_type": "stream",
     "text": [
      "Comparing 2014 Frequency of Social Meetings Between Countries\n"
     ]
    },
    {
     "data": {
      "text/plain": [
       "(138.13232916489267, 9.553096417132724e-30, 5.0, array([[391, 177,   1, 408],\n",
       "        [381, 478,  13, 323]], dtype=int64))"
      ]
     },
     "execution_count": 18,
     "metadata": {},
     "output_type": "execute_result"
    }
   ],
   "source": [
    "### because all the variables seem non-normally distributed (although it's a close call), I will use Mood's median test\n",
    "print(\"Comparing 2014 Frequency of Social Meetings Between Countries\")\n",
    "stats.median_test(df[(df[\"cntry\"] == \"CH\") & (df[\"year\"] == 7)][\"sclmeet\"].dropna(), df[(df[\"cntry\"] == \"CZ\") & (df[\"year\"] == 7)][\"sclmeet\"].dropna(), df[(df[\"cntry\"] == \"DE\") & (df[\"year\"] == 7)][\"sclmeet\"].dropna(), df[(df[\"cntry\"] == \"NO\") & (df[\"year\"] == 7)][\"sclmeet\"].dropna())\n",
    "\n",
    "#The p-value shows that at least one group differs to a statistically significant degree."
   ]
  },
  {
   "cell_type": "code",
   "execution_count": 19,
   "metadata": {},
   "outputs": [],
   "source": [
    "CH_df = pd.DataFrame(df[df[\"cntry\"] == \"CH\"][\"sclmeet\"])\n",
    "CZ_df = pd.DataFrame(df[df[\"cntry\"] == \"CZ\"][\"sclmeet\"])\n",
    "DE_df = pd.DataFrame(df[df[\"cntry\"] == \"DE\"][\"sclmeet\"])\n",
    "NO_df = pd.DataFrame(df[df[\"cntry\"] == \"NO\"][\"sclmeet\"])\n",
    "\n"
   ]
  },
  {
   "cell_type": "code",
   "execution_count": 37,
   "metadata": {},
   "outputs": [
    {
     "data": {
      "text/html": [
       "<div>\n",
       "<style scoped>\n",
       "    .dataframe tbody tr th:only-of-type {\n",
       "        vertical-align: middle;\n",
       "    }\n",
       "\n",
       "    .dataframe tbody tr th {\n",
       "        vertical-align: top;\n",
       "    }\n",
       "\n",
       "    .dataframe thead th {\n",
       "        text-align: right;\n",
       "    }\n",
       "</style>\n",
       "<table border=\"1\" class=\"dataframe\">\n",
       "  <thead>\n",
       "    <tr style=\"text-align: right;\">\n",
       "      <th></th>\n",
       "      <th>sclmeet</th>\n",
       "    </tr>\n",
       "  </thead>\n",
       "  <tbody>\n",
       "    <tr>\n",
       "      <th>0</th>\n",
       "      <td>5.0</td>\n",
       "    </tr>\n",
       "    <tr>\n",
       "      <th>1</th>\n",
       "      <td>3.0</td>\n",
       "    </tr>\n",
       "    <tr>\n",
       "      <th>2</th>\n",
       "      <td>6.0</td>\n",
       "    </tr>\n",
       "    <tr>\n",
       "      <th>3</th>\n",
       "      <td>6.0</td>\n",
       "    </tr>\n",
       "    <tr>\n",
       "      <th>4</th>\n",
       "      <td>7.0</td>\n",
       "    </tr>\n",
       "  </tbody>\n",
       "</table>\n",
       "</div>"
      ],
      "text/plain": [
       "   sclmeet\n",
       "0      5.0\n",
       "1      3.0\n",
       "2      6.0\n",
       "3      6.0\n",
       "4      7.0"
      ]
     },
     "execution_count": 37,
     "metadata": {},
     "output_type": "execute_result"
    }
   ],
   "source": [
    "CH_df.head()"
   ]
  },
  {
   "cell_type": "code",
   "execution_count": 43,
   "metadata": {},
   "outputs": [
    {
     "data": {
      "text/plain": [
       "5.120622568093385"
      ]
     },
     "execution_count": 43,
     "metadata": {},
     "output_type": "execute_result"
    }
   ],
   "source": [
    "statistics.mean(CH_df.iloc[:, 0].dropna())"
   ]
  },
  {
   "cell_type": "code",
   "execution_count": 47,
   "metadata": {},
   "outputs": [
    {
     "data": {
      "image/png": "[encoded data removed]",
      "text/plain": [
       "<Figure size 432x288 with 1 Axes>"
      ]
     },
     "metadata": {},
     "output_type": "display_data"
    },
    {
     "name": "stdout",
     "output_type": "stream",
     "text": [
      "Median:  5.0\n",
      "Average:  5.120622568093385\n"
     ]
    },
    {
     "data": {
      "image/png": "[encoded data removed]",
      "text/plain": [
       "<Figure size 432x288 with 1 Axes>"
      ]
     },
     "metadata": {},
     "output_type": "display_data"
    },
    {
     "name": "stdout",
     "output_type": "stream",
     "text": [
      "Median:  5.0\n",
      "Average:  4.5473282442748095\n"
     ]
    },
    {
     "data": {
      "image/png": "[encoded data removed]",
      "text/plain": [
       "<Figure size 432x288 with 1 Axes>"
      ]
     },
     "metadata": {},
     "output_type": "display_data"
    },
    {
     "name": "stdout",
     "output_type": "stream",
     "text": [
      "Median:  5.0\n",
      "Average:  4.714285714285714\n"
     ]
    },
    {
     "data": {
      "image/png": "[encoded data removed]",
      "text/plain": [
       "<Figure size 432x288 with 1 Axes>"
      ]
     },
     "metadata": {},
     "output_type": "display_data"
    },
    {
     "name": "stdout",
     "output_type": "stream",
     "text": [
      "Median:  6.0\n",
      "Average:  5.416552667578659\n"
     ]
    }
   ],
   "source": [
    "CH_df.dropna().boxplot()\n",
    "plt.title(\"Switzerland's Frequency of Social Meetings\")\n",
    "plt.show()\n",
    "print(\"Median: \", statistics.median(CH_df.iloc[:, 0].dropna()))\n",
    "print(\"Average: \", statistics.mean(CH_df.iloc[:, 0].dropna()))\n",
    "\n",
    "CZ_df.dropna().boxplot()\n",
    "plt.title(\"Czech Republic's Frequency of Social Meetings\")\n",
    "plt.show()\n",
    "print(\"Median: \", statistics.median(CZ_df.iloc[:, 0].dropna()))\n",
    "print(\"Average: \", statistics.mean(CZ_df.iloc[:, 0].dropna()))\n",
    "\n",
    "DE_df.dropna().boxplot()\n",
    "plt.title(\"Germany's Frequency of Social Meetings\")\n",
    "plt.show()\n",
    "print(\"Median: \", statistics.median(DE_df.iloc[:, 0].dropna()))\n",
    "print(\"Average: \", statistics.mean(DE_df.iloc[:, 0].dropna()))\n",
    "\n",
    "NO_df.dropna().boxplot()\n",
    "plt.title(\"Norway's Frequency of Social Meetings\")\n",
    "plt.show()\n",
    "print(\"Median: \", statistics.median(NO_df.iloc[:, 0].dropna()))\n",
    "print(\"Average: \", statistics.mean(NO_df.iloc[:, 0].dropna()))"
   ]
  },
  {
   "cell_type": "markdown",
   "metadata": {},
   "source": [
    "### 6. Pick three or four of the countries in the sample and compare how often people took part in social activities, relative to others their age, in 2014. Are there differences, and if so, which countries stand out? \n",
    "\n",
    "Using the 1-way ANOVA, it was clear that at least one group was statistically significantly different from the others. Upon plotting barplots, all four countries had the same mean score (4), but Norway's mean was slightly higher than those of the other countries. When I used a t-test for independent groups to compare every set, Germany, Switzerland, and the Czech Republic got p-values that showed they were not statistically significantly different from each other, while Norway stood out."
   ]
  },
  {
   "cell_type": "code",
   "execution_count": 50,
   "metadata": {},
   "outputs": [
    {
     "data": {
      "text/plain": [
       "Text(0.5,1,'Social Activities Relative to Others Their Age in 2014')"
      ]
     },
     "execution_count": 50,
     "metadata": {},
     "output_type": "execute_result"
    },
    {
     "data": {
      "image/png": "[encoded data removed]",
      "text/plain": [
       "<Figure size 720x720 with 1 Axes>"
      ]
     },
     "metadata": {},
     "output_type": "display_data"
    }
   ],
   "source": [
    "plt.figure(figsize=(10,10))\n",
    "plt.hist(df[(df[\"cntry\"] == \"CH\") & (df[\"year\"] == 7)][\"sclact\"].dropna(), label=\"Switzerland\", alpha=.5, bins=5)\n",
    "plt.hist(df[(df[\"cntry\"] == \"CZ\") & (df[\"year\"] == 7)][\"sclact\"].dropna(), label=\"Czech Republic\", alpha=.5, bins=5)\n",
    "plt.hist(df[(df[\"cntry\"] == \"DE\") & (df[\"year\"] == 7)][\"sclact\"].dropna(), label=\"Germany\", alpha=.5, bins=5)\n",
    "plt.hist(df[(df[\"cntry\"] == \"NO\") & (df[\"year\"] == 7)][\"sclact\"].dropna(), label=\"Norway\", alpha=.5, bins=5)\n",
    "plt.legend()\n",
    "plt.title(\"Social Activities Relative to Others Their Age in 2014\", size=15)"
   ]
  },
  {
   "cell_type": "code",
   "execution_count": 51,
   "metadata": {},
   "outputs": [
    {
     "name": "stdout",
     "output_type": "stream",
     "text": [
      "Comparing 2014 Social Activities Relative to Age Group Between Countries\n"
     ]
    },
    {
     "data": {
      "text/plain": [
       "F_onewayResult(statistic=3.759335588707546, pvalue=0.010442184751832385)"
      ]
     },
     "execution_count": 51,
     "metadata": {},
     "output_type": "execute_result"
    }
   ],
   "source": [
    "### because all the variables seem normally distributed, I will use the 1-way ANOVA\n",
    "print(\"Comparing 2014 Social Activities Relative to Age Group Between Countries\")\n",
    "stats.f_oneway(df[(df[\"cntry\"] == \"CH\") & (df[\"year\"] == 7)][\"sclact\"].dropna(), df[(df[\"cntry\"] == \"CZ\") & (df[\"year\"] == 7)][\"sclact\"].dropna(), df[(df[\"cntry\"] == \"DE\") & (df[\"year\"] == 7)][\"sclact\"].dropna(), df[(df[\"cntry\"] == \"NO\") & (df[\"year\"] == 7)][\"sclact\"].dropna())\n",
    "\n",
    "#The p-value shows that at least one group differs to a statistically significant degree."
   ]
  },
  {
   "cell_type": "code",
   "execution_count": 52,
   "metadata": {},
   "outputs": [],
   "source": [
    "CH_df = pd.DataFrame(df[df[\"cntry\"] == \"CH\"][\"sclact\"])\n",
    "CZ_df = pd.DataFrame(df[df[\"cntry\"] == \"CZ\"][\"sclact\"])\n",
    "DE_df = pd.DataFrame(df[df[\"cntry\"] == \"DE\"][\"sclact\"])\n",
    "NO_df = pd.DataFrame(df[df[\"cntry\"] == \"NO\"][\"sclact\"])\n",
    "\n"
   ]
  },
  {
   "cell_type": "code",
   "execution_count": 53,
   "metadata": {},
   "outputs": [
    {
     "data": {
      "text/html": [
       "<div>\n",
       "<style scoped>\n",
       "    .dataframe tbody tr th:only-of-type {\n",
       "        vertical-align: middle;\n",
       "    }\n",
       "\n",
       "    .dataframe tbody tr th {\n",
       "        vertical-align: top;\n",
       "    }\n",
       "\n",
       "    .dataframe thead th {\n",
       "        text-align: right;\n",
       "    }\n",
       "</style>\n",
       "<table border=\"1\" class=\"dataframe\">\n",
       "  <thead>\n",
       "    <tr style=\"text-align: right;\">\n",
       "      <th></th>\n",
       "      <th>sclact</th>\n",
       "    </tr>\n",
       "  </thead>\n",
       "  <tbody>\n",
       "    <tr>\n",
       "      <th>0</th>\n",
       "      <td>4.0</td>\n",
       "    </tr>\n",
       "    <tr>\n",
       "      <th>1</th>\n",
       "      <td>2.0</td>\n",
       "    </tr>\n",
       "    <tr>\n",
       "      <th>2</th>\n",
       "      <td>3.0</td>\n",
       "    </tr>\n",
       "    <tr>\n",
       "      <th>3</th>\n",
       "      <td>2.0</td>\n",
       "    </tr>\n",
       "    <tr>\n",
       "      <th>4</th>\n",
       "      <td>2.0</td>\n",
       "    </tr>\n",
       "  </tbody>\n",
       "</table>\n",
       "</div>"
      ],
      "text/plain": [
       "   sclact\n",
       "0     4.0\n",
       "1     2.0\n",
       "2     3.0\n",
       "3     2.0\n",
       "4     2.0"
      ]
     },
     "execution_count": 53,
     "metadata": {},
     "output_type": "execute_result"
    }
   ],
   "source": [
    "CH_df.head()"
   ]
  },
  {
   "cell_type": "code",
   "execution_count": 54,
   "metadata": {},
   "outputs": [
    {
     "data": {
      "text/plain": [
       "2.7432874918140144"
      ]
     },
     "execution_count": 54,
     "metadata": {},
     "output_type": "execute_result"
    }
   ],
   "source": [
    "statistics.mean(CH_df.iloc[:, 0].dropna())"
   ]
  },
  {
   "cell_type": "code",
   "execution_count": 55,
   "metadata": {},
   "outputs": [
    {
     "data": {
      "image/png": "[encoded data removed]",
      "text/plain": [
       "<Figure size 432x288 with 1 Axes>"
      ]
     },
     "metadata": {},
     "output_type": "display_data"
    },
    {
     "name": "stdout",
     "output_type": "stream",
     "text": [
      "Median:  3.0\n",
      "Average:  2.7432874918140144\n"
     ]
    },
    {
     "data": {
      "image/png": "[encoded data removed]",
      "text/plain": [
       "<Figure size 432x288 with 1 Axes>"
      ]
     },
     "metadata": {},
     "output_type": "display_data"
    },
    {
     "name": "stdout",
     "output_type": "stream",
     "text": [
      "Median:  3.0\n",
      "Average:  2.6584234930448223\n"
     ]
    },
    {
     "data": {
      "image/png": "[encoded data removed]",
      "text/plain": [
       "<Figure size 432x288 with 1 Axes>"
      ]
     },
     "metadata": {},
     "output_type": "display_data"
    },
    {
     "name": "stdout",
     "output_type": "stream",
     "text": [
      "Median:  3.0\n",
      "Average:  2.7857142857142856\n"
     ]
    },
    {
     "data": {
      "image/png": "[encoded data removed]",
      "text/plain": [
       "<Figure size 432x288 with 1 Axes>"
      ]
     },
     "metadata": {},
     "output_type": "display_data"
    },
    {
     "name": "stdout",
     "output_type": "stream",
     "text": [
      "Median:  3.0\n",
      "Average:  2.9121482498284146\n"
     ]
    }
   ],
   "source": [
    "CH_df.dropna().boxplot()\n",
    "plt.title(\"Switzerland's Social Activities Relative to Age Group\")\n",
    "plt.show()\n",
    "print(\"Median: \", statistics.median(CH_df.iloc[:, 0].dropna()))\n",
    "print(\"Average: \", statistics.mean(CH_df.iloc[:, 0].dropna()))\n",
    "\n",
    "CZ_df.dropna().boxplot()\n",
    "plt.title(\"Czech Republic's Social Activities Relative to Age Group\")\n",
    "plt.show()\n",
    "print(\"Median: \", statistics.median(CZ_df.iloc[:, 0].dropna()))\n",
    "print(\"Average: \", statistics.mean(CZ_df.iloc[:, 0].dropna()))\n",
    "\n",
    "DE_df.dropna().boxplot()\n",
    "plt.title(\"Germany's Social Activities Relative to Age Group\")\n",
    "plt.show()\n",
    "print(\"Median: \", statistics.median(DE_df.iloc[:, 0].dropna()))\n",
    "print(\"Average: \", statistics.mean(DE_df.iloc[:, 0].dropna()))\n",
    "\n",
    "NO_df.dropna().boxplot()\n",
    "plt.title(\"Norway's Social Activities Relative to Age Group\")\n",
    "plt.show()\n",
    "print(\"Median: \", statistics.median(NO_df.iloc[:, 0].dropna()))\n",
    "print(\"Average: \", statistics.mean(NO_df.iloc[:, 0].dropna()))"
   ]
  },
  {
   "cell_type": "code",
   "execution_count": 57,
   "metadata": {},
   "outputs": [
    {
     "name": "stdout",
     "output_type": "stream",
     "text": [
      "Ttest_indResult(statistic=2.5071032885362734, pvalue=0.012228348905907594)\n",
      "Ttest_indResult(statistic=-0.24836237100629618, pvalue=0.8038868818116531)\n",
      "Ttest_indResult(statistic=-5.437603333556945, pvalue=5.836411312905429e-08)\n",
      "Ttest_indResult(statistic=-0.7444326939650638, pvalue=0.4567472498681746)\n",
      "Ttest_indResult(statistic=-7.874845421691988, pvalue=4.868694703114544e-15)\n",
      "Ttest_indResult(statistic=-0.8326042193227222, pvalue=0.4052020378662107)\n"
     ]
    }
   ],
   "source": [
    "print(stats.ttest_ind(CH_df.iloc[:, 0].dropna(), CZ_df.iloc[:, 0].dropna()))\n",
    "print(stats.ttest_ind(CH_df.iloc[:, 0].dropna(), DE_df.iloc[:, 0].dropna()))\n",
    "print(stats.ttest_ind(CH_df.iloc[:, 0].dropna(), NO_df.iloc[:, 0].dropna()))\n",
    "print(stats.ttest_ind(CZ_df.iloc[:, 0].dropna(), DE_df.iloc[:, 0].dropna()))\n",
    "print(stats.ttest_ind(CZ_df.iloc[:, 0].dropna(), NO_df.iloc[:, 0].dropna()))\n",
    "print(stats.ttest_ind(DE_df.iloc[:, 0].dropna(), NO_df.iloc[:, 0].dropna()))\n"
   ]
  },
  {
   "cell_type": "code",
   "execution_count": null,
   "metadata": {},
   "outputs": [],
   "source": []
  }
 ],
 "metadata": {
  "kernelspec": {
   "display_name": "Python 3",
   "language": "python",
   "name": "python3"
  },
  "language_info": {
   "codemirror_mode": {
    "name": "ipython",
    "version": 3
   },
   "file_extension": ".py",
   "mimetype": "text/x-python",
   "name": "python",
   "nbconvert_exporter": "python",
   "pygments_lexer": "ipython3",
   "version": "3.6.5"
  }
 },
 "nbformat": 4,
 "nbformat_minor": 2
}
