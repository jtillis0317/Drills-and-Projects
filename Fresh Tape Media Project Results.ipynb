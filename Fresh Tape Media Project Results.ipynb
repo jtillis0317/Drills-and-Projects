{
 "cells": [
  {
   "cell_type": "markdown",
   "metadata": {},
   "source": [
    "# Study to Improve Number of Engagements of Social Media Posts: Fresh Tape Media\n",
    "\n",
    "## Background\n",
    "\n",
    "Fresh Tape Media (FTM) is a company that creates made-for-social video content for sports business brands. Currently, they are “going with their gut” when it comes to the type of content that create for a client, in hopes that the video will get a lot of views/engagements. Ultimately, I will be answering the question *What type of content sentiment generates the most favorites/engagements on Twitter?*\n",
    "\n",
    "The value of the solution below is that FTM will be able to create content that results in the words in the hashtags/comments that correlate with the most viewership (and avoid words that negatively impact viewership). This will help drive their business because FTM will be able to make data-driven recommendations to their clients when determining the content sentiment of their material.\n"
   ]
  },
  {
   "cell_type": "markdown",
   "metadata": {},
   "source": [
    "#### import libraries\n",
    "#### twitter api credentials"
   ]
  },
  {
   "cell_type": "code",
   "execution_count": 2,
   "metadata": {},
   "outputs": [],
   "source": [
    "import pandas as pd\n",
    "import numpy as np\n",
    "import tweepy\n",
    "import twitter\n",
    "import time\n"
   ]
  },
  {
   "cell_type": "code",
   "execution_count": 161,
   "metadata": {},
   "outputs": [],
   "source": [
    "consumer_key = \"gLUMKRUMrvDmu2m1XEzGq1t4e\"\n",
    "consumer_secret = \"1N6idr96sfW1fIPYJmgcFQlWks4ZsjsvcEDbTx6S1k2qTsnlVI\"\n",
    "access_token = \"1090700974740500480-02NLG7LJYtBL5HkAbNbwAlZaVqjeSl\"\n",
    "access_token_secret = \"qPGV3GAvtSgHlIuPu8tdrqxWyRfG0JWcThg9y6qW6TjCs\""
   ]
  },
  {
   "cell_type": "markdown",
   "metadata": {},
   "source": [
    "### credentials/authorization for tweepy (standard API)"
   ]
  },
  {
   "cell_type": "code",
   "execution_count": 162,
   "metadata": {},
   "outputs": [],
   "source": [
    "auth = tweepy.OAuthHandler(consumer_key, consumer_secret)\n",
    "auth.set_access_token(access_token, access_token_secret)\n",
    "\n",
    "api = tweepy.API(auth)"
   ]
  },
  {
   "cell_type": "markdown",
   "metadata": {},
   "source": [
    "## Access to Data: \n",
    "\n",
    "Through FTM's admin access, I was able to pull a spreadsheet of all of the FTM content that was posted to Twitter (by different professional athletes, sports leagues, sports teams, and broadcasters) within the last seven days. For each post, the spreadsheet contained the url, the number of likes/favorites, the account that posted, the number of shares/re-tweets, and the number of comments.\n",
    "\n",
    "I used that spreadsheet to isolate the tweet ID from the URL, which I used to scrape the Standard Twitter API (which only has seven days of storage) to pull all of the replies to each tweet. From this, I had a spreadsheet of all of the replies to FTM Twitter content in the past seven days.\n",
    "\n",
    "I also wanted to bring in high-performing and low-performing (based on number of likes) content that was NOT produced by FTM. In order to do, I scraped the Twitter API for all tweets in the last seven days from the same accounts that posted FTM content. When doing so, I also scraped the number of followers each account had. Considering the number of followers was important so that I could normalize the predictive value. For example, if one account has 78,000 followers and another has 15,000,000 followers, one would assume that the latter account would always have significantly more likes than the former. Instead of seeking to predict the number of likes/favorites, I predicted the percentage of likes (simply, the ratio of likes to the number of followers for a given account). \n",
    "\n",
    "Once I had that spreadsheet of non-FTM tweets by the same accounts, I limited the number of tweets to the top-two and bottom-two performers and went back to the Twitter API to scrape replies - the same way that I scraped the FTM replies. \n",
    "\n",
    "Finally, I concatenated both dataframes and had one large dataframe of all of the replies to both FTM and non-FTM content posted on Twitter in the last seven days."
   ]
  },
  {
   "cell_type": "markdown",
   "metadata": {},
   "source": [
    "### loading FTM dataframe"
   ]
  },
  {
   "cell_type": "code",
   "execution_count": 27,
   "metadata": {},
   "outputs": [],
   "source": [
    "FTM_df1 = pd.read_excel(\"FTMTweets3.xlsx\")\n",
    "FTM_df2 = pd.read_excel(\"FTMTweets.xlsx\")\n",
    "FTM_df = pd.concat([FTM_df1, FTM_df2])"
   ]
  },
  {
   "cell_type": "code",
   "execution_count": 28,
   "metadata": {},
   "outputs": [
    {
     "data": {
      "text/html": [
       "<div>\n",
       "<style scoped>\n",
       "    .dataframe tbody tr th:only-of-type {\n",
       "        vertical-align: middle;\n",
       "    }\n",
       "\n",
       "    .dataframe tbody tr th {\n",
       "        vertical-align: top;\n",
       "    }\n",
       "\n",
       "    .dataframe thead th {\n",
       "        text-align: right;\n",
       "    }\n",
       "</style>\n",
       "<table border=\"1\" class=\"dataframe\">\n",
       "  <thead>\n",
       "    <tr style=\"text-align: right;\">\n",
       "      <th></th>\n",
       "      <th>ID</th>\n",
       "      <th>Network</th>\n",
       "      <th>URL</th>\n",
       "      <th>Account</th>\n",
       "      <th>Type</th>\n",
       "      <th>Views</th>\n",
       "      <th>Shares</th>\n",
       "      <th>Likes</th>\n",
       "      <th>Dislikes</th>\n",
       "      <th>Comments</th>\n",
       "      <th>Post date</th>\n",
       "      <th>Track date</th>\n",
       "      <th>Last updated</th>\n",
       "      <th>Post caption</th>\n",
       "      <th>Thumbnail</th>\n",
       "      <th>Event tag</th>\n",
       "      <th>Partner tag</th>\n",
       "      <th>Creator tag</th>\n",
       "      <th>Filetype tag</th>\n",
       "    </tr>\n",
       "  </thead>\n",
       "  <tbody>\n",
       "    <tr>\n",
       "      <th>0</th>\n",
       "      <td>2008</td>\n",
       "      <td>Twitter</td>\n",
       "      <td>/NikolaVucevic/status/1098235335132303362</td>\n",
       "      <td>NikolaVucevic</td>\n",
       "      <td>NaN</td>\n",
       "      <td>0</td>\n",
       "      <td>10</td>\n",
       "      <td>193</td>\n",
       "      <td>0</td>\n",
       "      <td>8</td>\n",
       "      <td>2019-02-20 14:58:02.004</td>\n",
       "      <td>2019-02-20 17:11:24.000</td>\n",
       "      <td>2019-02-21 01:06:36.000</td>\n",
       "      <td>🔥🔥🔥🔥 @nikebasketball https://t.co/CTgFISbgDy</td>\n",
       "      <td>NaN</td>\n",
       "      <td>NaN</td>\n",
       "      <td>NaN</td>\n",
       "      <td>NaN</td>\n",
       "      <td>NaN</td>\n",
       "    </tr>\n",
       "    <tr>\n",
       "      <th>1</th>\n",
       "      <td>1994</td>\n",
       "      <td>Instagram</td>\n",
       "      <td>/p/BuDEa2snJ8V/</td>\n",
       "      <td>marcelashoward</td>\n",
       "      <td>GIF</td>\n",
       "      <td>0</td>\n",
       "      <td>0</td>\n",
       "      <td>6889</td>\n",
       "      <td>0</td>\n",
       "      <td>11</td>\n",
       "      <td>2019-02-19 03:16:43.000</td>\n",
       "      <td>2019-02-20 02:00:22.003</td>\n",
       "      <td>2019-02-21 01:19:39.000</td>\n",
       "      <td>@NBA All Star Weekend Was One For The Books! T...</td>\n",
       "      <td>908d4b4efd.jpg</td>\n",
       "      <td>NaN</td>\n",
       "      <td>NaN</td>\n",
       "      <td>NaN</td>\n",
       "      <td>NaN</td>\n",
       "    </tr>\n",
       "    <tr>\n",
       "      <th>2</th>\n",
       "      <td>1892</td>\n",
       "      <td>Twitter</td>\n",
       "      <td>/NBAKicks/status/1097544211656790017</td>\n",
       "      <td>NBAKicks</td>\n",
       "      <td>Video</td>\n",
       "      <td>2277</td>\n",
       "      <td>10</td>\n",
       "      <td>87</td>\n",
       "      <td>0</td>\n",
       "      <td>3</td>\n",
       "      <td>2019-02-18 17:11:45.997</td>\n",
       "      <td>2019-02-18 20:17:40.004</td>\n",
       "      <td>2019-02-21 01:28:33.997</td>\n",
       "      <td>🏀🌟👟\\n\\n@JoelEmbiid x #NBAAllStar x #NBAKicks h...</td>\n",
       "      <td>114993e089.jpg</td>\n",
       "      <td>NaN</td>\n",
       "      <td>NaN</td>\n",
       "      <td>NaN</td>\n",
       "      <td>NaN</td>\n",
       "    </tr>\n",
       "    <tr>\n",
       "      <th>3</th>\n",
       "      <td>1902</td>\n",
       "      <td>Instagram</td>\n",
       "      <td>/p/BuB_G0tBEGl/</td>\n",
       "      <td>nbakicks</td>\n",
       "      <td>Video</td>\n",
       "      <td>9995</td>\n",
       "      <td>0</td>\n",
       "      <td>3603</td>\n",
       "      <td>0</td>\n",
       "      <td>21</td>\n",
       "      <td>2019-02-18 17:11:18.004</td>\n",
       "      <td>2019-02-19 18:11:24.996</td>\n",
       "      <td>2019-02-21 01:18:43.004</td>\n",
       "      <td>@joelembiid x #NBAAllStar x #NBAKicks</td>\n",
       "      <td>dd79c23cf7.jpg</td>\n",
       "      <td>NaN</td>\n",
       "      <td>NaN</td>\n",
       "      <td>NaN</td>\n",
       "      <td>NaN</td>\n",
       "    </tr>\n",
       "    <tr>\n",
       "      <th>4</th>\n",
       "      <td>1903</td>\n",
       "      <td>Instagram</td>\n",
       "      <td>/p/BuB9pPtBT56/</td>\n",
       "      <td>nbakicks</td>\n",
       "      <td>Video</td>\n",
       "      <td>7033</td>\n",
       "      <td>0</td>\n",
       "      <td>2824</td>\n",
       "      <td>0</td>\n",
       "      <td>7</td>\n",
       "      <td>2019-02-18 16:58:42.997</td>\n",
       "      <td>2019-02-19 18:11:32.997</td>\n",
       "      <td>2019-02-21 01:17:45.004</td>\n",
       "      <td>#NikolaJokic x #NBAAllStar x #NBAKicks</td>\n",
       "      <td>a392e1ddb0.jpg</td>\n",
       "      <td>NaN</td>\n",
       "      <td>NaN</td>\n",
       "      <td>NaN</td>\n",
       "      <td>NaN</td>\n",
       "    </tr>\n",
       "  </tbody>\n",
       "</table>\n",
       "</div>"
      ],
      "text/plain": [
       "     ID    Network                                        URL         Account  \\\n",
       "0  2008    Twitter  /NikolaVucevic/status/1098235335132303362   NikolaVucevic   \n",
       "1  1994  Instagram                            /p/BuDEa2snJ8V/  marcelashoward   \n",
       "2  1892    Twitter       /NBAKicks/status/1097544211656790017        NBAKicks   \n",
       "3  1902  Instagram                            /p/BuB_G0tBEGl/        nbakicks   \n",
       "4  1903  Instagram                            /p/BuB9pPtBT56/        nbakicks   \n",
       "\n",
       "    Type  Views  Shares  Likes  Dislikes  Comments               Post date  \\\n",
       "0    NaN      0      10    193         0         8 2019-02-20 14:58:02.004   \n",
       "1    GIF      0       0   6889         0        11 2019-02-19 03:16:43.000   \n",
       "2  Video   2277      10     87         0         3 2019-02-18 17:11:45.997   \n",
       "3  Video   9995       0   3603         0        21 2019-02-18 17:11:18.004   \n",
       "4  Video   7033       0   2824         0         7 2019-02-18 16:58:42.997   \n",
       "\n",
       "               Track date            Last updated  \\\n",
       "0 2019-02-20 17:11:24.000 2019-02-21 01:06:36.000   \n",
       "1 2019-02-20 02:00:22.003 2019-02-21 01:19:39.000   \n",
       "2 2019-02-18 20:17:40.004 2019-02-21 01:28:33.997   \n",
       "3 2019-02-19 18:11:24.996 2019-02-21 01:18:43.004   \n",
       "4 2019-02-19 18:11:32.997 2019-02-21 01:17:45.004   \n",
       "\n",
       "                                        Post caption       Thumbnail  \\\n",
       "0       🔥🔥🔥🔥 @nikebasketball https://t.co/CTgFISbgDy             NaN   \n",
       "1  @NBA All Star Weekend Was One For The Books! T...  908d4b4efd.jpg   \n",
       "2  🏀🌟👟\\n\\n@JoelEmbiid x #NBAAllStar x #NBAKicks h...  114993e089.jpg   \n",
       "3              @joelembiid x #NBAAllStar x #NBAKicks  dd79c23cf7.jpg   \n",
       "4             #NikolaJokic x #NBAAllStar x #NBAKicks  a392e1ddb0.jpg   \n",
       "\n",
       "   Event tag  Partner tag  Creator tag  Filetype tag  \n",
       "0        NaN          NaN          NaN           NaN  \n",
       "1        NaN          NaN          NaN           NaN  \n",
       "2        NaN          NaN          NaN           NaN  \n",
       "3        NaN          NaN          NaN           NaN  \n",
       "4        NaN          NaN          NaN           NaN  "
      ]
     },
     "execution_count": 28,
     "metadata": {},
     "output_type": "execute_result"
    }
   ],
   "source": [
    "FTM_df.head()"
   ]
  },
  {
   "cell_type": "code",
   "execution_count": 29,
   "metadata": {},
   "outputs": [
    {
     "data": {
      "text/plain": [
       "(318, 19)"
      ]
     },
     "execution_count": 29,
     "metadata": {},
     "output_type": "execute_result"
    }
   ],
   "source": [
    "FTM_df.shape"
   ]
  },
  {
   "cell_type": "code",
   "execution_count": 30,
   "metadata": {
    "scrolled": true
   },
   "outputs": [],
   "source": [
    "FTM_df = FTM_df[FTM_df[\"Network\"] == \"Twitter\"]"
   ]
  },
  {
   "cell_type": "code",
   "execution_count": 31,
   "metadata": {},
   "outputs": [
    {
     "data": {
      "text/plain": [
       "(107, 19)"
      ]
     },
     "execution_count": 31,
     "metadata": {},
     "output_type": "execute_result"
    }
   ],
   "source": [
    "FTM_df.shape"
   ]
  },
  {
   "cell_type": "code",
   "execution_count": 32,
   "metadata": {},
   "outputs": [],
   "source": [
    "def strip_ID(url):       \n",
    "    return url[-19:]"
   ]
  },
  {
   "cell_type": "code",
   "execution_count": 33,
   "metadata": {},
   "outputs": [],
   "source": [
    "FTM_df[\"Tweet_ID\"] = FTM_df[\"URL\"].apply(strip_ID)"
   ]
  },
  {
   "cell_type": "code",
   "execution_count": 34,
   "metadata": {},
   "outputs": [],
   "source": [
    "Followersdf = pd.read_csv(\"Twitter_Followers - Sheet1.csv\")"
   ]
  },
  {
   "cell_type": "code",
   "execution_count": 35,
   "metadata": {},
   "outputs": [
    {
     "data": {
      "text/html": [
       "<div>\n",
       "<style scoped>\n",
       "    .dataframe tbody tr th:only-of-type {\n",
       "        vertical-align: middle;\n",
       "    }\n",
       "\n",
       "    .dataframe tbody tr th {\n",
       "        vertical-align: top;\n",
       "    }\n",
       "\n",
       "    .dataframe thead th {\n",
       "        text-align: right;\n",
       "    }\n",
       "</style>\n",
       "<table border=\"1\" class=\"dataframe\">\n",
       "  <thead>\n",
       "    <tr style=\"text-align: right;\">\n",
       "      <th></th>\n",
       "      <th>Account</th>\n",
       "      <th>Followers</th>\n",
       "      <th>Sports League</th>\n",
       "    </tr>\n",
       "  </thead>\n",
       "  <tbody>\n",
       "    <tr>\n",
       "      <th>0</th>\n",
       "      <td>NikolaVucevic</td>\n",
       "      <td>72400</td>\n",
       "      <td>NBA</td>\n",
       "    </tr>\n",
       "    <tr>\n",
       "      <th>1</th>\n",
       "      <td>NBAKicks</td>\n",
       "      <td>17800</td>\n",
       "      <td>NBA</td>\n",
       "    </tr>\n",
       "    <tr>\n",
       "      <th>2</th>\n",
       "      <td>nascar</td>\n",
       "      <td>3320000</td>\n",
       "      <td>Nascar</td>\n",
       "    </tr>\n",
       "    <tr>\n",
       "      <th>3</th>\n",
       "      <td>twittersports</td>\n",
       "      <td>15300000</td>\n",
       "      <td>All</td>\n",
       "    </tr>\n",
       "    <tr>\n",
       "      <th>4</th>\n",
       "      <td>nuggets</td>\n",
       "      <td>852000</td>\n",
       "      <td>NBA</td>\n",
       "    </tr>\n",
       "  </tbody>\n",
       "</table>\n",
       "</div>"
      ],
      "text/plain": [
       "         Account  Followers Sports League\n",
       "0  NikolaVucevic      72400           NBA\n",
       "1       NBAKicks      17800           NBA\n",
       "2         nascar    3320000        Nascar\n",
       "3  twittersports   15300000           All\n",
       "4        nuggets     852000           NBA"
      ]
     },
     "execution_count": 35,
     "metadata": {},
     "output_type": "execute_result"
    }
   ],
   "source": [
    "Followersdf.head()"
   ]
  },
  {
   "cell_type": "code",
   "execution_count": 36,
   "metadata": {},
   "outputs": [],
   "source": [
    "FTM_df[\"Account\"] = FTM_df[\"Account\"].str.lower()"
   ]
  },
  {
   "cell_type": "code",
   "execution_count": 37,
   "metadata": {},
   "outputs": [],
   "source": [
    "Followersdf[\"Account\"] = Followersdf[\"Account\"].str.lower()"
   ]
  },
  {
   "cell_type": "code",
   "execution_count": 38,
   "metadata": {},
   "outputs": [
    {
     "data": {
      "text/html": [
       "<div>\n",
       "<style scoped>\n",
       "    .dataframe tbody tr th:only-of-type {\n",
       "        vertical-align: middle;\n",
       "    }\n",
       "\n",
       "    .dataframe tbody tr th {\n",
       "        vertical-align: top;\n",
       "    }\n",
       "\n",
       "    .dataframe thead th {\n",
       "        text-align: right;\n",
       "    }\n",
       "</style>\n",
       "<table border=\"1\" class=\"dataframe\">\n",
       "  <thead>\n",
       "    <tr style=\"text-align: right;\">\n",
       "      <th></th>\n",
       "      <th>ID</th>\n",
       "      <th>Network</th>\n",
       "      <th>URL</th>\n",
       "      <th>Account</th>\n",
       "      <th>Type</th>\n",
       "      <th>Views</th>\n",
       "      <th>Shares</th>\n",
       "      <th>Likes</th>\n",
       "      <th>Dislikes</th>\n",
       "      <th>Comments</th>\n",
       "      <th>Post date</th>\n",
       "      <th>Track date</th>\n",
       "      <th>Last updated</th>\n",
       "      <th>Post caption</th>\n",
       "      <th>Thumbnail</th>\n",
       "      <th>Event tag</th>\n",
       "      <th>Partner tag</th>\n",
       "      <th>Creator tag</th>\n",
       "      <th>Filetype tag</th>\n",
       "      <th>Tweet_ID</th>\n",
       "    </tr>\n",
       "  </thead>\n",
       "  <tbody>\n",
       "    <tr>\n",
       "      <th>0</th>\n",
       "      <td>2008</td>\n",
       "      <td>Twitter</td>\n",
       "      <td>/NikolaVucevic/status/1098235335132303362</td>\n",
       "      <td>nikolavucevic</td>\n",
       "      <td>NaN</td>\n",
       "      <td>0</td>\n",
       "      <td>10</td>\n",
       "      <td>193</td>\n",
       "      <td>0</td>\n",
       "      <td>8</td>\n",
       "      <td>2019-02-20 14:58:02.004</td>\n",
       "      <td>2019-02-20 17:11:24.000</td>\n",
       "      <td>2019-02-21 01:06:36.000</td>\n",
       "      <td>🔥🔥🔥🔥 @nikebasketball https://t.co/CTgFISbgDy</td>\n",
       "      <td>NaN</td>\n",
       "      <td>NaN</td>\n",
       "      <td>NaN</td>\n",
       "      <td>NaN</td>\n",
       "      <td>NaN</td>\n",
       "      <td>1098235335132303362</td>\n",
       "    </tr>\n",
       "    <tr>\n",
       "      <th>2</th>\n",
       "      <td>1892</td>\n",
       "      <td>Twitter</td>\n",
       "      <td>/NBAKicks/status/1097544211656790017</td>\n",
       "      <td>nbakicks</td>\n",
       "      <td>Video</td>\n",
       "      <td>2277</td>\n",
       "      <td>10</td>\n",
       "      <td>87</td>\n",
       "      <td>0</td>\n",
       "      <td>3</td>\n",
       "      <td>2019-02-18 17:11:45.997</td>\n",
       "      <td>2019-02-18 20:17:40.004</td>\n",
       "      <td>2019-02-21 01:28:33.997</td>\n",
       "      <td>🏀🌟👟\\n\\n@JoelEmbiid x #NBAAllStar x #NBAKicks h...</td>\n",
       "      <td>114993e089.jpg</td>\n",
       "      <td>NaN</td>\n",
       "      <td>NaN</td>\n",
       "      <td>NaN</td>\n",
       "      <td>NaN</td>\n",
       "      <td>1097544211656790017</td>\n",
       "    </tr>\n",
       "    <tr>\n",
       "      <th>5</th>\n",
       "      <td>1891</td>\n",
       "      <td>Twitter</td>\n",
       "      <td>/nbakicks/status/1097537733155786753</td>\n",
       "      <td>nbakicks</td>\n",
       "      <td>Video</td>\n",
       "      <td>60777</td>\n",
       "      <td>164</td>\n",
       "      <td>1582</td>\n",
       "      <td>0</td>\n",
       "      <td>21</td>\n",
       "      <td>2019-02-18 16:46:01.001</td>\n",
       "      <td>2019-02-18 17:16:49.002</td>\n",
       "      <td>2019-02-21 01:00:08.004</td>\n",
       "      <td>🏀🌟👟\\n\\n@KDTrey5 x #NBAAllStar x #NBAKicks http...</td>\n",
       "      <td>56a2cee4b9.jpg</td>\n",
       "      <td>NaN</td>\n",
       "      <td>NaN</td>\n",
       "      <td>NaN</td>\n",
       "      <td>NaN</td>\n",
       "      <td>1097537733155786753</td>\n",
       "    </tr>\n",
       "    <tr>\n",
       "      <th>8</th>\n",
       "      <td>1896</td>\n",
       "      <td>Twitter</td>\n",
       "      <td>/NBAKicks/status/1097532955533160448</td>\n",
       "      <td>nbakicks</td>\n",
       "      <td>Video</td>\n",
       "      <td>29546</td>\n",
       "      <td>95</td>\n",
       "      <td>916</td>\n",
       "      <td>0</td>\n",
       "      <td>7</td>\n",
       "      <td>2019-02-18 16:27:01.999</td>\n",
       "      <td>2019-02-18 20:18:25.001</td>\n",
       "      <td>2019-02-21 01:24:30.004</td>\n",
       "      <td>🏀🌟👟\\n\\n@stephencurry30 x #NBAAllStar x #NBAKic...</td>\n",
       "      <td>6f23431157.jpg</td>\n",
       "      <td>NaN</td>\n",
       "      <td>NaN</td>\n",
       "      <td>NaN</td>\n",
       "      <td>NaN</td>\n",
       "      <td>1097532955533160448</td>\n",
       "    </tr>\n",
       "    <tr>\n",
       "      <th>11</th>\n",
       "      <td>1898</td>\n",
       "      <td>Twitter</td>\n",
       "      <td>/NBAKicks/status/1097527079569108992</td>\n",
       "      <td>nbakicks</td>\n",
       "      <td>Video</td>\n",
       "      <td>4954</td>\n",
       "      <td>9</td>\n",
       "      <td>67</td>\n",
       "      <td>0</td>\n",
       "      <td>3</td>\n",
       "      <td>2019-02-18 16:03:40.997</td>\n",
       "      <td>2019-02-18 20:18:41.003</td>\n",
       "      <td>2019-02-21 01:22:30.003</td>\n",
       "      <td>🏀🌟👟\\n\\n@NikolaVucevic x #NBAAllStar x #NBAKick...</td>\n",
       "      <td>fe6ee111a6.jpg</td>\n",
       "      <td>NaN</td>\n",
       "      <td>NaN</td>\n",
       "      <td>NaN</td>\n",
       "      <td>NaN</td>\n",
       "      <td>1097527079569108992</td>\n",
       "    </tr>\n",
       "  </tbody>\n",
       "</table>\n",
       "</div>"
      ],
      "text/plain": [
       "      ID  Network                                        URL        Account  \\\n",
       "0   2008  Twitter  /NikolaVucevic/status/1098235335132303362  nikolavucevic   \n",
       "2   1892  Twitter       /NBAKicks/status/1097544211656790017       nbakicks   \n",
       "5   1891  Twitter       /nbakicks/status/1097537733155786753       nbakicks   \n",
       "8   1896  Twitter       /NBAKicks/status/1097532955533160448       nbakicks   \n",
       "11  1898  Twitter       /NBAKicks/status/1097527079569108992       nbakicks   \n",
       "\n",
       "     Type  Views  Shares  Likes  Dislikes  Comments               Post date  \\\n",
       "0     NaN      0      10    193         0         8 2019-02-20 14:58:02.004   \n",
       "2   Video   2277      10     87         0         3 2019-02-18 17:11:45.997   \n",
       "5   Video  60777     164   1582         0        21 2019-02-18 16:46:01.001   \n",
       "8   Video  29546      95    916         0         7 2019-02-18 16:27:01.999   \n",
       "11  Video   4954       9     67         0         3 2019-02-18 16:03:40.997   \n",
       "\n",
       "                Track date            Last updated  \\\n",
       "0  2019-02-20 17:11:24.000 2019-02-21 01:06:36.000   \n",
       "2  2019-02-18 20:17:40.004 2019-02-21 01:28:33.997   \n",
       "5  2019-02-18 17:16:49.002 2019-02-21 01:00:08.004   \n",
       "8  2019-02-18 20:18:25.001 2019-02-21 01:24:30.004   \n",
       "11 2019-02-18 20:18:41.003 2019-02-21 01:22:30.003   \n",
       "\n",
       "                                         Post caption       Thumbnail  \\\n",
       "0        🔥🔥🔥🔥 @nikebasketball https://t.co/CTgFISbgDy             NaN   \n",
       "2   🏀🌟👟\\n\\n@JoelEmbiid x #NBAAllStar x #NBAKicks h...  114993e089.jpg   \n",
       "5   🏀🌟👟\\n\\n@KDTrey5 x #NBAAllStar x #NBAKicks http...  56a2cee4b9.jpg   \n",
       "8   🏀🌟👟\\n\\n@stephencurry30 x #NBAAllStar x #NBAKic...  6f23431157.jpg   \n",
       "11  🏀🌟👟\\n\\n@NikolaVucevic x #NBAAllStar x #NBAKick...  fe6ee111a6.jpg   \n",
       "\n",
       "    Event tag  Partner tag  Creator tag  Filetype tag             Tweet_ID  \n",
       "0         NaN          NaN          NaN           NaN  1098235335132303362  \n",
       "2         NaN          NaN          NaN           NaN  1097544211656790017  \n",
       "5         NaN          NaN          NaN           NaN  1097537733155786753  \n",
       "8         NaN          NaN          NaN           NaN  1097532955533160448  \n",
       "11        NaN          NaN          NaN           NaN  1097527079569108992  "
      ]
     },
     "execution_count": 38,
     "metadata": {},
     "output_type": "execute_result"
    }
   ],
   "source": [
    "FTM_df.head()"
   ]
  },
  {
   "cell_type": "code",
   "execution_count": 39,
   "metadata": {},
   "outputs": [],
   "source": [
    "follower_list = []\n",
    "\n",
    "for i in range(FTM_df.shape[0]):\n",
    "    account = FTM_df[\"Account\"].iloc[i]\n",
    "    n = np.where(Followersdf[\"Account\"] == account)\n",
    "    follower_list.append(Followersdf.iloc[int(n[0]), 1])\n",
    "    \n",
    "    "
   ]
  },
  {
   "cell_type": "code",
   "execution_count": 40,
   "metadata": {},
   "outputs": [],
   "source": [
    "FTM_df[\"Followers_Count\"] = follower_list"
   ]
  },
  {
   "cell_type": "code",
   "execution_count": 41,
   "metadata": {},
   "outputs": [],
   "source": [
    "accounts = list(FTM_df[\"Account\"].unique())"
   ]
  },
  {
   "cell_type": "code",
   "execution_count": 42,
   "metadata": {},
   "outputs": [],
   "source": [
    "FTM_df[\"Percent_Likes\"] = FTM_df[\"Likes\"] / FTM_df[\"Followers_Count\"]"
   ]
  },
  {
   "cell_type": "code",
   "execution_count": 43,
   "metadata": {},
   "outputs": [],
   "source": [
    "FTM_df = FTM_df[[\"Account\", \"Likes\", \"Tweet_ID\", \"Followers_Count\", \"Percent_Likes\"]]"
   ]
  },
  {
   "cell_type": "code",
   "execution_count": 44,
   "metadata": {},
   "outputs": [],
   "source": [
    "FTM_df[\"FTM?\"] = \"Yes\""
   ]
  },
  {
   "cell_type": "code",
   "execution_count": 45,
   "metadata": {},
   "outputs": [],
   "source": [
    "FTM_df.to_excel(\"FTMTweets2.26.xlsx\")"
   ]
  },
  {
   "cell_type": "markdown",
   "metadata": {},
   "source": [
    "### Using Twitter API to Scrape Replies for Each Tweet"
   ]
  },
  {
   "cell_type": "code",
   "execution_count": 89,
   "metadata": {},
   "outputs": [
    {
     "name": "stdout",
     "output_type": "stream",
     "text": [
      "Processed Tweet  0\n",
      "Processed Tweet  1\n",
      "Processed Tweet  2\n",
      "Processed Tweet  3\n",
      "Processed Tweet  4\n",
      "Processed Tweet  5\n",
      "Processed Tweet  6\n",
      "Processed Tweet  7\n",
      "Processed Tweet  8\n",
      "Processed Tweet  9\n",
      "Processed Tweet  10\n",
      "Processed Tweet  11\n",
      "Processed Tweet  12\n",
      "Processed Tweet  13\n",
      "Processed Tweet  14\n",
      "Processed Tweet  15\n",
      "Processed Tweet  16\n",
      "Processed Tweet  17\n",
      "Processed Tweet  18\n",
      "Processed Tweet  19\n",
      "Processed Tweet  20\n",
      "Processed Tweet  21\n",
      "Processed Tweet  22\n",
      "Processed Tweet  23\n",
      "Processed Tweet  24\n",
      "Processed Tweet  25\n",
      "Processed Tweet  26\n",
      "Processed Tweet  27\n",
      "Processed Tweet  28\n",
      "Processed Tweet  29\n",
      "Processed Tweet  30\n",
      "Processed Tweet  31\n",
      "Processed Tweet  32\n",
      "Processed Tweet  33\n",
      "Processed Tweet  34\n",
      "Processed Tweet  35\n",
      "Processed Tweet  36\n",
      "Processed Tweet  37\n",
      "Processed Tweet  38\n",
      "Processed Tweet  39\n",
      "Processed Tweet  40\n",
      "Processed Tweet  41\n",
      "Processed Tweet  42\n",
      "Processed Tweet  43\n",
      "Processed Tweet  44\n",
      "Processed Tweet  45\n",
      "Processed Tweet  46\n",
      "Processed Tweet  47\n",
      "Processed Tweet  48\n",
      "Processed Tweet  49\n",
      "Processed Tweet  50\n",
      "Processed Tweet  51\n",
      "Processed Tweet  52\n",
      "Processed Tweet  53\n"
     ]
    }
   ],
   "source": [
    "replies = []\n",
    "\n",
    "\n",
    "for i in range(FTM_df.shape[0]):\n",
    "    for tweet in tweepy.Cursor(api.search, q=\"to:\" + FTM_df[\"Account\"].iloc[i], since_id=FTM_df[\"Tweet_ID\"].iloc[i], max_id=int(FTM_df[\"Tweet_ID\"].iloc[i]) + 200000000000000, timeout=999999).items(2000):\n",
    "        if tweet.in_reply_to_status_id_str == FTM_df[\"Tweet_ID\"].iloc[i]:\n",
    "            replies.append((tweet.text, tweet.in_reply_to_status_id_str))\n",
    "    print(\"Processed Tweet \", i)\n",
    "    time.sleep(900)\n",
    "            "
   ]
  },
  {
   "cell_type": "code",
   "execution_count": 91,
   "metadata": {},
   "outputs": [
    {
     "data": {
      "text/plain": [
       "471"
      ]
     },
     "execution_count": 91,
     "metadata": {},
     "output_type": "execute_result"
    }
   ],
   "source": [
    "len(replies)"
   ]
  },
  {
   "cell_type": "code",
   "execution_count": 92,
   "metadata": {},
   "outputs": [],
   "source": [
    "repliesdf = pd.DataFrame(replies, columns=[\"Reply\", \"To_Tweet_ID\"])"
   ]
  },
  {
   "cell_type": "code",
   "execution_count": 93,
   "metadata": {},
   "outputs": [
    {
     "data": {
      "text/plain": [
       "(471, 2)"
      ]
     },
     "execution_count": 93,
     "metadata": {},
     "output_type": "execute_result"
    }
   ],
   "source": [
    "repliesdf.shape"
   ]
  },
  {
   "cell_type": "code",
   "execution_count": 94,
   "metadata": {},
   "outputs": [
    {
     "data": {
      "text/html": [
       "<div>\n",
       "<style scoped>\n",
       "    .dataframe tbody tr th:only-of-type {\n",
       "        vertical-align: middle;\n",
       "    }\n",
       "\n",
       "    .dataframe tbody tr th {\n",
       "        vertical-align: top;\n",
       "    }\n",
       "\n",
       "    .dataframe thead th {\n",
       "        text-align: right;\n",
       "    }\n",
       "</style>\n",
       "<table border=\"1\" class=\"dataframe\">\n",
       "  <thead>\n",
       "    <tr style=\"text-align: right;\">\n",
       "      <th></th>\n",
       "      <th>Reply</th>\n",
       "      <th>To_Tweet_ID</th>\n",
       "    </tr>\n",
       "  </thead>\n",
       "  <tbody>\n",
       "    <tr>\n",
       "      <th>0</th>\n",
       "      <td>@NikolaVucevic @nikebasketball DRIPPY</td>\n",
       "      <td>1098235335132303362</td>\n",
       "    </tr>\n",
       "    <tr>\n",
       "      <th>1</th>\n",
       "      <td>@NikolaVucevic @nikebasketball Damn those are ...</td>\n",
       "      <td>1098235335132303362</td>\n",
       "    </tr>\n",
       "    <tr>\n",
       "      <th>2</th>\n",
       "      <td>@NikolaVucevic @nikebasketball Ils font les mê...</td>\n",
       "      <td>1098235335132303362</td>\n",
       "    </tr>\n",
       "    <tr>\n",
       "      <th>3</th>\n",
       "      <td>@NikolaVucevic @nikebasketball Offre moi les c...</td>\n",
       "      <td>1098235335132303362</td>\n",
       "    </tr>\n",
       "    <tr>\n",
       "      <th>4</th>\n",
       "      <td>@NikolaVucevic @nikebasketball Sta je to brate?</td>\n",
       "      <td>1098235335132303362</td>\n",
       "    </tr>\n",
       "  </tbody>\n",
       "</table>\n",
       "</div>"
      ],
      "text/plain": [
       "                                               Reply          To_Tweet_ID\n",
       "0              @NikolaVucevic @nikebasketball DRIPPY  1098235335132303362\n",
       "1  @NikolaVucevic @nikebasketball Damn those are ...  1098235335132303362\n",
       "2  @NikolaVucevic @nikebasketball Ils font les mê...  1098235335132303362\n",
       "3  @NikolaVucevic @nikebasketball Offre moi les c...  1098235335132303362\n",
       "4    @NikolaVucevic @nikebasketball Sta je to brate?  1098235335132303362"
      ]
     },
     "execution_count": 94,
     "metadata": {},
     "output_type": "execute_result"
    }
   ],
   "source": [
    "repliesdf.head()"
   ]
  },
  {
   "cell_type": "code",
   "execution_count": 95,
   "metadata": {},
   "outputs": [
    {
     "data": {
      "text/plain": [
       "47"
      ]
     },
     "execution_count": 95,
     "metadata": {},
     "output_type": "execute_result"
    }
   ],
   "source": [
    "len(repliesdf[\"To_Tweet_ID\"].unique())"
   ]
  },
  {
   "cell_type": "code",
   "execution_count": 96,
   "metadata": {},
   "outputs": [],
   "source": [
    "repliesdf.to_excel(\"Tweet_Replies_2.xlsx\")"
   ]
  },
  {
   "cell_type": "code",
   "execution_count": 3,
   "metadata": {},
   "outputs": [],
   "source": [
    "repliesdf = pd.read_excel(\"Tweet_Replies_2.xlsx\")"
   ]
  },
  {
   "cell_type": "code",
   "execution_count": 4,
   "metadata": {},
   "outputs": [
    {
     "data": {
      "text/html": [
       "<div>\n",
       "<style scoped>\n",
       "    .dataframe tbody tr th:only-of-type {\n",
       "        vertical-align: middle;\n",
       "    }\n",
       "\n",
       "    .dataframe tbody tr th {\n",
       "        vertical-align: top;\n",
       "    }\n",
       "\n",
       "    .dataframe thead th {\n",
       "        text-align: right;\n",
       "    }\n",
       "</style>\n",
       "<table border=\"1\" class=\"dataframe\">\n",
       "  <thead>\n",
       "    <tr style=\"text-align: right;\">\n",
       "      <th></th>\n",
       "      <th>Reply</th>\n",
       "      <th>To_Tweet_ID</th>\n",
       "    </tr>\n",
       "  </thead>\n",
       "  <tbody>\n",
       "    <tr>\n",
       "      <th>0</th>\n",
       "      <td>@NikolaVucevic @nikebasketball DRIPPY</td>\n",
       "      <td>1098235335132303362</td>\n",
       "    </tr>\n",
       "    <tr>\n",
       "      <th>1</th>\n",
       "      <td>@NikolaVucevic @nikebasketball Damn those are ...</td>\n",
       "      <td>1098235335132303362</td>\n",
       "    </tr>\n",
       "    <tr>\n",
       "      <th>2</th>\n",
       "      <td>@NikolaVucevic @nikebasketball Ils font les mê...</td>\n",
       "      <td>1098235335132303362</td>\n",
       "    </tr>\n",
       "    <tr>\n",
       "      <th>3</th>\n",
       "      <td>@NikolaVucevic @nikebasketball Offre moi les c...</td>\n",
       "      <td>1098235335132303362</td>\n",
       "    </tr>\n",
       "    <tr>\n",
       "      <th>4</th>\n",
       "      <td>@NikolaVucevic @nikebasketball Sta je to brate?</td>\n",
       "      <td>1098235335132303362</td>\n",
       "    </tr>\n",
       "  </tbody>\n",
       "</table>\n",
       "</div>"
      ],
      "text/plain": [
       "                                               Reply          To_Tweet_ID\n",
       "0              @NikolaVucevic @nikebasketball DRIPPY  1098235335132303362\n",
       "1  @NikolaVucevic @nikebasketball Damn those are ...  1098235335132303362\n",
       "2  @NikolaVucevic @nikebasketball Ils font les mê...  1098235335132303362\n",
       "3  @NikolaVucevic @nikebasketball Offre moi les c...  1098235335132303362\n",
       "4    @NikolaVucevic @nikebasketball Sta je to brate?  1098235335132303362"
      ]
     },
     "execution_count": 4,
     "metadata": {},
     "output_type": "execute_result"
    }
   ],
   "source": [
    "repliesdf.head()"
   ]
  },
  {
   "cell_type": "code",
   "execution_count": 5,
   "metadata": {},
   "outputs": [
    {
     "name": "stdout",
     "output_type": "stream",
     "text": [
      "(471, 2)\n"
     ]
    },
    {
     "data": {
      "text/plain": [
       "Reply          object\n",
       "To_Tweet_ID     int64\n",
       "dtype: object"
      ]
     },
     "execution_count": 5,
     "metadata": {},
     "output_type": "execute_result"
    }
   ],
   "source": [
    "print(repliesdf.shape)\n",
    "repliesdf.dtypes"
   ]
  },
  {
   "cell_type": "code",
   "execution_count": 8,
   "metadata": {},
   "outputs": [],
   "source": [
    "repliesdf[\"To_Tweet_ID\"] = repliesdf[\"To_Tweet_ID\"].astype(str)"
   ]
  },
  {
   "cell_type": "code",
   "execution_count": 9,
   "metadata": {
    "scrolled": true
   },
   "outputs": [
    {
     "data": {
      "text/plain": [
       "Reply          object\n",
       "To_Tweet_ID    object\n",
       "dtype: object"
      ]
     },
     "execution_count": 9,
     "metadata": {},
     "output_type": "execute_result"
    }
   ],
   "source": [
    "repliesdf.dtypes"
   ]
  },
  {
   "cell_type": "markdown",
   "metadata": {},
   "source": [
    "### Using Twitter API to pull non-FTM posts based on likecount"
   ]
  },
  {
   "cell_type": "code",
   "execution_count": 163,
   "metadata": {},
   "outputs": [
    {
     "name": "stdout",
     "output_type": "stream",
     "text": [
      "Processed Account: nikolavucevic\n",
      "Processed Account: nbakicks\n",
      "Processed Account: nascar\n",
      "Processed Account: nuggets\n",
      "Processed Account: twittersports\n",
      "Processed Account: rcrracing\n",
      "Processed Account: nascar_xfinity\n",
      "Processed Account: teamhendrick\n",
      "Processed Account: atlhawks\n",
      "Processed Account: wnba\n",
      "Processed Account: chiney321\n",
      "Processed Account: cavs\n"
     ]
    }
   ],
   "source": [
    "other_tweets = []\n",
    "\n",
    "\n",
    "\n",
    "for account in accounts:\n",
    "    for tweet in tweepy.Cursor(api.user_timeline, screen_name=account, timeout=999999).items(20):\n",
    "        if tweet.in_reply_to_user_id == None:\n",
    "            other_tweets.append((tweet.user.screen_name, tweet.user.followers_count, tweet.id_str, tweet.text, tweet.favorite_count))\n",
    "    print(\"Processed Account:\", account)\n",
    "\n",
    "            \n",
    "            "
   ]
  },
  {
   "cell_type": "code",
   "execution_count": 164,
   "metadata": {
    "scrolled": true
   },
   "outputs": [
    {
     "data": {
      "text/plain": [
       "210"
      ]
     },
     "execution_count": 164,
     "metadata": {},
     "output_type": "execute_result"
    }
   ],
   "source": [
    "len(other_tweets)"
   ]
  },
  {
   "cell_type": "code",
   "execution_count": 165,
   "metadata": {},
   "outputs": [],
   "source": [
    "dfother_tweets = pd.DataFrame(other_tweets, columns=[\"Account\", \"Followers_Count\", \"Tweet_ID\", \"Tweet_Text\", \"Tweet_Likes\"])"
   ]
  },
  {
   "cell_type": "code",
   "execution_count": 166,
   "metadata": {},
   "outputs": [
    {
     "data": {
      "text/html": [
       "<div>\n",
       "<style scoped>\n",
       "    .dataframe tbody tr th:only-of-type {\n",
       "        vertical-align: middle;\n",
       "    }\n",
       "\n",
       "    .dataframe tbody tr th {\n",
       "        vertical-align: top;\n",
       "    }\n",
       "\n",
       "    .dataframe thead th {\n",
       "        text-align: right;\n",
       "    }\n",
       "</style>\n",
       "<table border=\"1\" class=\"dataframe\">\n",
       "  <thead>\n",
       "    <tr style=\"text-align: right;\">\n",
       "      <th></th>\n",
       "      <th>Account</th>\n",
       "      <th>Followers_Count</th>\n",
       "      <th>Tweet_ID</th>\n",
       "      <th>Tweet_Text</th>\n",
       "      <th>Tweet_Likes</th>\n",
       "    </tr>\n",
       "  </thead>\n",
       "  <tbody>\n",
       "    <tr>\n",
       "      <th>0</th>\n",
       "      <td>NikolaVucevic</td>\n",
       "      <td>73031</td>\n",
       "      <td>1100159288553758721</td>\n",
       "      <td>Bravo momci! Ogroman je ovo uspjeh za reprezen...</td>\n",
       "      <td>324</td>\n",
       "    </tr>\n",
       "    <tr>\n",
       "      <th>1</th>\n",
       "      <td>NikolaVucevic</td>\n",
       "      <td>73031</td>\n",
       "      <td>1098375642771529728</td>\n",
       "      <td>Welcome to Orlando @luisnani!</td>\n",
       "      <td>1043</td>\n",
       "    </tr>\n",
       "    <tr>\n",
       "      <th>2</th>\n",
       "      <td>NikolaVucevic</td>\n",
       "      <td>73031</td>\n",
       "      <td>1098271215477800960</td>\n",
       "      <td>We are ready for #AtletiJuve 😊! @juventusfcen ...</td>\n",
       "      <td>7930</td>\n",
       "    </tr>\n",
       "    <tr>\n",
       "      <th>3</th>\n",
       "      <td>NikolaVucevic</td>\n",
       "      <td>73031</td>\n",
       "      <td>1098244711557619713</td>\n",
       "      <td>RT @OrlandoMagic: Everything that happened at ...</td>\n",
       "      <td>0</td>\n",
       "    </tr>\n",
       "    <tr>\n",
       "      <th>4</th>\n",
       "      <td>NikolaVucevic</td>\n",
       "      <td>73031</td>\n",
       "      <td>1098235335132303362</td>\n",
       "      <td>🔥🔥🔥🔥 @nikebasketball https://t.co/CTgFISbgDy</td>\n",
       "      <td>232</td>\n",
       "    </tr>\n",
       "  </tbody>\n",
       "</table>\n",
       "</div>"
      ],
      "text/plain": [
       "         Account  Followers_Count             Tweet_ID  \\\n",
       "0  NikolaVucevic            73031  1100159288553758721   \n",
       "1  NikolaVucevic            73031  1098375642771529728   \n",
       "2  NikolaVucevic            73031  1098271215477800960   \n",
       "3  NikolaVucevic            73031  1098244711557619713   \n",
       "4  NikolaVucevic            73031  1098235335132303362   \n",
       "\n",
       "                                          Tweet_Text  Tweet_Likes  \n",
       "0  Bravo momci! Ogroman je ovo uspjeh za reprezen...          324  \n",
       "1                      Welcome to Orlando @luisnani!         1043  \n",
       "2  We are ready for #AtletiJuve 😊! @juventusfcen ...         7930  \n",
       "3  RT @OrlandoMagic: Everything that happened at ...            0  \n",
       "4       🔥🔥🔥🔥 @nikebasketball https://t.co/CTgFISbgDy          232  "
      ]
     },
     "execution_count": 166,
     "metadata": {},
     "output_type": "execute_result"
    }
   ],
   "source": [
    "dfother_tweets.head()"
   ]
  },
  {
   "cell_type": "code",
   "execution_count": 167,
   "metadata": {},
   "outputs": [
    {
     "data": {
      "text/plain": [
       "(210, 5)"
      ]
     },
     "execution_count": 167,
     "metadata": {},
     "output_type": "execute_result"
    }
   ],
   "source": [
    "dfother_tweets.shape"
   ]
  },
  {
   "cell_type": "code",
   "execution_count": 168,
   "metadata": {},
   "outputs": [],
   "source": [
    "dfother_tweets = dfother_tweets.drop_duplicates()"
   ]
  },
  {
   "cell_type": "code",
   "execution_count": 169,
   "metadata": {},
   "outputs": [
    {
     "data": {
      "text/plain": [
       "(210, 5)"
      ]
     },
     "execution_count": 169,
     "metadata": {},
     "output_type": "execute_result"
    }
   ],
   "source": [
    "dfother_tweets.shape"
   ]
  },
  {
   "cell_type": "code",
   "execution_count": 170,
   "metadata": {},
   "outputs": [],
   "source": [
    "dfother_tweets[\"FTM?\"] = \"No\""
   ]
  },
  {
   "cell_type": "code",
   "execution_count": 171,
   "metadata": {},
   "outputs": [],
   "source": [
    "dfother_tweets[\"Percent_Likes\"] = dfother_tweets[\"Tweet_Likes\"] / dfother_tweets[\"Followers_Count\"]"
   ]
  },
  {
   "cell_type": "code",
   "execution_count": 172,
   "metadata": {},
   "outputs": [
    {
     "data": {
      "text/html": [
       "<div>\n",
       "<style scoped>\n",
       "    .dataframe tbody tr th:only-of-type {\n",
       "        vertical-align: middle;\n",
       "    }\n",
       "\n",
       "    .dataframe tbody tr th {\n",
       "        vertical-align: top;\n",
       "    }\n",
       "\n",
       "    .dataframe thead th {\n",
       "        text-align: right;\n",
       "    }\n",
       "</style>\n",
       "<table border=\"1\" class=\"dataframe\">\n",
       "  <thead>\n",
       "    <tr style=\"text-align: right;\">\n",
       "      <th></th>\n",
       "      <th>Account</th>\n",
       "      <th>Followers_Count</th>\n",
       "      <th>Tweet_ID</th>\n",
       "      <th>Tweet_Text</th>\n",
       "      <th>Tweet_Likes</th>\n",
       "      <th>FTM?</th>\n",
       "      <th>Percent_Likes</th>\n",
       "    </tr>\n",
       "  </thead>\n",
       "  <tbody>\n",
       "    <tr>\n",
       "      <th>0</th>\n",
       "      <td>NikolaVucevic</td>\n",
       "      <td>73031</td>\n",
       "      <td>1100159288553758721</td>\n",
       "      <td>Bravo momci! Ogroman je ovo uspjeh za reprezen...</td>\n",
       "      <td>324</td>\n",
       "      <td>No</td>\n",
       "      <td>0.004436</td>\n",
       "    </tr>\n",
       "    <tr>\n",
       "      <th>1</th>\n",
       "      <td>NikolaVucevic</td>\n",
       "      <td>73031</td>\n",
       "      <td>1098375642771529728</td>\n",
       "      <td>Welcome to Orlando @luisnani!</td>\n",
       "      <td>1043</td>\n",
       "      <td>No</td>\n",
       "      <td>0.014282</td>\n",
       "    </tr>\n",
       "    <tr>\n",
       "      <th>2</th>\n",
       "      <td>NikolaVucevic</td>\n",
       "      <td>73031</td>\n",
       "      <td>1098271215477800960</td>\n",
       "      <td>We are ready for #AtletiJuve 😊! @juventusfcen ...</td>\n",
       "      <td>7930</td>\n",
       "      <td>No</td>\n",
       "      <td>0.108584</td>\n",
       "    </tr>\n",
       "    <tr>\n",
       "      <th>3</th>\n",
       "      <td>NikolaVucevic</td>\n",
       "      <td>73031</td>\n",
       "      <td>1098244711557619713</td>\n",
       "      <td>RT @OrlandoMagic: Everything that happened at ...</td>\n",
       "      <td>0</td>\n",
       "      <td>No</td>\n",
       "      <td>0.000000</td>\n",
       "    </tr>\n",
       "    <tr>\n",
       "      <th>4</th>\n",
       "      <td>NikolaVucevic</td>\n",
       "      <td>73031</td>\n",
       "      <td>1098235335132303362</td>\n",
       "      <td>🔥🔥🔥🔥 @nikebasketball https://t.co/CTgFISbgDy</td>\n",
       "      <td>232</td>\n",
       "      <td>No</td>\n",
       "      <td>0.003177</td>\n",
       "    </tr>\n",
       "  </tbody>\n",
       "</table>\n",
       "</div>"
      ],
      "text/plain": [
       "         Account  Followers_Count             Tweet_ID  \\\n",
       "0  NikolaVucevic            73031  1100159288553758721   \n",
       "1  NikolaVucevic            73031  1098375642771529728   \n",
       "2  NikolaVucevic            73031  1098271215477800960   \n",
       "3  NikolaVucevic            73031  1098244711557619713   \n",
       "4  NikolaVucevic            73031  1098235335132303362   \n",
       "\n",
       "                                          Tweet_Text  Tweet_Likes FTM?  \\\n",
       "0  Bravo momci! Ogroman je ovo uspjeh za reprezen...          324   No   \n",
       "1                      Welcome to Orlando @luisnani!         1043   No   \n",
       "2  We are ready for #AtletiJuve 😊! @juventusfcen ...         7930   No   \n",
       "3  RT @OrlandoMagic: Everything that happened at ...            0   No   \n",
       "4       🔥🔥🔥🔥 @nikebasketball https://t.co/CTgFISbgDy          232   No   \n",
       "\n",
       "   Percent_Likes  \n",
       "0       0.004436  \n",
       "1       0.014282  \n",
       "2       0.108584  \n",
       "3       0.000000  \n",
       "4       0.003177  "
      ]
     },
     "execution_count": 172,
     "metadata": {},
     "output_type": "execute_result"
    }
   ],
   "source": [
    "dfother_tweets.head()"
   ]
  },
  {
   "cell_type": "code",
   "execution_count": 173,
   "metadata": {},
   "outputs": [
    {
     "data": {
      "text/plain": [
       "37"
      ]
     },
     "execution_count": 173,
     "metadata": {},
     "output_type": "execute_result"
    }
   ],
   "source": [
    "len(dfother_tweets[dfother_tweets[\"Tweet_Likes\"] == 0])"
   ]
  },
  {
   "cell_type": "code",
   "execution_count": 174,
   "metadata": {},
   "outputs": [],
   "source": [
    "dfother_tweets = dfother_tweets[dfother_tweets[\"Tweet_Likes\"] > 0]"
   ]
  },
  {
   "cell_type": "code",
   "execution_count": 176,
   "metadata": {},
   "outputs": [],
   "source": [
    "accounts2 = list(dfother_tweets[\"Account\"].unique())"
   ]
  },
  {
   "cell_type": "code",
   "execution_count": 177,
   "metadata": {},
   "outputs": [],
   "source": [
    "rows_to_pull = []\n",
    "\n",
    "for account in accounts2:\n",
    "    highest = dfother_tweets[dfother_tweets[\"Account\"] == account].sort_values(\"Percent_Likes\")[\"Percent_Likes\"].iloc[-1]\n",
    "    second_highest = dfother_tweets[dfother_tweets[\"Account\"] == account].sort_values(\"Percent_Likes\")[\"Percent_Likes\"].iloc[-2]\n",
    "    lowest = dfother_tweets[dfother_tweets[\"Account\"] == account].sort_values(\"Percent_Likes\")[\"Percent_Likes\"].iloc[0]\n",
    "    second_lowest = dfother_tweets[dfother_tweets[\"Account\"] == account].sort_values(\"Percent_Likes\")[\"Percent_Likes\"].iloc[1]\n",
    "    highs_and_lows = [highest, second_highest, lowest, second_lowest]\n",
    "    for num in highs_and_lows:\n",
    "        i = np.where(dfother_tweets[\"Percent_Likes\"] == num)\n",
    "        rows_to_pull.append(i)\n",
    "        "
   ]
  },
  {
   "cell_type": "code",
   "execution_count": 178,
   "metadata": {},
   "outputs": [
    {
     "data": {
      "text/plain": [
       "48"
      ]
     },
     "execution_count": 178,
     "metadata": {},
     "output_type": "execute_result"
    }
   ],
   "source": [
    "len(rows_to_pull)"
   ]
  },
  {
   "cell_type": "code",
   "execution_count": 179,
   "metadata": {},
   "outputs": [],
   "source": [
    "import itertools\n",
    "\n",
    "rows_to_pull = list(itertools.chain.from_iterable(rows_to_pull))"
   ]
  },
  {
   "cell_type": "code",
   "execution_count": 180,
   "metadata": {},
   "outputs": [],
   "source": [
    "rows_to_pull = list(itertools.chain.from_iterable(rows_to_pull))"
   ]
  },
  {
   "cell_type": "code",
   "execution_count": 181,
   "metadata": {},
   "outputs": [
    {
     "data": {
      "text/plain": [
       "49"
      ]
     },
     "execution_count": 181,
     "metadata": {},
     "output_type": "execute_result"
    }
   ],
   "source": [
    "len(rows_to_pull)"
   ]
  },
  {
   "cell_type": "code",
   "execution_count": 182,
   "metadata": {},
   "outputs": [],
   "source": [
    "best_worst_engagements = pd.DataFrame(columns=[\"Account\", \"Followers_Count\", \"Tweet_ID\", \n",
    "                                               \"Tweet_Text\", \"Tweet_Likes\", \"FTM?\", \"Percent_Likes\"])\n",
    "\n",
    "for i, j in zip(range(len(rows_to_pull)), rows_to_pull):\n",
    "    best_worst_engagements.loc[i] = dfother_tweets.iloc[j]"
   ]
  },
  {
   "cell_type": "code",
   "execution_count": 183,
   "metadata": {},
   "outputs": [],
   "source": [
    "best_worst_engagements = best_worst_engagements.drop_duplicates()"
   ]
  },
  {
   "cell_type": "code",
   "execution_count": 184,
   "metadata": {},
   "outputs": [
    {
     "data": {
      "text/plain": [
       "(49, 7)"
      ]
     },
     "execution_count": 184,
     "metadata": {},
     "output_type": "execute_result"
    }
   ],
   "source": [
    "best_worst_engagements.shape"
   ]
  },
  {
   "cell_type": "code",
   "execution_count": 186,
   "metadata": {},
   "outputs": [],
   "source": [
    "best_worst_engagements.to_excel(\"Gen_Tweets_2.25.xlsx\")"
   ]
  },
  {
   "cell_type": "code",
   "execution_count": 187,
   "metadata": {
    "scrolled": false
   },
   "outputs": [
    {
     "name": "stdout",
     "output_type": "stream",
     "text": [
      "Processed Tweet  0\n",
      "Processed Tweet  1\n",
      "Processed Tweet  2\n",
      "Processed Tweet  3\n",
      "Processed Tweet  4\n",
      "Processed Tweet  5\n",
      "Processed Tweet  6\n",
      "Processed Tweet  7\n",
      "Processed Tweet  8\n",
      "Processed Tweet  9\n",
      "Processed Tweet  10\n",
      "Processed Tweet  11\n",
      "Processed Tweet  12\n",
      "Processed Tweet  13\n",
      "Processed Tweet  14\n",
      "Processed Tweet  15\n",
      "Processed Tweet  16\n",
      "Processed Tweet  17\n",
      "Processed Tweet  18\n",
      "Processed Tweet  19\n",
      "Processed Tweet  20\n",
      "Processed Tweet  21\n",
      "Processed Tweet  22\n",
      "Processed Tweet  23\n",
      "Processed Tweet  24\n",
      "Processed Tweet  25\n",
      "Processed Tweet  26\n",
      "Processed Tweet  27\n",
      "Processed Tweet  28\n",
      "Processed Tweet  29\n",
      "Processed Tweet  30\n",
      "Processed Tweet  31\n",
      "Processed Tweet  32\n",
      "Processed Tweet  33\n",
      "Processed Tweet  34\n",
      "Processed Tweet  35\n",
      "Processed Tweet  36\n",
      "Processed Tweet  37\n",
      "Processed Tweet  38\n",
      "Processed Tweet  39\n",
      "Processed Tweet  40\n",
      "Processed Tweet  41\n",
      "Processed Tweet  42\n",
      "Processed Tweet  43\n",
      "Processed Tweet  44\n",
      "Processed Tweet  45\n",
      "Processed Tweet  46\n",
      "Processed Tweet  47\n",
      "Processed Tweet  48\n"
     ]
    }
   ],
   "source": [
    "#overnightcode\n",
    "\n",
    "replies = []\n",
    "\n",
    "\n",
    "for i in range(best_worst_engagements.shape[0]):\n",
    "    for tweet in tweepy.Cursor(api.search, q=\"to:\" + best_worst_engagements[\"Account\"].iloc[i], since_id=best_worst_engagements[\"Tweet_ID\"].iloc[i], max_id=int(best_worst_engagements[\"Tweet_ID\"].iloc[i]) + 200000000000000, timeout=999999).items(2000):\n",
    "        if tweet.in_reply_to_status_id_str == best_worst_engagements[\"Tweet_ID\"].iloc[i]:\n",
    "            replies.append((tweet.text, tweet.in_reply_to_status_id_str))\n",
    "    print(\"Processed Tweet \", i)\n",
    "    time.sleep(900)\n",
    "            "
   ]
  },
  {
   "cell_type": "code",
   "execution_count": 188,
   "metadata": {
    "scrolled": true
   },
   "outputs": [
    {
     "data": {
      "text/plain": [
       "659"
      ]
     },
     "execution_count": 188,
     "metadata": {},
     "output_type": "execute_result"
    }
   ],
   "source": [
    "len(replies)"
   ]
  },
  {
   "cell_type": "code",
   "execution_count": 189,
   "metadata": {},
   "outputs": [],
   "source": [
    "nonFTMreplies = pd.DataFrame(replies, columns=[\"Reply\", \"To_Tweet_ID\"])"
   ]
  },
  {
   "cell_type": "code",
   "execution_count": 190,
   "metadata": {},
   "outputs": [
    {
     "data": {
      "text/plain": [
       "(659, 2)"
      ]
     },
     "execution_count": 190,
     "metadata": {},
     "output_type": "execute_result"
    }
   ],
   "source": [
    "nonFTMreplies.shape"
   ]
  },
  {
   "cell_type": "code",
   "execution_count": 191,
   "metadata": {},
   "outputs": [
    {
     "data": {
      "text/html": [
       "<div>\n",
       "<style scoped>\n",
       "    .dataframe tbody tr th:only-of-type {\n",
       "        vertical-align: middle;\n",
       "    }\n",
       "\n",
       "    .dataframe tbody tr th {\n",
       "        vertical-align: top;\n",
       "    }\n",
       "\n",
       "    .dataframe thead th {\n",
       "        text-align: right;\n",
       "    }\n",
       "</style>\n",
       "<table border=\"1\" class=\"dataframe\">\n",
       "  <thead>\n",
       "    <tr style=\"text-align: right;\">\n",
       "      <th></th>\n",
       "      <th>Reply</th>\n",
       "      <th>To_Tweet_ID</th>\n",
       "    </tr>\n",
       "  </thead>\n",
       "  <tbody>\n",
       "    <tr>\n",
       "      <th>0</th>\n",
       "      <td>@NikolaVucevic @juventusfcen L</td>\n",
       "      <td>1098271215477800960</td>\n",
       "    </tr>\n",
       "    <tr>\n",
       "      <th>1</th>\n",
       "      <td>@NikolaVucevic @juventusfcen Come to Dallas!</td>\n",
       "      <td>1098271215477800960</td>\n",
       "    </tr>\n",
       "    <tr>\n",
       "      <th>2</th>\n",
       "      <td>@NikolaVucevic @juventusfcen Looks like Juvent...</td>\n",
       "      <td>1098271215477800960</td>\n",
       "    </tr>\n",
       "    <tr>\n",
       "      <th>3</th>\n",
       "      <td>@NikolaVucevic @juventusfcen Ljube vas Hjustonci😘</td>\n",
       "      <td>1098271215477800960</td>\n",
       "    </tr>\n",
       "    <tr>\n",
       "      <th>4</th>\n",
       "      <td>@NikolaVucevic @juventusfcen 🖐</td>\n",
       "      <td>1098271215477800960</td>\n",
       "    </tr>\n",
       "  </tbody>\n",
       "</table>\n",
       "</div>"
      ],
      "text/plain": [
       "                                               Reply          To_Tweet_ID\n",
       "0                     @NikolaVucevic @juventusfcen L  1098271215477800960\n",
       "1       @NikolaVucevic @juventusfcen Come to Dallas!  1098271215477800960\n",
       "2  @NikolaVucevic @juventusfcen Looks like Juvent...  1098271215477800960\n",
       "3  @NikolaVucevic @juventusfcen Ljube vas Hjustonci😘  1098271215477800960\n",
       "4                     @NikolaVucevic @juventusfcen 🖐  1098271215477800960"
      ]
     },
     "execution_count": 191,
     "metadata": {},
     "output_type": "execute_result"
    }
   ],
   "source": [
    "nonFTMreplies.head()"
   ]
  },
  {
   "cell_type": "code",
   "execution_count": 192,
   "metadata": {},
   "outputs": [],
   "source": [
    "nonFTMreplies.to_excel(\"NonFTM_Replies_2.25.xlsx\")"
   ]
  },
  {
   "cell_type": "markdown",
   "metadata": {},
   "source": [
    "GSD\n",
    "+ create clear pipeline of what I do with the data (scrape data, clean data, TF/BOW, run into model, pull out features\n",
    "+ write-up:\n",
    "    + why TFIDF versus BOW\n",
    "    + why multi-class problem\n",
    "    + why specific model chosen\n"
   ]
  },
  {
   "cell_type": "code",
   "execution_count": 27,
   "metadata": {},
   "outputs": [],
   "source": [
    "import pandas as pd\n",
    "import matplotlib.pyplot as plt\n",
    "import seaborn as sns\n",
    "import sklearn as sk\n",
    "import numpy as np"
   ]
  },
  {
   "cell_type": "markdown",
   "metadata": {},
   "source": [
    "### Importing Original Datasets (Lists of Tweets Posted in Last 7 Days)"
   ]
  },
  {
   "cell_type": "code",
   "execution_count": 46,
   "metadata": {},
   "outputs": [],
   "source": [
    "#I pulled FTM_df from Fresh Tape Media's (FTM) admin account\n",
    "\n",
    "#I scraped Gen_df from the Twitter API, with a focus on the same accounts contained in FTM_df\n",
    "#For the tweets in the Gen_df data, I pulled the two tweets for each account that showed the \n",
    "###MOST engagement and the two that showed the LEAST engagement\n",
    "\n",
    "FTM_df = pd.read_excel(\"FTMTweets2.26.xlsx\")\n",
    "Gen_df = pd.read_excel(\"Gen_Tweets_2.25.xlsx\")\n"
   ]
  },
  {
   "cell_type": "code",
   "execution_count": 47,
   "metadata": {
    "scrolled": true
   },
   "outputs": [
    {
     "data": {
      "text/html": [
       "<div>\n",
       "<style scoped>\n",
       "    .dataframe tbody tr th:only-of-type {\n",
       "        vertical-align: middle;\n",
       "    }\n",
       "\n",
       "    .dataframe tbody tr th {\n",
       "        vertical-align: top;\n",
       "    }\n",
       "\n",
       "    .dataframe thead th {\n",
       "        text-align: right;\n",
       "    }\n",
       "</style>\n",
       "<table border=\"1\" class=\"dataframe\">\n",
       "  <thead>\n",
       "    <tr style=\"text-align: right;\">\n",
       "      <th></th>\n",
       "      <th>Account</th>\n",
       "      <th>Likes</th>\n",
       "      <th>Tweet_ID</th>\n",
       "      <th>Followers_Count</th>\n",
       "      <th>Percent_Likes</th>\n",
       "      <th>FTM?</th>\n",
       "    </tr>\n",
       "  </thead>\n",
       "  <tbody>\n",
       "    <tr>\n",
       "      <th>0</th>\n",
       "      <td>nikolavucevic</td>\n",
       "      <td>193</td>\n",
       "      <td>1098235335132303362</td>\n",
       "      <td>72400</td>\n",
       "      <td>0.002666</td>\n",
       "      <td>Yes</td>\n",
       "    </tr>\n",
       "    <tr>\n",
       "      <th>2</th>\n",
       "      <td>nbakicks</td>\n",
       "      <td>87</td>\n",
       "      <td>1097544211656790017</td>\n",
       "      <td>17800</td>\n",
       "      <td>0.004888</td>\n",
       "      <td>Yes</td>\n",
       "    </tr>\n",
       "    <tr>\n",
       "      <th>5</th>\n",
       "      <td>nbakicks</td>\n",
       "      <td>1582</td>\n",
       "      <td>1097537733155786753</td>\n",
       "      <td>17800</td>\n",
       "      <td>0.088876</td>\n",
       "      <td>Yes</td>\n",
       "    </tr>\n",
       "    <tr>\n",
       "      <th>8</th>\n",
       "      <td>nbakicks</td>\n",
       "      <td>916</td>\n",
       "      <td>1097532955533160448</td>\n",
       "      <td>17800</td>\n",
       "      <td>0.051461</td>\n",
       "      <td>Yes</td>\n",
       "    </tr>\n",
       "    <tr>\n",
       "      <th>11</th>\n",
       "      <td>nbakicks</td>\n",
       "      <td>67</td>\n",
       "      <td>1097527079569108992</td>\n",
       "      <td>17800</td>\n",
       "      <td>0.003764</td>\n",
       "      <td>Yes</td>\n",
       "    </tr>\n",
       "  </tbody>\n",
       "</table>\n",
       "</div>"
      ],
      "text/plain": [
       "          Account  Likes             Tweet_ID  Followers_Count  Percent_Likes  \\\n",
       "0   nikolavucevic    193  1098235335132303362            72400       0.002666   \n",
       "2        nbakicks     87  1097544211656790017            17800       0.004888   \n",
       "5        nbakicks   1582  1097537733155786753            17800       0.088876   \n",
       "8        nbakicks    916  1097532955533160448            17800       0.051461   \n",
       "11       nbakicks     67  1097527079569108992            17800       0.003764   \n",
       "\n",
       "   FTM?  \n",
       "0   Yes  \n",
       "2   Yes  \n",
       "5   Yes  \n",
       "8   Yes  \n",
       "11  Yes  "
      ]
     },
     "execution_count": 47,
     "metadata": {},
     "output_type": "execute_result"
    }
   ],
   "source": [
    "FTM_df.head()"
   ]
  },
  {
   "cell_type": "code",
   "execution_count": 48,
   "metadata": {},
   "outputs": [
    {
     "data": {
      "text/html": [
       "<div>\n",
       "<style scoped>\n",
       "    .dataframe tbody tr th:only-of-type {\n",
       "        vertical-align: middle;\n",
       "    }\n",
       "\n",
       "    .dataframe tbody tr th {\n",
       "        vertical-align: top;\n",
       "    }\n",
       "\n",
       "    .dataframe thead th {\n",
       "        text-align: right;\n",
       "    }\n",
       "</style>\n",
       "<table border=\"1\" class=\"dataframe\">\n",
       "  <thead>\n",
       "    <tr style=\"text-align: right;\">\n",
       "      <th></th>\n",
       "      <th>Account</th>\n",
       "      <th>Followers_Count</th>\n",
       "      <th>Tweet_ID</th>\n",
       "      <th>Tweet_Text</th>\n",
       "      <th>Tweet_Likes</th>\n",
       "      <th>FTM?</th>\n",
       "      <th>Percent_Likes</th>\n",
       "    </tr>\n",
       "  </thead>\n",
       "  <tbody>\n",
       "    <tr>\n",
       "      <th>0</th>\n",
       "      <td>NikolaVucevic</td>\n",
       "      <td>73031</td>\n",
       "      <td>1098271215477800960</td>\n",
       "      <td>We are ready for #AtletiJuve 😊! @juventusfcen ...</td>\n",
       "      <td>7930</td>\n",
       "      <td>No</td>\n",
       "      <td>0.108584</td>\n",
       "    </tr>\n",
       "    <tr>\n",
       "      <th>1</th>\n",
       "      <td>NikolaVucevic</td>\n",
       "      <td>73031</td>\n",
       "      <td>1097253159104323585</td>\n",
       "      <td>Hi there 🤩 @NBAAllStar #NBAAllstar2019 https:/...</td>\n",
       "      <td>7908</td>\n",
       "      <td>No</td>\n",
       "      <td>0.108283</td>\n",
       "    </tr>\n",
       "    <tr>\n",
       "      <th>2</th>\n",
       "      <td>NikolaVucevic</td>\n",
       "      <td>73031</td>\n",
       "      <td>1097171484899004416</td>\n",
       "      <td>Charlotte, do you have what it takes? Show off...</td>\n",
       "      <td>48</td>\n",
       "      <td>No</td>\n",
       "      <td>0.000657</td>\n",
       "    </tr>\n",
       "    <tr>\n",
       "      <th>3</th>\n",
       "      <td>NikolaVucevic</td>\n",
       "      <td>73031</td>\n",
       "      <td>1097166010753445888</td>\n",
       "      <td>Charlotte, do you have what it takes? Show off...</td>\n",
       "      <td>122</td>\n",
       "      <td>No</td>\n",
       "      <td>0.001671</td>\n",
       "    </tr>\n",
       "    <tr>\n",
       "      <th>4</th>\n",
       "      <td>NBAKicks</td>\n",
       "      <td>18684</td>\n",
       "      <td>1099485224231026688</td>\n",
       "      <td>🏀 @1jordanbell representing for the #Rugrats! ...</td>\n",
       "      <td>2391</td>\n",
       "      <td>No</td>\n",
       "      <td>0.127970</td>\n",
       "    </tr>\n",
       "  </tbody>\n",
       "</table>\n",
       "</div>"
      ],
      "text/plain": [
       "         Account  Followers_Count             Tweet_ID  \\\n",
       "0  NikolaVucevic            73031  1098271215477800960   \n",
       "1  NikolaVucevic            73031  1097253159104323585   \n",
       "2  NikolaVucevic            73031  1097171484899004416   \n",
       "3  NikolaVucevic            73031  1097166010753445888   \n",
       "4       NBAKicks            18684  1099485224231026688   \n",
       "\n",
       "                                          Tweet_Text  Tweet_Likes FTM?  \\\n",
       "0  We are ready for #AtletiJuve 😊! @juventusfcen ...         7930   No   \n",
       "1  Hi there 🤩 @NBAAllStar #NBAAllstar2019 https:/...         7908   No   \n",
       "2  Charlotte, do you have what it takes? Show off...           48   No   \n",
       "3  Charlotte, do you have what it takes? Show off...          122   No   \n",
       "4  🏀 @1jordanbell representing for the #Rugrats! ...         2391   No   \n",
       "\n",
       "   Percent_Likes  \n",
       "0       0.108584  \n",
       "1       0.108283  \n",
       "2       0.000657  \n",
       "3       0.001671  \n",
       "4       0.127970  "
      ]
     },
     "execution_count": 48,
     "metadata": {},
     "output_type": "execute_result"
    }
   ],
   "source": [
    "Gen_df.head()"
   ]
  },
  {
   "cell_type": "code",
   "execution_count": 53,
   "metadata": {},
   "outputs": [],
   "source": [
    "Gen_df[\"Account\"] = Gen_df[\"Account\"].str.lower()\n",
    "FTM_df[\"Tweet_ID\"] = FTM_df[\"Tweet_ID\"].astype(str)\n",
    "Gen_df[\"Tweet_ID\"] = Gen_df[\"Tweet_ID\"].astype(str)"
   ]
  },
  {
   "cell_type": "code",
   "execution_count": 54,
   "metadata": {},
   "outputs": [],
   "source": [
    "FTM_df = FTM_df.reset_index(drop=True)"
   ]
  },
  {
   "cell_type": "code",
   "execution_count": 55,
   "metadata": {},
   "outputs": [],
   "source": [
    "FTM_df = FTM_df.drop_duplicates(subset=\"Tweet_ID\")"
   ]
  },
  {
   "cell_type": "code",
   "execution_count": 56,
   "metadata": {},
   "outputs": [],
   "source": [
    "#aggregating the original tweet count data by account to represent it visually\n",
    "\n",
    "account_counts = pd.DataFrame()\n",
    "\n",
    "account_counts[\"Accounts\"] = FTM_df[\"Account\"].unique()\n",
    "\n",
    "FTM_Count = []\n",
    "Gen_Count = []\n",
    "\n",
    "for account in account_counts[\"Accounts\"]:\n",
    "    FTM_Count.append(len(FTM_df[FTM_df[\"Account\"] == account]))\n",
    "    Gen_Count.append(len(Gen_df[Gen_df[\"Account\"] == account]))\n",
    "\n",
    "account_counts[\"Fresh Tape Media Content\"] = FTM_Count\n",
    "account_counts[\"Public Content\"] = Gen_Count"
   ]
  },
  {
   "cell_type": "code",
   "execution_count": 57,
   "metadata": {},
   "outputs": [
    {
     "data": {
      "text/html": [
       "<div>\n",
       "<style scoped>\n",
       "    .dataframe tbody tr th:only-of-type {\n",
       "        vertical-align: middle;\n",
       "    }\n",
       "\n",
       "    .dataframe tbody tr th {\n",
       "        vertical-align: top;\n",
       "    }\n",
       "\n",
       "    .dataframe thead th {\n",
       "        text-align: right;\n",
       "    }\n",
       "</style>\n",
       "<table border=\"1\" class=\"dataframe\">\n",
       "  <thead>\n",
       "    <tr style=\"text-align: right;\">\n",
       "      <th></th>\n",
       "      <th>Fresh Tape Media Content</th>\n",
       "      <th>Public Content</th>\n",
       "    </tr>\n",
       "    <tr>\n",
       "      <th>Accounts</th>\n",
       "      <th></th>\n",
       "      <th></th>\n",
       "    </tr>\n",
       "  </thead>\n",
       "  <tbody>\n",
       "    <tr>\n",
       "      <th>nikolavucevic</th>\n",
       "      <td>1</td>\n",
       "      <td>4</td>\n",
       "    </tr>\n",
       "    <tr>\n",
       "      <th>nbakicks</th>\n",
       "      <td>21</td>\n",
       "      <td>4</td>\n",
       "    </tr>\n",
       "    <tr>\n",
       "      <th>nascar</th>\n",
       "      <td>14</td>\n",
       "      <td>4</td>\n",
       "    </tr>\n",
       "    <tr>\n",
       "      <th>nuggets</th>\n",
       "      <td>1</td>\n",
       "      <td>4</td>\n",
       "    </tr>\n",
       "    <tr>\n",
       "      <th>twittersports</th>\n",
       "      <td>5</td>\n",
       "      <td>4</td>\n",
       "    </tr>\n",
       "  </tbody>\n",
       "</table>\n",
       "</div>"
      ],
      "text/plain": [
       "               Fresh Tape Media Content  Public Content\n",
       "Accounts                                               \n",
       "nikolavucevic                         1               4\n",
       "nbakicks                             21               4\n",
       "nascar                               14               4\n",
       "nuggets                               1               4\n",
       "twittersports                         5               4"
      ]
     },
     "execution_count": 57,
     "metadata": {},
     "output_type": "execute_result"
    }
   ],
   "source": [
    "account_counts = account_counts.set_index(\"Accounts\")\n",
    "\n",
    "account_counts.head()"
   ]
  },
  {
   "cell_type": "code",
   "execution_count": 62,
   "metadata": {
    "scrolled": false
   },
   "outputs": [
    {
     "data": {
      "text/plain": [
       "Text(0.5, 0, 'Twitter Accounts')"
      ]
     },
     "execution_count": 62,
     "metadata": {},
     "output_type": "execute_result"
    },
    {
     "data": {
      "image/png": "[encoded data removed]",
      "text/plain": [
       "<Figure size 1008x648 with 1 Axes>"
      ]
     },
     "metadata": {},
     "output_type": "display_data"
    }
   ],
   "source": [
    "#plotting stacked barplot to show number of original tweets by each account; showing data from FTM and from outside\n",
    "# of FTM\n",
    "import seaborn as sns\n",
    "import matplotlib.pyplot as plt\n",
    "\n",
    "\n",
    "sns.set(style=\"whitegrid\")\n",
    "account_counts.plot(kind=\"bar\", stacked=True, figsize=(14,9))\n",
    "\n",
    "plt.title(\"Number of Original Tweets By Twitter Account\", size=18)\n",
    "plt.ylabel(\"Number of Original Tweets\", size=15)\n",
    "plt.xlabel(\"Twitter Accounts\", size=15)"
   ]
  },
  {
   "cell_type": "markdown",
   "metadata": {},
   "source": [
    "### Importing/Combining Scraped Reply Data"
   ]
  },
  {
   "cell_type": "code",
   "execution_count": 63,
   "metadata": {},
   "outputs": [],
   "source": [
    "#I scraped each of the three datasets loaded here from the Twitter API on three different nights. \n",
    "#The Twitter API only stores tweets and replies for 7 days, so I scraped replies to tweeets that were posted in \n",
    "# the last 7 days\n",
    "\n",
    "repliesFTM1 = pd.read_excel(\"Tweet_Replies 1.xlsx\")\n",
    "repliesFTM2 = pd.read_excel(\"Tweet_Replies_2.xlsx\")\n",
    "repliesGen = pd.read_excel(\"NonFTM_Replies_2.25.xlsx\")"
   ]
  },
  {
   "cell_type": "code",
   "execution_count": 64,
   "metadata": {},
   "outputs": [],
   "source": [
    "#storing a column of data that indicates whether the original tweet content came from FTM or not\n",
    "\n",
    "repliesFTM1[\"FTM?\"] = 1\n",
    "repliesFTM2[\"FTM?\"] = 1\n",
    "repliesGen[\"FTM?\"] = 0"
   ]
  },
  {
   "cell_type": "code",
   "execution_count": 65,
   "metadata": {},
   "outputs": [],
   "source": [
    "#repliesdf is a dataframe of over 1100 replies to both FTM and non-FTM twitter content as posted by different \n",
    "# athletes, sports teams, sports brands, sports leagues, or sports broadcasters\n",
    "\n",
    "repliesdf = pd.concat([repliesFTM1, repliesFTM2, repliesGen])"
   ]
  },
  {
   "cell_type": "code",
   "execution_count": 66,
   "metadata": {},
   "outputs": [
    {
     "data": {
      "text/plain": [
       "(1188, 3)"
      ]
     },
     "execution_count": 66,
     "metadata": {},
     "output_type": "execute_result"
    }
   ],
   "source": [
    "repliesdf.shape"
   ]
  },
  {
   "cell_type": "code",
   "execution_count": 67,
   "metadata": {},
   "outputs": [],
   "source": [
    "repliesdf = repliesdf.drop_duplicates()"
   ]
  },
  {
   "cell_type": "code",
   "execution_count": 68,
   "metadata": {},
   "outputs": [
    {
     "data": {
      "text/plain": [
       "(1127, 3)"
      ]
     },
     "execution_count": 68,
     "metadata": {},
     "output_type": "execute_result"
    }
   ],
   "source": [
    "repliesdf.shape"
   ]
  },
  {
   "cell_type": "code",
   "execution_count": 69,
   "metadata": {},
   "outputs": [
    {
     "data": {
      "text/plain": [
       "Reply          object\n",
       "To_Tweet_ID     int64\n",
       "FTM?            int64\n",
       "dtype: object"
      ]
     },
     "execution_count": 69,
     "metadata": {},
     "output_type": "execute_result"
    }
   ],
   "source": [
    "repliesdf.dtypes"
   ]
  },
  {
   "cell_type": "code",
   "execution_count": 70,
   "metadata": {},
   "outputs": [],
   "source": [
    "repliesdf[\"To_Tweet_ID\"] = repliesdf[\"To_Tweet_ID\"].astype(str)"
   ]
  },
  {
   "cell_type": "code",
   "execution_count": 71,
   "metadata": {},
   "outputs": [],
   "source": [
    "repliesdf = repliesdf.reset_index(drop=True)"
   ]
  },
  {
   "cell_type": "code",
   "execution_count": 72,
   "metadata": {},
   "outputs": [
    {
     "data": {
      "text/plain": [
       "(1127, 3)"
      ]
     },
     "execution_count": 72,
     "metadata": {},
     "output_type": "execute_result"
    }
   ],
   "source": [
    "repliesdf.shape"
   ]
  },
  {
   "cell_type": "markdown",
   "metadata": {},
   "source": [
    "## Feature Engineering Using NLP - Bag of Words vs. TF-IDF\n",
    "\n",
    "When doing feature engineering using natural language processing, I tried two approaches and created two different dataframes: 1. bag of words  2. term frequency-inverse document frequency (TF-IDF). \n",
    "\n",
    "In the first approach, bag of words, I pulled all of the most frequent words from the set of replies to each tweet. Then I created a dataframe that all of the most frequent words (\"bag of words\") and included a count of each word for each reply. Once I had that dataframe, I aggregated the word counts by combining them for each tweet ID. \n",
    "\n",
    "In the second approach, TF-IDF, I used the TFIDFVectorizer to pull out a list of words that included words that appeared more than once in the body of text and did not occur in more than half of the replies. From there, I fit the vectorizer to the replies data and got the TF-IDF vector for the presence of each word in each reply. Once I had that dataframe, I again aggregated the vectors by combining them for each tweet ID. \n",
    "\n",
    "I created test and train sets from BOTH the aggregated bag of words dataframe and the TF-IDF dataframe. I ran supervised models and unsupervised clustering on both datasets and found better accuracy on the bag of words data, so that is what is included in the solution below."
   ]
  },
  {
   "cell_type": "markdown",
   "metadata": {},
   "source": [
    "### Bag of Words Approach"
   ]
  },
  {
   "cell_type": "code",
   "execution_count": 73,
   "metadata": {},
   "outputs": [],
   "source": [
    "import spacy\n",
    "from collections import Counter\n",
    "import itertools"
   ]
  },
  {
   "cell_type": "code",
   "execution_count": 74,
   "metadata": {},
   "outputs": [],
   "source": [
    "nlp = spacy.load(\"en\")"
   ]
  },
  {
   "cell_type": "code",
   "execution_count": 75,
   "metadata": {},
   "outputs": [],
   "source": [
    "def wrap_spacy(reply):\n",
    "    \n",
    "    return nlp(reply)"
   ]
  },
  {
   "cell_type": "code",
   "execution_count": 76,
   "metadata": {},
   "outputs": [],
   "source": [
    "repliesdf[\"NLP_Reply\"] = repliesdf[\"Reply\"].apply(wrap_spacy)"
   ]
  },
  {
   "cell_type": "code",
   "execution_count": 77,
   "metadata": {},
   "outputs": [
    {
     "data": {
      "text/html": [
       "<div>\n",
       "<style scoped>\n",
       "    .dataframe tbody tr th:only-of-type {\n",
       "        vertical-align: middle;\n",
       "    }\n",
       "\n",
       "    .dataframe tbody tr th {\n",
       "        vertical-align: top;\n",
       "    }\n",
       "\n",
       "    .dataframe thead th {\n",
       "        text-align: right;\n",
       "    }\n",
       "</style>\n",
       "<table border=\"1\" class=\"dataframe\">\n",
       "  <thead>\n",
       "    <tr style=\"text-align: right;\">\n",
       "      <th></th>\n",
       "      <th>Reply</th>\n",
       "      <th>To_Tweet_ID</th>\n",
       "      <th>FTM?</th>\n",
       "      <th>NLP_Reply</th>\n",
       "    </tr>\n",
       "  </thead>\n",
       "  <tbody>\n",
       "    <tr>\n",
       "      <th>0</th>\n",
       "      <td>@NikolaVucevic @nikebasketball Sta je to brate?</td>\n",
       "      <td>1098235335132303362</td>\n",
       "      <td>1</td>\n",
       "      <td>(@NikolaVucevic, @nikebasketball, Sta, je, to,...</td>\n",
       "    </tr>\n",
       "    <tr>\n",
       "      <th>1</th>\n",
       "      <td>@NikolaVucevic @nikebasketball 💧💧💧</td>\n",
       "      <td>1098235335132303362</td>\n",
       "      <td>1</td>\n",
       "      <td>(@NikolaVucevic, @nikebasketball, 💧, 💧, 💧)</td>\n",
       "    </tr>\n",
       "    <tr>\n",
       "      <th>2</th>\n",
       "      <td>@NikolaVucevic @nikebasketball Shoe game strong!</td>\n",
       "      <td>1098235335132303362</td>\n",
       "      <td>1</td>\n",
       "      <td>(@NikolaVucevic, @nikebasketball, Shoe, game, ...</td>\n",
       "    </tr>\n",
       "    <tr>\n",
       "      <th>3</th>\n",
       "      <td>@NikolaVucevic @nikebasketball #MFFL</td>\n",
       "      <td>1098235335132303362</td>\n",
       "      <td>1</td>\n",
       "      <td>(@NikolaVucevic, @nikebasketball, #, MFFL)</td>\n",
       "    </tr>\n",
       "    <tr>\n",
       "      <th>4</th>\n",
       "      <td>@NBAKicks @NBA @KDTrey5 https://t.co/4LtK8FIv8Q</td>\n",
       "      <td>1097537733155786753</td>\n",
       "      <td>1</td>\n",
       "      <td>(@NBAKicks, @NBA, @KDTrey5, https://t.co/4LtK8...</td>\n",
       "    </tr>\n",
       "  </tbody>\n",
       "</table>\n",
       "</div>"
      ],
      "text/plain": [
       "                                              Reply          To_Tweet_ID  \\\n",
       "0   @NikolaVucevic @nikebasketball Sta je to brate?  1098235335132303362   \n",
       "1                @NikolaVucevic @nikebasketball 💧💧💧  1098235335132303362   \n",
       "2  @NikolaVucevic @nikebasketball Shoe game strong!  1098235335132303362   \n",
       "3              @NikolaVucevic @nikebasketball #MFFL  1098235335132303362   \n",
       "4   @NBAKicks @NBA @KDTrey5 https://t.co/4LtK8FIv8Q  1097537733155786753   \n",
       "\n",
       "   FTM?                                          NLP_Reply  \n",
       "0     1  (@NikolaVucevic, @nikebasketball, Sta, je, to,...  \n",
       "1     1         (@NikolaVucevic, @nikebasketball, 💧, 💧, 💧)  \n",
       "2     1  (@NikolaVucevic, @nikebasketball, Shoe, game, ...  \n",
       "3     1         (@NikolaVucevic, @nikebasketball, #, MFFL)  \n",
       "4     1  (@NBAKicks, @NBA, @KDTrey5, https://t.co/4LtK8...  "
      ]
     },
     "execution_count": 77,
     "metadata": {},
     "output_type": "execute_result"
    }
   ],
   "source": [
    "repliesdf.head()"
   ]
  },
  {
   "cell_type": "code",
   "execution_count": 78,
   "metadata": {},
   "outputs": [],
   "source": [
    "def pull_tweet_indices(tweet_id):\n",
    "    indices_array = np.where(repliesdf[\"To_Tweet_ID\"] == tweet_id)\n",
    "    return list(indices_array[0])\n",
    "\n",
    "    "
   ]
  },
  {
   "cell_type": "code",
   "execution_count": 79,
   "metadata": {},
   "outputs": [],
   "source": [
    "#defining function to pull a set of 35 common words from each set of replies to a given tweet\n",
    "\n",
    "def bag_of_words(tweet_id):\n",
    "    all_words = []\n",
    "\n",
    "    indices = pull_tweet_indices(tweet_id)\n",
    "    \n",
    "    for i in indices:\n",
    "        some_words = [w for w in repliesdf[\"NLP_Reply\"].iloc[indices][i]]\n",
    "        all_words.append(some_words)\n",
    "    all_words_joined = list(itertools.chain.from_iterable(all_words))\n",
    "    toks = [token.lemma_ for token in all_words_joined if not (token.is_punct or token.is_stop)]\n",
    "    \n",
    "    return [item[0] for item in Counter(toks).most_common(35)]"
   ]
  },
  {
   "cell_type": "code",
   "execution_count": 80,
   "metadata": {},
   "outputs": [],
   "source": [
    "#combining all 35-word sets into one common set of words\n",
    "\n",
    "common_words = []\n",
    "\n",
    "for j in range(len(repliesdf[\"To_Tweet_ID\"].unique())):\n",
    "    bow = bag_of_words(repliesdf[\"To_Tweet_ID\"].unique()[j])\n",
    "    common_words.append(bow)\n",
    "\n",
    "common_words_joined = list(itertools.chain.from_iterable(common_words))\n",
    "common_frequent_words = set(common_words_joined)"
   ]
  },
  {
   "cell_type": "code",
   "execution_count": 82,
   "metadata": {},
   "outputs": [],
   "source": [
    "#defining a function that counts how many times each of the common words shows up in a given reply\n",
    "\n",
    "def bow_features(tweets, common_words):\n",
    "    \n",
    "    df = pd.DataFrame(columns=common_words)\n",
    "    df['Reply'] = tweets.iloc[:, 3]\n",
    "    df['To_Tweet_ID'] = tweets.iloc[:, 1]\n",
    "    df.loc[:, common_words] = 0\n",
    "    df.head()\n",
    "    \n",
    "    for i, tweet in enumerate(df['Reply']):\n",
    "        \n",
    "        # Convert the sentence to lemmas, then filter out punctuation,\n",
    "        # stop words, and uncommon words.\n",
    "        \n",
    "        \n",
    "        words = [w for w in tweet]\n",
    "        toks = [token.lemma_ for token in words if not (token.is_punct or token.is_stop)]\n",
    "    \n",
    "        \n",
    "        \n",
    "        # Populate the row with word counts.\n",
    "        for tok in toks:\n",
    "           # df.loc[i, tok] += 1\n",
    "            try:\n",
    "                df.loc[i,tok] +=1\n",
    "            except KeyError:\n",
    "                df.loc[i,tok] = 1\n",
    "        \n",
    "        # This counter is just to make sure the kernel didn't hang.\n",
    "        if i % 50 == 0:\n",
    "            print(\"Processing row {}\".format(i))\n",
    "            \n",
    "    return df"
   ]
  },
  {
   "cell_type": "code",
   "execution_count": 83,
   "metadata": {},
   "outputs": [
    {
     "name": "stdout",
     "output_type": "stream",
     "text": [
      "Processing row 0\n",
      "Processing row 50\n",
      "Processing row 100\n",
      "Processing row 150\n",
      "Processing row 200\n",
      "Processing row 250\n",
      "Processing row 300\n",
      "Processing row 350\n",
      "Processing row 400\n",
      "Processing row 450\n",
      "Processing row 500\n",
      "Processing row 550\n",
      "Processing row 600\n",
      "Processing row 650\n",
      "Processing row 700\n",
      "Processing row 750\n",
      "Processing row 800\n",
      "Processing row 850\n",
      "Processing row 900\n",
      "Processing row 950\n",
      "Processing row 1000\n",
      "Processing row 1050\n",
      "Processing row 1100\n"
     ]
    }
   ],
   "source": [
    "word_counts = bow_features(repliesdf, common_frequent_words)"
   ]
  },
  {
   "cell_type": "code",
   "execution_count": 84,
   "metadata": {},
   "outputs": [
    {
     "data": {
      "text/html": [
       "<div>\n",
       "<style scoped>\n",
       "    .dataframe tbody tr th:only-of-type {\n",
       "        vertical-align: middle;\n",
       "    }\n",
       "\n",
       "    .dataframe tbody tr th {\n",
       "        vertical-align: top;\n",
       "    }\n",
       "\n",
       "    .dataframe thead th {\n",
       "        text-align: right;\n",
       "    }\n",
       "</style>\n",
       "<table border=\"1\" class=\"dataframe\">\n",
       "  <thead>\n",
       "    <tr style=\"text-align: right;\">\n",
       "      <th></th>\n",
       "      <th>well</th>\n",
       "      <th></th>\n",
       "      <th>https://t.co/o4aftsjbum</th>\n",
       "      <th>@disupdat</th>\n",
       "      <th>incident</th>\n",
       "      <th>autograph</th>\n",
       "      <th>emoji</th>\n",
       "      <th>intro</th>\n",
       "      <th>rush</th>\n",
       "      <th>what</th>\n",
       "      <th>...</th>\n",
       "      <th>comeback</th>\n",
       "      <th>https://t.co/jvitsmguyd</th>\n",
       "      <th>jeez</th>\n",
       "      <th>vamo</th>\n",
       "      <th>porra</th>\n",
       "      <th>https://t.co/wryutafljq</th>\n",
       "      <th>please</th>\n",
       "      <th>bed</th>\n",
       "      <th>confused</th>\n",
       "      <th>table</th>\n",
       "    </tr>\n",
       "  </thead>\n",
       "  <tbody>\n",
       "    <tr>\n",
       "      <th>0</th>\n",
       "      <td>0</td>\n",
       "      <td>0</td>\n",
       "      <td>0</td>\n",
       "      <td>0</td>\n",
       "      <td>0</td>\n",
       "      <td>0</td>\n",
       "      <td>0</td>\n",
       "      <td>0</td>\n",
       "      <td>0</td>\n",
       "      <td>0</td>\n",
       "      <td>...</td>\n",
       "      <td>NaN</td>\n",
       "      <td>NaN</td>\n",
       "      <td>NaN</td>\n",
       "      <td>NaN</td>\n",
       "      <td>NaN</td>\n",
       "      <td>NaN</td>\n",
       "      <td>NaN</td>\n",
       "      <td>NaN</td>\n",
       "      <td>NaN</td>\n",
       "      <td>NaN</td>\n",
       "    </tr>\n",
       "    <tr>\n",
       "      <th>1</th>\n",
       "      <td>0</td>\n",
       "      <td>0</td>\n",
       "      <td>0</td>\n",
       "      <td>0</td>\n",
       "      <td>0</td>\n",
       "      <td>0</td>\n",
       "      <td>0</td>\n",
       "      <td>0</td>\n",
       "      <td>0</td>\n",
       "      <td>0</td>\n",
       "      <td>...</td>\n",
       "      <td>NaN</td>\n",
       "      <td>NaN</td>\n",
       "      <td>NaN</td>\n",
       "      <td>NaN</td>\n",
       "      <td>NaN</td>\n",
       "      <td>NaN</td>\n",
       "      <td>NaN</td>\n",
       "      <td>NaN</td>\n",
       "      <td>NaN</td>\n",
       "      <td>NaN</td>\n",
       "    </tr>\n",
       "    <tr>\n",
       "      <th>2</th>\n",
       "      <td>0</td>\n",
       "      <td>0</td>\n",
       "      <td>0</td>\n",
       "      <td>0</td>\n",
       "      <td>0</td>\n",
       "      <td>0</td>\n",
       "      <td>0</td>\n",
       "      <td>0</td>\n",
       "      <td>0</td>\n",
       "      <td>0</td>\n",
       "      <td>...</td>\n",
       "      <td>NaN</td>\n",
       "      <td>NaN</td>\n",
       "      <td>NaN</td>\n",
       "      <td>NaN</td>\n",
       "      <td>NaN</td>\n",
       "      <td>NaN</td>\n",
       "      <td>NaN</td>\n",
       "      <td>NaN</td>\n",
       "      <td>NaN</td>\n",
       "      <td>NaN</td>\n",
       "    </tr>\n",
       "    <tr>\n",
       "      <th>3</th>\n",
       "      <td>0</td>\n",
       "      <td>0</td>\n",
       "      <td>0</td>\n",
       "      <td>0</td>\n",
       "      <td>0</td>\n",
       "      <td>0</td>\n",
       "      <td>0</td>\n",
       "      <td>0</td>\n",
       "      <td>0</td>\n",
       "      <td>0</td>\n",
       "      <td>...</td>\n",
       "      <td>NaN</td>\n",
       "      <td>NaN</td>\n",
       "      <td>NaN</td>\n",
       "      <td>NaN</td>\n",
       "      <td>NaN</td>\n",
       "      <td>NaN</td>\n",
       "      <td>NaN</td>\n",
       "      <td>NaN</td>\n",
       "      <td>NaN</td>\n",
       "      <td>NaN</td>\n",
       "    </tr>\n",
       "    <tr>\n",
       "      <th>4</th>\n",
       "      <td>0</td>\n",
       "      <td>0</td>\n",
       "      <td>0</td>\n",
       "      <td>0</td>\n",
       "      <td>0</td>\n",
       "      <td>0</td>\n",
       "      <td>0</td>\n",
       "      <td>0</td>\n",
       "      <td>0</td>\n",
       "      <td>0</td>\n",
       "      <td>...</td>\n",
       "      <td>NaN</td>\n",
       "      <td>NaN</td>\n",
       "      <td>NaN</td>\n",
       "      <td>NaN</td>\n",
       "      <td>NaN</td>\n",
       "      <td>NaN</td>\n",
       "      <td>NaN</td>\n",
       "      <td>NaN</td>\n",
       "      <td>NaN</td>\n",
       "      <td>NaN</td>\n",
       "    </tr>\n",
       "  </tbody>\n",
       "</table>\n",
       "<p>5 rows × 2395 columns</p>\n",
       "</div>"
      ],
      "text/plain": [
       "   well      https://t.co/o4aftsjbum @disupdat incident  autograph  emoji  \\\n",
       "0     0   0                        0         0        0          0      0   \n",
       "1     0   0                        0         0        0          0      0   \n",
       "2     0   0                        0         0        0          0      0   \n",
       "3     0   0                        0         0        0          0      0   \n",
       "4     0   0                        0         0        0          0      0   \n",
       "\n",
       "   intro rush  what  ...    comeback  https://t.co/jvitsmguyd  jeez vamo  \\\n",
       "0      0    0     0  ...         NaN                      NaN   NaN  NaN   \n",
       "1      0    0     0  ...         NaN                      NaN   NaN  NaN   \n",
       "2      0    0     0  ...         NaN                      NaN   NaN  NaN   \n",
       "3      0    0     0  ...         NaN                      NaN   NaN  NaN   \n",
       "4      0    0     0  ...         NaN                      NaN   NaN  NaN   \n",
       "\n",
       "   porra https://t.co/wryutafljq  please  bed  confused  table  \n",
       "0    NaN                     NaN     NaN  NaN       NaN    NaN  \n",
       "1    NaN                     NaN     NaN  NaN       NaN    NaN  \n",
       "2    NaN                     NaN     NaN  NaN       NaN    NaN  \n",
       "3    NaN                     NaN     NaN  NaN       NaN    NaN  \n",
       "4    NaN                     NaN     NaN  NaN       NaN    NaN  \n",
       "\n",
       "[5 rows x 2395 columns]"
      ]
     },
     "execution_count": 84,
     "metadata": {},
     "output_type": "execute_result"
    }
   ],
   "source": [
    "word_counts.head()"
   ]
  },
  {
   "cell_type": "code",
   "execution_count": 85,
   "metadata": {},
   "outputs": [
    {
     "data": {
      "text/plain": [
       "(1127, 2395)"
      ]
     },
     "execution_count": 85,
     "metadata": {},
     "output_type": "execute_result"
    }
   ],
   "source": [
    "word_counts.shape"
   ]
  },
  {
   "cell_type": "code",
   "execution_count": 86,
   "metadata": {},
   "outputs": [],
   "source": [
    "del word_counts[\"Reply\"]\n",
    "del word_counts[\"To_Tweet_ID\"]"
   ]
  },
  {
   "cell_type": "code",
   "execution_count": 87,
   "metadata": {},
   "outputs": [
    {
     "data": {
      "text/plain": [
       "(1127, 2393)"
      ]
     },
     "execution_count": 87,
     "metadata": {},
     "output_type": "execute_result"
    }
   ],
   "source": [
    "word_counts.shape"
   ]
  },
  {
   "cell_type": "code",
   "execution_count": 88,
   "metadata": {},
   "outputs": [],
   "source": [
    "word_counts[\"Reply\"] = repliesdf[\"NLP_Reply\"]\n",
    "word_counts[\"To_Tweet_ID\"] = repliesdf[\"To_Tweet_ID\"]\n",
    "word_counts[\"FTM?\"] = repliesdf[\"FTM?\"]"
   ]
  },
  {
   "cell_type": "code",
   "execution_count": 89,
   "metadata": {},
   "outputs": [
    {
     "data": {
      "text/html": [
       "<div>\n",
       "<style scoped>\n",
       "    .dataframe tbody tr th:only-of-type {\n",
       "        vertical-align: middle;\n",
       "    }\n",
       "\n",
       "    .dataframe tbody tr th {\n",
       "        vertical-align: top;\n",
       "    }\n",
       "\n",
       "    .dataframe thead th {\n",
       "        text-align: right;\n",
       "    }\n",
       "</style>\n",
       "<table border=\"1\" class=\"dataframe\">\n",
       "  <thead>\n",
       "    <tr style=\"text-align: right;\">\n",
       "      <th></th>\n",
       "      <th>well</th>\n",
       "      <th></th>\n",
       "      <th>https://t.co/o4aftsjbum</th>\n",
       "      <th>@disupdat</th>\n",
       "      <th>incident</th>\n",
       "      <th>autograph</th>\n",
       "      <th>emoji</th>\n",
       "      <th>intro</th>\n",
       "      <th>rush</th>\n",
       "      <th>what</th>\n",
       "      <th>...</th>\n",
       "      <th>vamo</th>\n",
       "      <th>porra</th>\n",
       "      <th>https://t.co/wryutafljq</th>\n",
       "      <th>please</th>\n",
       "      <th>bed</th>\n",
       "      <th>confused</th>\n",
       "      <th>table</th>\n",
       "      <th>Reply</th>\n",
       "      <th>To_Tweet_ID</th>\n",
       "      <th>FTM?</th>\n",
       "    </tr>\n",
       "  </thead>\n",
       "  <tbody>\n",
       "    <tr>\n",
       "      <th>0</th>\n",
       "      <td>0</td>\n",
       "      <td>0</td>\n",
       "      <td>0</td>\n",
       "      <td>0</td>\n",
       "      <td>0</td>\n",
       "      <td>0</td>\n",
       "      <td>0</td>\n",
       "      <td>0</td>\n",
       "      <td>0</td>\n",
       "      <td>0</td>\n",
       "      <td>...</td>\n",
       "      <td>NaN</td>\n",
       "      <td>NaN</td>\n",
       "      <td>NaN</td>\n",
       "      <td>NaN</td>\n",
       "      <td>NaN</td>\n",
       "      <td>NaN</td>\n",
       "      <td>NaN</td>\n",
       "      <td>(@NikolaVucevic, @nikebasketball, Sta, je, to,...</td>\n",
       "      <td>1098235335132303362</td>\n",
       "      <td>1</td>\n",
       "    </tr>\n",
       "    <tr>\n",
       "      <th>1</th>\n",
       "      <td>0</td>\n",
       "      <td>0</td>\n",
       "      <td>0</td>\n",
       "      <td>0</td>\n",
       "      <td>0</td>\n",
       "      <td>0</td>\n",
       "      <td>0</td>\n",
       "      <td>0</td>\n",
       "      <td>0</td>\n",
       "      <td>0</td>\n",
       "      <td>...</td>\n",
       "      <td>NaN</td>\n",
       "      <td>NaN</td>\n",
       "      <td>NaN</td>\n",
       "      <td>NaN</td>\n",
       "      <td>NaN</td>\n",
       "      <td>NaN</td>\n",
       "      <td>NaN</td>\n",
       "      <td>(@NikolaVucevic, @nikebasketball, 💧, 💧, 💧)</td>\n",
       "      <td>1098235335132303362</td>\n",
       "      <td>1</td>\n",
       "    </tr>\n",
       "    <tr>\n",
       "      <th>2</th>\n",
       "      <td>0</td>\n",
       "      <td>0</td>\n",
       "      <td>0</td>\n",
       "      <td>0</td>\n",
       "      <td>0</td>\n",
       "      <td>0</td>\n",
       "      <td>0</td>\n",
       "      <td>0</td>\n",
       "      <td>0</td>\n",
       "      <td>0</td>\n",
       "      <td>...</td>\n",
       "      <td>NaN</td>\n",
       "      <td>NaN</td>\n",
       "      <td>NaN</td>\n",
       "      <td>NaN</td>\n",
       "      <td>NaN</td>\n",
       "      <td>NaN</td>\n",
       "      <td>NaN</td>\n",
       "      <td>(@NikolaVucevic, @nikebasketball, Shoe, game, ...</td>\n",
       "      <td>1098235335132303362</td>\n",
       "      <td>1</td>\n",
       "    </tr>\n",
       "    <tr>\n",
       "      <th>3</th>\n",
       "      <td>0</td>\n",
       "      <td>0</td>\n",
       "      <td>0</td>\n",
       "      <td>0</td>\n",
       "      <td>0</td>\n",
       "      <td>0</td>\n",
       "      <td>0</td>\n",
       "      <td>0</td>\n",
       "      <td>0</td>\n",
       "      <td>0</td>\n",
       "      <td>...</td>\n",
       "      <td>NaN</td>\n",
       "      <td>NaN</td>\n",
       "      <td>NaN</td>\n",
       "      <td>NaN</td>\n",
       "      <td>NaN</td>\n",
       "      <td>NaN</td>\n",
       "      <td>NaN</td>\n",
       "      <td>(@NikolaVucevic, @nikebasketball, #, MFFL)</td>\n",
       "      <td>1098235335132303362</td>\n",
       "      <td>1</td>\n",
       "    </tr>\n",
       "    <tr>\n",
       "      <th>4</th>\n",
       "      <td>0</td>\n",
       "      <td>0</td>\n",
       "      <td>0</td>\n",
       "      <td>0</td>\n",
       "      <td>0</td>\n",
       "      <td>0</td>\n",
       "      <td>0</td>\n",
       "      <td>0</td>\n",
       "      <td>0</td>\n",
       "      <td>0</td>\n",
       "      <td>...</td>\n",
       "      <td>NaN</td>\n",
       "      <td>NaN</td>\n",
       "      <td>NaN</td>\n",
       "      <td>NaN</td>\n",
       "      <td>NaN</td>\n",
       "      <td>NaN</td>\n",
       "      <td>NaN</td>\n",
       "      <td>(@NBAKicks, @NBA, @KDTrey5, https://t.co/4LtK8...</td>\n",
       "      <td>1097537733155786753</td>\n",
       "      <td>1</td>\n",
       "    </tr>\n",
       "  </tbody>\n",
       "</table>\n",
       "<p>5 rows × 2396 columns</p>\n",
       "</div>"
      ],
      "text/plain": [
       "   well      https://t.co/o4aftsjbum @disupdat incident  autograph  emoji  \\\n",
       "0     0   0                        0         0        0          0      0   \n",
       "1     0   0                        0         0        0          0      0   \n",
       "2     0   0                        0         0        0          0      0   \n",
       "3     0   0                        0         0        0          0      0   \n",
       "4     0   0                        0         0        0          0      0   \n",
       "\n",
       "   intro rush  what  ...   vamo  porra  https://t.co/wryutafljq please  bed  \\\n",
       "0      0    0     0  ...    NaN    NaN                      NaN    NaN  NaN   \n",
       "1      0    0     0  ...    NaN    NaN                      NaN    NaN  NaN   \n",
       "2      0    0     0  ...    NaN    NaN                      NaN    NaN  NaN   \n",
       "3      0    0     0  ...    NaN    NaN                      NaN    NaN  NaN   \n",
       "4      0    0     0  ...    NaN    NaN                      NaN    NaN  NaN   \n",
       "\n",
       "  confused  table                                              Reply  \\\n",
       "0      NaN    NaN  (@NikolaVucevic, @nikebasketball, Sta, je, to,...   \n",
       "1      NaN    NaN         (@NikolaVucevic, @nikebasketball, 💧, 💧, 💧)   \n",
       "2      NaN    NaN  (@NikolaVucevic, @nikebasketball, Shoe, game, ...   \n",
       "3      NaN    NaN         (@NikolaVucevic, @nikebasketball, #, MFFL)   \n",
       "4      NaN    NaN  (@NBAKicks, @NBA, @KDTrey5, https://t.co/4LtK8...   \n",
       "\n",
       "           To_Tweet_ID  FTM?  \n",
       "0  1098235335132303362     1  \n",
       "1  1098235335132303362     1  \n",
       "2  1098235335132303362     1  \n",
       "3  1098235335132303362     1  \n",
       "4  1097537733155786753     1  \n",
       "\n",
       "[5 rows x 2396 columns]"
      ]
     },
     "execution_count": 89,
     "metadata": {},
     "output_type": "execute_result"
    }
   ],
   "source": [
    "word_counts.head()"
   ]
  },
  {
   "cell_type": "code",
   "execution_count": 90,
   "metadata": {},
   "outputs": [],
   "source": [
    "#aggregating the bag of words data represent it visually\n",
    "\n",
    "\n",
    "words = []\n",
    "count = []\n",
    "\n",
    "for word in word_counts.loc[:, ~word_counts.columns.isin([\"Reply\", \"To_Tweet_ID\", \"FTM?\"])].columns:\n",
    "    words.append(word)\n",
    "    count.append(sum(word_counts[word]))\n",
    "    \n",
    "total_word_counts = pd.DataFrame()\n",
    "total_word_counts[\"word\"] = words\n",
    "total_word_counts[\"count\"] = count\n",
    "total_word_counts = total_word_counts.sort_values(\"count\", ascending=False)\n"
   ]
  },
  {
   "cell_type": "code",
   "execution_count": 91,
   "metadata": {},
   "outputs": [
    {
     "data": {
      "text/plain": [
       "Text(0.5, 0, 'Word')"
      ]
     },
     "execution_count": 91,
     "metadata": {},
     "output_type": "execute_result"
    },
    {
     "data": {
      "image/png": "[encoded data removed]",
      "text/plain": [
       "<Figure size 1080x1080 with 1 Axes>"
      ]
     },
     "metadata": {},
     "output_type": "display_data"
    }
   ],
   "source": [
    "import seaborn as sns\n",
    "\n",
    "sns.set(style=\"whitegrid\")\n",
    "sns.set(rc={\"figure.figsize\": (15,15)})\n",
    "ax = sns.barplot(x=total_word_counts[\"word\"][:50], y=total_word_counts[\"count\"][:50], data=total_word_counts)\n",
    "ax.set_xticklabels(total_word_counts[\"word\"][:50], rotation=90)\n",
    "ax.set_title(\"Fifty Most Frequent Words\", size=20)\n",
    "ax.set_ylabel(\"Count\", size=15)\n",
    "ax.set_xlabel(\"Word\", size=15)"
   ]
  },
  {
   "cell_type": "markdown",
   "metadata": {},
   "source": [
    "#### Aggregate BOW data by tweet"
   ]
  },
  {
   "cell_type": "code",
   "execution_count": 92,
   "metadata": {},
   "outputs": [
    {
     "data": {
      "text/plain": [
       "85"
      ]
     },
     "execution_count": 92,
     "metadata": {},
     "output_type": "execute_result"
    }
   ],
   "source": [
    "len(word_counts[\"To_Tweet_ID\"].unique())"
   ]
  },
  {
   "cell_type": "code",
   "execution_count": 93,
   "metadata": {},
   "outputs": [],
   "source": [
    "aggregated_word_counts = pd.DataFrame(columns=common_frequent_words)\n",
    "\n",
    "for i, ID in enumerate(word_counts[\"To_Tweet_ID\"].unique()):\n",
    "    indices = list(np.where(word_counts[\"To_Tweet_ID\"] == ID)[0])\n",
    "    sums = word_counts.iloc[indices].sum()\n",
    "    aggregated_word_counts.loc[i] = sums\n",
    "\n",
    "aggregated_word_counts[\"To_Tweet_ID\"] = word_counts[\"To_Tweet_ID\"].unique()"
   ]
  },
  {
   "cell_type": "code",
   "execution_count": 94,
   "metadata": {
    "scrolled": true
   },
   "outputs": [
    {
     "data": {
      "text/plain": [
       "(85, 1083)"
      ]
     },
     "execution_count": 94,
     "metadata": {},
     "output_type": "execute_result"
    }
   ],
   "source": [
    "aggregated_word_counts.shape"
   ]
  },
  {
   "cell_type": "code",
   "execution_count": 95,
   "metadata": {},
   "outputs": [
    {
     "data": {
      "text/html": [
       "<div>\n",
       "<style scoped>\n",
       "    .dataframe tbody tr th:only-of-type {\n",
       "        vertical-align: middle;\n",
       "    }\n",
       "\n",
       "    .dataframe tbody tr th {\n",
       "        vertical-align: top;\n",
       "    }\n",
       "\n",
       "    .dataframe thead th {\n",
       "        text-align: right;\n",
       "    }\n",
       "</style>\n",
       "<table border=\"1\" class=\"dataframe\">\n",
       "  <thead>\n",
       "    <tr style=\"text-align: right;\">\n",
       "      <th></th>\n",
       "      <th>well</th>\n",
       "      <th></th>\n",
       "      <th>https://t.co/o4aftsjbum</th>\n",
       "      <th>@disupdat</th>\n",
       "      <th>incident</th>\n",
       "      <th>autograph</th>\n",
       "      <th>emoji</th>\n",
       "      <th>intro</th>\n",
       "      <th>rush</th>\n",
       "      <th>what</th>\n",
       "      <th>...</th>\n",
       "      <th>frangin</th>\n",
       "      <th>2019</th>\n",
       "      <th>@russwest44</th>\n",
       "      <th>he</th>\n",
       "      <th>치치치치</th>\n",
       "      <th>son</th>\n",
       "      <th>draft</th>\n",
       "      <th>but</th>\n",
       "      <th>mano</th>\n",
       "      <th>To_Tweet_ID</th>\n",
       "    </tr>\n",
       "  </thead>\n",
       "  <tbody>\n",
       "    <tr>\n",
       "      <th>0</th>\n",
       "      <td>0</td>\n",
       "      <td>0</td>\n",
       "      <td>0</td>\n",
       "      <td>0</td>\n",
       "      <td>0</td>\n",
       "      <td>0</td>\n",
       "      <td>0</td>\n",
       "      <td>0</td>\n",
       "      <td>0</td>\n",
       "      <td>0</td>\n",
       "      <td>...</td>\n",
       "      <td>1</td>\n",
       "      <td>0</td>\n",
       "      <td>0</td>\n",
       "      <td>0</td>\n",
       "      <td>0</td>\n",
       "      <td>0</td>\n",
       "      <td>0</td>\n",
       "      <td>0</td>\n",
       "      <td>0</td>\n",
       "      <td>1098235335132303362</td>\n",
       "    </tr>\n",
       "    <tr>\n",
       "      <th>1</th>\n",
       "      <td>0</td>\n",
       "      <td>1</td>\n",
       "      <td>0</td>\n",
       "      <td>0</td>\n",
       "      <td>0</td>\n",
       "      <td>0</td>\n",
       "      <td>0</td>\n",
       "      <td>0</td>\n",
       "      <td>0</td>\n",
       "      <td>0</td>\n",
       "      <td>...</td>\n",
       "      <td>0</td>\n",
       "      <td>0</td>\n",
       "      <td>0</td>\n",
       "      <td>0</td>\n",
       "      <td>0</td>\n",
       "      <td>0</td>\n",
       "      <td>0</td>\n",
       "      <td>0</td>\n",
       "      <td>0</td>\n",
       "      <td>1097537733155786753</td>\n",
       "    </tr>\n",
       "    <tr>\n",
       "      <th>2</th>\n",
       "      <td>0</td>\n",
       "      <td>0</td>\n",
       "      <td>0</td>\n",
       "      <td>0</td>\n",
       "      <td>0</td>\n",
       "      <td>0</td>\n",
       "      <td>0</td>\n",
       "      <td>0</td>\n",
       "      <td>0</td>\n",
       "      <td>0</td>\n",
       "      <td>...</td>\n",
       "      <td>0</td>\n",
       "      <td>0</td>\n",
       "      <td>0</td>\n",
       "      <td>0</td>\n",
       "      <td>0</td>\n",
       "      <td>0</td>\n",
       "      <td>0</td>\n",
       "      <td>0</td>\n",
       "      <td>0</td>\n",
       "      <td>1097532955533160448</td>\n",
       "    </tr>\n",
       "    <tr>\n",
       "      <th>3</th>\n",
       "      <td>0</td>\n",
       "      <td>0</td>\n",
       "      <td>0</td>\n",
       "      <td>0</td>\n",
       "      <td>0</td>\n",
       "      <td>0</td>\n",
       "      <td>0</td>\n",
       "      <td>0</td>\n",
       "      <td>0</td>\n",
       "      <td>0</td>\n",
       "      <td>...</td>\n",
       "      <td>0</td>\n",
       "      <td>0</td>\n",
       "      <td>1</td>\n",
       "      <td>0</td>\n",
       "      <td>0</td>\n",
       "      <td>0</td>\n",
       "      <td>0</td>\n",
       "      <td>0</td>\n",
       "      <td>0</td>\n",
       "      <td>1097517678200270849</td>\n",
       "    </tr>\n",
       "    <tr>\n",
       "      <th>4</th>\n",
       "      <td>0</td>\n",
       "      <td>0</td>\n",
       "      <td>0</td>\n",
       "      <td>0</td>\n",
       "      <td>0</td>\n",
       "      <td>0</td>\n",
       "      <td>0</td>\n",
       "      <td>0</td>\n",
       "      <td>0</td>\n",
       "      <td>0</td>\n",
       "      <td>...</td>\n",
       "      <td>0</td>\n",
       "      <td>0</td>\n",
       "      <td>0</td>\n",
       "      <td>0</td>\n",
       "      <td>0</td>\n",
       "      <td>0</td>\n",
       "      <td>0</td>\n",
       "      <td>0</td>\n",
       "      <td>0</td>\n",
       "      <td>1097498653986603008</td>\n",
       "    </tr>\n",
       "  </tbody>\n",
       "</table>\n",
       "<p>5 rows × 1083 columns</p>\n",
       "</div>"
      ],
      "text/plain": [
       "  well    https://t.co/o4aftsjbum @disupdat incident autograph emoji intro  \\\n",
       "0    0  0                       0         0        0         0     0     0   \n",
       "1    0  1                       0         0        0         0     0     0   \n",
       "2    0  0                       0         0        0         0     0     0   \n",
       "3    0  0                       0         0        0         0     0     0   \n",
       "4    0  0                       0         0        0         0     0     0   \n",
       "\n",
       "  rush what         ...          frangin 2019 @russwest44 he 치치치치 son draft  \\\n",
       "0    0    0         ...                1    0           0  0    0   0     0   \n",
       "1    0    0         ...                0    0           0  0    0   0     0   \n",
       "2    0    0         ...                0    0           0  0    0   0     0   \n",
       "3    0    0         ...                0    0           1  0    0   0     0   \n",
       "4    0    0         ...                0    0           0  0    0   0     0   \n",
       "\n",
       "  but mano          To_Tweet_ID  \n",
       "0   0    0  1098235335132303362  \n",
       "1   0    0  1097537733155786753  \n",
       "2   0    0  1097532955533160448  \n",
       "3   0    0  1097517678200270849  \n",
       "4   0    0  1097498653986603008  \n",
       "\n",
       "[5 rows x 1083 columns]"
      ]
     },
     "execution_count": 95,
     "metadata": {},
     "output_type": "execute_result"
    }
   ],
   "source": [
    "aggregated_word_counts.head()"
   ]
  },
  {
   "cell_type": "code",
   "execution_count": 96,
   "metadata": {},
   "outputs": [],
   "source": [
    "aggregated_word_counts[\"To_Tweet_ID\"] = word_counts[\"To_Tweet_ID\"].unique()"
   ]
  },
  {
   "cell_type": "markdown",
   "metadata": {},
   "source": [
    "### Preparing the Data for Modeling"
   ]
  },
  {
   "cell_type": "markdown",
   "metadata": {},
   "source": [
    "**BOW Features**"
   ]
  },
  {
   "cell_type": "code",
   "execution_count": 97,
   "metadata": {},
   "outputs": [],
   "source": [
    "aggregated_word_counts[\"To_Tweet_ID\"] = word_counts[\"To_Tweet_ID\"].unique()"
   ]
  },
  {
   "cell_type": "code",
   "execution_count": 98,
   "metadata": {
    "scrolled": true
   },
   "outputs": [
    {
     "data": {
      "text/html": [
       "<div>\n",
       "<style scoped>\n",
       "    .dataframe tbody tr th:only-of-type {\n",
       "        vertical-align: middle;\n",
       "    }\n",
       "\n",
       "    .dataframe tbody tr th {\n",
       "        vertical-align: top;\n",
       "    }\n",
       "\n",
       "    .dataframe thead th {\n",
       "        text-align: right;\n",
       "    }\n",
       "</style>\n",
       "<table border=\"1\" class=\"dataframe\">\n",
       "  <thead>\n",
       "    <tr style=\"text-align: right;\">\n",
       "      <th></th>\n",
       "      <th>well</th>\n",
       "      <th></th>\n",
       "      <th>https://t.co/o4aftsjbum</th>\n",
       "      <th>@disupdat</th>\n",
       "      <th>incident</th>\n",
       "      <th>autograph</th>\n",
       "      <th>emoji</th>\n",
       "      <th>intro</th>\n",
       "      <th>rush</th>\n",
       "      <th>what</th>\n",
       "      <th>...</th>\n",
       "      <th>he</th>\n",
       "      <th>치치치치</th>\n",
       "      <th>son</th>\n",
       "      <th>draft</th>\n",
       "      <th>but</th>\n",
       "      <th>mano</th>\n",
       "      <th>To_Tweet_ID</th>\n",
       "      <th>Total_Followers</th>\n",
       "      <th>Num_Likes</th>\n",
       "      <th>Percent_Likes</th>\n",
       "    </tr>\n",
       "  </thead>\n",
       "  <tbody>\n",
       "    <tr>\n",
       "      <th>0</th>\n",
       "      <td>0</td>\n",
       "      <td>0</td>\n",
       "      <td>0</td>\n",
       "      <td>0</td>\n",
       "      <td>0</td>\n",
       "      <td>0</td>\n",
       "      <td>0</td>\n",
       "      <td>0</td>\n",
       "      <td>0</td>\n",
       "      <td>0</td>\n",
       "      <td>...</td>\n",
       "      <td>0</td>\n",
       "      <td>0</td>\n",
       "      <td>0</td>\n",
       "      <td>0</td>\n",
       "      <td>0</td>\n",
       "      <td>0</td>\n",
       "      <td>1098235335132303362</td>\n",
       "      <td>None</td>\n",
       "      <td>None</td>\n",
       "      <td>None</td>\n",
       "    </tr>\n",
       "    <tr>\n",
       "      <th>1</th>\n",
       "      <td>0</td>\n",
       "      <td>1</td>\n",
       "      <td>0</td>\n",
       "      <td>0</td>\n",
       "      <td>0</td>\n",
       "      <td>0</td>\n",
       "      <td>0</td>\n",
       "      <td>0</td>\n",
       "      <td>0</td>\n",
       "      <td>0</td>\n",
       "      <td>...</td>\n",
       "      <td>0</td>\n",
       "      <td>0</td>\n",
       "      <td>0</td>\n",
       "      <td>0</td>\n",
       "      <td>0</td>\n",
       "      <td>0</td>\n",
       "      <td>1097537733155786753</td>\n",
       "      <td>None</td>\n",
       "      <td>None</td>\n",
       "      <td>None</td>\n",
       "    </tr>\n",
       "    <tr>\n",
       "      <th>2</th>\n",
       "      <td>0</td>\n",
       "      <td>0</td>\n",
       "      <td>0</td>\n",
       "      <td>0</td>\n",
       "      <td>0</td>\n",
       "      <td>0</td>\n",
       "      <td>0</td>\n",
       "      <td>0</td>\n",
       "      <td>0</td>\n",
       "      <td>0</td>\n",
       "      <td>...</td>\n",
       "      <td>0</td>\n",
       "      <td>0</td>\n",
       "      <td>0</td>\n",
       "      <td>0</td>\n",
       "      <td>0</td>\n",
       "      <td>0</td>\n",
       "      <td>1097532955533160448</td>\n",
       "      <td>None</td>\n",
       "      <td>None</td>\n",
       "      <td>None</td>\n",
       "    </tr>\n",
       "    <tr>\n",
       "      <th>3</th>\n",
       "      <td>0</td>\n",
       "      <td>0</td>\n",
       "      <td>0</td>\n",
       "      <td>0</td>\n",
       "      <td>0</td>\n",
       "      <td>0</td>\n",
       "      <td>0</td>\n",
       "      <td>0</td>\n",
       "      <td>0</td>\n",
       "      <td>0</td>\n",
       "      <td>...</td>\n",
       "      <td>0</td>\n",
       "      <td>0</td>\n",
       "      <td>0</td>\n",
       "      <td>0</td>\n",
       "      <td>0</td>\n",
       "      <td>0</td>\n",
       "      <td>1097517678200270849</td>\n",
       "      <td>None</td>\n",
       "      <td>None</td>\n",
       "      <td>None</td>\n",
       "    </tr>\n",
       "    <tr>\n",
       "      <th>4</th>\n",
       "      <td>0</td>\n",
       "      <td>0</td>\n",
       "      <td>0</td>\n",
       "      <td>0</td>\n",
       "      <td>0</td>\n",
       "      <td>0</td>\n",
       "      <td>0</td>\n",
       "      <td>0</td>\n",
       "      <td>0</td>\n",
       "      <td>0</td>\n",
       "      <td>...</td>\n",
       "      <td>0</td>\n",
       "      <td>0</td>\n",
       "      <td>0</td>\n",
       "      <td>0</td>\n",
       "      <td>0</td>\n",
       "      <td>0</td>\n",
       "      <td>1097498653986603008</td>\n",
       "      <td>None</td>\n",
       "      <td>None</td>\n",
       "      <td>None</td>\n",
       "    </tr>\n",
       "  </tbody>\n",
       "</table>\n",
       "<p>5 rows × 1086 columns</p>\n",
       "</div>"
      ],
      "text/plain": [
       "  well    https://t.co/o4aftsjbum @disupdat incident autograph emoji intro  \\\n",
       "0    0  0                       0         0        0         0     0     0   \n",
       "1    0  1                       0         0        0         0     0     0   \n",
       "2    0  0                       0         0        0         0     0     0   \n",
       "3    0  0                       0         0        0         0     0     0   \n",
       "4    0  0                       0         0        0         0     0     0   \n",
       "\n",
       "  rush what      ...      he 치치치치 son draft but mano          To_Tweet_ID  \\\n",
       "0    0    0      ...       0    0   0     0   0    0  1098235335132303362   \n",
       "1    0    0      ...       0    0   0     0   0    0  1097537733155786753   \n",
       "2    0    0      ...       0    0   0     0   0    0  1097532955533160448   \n",
       "3    0    0      ...       0    0   0     0   0    0  1097517678200270849   \n",
       "4    0    0      ...       0    0   0     0   0    0  1097498653986603008   \n",
       "\n",
       "  Total_Followers Num_Likes Percent_Likes  \n",
       "0            None      None          None  \n",
       "1            None      None          None  \n",
       "2            None      None          None  \n",
       "3            None      None          None  \n",
       "4            None      None          None  \n",
       "\n",
       "[5 rows x 1086 columns]"
      ]
     },
     "execution_count": 98,
     "metadata": {},
     "output_type": "execute_result"
    }
   ],
   "source": [
    "#adding a percent_likes column to the aggregated BOW dataframe because that is the value I am predicting\n",
    "\n",
    "aggregated_word_counts[\"Total_Followers\"] = None\n",
    "aggregated_word_counts[\"Num_Likes\"] = None\n",
    "aggregated_word_counts[\"Percent_Likes\"] = None\n",
    "aggregated_word_counts.head()"
   ]
  },
  {
   "cell_type": "code",
   "execution_count": 99,
   "metadata": {},
   "outputs": [
    {
     "data": {
      "text/plain": [
       "(85, 1086)"
      ]
     },
     "execution_count": 99,
     "metadata": {},
     "output_type": "execute_result"
    }
   ],
   "source": [
    "aggregated_word_counts.shape"
   ]
  },
  {
   "cell_type": "code",
   "execution_count": 100,
   "metadata": {},
   "outputs": [],
   "source": [
    "#bringing in number of likes, followers, and percent_liked\n",
    "\n",
    "likes_list = []\n",
    "\n",
    "for i in range(aggregated_word_counts.shape[0]):\n",
    "    ID = aggregated_word_counts[\"To_Tweet_ID\"].iloc[i]\n",
    "    if ID in list(FTM_df[\"Tweet_ID\"]):\n",
    "        n = np.where(FTM_df[\"Tweet_ID\"] == ID)\n",
    "        likes_list.append(FTM_df.iloc[int(n[0]), 1])\n",
    "    elif ID in list(Gen_df[\"Tweet_ID\"]):\n",
    "        n = np.where(Gen_df[\"Tweet_ID\"] == ID)\n",
    "        likes_list.append(Gen_df.iloc[int(n[0]), 4])\n",
    "    else:\n",
    "        likes_list.append(\"Not found\")\n",
    "        \n",
    "aggregated_word_counts[\"Num_Likes\"] = likes_list"
   ]
  },
  {
   "cell_type": "code",
   "execution_count": 86,
   "metadata": {},
   "outputs": [
    {
     "data": {
      "text/html": [
       "<div>\n",
       "<style scoped>\n",
       "    .dataframe tbody tr th:only-of-type {\n",
       "        vertical-align: middle;\n",
       "    }\n",
       "\n",
       "    .dataframe tbody tr th {\n",
       "        vertical-align: top;\n",
       "    }\n",
       "\n",
       "    .dataframe thead th {\n",
       "        text-align: right;\n",
       "    }\n",
       "</style>\n",
       "<table border=\"1\" class=\"dataframe\">\n",
       "  <thead>\n",
       "    <tr style=\"text-align: right;\">\n",
       "      <th></th>\n",
       "      <th>🤙</th>\n",
       "      <th>🇺</th>\n",
       "      <th>vucevic</th>\n",
       "      <th>now</th>\n",
       "      <th>describe</th>\n",
       "      <th>powerful</th>\n",
       "      <th>dope</th>\n",
       "      <th>no.1</th>\n",
       "      <th>🤤</th>\n",
       "      <th>@alexbowman88</th>\n",
       "      <th>...</th>\n",
       "      <th>https://t.co/vpo5sjkd5f</th>\n",
       "      <th>@jearnhardt1</th>\n",
       "      <th>racing</th>\n",
       "      <th>yeah</th>\n",
       "      <th>jimmie</th>\n",
       "      <th>😅</th>\n",
       "      <th>To_Tweet_ID</th>\n",
       "      <th>Total_Followers</th>\n",
       "      <th>Num_Likes</th>\n",
       "      <th>Percent_Likes</th>\n",
       "    </tr>\n",
       "  </thead>\n",
       "  <tbody>\n",
       "    <tr>\n",
       "      <th>0</th>\n",
       "      <td>NaN</td>\n",
       "      <td>NaN</td>\n",
       "      <td>0</td>\n",
       "      <td>NaN</td>\n",
       "      <td>NaN</td>\n",
       "      <td>NaN</td>\n",
       "      <td>0</td>\n",
       "      <td>NaN</td>\n",
       "      <td>NaN</td>\n",
       "      <td>NaN</td>\n",
       "      <td>...</td>\n",
       "      <td>NaN</td>\n",
       "      <td>NaN</td>\n",
       "      <td>0</td>\n",
       "      <td>0</td>\n",
       "      <td>0</td>\n",
       "      <td>NaN</td>\n",
       "      <td>1098235335132303362</td>\n",
       "      <td>None</td>\n",
       "      <td>193</td>\n",
       "      <td>None</td>\n",
       "    </tr>\n",
       "    <tr>\n",
       "      <th>1</th>\n",
       "      <td>NaN</td>\n",
       "      <td>NaN</td>\n",
       "      <td>0</td>\n",
       "      <td>NaN</td>\n",
       "      <td>NaN</td>\n",
       "      <td>NaN</td>\n",
       "      <td>0</td>\n",
       "      <td>NaN</td>\n",
       "      <td>NaN</td>\n",
       "      <td>NaN</td>\n",
       "      <td>...</td>\n",
       "      <td>NaN</td>\n",
       "      <td>NaN</td>\n",
       "      <td>0</td>\n",
       "      <td>0</td>\n",
       "      <td>0</td>\n",
       "      <td>NaN</td>\n",
       "      <td>1097537733155786753</td>\n",
       "      <td>None</td>\n",
       "      <td>1582</td>\n",
       "      <td>None</td>\n",
       "    </tr>\n",
       "    <tr>\n",
       "      <th>2</th>\n",
       "      <td>NaN</td>\n",
       "      <td>NaN</td>\n",
       "      <td>0</td>\n",
       "      <td>NaN</td>\n",
       "      <td>NaN</td>\n",
       "      <td>NaN</td>\n",
       "      <td>0</td>\n",
       "      <td>NaN</td>\n",
       "      <td>NaN</td>\n",
       "      <td>NaN</td>\n",
       "      <td>...</td>\n",
       "      <td>NaN</td>\n",
       "      <td>NaN</td>\n",
       "      <td>0</td>\n",
       "      <td>0</td>\n",
       "      <td>0</td>\n",
       "      <td>NaN</td>\n",
       "      <td>1097532955533160448</td>\n",
       "      <td>None</td>\n",
       "      <td>916</td>\n",
       "      <td>None</td>\n",
       "    </tr>\n",
       "    <tr>\n",
       "      <th>3</th>\n",
       "      <td>NaN</td>\n",
       "      <td>NaN</td>\n",
       "      <td>0</td>\n",
       "      <td>NaN</td>\n",
       "      <td>NaN</td>\n",
       "      <td>NaN</td>\n",
       "      <td>0</td>\n",
       "      <td>NaN</td>\n",
       "      <td>NaN</td>\n",
       "      <td>NaN</td>\n",
       "      <td>...</td>\n",
       "      <td>NaN</td>\n",
       "      <td>NaN</td>\n",
       "      <td>0</td>\n",
       "      <td>0</td>\n",
       "      <td>0</td>\n",
       "      <td>NaN</td>\n",
       "      <td>1097517678200270849</td>\n",
       "      <td>None</td>\n",
       "      <td>972</td>\n",
       "      <td>None</td>\n",
       "    </tr>\n",
       "    <tr>\n",
       "      <th>4</th>\n",
       "      <td>NaN</td>\n",
       "      <td>NaN</td>\n",
       "      <td>0</td>\n",
       "      <td>NaN</td>\n",
       "      <td>NaN</td>\n",
       "      <td>NaN</td>\n",
       "      <td>0</td>\n",
       "      <td>NaN</td>\n",
       "      <td>NaN</td>\n",
       "      <td>NaN</td>\n",
       "      <td>...</td>\n",
       "      <td>NaN</td>\n",
       "      <td>NaN</td>\n",
       "      <td>0</td>\n",
       "      <td>0</td>\n",
       "      <td>0</td>\n",
       "      <td>NaN</td>\n",
       "      <td>1097498653986603008</td>\n",
       "      <td>None</td>\n",
       "      <td>966</td>\n",
       "      <td>None</td>\n",
       "    </tr>\n",
       "  </tbody>\n",
       "</table>\n",
       "<p>5 rows × 1086 columns</p>\n",
       "</div>"
      ],
      "text/plain": [
       "     🤙    🇺 vucevic  now describe powerful dope no.1    🤤 @alexbowman88  \\\n",
       "0  NaN  NaN       0  NaN      NaN      NaN    0  NaN  NaN           NaN   \n",
       "1  NaN  NaN       0  NaN      NaN      NaN    0  NaN  NaN           NaN   \n",
       "2  NaN  NaN       0  NaN      NaN      NaN    0  NaN  NaN           NaN   \n",
       "3  NaN  NaN       0  NaN      NaN      NaN    0  NaN  NaN           NaN   \n",
       "4  NaN  NaN       0  NaN      NaN      NaN    0  NaN  NaN           NaN   \n",
       "\n",
       "       ...      https://t.co/vpo5sjkd5f @jearnhardt1 racing yeah jimmie    😅  \\\n",
       "0      ...                          NaN          NaN      0    0      0  NaN   \n",
       "1      ...                          NaN          NaN      0    0      0  NaN   \n",
       "2      ...                          NaN          NaN      0    0      0  NaN   \n",
       "3      ...                          NaN          NaN      0    0      0  NaN   \n",
       "4      ...                          NaN          NaN      0    0      0  NaN   \n",
       "\n",
       "           To_Tweet_ID Total_Followers Num_Likes Percent_Likes  \n",
       "0  1098235335132303362            None       193          None  \n",
       "1  1097537733155786753            None      1582          None  \n",
       "2  1097532955533160448            None       916          None  \n",
       "3  1097517678200270849            None       972          None  \n",
       "4  1097498653986603008            None       966          None  \n",
       "\n",
       "[5 rows x 1086 columns]"
      ]
     },
     "execution_count": 86,
     "metadata": {},
     "output_type": "execute_result"
    }
   ],
   "source": [
    "aggregated_word_counts.head()"
   ]
  },
  {
   "cell_type": "code",
   "execution_count": 101,
   "metadata": {},
   "outputs": [],
   "source": [
    "followers_list = []\n",
    "\n",
    "for i in range(aggregated_word_counts.shape[0]):\n",
    "    ID = aggregated_word_counts[\"To_Tweet_ID\"].iloc[i]\n",
    "    if ID in list(FTM_df[\"Tweet_ID\"]):\n",
    "        n = np.where(FTM_df[\"Tweet_ID\"] == ID)\n",
    "        followers_list.append(FTM_df.iloc[int(n[0]), 3])\n",
    "    elif ID in list(Gen_df[\"Tweet_ID\"]):\n",
    "        n = np.where(Gen_df[\"Tweet_ID\"] == ID)\n",
    "        followers_list.append(Gen_df.iloc[int(n[0]), 1])\n",
    "    else:\n",
    "        followers_list.append(\"Not found\")\n",
    "        \n",
    "aggregated_word_counts[\"Total_Followers\"] = followers_list\n",
    "    \n",
    "    \n",
    "\n",
    "        \n",
    "    "
   ]
  },
  {
   "cell_type": "code",
   "execution_count": 102,
   "metadata": {},
   "outputs": [
    {
     "data": {
      "text/html": [
       "<div>\n",
       "<style scoped>\n",
       "    .dataframe tbody tr th:only-of-type {\n",
       "        vertical-align: middle;\n",
       "    }\n",
       "\n",
       "    .dataframe tbody tr th {\n",
       "        vertical-align: top;\n",
       "    }\n",
       "\n",
       "    .dataframe thead th {\n",
       "        text-align: right;\n",
       "    }\n",
       "</style>\n",
       "<table border=\"1\" class=\"dataframe\">\n",
       "  <thead>\n",
       "    <tr style=\"text-align: right;\">\n",
       "      <th></th>\n",
       "      <th>well</th>\n",
       "      <th></th>\n",
       "      <th>https://t.co/o4aftsjbum</th>\n",
       "      <th>@disupdat</th>\n",
       "      <th>incident</th>\n",
       "      <th>autograph</th>\n",
       "      <th>emoji</th>\n",
       "      <th>intro</th>\n",
       "      <th>rush</th>\n",
       "      <th>what</th>\n",
       "      <th>...</th>\n",
       "      <th>he</th>\n",
       "      <th>치치치치</th>\n",
       "      <th>son</th>\n",
       "      <th>draft</th>\n",
       "      <th>but</th>\n",
       "      <th>mano</th>\n",
       "      <th>To_Tweet_ID</th>\n",
       "      <th>Total_Followers</th>\n",
       "      <th>Num_Likes</th>\n",
       "      <th>Percent_Likes</th>\n",
       "    </tr>\n",
       "  </thead>\n",
       "  <tbody>\n",
       "    <tr>\n",
       "      <th>0</th>\n",
       "      <td>0</td>\n",
       "      <td>0</td>\n",
       "      <td>0</td>\n",
       "      <td>0</td>\n",
       "      <td>0</td>\n",
       "      <td>0</td>\n",
       "      <td>0</td>\n",
       "      <td>0</td>\n",
       "      <td>0</td>\n",
       "      <td>0</td>\n",
       "      <td>...</td>\n",
       "      <td>0</td>\n",
       "      <td>0</td>\n",
       "      <td>0</td>\n",
       "      <td>0</td>\n",
       "      <td>0</td>\n",
       "      <td>0</td>\n",
       "      <td>1098235335132303362</td>\n",
       "      <td>72400</td>\n",
       "      <td>193</td>\n",
       "      <td>None</td>\n",
       "    </tr>\n",
       "    <tr>\n",
       "      <th>1</th>\n",
       "      <td>0</td>\n",
       "      <td>1</td>\n",
       "      <td>0</td>\n",
       "      <td>0</td>\n",
       "      <td>0</td>\n",
       "      <td>0</td>\n",
       "      <td>0</td>\n",
       "      <td>0</td>\n",
       "      <td>0</td>\n",
       "      <td>0</td>\n",
       "      <td>...</td>\n",
       "      <td>0</td>\n",
       "      <td>0</td>\n",
       "      <td>0</td>\n",
       "      <td>0</td>\n",
       "      <td>0</td>\n",
       "      <td>0</td>\n",
       "      <td>1097537733155786753</td>\n",
       "      <td>17800</td>\n",
       "      <td>1582</td>\n",
       "      <td>None</td>\n",
       "    </tr>\n",
       "    <tr>\n",
       "      <th>2</th>\n",
       "      <td>0</td>\n",
       "      <td>0</td>\n",
       "      <td>0</td>\n",
       "      <td>0</td>\n",
       "      <td>0</td>\n",
       "      <td>0</td>\n",
       "      <td>0</td>\n",
       "      <td>0</td>\n",
       "      <td>0</td>\n",
       "      <td>0</td>\n",
       "      <td>...</td>\n",
       "      <td>0</td>\n",
       "      <td>0</td>\n",
       "      <td>0</td>\n",
       "      <td>0</td>\n",
       "      <td>0</td>\n",
       "      <td>0</td>\n",
       "      <td>1097532955533160448</td>\n",
       "      <td>17800</td>\n",
       "      <td>916</td>\n",
       "      <td>None</td>\n",
       "    </tr>\n",
       "    <tr>\n",
       "      <th>3</th>\n",
       "      <td>0</td>\n",
       "      <td>0</td>\n",
       "      <td>0</td>\n",
       "      <td>0</td>\n",
       "      <td>0</td>\n",
       "      <td>0</td>\n",
       "      <td>0</td>\n",
       "      <td>0</td>\n",
       "      <td>0</td>\n",
       "      <td>0</td>\n",
       "      <td>...</td>\n",
       "      <td>0</td>\n",
       "      <td>0</td>\n",
       "      <td>0</td>\n",
       "      <td>0</td>\n",
       "      <td>0</td>\n",
       "      <td>0</td>\n",
       "      <td>1097517678200270849</td>\n",
       "      <td>17800</td>\n",
       "      <td>972</td>\n",
       "      <td>None</td>\n",
       "    </tr>\n",
       "    <tr>\n",
       "      <th>4</th>\n",
       "      <td>0</td>\n",
       "      <td>0</td>\n",
       "      <td>0</td>\n",
       "      <td>0</td>\n",
       "      <td>0</td>\n",
       "      <td>0</td>\n",
       "      <td>0</td>\n",
       "      <td>0</td>\n",
       "      <td>0</td>\n",
       "      <td>0</td>\n",
       "      <td>...</td>\n",
       "      <td>0</td>\n",
       "      <td>0</td>\n",
       "      <td>0</td>\n",
       "      <td>0</td>\n",
       "      <td>0</td>\n",
       "      <td>0</td>\n",
       "      <td>1097498653986603008</td>\n",
       "      <td>17800</td>\n",
       "      <td>966</td>\n",
       "      <td>None</td>\n",
       "    </tr>\n",
       "  </tbody>\n",
       "</table>\n",
       "<p>5 rows × 1086 columns</p>\n",
       "</div>"
      ],
      "text/plain": [
       "  well    https://t.co/o4aftsjbum @disupdat incident autograph emoji intro  \\\n",
       "0    0  0                       0         0        0         0     0     0   \n",
       "1    0  1                       0         0        0         0     0     0   \n",
       "2    0  0                       0         0        0         0     0     0   \n",
       "3    0  0                       0         0        0         0     0     0   \n",
       "4    0  0                       0         0        0         0     0     0   \n",
       "\n",
       "  rush what      ...      he 치치치치 son draft but mano          To_Tweet_ID  \\\n",
       "0    0    0      ...       0    0   0     0   0    0  1098235335132303362   \n",
       "1    0    0      ...       0    0   0     0   0    0  1097537733155786753   \n",
       "2    0    0      ...       0    0   0     0   0    0  1097532955533160448   \n",
       "3    0    0      ...       0    0   0     0   0    0  1097517678200270849   \n",
       "4    0    0      ...       0    0   0     0   0    0  1097498653986603008   \n",
       "\n",
       "  Total_Followers Num_Likes Percent_Likes  \n",
       "0           72400       193          None  \n",
       "1           17800      1582          None  \n",
       "2           17800       916          None  \n",
       "3           17800       972          None  \n",
       "4           17800       966          None  \n",
       "\n",
       "[5 rows x 1086 columns]"
      ]
     },
     "execution_count": 102,
     "metadata": {},
     "output_type": "execute_result"
    }
   ],
   "source": [
    "aggregated_word_counts.head()"
   ]
  },
  {
   "cell_type": "code",
   "execution_count": 103,
   "metadata": {},
   "outputs": [],
   "source": [
    "aggregated_word_counts[\"Percent_Likes\"] = aggregated_word_counts[\"Num_Likes\"] / aggregated_word_counts[\"Total_Followers\"]\n"
   ]
  },
  {
   "cell_type": "code",
   "execution_count": 104,
   "metadata": {},
   "outputs": [
    {
     "data": {
      "text/html": [
       "<div>\n",
       "<style scoped>\n",
       "    .dataframe tbody tr th:only-of-type {\n",
       "        vertical-align: middle;\n",
       "    }\n",
       "\n",
       "    .dataframe tbody tr th {\n",
       "        vertical-align: top;\n",
       "    }\n",
       "\n",
       "    .dataframe thead th {\n",
       "        text-align: right;\n",
       "    }\n",
       "</style>\n",
       "<table border=\"1\" class=\"dataframe\">\n",
       "  <thead>\n",
       "    <tr style=\"text-align: right;\">\n",
       "      <th></th>\n",
       "      <th>well</th>\n",
       "      <th></th>\n",
       "      <th>https://t.co/o4aftsjbum</th>\n",
       "      <th>@disupdat</th>\n",
       "      <th>incident</th>\n",
       "      <th>autograph</th>\n",
       "      <th>emoji</th>\n",
       "      <th>intro</th>\n",
       "      <th>rush</th>\n",
       "      <th>what</th>\n",
       "      <th>...</th>\n",
       "      <th>he</th>\n",
       "      <th>치치치치</th>\n",
       "      <th>son</th>\n",
       "      <th>draft</th>\n",
       "      <th>but</th>\n",
       "      <th>mano</th>\n",
       "      <th>To_Tweet_ID</th>\n",
       "      <th>Total_Followers</th>\n",
       "      <th>Num_Likes</th>\n",
       "      <th>Percent_Likes</th>\n",
       "    </tr>\n",
       "  </thead>\n",
       "  <tbody>\n",
       "    <tr>\n",
       "      <th>0</th>\n",
       "      <td>0</td>\n",
       "      <td>0</td>\n",
       "      <td>0</td>\n",
       "      <td>0</td>\n",
       "      <td>0</td>\n",
       "      <td>0</td>\n",
       "      <td>0</td>\n",
       "      <td>0</td>\n",
       "      <td>0</td>\n",
       "      <td>0</td>\n",
       "      <td>...</td>\n",
       "      <td>0</td>\n",
       "      <td>0</td>\n",
       "      <td>0</td>\n",
       "      <td>0</td>\n",
       "      <td>0</td>\n",
       "      <td>0</td>\n",
       "      <td>1098235335132303362</td>\n",
       "      <td>72400</td>\n",
       "      <td>193</td>\n",
       "      <td>0.002666</td>\n",
       "    </tr>\n",
       "    <tr>\n",
       "      <th>1</th>\n",
       "      <td>0</td>\n",
       "      <td>1</td>\n",
       "      <td>0</td>\n",
       "      <td>0</td>\n",
       "      <td>0</td>\n",
       "      <td>0</td>\n",
       "      <td>0</td>\n",
       "      <td>0</td>\n",
       "      <td>0</td>\n",
       "      <td>0</td>\n",
       "      <td>...</td>\n",
       "      <td>0</td>\n",
       "      <td>0</td>\n",
       "      <td>0</td>\n",
       "      <td>0</td>\n",
       "      <td>0</td>\n",
       "      <td>0</td>\n",
       "      <td>1097537733155786753</td>\n",
       "      <td>17800</td>\n",
       "      <td>1582</td>\n",
       "      <td>0.088876</td>\n",
       "    </tr>\n",
       "    <tr>\n",
       "      <th>2</th>\n",
       "      <td>0</td>\n",
       "      <td>0</td>\n",
       "      <td>0</td>\n",
       "      <td>0</td>\n",
       "      <td>0</td>\n",
       "      <td>0</td>\n",
       "      <td>0</td>\n",
       "      <td>0</td>\n",
       "      <td>0</td>\n",
       "      <td>0</td>\n",
       "      <td>...</td>\n",
       "      <td>0</td>\n",
       "      <td>0</td>\n",
       "      <td>0</td>\n",
       "      <td>0</td>\n",
       "      <td>0</td>\n",
       "      <td>0</td>\n",
       "      <td>1097532955533160448</td>\n",
       "      <td>17800</td>\n",
       "      <td>916</td>\n",
       "      <td>0.051461</td>\n",
       "    </tr>\n",
       "    <tr>\n",
       "      <th>3</th>\n",
       "      <td>0</td>\n",
       "      <td>0</td>\n",
       "      <td>0</td>\n",
       "      <td>0</td>\n",
       "      <td>0</td>\n",
       "      <td>0</td>\n",
       "      <td>0</td>\n",
       "      <td>0</td>\n",
       "      <td>0</td>\n",
       "      <td>0</td>\n",
       "      <td>...</td>\n",
       "      <td>0</td>\n",
       "      <td>0</td>\n",
       "      <td>0</td>\n",
       "      <td>0</td>\n",
       "      <td>0</td>\n",
       "      <td>0</td>\n",
       "      <td>1097517678200270849</td>\n",
       "      <td>17800</td>\n",
       "      <td>972</td>\n",
       "      <td>0.054607</td>\n",
       "    </tr>\n",
       "    <tr>\n",
       "      <th>4</th>\n",
       "      <td>0</td>\n",
       "      <td>0</td>\n",
       "      <td>0</td>\n",
       "      <td>0</td>\n",
       "      <td>0</td>\n",
       "      <td>0</td>\n",
       "      <td>0</td>\n",
       "      <td>0</td>\n",
       "      <td>0</td>\n",
       "      <td>0</td>\n",
       "      <td>...</td>\n",
       "      <td>0</td>\n",
       "      <td>0</td>\n",
       "      <td>0</td>\n",
       "      <td>0</td>\n",
       "      <td>0</td>\n",
       "      <td>0</td>\n",
       "      <td>1097498653986603008</td>\n",
       "      <td>17800</td>\n",
       "      <td>966</td>\n",
       "      <td>0.054270</td>\n",
       "    </tr>\n",
       "  </tbody>\n",
       "</table>\n",
       "<p>5 rows × 1086 columns</p>\n",
       "</div>"
      ],
      "text/plain": [
       "  well    https://t.co/o4aftsjbum @disupdat incident autograph emoji intro  \\\n",
       "0    0  0                       0         0        0         0     0     0   \n",
       "1    0  1                       0         0        0         0     0     0   \n",
       "2    0  0                       0         0        0         0     0     0   \n",
       "3    0  0                       0         0        0         0     0     0   \n",
       "4    0  0                       0         0        0         0     0     0   \n",
       "\n",
       "  rush what      ...      he 치치치치 son draft but mano          To_Tweet_ID  \\\n",
       "0    0    0      ...       0    0   0     0   0    0  1098235335132303362   \n",
       "1    0    0      ...       0    0   0     0   0    0  1097537733155786753   \n",
       "2    0    0      ...       0    0   0     0   0    0  1097532955533160448   \n",
       "3    0    0      ...       0    0   0     0   0    0  1097517678200270849   \n",
       "4    0    0      ...       0    0   0     0   0    0  1097498653986603008   \n",
       "\n",
       "  Total_Followers Num_Likes Percent_Likes  \n",
       "0           72400       193      0.002666  \n",
       "1           17800      1582      0.088876  \n",
       "2           17800       916      0.051461  \n",
       "3           17800       972      0.054607  \n",
       "4           17800       966      0.054270  \n",
       "\n",
       "[5 rows x 1086 columns]"
      ]
     },
     "execution_count": 104,
     "metadata": {},
     "output_type": "execute_result"
    }
   ],
   "source": [
    "aggregated_word_counts.head()"
   ]
  },
  {
   "cell_type": "code",
   "execution_count": 105,
   "metadata": {},
   "outputs": [],
   "source": [
    "aggregated_word_counts = aggregated_word_counts.fillna(0)\n"
   ]
  },
  {
   "cell_type": "code",
   "execution_count": 106,
   "metadata": {},
   "outputs": [],
   "source": [
    "#setting up training and test sets for both dataframes (word counts and word vectors)\n",
    "offset_c = int(aggregated_word_counts.shape[0] / 2)\n",
    "df_train_counts = aggregated_word_counts.iloc[:offset_c]\n",
    "df_test_counts = aggregated_word_counts.iloc[offset_c:]\n",
    "\n",
    "xc_train, yc_train = df_train_counts.loc[:, ~df_train_counts.columns.isin([\"To_Tweet_ID\", \"Total_Followers\", \n",
    "                                                       \"Num_Likes\", \"Percent_Likes\"])], df_train_counts[\"Percent_Likes\"]\n",
    "xc_test, yc_test = df_test_counts.loc[:, ~df_test_counts.columns.isin([\"To_Tweet_ID\", \"Total_Followers\", \n",
    "                                                       \"Num_Likes\", \"Percent_Likes\"])], df_test_counts[\"Percent_Likes\"]\n"
   ]
  },
  {
   "cell_type": "markdown",
   "metadata": {},
   "source": [
    "### Running word counts and word vectors through multiple supervised learning models"
   ]
  },
  {
   "cell_type": "code",
   "execution_count": 107,
   "metadata": {},
   "outputs": [
    {
     "name": "stdout",
     "output_type": "stream",
     "text": [
      "KNN Train Word Counts: MAE, MSE, RMSE\n",
      "0.0\n",
      "0.0\n",
      "0.0\n",
      "\n",
      "KNN Test Word Counts: MAE, MSE, RMSE\n",
      "0.024038046077317996\n",
      "0.0008329035052508493\n",
      "0.028860067658459315\n"
     ]
    }
   ],
   "source": [
    "#KNN Regression\n",
    "\n",
    "#word counts\n",
    "from sklearn.neighbors import KNeighborsRegressor\n",
    "from sklearn import metrics\n",
    "\n",
    "neighbors = KNeighborsRegressor(n_neighbors=10, weights=\"distance\")\n",
    "neighbors.fit(xc_train, yc_train)\n",
    "yc_pred_train = neighbors.predict(xc_train)\n",
    "\n",
    "print(\"KNN Train Word Counts: MAE, MSE, RMSE\")\n",
    "print(metrics.mean_absolute_error(yc_train, yc_pred_train))\n",
    "print(metrics.mean_squared_error(yc_train, yc_pred_train))\n",
    "print(np.sqrt(metrics.mean_squared_error(yc_train, yc_pred_train)))\n",
    "\n",
    "yc_pred_test = neighbors.predict(xc_test)\n",
    "\n",
    "print(\"\\nKNN Test Word Counts: MAE, MSE, RMSE\")\n",
    "print(metrics.mean_absolute_error(yc_test, yc_pred_test))\n",
    "print(metrics.mean_squared_error(yc_test, yc_pred_test))\n",
    "print(np.sqrt(metrics.mean_squared_error(yc_test, yc_pred_test)))\n"
   ]
  },
  {
   "cell_type": "code",
   "execution_count": 108,
   "metadata": {},
   "outputs": [
    {
     "name": "stdout",
     "output_type": "stream",
     "text": [
      "Linear Regression Train Word Counts: MAE, MSE, RMSE\n",
      "1.0289315584438157e-16\n",
      "2.473018533857078e-32\n",
      "1.5725833948815174e-16\n",
      "\n",
      "Linear Regression Test Word Counts: MAE, MSE, RMSE\n",
      "0.04967783683748322\n",
      "0.013285807422477099\n",
      "0.11526407689508947\n"
     ]
    }
   ],
   "source": [
    "#Linear regression\n",
    "from sklearn.linear_model import LinearRegression\n",
    "\n",
    "#word counts\n",
    "linear = LinearRegression(fit_intercept=True)\n",
    "linear.fit(xc_train, yc_train)\n",
    "yc_pred_train = linear.predict(xc_train)\n",
    "\n",
    "print(\"Linear Regression Train Word Counts: MAE, MSE, RMSE\")\n",
    "print(metrics.mean_absolute_error(yc_train, yc_pred_train))\n",
    "print(metrics.mean_squared_error(yc_train, yc_pred_train))\n",
    "print(np.sqrt(metrics.mean_squared_error(yc_train, yc_pred_train)))\n",
    "\n",
    "yc_pred_test = linear.predict(xc_test)\n",
    "\n",
    "print(\"\\nLinear Regression Test Word Counts: MAE, MSE, RMSE\")\n",
    "print(metrics.mean_absolute_error(yc_test, yc_pred_test))\n",
    "print(metrics.mean_squared_error(yc_test, yc_pred_test))\n",
    "print(np.sqrt(metrics.mean_squared_error(yc_test, yc_pred_test)))\n",
    "\n",
    "\n"
   ]
  },
  {
   "cell_type": "code",
   "execution_count": 109,
   "metadata": {},
   "outputs": [
    {
     "name": "stdout",
     "output_type": "stream",
     "text": [
      "Random Forest Train Word Counts: MAE, MSE, RMSE\n",
      "0.005121653738968165\n",
      "9.155688153624143e-05\n",
      "0.00956853601844302\n",
      "\n",
      "Random Forest Test Word Counts: MAE, MSE, RMSE\n",
      "0.00961589300655587\n",
      "0.00047225055377704317\n",
      "0.021731326553550364\n"
     ]
    },
    {
     "name": "stderr",
     "output_type": "stream",
     "text": [
      "/home/jtillis0317/anaconda3/lib/python3.7/site-packages/sklearn/ensemble/forest.py:246: FutureWarning: The default value of n_estimators will change from 10 in version 0.20 to 100 in 0.22.\n",
      "  \"10 in version 0.20 to 100 in 0.22.\", FutureWarning)\n"
     ]
    }
   ],
   "source": [
    "# Random Forest\n",
    "\n",
    "#word counts\n",
    "from sklearn import ensemble\n",
    "\n",
    "rfc = ensemble.RandomForestRegressor()\n",
    "\n",
    "rfc.fit(xc_train, yc_train)\n",
    "yc_pred_train = rfc.predict(xc_train)\n",
    "\n",
    "print(\"Random Forest Train Word Counts: MAE, MSE, RMSE\")\n",
    "print(metrics.mean_absolute_error(yc_train, yc_pred_train))\n",
    "print(metrics.mean_squared_error(yc_train, yc_pred_train))\n",
    "print(np.sqrt(metrics.mean_squared_error(yc_train, yc_pred_train)))\n",
    "\n",
    "yc_pred_test = rfc.predict(xc_test)\n",
    "\n",
    "print(\"\\nRandom Forest Test Word Counts: MAE, MSE, RMSE\")\n",
    "print(metrics.mean_absolute_error(yc_test, yc_pred_test))\n",
    "print(metrics.mean_squared_error(yc_test, yc_pred_test))\n",
    "print(np.sqrt(metrics.mean_squared_error(yc_test, yc_pred_test)))\n"
   ]
  },
  {
   "cell_type": "markdown",
   "metadata": {},
   "source": [
    "## Percent_Like as A Classification Problem\n",
    "\n",
    "After running various supervised learning models on the bag of words data as a regression model, the results were inconsistent and had high mean average errors (MAE). As such, I decided to change the problem into a classification problem. Because of the range in percent likes, I classified all tweets below the median percent likes as \"Below Average,\" all tweets between the median and the mean as \"Average,\" and all tweets above the mean of percent likes as \"Above Average.\"\n",
    "\n",
    "Now that I had a classification problem on my hands, I tried fitting and predicting the data with a decision tree, logistic regression (both lasso and ridge regression), a KNN classifier, and a Random Forest classifier."
   ]
  },
  {
   "cell_type": "markdown",
   "metadata": {},
   "source": [
    "**Decision Trees**"
   ]
  },
  {
   "cell_type": "code",
   "execution_count": 110,
   "metadata": {},
   "outputs": [],
   "source": [
    "yc_test_class = []\n",
    "\n",
    "for y in yc_test:\n",
    "    if y < yc_test.median():\n",
    "        yc_test_class.append(\"Below_Average\")\n",
    "    elif (y > yc_test.median()) and (y < yc_test.mean()):\n",
    "        yc_test_class.append(\"Average\")\n",
    "    elif y > yc_test.mean():\n",
    "        yc_test_class.append(\"Above_Average\")\n",
    "    else:\n",
    "        yc_test_class.append(\"Average\")\n",
    "        \n",
    "yc_train_class = []\n",
    "\n",
    "for y in yc_train:\n",
    "    if y < yc_train.median():\n",
    "        yc_train_class.append(\"Below_Average\")\n",
    "    elif (y > yc_train.median()) and (y < yc_train.mean()):\n",
    "        yc_train_class.append(\"Average\")\n",
    "    elif y > yc_train.mean():\n",
    "        yc_train_class.append(\"Above_Average\")\n",
    "    else:\n",
    "        yc_train_class.append(\"Average\")\n",
    "        "
   ]
  },
  {
   "cell_type": "code",
   "execution_count": 111,
   "metadata": {},
   "outputs": [
    {
     "data": {
      "image/png": "[encoded data removed]",
      "text/plain": [
       "<IPython.core.display.Image object>"
      ]
     },
     "execution_count": 111,
     "metadata": {},
     "output_type": "execute_result"
    }
   ],
   "source": [
    "from sklearn import tree\n",
    "from IPython.display import Image\n",
    "import pydotplus\n",
    "import graphviz\n",
    "from sklearn import tree\n",
    "from IPython.display import Image\n",
    "import matplotlib.pyplot as plt\n",
    "%matplotlib inline\n",
    "from sklearn import ensemble\n",
    "\n",
    "decision_tree = tree.DecisionTreeClassifier(\n",
    "    criterion='entropy',\n",
    "    max_features=2,\n",
    "    max_depth=4\n",
    ")\n",
    "model = decision_tree.fit(xc_train, yc_train_class)\n",
    "\n",
    "yc_pred_test = model.predict(xc_test)\n",
    "\n",
    "# Render our tree.\n",
    "dot_data = tree.export_graphviz(\n",
    "    model, out_file=None,\n",
    "    feature_names=xc_train.columns,\n",
    "    class_names=[\"Below_Average\", \"Average\", \"Above_Average\"],\n",
    "    filled=True\n",
    ")\n",
    "graph = pydotplus.graph_from_dot_data(dot_data)\n",
    "Image(graph.create_png())"
   ]
  },
  {
   "cell_type": "code",
   "execution_count": 112,
   "metadata": {},
   "outputs": [
    {
     "data": {
      "text/html": [
       "<div>\n",
       "<style scoped>\n",
       "    .dataframe tbody tr th:only-of-type {\n",
       "        vertical-align: middle;\n",
       "    }\n",
       "\n",
       "    .dataframe tbody tr th {\n",
       "        vertical-align: top;\n",
       "    }\n",
       "\n",
       "    .dataframe thead th {\n",
       "        text-align: right;\n",
       "    }\n",
       "</style>\n",
       "<table border=\"1\" class=\"dataframe\">\n",
       "  <thead>\n",
       "    <tr style=\"text-align: right;\">\n",
       "      <th>Prediction</th>\n",
       "      <th>Above_Average</th>\n",
       "      <th>Below_Average</th>\n",
       "    </tr>\n",
       "    <tr>\n",
       "      <th>Actual</th>\n",
       "      <th></th>\n",
       "      <th></th>\n",
       "    </tr>\n",
       "  </thead>\n",
       "  <tbody>\n",
       "    <tr>\n",
       "      <th>Above_Average</th>\n",
       "      <td>1</td>\n",
       "      <td>6</td>\n",
       "    </tr>\n",
       "    <tr>\n",
       "      <th>Average</th>\n",
       "      <td>0</td>\n",
       "      <td>15</td>\n",
       "    </tr>\n",
       "    <tr>\n",
       "      <th>Below_Average</th>\n",
       "      <td>1</td>\n",
       "      <td>20</td>\n",
       "    </tr>\n",
       "  </tbody>\n",
       "</table>\n",
       "</div>"
      ],
      "text/plain": [
       "Prediction     Above_Average  Below_Average\n",
       "Actual                                     \n",
       "Above_Average              1              6\n",
       "Average                    0             15\n",
       "Below_Average              1             20"
      ]
     },
     "execution_count": 112,
     "metadata": {},
     "output_type": "execute_result"
    }
   ],
   "source": [
    "cross = pd.DataFrame()\n",
    "\n",
    "cross[\"Actual\"] = yc_test_class\n",
    "cross[\"Prediction\"] = yc_pred_test\n",
    "\n",
    "pd.crosstab(cross[\"Actual\"], cross[\"Prediction\"])"
   ]
  },
  {
   "cell_type": "code",
   "execution_count": 113,
   "metadata": {},
   "outputs": [
    {
     "name": "stdout",
     "output_type": "stream",
     "text": [
      "Percent Accuracy of Default Decision Tree: 0.4883720930232558\n"
     ]
    }
   ],
   "source": [
    "print(\"Percent Accuracy of Default Decision Tree:\", (yc_test_class == yc_pred_test).sum() / len(yc_test_class))"
   ]
  },
  {
   "cell_type": "code",
   "execution_count": 114,
   "metadata": {},
   "outputs": [],
   "source": [
    "# optimizing decision tree\n",
    "\n",
    "dec_tree_accuracy = []\n",
    "Nums = []\n",
    "\n",
    "for f in range(2,7):\n",
    "    for d in range(2,15):\n",
    "        decision_tree = tree.DecisionTreeClassifier(\n",
    "            criterion='entropy', \n",
    "            max_features=f,\n",
    "            max_depth=d\n",
    "        )\n",
    "        model = decision_tree.fit(xc_train, yc_train_class)\n",
    "        yc_pred_test = model.predict(xc_test)\n",
    "        dec_tree_accuracy.append((yc_test_class == yc_pred_test).sum() / len(yc_test_class))\n",
    "        Nums.append((f, d))\n",
    "\n",
    "best_accuracy = max(dec_tree_accuracy)\n",
    "index = dec_tree_accuracy.index(best_accuracy)\n",
    "optimized_f, optimized_d = Nums[index]"
   ]
  },
  {
   "cell_type": "code",
   "execution_count": 115,
   "metadata": {},
   "outputs": [
    {
     "data": {
      "image/png": "[encoded data removed]",
      "text/plain": [
       "<IPython.core.display.Image object>"
      ]
     },
     "execution_count": 115,
     "metadata": {},
     "output_type": "execute_result"
    }
   ],
   "source": [
    "#optimized decision tree\n",
    "\n",
    "decision_tree = tree.DecisionTreeClassifier(\n",
    "    criterion='entropy',\n",
    "    max_features=optimized_f,\n",
    "    max_depth=optimized_d\n",
    ")\n",
    "model = decision_tree.fit(xc_train, yc_train_class)\n",
    "\n",
    "yc_pred_test = model.predict(xc_test)\n",
    "\n",
    "# Render our tree.\n",
    "dot_data = tree.export_graphviz(\n",
    "    model, out_file=None,\n",
    "    feature_names=xc_train.columns,\n",
    "    class_names=[\"Below_Average\", \"Average\", \"Above_Average\"],\n",
    "    filled=True\n",
    ")\n",
    "graph = pydotplus.graph_from_dot_data(dot_data)\n",
    "Image(graph.create_png())"
   ]
  },
  {
   "cell_type": "code",
   "execution_count": 116,
   "metadata": {},
   "outputs": [],
   "source": [
    "cross = pd.DataFrame()\n",
    "\n",
    "cross[\"Actual\"] = yc_test_class\n",
    "cross[\"Prediction\"] = yc_pred_test\n"
   ]
  },
  {
   "cell_type": "code",
   "execution_count": 117,
   "metadata": {},
   "outputs": [
    {
     "name": "stdout",
     "output_type": "stream",
     "text": [
      "Percent Accuracy of Optimized Decision Tree: 0.4883720930232558\n"
     ]
    }
   ],
   "source": [
    "print(\"Percent Accuracy of Optimized Decision Tree:\", (yc_test_class == yc_pred_test).sum() / len(yc_test_class))"
   ]
  },
  {
   "cell_type": "code",
   "execution_count": 118,
   "metadata": {},
   "outputs": [
    {
     "data": {
      "text/plain": [
       "Text(0.5, 1.0, 'Cross-tabulation Decision Tree Outcomes')"
      ]
     },
     "execution_count": 118,
     "metadata": {},
     "output_type": "execute_result"
    },
    {
     "data": {
      "image/png": "[encoded data removed]",
      "text/plain": [
       "<Figure size 504x504 with 2 Axes>"
      ]
     },
     "metadata": {},
     "output_type": "display_data"
    }
   ],
   "source": [
    "sns.set(rc={'figure.figsize':(7,7)})\n",
    "ax = sns.heatmap(pd.crosstab(cross[\"Actual\"], cross[\"Prediction\"]), annot=True)\n",
    "ax.set_title(\"Cross-tabulation Decision Tree Outcomes\", size=17)"
   ]
  },
  {
   "cell_type": "code",
   "execution_count": 119,
   "metadata": {},
   "outputs": [
    {
     "name": "stdout",
     "output_type": "stream",
     "text": [
      "Word Counts:\n",
      "\n",
      "Percent Accuracy of Training KNN Classifier: 1.0\n",
      "Percent Accuracy of Test KNN Classifier: 0.4186046511627907\n"
     ]
    }
   ],
   "source": [
    "#KNN Classifier \n",
    "\n",
    "#word counts\n",
    "from sklearn.neighbors import KNeighborsClassifier\n",
    "from sklearn import metrics\n",
    "\n",
    "neighbors = KNeighborsClassifier(n_neighbors=7, weights=\"distance\")\n",
    "neighbors.fit(xc_train, yc_train_class)\n",
    "yc_pred_train = neighbors.predict(xc_train)\n",
    "\n",
    "\n",
    "yc_pred_test = neighbors.predict(xc_test)\n",
    "\n",
    "print(\"Word Counts:\\n\")\n",
    "print(\"Percent Accuracy of Training KNN Classifier:\", (yc_train_class == yc_pred_train).sum() / len(yc_train_class))\n",
    "print(\"Percent Accuracy of Test KNN Classifier:\", (yc_test_class == yc_pred_test).sum() / len(yc_test_class))\n"
   ]
  },
  {
   "cell_type": "code",
   "execution_count": 120,
   "metadata": {},
   "outputs": [
    {
     "name": "stdout",
     "output_type": "stream",
     "text": [
      "Word Counts:\n",
      "\n",
      "Percent Accuracy of Training Logistic (ridge) Regression: 1.0\n",
      "Percent Accuracy of Test Logistic (ridge) Regression: 0.5348837209302325\n"
     ]
    },
    {
     "name": "stderr",
     "output_type": "stream",
     "text": [
      "/home/jtillis0317/anaconda3/lib/python3.7/site-packages/sklearn/linear_model/logistic.py:433: FutureWarning: Default solver will be changed to 'lbfgs' in 0.22. Specify a solver to silence this warning.\n",
      "  FutureWarning)\n",
      "/home/jtillis0317/anaconda3/lib/python3.7/site-packages/sklearn/linear_model/logistic.py:460: FutureWarning: Default multi_class will be changed to 'auto' in 0.22. Specify the multi_class option to silence this warning.\n",
      "  \"this warning.\", FutureWarning)\n"
     ]
    }
   ],
   "source": [
    "#Logistic regression - Ridge regression\n",
    "\n",
    "from sklearn.linear_model import LogisticRegression\n",
    "\n",
    "#word counts\n",
    "logist = LogisticRegression(penalty=\"l2\", fit_intercept=True)\n",
    "logist.fit(xc_train, yc_train_class)\n",
    "yc_pred_train = logist.predict(xc_train)\n",
    "\n",
    "yc_pred_test = logist.predict(xc_test)\n",
    "\n",
    "print(\"Word Counts:\\n\")\n",
    "print(\"Percent Accuracy of Training Logistic (ridge) Regression:\", (yc_train_class == yc_pred_train).sum() / len(yc_train_class))\n",
    "print(\"Percent Accuracy of Test Logistic (ridge) Regression:\", (yc_test_class == yc_pred_test).sum() / len(yc_test_class))\n"
   ]
  },
  {
   "cell_type": "code",
   "execution_count": 121,
   "metadata": {},
   "outputs": [
    {
     "name": "stdout",
     "output_type": "stream",
     "text": [
      "Word Counts:\n",
      "\n",
      "Percent Accuracy of Training Logistic (lasso) Regression: 1.0\n",
      "Percent Accuracy of Test Logistic (lasso) Regression: 0.5116279069767442\n"
     ]
    },
    {
     "name": "stderr",
     "output_type": "stream",
     "text": [
      "/home/jtillis0317/anaconda3/lib/python3.7/site-packages/sklearn/linear_model/logistic.py:433: FutureWarning: Default solver will be changed to 'lbfgs' in 0.22. Specify a solver to silence this warning.\n",
      "  FutureWarning)\n",
      "/home/jtillis0317/anaconda3/lib/python3.7/site-packages/sklearn/linear_model/logistic.py:460: FutureWarning: Default multi_class will be changed to 'auto' in 0.22. Specify the multi_class option to silence this warning.\n",
      "  \"this warning.\", FutureWarning)\n"
     ]
    }
   ],
   "source": [
    "#Logistic regression - Lasso regression\n",
    "\n",
    "from sklearn.linear_model import LogisticRegression\n",
    "\n",
    "#word counts\n",
    "logist = LogisticRegression(penalty=\"l1\", fit_intercept=True)\n",
    "logist.fit(xc_train, yc_train_class)\n",
    "yc_pred_train = logist.predict(xc_train)\n",
    "\n",
    "yc_pred_test = logist.predict(xc_test)\n",
    "\n",
    "print(\"Word Counts:\\n\")\n",
    "print(\"Percent Accuracy of Training Logistic (lasso) Regression:\", (yc_train_class == yc_pred_train).sum() / len(yc_train_class))\n",
    "print(\"Percent Accuracy of Test Logistic (lasso) Regression:\", (yc_test_class == yc_pred_test).sum() / len(yc_test_class))\n"
   ]
  },
  {
   "cell_type": "code",
   "execution_count": 122,
   "metadata": {},
   "outputs": [
    {
     "name": "stdout",
     "output_type": "stream",
     "text": [
      "Word Counts:\n",
      "\n",
      "Percent Accuracy of Training Random Forest: 1.0\n",
      "Percent Accuracy of Test Random Forest: 0.4883720930232558\n"
     ]
    },
    {
     "name": "stderr",
     "output_type": "stream",
     "text": [
      "/home/jtillis0317/anaconda3/lib/python3.7/site-packages/sklearn/ensemble/forest.py:246: FutureWarning: The default value of n_estimators will change from 10 in version 0.20 to 100 in 0.22.\n",
      "  \"10 in version 0.20 to 100 in 0.22.\", FutureWarning)\n"
     ]
    }
   ],
   "source": [
    "# Random Forest\n",
    "\n",
    "#word counts\n",
    "from sklearn import ensemble\n",
    "\n",
    "rfc = ensemble.RandomForestClassifier()\n",
    "rfc.fit(xc_train, yc_train_class)\n",
    "yc_pred_train = rfc.predict(xc_train)\n",
    "yc_pred_test = rfc.predict(xc_test)\n",
    "\n",
    "print(\"Word Counts:\\n\")\n",
    "print(\"Percent Accuracy of Training Random Forest:\", (yc_train_class == yc_pred_train).sum() / len(yc_train_class))\n",
    "print(\"Percent Accuracy of Test Random Forest:\", (yc_test_class == yc_pred_test).sum() / len(yc_test_class))\n"
   ]
  },
  {
   "cell_type": "markdown",
   "metadata": {},
   "source": [
    "### Tuning Logistic Regression (Lasso)\n",
    "\n",
    "The model that had the best outcomes when predicting class and avoided overfitting was logistic (lasso) regression. Below, I try tuning the hyperparameters of that model to optimize the predictive power of the model."
   ]
  },
  {
   "cell_type": "code",
   "execution_count": 123,
   "metadata": {
    "scrolled": false
   },
   "outputs": [
    {
     "name": "stdout",
     "output_type": "stream",
     "text": [
      "Word Counts:  0.02\n",
      "Percent Accuracy of Training Logistic (lasso) Regression: 1.0\n",
      "Percent Accuracy of Test Logistic (lasso) Regression: 0.5581395348837209\n",
      "Word Counts:  0.05\n",
      "Percent Accuracy of Training Logistic (lasso) Regression: 1.0\n",
      "Percent Accuracy of Test Logistic (lasso) Regression: 0.5348837209302325\n",
      "Word Counts:  0.1\n",
      "Percent Accuracy of Training Logistic (lasso) Regression: 1.0\n",
      "Percent Accuracy of Test Logistic (lasso) Regression: 0.5116279069767442\n",
      "Word Counts:  0.15\n",
      "Percent Accuracy of Training Logistic (lasso) Regression: 1.0\n",
      "Percent Accuracy of Test Logistic (lasso) Regression: 0.5116279069767442\n",
      "Word Counts:  0.25\n",
      "Percent Accuracy of Training Logistic (lasso) Regression: 1.0\n",
      "Percent Accuracy of Test Logistic (lasso) Regression: 0.4883720930232558\n",
      "Word Counts:  0.35\n",
      "Percent Accuracy of Training Logistic (lasso) Regression: 1.0\n",
      "Percent Accuracy of Test Logistic (lasso) Regression: 0.4883720930232558\n",
      "Word Counts:  0.5\n",
      "Percent Accuracy of Training Logistic (lasso) Regression: 1.0\n",
      "Percent Accuracy of Test Logistic (lasso) Regression: 0.5116279069767442\n",
      "Word Counts:  0.55\n",
      "Percent Accuracy of Training Logistic (lasso) Regression: 1.0\n",
      "Percent Accuracy of Test Logistic (lasso) Regression: 0.5116279069767442\n",
      "Word Counts:  0.65\n",
      "Percent Accuracy of Training Logistic (lasso) Regression: 1.0\n",
      "Percent Accuracy of Test Logistic (lasso) Regression: 0.5348837209302325\n",
      "Word Counts:  0.75\n",
      "Percent Accuracy of Training Logistic (lasso) Regression: 1.0\n",
      "Percent Accuracy of Test Logistic (lasso) Regression: 0.5116279069767442\n",
      "Word Counts:  0.95\n",
      "Percent Accuracy of Training Logistic (lasso) Regression: 1.0\n",
      "Percent Accuracy of Test Logistic (lasso) Regression: 0.5348837209302325\n",
      "Word Counts:  1\n",
      "Percent Accuracy of Training Logistic (lasso) Regression: 1.0\n",
      "Percent Accuracy of Test Logistic (lasso) Regression: 0.5348837209302325\n",
      "Word Counts:  1.1\n",
      "Percent Accuracy of Training Logistic (lasso) Regression: 1.0\n",
      "Percent Accuracy of Test Logistic (lasso) Regression: 0.5348837209302325\n",
      "Word Counts:  1.3\n",
      "Percent Accuracy of Training Logistic (lasso) Regression: 1.0\n",
      "Percent Accuracy of Test Logistic (lasso) Regression: 0.5348837209302325\n"
     ]
    },
    {
     "name": "stderr",
     "output_type": "stream",
     "text": [
      "/home/jtillis0317/anaconda3/lib/python3.7/site-packages/sklearn/linear_model/logistic.py:433: FutureWarning: Default solver will be changed to 'lbfgs' in 0.22. Specify a solver to silence this warning.\n",
      "  FutureWarning)\n",
      "/home/jtillis0317/anaconda3/lib/python3.7/site-packages/sklearn/linear_model/logistic.py:460: FutureWarning: Default multi_class will be changed to 'auto' in 0.22. Specify the multi_class option to silence this warning.\n",
      "  \"this warning.\", FutureWarning)\n",
      "/home/jtillis0317/anaconda3/lib/python3.7/site-packages/sklearn/linear_model/logistic.py:433: FutureWarning: Default solver will be changed to 'lbfgs' in 0.22. Specify a solver to silence this warning.\n",
      "  FutureWarning)\n",
      "/home/jtillis0317/anaconda3/lib/python3.7/site-packages/sklearn/linear_model/logistic.py:460: FutureWarning: Default multi_class will be changed to 'auto' in 0.22. Specify the multi_class option to silence this warning.\n",
      "  \"this warning.\", FutureWarning)\n",
      "/home/jtillis0317/anaconda3/lib/python3.7/site-packages/sklearn/linear_model/logistic.py:433: FutureWarning: Default solver will be changed to 'lbfgs' in 0.22. Specify a solver to silence this warning.\n",
      "  FutureWarning)\n",
      "/home/jtillis0317/anaconda3/lib/python3.7/site-packages/sklearn/linear_model/logistic.py:460: FutureWarning: Default multi_class will be changed to 'auto' in 0.22. Specify the multi_class option to silence this warning.\n",
      "  \"this warning.\", FutureWarning)\n",
      "/home/jtillis0317/anaconda3/lib/python3.7/site-packages/sklearn/linear_model/logistic.py:433: FutureWarning: Default solver will be changed to 'lbfgs' in 0.22. Specify a solver to silence this warning.\n",
      "  FutureWarning)\n",
      "/home/jtillis0317/anaconda3/lib/python3.7/site-packages/sklearn/linear_model/logistic.py:460: FutureWarning: Default multi_class will be changed to 'auto' in 0.22. Specify the multi_class option to silence this warning.\n",
      "  \"this warning.\", FutureWarning)\n",
      "/home/jtillis0317/anaconda3/lib/python3.7/site-packages/sklearn/linear_model/logistic.py:433: FutureWarning: Default solver will be changed to 'lbfgs' in 0.22. Specify a solver to silence this warning.\n",
      "  FutureWarning)\n",
      "/home/jtillis0317/anaconda3/lib/python3.7/site-packages/sklearn/linear_model/logistic.py:460: FutureWarning: Default multi_class will be changed to 'auto' in 0.22. Specify the multi_class option to silence this warning.\n",
      "  \"this warning.\", FutureWarning)\n",
      "/home/jtillis0317/anaconda3/lib/python3.7/site-packages/sklearn/linear_model/logistic.py:433: FutureWarning: Default solver will be changed to 'lbfgs' in 0.22. Specify a solver to silence this warning.\n",
      "  FutureWarning)\n",
      "/home/jtillis0317/anaconda3/lib/python3.7/site-packages/sklearn/linear_model/logistic.py:460: FutureWarning: Default multi_class will be changed to 'auto' in 0.22. Specify the multi_class option to silence this warning.\n",
      "  \"this warning.\", FutureWarning)\n",
      "/home/jtillis0317/anaconda3/lib/python3.7/site-packages/sklearn/linear_model/logistic.py:433: FutureWarning: Default solver will be changed to 'lbfgs' in 0.22. Specify a solver to silence this warning.\n",
      "  FutureWarning)\n",
      "/home/jtillis0317/anaconda3/lib/python3.7/site-packages/sklearn/linear_model/logistic.py:460: FutureWarning: Default multi_class will be changed to 'auto' in 0.22. Specify the multi_class option to silence this warning.\n",
      "  \"this warning.\", FutureWarning)\n",
      "/home/jtillis0317/anaconda3/lib/python3.7/site-packages/sklearn/linear_model/logistic.py:433: FutureWarning: Default solver will be changed to 'lbfgs' in 0.22. Specify a solver to silence this warning.\n",
      "  FutureWarning)\n",
      "/home/jtillis0317/anaconda3/lib/python3.7/site-packages/sklearn/linear_model/logistic.py:460: FutureWarning: Default multi_class will be changed to 'auto' in 0.22. Specify the multi_class option to silence this warning.\n",
      "  \"this warning.\", FutureWarning)\n",
      "/home/jtillis0317/anaconda3/lib/python3.7/site-packages/sklearn/linear_model/logistic.py:433: FutureWarning: Default solver will be changed to 'lbfgs' in 0.22. Specify a solver to silence this warning.\n",
      "  FutureWarning)\n",
      "/home/jtillis0317/anaconda3/lib/python3.7/site-packages/sklearn/linear_model/logistic.py:460: FutureWarning: Default multi_class will be changed to 'auto' in 0.22. Specify the multi_class option to silence this warning.\n",
      "  \"this warning.\", FutureWarning)\n",
      "/home/jtillis0317/anaconda3/lib/python3.7/site-packages/sklearn/linear_model/logistic.py:433: FutureWarning: Default solver will be changed to 'lbfgs' in 0.22. Specify a solver to silence this warning.\n",
      "  FutureWarning)\n",
      "/home/jtillis0317/anaconda3/lib/python3.7/site-packages/sklearn/linear_model/logistic.py:460: FutureWarning: Default multi_class will be changed to 'auto' in 0.22. Specify the multi_class option to silence this warning.\n",
      "  \"this warning.\", FutureWarning)\n",
      "/home/jtillis0317/anaconda3/lib/python3.7/site-packages/sklearn/linear_model/logistic.py:433: FutureWarning: Default solver will be changed to 'lbfgs' in 0.22. Specify a solver to silence this warning.\n",
      "  FutureWarning)\n",
      "/home/jtillis0317/anaconda3/lib/python3.7/site-packages/sklearn/linear_model/logistic.py:460: FutureWarning: Default multi_class will be changed to 'auto' in 0.22. Specify the multi_class option to silence this warning.\n",
      "  \"this warning.\", FutureWarning)\n",
      "/home/jtillis0317/anaconda3/lib/python3.7/site-packages/sklearn/linear_model/logistic.py:433: FutureWarning: Default solver will be changed to 'lbfgs' in 0.22. Specify a solver to silence this warning.\n",
      "  FutureWarning)\n",
      "/home/jtillis0317/anaconda3/lib/python3.7/site-packages/sklearn/linear_model/logistic.py:460: FutureWarning: Default multi_class will be changed to 'auto' in 0.22. Specify the multi_class option to silence this warning.\n",
      "  \"this warning.\", FutureWarning)\n",
      "/home/jtillis0317/anaconda3/lib/python3.7/site-packages/sklearn/linear_model/logistic.py:433: FutureWarning: Default solver will be changed to 'lbfgs' in 0.22. Specify a solver to silence this warning.\n",
      "  FutureWarning)\n",
      "/home/jtillis0317/anaconda3/lib/python3.7/site-packages/sklearn/linear_model/logistic.py:460: FutureWarning: Default multi_class will be changed to 'auto' in 0.22. Specify the multi_class option to silence this warning.\n",
      "  \"this warning.\", FutureWarning)\n",
      "/home/jtillis0317/anaconda3/lib/python3.7/site-packages/sklearn/linear_model/logistic.py:433: FutureWarning: Default solver will be changed to 'lbfgs' in 0.22. Specify a solver to silence this warning.\n",
      "  FutureWarning)\n",
      "/home/jtillis0317/anaconda3/lib/python3.7/site-packages/sklearn/linear_model/logistic.py:460: FutureWarning: Default multi_class will be changed to 'auto' in 0.22. Specify the multi_class option to silence this warning.\n",
      "  \"this warning.\", FutureWarning)\n"
     ]
    }
   ],
   "source": [
    "#Tuning hyperparameters Logistic (Lasso) Regression\n",
    "\n",
    "\n",
    "#word counts\n",
    "lambdas = [.02, .05, .10, .15, .25, .35, .5, .55, .65, .75, .95, 1, 1.1, 1.3]\n",
    "\n",
    "\n",
    "for lam in lambdas:\n",
    "    lass = LogisticRegression(C=1/lam, fit_intercept=True, penalty=\"l1\")\n",
    "    lass.fit(xc_train, yc_train_class)\n",
    "    yc_pred_train = lass.predict(xc_train)\n",
    "    yc_pred_test = lass.predict(xc_test)\n",
    "\n",
    "    print(\"Word Counts: \", lam)\n",
    "    print(\"Percent Accuracy of Training Logistic (lasso) Regression:\", (yc_train_class == yc_pred_train).sum() / len(yc_train_class))\n",
    "    print(\"Percent Accuracy of Test Logistic (lasso) Regression:\", (yc_test_class == yc_pred_test).sum() / len(yc_test_class))\n",
    "\n",
    "    "
   ]
  },
  {
   "cell_type": "code",
   "execution_count": 124,
   "metadata": {
    "scrolled": true
   },
   "outputs": [
    {
     "name": "stdout",
     "output_type": "stream",
     "text": [
      "Word Counts:  1.3\n",
      "Percent Accuracy of Training Logistic (lasso) Regression: 1.0\n",
      "Percent Accuracy of Test Logistic (lasso) Regression: 0.5348837209302325\n"
     ]
    },
    {
     "name": "stderr",
     "output_type": "stream",
     "text": [
      "/home/jtillis0317/anaconda3/lib/python3.7/site-packages/sklearn/linear_model/logistic.py:433: FutureWarning: Default solver will be changed to 'lbfgs' in 0.22. Specify a solver to silence this warning.\n",
      "  FutureWarning)\n",
      "/home/jtillis0317/anaconda3/lib/python3.7/site-packages/sklearn/linear_model/logistic.py:460: FutureWarning: Default multi_class will be changed to 'auto' in 0.22. Specify the multi_class option to silence this warning.\n",
      "  \"this warning.\", FutureWarning)\n"
     ]
    }
   ],
   "source": [
    "#using optimized logistic (lasso) regression on word counts\n",
    "\n",
    "lass = LogisticRegression(C=1/1.1, fit_intercept=True, penalty=\"l1\")\n",
    "lass.fit(xc_train, yc_train_class)\n",
    "yc_pred_train = lass.predict(xc_train)\n",
    "yc_pred_test = lass.predict(xc_test)\n",
    "\n",
    "print(\"Word Counts: \", lam)\n",
    "print(\"Percent Accuracy of Training Logistic (lasso) Regression:\", (yc_train_class == yc_pred_train).sum() / len(yc_train_class))\n",
    "print(\"Percent Accuracy of Test Logistic (lasso) Regression:\", (yc_test_class == yc_pred_test).sum() / len(yc_test_class))\n"
   ]
  },
  {
   "cell_type": "code",
   "execution_count": 125,
   "metadata": {},
   "outputs": [
    {
     "data": {
      "text/plain": [
       "Text(0.5, 1.0, 'Cross-tabulation of Logistic (Lasso) Regression Accuracy')"
      ]
     },
     "execution_count": 125,
     "metadata": {},
     "output_type": "execute_result"
    },
    {
     "data": {
      "image/png": "[encoded data removed]",
      "text/plain": [
       "<Figure size 504x504 with 2 Axes>"
      ]
     },
     "metadata": {},
     "output_type": "display_data"
    }
   ],
   "source": [
    "Lassodf = pd.DataFrame()\n",
    "\n",
    "Lassodf[\"Actual\"] = yc_test_class\n",
    "Lassodf[\"Predicted\"] = yc_pred_test\n",
    "\n",
    "sns.set(rc={'figure.figsize':(7,7)})\n",
    "ax = sns.heatmap(pd.crosstab(Lassodf[\"Actual\"], Lassodf[\"Predicted\"]), annot=True)\n",
    "ax.set_title(\"Cross-tabulation of Logistic (Lasso) Regression Accuracy\", size=17)"
   ]
  },
  {
   "cell_type": "markdown",
   "metadata": {},
   "source": [
    "## Clustering\n",
    "\n",
    "After landing on logistic (lasso) regression as the classifying model with the most predictive power, I wanted to see how looking at the problem as an unsupervised problem might improve results. As you'll see below, all three types of clustering that I try (k-means, meanshift, spectral) got poor predictive classification results."
   ]
  },
  {
   "cell_type": "code",
   "execution_count": 126,
   "metadata": {},
   "outputs": [],
   "source": [
    "from sklearn.cluster import KMeans\n",
    "from sklearn import metrics\n",
    "from sklearn.metrics import pairwise_distances\n",
    "from sklearn.cluster import MeanShift, estimate_bandwidth\n",
    "from sklearn.cluster import SpectralClustering\n"
   ]
  },
  {
   "cell_type": "code",
   "execution_count": 127,
   "metadata": {},
   "outputs": [],
   "source": [
    "cluster_labels = pd.DataFrame()"
   ]
  },
  {
   "cell_type": "code",
   "execution_count": 128,
   "metadata": {},
   "outputs": [],
   "source": [
    "#k-means\n",
    "kmeans = KMeans(n_clusters=3)\n",
    "kmeans = kmeans.fit(xc_train)\n",
    "kmlabels = kmeans.labels_\n",
    "cluster_labels[\"KMeans\"] = kmlabels"
   ]
  },
  {
   "cell_type": "code",
   "execution_count": 129,
   "metadata": {},
   "outputs": [],
   "source": [
    "#meanshift\n",
    "\n",
    "bandwidth = estimate_bandwidth(xc_train, quantile=.5)\n",
    "ms = MeanShift(bandwidth=bandwidth, bin_seeding=True)\n",
    "ms = ms.fit(xc_train)\n",
    "mslabels = ms.labels_\n",
    "cluster_labels[\"Meanshift\"] = mslabels"
   ]
  },
  {
   "cell_type": "code",
   "execution_count": 130,
   "metadata": {},
   "outputs": [
    {
     "name": "stderr",
     "output_type": "stream",
     "text": [
      "/home/jtillis0317/anaconda3/lib/python3.7/site-packages/sklearn/manifold/spectral_embedding_.py:237: UserWarning: Graph is not fully connected, spectral embedding may not work as expected.\n",
      "  warnings.warn(\"Graph is not fully connected, spectral embedding\"\n",
      "/home/jtillis0317/anaconda3/lib/python3.7/site-packages/sklearn/cluster/spectral.py:268: ConvergenceWarning: Number of distinct clusters (2) found smaller than n_clusters (3). Possibly due to duplicate points in X.\n",
      "  n_init=n_init)\n"
     ]
    }
   ],
   "source": [
    "#spectral clustering\n",
    "sc3 = SpectralClustering(n_clusters=3)\n",
    "sc3 = sc3.fit(xc_train)\n",
    "sc3labels = sc3.labels_\n",
    "cluster_labels[\"Spectral\"] = sc3labels"
   ]
  },
  {
   "cell_type": "code",
   "execution_count": 131,
   "metadata": {},
   "outputs": [],
   "source": [
    "cluster_labels[\"Actual\"] = yc_train_class"
   ]
  },
  {
   "cell_type": "code",
   "execution_count": 132,
   "metadata": {},
   "outputs": [
    {
     "data": {
      "text/html": [
       "<div>\n",
       "<style scoped>\n",
       "    .dataframe tbody tr th:only-of-type {\n",
       "        vertical-align: middle;\n",
       "    }\n",
       "\n",
       "    .dataframe tbody tr th {\n",
       "        vertical-align: top;\n",
       "    }\n",
       "\n",
       "    .dataframe thead th {\n",
       "        text-align: right;\n",
       "    }\n",
       "</style>\n",
       "<table border=\"1\" class=\"dataframe\">\n",
       "  <thead>\n",
       "    <tr style=\"text-align: right;\">\n",
       "      <th></th>\n",
       "      <th>KMeans</th>\n",
       "      <th>Meanshift</th>\n",
       "      <th>Spectral</th>\n",
       "      <th>Actual</th>\n",
       "    </tr>\n",
       "  </thead>\n",
       "  <tbody>\n",
       "    <tr>\n",
       "      <th>0</th>\n",
       "      <td>1</td>\n",
       "      <td>0</td>\n",
       "      <td>0</td>\n",
       "      <td>Average</td>\n",
       "    </tr>\n",
       "    <tr>\n",
       "      <th>1</th>\n",
       "      <td>1</td>\n",
       "      <td>0</td>\n",
       "      <td>0</td>\n",
       "      <td>Above_Average</td>\n",
       "    </tr>\n",
       "    <tr>\n",
       "      <th>2</th>\n",
       "      <td>1</td>\n",
       "      <td>0</td>\n",
       "      <td>0</td>\n",
       "      <td>Above_Average</td>\n",
       "    </tr>\n",
       "    <tr>\n",
       "      <th>3</th>\n",
       "      <td>1</td>\n",
       "      <td>0</td>\n",
       "      <td>0</td>\n",
       "      <td>Above_Average</td>\n",
       "    </tr>\n",
       "    <tr>\n",
       "      <th>4</th>\n",
       "      <td>1</td>\n",
       "      <td>0</td>\n",
       "      <td>0</td>\n",
       "      <td>Above_Average</td>\n",
       "    </tr>\n",
       "  </tbody>\n",
       "</table>\n",
       "</div>"
      ],
      "text/plain": [
       "   KMeans  Meanshift  Spectral         Actual\n",
       "0       1          0         0        Average\n",
       "1       1          0         0  Above_Average\n",
       "2       1          0         0  Above_Average\n",
       "3       1          0         0  Above_Average\n",
       "4       1          0         0  Above_Average"
      ]
     },
     "execution_count": 132,
     "metadata": {},
     "output_type": "execute_result"
    }
   ],
   "source": [
    "cluster_labels.head()"
   ]
  },
  {
   "cell_type": "code",
   "execution_count": 133,
   "metadata": {
    "scrolled": false
   },
   "outputs": [
    {
     "data": {
      "text/plain": [
       "Text(0.5, 1.0, 'Cross-tabulation of K-Means Clustering')"
      ]
     },
     "execution_count": 133,
     "metadata": {},
     "output_type": "execute_result"
    },
    {
     "data": {
      "image/png": "[encoded data removed]",
      "text/plain": [
       "<Figure size 504x504 with 2 Axes>"
      ]
     },
     "metadata": {},
     "output_type": "display_data"
    }
   ],
   "source": [
    "sns.set(rc={'figure.figsize':(7,7)})\n",
    "ax = sns.heatmap(pd.crosstab(cluster_labels[\"Actual\"], cluster_labels[\"KMeans\"]), annot=True)\n",
    "ax.set_title(\"Cross-tabulation of K-Means Clustering\", size=17)"
   ]
  },
  {
   "cell_type": "code",
   "execution_count": 136,
   "metadata": {
    "scrolled": false
   },
   "outputs": [
    {
     "data": {
      "text/plain": [
       "Text(0.5, 1.0, 'Cross-tabulation of Spectral Clustering')"
      ]
     },
     "execution_count": 136,
     "metadata": {},
     "output_type": "execute_result"
    },
    {
     "data": {
      "image/png": "[encoded data removed]",
      "text/plain": [
       "<Figure size 504x504 with 2 Axes>"
      ]
     },
     "metadata": {},
     "output_type": "display_data"
    }
   ],
   "source": [
    "sns.set(rc={'figure.figsize':(7,7)})\n",
    "ax = sns.heatmap(pd.crosstab(cluster_labels[\"Actual\"], cluster_labels[\"Spectral\"]), annot=True)\n",
    "ax.set_title(\"Cross-tabulation of Spectral Clustering\", size=17)"
   ]
  },
  {
   "cell_type": "code",
   "execution_count": 137,
   "metadata": {
    "scrolled": false
   },
   "outputs": [
    {
     "data": {
      "text/plain": [
       "Text(0.5, 1.0, 'Cross-tabulation of Meanshift Clustering')"
      ]
     },
     "execution_count": 137,
     "metadata": {},
     "output_type": "execute_result"
    },
    {
     "data": {
      "image/png": "[encoded data removed]",
      "text/plain": [
       "<Figure size 504x504 with 2 Axes>"
      ]
     },
     "metadata": {},
     "output_type": "display_data"
    }
   ],
   "source": [
    "sns.set(rc={'figure.figsize':(7,7)})\n",
    "ax = sns.heatmap(pd.crosstab(cluster_labels[\"Actual\"], cluster_labels[\"Meanshift\"]), annot=True)\n",
    "ax.set_title(\"Cross-tabulation of Meanshift Clustering\", size=17)"
   ]
  },
  {
   "cell_type": "markdown",
   "metadata": {},
   "source": [
    "## Exploring Explanatory Power of Logistic (Lasso) Regression\n",
    "\n",
    "After scraping the data, feature engineering based on bag of words, landing on logistic (lasso) regression as the model with the best predictive power, I wanted to look at feature importance within the model's prediction. In doing so, I could deliver to FTM words/features to aim for in their content and words/features to avoid."
   ]
  },
  {
   "cell_type": "code",
   "execution_count": 139,
   "metadata": {},
   "outputs": [
    {
     "name": "stderr",
     "output_type": "stream",
     "text": [
      "/home/jtillis0317/anaconda3/lib/python3.7/site-packages/sklearn/linear_model/logistic.py:433: FutureWarning: Default solver will be changed to 'lbfgs' in 0.22. Specify a solver to silence this warning.\n",
      "  FutureWarning)\n"
     ]
    }
   ],
   "source": [
    "lass = LogisticRegression(C=1/1.1, fit_intercept=True, penalty=\"l1\", multi_class=\"ovr\")\n",
    "lass.fit(xc_train, yc_train_class)\n",
    "yc_pred_train = lass.predict(xc_train)\n",
    "yc_pred_test = lass.predict(xc_test)\n",
    "\n",
    "weights = lass.coef_"
   ]
  },
  {
   "cell_type": "code",
   "execution_count": 140,
   "metadata": {},
   "outputs": [],
   "source": [
    "weights = weights * 100000000"
   ]
  },
  {
   "cell_type": "code",
   "execution_count": 141,
   "metadata": {},
   "outputs": [],
   "source": [
    "weightsdf = pd.DataFrame(weights, columns=xc_test.columns)"
   ]
  },
  {
   "cell_type": "code",
   "execution_count": 142,
   "metadata": {},
   "outputs": [
    {
     "data": {
      "text/html": [
       "<div>\n",
       "<style scoped>\n",
       "    .dataframe tbody tr th:only-of-type {\n",
       "        vertical-align: middle;\n",
       "    }\n",
       "\n",
       "    .dataframe tbody tr th {\n",
       "        vertical-align: top;\n",
       "    }\n",
       "\n",
       "    .dataframe thead th {\n",
       "        text-align: right;\n",
       "    }\n",
       "</style>\n",
       "<table border=\"1\" class=\"dataframe\">\n",
       "  <thead>\n",
       "    <tr style=\"text-align: right;\">\n",
       "      <th></th>\n",
       "      <th>well</th>\n",
       "      <th></th>\n",
       "      <th>https://t.co/o4aftsjbum</th>\n",
       "      <th>@disupdat</th>\n",
       "      <th>incident</th>\n",
       "      <th>autograph</th>\n",
       "      <th>emoji</th>\n",
       "      <th>intro</th>\n",
       "      <th>rush</th>\n",
       "      <th>what</th>\n",
       "      <th>...</th>\n",
       "      <th>basket</th>\n",
       "      <th>frangin</th>\n",
       "      <th>2019</th>\n",
       "      <th>@russwest44</th>\n",
       "      <th>he</th>\n",
       "      <th>치치치치</th>\n",
       "      <th>son</th>\n",
       "      <th>draft</th>\n",
       "      <th>but</th>\n",
       "      <th>mano</th>\n",
       "    </tr>\n",
       "  </thead>\n",
       "  <tbody>\n",
       "    <tr>\n",
       "      <th>0</th>\n",
       "      <td>0.0</td>\n",
       "      <td>0.0</td>\n",
       "      <td>0.0</td>\n",
       "      <td>0.0</td>\n",
       "      <td>0.0</td>\n",
       "      <td>0.0</td>\n",
       "      <td>0.0</td>\n",
       "      <td>0.0</td>\n",
       "      <td>0.0</td>\n",
       "      <td>0.0</td>\n",
       "      <td>...</td>\n",
       "      <td>0.0</td>\n",
       "      <td>0.0</td>\n",
       "      <td>0.0</td>\n",
       "      <td>0.0</td>\n",
       "      <td>0.0</td>\n",
       "      <td>0.0</td>\n",
       "      <td>0.0</td>\n",
       "      <td>0.0</td>\n",
       "      <td>0.0</td>\n",
       "      <td>0.0</td>\n",
       "    </tr>\n",
       "    <tr>\n",
       "      <th>1</th>\n",
       "      <td>0.0</td>\n",
       "      <td>0.0</td>\n",
       "      <td>0.0</td>\n",
       "      <td>0.0</td>\n",
       "      <td>0.0</td>\n",
       "      <td>0.0</td>\n",
       "      <td>0.0</td>\n",
       "      <td>0.0</td>\n",
       "      <td>0.0</td>\n",
       "      <td>0.0</td>\n",
       "      <td>...</td>\n",
       "      <td>0.0</td>\n",
       "      <td>0.0</td>\n",
       "      <td>0.0</td>\n",
       "      <td>0.0</td>\n",
       "      <td>0.0</td>\n",
       "      <td>0.0</td>\n",
       "      <td>0.0</td>\n",
       "      <td>0.0</td>\n",
       "      <td>0.0</td>\n",
       "      <td>0.0</td>\n",
       "    </tr>\n",
       "    <tr>\n",
       "      <th>2</th>\n",
       "      <td>0.0</td>\n",
       "      <td>0.0</td>\n",
       "      <td>0.0</td>\n",
       "      <td>0.0</td>\n",
       "      <td>0.0</td>\n",
       "      <td>0.0</td>\n",
       "      <td>0.0</td>\n",
       "      <td>0.0</td>\n",
       "      <td>0.0</td>\n",
       "      <td>0.0</td>\n",
       "      <td>...</td>\n",
       "      <td>0.0</td>\n",
       "      <td>0.0</td>\n",
       "      <td>0.0</td>\n",
       "      <td>0.0</td>\n",
       "      <td>0.0</td>\n",
       "      <td>0.0</td>\n",
       "      <td>0.0</td>\n",
       "      <td>0.0</td>\n",
       "      <td>0.0</td>\n",
       "      <td>0.0</td>\n",
       "    </tr>\n",
       "  </tbody>\n",
       "</table>\n",
       "<p>3 rows × 1082 columns</p>\n",
       "</div>"
      ],
      "text/plain": [
       "   well       https://t.co/o4aftsjbum  @disupdat  incident  autograph  emoji  \\\n",
       "0   0.0  0.0                      0.0        0.0       0.0        0.0    0.0   \n",
       "1   0.0  0.0                      0.0        0.0       0.0        0.0    0.0   \n",
       "2   0.0  0.0                      0.0        0.0       0.0        0.0    0.0   \n",
       "\n",
       "   intro  rush  what  ...   basket  frangin  2019  @russwest44   he  치치치치  \\\n",
       "0    0.0   0.0   0.0  ...      0.0      0.0   0.0          0.0  0.0   0.0   \n",
       "1    0.0   0.0   0.0  ...      0.0      0.0   0.0          0.0  0.0   0.0   \n",
       "2    0.0   0.0   0.0  ...      0.0      0.0   0.0          0.0  0.0   0.0   \n",
       "\n",
       "   son  draft  but  mano  \n",
       "0  0.0    0.0  0.0   0.0  \n",
       "1  0.0    0.0  0.0   0.0  \n",
       "2  0.0    0.0  0.0   0.0  \n",
       "\n",
       "[3 rows x 1082 columns]"
      ]
     },
     "execution_count": 142,
     "metadata": {},
     "output_type": "execute_result"
    }
   ],
   "source": [
    "weightsdf"
   ]
  },
  {
   "cell_type": "code",
   "execution_count": 143,
   "metadata": {},
   "outputs": [
    {
     "data": {
      "text/html": [
       "<div>\n",
       "<style scoped>\n",
       "    .dataframe tbody tr th:only-of-type {\n",
       "        vertical-align: middle;\n",
       "    }\n",
       "\n",
       "    .dataframe tbody tr th {\n",
       "        vertical-align: top;\n",
       "    }\n",
       "\n",
       "    .dataframe thead th {\n",
       "        text-align: right;\n",
       "    }\n",
       "</style>\n",
       "<table border=\"1\" class=\"dataframe\">\n",
       "  <thead>\n",
       "    <tr style=\"text-align: right;\">\n",
       "      <th></th>\n",
       "      <th>0</th>\n",
       "      <th>1</th>\n",
       "      <th>2</th>\n",
       "    </tr>\n",
       "  </thead>\n",
       "  <tbody>\n",
       "    <tr>\n",
       "      <th>well</th>\n",
       "      <td>0.0</td>\n",
       "      <td>0.0</td>\n",
       "      <td>0.0</td>\n",
       "    </tr>\n",
       "    <tr>\n",
       "      <th></th>\n",
       "      <td>0.0</td>\n",
       "      <td>0.0</td>\n",
       "      <td>0.0</td>\n",
       "    </tr>\n",
       "    <tr>\n",
       "      <th>https://t.co/o4aftsjbum</th>\n",
       "      <td>0.0</td>\n",
       "      <td>0.0</td>\n",
       "      <td>0.0</td>\n",
       "    </tr>\n",
       "    <tr>\n",
       "      <th>@disupdat</th>\n",
       "      <td>0.0</td>\n",
       "      <td>0.0</td>\n",
       "      <td>0.0</td>\n",
       "    </tr>\n",
       "    <tr>\n",
       "      <th>incident</th>\n",
       "      <td>0.0</td>\n",
       "      <td>0.0</td>\n",
       "      <td>0.0</td>\n",
       "    </tr>\n",
       "  </tbody>\n",
       "</table>\n",
       "</div>"
      ],
      "text/plain": [
       "                           0    1    2\n",
       "well                     0.0  0.0  0.0\n",
       "                         0.0  0.0  0.0\n",
       "https://t.co/o4aftsjbum  0.0  0.0  0.0\n",
       "@disupdat                0.0  0.0  0.0\n",
       "incident                 0.0  0.0  0.0"
      ]
     },
     "execution_count": 143,
     "metadata": {},
     "output_type": "execute_result"
    }
   ],
   "source": [
    "weightsdf = weightsdf.T\n",
    "\n",
    "weightsdf.head()\n"
   ]
  },
  {
   "cell_type": "code",
   "execution_count": 144,
   "metadata": {},
   "outputs": [
    {
     "data": {
      "text/html": [
       "<div>\n",
       "<style scoped>\n",
       "    .dataframe tbody tr th:only-of-type {\n",
       "        vertical-align: middle;\n",
       "    }\n",
       "\n",
       "    .dataframe tbody tr th {\n",
       "        vertical-align: top;\n",
       "    }\n",
       "\n",
       "    .dataframe thead th {\n",
       "        text-align: right;\n",
       "    }\n",
       "</style>\n",
       "<table border=\"1\" class=\"dataframe\">\n",
       "  <thead>\n",
       "    <tr style=\"text-align: right;\">\n",
       "      <th></th>\n",
       "      <th>Above_Average</th>\n",
       "      <th>Average</th>\n",
       "      <th>Below_Average</th>\n",
       "    </tr>\n",
       "  </thead>\n",
       "  <tbody>\n",
       "    <tr>\n",
       "      <th>well</th>\n",
       "      <td>0.0</td>\n",
       "      <td>0.0</td>\n",
       "      <td>0.0</td>\n",
       "    </tr>\n",
       "    <tr>\n",
       "      <th></th>\n",
       "      <td>0.0</td>\n",
       "      <td>0.0</td>\n",
       "      <td>0.0</td>\n",
       "    </tr>\n",
       "    <tr>\n",
       "      <th>https://t.co/o4aftsjbum</th>\n",
       "      <td>0.0</td>\n",
       "      <td>0.0</td>\n",
       "      <td>0.0</td>\n",
       "    </tr>\n",
       "    <tr>\n",
       "      <th>@disupdat</th>\n",
       "      <td>0.0</td>\n",
       "      <td>0.0</td>\n",
       "      <td>0.0</td>\n",
       "    </tr>\n",
       "    <tr>\n",
       "      <th>incident</th>\n",
       "      <td>0.0</td>\n",
       "      <td>0.0</td>\n",
       "      <td>0.0</td>\n",
       "    </tr>\n",
       "  </tbody>\n",
       "</table>\n",
       "</div>"
      ],
      "text/plain": [
       "                         Above_Average  Average  Below_Average\n",
       "well                               0.0      0.0            0.0\n",
       "                                   0.0      0.0            0.0\n",
       "https://t.co/o4aftsjbum            0.0      0.0            0.0\n",
       "@disupdat                          0.0      0.0            0.0\n",
       "incident                           0.0      0.0            0.0"
      ]
     },
     "execution_count": 144,
     "metadata": {},
     "output_type": "execute_result"
    }
   ],
   "source": [
    "weightsdf.columns = lass.classes_\n",
    "weightsdf.head()"
   ]
  },
  {
   "cell_type": "code",
   "execution_count": 145,
   "metadata": {},
   "outputs": [
    {
     "data": {
      "text/html": [
       "<div>\n",
       "<style scoped>\n",
       "    .dataframe tbody tr th:only-of-type {\n",
       "        vertical-align: middle;\n",
       "    }\n",
       "\n",
       "    .dataframe tbody tr th {\n",
       "        vertical-align: top;\n",
       "    }\n",
       "\n",
       "    .dataframe thead th {\n",
       "        text-align: right;\n",
       "    }\n",
       "</style>\n",
       "<table border=\"1\" class=\"dataframe\">\n",
       "  <thead>\n",
       "    <tr style=\"text-align: right;\">\n",
       "      <th></th>\n",
       "      <th>Above_Average</th>\n",
       "      <th>Average</th>\n",
       "      <th>Below_Average</th>\n",
       "    </tr>\n",
       "  </thead>\n",
       "  <tbody>\n",
       "    <tr>\n",
       "      <th>@mac11</th>\n",
       "      <td>-7.888077e+07</td>\n",
       "      <td>7.632076e+07</td>\n",
       "      <td>0.000000e+00</td>\n",
       "    </tr>\n",
       "    <tr>\n",
       "      <th>@nascar</th>\n",
       "      <td>-3.000353e+07</td>\n",
       "      <td>-6.081586e+07</td>\n",
       "      <td>5.376212e+07</td>\n",
       "    </tr>\n",
       "    <tr>\n",
       "      <th>@twittersport</th>\n",
       "      <td>-2.024157e+07</td>\n",
       "      <td>-5.100000e+07</td>\n",
       "      <td>5.464763e+07</td>\n",
       "    </tr>\n",
       "    <tr>\n",
       "      <th>@wnba</th>\n",
       "      <td>-1.491436e+07</td>\n",
       "      <td>0.000000e+00</td>\n",
       "      <td>0.000000e+00</td>\n",
       "    </tr>\n",
       "    <tr>\n",
       "      <th>@chiney321</th>\n",
       "      <td>-1.222684e+07</td>\n",
       "      <td>0.000000e+00</td>\n",
       "      <td>8.043854e+07</td>\n",
       "    </tr>\n",
       "    <tr>\n",
       "      <th>@nikolavucevic</th>\n",
       "      <td>-6.126346e+06</td>\n",
       "      <td>3.030271e+07</td>\n",
       "      <td>-2.610514e+07</td>\n",
       "    </tr>\n",
       "    <tr>\n",
       "      <th>@teamhendrick</th>\n",
       "      <td>-3.762956e+06</td>\n",
       "      <td>1.891464e+07</td>\n",
       "      <td>-1.525735e+07</td>\n",
       "    </tr>\n",
       "    <tr>\n",
       "      <th>congrat</th>\n",
       "      <td>0.000000e+00</td>\n",
       "      <td>0.000000e+00</td>\n",
       "      <td>0.000000e+00</td>\n",
       "    </tr>\n",
       "    <tr>\n",
       "      <th>dem</th>\n",
       "      <td>0.000000e+00</td>\n",
       "      <td>0.000000e+00</td>\n",
       "      <td>0.000000e+00</td>\n",
       "    </tr>\n",
       "    <tr>\n",
       "      <th>bring</th>\n",
       "      <td>0.000000e+00</td>\n",
       "      <td>0.000000e+00</td>\n",
       "      <td>0.000000e+00</td>\n",
       "    </tr>\n",
       "    <tr>\n",
       "      <th>500</th>\n",
       "      <td>0.000000e+00</td>\n",
       "      <td>0.000000e+00</td>\n",
       "      <td>0.000000e+00</td>\n",
       "    </tr>\n",
       "    <tr>\n",
       "      <th>😂</th>\n",
       "      <td>0.000000e+00</td>\n",
       "      <td>0.000000e+00</td>\n",
       "      <td>0.000000e+00</td>\n",
       "    </tr>\n",
       "    <tr>\n",
       "      <th>cause</th>\n",
       "      <td>0.000000e+00</td>\n",
       "      <td>0.000000e+00</td>\n",
       "      <td>0.000000e+00</td>\n",
       "    </tr>\n",
       "    <tr>\n",
       "      <th>il</th>\n",
       "      <td>0.000000e+00</td>\n",
       "      <td>0.000000e+00</td>\n",
       "      <td>0.000000e+00</td>\n",
       "    </tr>\n",
       "    <tr>\n",
       "      <th>till</th>\n",
       "      <td>0.000000e+00</td>\n",
       "      <td>0.000000e+00</td>\n",
       "      <td>0.000000e+00</td>\n",
       "    </tr>\n",
       "    <tr>\n",
       "      <th>teamlebron</th>\n",
       "      <td>0.000000e+00</td>\n",
       "      <td>0.000000e+00</td>\n",
       "      <td>0.000000e+00</td>\n",
       "    </tr>\n",
       "    <tr>\n",
       "      <th>cedi</th>\n",
       "      <td>0.000000e+00</td>\n",
       "      <td>0.000000e+00</td>\n",
       "      <td>0.000000e+00</td>\n",
       "    </tr>\n",
       "    <tr>\n",
       "      <th>wrigley</th>\n",
       "      <td>0.000000e+00</td>\n",
       "      <td>0.000000e+00</td>\n",
       "      <td>0.000000e+00</td>\n",
       "    </tr>\n",
       "    <tr>\n",
       "      <th>yes</th>\n",
       "      <td>0.000000e+00</td>\n",
       "      <td>0.000000e+00</td>\n",
       "      <td>0.000000e+00</td>\n",
       "    </tr>\n",
       "    <tr>\n",
       "      <th>https://t.co/wjcdpf7uc2</th>\n",
       "      <td>0.000000e+00</td>\n",
       "      <td>0.000000e+00</td>\n",
       "      <td>0.000000e+00</td>\n",
       "    </tr>\n",
       "    <tr>\n",
       "      <th>https://t.co/osvhzcwgi2</th>\n",
       "      <td>0.000000e+00</td>\n",
       "      <td>0.000000e+00</td>\n",
       "      <td>0.000000e+00</td>\n",
       "    </tr>\n",
       "    <tr>\n",
       "      <th>https://t.co/vwwurjldhj</th>\n",
       "      <td>0.000000e+00</td>\n",
       "      <td>0.000000e+00</td>\n",
       "      <td>0.000000e+00</td>\n",
       "    </tr>\n",
       "    <tr>\n",
       "      <th>send</th>\n",
       "      <td>0.000000e+00</td>\n",
       "      <td>0.000000e+00</td>\n",
       "      <td>0.000000e+00</td>\n",
       "    </tr>\n",
       "    <tr>\n",
       "      <th>🙏</th>\n",
       "      <td>0.000000e+00</td>\n",
       "      <td>0.000000e+00</td>\n",
       "      <td>0.000000e+00</td>\n",
       "    </tr>\n",
       "    <tr>\n",
       "      <th>https://t.co/gwcpadhfam</th>\n",
       "      <td>0.000000e+00</td>\n",
       "      <td>0.000000e+00</td>\n",
       "      <td>0.000000e+00</td>\n",
       "    </tr>\n",
       "    <tr>\n",
       "      <th>so</th>\n",
       "      <td>0.000000e+00</td>\n",
       "      <td>0.000000e+00</td>\n",
       "      <td>0.000000e+00</td>\n",
       "    </tr>\n",
       "    <tr>\n",
       "      <th>https://t.co/lluuubhlxu</th>\n",
       "      <td>0.000000e+00</td>\n",
       "      <td>0.000000e+00</td>\n",
       "      <td>0.000000e+00</td>\n",
       "    </tr>\n",
       "    <tr>\n",
       "      <th>@blaney</th>\n",
       "      <td>0.000000e+00</td>\n",
       "      <td>0.000000e+00</td>\n",
       "      <td>0.000000e+00</td>\n",
       "    </tr>\n",
       "    <tr>\n",
       "      <th>replay</th>\n",
       "      <td>0.000000e+00</td>\n",
       "      <td>0.000000e+00</td>\n",
       "      <td>0.000000e+00</td>\n",
       "    </tr>\n",
       "    <tr>\n",
       "      <th>sister</th>\n",
       "      <td>0.000000e+00</td>\n",
       "      <td>0.000000e+00</td>\n",
       "      <td>0.000000e+00</td>\n",
       "    </tr>\n",
       "    <tr>\n",
       "      <th>...</th>\n",
       "      <td>...</td>\n",
       "      <td>...</td>\n",
       "      <td>...</td>\n",
       "    </tr>\n",
       "    <tr>\n",
       "      <th>happen</th>\n",
       "      <td>0.000000e+00</td>\n",
       "      <td>0.000000e+00</td>\n",
       "      <td>0.000000e+00</td>\n",
       "    </tr>\n",
       "    <tr>\n",
       "      <th>fresh</th>\n",
       "      <td>0.000000e+00</td>\n",
       "      <td>0.000000e+00</td>\n",
       "      <td>0.000000e+00</td>\n",
       "    </tr>\n",
       "    <tr>\n",
       "      <th>bunch</th>\n",
       "      <td>0.000000e+00</td>\n",
       "      <td>0.000000e+00</td>\n",
       "      <td>0.000000e+00</td>\n",
       "    </tr>\n",
       "    <tr>\n",
       "      <th>idea</th>\n",
       "      <td>0.000000e+00</td>\n",
       "      <td>0.000000e+00</td>\n",
       "      <td>0.000000e+00</td>\n",
       "    </tr>\n",
       "    <tr>\n",
       "      <th>week</th>\n",
       "      <td>0.000000e+00</td>\n",
       "      <td>0.000000e+00</td>\n",
       "      <td>0.000000e+00</td>\n",
       "    </tr>\n",
       "    <tr>\n",
       "      <th>buy</th>\n",
       "      <td>0.000000e+00</td>\n",
       "      <td>0.000000e+00</td>\n",
       "      <td>0.000000e+00</td>\n",
       "    </tr>\n",
       "    <tr>\n",
       "      <th>⭐</th>\n",
       "      <td>0.000000e+00</td>\n",
       "      <td>0.000000e+00</td>\n",
       "      <td>0.000000e+00</td>\n",
       "    </tr>\n",
       "    <tr>\n",
       "      <th>🍀</th>\n",
       "      <td>0.000000e+00</td>\n",
       "      <td>0.000000e+00</td>\n",
       "      <td>0.000000e+00</td>\n",
       "    </tr>\n",
       "    <tr>\n",
       "      <th>awful</th>\n",
       "      <td>0.000000e+00</td>\n",
       "      <td>0.000000e+00</td>\n",
       "      <td>0.000000e+00</td>\n",
       "    </tr>\n",
       "    <tr>\n",
       "      <th>ball</th>\n",
       "      <td>0.000000e+00</td>\n",
       "      <td>0.000000e+00</td>\n",
       "      <td>0.000000e+00</td>\n",
       "    </tr>\n",
       "    <tr>\n",
       "      <th>https://t.co/jib8livf9y</th>\n",
       "      <td>0.000000e+00</td>\n",
       "      <td>0.000000e+00</td>\n",
       "      <td>0.000000e+00</td>\n",
       "    </tr>\n",
       "    <tr>\n",
       "      <th>turd</th>\n",
       "      <td>0.000000e+00</td>\n",
       "      <td>0.000000e+00</td>\n",
       "      <td>0.000000e+00</td>\n",
       "    </tr>\n",
       "    <tr>\n",
       "      <th>national</th>\n",
       "      <td>0.000000e+00</td>\n",
       "      <td>0.000000e+00</td>\n",
       "      <td>0.000000e+00</td>\n",
       "    </tr>\n",
       "    <tr>\n",
       "      <th>street</th>\n",
       "      <td>0.000000e+00</td>\n",
       "      <td>0.000000e+00</td>\n",
       "      <td>0.000000e+00</td>\n",
       "    </tr>\n",
       "    <tr>\n",
       "      <th>vucevic</th>\n",
       "      <td>0.000000e+00</td>\n",
       "      <td>0.000000e+00</td>\n",
       "      <td>0.000000e+00</td>\n",
       "    </tr>\n",
       "    <tr>\n",
       "      <th>daniel</th>\n",
       "      <td>0.000000e+00</td>\n",
       "      <td>0.000000e+00</td>\n",
       "      <td>0.000000e+00</td>\n",
       "    </tr>\n",
       "    <tr>\n",
       "      <th>daytona</th>\n",
       "      <td>0.000000e+00</td>\n",
       "      <td>0.000000e+00</td>\n",
       "      <td>0.000000e+00</td>\n",
       "    </tr>\n",
       "    <tr>\n",
       "      <th>😠</th>\n",
       "      <td>0.000000e+00</td>\n",
       "      <td>0.000000e+00</td>\n",
       "      <td>0.000000e+00</td>\n",
       "    </tr>\n",
       "    <tr>\n",
       "      <th>espn</th>\n",
       "      <td>0.000000e+00</td>\n",
       "      <td>0.000000e+00</td>\n",
       "      <td>0.000000e+00</td>\n",
       "    </tr>\n",
       "    <tr>\n",
       "      <th>lebrons</th>\n",
       "      <td>0.000000e+00</td>\n",
       "      <td>0.000000e+00</td>\n",
       "      <td>0.000000e+00</td>\n",
       "    </tr>\n",
       "    <tr>\n",
       "      <th>blowouts</th>\n",
       "      <td>0.000000e+00</td>\n",
       "      <td>0.000000e+00</td>\n",
       "      <td>0.000000e+00</td>\n",
       "    </tr>\n",
       "    <tr>\n",
       "      <th>@rcrrac</th>\n",
       "      <td>2.632751e+06</td>\n",
       "      <td>0.000000e+00</td>\n",
       "      <td>-1.212934e+07</td>\n",
       "    </tr>\n",
       "    <tr>\n",
       "      <th>@nbakick</th>\n",
       "      <td>4.623618e+06</td>\n",
       "      <td>-9.933544e+06</td>\n",
       "      <td>-1.015218e+08</td>\n",
       "    </tr>\n",
       "    <tr>\n",
       "      <th>@danielhemric</th>\n",
       "      <td>6.179702e+06</td>\n",
       "      <td>0.000000e+00</td>\n",
       "      <td>-9.149741e+06</td>\n",
       "    </tr>\n",
       "    <tr>\n",
       "      <th>@austindillon3</th>\n",
       "      <td>1.065328e+07</td>\n",
       "      <td>0.000000e+00</td>\n",
       "      <td>-5.174792e+06</td>\n",
       "    </tr>\n",
       "    <tr>\n",
       "      <th>@luka7doncic</th>\n",
       "      <td>2.225781e+07</td>\n",
       "      <td>0.000000e+00</td>\n",
       "      <td>0.000000e+00</td>\n",
       "    </tr>\n",
       "    <tr>\n",
       "      <th>@tylerreddick</th>\n",
       "      <td>2.250686e+07</td>\n",
       "      <td>0.000000e+00</td>\n",
       "      <td>-1.057894e+07</td>\n",
       "    </tr>\n",
       "    <tr>\n",
       "      <th>@kylekuzma</th>\n",
       "      <td>2.403342e+07</td>\n",
       "      <td>-1.242971e+06</td>\n",
       "      <td>0.000000e+00</td>\n",
       "    </tr>\n",
       "    <tr>\n",
       "      <th>´</th>\n",
       "      <td>3.298233e+07</td>\n",
       "      <td>-3.865074e+06</td>\n",
       "      <td>0.000000e+00</td>\n",
       "    </tr>\n",
       "    <tr>\n",
       "      <th>@nba</th>\n",
       "      <td>1.345326e+08</td>\n",
       "      <td>-6.756723e+07</td>\n",
       "      <td>0.000000e+00</td>\n",
       "    </tr>\n",
       "  </tbody>\n",
       "</table>\n",
       "<p>1082 rows × 3 columns</p>\n",
       "</div>"
      ],
      "text/plain": [
       "                         Above_Average       Average  Below_Average\n",
       "@mac11                   -7.888077e+07  7.632076e+07   0.000000e+00\n",
       "@nascar                  -3.000353e+07 -6.081586e+07   5.376212e+07\n",
       "@twittersport            -2.024157e+07 -5.100000e+07   5.464763e+07\n",
       "@wnba                    -1.491436e+07  0.000000e+00   0.000000e+00\n",
       "@chiney321               -1.222684e+07  0.000000e+00   8.043854e+07\n",
       "@nikolavucevic           -6.126346e+06  3.030271e+07  -2.610514e+07\n",
       "@teamhendrick            -3.762956e+06  1.891464e+07  -1.525735e+07\n",
       "congrat                   0.000000e+00  0.000000e+00   0.000000e+00\n",
       "dem                       0.000000e+00  0.000000e+00   0.000000e+00\n",
       "bring                     0.000000e+00  0.000000e+00   0.000000e+00\n",
       "500                       0.000000e+00  0.000000e+00   0.000000e+00\n",
       "😂                         0.000000e+00  0.000000e+00   0.000000e+00\n",
       "cause                     0.000000e+00  0.000000e+00   0.000000e+00\n",
       "il                        0.000000e+00  0.000000e+00   0.000000e+00\n",
       "till                      0.000000e+00  0.000000e+00   0.000000e+00\n",
       "teamlebron                0.000000e+00  0.000000e+00   0.000000e+00\n",
       "cedi                      0.000000e+00  0.000000e+00   0.000000e+00\n",
       "wrigley                   0.000000e+00  0.000000e+00   0.000000e+00\n",
       "yes                       0.000000e+00  0.000000e+00   0.000000e+00\n",
       "https://t.co/wjcdpf7uc2   0.000000e+00  0.000000e+00   0.000000e+00\n",
       "https://t.co/osvhzcwgi2   0.000000e+00  0.000000e+00   0.000000e+00\n",
       "https://t.co/vwwurjldhj   0.000000e+00  0.000000e+00   0.000000e+00\n",
       "send                      0.000000e+00  0.000000e+00   0.000000e+00\n",
       "🙏                         0.000000e+00  0.000000e+00   0.000000e+00\n",
       "https://t.co/gwcpadhfam   0.000000e+00  0.000000e+00   0.000000e+00\n",
       "so                        0.000000e+00  0.000000e+00   0.000000e+00\n",
       "https://t.co/lluuubhlxu   0.000000e+00  0.000000e+00   0.000000e+00\n",
       "@blaney                   0.000000e+00  0.000000e+00   0.000000e+00\n",
       "replay                    0.000000e+00  0.000000e+00   0.000000e+00\n",
       "sister                    0.000000e+00  0.000000e+00   0.000000e+00\n",
       "...                                ...           ...            ...\n",
       "happen                    0.000000e+00  0.000000e+00   0.000000e+00\n",
       "fresh                     0.000000e+00  0.000000e+00   0.000000e+00\n",
       "bunch                     0.000000e+00  0.000000e+00   0.000000e+00\n",
       "idea                      0.000000e+00  0.000000e+00   0.000000e+00\n",
       "week                      0.000000e+00  0.000000e+00   0.000000e+00\n",
       "buy                       0.000000e+00  0.000000e+00   0.000000e+00\n",
       "⭐                         0.000000e+00  0.000000e+00   0.000000e+00\n",
       "🍀                         0.000000e+00  0.000000e+00   0.000000e+00\n",
       "awful                     0.000000e+00  0.000000e+00   0.000000e+00\n",
       "ball                      0.000000e+00  0.000000e+00   0.000000e+00\n",
       "https://t.co/jib8livf9y   0.000000e+00  0.000000e+00   0.000000e+00\n",
       "turd                      0.000000e+00  0.000000e+00   0.000000e+00\n",
       "national                  0.000000e+00  0.000000e+00   0.000000e+00\n",
       "street                    0.000000e+00  0.000000e+00   0.000000e+00\n",
       "vucevic                   0.000000e+00  0.000000e+00   0.000000e+00\n",
       "daniel                    0.000000e+00  0.000000e+00   0.000000e+00\n",
       "daytona                   0.000000e+00  0.000000e+00   0.000000e+00\n",
       "😠                         0.000000e+00  0.000000e+00   0.000000e+00\n",
       "espn                      0.000000e+00  0.000000e+00   0.000000e+00\n",
       "lebrons                   0.000000e+00  0.000000e+00   0.000000e+00\n",
       "blowouts                  0.000000e+00  0.000000e+00   0.000000e+00\n",
       "@rcrrac                   2.632751e+06  0.000000e+00  -1.212934e+07\n",
       "@nbakick                  4.623618e+06 -9.933544e+06  -1.015218e+08\n",
       "@danielhemric             6.179702e+06  0.000000e+00  -9.149741e+06\n",
       "@austindillon3            1.065328e+07  0.000000e+00  -5.174792e+06\n",
       "@luka7doncic              2.225781e+07  0.000000e+00   0.000000e+00\n",
       "@tylerreddick             2.250686e+07  0.000000e+00  -1.057894e+07\n",
       "@kylekuzma                2.403342e+07 -1.242971e+06   0.000000e+00\n",
       "´                         3.298233e+07 -3.865074e+06   0.000000e+00\n",
       "@nba                      1.345326e+08 -6.756723e+07   0.000000e+00\n",
       "\n",
       "[1082 rows x 3 columns]"
      ]
     },
     "execution_count": 145,
     "metadata": {},
     "output_type": "execute_result"
    }
   ],
   "source": [
    "weightsdf.sort_values(\"Above_Average\")"
   ]
  },
  {
   "cell_type": "code",
   "execution_count": 146,
   "metadata": {},
   "outputs": [],
   "source": [
    "#I chose to drop these three features from the model because they were associated with the accounts \n",
    "# with the most included tweets; additionally, they have the highest number of followers\n",
    "\n",
    "xc_test = xc_test.drop([\"nba\", \"nascar\", \"twitter\"], axis=1)"
   ]
  },
  {
   "cell_type": "code",
   "execution_count": 147,
   "metadata": {},
   "outputs": [
    {
     "data": {
      "text/plain": [
       "(43, 1079)"
      ]
     },
     "execution_count": 147,
     "metadata": {},
     "output_type": "execute_result"
    }
   ],
   "source": [
    "xc_test.shape"
   ]
  },
  {
   "cell_type": "code",
   "execution_count": 148,
   "metadata": {},
   "outputs": [],
   "source": [
    "xc_train = xc_train.drop([\"nba\", \"nascar\", \"twitter\"], axis=1)"
   ]
  },
  {
   "cell_type": "code",
   "execution_count": 149,
   "metadata": {},
   "outputs": [
    {
     "name": "stdout",
     "output_type": "stream",
     "text": [
      "Word Counts: \n",
      "Percent Accuracy of Training Logistic (lasso) Regression: 1.0\n",
      "Percent Accuracy of Test Logistic (lasso) Regression: 0.5116279069767442\n"
     ]
    },
    {
     "name": "stderr",
     "output_type": "stream",
     "text": [
      "/home/jtillis0317/anaconda3/lib/python3.7/site-packages/sklearn/linear_model/logistic.py:433: FutureWarning: Default solver will be changed to 'lbfgs' in 0.22. Specify a solver to silence this warning.\n",
      "  FutureWarning)\n"
     ]
    }
   ],
   "source": [
    "lass = LogisticRegression(C=1/1.1, fit_intercept=True, penalty=\"l1\", multi_class=\"ovr\")\n",
    "lass.fit(xc_train, yc_train_class)\n",
    "yc_pred_train = lass.predict(xc_train)\n",
    "yc_pred_test = lass.predict(xc_test)\n",
    "\n",
    "weights = lass.coef_\n",
    "\n",
    "print(\"Word Counts: \")\n",
    "print(\"Percent Accuracy of Training Logistic (lasso) Regression:\", (yc_train_class == yc_pred_train).sum() / len(yc_train_class))\n",
    "print(\"Percent Accuracy of Test Logistic (lasso) Regression:\", (yc_test_class == yc_pred_test).sum() / len(yc_test_class))\n"
   ]
  },
  {
   "cell_type": "code",
   "execution_count": 150,
   "metadata": {},
   "outputs": [],
   "source": [
    "weights = weights * 100000000"
   ]
  },
  {
   "cell_type": "code",
   "execution_count": 151,
   "metadata": {},
   "outputs": [],
   "source": [
    "weightsdf = pd.DataFrame(weights, columns=xc_test.columns)"
   ]
  },
  {
   "cell_type": "code",
   "execution_count": 152,
   "metadata": {},
   "outputs": [
    {
     "data": {
      "text/html": [
       "<div>\n",
       "<style scoped>\n",
       "    .dataframe tbody tr th:only-of-type {\n",
       "        vertical-align: middle;\n",
       "    }\n",
       "\n",
       "    .dataframe tbody tr th {\n",
       "        vertical-align: top;\n",
       "    }\n",
       "\n",
       "    .dataframe thead th {\n",
       "        text-align: right;\n",
       "    }\n",
       "</style>\n",
       "<table border=\"1\" class=\"dataframe\">\n",
       "  <thead>\n",
       "    <tr style=\"text-align: right;\">\n",
       "      <th></th>\n",
       "      <th>well</th>\n",
       "      <th></th>\n",
       "      <th>https://t.co/o4aftsjbum</th>\n",
       "      <th>@disupdat</th>\n",
       "      <th>incident</th>\n",
       "      <th>autograph</th>\n",
       "      <th>emoji</th>\n",
       "      <th>intro</th>\n",
       "      <th>rush</th>\n",
       "      <th>what</th>\n",
       "      <th>...</th>\n",
       "      <th>basket</th>\n",
       "      <th>frangin</th>\n",
       "      <th>2019</th>\n",
       "      <th>@russwest44</th>\n",
       "      <th>he</th>\n",
       "      <th>치치치치</th>\n",
       "      <th>son</th>\n",
       "      <th>draft</th>\n",
       "      <th>but</th>\n",
       "      <th>mano</th>\n",
       "    </tr>\n",
       "  </thead>\n",
       "  <tbody>\n",
       "    <tr>\n",
       "      <th>0</th>\n",
       "      <td>0.0</td>\n",
       "      <td>0.0</td>\n",
       "      <td>0.0</td>\n",
       "      <td>0.0</td>\n",
       "      <td>0.0</td>\n",
       "      <td>0.0</td>\n",
       "      <td>0.0</td>\n",
       "      <td>0.0</td>\n",
       "      <td>0.0</td>\n",
       "      <td>0.0</td>\n",
       "      <td>...</td>\n",
       "      <td>0.0</td>\n",
       "      <td>0.0</td>\n",
       "      <td>0.0</td>\n",
       "      <td>0.0</td>\n",
       "      <td>0.0</td>\n",
       "      <td>0.0</td>\n",
       "      <td>0.0</td>\n",
       "      <td>0.0</td>\n",
       "      <td>0.0</td>\n",
       "      <td>0.0</td>\n",
       "    </tr>\n",
       "    <tr>\n",
       "      <th>1</th>\n",
       "      <td>0.0</td>\n",
       "      <td>0.0</td>\n",
       "      <td>0.0</td>\n",
       "      <td>0.0</td>\n",
       "      <td>0.0</td>\n",
       "      <td>0.0</td>\n",
       "      <td>0.0</td>\n",
       "      <td>0.0</td>\n",
       "      <td>0.0</td>\n",
       "      <td>0.0</td>\n",
       "      <td>...</td>\n",
       "      <td>0.0</td>\n",
       "      <td>0.0</td>\n",
       "      <td>0.0</td>\n",
       "      <td>0.0</td>\n",
       "      <td>0.0</td>\n",
       "      <td>0.0</td>\n",
       "      <td>0.0</td>\n",
       "      <td>0.0</td>\n",
       "      <td>0.0</td>\n",
       "      <td>0.0</td>\n",
       "    </tr>\n",
       "    <tr>\n",
       "      <th>2</th>\n",
       "      <td>0.0</td>\n",
       "      <td>0.0</td>\n",
       "      <td>0.0</td>\n",
       "      <td>0.0</td>\n",
       "      <td>0.0</td>\n",
       "      <td>0.0</td>\n",
       "      <td>0.0</td>\n",
       "      <td>0.0</td>\n",
       "      <td>0.0</td>\n",
       "      <td>0.0</td>\n",
       "      <td>...</td>\n",
       "      <td>0.0</td>\n",
       "      <td>0.0</td>\n",
       "      <td>0.0</td>\n",
       "      <td>0.0</td>\n",
       "      <td>0.0</td>\n",
       "      <td>0.0</td>\n",
       "      <td>0.0</td>\n",
       "      <td>0.0</td>\n",
       "      <td>0.0</td>\n",
       "      <td>0.0</td>\n",
       "    </tr>\n",
       "  </tbody>\n",
       "</table>\n",
       "<p>3 rows × 1079 columns</p>\n",
       "</div>"
      ],
      "text/plain": [
       "   well       https://t.co/o4aftsjbum  @disupdat  incident  autograph  emoji  \\\n",
       "0   0.0  0.0                      0.0        0.0       0.0        0.0    0.0   \n",
       "1   0.0  0.0                      0.0        0.0       0.0        0.0    0.0   \n",
       "2   0.0  0.0                      0.0        0.0       0.0        0.0    0.0   \n",
       "\n",
       "   intro  rush  what  ...   basket  frangin  2019  @russwest44   he  치치치치  \\\n",
       "0    0.0   0.0   0.0  ...      0.0      0.0   0.0          0.0  0.0   0.0   \n",
       "1    0.0   0.0   0.0  ...      0.0      0.0   0.0          0.0  0.0   0.0   \n",
       "2    0.0   0.0   0.0  ...      0.0      0.0   0.0          0.0  0.0   0.0   \n",
       "\n",
       "   son  draft  but  mano  \n",
       "0  0.0    0.0  0.0   0.0  \n",
       "1  0.0    0.0  0.0   0.0  \n",
       "2  0.0    0.0  0.0   0.0  \n",
       "\n",
       "[3 rows x 1079 columns]"
      ]
     },
     "execution_count": 152,
     "metadata": {},
     "output_type": "execute_result"
    }
   ],
   "source": [
    "weightsdf"
   ]
  },
  {
   "cell_type": "code",
   "execution_count": 153,
   "metadata": {},
   "outputs": [
    {
     "data": {
      "text/html": [
       "<div>\n",
       "<style scoped>\n",
       "    .dataframe tbody tr th:only-of-type {\n",
       "        vertical-align: middle;\n",
       "    }\n",
       "\n",
       "    .dataframe tbody tr th {\n",
       "        vertical-align: top;\n",
       "    }\n",
       "\n",
       "    .dataframe thead th {\n",
       "        text-align: right;\n",
       "    }\n",
       "</style>\n",
       "<table border=\"1\" class=\"dataframe\">\n",
       "  <thead>\n",
       "    <tr style=\"text-align: right;\">\n",
       "      <th></th>\n",
       "      <th>0</th>\n",
       "      <th>1</th>\n",
       "      <th>2</th>\n",
       "    </tr>\n",
       "  </thead>\n",
       "  <tbody>\n",
       "    <tr>\n",
       "      <th>well</th>\n",
       "      <td>0.0</td>\n",
       "      <td>0.0</td>\n",
       "      <td>0.0</td>\n",
       "    </tr>\n",
       "    <tr>\n",
       "      <th></th>\n",
       "      <td>0.0</td>\n",
       "      <td>0.0</td>\n",
       "      <td>0.0</td>\n",
       "    </tr>\n",
       "    <tr>\n",
       "      <th>https://t.co/o4aftsjbum</th>\n",
       "      <td>0.0</td>\n",
       "      <td>0.0</td>\n",
       "      <td>0.0</td>\n",
       "    </tr>\n",
       "    <tr>\n",
       "      <th>@disupdat</th>\n",
       "      <td>0.0</td>\n",
       "      <td>0.0</td>\n",
       "      <td>0.0</td>\n",
       "    </tr>\n",
       "    <tr>\n",
       "      <th>incident</th>\n",
       "      <td>0.0</td>\n",
       "      <td>0.0</td>\n",
       "      <td>0.0</td>\n",
       "    </tr>\n",
       "  </tbody>\n",
       "</table>\n",
       "</div>"
      ],
      "text/plain": [
       "                           0    1    2\n",
       "well                     0.0  0.0  0.0\n",
       "                         0.0  0.0  0.0\n",
       "https://t.co/o4aftsjbum  0.0  0.0  0.0\n",
       "@disupdat                0.0  0.0  0.0\n",
       "incident                 0.0  0.0  0.0"
      ]
     },
     "execution_count": 153,
     "metadata": {},
     "output_type": "execute_result"
    }
   ],
   "source": [
    "weightsdf = weightsdf.T\n",
    "\n",
    "weightsdf.head()\n"
   ]
  },
  {
   "cell_type": "code",
   "execution_count": 154,
   "metadata": {},
   "outputs": [
    {
     "data": {
      "text/html": [
       "<div>\n",
       "<style scoped>\n",
       "    .dataframe tbody tr th:only-of-type {\n",
       "        vertical-align: middle;\n",
       "    }\n",
       "\n",
       "    .dataframe tbody tr th {\n",
       "        vertical-align: top;\n",
       "    }\n",
       "\n",
       "    .dataframe thead th {\n",
       "        text-align: right;\n",
       "    }\n",
       "</style>\n",
       "<table border=\"1\" class=\"dataframe\">\n",
       "  <thead>\n",
       "    <tr style=\"text-align: right;\">\n",
       "      <th></th>\n",
       "      <th>Above_Average</th>\n",
       "      <th>Average</th>\n",
       "      <th>Below_Average</th>\n",
       "    </tr>\n",
       "  </thead>\n",
       "  <tbody>\n",
       "    <tr>\n",
       "      <th>well</th>\n",
       "      <td>0.0</td>\n",
       "      <td>0.0</td>\n",
       "      <td>0.0</td>\n",
       "    </tr>\n",
       "    <tr>\n",
       "      <th></th>\n",
       "      <td>0.0</td>\n",
       "      <td>0.0</td>\n",
       "      <td>0.0</td>\n",
       "    </tr>\n",
       "    <tr>\n",
       "      <th>https://t.co/o4aftsjbum</th>\n",
       "      <td>0.0</td>\n",
       "      <td>0.0</td>\n",
       "      <td>0.0</td>\n",
       "    </tr>\n",
       "    <tr>\n",
       "      <th>@disupdat</th>\n",
       "      <td>0.0</td>\n",
       "      <td>0.0</td>\n",
       "      <td>0.0</td>\n",
       "    </tr>\n",
       "    <tr>\n",
       "      <th>incident</th>\n",
       "      <td>0.0</td>\n",
       "      <td>0.0</td>\n",
       "      <td>0.0</td>\n",
       "    </tr>\n",
       "  </tbody>\n",
       "</table>\n",
       "</div>"
      ],
      "text/plain": [
       "                         Above_Average  Average  Below_Average\n",
       "well                               0.0      0.0            0.0\n",
       "                                   0.0      0.0            0.0\n",
       "https://t.co/o4aftsjbum            0.0      0.0            0.0\n",
       "@disupdat                          0.0      0.0            0.0\n",
       "incident                           0.0      0.0            0.0"
      ]
     },
     "execution_count": 154,
     "metadata": {},
     "output_type": "execute_result"
    }
   ],
   "source": [
    "weightsdf.columns = lass.classes_\n",
    "weightsdf.head()"
   ]
  },
  {
   "cell_type": "code",
   "execution_count": 156,
   "metadata": {},
   "outputs": [
    {
     "data": {
      "text/html": [
       "<div>\n",
       "<style scoped>\n",
       "    .dataframe tbody tr th:only-of-type {\n",
       "        vertical-align: middle;\n",
       "    }\n",
       "\n",
       "    .dataframe tbody tr th {\n",
       "        vertical-align: top;\n",
       "    }\n",
       "\n",
       "    .dataframe thead th {\n",
       "        text-align: right;\n",
       "    }\n",
       "</style>\n",
       "<table border=\"1\" class=\"dataframe\">\n",
       "  <thead>\n",
       "    <tr style=\"text-align: right;\">\n",
       "      <th></th>\n",
       "      <th>Above_Average</th>\n",
       "      <th>Average</th>\n",
       "      <th>Below_Average</th>\n",
       "    </tr>\n",
       "  </thead>\n",
       "  <tbody>\n",
       "    <tr>\n",
       "      <th>@nbakick</th>\n",
       "      <td>4.612795e+06</td>\n",
       "      <td>-9.929788e+06</td>\n",
       "      <td>-1.015466e+08</td>\n",
       "    </tr>\n",
       "    <tr>\n",
       "      <th>@nba</th>\n",
       "      <td>1.344059e+08</td>\n",
       "      <td>-6.757182e+07</td>\n",
       "      <td>0.000000e+00</td>\n",
       "    </tr>\n",
       "    <tr>\n",
       "      <th>@nikolavucevic</th>\n",
       "      <td>-6.170529e+06</td>\n",
       "      <td>3.030247e+07</td>\n",
       "      <td>-2.610518e+07</td>\n",
       "    </tr>\n",
       "    <tr>\n",
       "      <th>@tylerreddick</th>\n",
       "      <td>1.178816e+07</td>\n",
       "      <td>0.000000e+00</td>\n",
       "      <td>-6.564671e+03</td>\n",
       "    </tr>\n",
       "    <tr>\n",
       "      <th>@twittersport</th>\n",
       "      <td>-2.027826e+07</td>\n",
       "      <td>-5.099745e+07</td>\n",
       "      <td>5.464286e+07</td>\n",
       "    </tr>\n",
       "    <tr>\n",
       "      <th>@wnba</th>\n",
       "      <td>-1.498657e+07</td>\n",
       "      <td>0.000000e+00</td>\n",
       "      <td>0.000000e+00</td>\n",
       "    </tr>\n",
       "    <tr>\n",
       "      <th>@mac11</th>\n",
       "      <td>-7.881703e+07</td>\n",
       "      <td>7.632742e+07</td>\n",
       "      <td>0.000000e+00</td>\n",
       "    </tr>\n",
       "    <tr>\n",
       "      <th>´</th>\n",
       "      <td>2.486488e+07</td>\n",
       "      <td>-3.985410e+06</td>\n",
       "      <td>0.000000e+00</td>\n",
       "    </tr>\n",
       "    <tr>\n",
       "      <th>@teamhendrick</th>\n",
       "      <td>-3.770606e+06</td>\n",
       "      <td>1.891889e+07</td>\n",
       "      <td>-1.525735e+07</td>\n",
       "    </tr>\n",
       "    <tr>\n",
       "      <th>@austindillon3</th>\n",
       "      <td>1.850273e+06</td>\n",
       "      <td>0.000000e+00</td>\n",
       "      <td>-7.234881e+06</td>\n",
       "    </tr>\n",
       "    <tr>\n",
       "      <th>@chiney321</th>\n",
       "      <td>-1.221639e+07</td>\n",
       "      <td>0.000000e+00</td>\n",
       "      <td>8.039147e+07</td>\n",
       "    </tr>\n",
       "    <tr>\n",
       "      <th>@nascar</th>\n",
       "      <td>-3.005166e+07</td>\n",
       "      <td>-6.081044e+07</td>\n",
       "      <td>5.376207e+07</td>\n",
       "    </tr>\n",
       "    <tr>\n",
       "      <th>@danielhemric</th>\n",
       "      <td>2.139733e+07</td>\n",
       "      <td>0.000000e+00</td>\n",
       "      <td>-1.567521e+07</td>\n",
       "    </tr>\n",
       "    <tr>\n",
       "      <th>@rcrrac</th>\n",
       "      <td>6.937030e+06</td>\n",
       "      <td>0.000000e+00</td>\n",
       "      <td>-1.411614e+07</td>\n",
       "    </tr>\n",
       "    <tr>\n",
       "      <th>@kylekuzma</th>\n",
       "      <td>3.210018e+07</td>\n",
       "      <td>-1.123567e+06</td>\n",
       "      <td>0.000000e+00</td>\n",
       "    </tr>\n",
       "    <tr>\n",
       "      <th>@luka7doncic</th>\n",
       "      <td>2.224954e+07</td>\n",
       "      <td>0.000000e+00</td>\n",
       "      <td>0.000000e+00</td>\n",
       "    </tr>\n",
       "  </tbody>\n",
       "</table>\n",
       "</div>"
      ],
      "text/plain": [
       "                Above_Average       Average  Below_Average\n",
       "@nbakick         4.612795e+06 -9.929788e+06  -1.015466e+08\n",
       "@nba             1.344059e+08 -6.757182e+07   0.000000e+00\n",
       "@nikolavucevic  -6.170529e+06  3.030247e+07  -2.610518e+07\n",
       "@tylerreddick    1.178816e+07  0.000000e+00  -6.564671e+03\n",
       "@twittersport   -2.027826e+07 -5.099745e+07   5.464286e+07\n",
       "@wnba           -1.498657e+07  0.000000e+00   0.000000e+00\n",
       "@mac11          -7.881703e+07  7.632742e+07   0.000000e+00\n",
       "´                2.486488e+07 -3.985410e+06   0.000000e+00\n",
       "@teamhendrick   -3.770606e+06  1.891889e+07  -1.525735e+07\n",
       "@austindillon3   1.850273e+06  0.000000e+00  -7.234881e+06\n",
       "@chiney321      -1.221639e+07  0.000000e+00   8.039147e+07\n",
       "@nascar         -3.005166e+07 -6.081044e+07   5.376207e+07\n",
       "@danielhemric    2.139733e+07  0.000000e+00  -1.567521e+07\n",
       "@rcrrac          6.937030e+06  0.000000e+00  -1.411614e+07\n",
       "@kylekuzma       3.210018e+07 -1.123567e+06   0.000000e+00\n",
       "@luka7doncic     2.224954e+07  0.000000e+00   0.000000e+00"
      ]
     },
     "execution_count": 156,
     "metadata": {},
     "output_type": "execute_result"
    }
   ],
   "source": [
    "above_average = weightsdf[weightsdf[\"Above_Average\"] != 0]\n",
    "above_average"
   ]
  },
  {
   "cell_type": "code",
   "execution_count": 158,
   "metadata": {},
   "outputs": [
    {
     "name": "stderr",
     "output_type": "stream",
     "text": [
      "/home/jtillis0317/anaconda3/lib/python3.7/site-packages/ipykernel_launcher.py:7: SettingWithCopyWarning: \n",
      "A value is trying to be set on a copy of a slice from a DataFrame.\n",
      "Try using .loc[row_indexer,col_indexer] = value instead\n",
      "\n",
      "See the caveats in the documentation: http://pandas.pydata.org/pandas-docs/stable/indexing.html#indexing-view-versus-copy\n",
      "  import sys\n"
     ]
    }
   ],
   "source": [
    "def influence_type(score):\n",
    "    if score > 0:\n",
    "        return 1\n",
    "    else: \n",
    "        return 0\n",
    "\n",
    "above_average[\"Positive_Influence\"] = above_average[\"Above_Average\"].apply(influence_type)"
   ]
  },
  {
   "cell_type": "code",
   "execution_count": 159,
   "metadata": {},
   "outputs": [
    {
     "data": {
      "text/html": [
       "<div>\n",
       "<style scoped>\n",
       "    .dataframe tbody tr th:only-of-type {\n",
       "        vertical-align: middle;\n",
       "    }\n",
       "\n",
       "    .dataframe tbody tr th {\n",
       "        vertical-align: top;\n",
       "    }\n",
       "\n",
       "    .dataframe thead th {\n",
       "        text-align: right;\n",
       "    }\n",
       "</style>\n",
       "<table border=\"1\" class=\"dataframe\">\n",
       "  <thead>\n",
       "    <tr style=\"text-align: right;\">\n",
       "      <th></th>\n",
       "      <th>Above_Average</th>\n",
       "      <th>Average</th>\n",
       "      <th>Below_Average</th>\n",
       "      <th>Positive_Influence</th>\n",
       "    </tr>\n",
       "  </thead>\n",
       "  <tbody>\n",
       "    <tr>\n",
       "      <th>@nbakick</th>\n",
       "      <td>4.612795e+06</td>\n",
       "      <td>-9.929788e+06</td>\n",
       "      <td>-1.015466e+08</td>\n",
       "      <td>1</td>\n",
       "    </tr>\n",
       "    <tr>\n",
       "      <th>@nba</th>\n",
       "      <td>1.344059e+08</td>\n",
       "      <td>-6.757182e+07</td>\n",
       "      <td>0.000000e+00</td>\n",
       "      <td>1</td>\n",
       "    </tr>\n",
       "    <tr>\n",
       "      <th>@nikolavucevic</th>\n",
       "      <td>-6.170529e+06</td>\n",
       "      <td>3.030247e+07</td>\n",
       "      <td>-2.610518e+07</td>\n",
       "      <td>0</td>\n",
       "    </tr>\n",
       "    <tr>\n",
       "      <th>@tylerreddick</th>\n",
       "      <td>1.178816e+07</td>\n",
       "      <td>0.000000e+00</td>\n",
       "      <td>-6.564671e+03</td>\n",
       "      <td>1</td>\n",
       "    </tr>\n",
       "    <tr>\n",
       "      <th>@twittersport</th>\n",
       "      <td>-2.027826e+07</td>\n",
       "      <td>-5.099745e+07</td>\n",
       "      <td>5.464286e+07</td>\n",
       "      <td>0</td>\n",
       "    </tr>\n",
       "    <tr>\n",
       "      <th>@wnba</th>\n",
       "      <td>-1.498657e+07</td>\n",
       "      <td>0.000000e+00</td>\n",
       "      <td>0.000000e+00</td>\n",
       "      <td>0</td>\n",
       "    </tr>\n",
       "    <tr>\n",
       "      <th>@mac11</th>\n",
       "      <td>-7.881703e+07</td>\n",
       "      <td>7.632742e+07</td>\n",
       "      <td>0.000000e+00</td>\n",
       "      <td>0</td>\n",
       "    </tr>\n",
       "    <tr>\n",
       "      <th>´</th>\n",
       "      <td>2.486488e+07</td>\n",
       "      <td>-3.985410e+06</td>\n",
       "      <td>0.000000e+00</td>\n",
       "      <td>1</td>\n",
       "    </tr>\n",
       "    <tr>\n",
       "      <th>@teamhendrick</th>\n",
       "      <td>-3.770606e+06</td>\n",
       "      <td>1.891889e+07</td>\n",
       "      <td>-1.525735e+07</td>\n",
       "      <td>0</td>\n",
       "    </tr>\n",
       "    <tr>\n",
       "      <th>@austindillon3</th>\n",
       "      <td>1.850273e+06</td>\n",
       "      <td>0.000000e+00</td>\n",
       "      <td>-7.234881e+06</td>\n",
       "      <td>1</td>\n",
       "    </tr>\n",
       "    <tr>\n",
       "      <th>@chiney321</th>\n",
       "      <td>-1.221639e+07</td>\n",
       "      <td>0.000000e+00</td>\n",
       "      <td>8.039147e+07</td>\n",
       "      <td>0</td>\n",
       "    </tr>\n",
       "    <tr>\n",
       "      <th>@nascar</th>\n",
       "      <td>-3.005166e+07</td>\n",
       "      <td>-6.081044e+07</td>\n",
       "      <td>5.376207e+07</td>\n",
       "      <td>0</td>\n",
       "    </tr>\n",
       "    <tr>\n",
       "      <th>@danielhemric</th>\n",
       "      <td>2.139733e+07</td>\n",
       "      <td>0.000000e+00</td>\n",
       "      <td>-1.567521e+07</td>\n",
       "      <td>1</td>\n",
       "    </tr>\n",
       "    <tr>\n",
       "      <th>@rcrrac</th>\n",
       "      <td>6.937030e+06</td>\n",
       "      <td>0.000000e+00</td>\n",
       "      <td>-1.411614e+07</td>\n",
       "      <td>1</td>\n",
       "    </tr>\n",
       "    <tr>\n",
       "      <th>@kylekuzma</th>\n",
       "      <td>3.210018e+07</td>\n",
       "      <td>-1.123567e+06</td>\n",
       "      <td>0.000000e+00</td>\n",
       "      <td>1</td>\n",
       "    </tr>\n",
       "    <tr>\n",
       "      <th>@luka7doncic</th>\n",
       "      <td>2.224954e+07</td>\n",
       "      <td>0.000000e+00</td>\n",
       "      <td>0.000000e+00</td>\n",
       "      <td>1</td>\n",
       "    </tr>\n",
       "  </tbody>\n",
       "</table>\n",
       "</div>"
      ],
      "text/plain": [
       "                Above_Average       Average  Below_Average  Positive_Influence\n",
       "@nbakick         4.612795e+06 -9.929788e+06  -1.015466e+08                   1\n",
       "@nba             1.344059e+08 -6.757182e+07   0.000000e+00                   1\n",
       "@nikolavucevic  -6.170529e+06  3.030247e+07  -2.610518e+07                   0\n",
       "@tylerreddick    1.178816e+07  0.000000e+00  -6.564671e+03                   1\n",
       "@twittersport   -2.027826e+07 -5.099745e+07   5.464286e+07                   0\n",
       "@wnba           -1.498657e+07  0.000000e+00   0.000000e+00                   0\n",
       "@mac11          -7.881703e+07  7.632742e+07   0.000000e+00                   0\n",
       "´                2.486488e+07 -3.985410e+06   0.000000e+00                   1\n",
       "@teamhendrick   -3.770606e+06  1.891889e+07  -1.525735e+07                   0\n",
       "@austindillon3   1.850273e+06  0.000000e+00  -7.234881e+06                   1\n",
       "@chiney321      -1.221639e+07  0.000000e+00   8.039147e+07                   0\n",
       "@nascar         -3.005166e+07 -6.081044e+07   5.376207e+07                   0\n",
       "@danielhemric    2.139733e+07  0.000000e+00  -1.567521e+07                   1\n",
       "@rcrrac          6.937030e+06  0.000000e+00  -1.411614e+07                   1\n",
       "@kylekuzma       3.210018e+07 -1.123567e+06   0.000000e+00                   1\n",
       "@luka7doncic     2.224954e+07  0.000000e+00   0.000000e+00                   1"
      ]
     },
     "execution_count": 159,
     "metadata": {},
     "output_type": "execute_result"
    }
   ],
   "source": [
    "above_average"
   ]
  },
  {
   "cell_type": "code",
   "execution_count": 160,
   "metadata": {},
   "outputs": [],
   "source": [
    "positive_important_features = list(above_average[above_average[\"Positive_Influence\"] == 1].index)\n",
    "negative_important_features = list(above_average[above_average[\"Positive_Influence\"] == 0].index)"
   ]
  },
  {
   "cell_type": "code",
   "execution_count": 161,
   "metadata": {},
   "outputs": [
    {
     "name": "stdout",
     "output_type": "stream",
     "text": [
      "Most important POSITIVE features of an above average tweet:  ['@nbakick', '@nba', '@tylerreddick', '´', '@austindillon3', '@danielhemric', '@rcrrac', '@kylekuzma', '@luka7doncic']\n",
      "Most important NEGATIVE features of an above average tweet:  ['@nikolavucevic', '@twittersport', '@wnba', '@mac11', '@teamhendrick', '@chiney321', '@nascar']\n"
     ]
    }
   ],
   "source": [
    "#most important features for above average percent likes\n",
    "\n",
    "print(\"Most important POSITIVE features of an above average tweet: \", positive_important_features)\n",
    "print(\"Most important NEGATIVE features of an above average tweet: \", negative_important_features)\n"
   ]
  },
  {
   "cell_type": "code",
   "execution_count": null,
   "metadata": {},
   "outputs": [],
   "source": []
  }
 ],
 "metadata": {
  "kernelspec": {
   "display_name": "Python 3",
   "language": "python",
   "name": "python3"
  },
  "language_info": {
   "codemirror_mode": {
    "name": "ipython",
    "version": 3
   },
   "file_extension": ".py",
   "mimetype": "text/x-python",
   "name": "python",
   "nbconvert_exporter": "python",
   "pygments_lexer": "ipython3",
   "version": "3.7.1"
  }
 },
 "nbformat": 4,
 "nbformat_minor": 2
}
